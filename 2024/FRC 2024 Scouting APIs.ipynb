{
 "cells": [
  {
   "cell_type": "code",
   "execution_count": 1,
   "id": "5e6d5e8d-09f1-44f7-84cb-3faac2279a6a",
   "metadata": {},
   "outputs": [],
   "source": [
    "import tbapy\n",
    "import pandas as pd\n",
    "from itertools import permutations, combinations, chain\n",
    "import os \n",
    "import collections\n",
    "import base64\n",
    "import statbotics"
   ]
  },
  {
   "cell_type": "code",
   "execution_count": 2,
   "id": "ae99465c-b072-4900-9dc1-16b841855dd8",
   "metadata": {},
   "outputs": [],
   "source": [
    "tbakey = os.environ.get('tbakey')\n",
    "tba = tbapy.TBA(tbakey)\n",
    "sb = statbotics.Statbotics()"
   ]
  },
  {
   "cell_type": "code",
   "execution_count": 3,
   "id": "8f8b690c-40c6-499c-bde3-e4ef1a399841",
   "metadata": {},
   "outputs": [],
   "source": [
    "event = '2024onwat'"
   ]
  },
  {
   "cell_type": "code",
   "execution_count": 4,
   "id": "d0369ed1",
   "metadata": {},
   "outputs": [],
   "source": [
    "# data = []\n",
    "# for i in tba.events(2024):\n",
    "#     if (i['week'] == 0 and i['end_date'] <= '2024-03-03'):\n",
    "#         eventkey = i['key']\n",
    "#         for j in tba.event_matches(eventkey):\n",
    "#             if j['actual_time'] is not None:\n",
    "#                 eventinfo = [i['short_name'], eventkey]\n",
    "#                 match = [j['comp_level'], j['match_number']]\n",
    "                \n",
    "#                 bluedata = j['score_breakdown']['blue']\n",
    "#                 blue = ['blue', bluedata['teleopAmpNoteCount'], bluedata['teleopSpeakerNoteCount'], bluedata['teleopSpeakerNoteAmplifiedCount'], bluedata['totalPoints']]\n",
    "#                 bluewin = [(j['winning_alliance'] == 'blue')*1]\n",
    "                \n",
    "#                 reddata = j['score_breakdown']['red']\n",
    "#                 red = ['red', reddata['teleopAmpNoteCount'], reddata['teleopSpeakerNoteCount'], reddata['teleopSpeakerNoteAmplifiedCount'], reddata['totalPoints']]\n",
    "#                 redwin = [(j['winning_alliance'] == 'red')*1]\n",
    "                \n",
    "                \n",
    "#                 data += [list(chain(eventinfo, match, blue, bluewin))]\n",
    "#                 data += [list(chain(eventinfo, match, red, redwin))]\n",
    "# df = pd.DataFrame(data, columns = ['EventName', 'EventKey', 'MatchLevel', 'MatchNumber', 'Alliance', 'TeleopAmpCount', 'TeleopSpeakerUnAmplifiedCount', 'TeleopSpeakerAmplifiedCount', 'Points', 'Win'])    "
   ]
  },
  {
   "cell_type": "code",
   "execution_count": 5,
   "id": "7b2644ee",
   "metadata": {},
   "outputs": [],
   "source": [
    "# data = []\n",
    "# for j in tba.event_matches(event):\n",
    "#     if j['actual_time'] is not None:\n",
    "#         eventinfo = [tba.event(event)['short_name'], event]\n",
    "#         match = [j['comp_level'], j['match_number']]\n",
    "#         bluedata = j['score_breakdown']['blue']\n",
    "#         blue = ['blue', bluedata['teleopAmpNoteCount'], bluedata['teleopSpeakerNoteCount'] - bluedata['teleopSpeakerNoteAmplifiedCount'], bluedata['teleopSpeakerNoteAmplifiedCount'], bluedata['totalPoints']]\n",
    "#         bluewin = [(j['winning_alliance'] == 'blue')*1]\n",
    "#         data += [list(chain(eventinfo, match, blue, bluewin))]\n",
    "# df = pd.DataFrame(data, columns = ['EventName', 'EventKey', 'MatchLevel', 'MatchNumber', 'Alliance', 'TeleopAmpCount', 'TeleopSpeakerUnAmplifiedCount', 'TeleopSpeakerAmplifiedCount', 'Points', 'Win'])"
   ]
  },
  {
   "cell_type": "code",
   "execution_count": 6,
   "id": "f1ac2c43-0f2e-4a37-8c59-37991fc4995b",
   "metadata": {},
   "outputs": [],
   "source": [
    "# df.to_csv('2024_week1_amplified_ouput.csv', index=False)"
   ]
  },
  {
   "cell_type": "code",
   "execution_count": 7,
   "id": "4574b06c-728f-4922-a97f-5720735c51af",
   "metadata": {
    "scrolled": true
   },
   "outputs": [
    {
     "name": "stdout",
     "output_type": "stream",
     "text": [
      "Match({'actual_time': 1711145584, 'alliances': {'blue': {'dq_team_keys': [], 'score': 57, 'surrogate_team_keys': [], 'team_keys': ['frc3756', 'frc6992', 'frc4476']}, 'red': {'dq_team_keys': [], 'score': 55, 'surrogate_team_keys': [], 'team_keys': ['frc1360', 'frc9659', 'frc6162']}}, 'comp_level': 'qm', 'event_key': '2024onwat', 'key': '2024onwat_qm38', 'match_number': 38, 'post_result_time': 1711145808, 'predicted_time': 1711156125, 'score_breakdown': {'blue': {'adjustPoints': 0, 'autoAmpNoteCount': 0, 'autoAmpNotePoints': 0, 'autoLeavePoints': 2, 'autoLineRobot1': 'No', 'autoLineRobot2': 'No', 'autoLineRobot3': 'Yes', 'autoPoints': 12, 'autoSpeakerNoteCount': 2, 'autoSpeakerNotePoints': 10, 'autoTotalNotePoints': 10, 'coopNotePlayed': True, 'coopertitionBonusAchieved': True, 'coopertitionCriteriaMet': True, 'endGameHarmonyPoints': 0, 'endGameNoteInTrapPoints': 0, 'endGameOnStagePoints': 3, 'endGameParkPoints': 2, 'endGameRobot1': 'StageLeft', 'endGameRobot2': 'Parked', 'endGameRobot3': 'Parked', 'endGameSpotLightBonusPoints': 0, 'endGameTotalStagePoints': 5, 'ensembleBonusAchieved': False, 'ensembleBonusOnStageRobotsThreshold': 2, 'ensembleBonusStagePointsThreshold': 10, 'foulCount': 0, 'foulPoints': 0, 'g206Penalty': False, 'g408Penalty': False, 'g424Penalty': False, 'melodyBonusAchieved': True, 'melodyBonusThreshold': 15, 'melodyBonusThresholdCoop': 15, 'melodyBonusThresholdNonCoop': 18, 'micCenterStage': False, 'micStageLeft': False, 'micStageRight': False, 'rp': 3, 'techFoulCount': 2, 'teleopAmpNoteCount': 5, 'teleopAmpNotePoints': 5, 'teleopPoints': 45, 'teleopSpeakerNoteAmplifiedCount': 5, 'teleopSpeakerNoteAmplifiedPoints': 25, 'teleopSpeakerNoteCount': 5, 'teleopSpeakerNotePoints': 10, 'teleopTotalNotePoints': 40, 'totalPoints': 57, 'trapCenterStage': False, 'trapStageLeft': False, 'trapStageRight': False}, 'red': {'adjustPoints': 0, 'autoAmpNoteCount': 0, 'autoAmpNotePoints': 0, 'autoLeavePoints': 4, 'autoLineRobot1': 'Yes', 'autoLineRobot2': 'No', 'autoLineRobot3': 'Yes', 'autoPoints': 19, 'autoSpeakerNoteCount': 3, 'autoSpeakerNotePoints': 15, 'autoTotalNotePoints': 15, 'coopNotePlayed': True, 'coopertitionBonusAchieved': True, 'coopertitionCriteriaMet': True, 'endGameHarmonyPoints': 0, 'endGameNoteInTrapPoints': 0, 'endGameOnStagePoints': 0, 'endGameParkPoints': 3, 'endGameRobot1': 'Parked', 'endGameRobot2': 'Parked', 'endGameRobot3': 'Parked', 'endGameSpotLightBonusPoints': 0, 'endGameTotalStagePoints': 3, 'ensembleBonusAchieved': False, 'ensembleBonusOnStageRobotsThreshold': 2, 'ensembleBonusStagePointsThreshold': 10, 'foulCount': 0, 'foulPoints': 10, 'g206Penalty': False, 'g408Penalty': False, 'g424Penalty': False, 'melodyBonusAchieved': True, 'melodyBonusThreshold': 15, 'melodyBonusThresholdCoop': 15, 'melodyBonusThresholdNonCoop': 18, 'micCenterStage': False, 'micStageLeft': True, 'micStageRight': False, 'rp': 1, 'techFoulCount': 0, 'teleopAmpNoteCount': 1, 'teleopAmpNotePoints': 1, 'teleopPoints': 26, 'teleopSpeakerNoteAmplifiedCount': 0, 'teleopSpeakerNoteAmplifiedPoints': 0, 'teleopSpeakerNoteCount': 11, 'teleopSpeakerNotePoints': 22, 'teleopTotalNotePoints': 23, 'totalPoints': 55, 'trapCenterStage': False, 'trapStageLeft': False, 'trapStageRight': False}}, 'set_number': 1, 'time': 1711145700, 'videos': [{'key': 'OiHe5Nec9m4', 'type': 'youtube'}, {'key': 'fE9aO3vtTY4', 'type': 'youtube'}], 'winning_alliance': 'blue'})\n"
     ]
    }
   ],
   "source": [
    "print(tba.event_matches(event)[34])"
   ]
  },
  {
   "cell_type": "code",
   "execution_count": 8,
   "id": "f247cf59-6ca9-49a5-a670-21762fd50a69",
   "metadata": {},
   "outputs": [
    {
     "name": "stdout",
     "output_type": "stream",
     "text": [
      "Teleop Notes Scored in Speaker\n"
     ]
    },
    {
     "data": {
      "text/plain": [
       "{'frc6978': 119,\n",
       " 'frc5912': 114,\n",
       " 'frc8089': 95,\n",
       " 'frc6070': 95,\n",
       " 'frc9562': 88,\n",
       " 'frc772': 82,\n",
       " 'frc9659': 81,\n",
       " 'frc7022': 75,\n",
       " 'frc1360': 75,\n",
       " 'frc2702': 75,\n",
       " 'frc6162': 74,\n",
       " 'frc2609': 73,\n",
       " 'frc7509': 71,\n",
       " 'frc4617': 69,\n",
       " 'frc3739': 67,\n",
       " 'frc9663': 65,\n",
       " 'frc6875': 64,\n",
       " 'frc8765': 60,\n",
       " 'frc6992': 59,\n",
       " 'frc9525': 57,\n",
       " 'frc3756': 57,\n",
       " 'frc4917': 56,\n",
       " 'frc4903': 56,\n",
       " 'frc4476': 54,\n",
       " 'frc5024': 53,\n",
       " 'frc7722': 51,\n",
       " 'frc4678': 47,\n",
       " 'frc9062': 44,\n",
       " 'frc3683': 42,\n",
       " 'frc6725': 40}"
      ]
     },
     "execution_count": 8,
     "metadata": {},
     "output_type": "execute_result"
    }
   ],
   "source": [
    "list1 = []\n",
    "for i in tba.event_matches(event):\n",
    "    if i['comp_level'] == 'qm':\n",
    "        teamb1 = i['alliances']['blue']['team_keys'][0]\n",
    "        teamb2 = i['alliances']['blue']['team_keys'][1]\n",
    "        teamb3 = i['alliances']['blue']['team_keys'][2]\n",
    "        teamr1 = i['alliances']['red']['team_keys'][0]\n",
    "        teamr2 = i['alliances']['red']['team_keys'][1]\n",
    "        teamr3 = i['alliances']['red']['team_keys'][2]\n",
    "        \n",
    "\n",
    "        foulb1 = i['score_breakdown']['blue']['teleopSpeakerNoteCount']\n",
    "        foulb2 = i['score_breakdown']['blue']['teleopSpeakerNoteCount']\n",
    "        foulb3 = i['score_breakdown']['blue']['teleopSpeakerNoteCount']\n",
    "        foulr1 = i['score_breakdown']['red']['teleopSpeakerNoteCount']\n",
    "        foulr2 = i['score_breakdown']['red']['teleopSpeakerNoteCount']\n",
    "        foulr3 = i['score_breakdown']['red']['teleopSpeakerNoteCount']\n",
    "        \n",
    "        dict1 = { teamb1:foulb1\n",
    "                , teamb2:foulb2\n",
    "                , teamb3:foulb3\n",
    "                , teamr1:foulr1\n",
    "                , teamr2:foulr2\n",
    "                , teamr3:foulr3}\n",
    "        list1.append(dict1)\n",
    "counter = collections.Counter()\n",
    "for d in list1:\n",
    "    counter.update(d)\n",
    "\n",
    "res = dict(sorted(counter.items(), key=lambda item: item[1], reverse=True))\n",
    "\n",
    "print('Teleop Notes Scored in Speaker')\n",
    "res"
   ]
  },
  {
   "cell_type": "code",
   "execution_count": 9,
   "id": "a5042e10-92a2-4971-a38c-a32ebb990f59",
   "metadata": {},
   "outputs": [
    {
     "name": "stdout",
     "output_type": "stream",
     "text": [
      "Teleop Notes Scored in Amp\n"
     ]
    },
    {
     "data": {
      "text/plain": [
       "{'frc3683': 79,\n",
       " 'frc4678': 76,\n",
       " 'frc4917': 75,\n",
       " 'frc5024': 71,\n",
       " 'frc4476': 69,\n",
       " 'frc9062': 67,\n",
       " 'frc4903': 56,\n",
       " 'frc2609': 54,\n",
       " 'frc3756': 52,\n",
       " 'frc8089': 51,\n",
       " 'frc1360': 49,\n",
       " 'frc2702': 48,\n",
       " 'frc3739': 48,\n",
       " 'frc6725': 47,\n",
       " 'frc6992': 46,\n",
       " 'frc9562': 43,\n",
       " 'frc7722': 43,\n",
       " 'frc6162': 41,\n",
       " 'frc4617': 41,\n",
       " 'frc772': 41,\n",
       " 'frc7022': 40,\n",
       " 'frc9525': 37,\n",
       " 'frc8765': 37,\n",
       " 'frc9659': 36,\n",
       " 'frc6978': 36,\n",
       " 'frc6875': 35,\n",
       " 'frc7509': 34,\n",
       " 'frc5912': 31,\n",
       " 'frc6070': 31,\n",
       " 'frc9663': 29}"
      ]
     },
     "execution_count": 9,
     "metadata": {},
     "output_type": "execute_result"
    }
   ],
   "source": [
    "list1 = []\n",
    "for i in tba.event_matches(event):\n",
    "    if i['comp_level'] == 'qm':\n",
    "        teamb1 = i['alliances']['blue']['team_keys'][0]\n",
    "        teamb2 = i['alliances']['blue']['team_keys'][1]\n",
    "        teamb3 = i['alliances']['blue']['team_keys'][2]\n",
    "        teamr1 = i['alliances']['red']['team_keys'][0]\n",
    "        teamr2 = i['alliances']['red']['team_keys'][1]\n",
    "        teamr3 = i['alliances']['red']['team_keys'][2]\n",
    "        \n",
    "        foulb1 = i['score_breakdown']['blue']['teleopAmpNoteCount']\n",
    "        foulb2 = i['score_breakdown']['blue']['teleopAmpNoteCount']\n",
    "        foulb3 = i['score_breakdown']['blue']['teleopAmpNoteCount']\n",
    "        foulr1 = i['score_breakdown']['red']['teleopAmpNoteCount']\n",
    "        foulr2 = i['score_breakdown']['red']['teleopAmpNoteCount']\n",
    "        foulr3 = i['score_breakdown']['red']['teleopAmpNoteCount']\n",
    "        \n",
    "        dict1 = { teamb1:foulb1\n",
    "                , teamb2:foulb2\n",
    "                , teamb3:foulb3\n",
    "                , teamr1:foulr1\n",
    "                , teamr2:foulr2\n",
    "                , teamr3:foulr3}\n",
    "        list1.append(dict1)\n",
    "counter = collections.Counter()\n",
    "for d in list1:\n",
    "    counter.update(d)\n",
    "\n",
    "res = dict(sorted(counter.items(), key=lambda item: item[1], reverse=True))\n",
    "\n",
    "print('Teleop Notes Scored in Amp')\n",
    "res"
   ]
  },
  {
   "cell_type": "code",
   "execution_count": 10,
   "id": "06b99989-62f0-400e-af3d-36da3ca82377",
   "metadata": {},
   "outputs": [
    {
     "name": "stdout",
     "output_type": "stream",
     "text": [
      "Notes Scored\n"
     ]
    },
    {
     "data": {
      "text/plain": [
       "{'frc6978': 206,\n",
       " 'frc5912': 193,\n",
       " 'frc8089': 190,\n",
       " 'frc3683': 187,\n",
       " 'frc5024': 184,\n",
       " 'frc4678': 182,\n",
       " 'frc4917': 180,\n",
       " 'frc9562': 171,\n",
       " 'frc2609': 168,\n",
       " 'frc9062': 165,\n",
       " 'frc6070': 165,\n",
       " 'frc1360': 164,\n",
       " 'frc7022': 161,\n",
       " 'frc4476': 159,\n",
       " 'frc2702': 159,\n",
       " 'frc772': 156,\n",
       " 'frc6162': 155,\n",
       " 'frc4903': 155,\n",
       " 'frc3739': 155,\n",
       " 'frc9659': 154,\n",
       " 'frc7509': 149,\n",
       " 'frc6992': 145,\n",
       " 'frc4617': 142,\n",
       " 'frc3756': 139,\n",
       " 'frc7722': 133,\n",
       " 'frc6875': 131,\n",
       " 'frc8765': 129,\n",
       " 'frc9525': 128,\n",
       " 'frc9663': 126,\n",
       " 'frc6725': 115}"
      ]
     },
     "execution_count": 10,
     "metadata": {},
     "output_type": "execute_result"
    }
   ],
   "source": [
    "list1 = []\n",
    "for i in tba.event_matches(event):\n",
    "    if i['comp_level'] == 'qm':\n",
    "        teamb1 = i['alliances']['blue']['team_keys'][0]\n",
    "        teamb2 = i['alliances']['blue']['team_keys'][1]\n",
    "        teamb3 = i['alliances']['blue']['team_keys'][2]\n",
    "        teamr1 = i['alliances']['red']['team_keys'][0]\n",
    "        teamr2 = i['alliances']['red']['team_keys'][1]\n",
    "        teamr3 = i['alliances']['red']['team_keys'][2]\n",
    "\n",
    "        foulb1 = i['score_breakdown']['blue']['autoAmpNoteCount'] + i['score_breakdown']['blue']['teleopAmpNoteCount'] + i['score_breakdown']['blue']['autoSpeakerNoteCount'] + i['score_breakdown']['blue']['teleopSpeakerNoteCount']\n",
    "        foulb2 = i['score_breakdown']['blue']['autoAmpNoteCount'] + i['score_breakdown']['blue']['teleopAmpNoteCount'] + i['score_breakdown']['blue']['autoSpeakerNoteCount'] + i['score_breakdown']['blue']['teleopSpeakerNoteCount']\n",
    "        foulb3 = i['score_breakdown']['blue']['autoAmpNoteCount'] + i['score_breakdown']['blue']['teleopAmpNoteCount'] + i['score_breakdown']['blue']['autoSpeakerNoteCount'] + i['score_breakdown']['blue']['teleopSpeakerNoteCount']\n",
    "        foulr1 = i['score_breakdown']['red']['autoAmpNoteCount'] + i['score_breakdown']['red']['teleopAmpNoteCount'] + i['score_breakdown']['red']['autoSpeakerNoteCount'] + i['score_breakdown']['red']['teleopSpeakerNoteCount']\n",
    "        foulr2 = i['score_breakdown']['red']['autoAmpNoteCount'] + i['score_breakdown']['red']['teleopAmpNoteCount'] + i['score_breakdown']['red']['autoSpeakerNoteCount'] + i['score_breakdown']['red']['teleopSpeakerNoteCount']\n",
    "        foulr3 = i['score_breakdown']['red']['autoAmpNoteCount'] + i['score_breakdown']['red']['teleopAmpNoteCount'] + i['score_breakdown']['red']['autoSpeakerNoteCount'] + i['score_breakdown']['red']['teleopSpeakerNoteCount']\n",
    "               \n",
    "        dict1 = { teamb1:foulb1\n",
    "                , teamb2:foulb2\n",
    "                , teamb3:foulb3\n",
    "                , teamr1:foulr1\n",
    "                , teamr2:foulr2\n",
    "                , teamr3:foulr3}\n",
    "        list1.append(dict1)\n",
    "counter = collections.Counter()\n",
    "for d in list1:\n",
    "    counter.update(d)\n",
    "\n",
    "res = dict(sorted(counter.items(), key=lambda item: item[1], reverse=True))\n",
    "\n",
    "print('Notes Scored')\n",
    "res"
   ]
  },
  {
   "cell_type": "code",
   "execution_count": 11,
   "id": "7c37b076-15d8-4d8d-92e2-d5147f12d6f4",
   "metadata": {},
   "outputs": [
    {
     "name": "stdout",
     "output_type": "stream",
     "text": [
      "End Game Pts\n"
     ]
    },
    {
     "data": {
      "text/plain": [
       "{'frc4678': 31,\n",
       " 'frc7722': 28,\n",
       " 'frc3683': 27,\n",
       " 'frc6992': 25,\n",
       " 'frc5912': 25,\n",
       " 'frc2702': 25,\n",
       " 'frc4917': 23,\n",
       " 'frc9525': 23,\n",
       " 'frc4476': 23,\n",
       " 'frc1360': 22,\n",
       " 'frc8089': 22,\n",
       " 'frc7509': 21,\n",
       " 'frc6070': 21,\n",
       " 'frc2609': 20,\n",
       " 'frc5024': 20,\n",
       " 'frc3756': 17,\n",
       " 'frc772': 15,\n",
       " 'frc9062': 15,\n",
       " 'frc7022': 14,\n",
       " 'frc9562': 13,\n",
       " 'frc9659': 10,\n",
       " 'frc6725': 9,\n",
       " 'frc6875': 9,\n",
       " 'frc4903': 9,\n",
       " 'frc9663': 9,\n",
       " 'frc6162': 8,\n",
       " 'frc4617': 8,\n",
       " 'frc3739': 8,\n",
       " 'frc6978': 7,\n",
       " 'frc8765': 7}"
      ]
     },
     "execution_count": 11,
     "metadata": {},
     "output_type": "execute_result"
    }
   ],
   "source": [
    "def endgame_pts(value):\n",
    "    if value == 'Parked': \n",
    "        return 1\n",
    "    elif value in ('StageLeft', 'CenterStage', 'StageRight'): \n",
    "        return 3\n",
    "    else: \n",
    "        return 0\n",
    "\n",
    "list1 = []\n",
    "for i in tba.event_matches(event):\n",
    "    if i['comp_level'] == 'qm':\n",
    "        teamb1 = i['alliances']['blue']['team_keys'][0]\n",
    "        teamb2 = i['alliances']['blue']['team_keys'][1]\n",
    "        teamb3 = i['alliances']['blue']['team_keys'][2]\n",
    "        teamr1 = i['alliances']['red']['team_keys'][0]\n",
    "        teamr2 = i['alliances']['red']['team_keys'][1]\n",
    "        teamr3 = i['alliances']['red']['team_keys'][2]\n",
    "        \n",
    "        endb1 = endgame_pts(i['score_breakdown']['blue']['endGameRobot1'])\n",
    "        endb2 = endgame_pts(i['score_breakdown']['blue']['endGameRobot2'])\n",
    "        endb3 = endgame_pts(i['score_breakdown']['blue']['endGameRobot3'])\n",
    "        endr1 = endgame_pts(i['score_breakdown']['red']['endGameRobot1'])\n",
    "        endr2 = endgame_pts(i['score_breakdown']['red']['endGameRobot2'])\n",
    "        endr3 = endgame_pts(i['score_breakdown']['red']['endGameRobot3'])\n",
    "        \n",
    "        dict1 = { teamb1:endb1\n",
    "                , teamb2:endb2\n",
    "                , teamb3:endb3\n",
    "                , teamr1:endr1\n",
    "                , teamr2:endr2\n",
    "                , teamr3:endr3}\n",
    "        list1.append(dict1)\n",
    "\n",
    "counter = collections.Counter()\n",
    "for d in list1:\n",
    "    counter.update(d)\n",
    "    \n",
    "res = dict(sorted(counter.items(), key=lambda item: item[1], reverse=True))\n",
    "\n",
    "print('End Game Pts')\n",
    "res"
   ]
  },
  {
   "cell_type": "code",
   "execution_count": 12,
   "id": "1c3ff367-0ce8-471d-b590-3a646d70df5c",
   "metadata": {},
   "outputs": [
    {
     "name": "stdout",
     "output_type": "stream",
     "text": [
      "2024onwat\n",
      "G424 violations: 10\n",
      "Ensembles: 17\n",
      "Total opportunities: 120\n"
     ]
    }
   ],
   "source": [
    "penalty = 0\n",
    "total = 0\n",
    "end = 0\n",
    "for i in tba.event_matches(event):\n",
    "    if (i['comp_level'] == 'qm' and i['actual_time'] is not None):\n",
    "        blue = i['score_breakdown']['blue']['g424Penalty']*1\n",
    "        red = i['score_breakdown']['red']['g424Penalty']*1\n",
    "        blue_end = i['score_breakdown']['blue']['ensembleBonusAchieved']*1\n",
    "        red_end = i['score_breakdown']['red']['ensembleBonusAchieved']*1\n",
    "        penalty += blue + red\n",
    "        end += blue_end + red_end\n",
    "        total += 2\n",
    "\n",
    "print(event)\n",
    "print('G424 violations:', penalty)\n",
    "print('Ensembles:', end)\n",
    "print('Total opportunities:', total)"
   ]
  },
  {
   "cell_type": "code",
   "execution_count": 17,
   "id": "d74e3847-4b69-410d-b807-9434ca0932a3",
   "metadata": {},
   "outputs": [
    {
     "name": "stdout",
     "output_type": "stream",
     "text": [
      "Most High Notes Scored (Microphone)\n"
     ]
    },
    {
     "data": {
      "text/plain": [
       "{'frc3739': 9,\n",
       " 'frc9659': 7,\n",
       " 'frc7509': 6,\n",
       " 'frc9663': 6,\n",
       " 'frc1360': 5,\n",
       " 'frc4678': 5,\n",
       " 'frc6992': 4,\n",
       " 'frc6875': 4,\n",
       " 'frc6162': 4,\n",
       " 'frc8089': 4,\n",
       " 'frc6070': 4,\n",
       " 'frc7722': 4,\n",
       " 'frc2609': 3,\n",
       " 'frc4917': 3,\n",
       " 'frc7022': 3,\n",
       " 'frc6978': 3,\n",
       " 'frc2702': 3,\n",
       " 'frc9525': 2,\n",
       " 'frc5912': 2,\n",
       " 'frc9562': 2,\n",
       " 'frc772': 2,\n",
       " 'frc4476': 2,\n",
       " 'frc3756': 2,\n",
       " 'frc9062': 2,\n",
       " 'frc5024': 2,\n",
       " 'frc6725': 1,\n",
       " 'frc4903': 1,\n",
       " 'frc3683': 1,\n",
       " 'frc4617': 0,\n",
       " 'frc8765': 0}"
      ]
     },
     "execution_count": 17,
     "metadata": {},
     "output_type": "execute_result"
    }
   ],
   "source": [
    "list1 = []\n",
    "for i in tba.event_matches(event):\n",
    "    if i['comp_level'] == 'qm':\n",
    "        teamb1 = i['alliances']['blue']['team_keys'][0]\n",
    "        teamb2 = i['alliances']['blue']['team_keys'][1]\n",
    "        teamb3 = i['alliances']['blue']['team_keys'][2]\n",
    "        teamr1 = i['alliances']['red']['team_keys'][0]\n",
    "        teamr2 = i['alliances']['red']['team_keys'][1]\n",
    "        teamr3 = i['alliances']['red']['team_keys'][2]\n",
    "\n",
    "        foulb1 = i['score_breakdown']['blue']['micCenterStage'] + i['score_breakdown']['blue']['micStageLeft'] + i['score_breakdown']['blue']['micStageRight']\n",
    "        foulb2 = i['score_breakdown']['blue']['micCenterStage'] + i['score_breakdown']['blue']['micStageLeft'] + i['score_breakdown']['blue']['micStageRight'] \n",
    "        foulb3 = i['score_breakdown']['blue']['micCenterStage'] + i['score_breakdown']['blue']['micStageLeft'] + i['score_breakdown']['blue']['micStageRight'] \n",
    "        foulr1 = i['score_breakdown']['red']['micCenterStage'] + i['score_breakdown']['red']['micStageLeft'] + i['score_breakdown']['red']['micStageRight'] \n",
    "        foulr2 = i['score_breakdown']['red']['micCenterStage'] + i['score_breakdown']['red']['micStageLeft'] + i['score_breakdown']['red']['micStageRight'] \n",
    "        foulr3 = i['score_breakdown']['red']['micCenterStage'] + i['score_breakdown']['red']['micStageLeft'] + i['score_breakdown']['red']['micStageRight'] \n",
    "               \n",
    "        dict1 = { teamb1:foulb1\n",
    "                , teamb2:foulb2\n",
    "                , teamb3:foulb3\n",
    "                , teamr1:foulr1\n",
    "                , teamr2:foulr2\n",
    "                , teamr3:foulr3}\n",
    "        list1.append(dict1)\n",
    "counter = collections.Counter()\n",
    "for d in list1:\n",
    "    counter.update(d)\n",
    "\n",
    "res = dict(sorted(counter.items(), key=lambda item: item[1], reverse=True))\n",
    "\n",
    "print('Most High Notes Scored (Microphone)')\n",
    "res"
   ]
  },
  {
   "cell_type": "code",
   "execution_count": 18,
   "id": "6d90e993-3d50-415e-ad88-e6bcda3bf21c",
   "metadata": {},
   "outputs": [
    {
     "name": "stdout",
     "output_type": "stream",
     "text": [
      "Top 5 Left out of Elims\n",
      "[('frc7722', 17), ('frc9663', 22), ('frc6725', 27), ('frc8765', 28), ('frc9525', 29), ('frc7509', 30)]\n"
     ]
    }
   ],
   "source": [
    "dict1 = {}\n",
    "for r in tba.event_rankings(event)['rankings']:\n",
    "    team_key = r['team_key']\n",
    "    dict1[team_key] = r['rank']\n",
    "    \n",
    "dict2 = {}\n",
    "for key, value in tba.event_district_points(event)['points'].items():\n",
    "    if (value['alliance_points'] == 0) and key != 'frcNone':\n",
    "        dict2[key] = dict1[key]\n",
    "\n",
    "print('Top 5 Left out of Elims')\n",
    "print(sorted(dict2.items(), key=lambda x:x[1]))"
   ]
  },
  {
   "cell_type": "code",
   "execution_count": 19,
   "id": "e1bce1e6",
   "metadata": {},
   "outputs": [
    {
     "name": "stdout",
     "output_type": "stream",
     "text": [
      "Last 3 Picks\n",
      "frc6875\n",
      "frc9659\n",
      "frc3756\n"
     ]
    }
   ],
   "source": [
    "print('Last 3 Picks')\n",
    "print(tba.event_alliances(event)[0]['picks'][2])\n",
    "print(tba.event_alliances(event)[1]['picks'][2])\n",
    "print(tba.event_alliances(event)[2]['picks'][2])"
   ]
  },
  {
   "cell_type": "code",
   "execution_count": 20,
   "id": "4ef2b141",
   "metadata": {},
   "outputs": [
    {
     "name": "stdout",
     "output_type": "stream",
     "text": [
      "Most stood up (in co-op)\n"
     ]
    },
    {
     "data": {
      "text/plain": [
       "{'frc4678': 4,\n",
       " 'frc6992': 3,\n",
       " 'frc7022': 3,\n",
       " 'frc7509': 3,\n",
       " 'frc6725': 2,\n",
       " 'frc4917': 2,\n",
       " 'frc6978': 2,\n",
       " 'frc772': 2,\n",
       " 'frc5024': 2,\n",
       " 'frc6070': 2,\n",
       " 'frc7722': 2,\n",
       " 'frc2609': 1,\n",
       " 'frc9525': 1,\n",
       " 'frc6875': 1,\n",
       " 'frc5912': 1,\n",
       " 'frc9562': 1,\n",
       " 'frc6162': 1,\n",
       " 'frc4903': 1,\n",
       " 'frc3756': 1,\n",
       " 'frc8089': 1,\n",
       " 'frc8765': 1,\n",
       " 'frc9062': 1,\n",
       " 'frc3683': 1,\n",
       " 'frc9659': 0,\n",
       " 'frc1360': 0,\n",
       " 'frc4617': 0,\n",
       " 'frc4476': 0,\n",
       " 'frc9663': 0,\n",
       " 'frc2702': 0,\n",
       " 'frc3739': 0}"
      ]
     },
     "execution_count": 20,
     "metadata": {},
     "output_type": "execute_result"
    }
   ],
   "source": [
    "list1 = []\n",
    "for i in tba.event_matches(event):\n",
    "    if i['comp_level'] == 'qm':\n",
    "        teamb1 = i['alliances']['blue']['team_keys'][0]\n",
    "        teamb2 = i['alliances']['blue']['team_keys'][1]\n",
    "        teamb3 = i['alliances']['blue']['team_keys'][2]\n",
    "        teamr1 = i['alliances']['red']['team_keys'][0]\n",
    "        teamr2 = i['alliances']['red']['team_keys'][1]\n",
    "        teamr3 = i['alliances']['red']['team_keys'][2]\n",
    "\n",
    "        foulb1 = 1 if i['score_breakdown']['blue']['coopertitionBonusAchieved'] + i['score_breakdown']['blue']['coopertitionCriteriaMet'] == 1 else 0\n",
    "        foulb2 = 1 if i['score_breakdown']['blue']['coopertitionBonusAchieved'] + i['score_breakdown']['blue']['coopertitionCriteriaMet'] == 1 else 0\n",
    "        foulb3 = 1 if i['score_breakdown']['blue']['coopertitionBonusAchieved'] + i['score_breakdown']['blue']['coopertitionCriteriaMet'] == 1 else 0 \n",
    "        foulr1 = 1 if i['score_breakdown']['red']['coopertitionBonusAchieved'] + i['score_breakdown']['red']['coopertitionCriteriaMet'] == 1 else 0 \n",
    "        foulr2 = 1 if i['score_breakdown']['red']['coopertitionBonusAchieved'] + i['score_breakdown']['red']['coopertitionCriteriaMet'] == 1 else 0 \n",
    "        foulr3 = 1 if i['score_breakdown']['red']['coopertitionBonusAchieved'] + i['score_breakdown']['red']['coopertitionCriteriaMet'] == 1 else 0 \n",
    "               \n",
    "        dict1 = { teamb1:foulb1\n",
    "                , teamb2:foulb2\n",
    "                , teamb3:foulb3\n",
    "                , teamr1:foulr1\n",
    "                , teamr2:foulr2\n",
    "                , teamr3:foulr3}\n",
    "        list1.append(dict1)\n",
    "counter = collections.Counter()\n",
    "for d in list1:\n",
    "    counter.update(d)\n",
    "\n",
    "res = dict(sorted(counter.items(), key=lambda item: item[1], reverse=True))\n",
    "\n",
    "print('Most stood up (in co-op)')\n",
    "res"
   ]
  },
  {
   "cell_type": "code",
   "execution_count": 21,
   "id": "8f4b4dc4",
   "metadata": {},
   "outputs": [
    {
     "name": "stdout",
     "output_type": "stream",
     "text": [
      "Biggest difference between un-amplified and amplified speaker notes\n"
     ]
    },
    {
     "data": {
      "text/plain": [
       "{'frc6978': 97,\n",
       " 'frc5912': 94,\n",
       " 'frc6070': 80,\n",
       " 'frc9562': 70,\n",
       " 'frc9659': 68,\n",
       " 'frc8089': 68,\n",
       " 'frc772': 66,\n",
       " 'frc7509': 55,\n",
       " 'frc1360': 55,\n",
       " 'frc7022': 52,\n",
       " 'frc6162': 52,\n",
       " 'frc9525': 45,\n",
       " 'frc9663': 45,\n",
       " 'frc2609': 44,\n",
       " 'frc4617': 43,\n",
       " 'frc6875': 42,\n",
       " 'frc3739': 42,\n",
       " 'frc8765': 41,\n",
       " 'frc2702': 41,\n",
       " 'frc3756': 31,\n",
       " 'frc6992': 30,\n",
       " 'frc4903': 29,\n",
       " 'frc7722': 28,\n",
       " 'frc6725': 15,\n",
       " 'frc9062': 10,\n",
       " 'frc4917': 7,\n",
       " 'frc5024': 1,\n",
       " 'frc4678': 0,\n",
       " 'frc4476': -1,\n",
       " 'frc3683': -23}"
      ]
     },
     "execution_count": 21,
     "metadata": {},
     "output_type": "execute_result"
    }
   ],
   "source": [
    "list1 = []\n",
    "for i in tba.event_matches(event):\n",
    "    if i['comp_level'] == 'qm':\n",
    "        teamb1 = i['alliances']['blue']['team_keys'][0]\n",
    "        teamb2 = i['alliances']['blue']['team_keys'][1]\n",
    "        teamb3 = i['alliances']['blue']['team_keys'][2]\n",
    "        teamr1 = i['alliances']['red']['team_keys'][0]\n",
    "        teamr2 = i['alliances']['red']['team_keys'][1]\n",
    "        teamr3 = i['alliances']['red']['team_keys'][2]\n",
    "\n",
    "        foulb1 = i['score_breakdown']['blue']['teleopSpeakerNoteCount'] - i['score_breakdown']['blue']['teleopSpeakerNoteAmplifiedCount']\n",
    "        foulb2 = i['score_breakdown']['blue']['teleopSpeakerNoteCount'] - i['score_breakdown']['blue']['teleopSpeakerNoteAmplifiedCount']\n",
    "        foulb3 = i['score_breakdown']['blue']['teleopSpeakerNoteCount'] - i['score_breakdown']['blue']['teleopSpeakerNoteAmplifiedCount']\n",
    "        foulr1 = i['score_breakdown']['red']['teleopSpeakerNoteCount'] - i['score_breakdown']['red']['teleopSpeakerNoteAmplifiedCount'] \n",
    "        foulr2 = i['score_breakdown']['red']['teleopSpeakerNoteCount'] - i['score_breakdown']['red']['teleopSpeakerNoteAmplifiedCount'] \n",
    "        foulr3 = i['score_breakdown']['red']['teleopSpeakerNoteCount'] - i['score_breakdown']['red']['teleopSpeakerNoteAmplifiedCount'] \n",
    "               \n",
    "        dict1 = { teamb1:foulb1\n",
    "                , teamb2:foulb2\n",
    "                , teamb3:foulb3\n",
    "                , teamr1:foulr1\n",
    "                , teamr2:foulr2\n",
    "                , teamr3:foulr3}\n",
    "        list1.append(dict1)\n",
    "counter = collections.Counter()\n",
    "for d in list1:\n",
    "    counter.update(d)\n",
    "\n",
    "res = dict(sorted(counter.items(), key=lambda item: item[1], reverse=True))\n",
    "\n",
    "print('Biggest difference between un-amplified and amplified speaker notes')\n",
    "res"
   ]
  },
  {
   "cell_type": "code",
   "execution_count": 22,
   "id": "43f2d24d",
   "metadata": {},
   "outputs": [
    {
     "name": "stdout",
     "output_type": "stream",
     "text": [
      "Trap Queen 👸👑\n"
     ]
    },
    {
     "data": {
      "text/plain": [
       "{'frc4678': 6.0,\n",
       " 'frc6978': 2.0,\n",
       " 'frc6725': 1.0,\n",
       " 'frc9659': 1.0,\n",
       " 'frc6992': 1.0,\n",
       " 'frc7022': 1.0,\n",
       " 'frc7509': 1.0,\n",
       " 'frc6162': 1.0,\n",
       " 'frc4617': 1.0,\n",
       " 'frc772': 1.0,\n",
       " 'frc3756': 1.0,\n",
       " 'frc5024': 1.0,\n",
       " 'frc2609': 0.0,\n",
       " 'frc4917': 0.0,\n",
       " 'frc9525': 0.0,\n",
       " 'frc1360': 0.0,\n",
       " 'frc6875': 0.0,\n",
       " 'frc5912': 0.0,\n",
       " 'frc9562': 0.0,\n",
       " 'frc4903': 0.0,\n",
       " 'frc4476': 0.0,\n",
       " 'frc8089': 0.0,\n",
       " 'frc8765': 0.0,\n",
       " 'frc9062': 0.0,\n",
       " 'frc6070': 0.0,\n",
       " 'frc7722': 0.0,\n",
       " 'frc9663': 0.0,\n",
       " 'frc2702': 0.0,\n",
       " 'frc3739': 0.0,\n",
       " 'frc3683': 0.0}"
      ]
     },
     "execution_count": 22,
     "metadata": {},
     "output_type": "execute_result"
    }
   ],
   "source": [
    "list1 = []\n",
    "for i in tba.event_matches(event):\n",
    "    if i['comp_level'] == 'qm':\n",
    "        teamb1 = i['alliances']['blue']['team_keys'][0]\n",
    "        teamb2 = i['alliances']['blue']['team_keys'][1]\n",
    "        teamb3 = i['alliances']['blue']['team_keys'][2]\n",
    "        teamr1 = i['alliances']['red']['team_keys'][0]\n",
    "        teamr2 = i['alliances']['red']['team_keys'][1]\n",
    "        teamr3 = i['alliances']['red']['team_keys'][2]\n",
    "\n",
    "        foulb1 = i['score_breakdown']['blue']['endGameNoteInTrapPoints']/5\n",
    "        foulb2 = i['score_breakdown']['blue']['endGameNoteInTrapPoints']/5\n",
    "        foulb3 = i['score_breakdown']['blue']['endGameNoteInTrapPoints']/5\n",
    "        foulr1 = i['score_breakdown']['red']['endGameNoteInTrapPoints']/5\n",
    "        foulr2 = i['score_breakdown']['red']['endGameNoteInTrapPoints']/5\n",
    "        foulr3 = i['score_breakdown']['red']['endGameNoteInTrapPoints']/5\n",
    "               \n",
    "        dict1 = { teamb1:foulb1\n",
    "                , teamb2:foulb2\n",
    "                , teamb3:foulb3\n",
    "                , teamr1:foulr1\n",
    "                , teamr2:foulr2\n",
    "                , teamr3:foulr3}\n",
    "        list1.append(dict1)\n",
    "counter = collections.Counter()\n",
    "for d in list1:\n",
    "    counter.update(d)\n",
    "\n",
    "res = dict(sorted(counter.items(), key=lambda item: item[1], reverse=True))\n",
    "\n",
    "print('Trap Queen 👸👑')\n",
    "res"
   ]
  },
  {
   "cell_type": "code",
   "execution_count": 23,
   "id": "a09684dd",
   "metadata": {},
   "outputs": [
    {
     "name": "stdout",
     "output_type": "stream",
     "text": [
      "Least Amp Notes Scored\n"
     ]
    },
    {
     "data": {
      "text/plain": [
       "{'frc9663': 29,\n",
       " 'frc5912': 31,\n",
       " 'frc6070': 31,\n",
       " 'frc7509': 34,\n",
       " 'frc6875': 35,\n",
       " 'frc9659': 36,\n",
       " 'frc6978': 36,\n",
       " 'frc9525': 37,\n",
       " 'frc8765': 37,\n",
       " 'frc7022': 40,\n",
       " 'frc6162': 41,\n",
       " 'frc4617': 41,\n",
       " 'frc772': 41,\n",
       " 'frc9562': 43,\n",
       " 'frc7722': 43,\n",
       " 'frc6992': 46,\n",
       " 'frc6725': 47,\n",
       " 'frc2702': 48,\n",
       " 'frc3739': 48,\n",
       " 'frc1360': 49,\n",
       " 'frc8089': 51,\n",
       " 'frc3756': 52,\n",
       " 'frc2609': 54,\n",
       " 'frc4903': 56,\n",
       " 'frc9062': 67,\n",
       " 'frc4476': 69,\n",
       " 'frc5024': 71,\n",
       " 'frc4917': 75,\n",
       " 'frc4678': 76,\n",
       " 'frc3683': 79}"
      ]
     },
     "execution_count": 23,
     "metadata": {},
     "output_type": "execute_result"
    }
   ],
   "source": [
    "list1 = []\n",
    "for i in tba.event_matches(event):\n",
    "    if i['comp_level'] == 'qm':\n",
    "        teamb1 = i['alliances']['blue']['team_keys'][0]\n",
    "        teamb2 = i['alliances']['blue']['team_keys'][1]\n",
    "        teamb3 = i['alliances']['blue']['team_keys'][2]\n",
    "        teamr1 = i['alliances']['red']['team_keys'][0]\n",
    "        teamr2 = i['alliances']['red']['team_keys'][1]\n",
    "        teamr3 = i['alliances']['red']['team_keys'][2]\n",
    "\n",
    "        foulb1 = i['score_breakdown']['blue']['teleopAmpNoteCount'] + i['score_breakdown']['blue']['autoAmpNoteCount']        \n",
    "        foulb2 = i['score_breakdown']['blue']['teleopAmpNoteCount'] + i['score_breakdown']['blue']['autoAmpNoteCount']\n",
    "        foulb3 = i['score_breakdown']['blue']['teleopAmpNoteCount'] + i['score_breakdown']['blue']['autoAmpNoteCount']\n",
    "        foulr1 = i['score_breakdown']['red']['teleopAmpNoteCount'] + i['score_breakdown']['red']['autoAmpNoteCount']\n",
    "        foulr2 = i['score_breakdown']['red']['teleopAmpNoteCount'] + i['score_breakdown']['red']['autoAmpNoteCount']\n",
    "        foulr3 = i['score_breakdown']['red']['teleopAmpNoteCount'] + i['score_breakdown']['red']['autoAmpNoteCount']\n",
    "               \n",
    "        dict1 = { teamb1:foulb1\n",
    "                , teamb2:foulb2\n",
    "                , teamb3:foulb3\n",
    "                , teamr1:foulr1\n",
    "                , teamr2:foulr2\n",
    "                , teamr3:foulr3}\n",
    "        list1.append(dict1)\n",
    "counter = collections.Counter()\n",
    "for d in list1:\n",
    "    counter.update(d)\n",
    "\n",
    "res = dict(sorted(counter.items(), key=lambda item: item[1], reverse=False))\n",
    "\n",
    "print('Least Amp Notes Scored')\n",
    "res"
   ]
  },
  {
   "cell_type": "code",
   "execution_count": null,
   "id": "9c9318cb",
   "metadata": {},
   "outputs": [],
   "source": []
  },
  {
   "cell_type": "code",
   "execution_count": 24,
   "id": "1a4bcab1",
   "metadata": {},
   "outputs": [
    {
     "name": "stdout",
     "output_type": "stream",
     "text": [
      "Most G424 Violations\n"
     ]
    },
    {
     "data": {
      "text/plain": [
       "{'frc9562': 3,\n",
       " 'frc6725': 2,\n",
       " 'frc9659': 2,\n",
       " 'frc1360': 2,\n",
       " 'frc4617': 2,\n",
       " 'frc4903': 2,\n",
       " 'frc8765': 2,\n",
       " 'frc9663': 2,\n",
       " 'frc6992': 1,\n",
       " 'frc9525': 1,\n",
       " 'frc7509': 1,\n",
       " 'frc6162': 1,\n",
       " 'frc4476': 1,\n",
       " 'frc3756': 1,\n",
       " 'frc9062': 1,\n",
       " 'frc5024': 1,\n",
       " 'frc6070': 1,\n",
       " 'frc7722': 1,\n",
       " 'frc4678': 1,\n",
       " 'frc3739': 1,\n",
       " 'frc3683': 1,\n",
       " 'frc2609': 0,\n",
       " 'frc4917': 0,\n",
       " 'frc7022': 0,\n",
       " 'frc6978': 0,\n",
       " 'frc6875': 0,\n",
       " 'frc5912': 0,\n",
       " 'frc772': 0,\n",
       " 'frc8089': 0,\n",
       " 'frc2702': 0}"
      ]
     },
     "execution_count": 24,
     "metadata": {},
     "output_type": "execute_result"
    }
   ],
   "source": [
    "list1 = []\n",
    "for i in tba.event_matches(event):\n",
    "    if i['comp_level'] == 'qm':\n",
    "        teamb1 = i['alliances']['blue']['team_keys'][0]\n",
    "        teamb2 = i['alliances']['blue']['team_keys'][1]\n",
    "        teamb3 = i['alliances']['blue']['team_keys'][2]\n",
    "        teamr1 = i['alliances']['red']['team_keys'][0]\n",
    "        teamr2 = i['alliances']['red']['team_keys'][1]\n",
    "        teamr3 = i['alliances']['red']['team_keys'][2]\n",
    "\n",
    "        foulb1 = i['score_breakdown']['blue']['g424Penalty']         \n",
    "        foulb2 = i['score_breakdown']['blue']['g424Penalty'] \n",
    "        foulb3 = i['score_breakdown']['blue']['g424Penalty'] \n",
    "        foulr1 = i['score_breakdown']['red']['g424Penalty'] \n",
    "        foulr2 = i['score_breakdown']['red']['g424Penalty'] \n",
    "        foulr3 = i['score_breakdown']['red']['g424Penalty'] \n",
    "               \n",
    "        dict1 = { teamb1:foulb1\n",
    "                , teamb2:foulb2\n",
    "                , teamb3:foulb3\n",
    "                , teamr1:foulr1\n",
    "                , teamr2:foulr2\n",
    "                , teamr3:foulr3}\n",
    "        list1.append(dict1)\n",
    "counter = collections.Counter()\n",
    "for d in list1:\n",
    "    counter.update(d)\n",
    "\n",
    "res = dict(sorted(counter.items(), key=lambda item: item[1], reverse=True))\n",
    "\n",
    "print('Most G424 Violations')\n",
    "res"
   ]
  },
  {
   "cell_type": "code",
   "execution_count": 25,
   "id": "472ce9b4",
   "metadata": {},
   "outputs": [
    {
     "name": "stdout",
     "output_type": "stream",
     "text": [
      "Highest Notes Scored in a match by Alliance (Speaker + Amp + Trap + High Note)\n"
     ]
    },
    {
     "data": {
      "text/plain": [
       "{'frc6978': 211.0,\n",
       " 'frc5912': 195.0,\n",
       " 'frc8089': 194.0,\n",
       " 'frc4678': 193.0,\n",
       " 'frc3683': 188.0,\n",
       " 'frc5024': 187.0,\n",
       " 'frc4917': 183.0,\n",
       " 'frc9562': 173.0,\n",
       " 'frc2609': 171.0,\n",
       " 'frc1360': 169.0,\n",
       " 'frc6070': 169.0,\n",
       " 'frc9062': 167.0,\n",
       " 'frc7022': 165.0,\n",
       " 'frc3739': 164.0,\n",
       " 'frc9659': 162.0,\n",
       " 'frc2702': 162.0,\n",
       " 'frc4476': 161.0,\n",
       " 'frc6162': 160.0,\n",
       " 'frc772': 159.0,\n",
       " 'frc7509': 156.0,\n",
       " 'frc4903': 156.0,\n",
       " 'frc6992': 150.0,\n",
       " 'frc4617': 143.0,\n",
       " 'frc3756': 142.0,\n",
       " 'frc7722': 137.0,\n",
       " 'frc6875': 135.0,\n",
       " 'frc9663': 132.0,\n",
       " 'frc9525': 130.0,\n",
       " 'frc8765': 129.0,\n",
       " 'frc6725': 117.0}"
      ]
     },
     "execution_count": 25,
     "metadata": {},
     "output_type": "execute_result"
    }
   ],
   "source": [
    "list1 = []\n",
    "for i in tba.event_matches(event):\n",
    "    if i['comp_level'] == 'qm':\n",
    "        teamb1 = i['alliances']['blue']['team_keys'][0]\n",
    "        teamb2 = i['alliances']['blue']['team_keys'][1]\n",
    "        teamb3 = i['alliances']['blue']['team_keys'][2]\n",
    "        teamr1 = i['alliances']['red']['team_keys'][0]\n",
    "        teamr2 = i['alliances']['red']['team_keys'][1]\n",
    "        teamr3 = i['alliances']['red']['team_keys'][2]\n",
    "\n",
    "        foulb1 = i['score_breakdown']['blue']['micCenterStage'] + i['score_breakdown']['blue']['micStageLeft'] + i['score_breakdown']['blue']['micStageRight']+ i['score_breakdown']['blue']['autoAmpNoteCount'] + i['score_breakdown']['blue']['teleopSpeakerNoteCount']+ i['score_breakdown']['blue']['autoSpeakerNoteCount'] + i['score_breakdown']['blue']['teleopAmpNoteCount']+ (i['score_breakdown']['blue']['endGameNoteInTrapPoints']/5) \n",
    "        \n",
    "        foulb2 = i['score_breakdown']['blue']['micCenterStage'] + i['score_breakdown']['blue']['micStageLeft'] + i['score_breakdown']['blue']['micStageRight']+ i['score_breakdown']['blue']['autoAmpNoteCount'] + i['score_breakdown']['blue']['teleopSpeakerNoteCount']+ i['score_breakdown']['blue']['autoSpeakerNoteCount'] + i['score_breakdown']['blue']['teleopAmpNoteCount']+ (i['score_breakdown']['blue']['endGameNoteInTrapPoints']/5) \n",
    "        \n",
    "        foulb3 = i['score_breakdown']['blue']['micCenterStage'] + i['score_breakdown']['blue']['micStageLeft'] + i['score_breakdown']['blue']['micStageRight']+ i['score_breakdown']['blue']['autoAmpNoteCount'] + i['score_breakdown']['blue']['teleopSpeakerNoteCount']+ i['score_breakdown']['blue']['autoSpeakerNoteCount'] + i['score_breakdown']['blue']['teleopAmpNoteCount']+ (i['score_breakdown']['blue']['endGameNoteInTrapPoints']/5) \n",
    "        \n",
    "        foulr1 = i['score_breakdown']['red']['micCenterStage'] + i['score_breakdown']['red']['micStageLeft'] + i['score_breakdown']['red']['micStageRight']+ i['score_breakdown']['red']['autoAmpNoteCount'] + i['score_breakdown']['red']['teleopSpeakerNoteCount']+ i['score_breakdown']['red']['autoSpeakerNoteCount'] + i['score_breakdown']['red']['teleopAmpNoteCount']+ (i['score_breakdown']['red']['endGameNoteInTrapPoints']/5) \n",
    "        \n",
    "        foulr2 = i['score_breakdown']['red']['micCenterStage'] + i['score_breakdown']['red']['micStageLeft'] + i['score_breakdown']['red']['micStageRight']+ i['score_breakdown']['red']['autoAmpNoteCount'] + i['score_breakdown']['red']['teleopSpeakerNoteCount']+ i['score_breakdown']['red']['autoSpeakerNoteCount'] + i['score_breakdown']['red']['teleopAmpNoteCount']+ (i['score_breakdown']['red']['endGameNoteInTrapPoints']/5) \n",
    "        \n",
    "        foulr3 = i['score_breakdown']['red']['micCenterStage'] + i['score_breakdown']['red']['micStageLeft'] + i['score_breakdown']['red']['micStageRight']+ i['score_breakdown']['red']['autoAmpNoteCount'] + i['score_breakdown']['red']['teleopSpeakerNoteCount']+ i['score_breakdown']['red']['autoSpeakerNoteCount'] + i['score_breakdown']['red']['teleopAmpNoteCount']+ (i['score_breakdown']['red']['endGameNoteInTrapPoints']/5)         \n",
    "               \n",
    "        dict1 = { teamb1:foulb1\n",
    "                , teamb2:foulb2\n",
    "                , teamb3:foulb3\n",
    "                , teamr1:foulr1\n",
    "                , teamr2:foulr2\n",
    "                , teamr3:foulr3}\n",
    "        list1.append(dict1)\n",
    "counter = collections.Counter()\n",
    "for d in list1:\n",
    "    counter.update(d)\n",
    "\n",
    "res = dict(sorted(counter.items(), key=lambda item: item[1], reverse=True))\n",
    "\n",
    "print('Highest Notes Scored in a match by Alliance (Speaker + Amp + Trap + High Note)')\n",
    "res"
   ]
  },
  {
   "cell_type": "code",
   "execution_count": 26,
   "id": "036715a5",
   "metadata": {},
   "outputs": [
    {
     "name": "stdout",
     "output_type": "stream",
     "text": [
      "Most Impactful HP High Notes\n"
     ]
    },
    {
     "data": {
      "text/plain": [
       "{'frc4917': 3,\n",
       " 'frc6992': 3,\n",
       " 'frc9663': 3,\n",
       " 'frc4678': 3,\n",
       " 'frc9659': 2,\n",
       " 'frc9525': 2,\n",
       " 'frc1360': 2,\n",
       " 'frc6070': 2,\n",
       " 'frc7722': 2,\n",
       " 'frc2702': 2,\n",
       " 'frc3739': 2,\n",
       " 'frc2609': 1,\n",
       " 'frc7509': 1,\n",
       " 'frc6875': 1,\n",
       " 'frc5912': 1,\n",
       " 'frc9562': 1,\n",
       " 'frc772': 1,\n",
       " 'frc8089': 1,\n",
       " 'frc6725': 0,\n",
       " 'frc7022': 0,\n",
       " 'frc6978': 0,\n",
       " 'frc6162': 0,\n",
       " 'frc4617': 0,\n",
       " 'frc4903': 0,\n",
       " 'frc4476': 0,\n",
       " 'frc3756': 0,\n",
       " 'frc8765': 0,\n",
       " 'frc9062': 0,\n",
       " 'frc5024': 0,\n",
       " 'frc3683': 0}"
      ]
     },
     "execution_count": 26,
     "metadata": {},
     "output_type": "execute_result"
    }
   ],
   "source": [
    "list1 = []\n",
    "for i in tba.event_matches(event):\n",
    "    if i['comp_level'] == 'qm':\n",
    "        teamb1 = i['alliances']['blue']['team_keys'][0]\n",
    "        teamb2 = i['alliances']['blue']['team_keys'][1]\n",
    "        teamb3 = i['alliances']['blue']['team_keys'][2]\n",
    "        teamr1 = i['alliances']['red']['team_keys'][0]\n",
    "        teamr2 = i['alliances']['red']['team_keys'][1]\n",
    "        teamr3 = i['alliances']['red']['team_keys'][2]\n",
    "\n",
    "        foulb1 = i['score_breakdown']['blue']['endGameSpotLightBonusPoints']         \n",
    "        foulb2 = i['score_breakdown']['blue']['endGameSpotLightBonusPoints'] \n",
    "        foulb3 = i['score_breakdown']['blue']['endGameSpotLightBonusPoints'] \n",
    "        foulr1 = i['score_breakdown']['red']['endGameSpotLightBonusPoints'] \n",
    "        foulr2 = i['score_breakdown']['red']['endGameSpotLightBonusPoints'] \n",
    "        foulr3 = i['score_breakdown']['red']['endGameSpotLightBonusPoints'] \n",
    "               \n",
    "        dict1 = { teamb1:foulb1\n",
    "                , teamb2:foulb2\n",
    "                , teamb3:foulb3\n",
    "                , teamr1:foulr1\n",
    "                , teamr2:foulr2\n",
    "                , teamr3:foulr3}\n",
    "        list1.append(dict1)\n",
    "counter = collections.Counter()\n",
    "for d in list1:\n",
    "    counter.update(d)\n",
    "\n",
    "res = dict(sorted(counter.items(), key=lambda item: item[1], reverse=True))\n",
    "\n",
    "print('Most Impactful HP High Notes')\n",
    "res"
   ]
  },
  {
   "cell_type": "code",
   "execution_count": 27,
   "id": "fef29e53",
   "metadata": {},
   "outputs": [
    {
     "name": "stdout",
     "output_type": "stream",
     "text": [
      "Top 3 Foul Points Given\n"
     ]
    },
    {
     "data": {
      "text/plain": [
       "{'frc8765': 101,\n",
       " 'frc9663': 99,\n",
       " 'frc9562': 95,\n",
       " 'frc6162': 87,\n",
       " 'frc6725': 85,\n",
       " 'frc6992': 76,\n",
       " 'frc8089': 73,\n",
       " 'frc2702': 70,\n",
       " 'frc1360': 63,\n",
       " 'frc4617': 63,\n",
       " 'frc772': 60,\n",
       " 'frc4678': 59,\n",
       " 'frc4903': 57,\n",
       " 'frc9659': 56,\n",
       " 'frc7722': 52,\n",
       " 'frc4476': 49,\n",
       " 'frc6070': 48,\n",
       " 'frc6875': 47,\n",
       " 'frc9062': 46,\n",
       " 'frc7509': 45,\n",
       " 'frc5024': 45,\n",
       " 'frc9525': 44,\n",
       " 'frc3739': 39,\n",
       " 'frc7022': 31,\n",
       " 'frc3683': 29,\n",
       " 'frc3756': 24,\n",
       " 'frc4917': 11,\n",
       " 'frc6978': 11,\n",
       " 'frc5912': 11,\n",
       " 'frc2609': 2}"
      ]
     },
     "execution_count": 27,
     "metadata": {},
     "output_type": "execute_result"
    }
   ],
   "source": [
    "list1 = []\n",
    "for i in tba.event_matches(event):\n",
    "    if i['comp_level'] == 'qm':\n",
    "        teamb1 = i['alliances']['blue']['team_keys'][0]\n",
    "        teamb2 = i['alliances']['blue']['team_keys'][1]\n",
    "        teamb3 = i['alliances']['blue']['team_keys'][2]\n",
    "        teamr1 = i['alliances']['red']['team_keys'][0]\n",
    "        teamr2 = i['alliances']['red']['team_keys'][1]\n",
    "        teamr3 = i['alliances']['red']['team_keys'][2]\n",
    "        \n",
    "        foulb1 = i['score_breakdown']['red']['foulPoints']\n",
    "        foulb2 = i['score_breakdown']['red']['foulPoints']\n",
    "        foulb3 = i['score_breakdown']['red']['foulPoints']\n",
    "        foulr1 = i['score_breakdown']['blue']['foulPoints']\n",
    "        foulr2 = i['score_breakdown']['blue']['foulPoints']\n",
    "        foulr3 = i['score_breakdown']['blue']['foulPoints']\n",
    "        \n",
    "        dict1 = { teamb1:foulb1\n",
    "                , teamb2:foulb2\n",
    "                , teamb3:foulb3\n",
    "                , teamr1:foulr1\n",
    "                , teamr2:foulr2\n",
    "                , teamr3:foulr3}\n",
    "        list1.append(dict1)\n",
    "counter = collections.Counter()\n",
    "for d in list1:\n",
    "    counter.update(d)\n",
    "\n",
    "res = dict(sorted(counter.items(), key=lambda item: item[1], reverse=True))\n",
    "\n",
    "print('Top 3 Foul Points Given')\n",
    "res"
   ]
  },
  {
   "cell_type": "code",
   "execution_count": 28,
   "id": "40fc3ad4",
   "metadata": {},
   "outputs": [
    {
     "name": "stdout",
     "output_type": "stream",
     "text": [
      "Lowest OPRs\n"
     ]
    },
    {
     "data": {
      "text/plain": [
       "{'frc6162': 10.728069880587775,\n",
       " 'frc6992': 15.77947301288388,\n",
       " 'frc8089': 25.46827488400981,\n",
       " 'frc6978': 26.897464877821783,\n",
       " 'frc2609': 27.249481948083886,\n",
       " 'frc4917': 29.52984585913025,\n",
       " 'frc4476': 35.95206594183298,\n",
       " 'frc3683': 50.8963749571309}"
      ]
     },
     "execution_count": 28,
     "metadata": {},
     "output_type": "execute_result"
    }
   ],
   "source": [
    "list1 = []\n",
    "for a in tba.event_alliances(event):\n",
    "    team = a['picks'][0]\n",
    "    opr = tba.event_oprs(event)['oprs'][team]\n",
    "    dict1 = {team:opr}\n",
    "    list1.append(dict1)\n",
    "\n",
    "counter = collections.Counter()\n",
    "for d in list1:\n",
    "    counter.update(d)\n",
    "    \n",
    "res = dict(sorted(counter.items(), key=lambda item: item[1], reverse=False))\n",
    "\n",
    "print('Lowest OPRs')\n",
    "res"
   ]
  },
  {
   "cell_type": "code",
   "execution_count": 29,
   "id": "2fcceab4",
   "metadata": {},
   "outputs": [
    {
     "name": "stdout",
     "output_type": "stream",
     "text": [
      "frc3683\n",
      "frc4476\n",
      "frc4917\n",
      "frc8089\n",
      "frc6978\n",
      "frc2609\n",
      "frc6162\n",
      "frc6992\n"
     ]
    }
   ],
   "source": [
    "for a in tba.event_alliances(event):\n",
    "    print(a['picks'][0])"
   ]
  },
  {
   "cell_type": "code",
   "execution_count": 30,
   "id": "0dd1ae8f",
   "metadata": {},
   "outputs": [
    {
     "data": {
      "text/plain": [
       "[3683,\n",
       " 4476,\n",
       " 4678,\n",
       " 4917,\n",
       " 8089,\n",
       " 6978,\n",
       " 2609,\n",
       " 5024,\n",
       " 6162,\n",
       " 1360,\n",
       " 5912,\n",
       " 6992,\n",
       " 3756,\n",
       " 2702,\n",
       " 4903,\n",
       " 7022,\n",
       " 7722,\n",
       " 9062,\n",
       " 9562,\n",
       " 4617,\n",
       " 772,\n",
       " 9663,\n",
       " 6070,\n",
       " 6875,\n",
       " 3739,\n",
       " 9659,\n",
       " 6725,\n",
       " 8765,\n",
       " 9525,\n",
       " 7509]"
      ]
     },
     "execution_count": 30,
     "metadata": {},
     "output_type": "execute_result"
    }
   ],
   "source": [
    "teams = []\n",
    "\n",
    "for i in tba.event_rankings(event)['rankings']:\n",
    "    teams += [int(i['team_key'][-len(i['team_key'])+3:])]\n",
    "    \n",
    "teams"
   ]
  },
  {
   "cell_type": "code",
   "execution_count": null,
   "id": "a3b277e0",
   "metadata": {},
   "outputs": [],
   "source": [
    "list1 = []\n",
    "\n",
    "for t in teams:\n",
    "    diff = sb.get_team_event(t,event)['epa_end'] - sb.get_team_event(t,event)['epa_start']\n",
    "    dict1 = {t:diff}\n",
    "    list1.append(dict1)\n",
    "\n",
    "counter = collections.Counter()\n",
    "for d in list1:\n",
    "    counter.update(d)\n",
    "    \n",
    "res = dict(sorted(counter.items(), key=lambda item: item[1], reverse=True))\n",
    "\n",
    "print('Biggest EPA Gain')\n",
    "res"
   ]
  },
  {
   "cell_type": "code",
   "execution_count": null,
   "id": "95c89d23",
   "metadata": {},
   "outputs": [],
   "source": [
    "tba.event_rankings(event)['rankings']"
   ]
  },
  {
   "cell_type": "code",
   "execution_count": null,
   "id": "06491734",
   "metadata": {},
   "outputs": [],
   "source": [
    "sb.get_team_event(1285,'2024onosh')"
   ]
  },
  {
   "cell_type": "code",
   "execution_count": null,
   "id": "8e3483dd",
   "metadata": {},
   "outputs": [],
   "source": []
  }
 ],
 "metadata": {
  "kernelspec": {
   "display_name": "Python 3 (ipykernel)",
   "language": "python",
   "name": "python3"
  },
  "language_info": {
   "codemirror_mode": {
    "name": "ipython",
    "version": 3
   },
   "file_extension": ".py",
   "mimetype": "text/x-python",
   "name": "python",
   "nbconvert_exporter": "python",
   "pygments_lexer": "ipython3",
   "version": "3.8.5"
  }
 },
 "nbformat": 4,
 "nbformat_minor": 5
}
