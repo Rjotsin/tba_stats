{
 "cells": [
  {
   "cell_type": "code",
   "execution_count": 95,
   "id": "964c378a",
   "metadata": {},
   "outputs": [],
   "source": [
    "import tbapy\n",
    "import pandas as pd\n",
    "from itertools import permutations, combinations\n",
    "import os \n",
    "import collections"
   ]
  },
  {
   "cell_type": "code",
   "execution_count": 96,
   "id": "da49c937",
   "metadata": {},
   "outputs": [],
   "source": [
    "tbakey = os.environ.get('tbakey')\n",
    "tba = tbapy.TBA(tbakey)"
   ]
  },
  {
   "cell_type": "code",
   "execution_count": 100,
   "id": "58eef07d",
   "metadata": {},
   "outputs": [],
   "source": [
    "event = '2023onbar'"
   ]
  },
  {
   "cell_type": "code",
   "execution_count": 102,
   "id": "ab7732f4",
   "metadata": {},
   "outputs": [
    {
     "data": {
      "text/plain": [
       "Match({'actual_time': 1678055389, 'alliances': {'blue': {'dq_team_keys': [], 'score': 126, 'surrogate_team_keys': [], 'team_keys': ['frc1114', 'frc7659', 'frc4039']}, 'red': {'dq_team_keys': [], 'score': 96, 'surrogate_team_keys': [], 'team_keys': ['frc8731', 'frc1325', 'frc3161']}}, 'comp_level': 'f', 'event_key': '2023onbar', 'key': '2023onbar_f1m1', 'match_number': 1, 'post_result_time': 1678055591, 'predicted_time': 1678055421, 'score_breakdown': {'blue': {'activationBonusAchieved': False, 'adjustPoints': 0, 'autoBridgeState': 'Level', 'autoChargeStationPoints': 12, 'autoChargeStationRobot1': 'None', 'autoChargeStationRobot2': 'None', 'autoChargeStationRobot3': 'Docked', 'autoCommunity': {'B': ['None', 'None', 'None', 'None', 'None', 'None', 'None', 'None', 'Cone'], 'M': ['None', 'None', 'None', 'None', 'None', 'None', 'None', 'None', 'None'], 'T': ['Cone', 'None', 'None', 'None', 'None', 'Cone', 'None', 'None', 'None']}, 'autoDocked': True, 'autoGamePieceCount': 3, 'autoGamePiecePoints': 15, 'autoMobilityPoints': 6, 'autoPoints': 33, 'coopGamePieceCount': 4, 'coopertitionCriteriaMet': False, 'endGameBridgeState': 'Level', 'endGameChargeStationPoints': 30, 'endGameChargeStationRobot1': 'Docked', 'endGameChargeStationRobot2': 'Docked', 'endGameChargeStationRobot3': 'Docked', 'endGameParkPoints': 0, 'foulCount': 0, 'foulPoints': 5, 'linkPoints': 15, 'links': [{'nodes': [0, 1, 2], 'row': 'Top'}, {'nodes': [3, 4, 5], 'row': 'Top'}, {'nodes': [6, 7, 8], 'row': 'Top'}], 'mobilityRobot1': 'Yes', 'mobilityRobot2': 'Yes', 'mobilityRobot3': 'No', 'rp': 0, 'sustainabilityBonusAchieved': False, 'techFoulCount': 0, 'teleopCommunity': {'B': ['None', 'None', 'None', 'None', 'None', 'None', 'Cube', 'None', 'Cone'], 'M': ['None', 'None', 'None', 'None', 'Cube', 'None', 'None', 'Cube', 'None'], 'T': ['Cone', 'Cube', 'Cone', 'Cone', 'Cube', 'Cone', 'Cone', 'Cube', 'Cone']}, 'teleopGamePieceCount': 13, 'teleopGamePiecePoints': 43, 'teleopPoints': 73, 'totalChargeStationPoints': 42, 'totalPoints': 126}, 'red': {'activationBonusAchieved': False, 'adjustPoints': 0, 'autoBridgeState': 'Level', 'autoChargeStationPoints': 12, 'autoChargeStationRobot1': 'None', 'autoChargeStationRobot2': 'Docked', 'autoChargeStationRobot3': 'None', 'autoCommunity': {'B': ['None', 'None', 'None', 'None', 'None', 'None', 'None', 'None', 'None'], 'M': ['Cone', 'Cube', 'None', 'None', 'None', 'None', 'None', 'None', 'None'], 'T': ['None', 'None', 'None', 'None', 'None', 'None', 'None', 'None', 'Cone']}, 'autoDocked': True, 'autoGamePieceCount': 3, 'autoGamePiecePoints': 14, 'autoMobilityPoints': 6, 'autoPoints': 32, 'coopGamePieceCount': 6, 'coopertitionCriteriaMet': False, 'endGameBridgeState': 'NotLevel', 'endGameChargeStationPoints': 6, 'endGameChargeStationRobot1': 'None', 'endGameChargeStationRobot2': 'Docked', 'endGameChargeStationRobot3': 'Park', 'endGameParkPoints': 2, 'foulCount': 1, 'foulPoints': 0, 'linkPoints': 15, 'links': [{'nodes': [0, 1, 2], 'row': 'Mid'}, {'nodes': [3, 4, 5], 'row': 'Mid'}, {'nodes': [5, 6, 7], 'row': 'Top'}], 'mobilityRobot1': 'Yes', 'mobilityRobot2': 'No', 'mobilityRobot3': 'Yes', 'rp': 0, 'sustainabilityBonusAchieved': False, 'techFoulCount': 0, 'teleopCommunity': {'B': ['None', 'None', 'None', 'Cone', 'None', 'Cone', 'None', 'None', 'None'], 'M': ['Cone', 'Cube', 'Cone', 'Cone', 'Cube', 'Cone', 'None', 'None', 'None'], 'T': ['Cone', 'None', 'Cone', 'None', 'None', 'Cone', 'Cone', 'Cube', 'Cone']}, 'teleopGamePieceCount': 14, 'teleopGamePiecePoints': 41, 'teleopPoints': 49, 'totalChargeStationPoints': 18, 'totalPoints': 96}}, 'set_number': 1, 'time': 1678053180, 'videos': [{'key': 'm6e7c8vJ-g0', 'type': 'youtube'}, {'key': 'l8idC1TlEmo', 'type': 'youtube'}], 'winning_alliance': 'blue'})"
      ]
     },
     "execution_count": 102,
     "metadata": {},
     "output_type": "execute_result"
    }
   ],
   "source": [
    "tba.event_matches(event)[0]"
   ]
  },
  {
   "cell_type": "code",
   "execution_count": 103,
   "id": "dd033990",
   "metadata": {},
   "outputs": [
    {
     "name": "stdout",
     "output_type": "stream",
     "text": [
      "Most Foul Points Given\n"
     ]
    },
    {
     "data": {
      "text/plain": [
       "{'frc5672': 101,\n",
       " 'frc3739': 71,\n",
       " 'frc3543': 67,\n",
       " 'frc4920': 57,\n",
       " 'frc7659': 57,\n",
       " 'frc2935': 47,\n",
       " 'frc3161': 45,\n",
       " 'frc7690': 44,\n",
       " 'frc9098': 42,\n",
       " 'frc4069': 40,\n",
       " 'frc865': 40,\n",
       " 'frc1241': 37,\n",
       " 'frc1285': 37,\n",
       " 'frc1114': 35,\n",
       " 'frc6864': 32,\n",
       " 'frc4903': 30,\n",
       " 'frc4039': 27,\n",
       " 'frc8731': 27,\n",
       " 'frc7757': 27,\n",
       " 'frc1360': 25,\n",
       " 'frc6859': 25,\n",
       " 'frc7200': 25,\n",
       " 'frc5885': 25,\n",
       " 'frc5031': 22,\n",
       " 'frc4152': 22,\n",
       " 'frc781': 20,\n",
       " 'frc4976': 10,\n",
       " 'frc1325': 10}"
      ]
     },
     "execution_count": 103,
     "metadata": {},
     "output_type": "execute_result"
    }
   ],
   "source": [
    "list1 = []\n",
    "for i in tba.event_matches(event):\n",
    "    if i['comp_level'] == 'qm':\n",
    "        teamb1 = i['alliances']['blue']['team_keys'][0]\n",
    "        teamb2 = i['alliances']['blue']['team_keys'][1]\n",
    "        teamb3 = i['alliances']['blue']['team_keys'][2]\n",
    "        teamr1 = i['alliances']['red']['team_keys'][0]\n",
    "        teamr2 = i['alliances']['red']['team_keys'][1]\n",
    "        teamr3 = i['alliances']['red']['team_keys'][2]\n",
    "        \n",
    "        foulb1 = i['score_breakdown']['red']['foulPoints']\n",
    "        foulb2 = i['score_breakdown']['red']['foulPoints']\n",
    "        foulb3 = i['score_breakdown']['red']['foulPoints']\n",
    "        foulr1 = i['score_breakdown']['blue']['foulPoints']\n",
    "        foulr2 = i['score_breakdown']['blue']['foulPoints']\n",
    "        foulr3 = i['score_breakdown']['blue']['foulPoints']\n",
    "        \n",
    "        dict1 = { teamb1:foulb1\n",
    "                , teamb2:foulb2\n",
    "                , teamb3:foulb3\n",
    "                , teamr1:foulr1\n",
    "                , teamr2:foulr2\n",
    "                , teamr3:foulr3}\n",
    "        list1.append(dict1)\n",
    "counter = collections.Counter()\n",
    "for d in list1:\n",
    "    counter.update(d)\n",
    "\n",
    "res = dict(sorted(counter.items(), key=lambda item: item[1], reverse=True))\n",
    "\n",
    "print('Most Foul Points Given')\n",
    "res"
   ]
  },
  {
   "cell_type": "code",
   "execution_count": 106,
   "id": "2d98bfca",
   "metadata": {},
   "outputs": [
    {
     "name": "stdout",
     "output_type": "stream",
     "text": [
      "3rd Most Sustainability RP\n"
     ]
    },
    {
     "data": {
      "text/plain": [
       "{'frc3161': 3,\n",
       " 'frc4039': 2,\n",
       " 'frc1241': 1,\n",
       " 'frc1114': 1,\n",
       " 'frc7659': 1,\n",
       " 'frc1285': 1,\n",
       " 'frc4152': 1,\n",
       " 'frc4903': 1,\n",
       " 'frc9098': 1,\n",
       " 'frc7757': 1,\n",
       " 'frc3739': 1,\n",
       " 'frc865': 1,\n",
       " 'frc1360': 0,\n",
       " 'frc2935': 0,\n",
       " 'frc4920': 0,\n",
       " 'frc6859': 0,\n",
       " 'frc5031': 0,\n",
       " 'frc3543': 0,\n",
       " 'frc7200': 0,\n",
       " 'frc5885': 0,\n",
       " 'frc4976': 0,\n",
       " 'frc7690': 0,\n",
       " 'frc8731': 0,\n",
       " 'frc781': 0,\n",
       " 'frc6864': 0,\n",
       " 'frc5672': 0,\n",
       " 'frc1325': 0,\n",
       " 'frc4069': 0}"
      ]
     },
     "execution_count": 106,
     "metadata": {},
     "output_type": "execute_result"
    }
   ],
   "source": [
    "list1 = []\n",
    "for i in tba.event_matches(event):\n",
    "    if i['comp_level'] == 'qm':\n",
    "        teamb1 = i['alliances']['blue']['team_keys'][0]\n",
    "        teamb2 = i['alliances']['blue']['team_keys'][1]\n",
    "        teamb3 = i['alliances']['blue']['team_keys'][2]\n",
    "        teamr1 = i['alliances']['red']['team_keys'][0]\n",
    "        teamr2 = i['alliances']['red']['team_keys'][1]\n",
    "        teamr3 = i['alliances']['red']['team_keys'][2]\n",
    "        \n",
    "        redbonus = i['score_breakdown']['red']['sustainabilityBonusAchieved']*1\n",
    "        bluebonus = i['score_breakdown']['blue']['sustainabilityBonusAchieved']*1\n",
    "        \n",
    "        dict1 = { teamb1:bluebonus\n",
    "                , teamb2:bluebonus\n",
    "                , teamb3:bluebonus\n",
    "                , teamr1:redbonus\n",
    "                , teamr2:redbonus\n",
    "                , teamr3:redbonus}\n",
    "        list1.append(dict1)\n",
    "counter = collections.Counter()\n",
    "for d in list1:\n",
    "    counter.update(d)\n",
    "\n",
    "res = dict(sorted(counter.items(), key=lambda item: item[1], reverse=True))\n",
    "\n",
    "print('3rd Most Sustainability RP')\n",
    "res"
   ]
  },
  {
   "cell_type": "code",
   "execution_count": 107,
   "id": "5bf1b206",
   "metadata": {},
   "outputs": [
    {
     "name": "stdout",
     "output_type": "stream",
     "text": [
      "Most Selfish Team (least co-op points)\n"
     ]
    },
    {
     "data": {
      "text/plain": [
       "{'frc6859': 5,\n",
       " 'frc7659': 5,\n",
       " 'frc8731': 5,\n",
       " 'frc7757': 5,\n",
       " 'frc5672': 5,\n",
       " 'frc1360': 6,\n",
       " 'frc3543': 6,\n",
       " 'frc5885': 6,\n",
       " 'frc7690': 6,\n",
       " 'frc781': 6,\n",
       " 'frc7200': 7,\n",
       " 'frc865': 7,\n",
       " 'frc2935': 8,\n",
       " 'frc1241': 8,\n",
       " 'frc4152': 8,\n",
       " 'frc4903': 8,\n",
       " 'frc6864': 8,\n",
       " 'frc3739': 8,\n",
       " 'frc4069': 8,\n",
       " 'frc9098': 9,\n",
       " 'frc1325': 9,\n",
       " 'frc4920': 10,\n",
       " 'frc5031': 10,\n",
       " 'frc1285': 10,\n",
       " 'frc4039': 11,\n",
       " 'frc3161': 11,\n",
       " 'frc1114': 12,\n",
       " 'frc4976': 12}"
      ]
     },
     "execution_count": 107,
     "metadata": {},
     "output_type": "execute_result"
    }
   ],
   "source": [
    "list1 = []\n",
    "for i in tba.event_matches(event):\n",
    "    if i['comp_level'] == 'qm':\n",
    "        teamb1 = i['alliances']['blue']['team_keys'][0]\n",
    "        teamb2 = i['alliances']['blue']['team_keys'][1]\n",
    "        teamb3 = i['alliances']['blue']['team_keys'][2]\n",
    "        teamr1 = i['alliances']['red']['team_keys'][0]\n",
    "        teamr2 = i['alliances']['red']['team_keys'][1]\n",
    "        teamr3 = i['alliances']['red']['team_keys'][2]\n",
    "        \n",
    "        redbonus = i['score_breakdown']['red']['coopertitionCriteriaMet']*1\n",
    "        bluebonus = i['score_breakdown']['blue']['coopertitionCriteriaMet']*1\n",
    "        \n",
    "        dict1 = { teamb1:bluebonus\n",
    "                , teamb2:bluebonus\n",
    "                , teamb3:bluebonus\n",
    "                , teamr1:redbonus\n",
    "                , teamr2:redbonus\n",
    "                , teamr3:redbonus}\n",
    "        list1.append(dict1)\n",
    "counter = collections.Counter()\n",
    "for d in list1:\n",
    "    counter.update(d)\n",
    "\n",
    "res = dict(sorted(counter.items(), key=lambda item: item[1], reverse=False))\n",
    "\n",
    "print('Most Selfish Team (least co-op points)')\n",
    "res"
   ]
  },
  {
   "cell_type": "code",
   "execution_count": 108,
   "id": "411c4d20",
   "metadata": {},
   "outputs": [
    {
     "name": "stdout",
     "output_type": "stream",
     "text": [
      "More Auto Docks than End Game Docks\n"
     ]
    },
    {
     "data": {
      "text/plain": [
       "{'frc4039': 2,\n",
       " 'frc4920': 2,\n",
       " 'frc1114': -2,\n",
       " 'frc5885': -2,\n",
       " 'frc4976': -2,\n",
       " 'frc1285': -2,\n",
       " 'frc781': -2,\n",
       " 'frc4069': -2,\n",
       " 'frc2935': -3,\n",
       " 'frc1241': -3,\n",
       " 'frc4152': -3,\n",
       " 'frc4903': -3,\n",
       " 'frc6864': -4,\n",
       " 'frc1360': -5,\n",
       " 'frc6859': -5,\n",
       " 'frc3543': -5,\n",
       " 'frc7659': -5,\n",
       " 'frc7690': -5,\n",
       " 'frc7200': -6,\n",
       " 'frc5672': -6,\n",
       " 'frc3161': -6,\n",
       " 'frc865': -6,\n",
       " 'frc8731': -7,\n",
       " 'frc9098': -7,\n",
       " 'frc7757': -8,\n",
       " 'frc3739': -8,\n",
       " 'frc1325': -9,\n",
       " 'frc5031': -10}"
      ]
     },
     "execution_count": 108,
     "metadata": {},
     "output_type": "execute_result"
    }
   ],
   "source": [
    "def endgame_pts(value):\n",
    "    if value == 'Docked': return 1\n",
    "    else: return 0\n",
    "\n",
    "list1 = []\n",
    "for i in tba.event_matches(event):\n",
    "    if i['comp_level'] == 'qm':\n",
    "        teamb1 = i['alliances']['blue']['team_keys'][0]\n",
    "        teamb2 = i['alliances']['blue']['team_keys'][1]\n",
    "        teamb3 = i['alliances']['blue']['team_keys'][2]\n",
    "        teamr1 = i['alliances']['red']['team_keys'][0]\n",
    "        teamr2 = i['alliances']['red']['team_keys'][1]\n",
    "        teamr3 = i['alliances']['red']['team_keys'][2]\n",
    "        \n",
    "        endb1 = endgame_pts(i['score_breakdown']['blue']['autoChargeStationRobot1']) - endgame_pts(i['score_breakdown']['blue']['endGameChargeStationRobot1'])\n",
    "        endb2 = endgame_pts(i['score_breakdown']['blue']['autoChargeStationRobot2']) - endgame_pts(i['score_breakdown']['blue']['endGameChargeStationRobot2'])\n",
    "        endb3 = endgame_pts(i['score_breakdown']['blue']['autoChargeStationRobot3']) - endgame_pts(i['score_breakdown']['blue']['endGameChargeStationRobot3'])\n",
    "        endr1 = endgame_pts(i['score_breakdown']['red']['autoChargeStationRobot1']) - endgame_pts(i['score_breakdown']['red']['endGameChargeStationRobot1'])\n",
    "        endr2 = endgame_pts(i['score_breakdown']['red']['autoChargeStationRobot2']) - endgame_pts(i['score_breakdown']['red']['endGameChargeStationRobot2'])\n",
    "        endr3 = endgame_pts(i['score_breakdown']['red']['autoChargeStationRobot3']) - endgame_pts(i['score_breakdown']['red']['endGameChargeStationRobot3'])\n",
    "        \n",
    "        dict1 = { teamb1:endb1\n",
    "                , teamb2:endb2\n",
    "                , teamb3:endb3\n",
    "                , teamr1:endr1\n",
    "                , teamr2:endr2\n",
    "                , teamr3:endr3}\n",
    "        list1.append(dict1)\n",
    "\n",
    "counter = collections.Counter()\n",
    "for d in list1:\n",
    "    counter.update(d)\n",
    "    \n",
    "res = dict(sorted(counter.items(), key=lambda item: item[1], reverse=True))\n",
    "\n",
    "print('More Auto Docks than End Game Docks')\n",
    "res"
   ]
  },
  {
   "cell_type": "code",
   "execution_count": 109,
   "id": "cdfff8ab",
   "metadata": {},
   "outputs": [
    {
     "name": "stdout",
     "output_type": "stream",
     "text": [
      "Least Teleop Engaged (Team)\n"
     ]
    },
    {
     "data": {
      "text/plain": [
       "{'frc781': 2,\n",
       " 'frc2935': 3,\n",
       " 'frc7690': 3,\n",
       " 'frc6864': 3,\n",
       " 'frc6859': 4,\n",
       " 'frc7200': 4,\n",
       " 'frc7659': 4,\n",
       " 'frc865': 4,\n",
       " 'frc1360': 5,\n",
       " 'frc4920': 5,\n",
       " 'frc1241': 5,\n",
       " 'frc3543': 5,\n",
       " 'frc4903': 5,\n",
       " 'frc5885': 6,\n",
       " 'frc8731': 6,\n",
       " 'frc5672': 6,\n",
       " 'frc3161': 6,\n",
       " 'frc4152': 7,\n",
       " 'frc3739': 7,\n",
       " 'frc4069': 7,\n",
       " 'frc1285': 8,\n",
       " 'frc7757': 8,\n",
       " 'frc9098': 9,\n",
       " 'frc4039': 10,\n",
       " 'frc5031': 10,\n",
       " 'frc4976': 10,\n",
       " 'frc1325': 10,\n",
       " 'frc1114': 11}"
      ]
     },
     "execution_count": 109,
     "metadata": {},
     "output_type": "execute_result"
    }
   ],
   "source": [
    "def endgame_pts(value):\n",
    "    if value == 'Docked': return 1\n",
    "    elif value == 'Level': return 1\n",
    "    else: return 0\n",
    "\n",
    "list1 = []\n",
    "for i in tba.event_matches(event):\n",
    "    if i['comp_level'] == 'qm':\n",
    "        teamb1 = i['alliances']['blue']['team_keys'][0]\n",
    "        teamb2 = i['alliances']['blue']['team_keys'][1]\n",
    "        teamb3 = i['alliances']['blue']['team_keys'][2]\n",
    "        teamr1 = i['alliances']['red']['team_keys'][0]\n",
    "        teamr2 = i['alliances']['red']['team_keys'][1]\n",
    "        teamr3 = i['alliances']['red']['team_keys'][2]\n",
    "        \n",
    "        endb1 = endgame_pts(i['score_breakdown']['blue']['endGameBridgeState']) * endgame_pts(i['score_breakdown']['blue']['endGameChargeStationRobot1'])\n",
    "        endb2 = endgame_pts(i['score_breakdown']['blue']['endGameBridgeState']) * endgame_pts(i['score_breakdown']['blue']['endGameChargeStationRobot2'])\n",
    "        endb3 = endgame_pts(i['score_breakdown']['blue']['endGameBridgeState']) * endgame_pts(i['score_breakdown']['blue']['endGameChargeStationRobot3'])\n",
    "        endr1 = endgame_pts(i['score_breakdown']['red']['endGameBridgeState']) * endgame_pts(i['score_breakdown']['red']['endGameChargeStationRobot1'])\n",
    "        endr2 = endgame_pts(i['score_breakdown']['red']['endGameBridgeState']) * endgame_pts(i['score_breakdown']['red']['endGameChargeStationRobot2'])\n",
    "        endr3 = endgame_pts(i['score_breakdown']['red']['endGameBridgeState']) * endgame_pts(i['score_breakdown']['red']['endGameChargeStationRobot3'])\n",
    "        \n",
    "        dict1 = { teamb1:endb1\n",
    "                , teamb2:endb2\n",
    "                , teamb3:endb3\n",
    "                , teamr1:endr1\n",
    "                , teamr2:endr2\n",
    "                , teamr3:endr3}\n",
    "        list1.append(dict1)\n",
    "\n",
    "counter = collections.Counter()\n",
    "for d in list1:\n",
    "    counter.update(d)\n",
    "    \n",
    "res = dict(sorted(counter.items(), key=lambda item: item[1], reverse=False))\n",
    "\n",
    "print('Least Teleop Engaged (Team)')\n",
    "res"
   ]
  },
  {
   "cell_type": "code",
   "execution_count": 110,
   "id": "d0f4afee",
   "metadata": {},
   "outputs": [
    {
     "name": "stdout",
     "output_type": "stream",
     "text": [
      "Most Mid Team\n"
     ]
    },
    {
     "data": {
      "text/plain": [
       "{'frc3161': 81,\n",
       " 'frc4069': 41,\n",
       " 'frc2935': 39,\n",
       " 'frc1285': 35,\n",
       " 'frc3543': 29,\n",
       " 'frc7690': 27,\n",
       " 'frc7659': 26,\n",
       " 'frc4976': 26,\n",
       " 'frc1325': 26,\n",
       " 'frc3739': 25,\n",
       " 'frc9098': 24,\n",
       " 'frc7757': 22,\n",
       " 'frc4039': 21,\n",
       " 'frc4152': 21,\n",
       " 'frc8731': 21,\n",
       " 'frc781': 19,\n",
       " 'frc1360': 18,\n",
       " 'frc1114': 18,\n",
       " 'frc4920': 17,\n",
       " 'frc6864': 16,\n",
       " 'frc1241': 15,\n",
       " 'frc7200': 15,\n",
       " 'frc4903': 15,\n",
       " 'frc5672': 15,\n",
       " 'frc6859': 13,\n",
       " 'frc5031': 13,\n",
       " 'frc5885': 13,\n",
       " 'frc865': 12}"
      ]
     },
     "execution_count": 110,
     "metadata": {},
     "output_type": "execute_result"
    }
   ],
   "source": [
    "list1 = []\n",
    "for i in tba.event_matches(event):\n",
    "    if i['comp_level'] == 'qm':\n",
    "        teamb1 = i['alliances']['blue']['team_keys'][0]\n",
    "        teamb2 = i['alliances']['blue']['team_keys'][1]\n",
    "        teamb3 = i['alliances']['blue']['team_keys'][2]\n",
    "        teamr1 = i['alliances']['red']['team_keys'][0]\n",
    "        teamr2 = i['alliances']['red']['team_keys'][1]\n",
    "        teamr3 = i['alliances']['red']['team_keys'][2]\n",
    "        \n",
    "        autoblueVal = i['score_breakdown']['blue']['teleopCommunity']['M']\n",
    "        autoblueCount = len(autoblueVal) - autoblueVal.count('None')\n",
    "\n",
    "        autoredVal = i['score_breakdown']['red']['teleopCommunity']['M']\n",
    "        autoredCount = len(autoredVal) - autoredVal.count('None')\n",
    "        \n",
    "        dict1 = { teamb1:autoblueCount\n",
    "                , teamb2:autoblueCount\n",
    "                , teamb3:autoblueCount\n",
    "                , teamr1:autoredCount\n",
    "                , teamr2:autoredCount\n",
    "                , teamr3:autoredCount}\n",
    "        list1.append(dict1)\n",
    "counter = collections.Counter()\n",
    "for d in list1:\n",
    "    counter.update(d)\n",
    "\n",
    "res = dict(sorted(counter.items(), key=lambda item: item[1], reverse=True))\n",
    "\n",
    "print('Most Mid Team')\n",
    "res"
   ]
  },
  {
   "cell_type": "code",
   "execution_count": 111,
   "id": "6b65c667",
   "metadata": {
    "scrolled": true
   },
   "outputs": [
    {
     "name": "stdout",
     "output_type": "stream",
     "text": [
      "Biggest difference between Cones vs Cubes\n"
     ]
    },
    {
     "data": {
      "text/plain": [
       "{'frc1241': 46,\n",
       " 'frc9098': -43,\n",
       " 'frc1114': 41,\n",
       " 'frc4920': 39,\n",
       " 'frc3161': 38,\n",
       " 'frc1285': -32,\n",
       " 'frc1325': 32,\n",
       " 'frc4152': 30,\n",
       " 'frc4976': 28,\n",
       " 'frc865': 28,\n",
       " 'frc4039': 27,\n",
       " 'frc2935': 25,\n",
       " 'frc5031': 24,\n",
       " 'frc4903': 23,\n",
       " 'frc3739': 20,\n",
       " 'frc4069': 20,\n",
       " 'frc3543': 15,\n",
       " 'frc7757': 11,\n",
       " 'frc6859': 10,\n",
       " 'frc781': 8,\n",
       " 'frc5672': -6,\n",
       " 'frc1360': -5,\n",
       " 'frc7200': -4,\n",
       " 'frc7690': -4,\n",
       " 'frc7659': 3,\n",
       " 'frc8731': -3,\n",
       " 'frc5885': 2,\n",
       " 'frc6864': -1}"
      ]
     },
     "execution_count": 111,
     "metadata": {},
     "output_type": "execute_result"
    }
   ],
   "source": [
    "list1 = []\n",
    "for i in tba.event_matches(event):\n",
    "    if i['comp_level'] == 'qm':\n",
    "        teamb1 = i['alliances']['blue']['team_keys'][0]\n",
    "        teamb2 = i['alliances']['blue']['team_keys'][1]\n",
    "        teamb3 = i['alliances']['blue']['team_keys'][2]\n",
    "        teamr1 = i['alliances']['red']['team_keys'][0]\n",
    "        teamr2 = i['alliances']['red']['team_keys'][1]\n",
    "        teamr3 = i['alliances']['red']['team_keys'][2]\n",
    "        \n",
    "        autoblueVal = 0\n",
    "        autoredVal = 0\n",
    "        \n",
    "        for j in i['score_breakdown']['blue']['teleopCommunity'].values():\n",
    "            autoblueVal += j.count('Cone')\n",
    "            autoblueVal -= j.count('Cube')\n",
    "\n",
    "        for j in i['score_breakdown']['red']['teleopCommunity'].values():\n",
    "            autoredVal += j.count('Cone')\n",
    "            autoredVal -= j.count('Cube')\n",
    "        \n",
    "        dict1 = { teamb1:autoblueVal\n",
    "                , teamb2:autoblueVal\n",
    "                , teamb3:autoblueVal\n",
    "                , teamr1:autoredVal\n",
    "                , teamr2:autoredVal\n",
    "                , teamr3:autoredVal}\n",
    "        list1.append(dict1)\n",
    "counter = collections.Counter()\n",
    "for d in list1:\n",
    "    counter.update(d)\n",
    "\n",
    "res = dict(sorted(counter.items(), key=lambda item: abs(item[1]), reverse=True))\n",
    "\n",
    "print('Biggest difference between Cones vs Cubes')\n",
    "res"
   ]
  },
  {
   "cell_type": "code",
   "execution_count": 112,
   "id": "e5c8d258",
   "metadata": {},
   "outputs": [
    {
     "name": "stdout",
     "output_type": "stream",
     "text": [
      "Winners & Losers of Biggest Upset\n",
      "['frc7757', 'frc6864', 'frc9098'] ['frc6859', 'frc4976', 'frc4903']\n"
     ]
    }
   ],
   "source": [
    "dict1 = tba.event_oprs(event)['oprs']\n",
    "\n",
    "list1 = []\n",
    "for i in tba.event_matches(event):\n",
    "    if i['comp_level'] == 'qm':\n",
    "        teamb1 = i['alliances']['blue']['team_keys'][0]\n",
    "        teamb2 = i['alliances']['blue']['team_keys'][1]\n",
    "        teamb3 = i['alliances']['blue']['team_keys'][2]\n",
    "        teamr1 = i['alliances']['red']['team_keys'][0]\n",
    "        teamr2 = i['alliances']['red']['team_keys'][1]\n",
    "        teamr3 = i['alliances']['red']['team_keys'][2]\n",
    "\n",
    "        val = dict1[teamb1] + dict1[teamb2] + dict1[teamb3] - dict1[teamr1] - dict1[teamr2] - dict1[teamr3]\n",
    "        \n",
    "    \n",
    "        if i['winning_alliance'] == 'red':\n",
    "            val = -val\n",
    "        \n",
    "        dict2 = {i['match_number']:val}\n",
    "        list1.append(dict2)\n",
    "counter = collections.Counter()\n",
    "for d in list1:\n",
    "    counter.update(d)\n",
    "\n",
    "res = sorted(counter.items(), key=lambda item: item[1], reverse=False)\n",
    "\n",
    "# print(res)\n",
    "print('Winners & Losers of Biggest Upset')\n",
    "\n",
    "\n",
    "for i in tba.event_matches(event):\n",
    "    if i['comp_level'] == 'qm' and i['match_number'] == res[0][0]:\n",
    "        print(i['alliances']['red']['team_keys'], i['alliances']['blue']['team_keys'])"
   ]
  },
  {
   "cell_type": "code",
   "execution_count": 113,
   "id": "d0fb1dd6",
   "metadata": {},
   "outputs": [
    {
     "name": "stdout",
     "output_type": "stream",
     "text": [
      "Top 3 teams in auto game pieces scored\n"
     ]
    },
    {
     "data": {
      "text/plain": [
       "{'frc4039': 28,\n",
       " 'frc4976': 27,\n",
       " 'frc7659': 26,\n",
       " 'frc4152': 26,\n",
       " 'frc3161': 26,\n",
       " 'frc1114': 25,\n",
       " 'frc1285': 25,\n",
       " 'frc1241': 24,\n",
       " 'frc3543': 24,\n",
       " 'frc7757': 24,\n",
       " 'frc2935': 23,\n",
       " 'frc4920': 23,\n",
       " 'frc1360': 21,\n",
       " 'frc7690': 21,\n",
       " 'frc1325': 21,\n",
       " 'frc5031': 20,\n",
       " 'frc7200': 20,\n",
       " 'frc9098': 20,\n",
       " 'frc781': 18,\n",
       " 'frc6864': 17,\n",
       " 'frc865': 17,\n",
       " 'frc4903': 16,\n",
       " 'frc3739': 16,\n",
       " 'frc8731': 15,\n",
       " 'frc4069': 15,\n",
       " 'frc6859': 14,\n",
       " 'frc5885': 14,\n",
       " 'frc5672': 10}"
      ]
     },
     "execution_count": 113,
     "metadata": {},
     "output_type": "execute_result"
    }
   ],
   "source": [
    "list1 = []\n",
    "for i in tba.event_matches(event):\n",
    "    if i['comp_level'] == 'qm':\n",
    "        teamb1 = i['alliances']['blue']['team_keys'][0]\n",
    "        teamb2 = i['alliances']['blue']['team_keys'][1]\n",
    "        teamb3 = i['alliances']['blue']['team_keys'][2]\n",
    "        teamr1 = i['alliances']['red']['team_keys'][0]\n",
    "        teamr2 = i['alliances']['red']['team_keys'][1]\n",
    "        teamr3 = i['alliances']['red']['team_keys'][2]\n",
    "        \n",
    "        autoblueVal = 0\n",
    "        autoredVal = 0\n",
    "        \n",
    "        for j in i['score_breakdown']['blue']['autoCommunity'].values():\n",
    "            autoblueVal += len(j)\n",
    "            autoblueVal -= j.count('None')\n",
    "            \n",
    "        for j in i['score_breakdown']['red']['autoCommunity'].values():\n",
    "            autoredVal += len(j)\n",
    "            autoredVal -= j.count('None')\n",
    "        \n",
    "        dict1 = { teamb1:autoblueVal\n",
    "                , teamb2:autoblueVal\n",
    "                , teamb3:autoblueVal\n",
    "                , teamr1:autoredVal\n",
    "                , teamr2:autoredVal\n",
    "                , teamr3:autoredVal}\n",
    "        list1.append(dict1)\n",
    "counter = collections.Counter()\n",
    "for d in list1:\n",
    "    counter.update(d)\n",
    "\n",
    "res = dict(sorted(counter.items(), key=lambda item: item[1], reverse=True))\n",
    "\n",
    "print('Top 3 teams in auto game pieces scored')\n",
    "res"
   ]
  },
  {
   "cell_type": "code",
   "execution_count": 153,
   "id": "b24fd0db",
   "metadata": {},
   "outputs": [],
   "source": [
    "# list1 = []\n",
    "# for i in tba.event_matches(event):\n",
    "#     if i['comp_level'] == 'qm':\n",
    "#         teamb1 = i['alliances']['blue']['team_keys'][0]\n",
    "#         teamb2 = i['alliances']['blue']['team_keys'][1]\n",
    "#         teamb3 = i['alliances']['blue']['team_keys'][2]\n",
    "#         teamr1 = i['alliances']['red']['team_keys'][0]\n",
    "#         teamr2 = i['alliances']['red']['team_keys'][1]\n",
    "#         teamr3 = i['alliances']['red']['team_keys'][2]\n",
    "        \n",
    "#         score = i['alliances']['blue']['score'] + i['alliances']['red']['score']\n",
    "        \n",
    "#         dict1 = { i['match_number']:score}\n",
    "#         list1.append(dict1)\n",
    "# counter = collections.Counter()\n",
    "# for d in list1:\n",
    "#     counter.update(d)\n",
    "\n",
    "# res = sorted(counter.items(), key=lambda item: item[1], reverse=True)\n",
    "\n",
    "# print('Losers in Highest Scored Match')\n",
    "# print(res[0][0])\n",
    "# for i in tba.event_matches(event):\n",
    "#     if i['comp_level'] == 'qm' and i['match_number'] == res[0][0]:\n",
    "#         if i['winning_alliance'] == 'blue':\n",
    "#             print(i['alliances']['red']['team_keys'])\n",
    "#         else:\n",
    "#             print(i['alliances']['blue']['team_keys'])"
   ]
  },
  {
   "cell_type": "code",
   "execution_count": 154,
   "id": "c6193f7a",
   "metadata": {},
   "outputs": [
    {
     "name": "stdout",
     "output_type": "stream",
     "text": [
      "Losers in Highest Scored Match\n",
      "['frc2935', 'frc7757', 'frc7200']\n"
     ]
    }
   ],
   "source": [
    "print('Losers in Highest Scored Match')\n",
    "for i in tba.event_matches(event):\n",
    "    if i['key'] == tba.event_insights(event)['qual']['high_score'][1]:\n",
    "        if i['winning_alliance'] == 'blue':\n",
    "            print(i['alliances']['red']['team_keys'])\n",
    "        else:\n",
    "            print(i['alliances']['blue']['team_keys'])"
   ]
  },
  {
   "cell_type": "code",
   "execution_count": 149,
   "id": "21a3bac1",
   "metadata": {},
   "outputs": [
    {
     "name": "stdout",
     "output_type": "stream",
     "text": [
      "Quals High Score\n"
     ]
    },
    {
     "data": {
      "text/plain": [
       "[150, '2023onbar_qm53', 'Q53']"
      ]
     },
     "execution_count": 149,
     "metadata": {},
     "output_type": "execute_result"
    }
   ],
   "source": [
    "print('Quals High Score')\n",
    "tba.event_insights(event)['qual']['high_score']"
   ]
  },
  {
   "cell_type": "code",
   "execution_count": 150,
   "id": "cb4ba48c",
   "metadata": {},
   "outputs": [
    {
     "name": "stdout",
     "output_type": "stream",
     "text": [
      "Second Last Pick\n",
      "frc2935\n"
     ]
    }
   ],
   "source": [
    "print('Second Last Pick')\n",
    "print(tba.event_alliances(event)[1]['picks'][2])"
   ]
  },
  {
   "cell_type": "code",
   "execution_count": 152,
   "id": "43aacf2b",
   "metadata": {},
   "outputs": [
    {
     "name": "stdout",
     "output_type": "stream",
     "text": [
      "3rd Alliance Captain\n",
      "frc1325\n"
     ]
    }
   ],
   "source": [
    "print('3rd Alliance Captain')\n",
    "print(tba.event_alliances(event)[2]['picks'][0])"
   ]
  },
  {
   "cell_type": "code",
   "execution_count": 85,
   "id": "db835bb0",
   "metadata": {},
   "outputs": [
    {
     "data": {
      "text/plain": [
       "{'frc1246': 10.008158394016828,\n",
       " 'frc1305': 38.22213287226423,\n",
       " 'frc188': 23.099813843579774,\n",
       " 'frc2056': 85.75244571895664,\n",
       " 'frc2200': 47.96731378409872,\n",
       " 'frc2386': 21.45419827078964,\n",
       " 'frc2702': 20.327311397164177,\n",
       " 'frc4476': 30.8365226760899,\n",
       " 'frc4946': 29.34457007926283,\n",
       " 'frc4951': 7.336718479426015,\n",
       " 'frc5036': 28.211440776200497,\n",
       " 'frc5409': 40.726178635710895,\n",
       " 'frc5719': 7.281654169825042,\n",
       " 'frc5834': 15.319064850683604,\n",
       " 'frc610': 43.22738232581007,\n",
       " 'frc6140': 13.820498178265648,\n",
       " 'frc6141': 10.803608183044847,\n",
       " 'frc6378': 22.281156753081223,\n",
       " 'frc6397': 19.84709374706533,\n",
       " 'frc6514': 15.421172128652668,\n",
       " 'frc6866': 8.18440760501236,\n",
       " 'frc6975': 13.077887932590151,\n",
       " 'frc6987': 14.98595446316487,\n",
       " 'frc7476': 9.050317355988817,\n",
       " 'frc7480': 28.01701153023581,\n",
       " 'frc7558': 35.221695187614884,\n",
       " 'frc7603': 14.941828704408898,\n",
       " 'frc771': 3.2927637986128344,\n",
       " 'frc7712': 16.041138948417736,\n",
       " 'frc7902': 10.96651754138078,\n",
       " 'frc8349': 19.270523671185845,\n",
       " 'frc8850': 16.374218313661288,\n",
       " 'frc9113': 11.189467261279988,\n",
       " 'frc9127': 10.931165755790145}"
      ]
     },
     "execution_count": 85,
     "metadata": {},
     "output_type": "execute_result"
    }
   ],
   "source": [
    "tba.event_oprs(event)['oprs']"
   ]
  }
 ],
 "metadata": {
  "kernelspec": {
   "display_name": "vlr",
   "language": "python",
   "name": "vlr"
  },
  "language_info": {
   "codemirror_mode": {
    "name": "ipython",
    "version": 3
   },
   "file_extension": ".py",
   "mimetype": "text/x-python",
   "name": "python",
   "nbconvert_exporter": "python",
   "pygments_lexer": "ipython3",
   "version": "3.8.5"
  }
 },
 "nbformat": 4,
 "nbformat_minor": 5
}
