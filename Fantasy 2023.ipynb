{
 "cells": [
  {
   "cell_type": "code",
   "execution_count": 1,
   "id": "964c378a",
   "metadata": {},
   "outputs": [],
   "source": [
    "import tbapy\n",
    "import pandas as pd\n",
    "from itertools import permutations, combinations\n",
    "import os \n",
    "import collections\n",
    "\n",
    "from bs4 import BeautifulSoup\n",
    "import requests\n",
    "import json\n",
    "import time\n",
    "import random\n",
    "import urllib.request"
   ]
  },
  {
   "cell_type": "code",
   "execution_count": 2,
   "id": "da49c937",
   "metadata": {},
   "outputs": [],
   "source": [
    "tbakey = os.environ.get('tbakey')\n",
    "tba = tbapy.TBA(tbakey)"
   ]
  },
  {
   "cell_type": "code",
   "execution_count": 3,
   "id": "58eef07d",
   "metadata": {},
   "outputs": [],
   "source": [
    "event = '2023oncmp1'"
   ]
  },
  {
   "cell_type": "code",
   "execution_count": 19,
   "id": "be3827a1",
   "metadata": {},
   "outputs": [
    {
     "data": {
      "text/plain": [
       "Match({'actual_time': 1680976736, 'alliances': {'blue': {'dq_team_keys': [], 'score': 150, 'surrogate_team_keys': [], 'team_keys': ['frc2200', 'frc2056', 'frc4992']}, 'red': {'dq_team_keys': [], 'score': 148, 'surrogate_team_keys': [], 'team_keys': ['frc4476', 'frc3683', 'frc1360']}}, 'comp_level': 'f', 'event_key': '2023oncmp1', 'key': '2023oncmp1_f1m1', 'match_number': 1, 'post_result_time': 1680976908, 'predicted_time': 1680976680, 'score_breakdown': {'blue': {'activationBonusAchieved': False, 'adjustPoints': 0, 'autoBridgeState': 'Level', 'autoChargeStationPoints': 12, 'autoChargeStationRobot1': 'None', 'autoChargeStationRobot2': 'Docked', 'autoChargeStationRobot3': 'None', 'autoCommunity': {'B': ['None', 'None', 'None', 'None', 'Cube', 'None', 'None', 'None', 'None'], 'M': ['Cone', 'None', 'None', 'None', 'None', 'None', 'None', 'Cube', 'Cone'], 'T': ['Cone', 'None', 'None', 'None', 'None', 'None', 'None', 'Cube', 'None']}, 'autoDocked': True, 'autoGamePieceCount': 6, 'autoGamePiecePoints': 27, 'autoMobilityPoints': 6, 'autoPoints': 45, 'coopGamePieceCount': 8, 'coopertitionCriteriaMet': False, 'endGameBridgeState': 'Level', 'endGameChargeStationPoints': 20, 'endGameChargeStationRobot1': 'None', 'endGameChargeStationRobot2': 'Docked', 'endGameChargeStationRobot3': 'Docked', 'endGameParkPoints': 0, 'foulCount': 0, 'foulPoints': 0, 'linkPoints': 30, 'links': [{'nodes': [0, 1, 2], 'row': 'Mid'}, {'nodes': [3, 4, 5], 'row': 'Mid'}, {'nodes': [6, 7, 8], 'row': 'Mid'}, {'nodes': [0, 1, 2], 'row': 'Top'}, {'nodes': [3, 4, 5], 'row': 'Top'}, {'nodes': [6, 7, 8], 'row': 'Top'}], 'mobilityRobot1': 'Yes', 'mobilityRobot2': 'Yes', 'mobilityRobot3': 'No', 'rp': 0, 'sustainabilityBonusAchieved': False, 'techFoulCount': 0, 'teleopCommunity': {'B': ['None', 'None', 'None', 'None', 'Cube', 'Cube', 'None', 'None', 'None'], 'M': ['Cone', 'Cube', 'Cone', 'Cone', 'Cube', 'Cone', 'Cone', 'Cube', 'Cone'], 'T': ['Cone', 'Cube', 'Cone', 'Cone', 'Cube', 'Cone', 'Cone', 'Cube', 'Cone']}, 'teleopGamePieceCount': 20, 'teleopGamePiecePoints': 55, 'teleopPoints': 75, 'totalChargeStationPoints': 32, 'totalPoints': 150}, 'red': {'activationBonusAchieved': False, 'adjustPoints': 0, 'autoBridgeState': 'Level', 'autoChargeStationPoints': 12, 'autoChargeStationRobot1': 'Docked', 'autoChargeStationRobot2': 'None', 'autoChargeStationRobot3': 'None', 'autoCommunity': {'B': ['Cube', 'None', 'None', 'None', 'None', 'None', 'None', 'None', 'None'], 'M': ['Cone', 'None', 'None', 'None', 'None', 'None', 'None', 'None', 'None'], 'T': ['None', 'Cube', 'None', 'None', 'Cube', 'None', 'None', 'None', 'Cone']}, 'autoDocked': True, 'autoGamePieceCount': 5, 'autoGamePiecePoints': 25, 'autoMobilityPoints': 9, 'autoPoints': 46, 'coopGamePieceCount': 6, 'coopertitionCriteriaMet': False, 'endGameBridgeState': 'Level', 'endGameChargeStationPoints': 30, 'endGameChargeStationRobot1': 'Docked', 'endGameChargeStationRobot2': 'Docked', 'endGameChargeStationRobot3': 'Docked', 'endGameParkPoints': 0, 'foulCount': 0, 'foulPoints': 0, 'linkPoints': 25, 'links': [{'nodes': [0, 1, 2], 'row': 'Mid'}, {'nodes': [3, 4, 5], 'row': 'Mid'}, {'nodes': [0, 1, 2], 'row': 'Top'}, {'nodes': [3, 4, 5], 'row': 'Top'}, {'nodes': [6, 7, 8], 'row': 'Top'}], 'mobilityRobot1': 'Yes', 'mobilityRobot2': 'Yes', 'mobilityRobot3': 'Yes', 'rp': 0, 'sustainabilityBonusAchieved': False, 'techFoulCount': 0, 'teleopCommunity': {'B': ['Cube', 'None', 'None', 'None', 'None', 'None', 'None', 'None', 'Cone'], 'M': ['Cone', 'Cube', 'Cone', 'Cone', 'Cube', 'Cone', 'None', 'None', 'None'], 'T': ['Cone', 'Cube', 'Cone', 'Cone', 'Cube', 'Cone', 'Cone', 'Cube', 'Cone']}, 'teleopGamePieceCount': 17, 'teleopGamePiecePoints': 47, 'teleopPoints': 77, 'totalChargeStationPoints': 42, 'totalPoints': 148}}, 'set_number': 1, 'time': 1680971280, 'videos': [{'key': '7_o24RBMxgA', 'type': 'youtube'}, {'key': 'Jf7KU5KhcRY', 'type': 'youtube'}], 'winning_alliance': 'blue'})"
      ]
     },
     "execution_count": 19,
     "metadata": {},
     "output_type": "execute_result"
    }
   ],
   "source": [
    "tba.event_matches(event)[0]"
   ]
  },
  {
   "cell_type": "code",
   "execution_count": 7,
   "id": "4eab4b77",
   "metadata": {},
   "outputs": [
    {
     "name": "stdout",
     "output_type": "stream",
     "text": [
      "Top 3 Foul Points Given\n"
     ]
    },
    {
     "data": {
      "text/plain": [
       "{'frc8081': 127,\n",
       " 'frc8884': 125,\n",
       " 'frc7136': 124,\n",
       " 'frc8349': 110,\n",
       " 'frc4308': 100,\n",
       " 'frc3161': 100,\n",
       " 'frc4951': 95,\n",
       " 'frc772': 91,\n",
       " 'frc7022': 87,\n",
       " 'frc1305': 81,\n",
       " 'frc1241': 79,\n",
       " 'frc9062': 77,\n",
       " 'frc5032': 75,\n",
       " 'frc8089': 72,\n",
       " 'frc5719': 72,\n",
       " 'frc1360': 70,\n",
       " 'frc2852': 70,\n",
       " 'frc4152': 67,\n",
       " 'frc2702': 64,\n",
       " 'frc9098': 60,\n",
       " 'frc771': 60,\n",
       " 'frc4476': 57,\n",
       " 'frc5409': 55,\n",
       " 'frc7659': 55,\n",
       " 'frc7558': 52,\n",
       " 'frc2200': 52,\n",
       " 'frc7480': 52,\n",
       " 'frc7712': 50,\n",
       " 'frc4992': 50,\n",
       " 'frc2056': 47,\n",
       " 'frc2634': 47,\n",
       " 'frc4976': 45,\n",
       " 'frc5406': 42,\n",
       " 'frc781': 42,\n",
       " 'frc5834': 40,\n",
       " 'frc6140': 40,\n",
       " 'frc5031': 40,\n",
       " 'frc3683': 40,\n",
       " 'frc6978': 37,\n",
       " 'frc1374': 30}"
      ]
     },
     "execution_count": 7,
     "metadata": {},
     "output_type": "execute_result"
    }
   ],
   "source": [
    "list1 = []\n",
    "for i in tba.event_matches(event):\n",
    "    if i['comp_level'] == 'qm':\n",
    "        teamb1 = i['alliances']['blue']['team_keys'][0]\n",
    "        teamb2 = i['alliances']['blue']['team_keys'][1]\n",
    "        teamb3 = i['alliances']['blue']['team_keys'][2]\n",
    "        teamr1 = i['alliances']['red']['team_keys'][0]\n",
    "        teamr2 = i['alliances']['red']['team_keys'][1]\n",
    "        teamr3 = i['alliances']['red']['team_keys'][2]\n",
    "        \n",
    "        foulb1 = i['score_breakdown']['red']['foulPoints']\n",
    "        foulb2 = i['score_breakdown']['red']['foulPoints']\n",
    "        foulb3 = i['score_breakdown']['red']['foulPoints']\n",
    "        foulr1 = i['score_breakdown']['blue']['foulPoints']\n",
    "        foulr2 = i['score_breakdown']['blue']['foulPoints']\n",
    "        foulr3 = i['score_breakdown']['blue']['foulPoints']\n",
    "        \n",
    "        dict1 = { teamb1:foulb1\n",
    "                , teamb2:foulb2\n",
    "                , teamb3:foulb3\n",
    "                , teamr1:foulr1\n",
    "                , teamr2:foulr2\n",
    "                , teamr3:foulr3}\n",
    "        list1.append(dict1)\n",
    "counter = collections.Counter()\n",
    "for d in list1:\n",
    "    counter.update(d)\n",
    "\n",
    "res = dict(sorted(counter.items(), key=lambda item: item[1], reverse=True))\n",
    "\n",
    "print('Top 3 Foul Points Given')\n",
    "res"
   ]
  },
  {
   "cell_type": "code",
   "execution_count": 28,
   "id": "dd033990",
   "metadata": {},
   "outputs": [
    {
     "data": {
      "text/plain": [
       "893"
      ]
     },
     "execution_count": 28,
     "metadata": {},
     "output_type": "execute_result"
    }
   ],
   "source": [
    "#Tech\n",
    "number = 0\n",
    "for i in tba.event_matches('2023oncmp1'):\n",
    "    if i['comp_level'] == 'qm':\n",
    "        number +=i['score_breakdown']['red']['foulPoints'] + i['score_breakdown']['blue']['foulPoints']\n",
    "\n",
    "number"
   ]
  },
  {
   "cell_type": "code",
   "execution_count": 12,
   "id": "4d9efe02",
   "metadata": {},
   "outputs": [
    {
     "data": {
      "text/plain": [
       "648"
      ]
     },
     "execution_count": 12,
     "metadata": {},
     "output_type": "execute_result"
    }
   ],
   "source": [
    "#Science\n",
    "number = 0\n",
    "for i in tba.event_matches('2023oncmp2'):\n",
    "    if i['comp_level'] == 'qm':\n",
    "        number +=i['score_breakdown']['red']['foulPoints'] + i['score_breakdown']['blue']['foulPoints']\n",
    "\n",
    "number"
   ]
  },
  {
   "cell_type": "code",
   "execution_count": 27,
   "id": "e2fa9b40",
   "metadata": {},
   "outputs": [
    {
     "data": {
      "text/plain": [
       "166"
      ]
     },
     "execution_count": 27,
     "metadata": {},
     "output_type": "execute_result"
    }
   ],
   "source": [
    "#Tech\n",
    "number = 0\n",
    "for i in tba.event_matches('2023oncmp1'):\n",
    "    if i['comp_level'] == 'qm':\n",
    "        number += i['score_breakdown']['red']['foulCount'] + i['score_breakdown']['blue']['foulCount'] + i['score_breakdown']['red']['techFoulCount'] + i['score_breakdown']['blue']['techFoulCount']\n",
    "\n",
    "number"
   ]
  },
  {
   "cell_type": "code",
   "execution_count": 25,
   "id": "1f00a834",
   "metadata": {},
   "outputs": [
    {
     "data": {
      "text/plain": [
       "124"
      ]
     },
     "execution_count": 25,
     "metadata": {},
     "output_type": "execute_result"
    }
   ],
   "source": [
    "#Science\n",
    "number = 0\n",
    "for i in tba.event_matches('2023oncmp2'):\n",
    "    if i['comp_level'] == 'qm':\n",
    "        number += i['score_breakdown']['red']['foulCount'] + i['score_breakdown']['blue']['foulCount'] + i['score_breakdown']['red']['techFoulCount'] + i['score_breakdown']['blue']['techFoulCount']\n",
    "\n",
    "number"
   ]
  },
  {
   "cell_type": "code",
   "execution_count": 5,
   "id": "2d98bfca",
   "metadata": {
    "scrolled": true
   },
   "outputs": [
    {
     "name": "stdout",
     "output_type": "stream",
     "text": [
      "3rd Most Sustainability RP\n"
     ]
    },
    {
     "data": {
      "text/plain": [
       "{'frc4946': 11,\n",
       " 'frc1325': 11,\n",
       " 'frc5024': 10,\n",
       " 'frc4069': 10,\n",
       " 'frc4920': 9,\n",
       " 'frc2609': 9,\n",
       " 'frc4907': 9,\n",
       " 'frc4688': 9,\n",
       " 'frc4678': 9,\n",
       " 'frc4039': 9,\n",
       " 'frc1114': 9,\n",
       " 'frc4343': 8,\n",
       " 'frc4917': 8,\n",
       " 'frc4903': 8,\n",
       " 'frc610': 8,\n",
       " 'frc8764': 8,\n",
       " 'frc1285': 7,\n",
       " 'frc5870': 7,\n",
       " 'frc865': 7,\n",
       " 'frc2386': 6,\n",
       " 'frc1310': 6,\n",
       " 'frc7690': 6,\n",
       " 'frc2013': 6,\n",
       " 'frc2706': 6,\n",
       " 'frc6864': 6,\n",
       " 'frc3739': 5,\n",
       " 'frc6378': 5,\n",
       " 'frc8729': 5,\n",
       " 'frc1334': 5,\n",
       " 'frc5885': 5,\n",
       " 'frc7476': 5,\n",
       " 'frc2708': 5,\n",
       " 'frc9263': 4,\n",
       " 'frc6987': 4,\n",
       " 'frc6854': 4,\n",
       " 'frc5036': 4,\n",
       " 'frc6865': 3,\n",
       " 'frc7757': 3,\n",
       " 'frc5596': 3,\n",
       " 'frc7722': 2}"
      ]
     },
     "execution_count": 5,
     "metadata": {},
     "output_type": "execute_result"
    }
   ],
   "source": [
    "list1 = []\n",
    "for i in tba.event_matches(event):\n",
    "    if i['comp_level'] == 'qm':\n",
    "        teamb1 = i['alliances']['blue']['team_keys'][0]\n",
    "        teamb2 = i['alliances']['blue']['team_keys'][1]\n",
    "        teamb3 = i['alliances']['blue']['team_keys'][2]\n",
    "        teamr1 = i['alliances']['red']['team_keys'][0]\n",
    "        teamr2 = i['alliances']['red']['team_keys'][1]\n",
    "        teamr3 = i['alliances']['red']['team_keys'][2]\n",
    "        \n",
    "        redbonus = i['score_breakdown']['red']['sustainabilityBonusAchieved']*1\n",
    "        bluebonus = i['score_breakdown']['blue']['sustainabilityBonusAchieved']*1\n",
    "        \n",
    "        dict1 = { teamb1:bluebonus\n",
    "                , teamb2:bluebonus\n",
    "                , teamb3:bluebonus\n",
    "                , teamr1:redbonus\n",
    "                , teamr2:redbonus\n",
    "                , teamr3:redbonus}\n",
    "        list1.append(dict1)\n",
    "counter = collections.Counter()\n",
    "for d in list1:\n",
    "    counter.update(d)\n",
    "\n",
    "res = dict(sorted(counter.items(), key=lambda item: item[1], reverse=True))\n",
    "\n",
    "print('3rd Most Sustainability RP')\n",
    "res"
   ]
  },
  {
   "cell_type": "code",
   "execution_count": 6,
   "id": "5bf1b206",
   "metadata": {},
   "outputs": [],
   "source": [
    "# list1 = []\n",
    "# for i in tba.event_matches(event):\n",
    "#     if i['comp_level'] == 'qm':\n",
    "#         teamb1 = i['alliances']['blue']['team_keys'][0]\n",
    "#         teamb2 = i['alliances']['blue']['team_keys'][1]\n",
    "#         teamb3 = i['alliances']['blue']['team_keys'][2]\n",
    "#         teamr1 = i['alliances']['red']['team_keys'][0]\n",
    "#         teamr2 = i['alliances']['red']['team_keys'][1]\n",
    "#         teamr3 = i['alliances']['red']['team_keys'][2]\n",
    "        \n",
    "#         redbonus = i['score_breakdown']['red']['coopertitionCriteriaMet']*1\n",
    "#         bluebonus = i['score_breakdown']['blue']['coopertitionCriteriaMet']*1\n",
    "        \n",
    "#         dict1 = { teamb1:bluebonus\n",
    "#                 , teamb2:bluebonus\n",
    "#                 , teamb3:bluebonus\n",
    "#                 , teamr1:redbonus\n",
    "#                 , teamr2:redbonus\n",
    "#                 , teamr3:redbonus}\n",
    "#         list1.append(dict1)\n",
    "# counter = collections.Counter()\n",
    "# for d in list1:\n",
    "#     counter.update(d)\n",
    "\n",
    "# res = dict(sorted(counter.items(), key=lambda item: item[1], reverse=False))\n",
    "\n",
    "# print('Most Selfish Team (least co-op points)')\n",
    "# res"
   ]
  },
  {
   "cell_type": "code",
   "execution_count": 7,
   "id": "411c4d20",
   "metadata": {},
   "outputs": [
    {
     "name": "stdout",
     "output_type": "stream",
     "text": [
      "More Auto Docks than End Game Docks\n"
     ]
    },
    {
     "data": {
      "text/plain": [
       "{'frc4039': 3,\n",
       " 'frc4903': 2,\n",
       " 'frc2013': 1,\n",
       " 'frc5024': 0,\n",
       " 'frc6378': -1,\n",
       " 'frc610': -1,\n",
       " 'frc7722': -1,\n",
       " 'frc1285': -2,\n",
       " 'frc6865': -2,\n",
       " 'frc2609': -2,\n",
       " 'frc4678': -2,\n",
       " 'frc4343': -3,\n",
       " 'frc1114': -3,\n",
       " 'frc3739': -4,\n",
       " 'frc4069': -4,\n",
       " 'frc5596': -4,\n",
       " 'frc5870': -4,\n",
       " 'frc865': -4,\n",
       " 'frc6987': -6,\n",
       " 'frc4946': -6,\n",
       " 'frc7757': -6,\n",
       " 'frc5036': -6,\n",
       " 'frc7690': -6,\n",
       " 'frc4920': -7,\n",
       " 'frc4917': -7,\n",
       " 'frc2386': -7,\n",
       " 'frc8729': -7,\n",
       " 'frc1334': -7,\n",
       " 'frc8764': -7,\n",
       " 'frc4907': -8,\n",
       " 'frc1310': -8,\n",
       " 'frc7476': -8,\n",
       " 'frc1325': -8,\n",
       " 'frc5885': -9,\n",
       " 'frc2708': -9,\n",
       " 'frc2706': -9,\n",
       " 'frc9263': -10,\n",
       " 'frc4688': -10,\n",
       " 'frc6854': -11,\n",
       " 'frc6864': -11}"
      ]
     },
     "execution_count": 7,
     "metadata": {},
     "output_type": "execute_result"
    }
   ],
   "source": [
    "def endgame_pts(value):\n",
    "    if value == 'Docked': return 1\n",
    "    else: return 0\n",
    "\n",
    "list1 = []\n",
    "for i in tba.event_matches(event):\n",
    "    if i['comp_level'] == 'qm':\n",
    "        teamb1 = i['alliances']['blue']['team_keys'][0]\n",
    "        teamb2 = i['alliances']['blue']['team_keys'][1]\n",
    "        teamb3 = i['alliances']['blue']['team_keys'][2]\n",
    "        teamr1 = i['alliances']['red']['team_keys'][0]\n",
    "        teamr2 = i['alliances']['red']['team_keys'][1]\n",
    "        teamr3 = i['alliances']['red']['team_keys'][2]\n",
    "        \n",
    "        endb1 = endgame_pts(i['score_breakdown']['blue']['autoChargeStationRobot1']) - endgame_pts(i['score_breakdown']['blue']['endGameChargeStationRobot1'])\n",
    "        endb2 = endgame_pts(i['score_breakdown']['blue']['autoChargeStationRobot2']) - endgame_pts(i['score_breakdown']['blue']['endGameChargeStationRobot2'])\n",
    "        endb3 = endgame_pts(i['score_breakdown']['blue']['autoChargeStationRobot3']) - endgame_pts(i['score_breakdown']['blue']['endGameChargeStationRobot3'])\n",
    "        endr1 = endgame_pts(i['score_breakdown']['red']['autoChargeStationRobot1']) - endgame_pts(i['score_breakdown']['red']['endGameChargeStationRobot1'])\n",
    "        endr2 = endgame_pts(i['score_breakdown']['red']['autoChargeStationRobot2']) - endgame_pts(i['score_breakdown']['red']['endGameChargeStationRobot2'])\n",
    "        endr3 = endgame_pts(i['score_breakdown']['red']['autoChargeStationRobot3']) - endgame_pts(i['score_breakdown']['red']['endGameChargeStationRobot3'])\n",
    "        \n",
    "        dict1 = { teamb1:endb1\n",
    "                , teamb2:endb2\n",
    "                , teamb3:endb3\n",
    "                , teamr1:endr1\n",
    "                , teamr2:endr2\n",
    "                , teamr3:endr3}\n",
    "        list1.append(dict1)\n",
    "\n",
    "counter = collections.Counter()\n",
    "for d in list1:\n",
    "    counter.update(d)\n",
    "    \n",
    "res = dict(sorted(counter.items(), key=lambda item: item[1], reverse=True))\n",
    "\n",
    "print('More Auto Docks than End Game Docks')\n",
    "res"
   ]
  },
  {
   "cell_type": "code",
   "execution_count": 8,
   "id": "cdfff8ab",
   "metadata": {},
   "outputs": [
    {
     "name": "stdout",
     "output_type": "stream",
     "text": [
      "Added Most End Game Docks without Engages\n"
     ]
    },
    {
     "data": {
      "text/plain": [
       "{'frc1285': 3,\n",
       " 'frc3739': 2,\n",
       " 'frc5885': 2,\n",
       " 'frc1310': 2,\n",
       " 'frc4678': 2,\n",
       " 'frc2708': 2,\n",
       " 'frc2013': 2,\n",
       " 'frc2706': 2,\n",
       " 'frc6864': 2,\n",
       " 'frc5024': 1,\n",
       " 'frc4920': 1,\n",
       " 'frc9263': 1,\n",
       " 'frc4946': 1,\n",
       " 'frc6865': 1,\n",
       " 'frc2609': 1,\n",
       " 'frc2386': 1,\n",
       " 'frc8729': 1,\n",
       " 'frc4907': 1,\n",
       " 'frc4688': 1,\n",
       " 'frc7476': 1,\n",
       " 'frc5036': 1,\n",
       " 'frc7690': 1,\n",
       " 'frc1114': 1,\n",
       " 'frc1325': 1,\n",
       " 'frc5870': 1,\n",
       " 'frc865': 1,\n",
       " 'frc4343': 0,\n",
       " 'frc6987': 0,\n",
       " 'frc4917': 0,\n",
       " 'frc6378': 0,\n",
       " 'frc4903': 0,\n",
       " 'frc7757': 0,\n",
       " 'frc1334': 0,\n",
       " 'frc610': 0,\n",
       " 'frc6854': 0,\n",
       " 'frc4069': 0,\n",
       " 'frc4039': 0,\n",
       " 'frc5596': 0,\n",
       " 'frc8764': 0,\n",
       " 'frc7722': 0}"
      ]
     },
     "execution_count": 8,
     "metadata": {},
     "output_type": "execute_result"
    }
   ],
   "source": [
    "def endgame_pts(value):\n",
    "    if value == 'Docked': return 1\n",
    "    elif value == 'NotLevel': return 1\n",
    "    else: return 0\n",
    "\n",
    "list1 = []\n",
    "for i in tba.event_matches(event):\n",
    "    if i['comp_level'] == 'qm':\n",
    "        teamb1 = i['alliances']['blue']['team_keys'][0]\n",
    "        teamb2 = i['alliances']['blue']['team_keys'][1]\n",
    "        teamb3 = i['alliances']['blue']['team_keys'][2]\n",
    "        teamr1 = i['alliances']['red']['team_keys'][0]\n",
    "        teamr2 = i['alliances']['red']['team_keys'][1]\n",
    "        teamr3 = i['alliances']['red']['team_keys'][2]\n",
    "        \n",
    "        endb1 = endgame_pts(i['score_breakdown']['blue']['endGameBridgeState']) * endgame_pts(i['score_breakdown']['blue']['endGameChargeStationRobot1'])\n",
    "        endb2 = endgame_pts(i['score_breakdown']['blue']['endGameBridgeState']) * endgame_pts(i['score_breakdown']['blue']['endGameChargeStationRobot2'])\n",
    "        endb3 = endgame_pts(i['score_breakdown']['blue']['endGameBridgeState']) * endgame_pts(i['score_breakdown']['blue']['endGameChargeStationRobot3'])\n",
    "        endr1 = endgame_pts(i['score_breakdown']['red']['endGameBridgeState']) * endgame_pts(i['score_breakdown']['red']['endGameChargeStationRobot1'])\n",
    "        endr2 = endgame_pts(i['score_breakdown']['red']['endGameBridgeState']) * endgame_pts(i['score_breakdown']['red']['endGameChargeStationRobot2'])\n",
    "        endr3 = endgame_pts(i['score_breakdown']['red']['endGameBridgeState']) * endgame_pts(i['score_breakdown']['red']['endGameChargeStationRobot3'])\n",
    "        \n",
    "        dict1 = { teamb1:endb1\n",
    "                , teamb2:endb2\n",
    "                , teamb3:endb3\n",
    "                , teamr1:endr1\n",
    "                , teamr2:endr2\n",
    "                , teamr3:endr3}\n",
    "        list1.append(dict1)\n",
    "\n",
    "counter = collections.Counter()\n",
    "for d in list1:\n",
    "    counter.update(d)\n",
    "    \n",
    "res = dict(sorted(counter.items(), key=lambda item: item[1], reverse=True))\n",
    "\n",
    "print('Added Most End Game Docks without Engages')\n",
    "res"
   ]
  },
  {
   "cell_type": "code",
   "execution_count": 9,
   "id": "2ba939d8",
   "metadata": {},
   "outputs": [
    {
     "name": "stdout",
     "output_type": "stream",
     "text": [
      "Least Teleop Engaged (Team)\n"
     ]
    },
    {
     "data": {
      "text/plain": [
       "{'frc6378': 3,\n",
       " 'frc4678': 4,\n",
       " 'frc1114': 4,\n",
       " 'frc6865': 5,\n",
       " 'frc1285': 6,\n",
       " 'frc6987': 6,\n",
       " 'frc3739': 6,\n",
       " 'frc4946': 6,\n",
       " 'frc4903': 6,\n",
       " 'frc7757': 6,\n",
       " 'frc5036': 6,\n",
       " 'frc7690': 6,\n",
       " 'frc7476': 7,\n",
       " 'frc2708': 7,\n",
       " 'frc2013': 7,\n",
       " 'frc4069': 7,\n",
       " 'frc5596': 7,\n",
       " 'frc8764': 7,\n",
       " 'frc1325': 7,\n",
       " 'frc4343': 8,\n",
       " 'frc4920': 8,\n",
       " 'frc2609': 8,\n",
       " 'frc4907': 8,\n",
       " 'frc4039': 8,\n",
       " 'frc5870': 8,\n",
       " 'frc5024': 9,\n",
       " 'frc9263': 9,\n",
       " 'frc4917': 9,\n",
       " 'frc2386': 9,\n",
       " 'frc610': 9,\n",
       " 'frc5885': 9,\n",
       " 'frc4688': 9,\n",
       " 'frc6864': 9,\n",
       " 'frc8729': 10,\n",
       " 'frc1334': 10,\n",
       " 'frc1310': 10,\n",
       " 'frc2706': 10,\n",
       " 'frc7722': 10,\n",
       " 'frc865': 10,\n",
       " 'frc6854': 11}"
      ]
     },
     "execution_count": 9,
     "metadata": {},
     "output_type": "execute_result"
    }
   ],
   "source": [
    "def endgame_pts(value):\n",
    "    if value == 'Docked': return 1\n",
    "    elif value == 'Level': return 1\n",
    "    else: return 0\n",
    "\n",
    "list1 = []\n",
    "for i in tba.event_matches(event):\n",
    "    if i['comp_level'] == 'qm':\n",
    "        teamb1 = i['alliances']['blue']['team_keys'][0]\n",
    "        teamb2 = i['alliances']['blue']['team_keys'][1]\n",
    "        teamb3 = i['alliances']['blue']['team_keys'][2]\n",
    "        teamr1 = i['alliances']['red']['team_keys'][0]\n",
    "        teamr2 = i['alliances']['red']['team_keys'][1]\n",
    "        teamr3 = i['alliances']['red']['team_keys'][2]\n",
    "        \n",
    "        endb1 = endgame_pts(i['score_breakdown']['blue']['endGameBridgeState']) * endgame_pts(i['score_breakdown']['blue']['endGameChargeStationRobot1'])\n",
    "        endb2 = endgame_pts(i['score_breakdown']['blue']['endGameBridgeState']) * endgame_pts(i['score_breakdown']['blue']['endGameChargeStationRobot2'])\n",
    "        endb3 = endgame_pts(i['score_breakdown']['blue']['endGameBridgeState']) * endgame_pts(i['score_breakdown']['blue']['endGameChargeStationRobot3'])\n",
    "        endr1 = endgame_pts(i['score_breakdown']['red']['endGameBridgeState']) * endgame_pts(i['score_breakdown']['red']['endGameChargeStationRobot1'])\n",
    "        endr2 = endgame_pts(i['score_breakdown']['red']['endGameBridgeState']) * endgame_pts(i['score_breakdown']['red']['endGameChargeStationRobot2'])\n",
    "        endr3 = endgame_pts(i['score_breakdown']['red']['endGameBridgeState']) * endgame_pts(i['score_breakdown']['red']['endGameChargeStationRobot3'])\n",
    "        \n",
    "        dict1 = { teamb1:endb1\n",
    "                , teamb2:endb2\n",
    "                , teamb3:endb3\n",
    "                , teamr1:endr1\n",
    "                , teamr2:endr2\n",
    "                , teamr3:endr3}\n",
    "        list1.append(dict1)\n",
    "\n",
    "counter = collections.Counter()\n",
    "for d in list1:\n",
    "    counter.update(d)\n",
    "    \n",
    "res = dict(sorted(counter.items(), key=lambda item: item[1], reverse=False))\n",
    "\n",
    "print('Least Teleop Engaged (Team)')\n",
    "res"
   ]
  },
  {
   "cell_type": "code",
   "execution_count": 10,
   "id": "d0f4afee",
   "metadata": {},
   "outputs": [
    {
     "name": "stdout",
     "output_type": "stream",
     "text": [
      "Most Mid Team\n"
     ]
    },
    {
     "data": {
      "text/plain": [
       "{'frc5024': 83,\n",
       " 'frc3739': 78,\n",
       " 'frc4678': 78,\n",
       " 'frc4946': 77,\n",
       " 'frc4907': 71,\n",
       " 'frc4920': 65,\n",
       " 'frc4903': 65,\n",
       " 'frc4069': 65,\n",
       " 'frc4039': 65,\n",
       " 'frc1325': 64,\n",
       " 'frc2386': 58,\n",
       " 'frc4688': 58,\n",
       " 'frc5870': 56,\n",
       " 'frc4917': 52,\n",
       " 'frc2609': 50,\n",
       " 'frc1334': 50,\n",
       " 'frc1114': 50,\n",
       " 'frc8729': 49,\n",
       " 'frc1310': 45,\n",
       " 'frc2706': 45,\n",
       " 'frc610': 44,\n",
       " 'frc7690': 43,\n",
       " 'frc6864': 42,\n",
       " 'frc9263': 41,\n",
       " 'frc2708': 41,\n",
       " 'frc2013': 39,\n",
       " 'frc5596': 38,\n",
       " 'frc6987': 37,\n",
       " 'frc7476': 37,\n",
       " 'frc6378': 36,\n",
       " 'frc5885': 36,\n",
       " 'frc6854': 34,\n",
       " 'frc5036': 34,\n",
       " 'frc4343': 32,\n",
       " 'frc6865': 31,\n",
       " 'frc865': 31,\n",
       " 'frc7757': 30,\n",
       " 'frc1285': 27,\n",
       " 'frc8764': 27,\n",
       " 'frc7722': 25}"
      ]
     },
     "execution_count": 10,
     "metadata": {},
     "output_type": "execute_result"
    }
   ],
   "source": [
    "list1 = []\n",
    "for i in tba.event_matches(event):\n",
    "    if i['comp_level'] == 'qm':\n",
    "        teamb1 = i['alliances']['blue']['team_keys'][0]\n",
    "        teamb2 = i['alliances']['blue']['team_keys'][1]\n",
    "        teamb3 = i['alliances']['blue']['team_keys'][2]\n",
    "        teamr1 = i['alliances']['red']['team_keys'][0]\n",
    "        teamr2 = i['alliances']['red']['team_keys'][1]\n",
    "        teamr3 = i['alliances']['red']['team_keys'][2]\n",
    "        \n",
    "        autoblueVal = i['score_breakdown']['blue']['teleopCommunity']['M']\n",
    "        autoblueCount = len(autoblueVal) - autoblueVal.count('None')\n",
    "\n",
    "        autoredVal = i['score_breakdown']['red']['teleopCommunity']['M']\n",
    "        autoredCount = len(autoredVal) - autoredVal.count('None')\n",
    "        \n",
    "        dict1 = { teamb1:autoblueCount\n",
    "                , teamb2:autoblueCount\n",
    "                , teamb3:autoblueCount\n",
    "                , teamr1:autoredCount\n",
    "                , teamr2:autoredCount\n",
    "                , teamr3:autoredCount}\n",
    "        list1.append(dict1)\n",
    "counter = collections.Counter()\n",
    "for d in list1:\n",
    "    counter.update(d)\n",
    "\n",
    "res = dict(sorted(counter.items(), key=lambda item: item[1], reverse=True))\n",
    "\n",
    "print('Most Mid Team')\n",
    "res"
   ]
  },
  {
   "cell_type": "code",
   "execution_count": 11,
   "id": "6b65c667",
   "metadata": {
    "scrolled": true
   },
   "outputs": [
    {
     "name": "stdout",
     "output_type": "stream",
     "text": [
      "Biggest difference between Cones vs Cubes\n"
     ]
    },
    {
     "data": {
      "text/plain": [
       "{'frc4907': 71,\n",
       " 'frc4678': 64,\n",
       " 'frc4069': 59,\n",
       " 'frc4920': 52,\n",
       " 'frc1325': 46,\n",
       " 'frc4903': 44,\n",
       " 'frc4039': 44,\n",
       " 'frc2609': 43,\n",
       " 'frc4946': 42,\n",
       " 'frc2013': 40,\n",
       " 'frc2706': 40,\n",
       " 'frc4688': 37,\n",
       " 'frc4917': 36,\n",
       " 'frc865': 36,\n",
       " 'frc1285': -34,\n",
       " 'frc3739': 34,\n",
       " 'frc6987': 30,\n",
       " 'frc5024': 28,\n",
       " 'frc9263': 28,\n",
       " 'frc2708': -26,\n",
       " 'frc4343': 25,\n",
       " 'frc2386': 25,\n",
       " 'frc1310': 22,\n",
       " 'frc6378': 19,\n",
       " 'frc6864': -17,\n",
       " 'frc7757': -16,\n",
       " 'frc7476': 16,\n",
       " 'frc7690': 16,\n",
       " 'frc610': 11,\n",
       " 'frc6854': -10,\n",
       " 'frc5036': -10,\n",
       " 'frc8729': -6,\n",
       " 'frc1334': -6,\n",
       " 'frc5596': -6,\n",
       " 'frc8764': -5,\n",
       " 'frc6865': -3,\n",
       " 'frc1114': 3,\n",
       " 'frc5870': -3,\n",
       " 'frc5885': -2,\n",
       " 'frc7722': -2}"
      ]
     },
     "execution_count": 11,
     "metadata": {},
     "output_type": "execute_result"
    }
   ],
   "source": [
    "list1 = []\n",
    "for i in tba.event_matches(event):\n",
    "    if i['comp_level'] == 'qm':\n",
    "        teamb1 = i['alliances']['blue']['team_keys'][0]\n",
    "        teamb2 = i['alliances']['blue']['team_keys'][1]\n",
    "        teamb3 = i['alliances']['blue']['team_keys'][2]\n",
    "        teamr1 = i['alliances']['red']['team_keys'][0]\n",
    "        teamr2 = i['alliances']['red']['team_keys'][1]\n",
    "        teamr3 = i['alliances']['red']['team_keys'][2]\n",
    "        \n",
    "        autoblueVal = 0\n",
    "        autoredVal = 0\n",
    "        \n",
    "        for j in i['score_breakdown']['blue']['teleopCommunity'].values():\n",
    "            autoblueVal += j.count('Cone')\n",
    "            autoblueVal -= j.count('Cube')\n",
    "\n",
    "        for j in i['score_breakdown']['red']['teleopCommunity'].values():\n",
    "            autoredVal += j.count('Cone')\n",
    "            autoredVal -= j.count('Cube')\n",
    "        \n",
    "        dict1 = { teamb1:autoblueVal\n",
    "                , teamb2:autoblueVal\n",
    "                , teamb3:autoblueVal\n",
    "                , teamr1:autoredVal\n",
    "                , teamr2:autoredVal\n",
    "                , teamr3:autoredVal}\n",
    "        list1.append(dict1)\n",
    "counter = collections.Counter()\n",
    "for d in list1:\n",
    "    counter.update(d)\n",
    "\n",
    "res = dict(sorted(counter.items(), key=lambda item: abs(item[1]), reverse=True))\n",
    "\n",
    "print('Biggest difference between Cones vs Cubes')\n",
    "res"
   ]
  },
  {
   "cell_type": "code",
   "execution_count": 12,
   "id": "e5c8d258",
   "metadata": {},
   "outputs": [],
   "source": [
    "# dict1 = tba.event_oprs(event)['oprs']\n",
    "\n",
    "# list1 = []\n",
    "# for i in tba.event_matches(event):\n",
    "#     if i['comp_level'] == 'qm':\n",
    "#         teamb1 = i['alliances']['blue']['team_keys'][0]\n",
    "#         teamb2 = i['alliances']['blue']['team_keys'][1]\n",
    "#         teamb3 = i['alliances']['blue']['team_keys'][2]\n",
    "#         teamr1 = i['alliances']['red']['team_keys'][0]\n",
    "#         teamr2 = i['alliances']['red']['team_keys'][1]\n",
    "#         teamr3 = i['alliances']['red']['team_keys'][2]\n",
    "\n",
    "#         val = dict1[teamb1] + dict1[teamb2] + dict1[teamb3] - dict1[teamr1] - dict1[teamr2] - dict1[teamr3]\n",
    "        \n",
    "    \n",
    "#         if i['winning_alliance'] == 'red':\n",
    "#             val = -val\n",
    "        \n",
    "#         dict2 = {i['match_number']:val}\n",
    "#         list1.append(dict2)\n",
    "# counter = collections.Counter()\n",
    "# for d in list1:\n",
    "#     counter.update(d)\n",
    "\n",
    "# res = sorted(counter.items(), key=lambda item: item[1], reverse=False)\n",
    "\n",
    "# # print(res)\n",
    "# print('Winners & Losers of Biggest Upset')\n",
    "\n",
    "\n",
    "# for i in tba.event_matches(event):\n",
    "#     if i['comp_level'] == 'qm' and i['match_number'] == res[0][0]:\n",
    "#         print(i['alliances']['red']['team_keys'], i['alliances']['blue']['team_keys'])"
   ]
  },
  {
   "cell_type": "code",
   "execution_count": 13,
   "id": "d0fb1dd6",
   "metadata": {},
   "outputs": [
    {
     "name": "stdout",
     "output_type": "stream",
     "text": [
      "Top 3 teams in auto game pieces scored\n"
     ]
    },
    {
     "data": {
      "text/plain": [
       "{'frc4678': 55,\n",
       " 'frc1325': 49,\n",
       " 'frc4946': 48,\n",
       " 'frc4920': 46,\n",
       " 'frc1310': 45,\n",
       " 'frc4907': 44,\n",
       " 'frc4069': 44,\n",
       " 'frc4039': 43,\n",
       " 'frc1285': 42,\n",
       " 'frc4903': 42,\n",
       " 'frc5870': 42,\n",
       " 'frc2708': 41,\n",
       " 'frc3739': 40,\n",
       " 'frc6378': 40,\n",
       " 'frc4688': 40,\n",
       " 'frc1114': 39,\n",
       " 'frc5024': 38,\n",
       " 'frc6865': 38,\n",
       " 'frc7757': 38,\n",
       " 'frc1334': 38,\n",
       " 'frc5885': 38,\n",
       " 'frc6854': 38,\n",
       " 'frc2013': 38,\n",
       " 'frc2609': 37,\n",
       " 'frc2386': 37,\n",
       " 'frc610': 37,\n",
       " 'frc5036': 37,\n",
       " 'frc7690': 37,\n",
       " 'frc8764': 37,\n",
       " 'frc865': 37,\n",
       " 'frc4343': 36,\n",
       " 'frc6864': 36,\n",
       " 'frc4917': 35,\n",
       " 'frc8729': 35,\n",
       " 'frc7476': 35,\n",
       " 'frc2706': 35,\n",
       " 'frc5596': 35,\n",
       " 'frc7722': 35,\n",
       " 'frc9263': 34,\n",
       " 'frc6987': 28}"
      ]
     },
     "execution_count": 13,
     "metadata": {},
     "output_type": "execute_result"
    }
   ],
   "source": [
    "list1 = []\n",
    "for i in tba.event_matches(event):\n",
    "    if i['comp_level'] == 'qm':\n",
    "        teamb1 = i['alliances']['blue']['team_keys'][0]\n",
    "        teamb2 = i['alliances']['blue']['team_keys'][1]\n",
    "        teamb3 = i['alliances']['blue']['team_keys'][2]\n",
    "        teamr1 = i['alliances']['red']['team_keys'][0]\n",
    "        teamr2 = i['alliances']['red']['team_keys'][1]\n",
    "        teamr3 = i['alliances']['red']['team_keys'][2]\n",
    "        \n",
    "        autoblueVal = 0\n",
    "        autoredVal = 0\n",
    "        \n",
    "        for j in i['score_breakdown']['blue']['autoCommunity'].values():\n",
    "            autoblueVal += len(j)\n",
    "            autoblueVal -= j.count('None')\n",
    "            \n",
    "        for j in i['score_breakdown']['red']['autoCommunity'].values():\n",
    "            autoredVal += len(j)\n",
    "            autoredVal -= j.count('None')\n",
    "        \n",
    "        dict1 = { teamb1:autoblueVal\n",
    "                , teamb2:autoblueVal\n",
    "                , teamb3:autoblueVal\n",
    "                , teamr1:autoredVal\n",
    "                , teamr2:autoredVal\n",
    "                , teamr3:autoredVal}\n",
    "        list1.append(dict1)\n",
    "counter = collections.Counter()\n",
    "for d in list1:\n",
    "    counter.update(d)\n",
    "\n",
    "res = dict(sorted(counter.items(), key=lambda item: item[1], reverse=True))\n",
    "\n",
    "print('Top 3 teams in auto game pieces scored')\n",
    "res"
   ]
  },
  {
   "cell_type": "code",
   "execution_count": 14,
   "id": "b24fd0db",
   "metadata": {},
   "outputs": [],
   "source": [
    "# list1 = []\n",
    "# for i in tba.event_matches(event):\n",
    "#     if i['comp_level'] == 'qm':\n",
    "#         teamb1 = i['alliances']['blue']['team_keys'][0]\n",
    "#         teamb2 = i['alliances']['blue']['team_keys'][1]\n",
    "#         teamb3 = i['alliances']['blue']['team_keys'][2]\n",
    "#         teamr1 = i['alliances']['red']['team_keys'][0]\n",
    "#         teamr2 = i['alliances']['red']['team_keys'][1]\n",
    "#         teamr3 = i['alliances']['red']['team_keys'][2]\n",
    "        \n",
    "#         score = i['alliances']['blue']['score'] + i['alliances']['red']['score']\n",
    "        \n",
    "#         dict1 = { i['match_number']:score}\n",
    "#         list1.append(dict1)\n",
    "# counter = collections.Counter()\n",
    "# for d in list1:\n",
    "#     counter.update(d)\n",
    "\n",
    "# res = sorted(counter.items(), key=lambda item: item[1], reverse=True)\n",
    "\n",
    "# print('Losers in Highest Scored Match')\n",
    "# print(res[0][0])\n",
    "# for i in tba.event_matches(event):\n",
    "#     if i['comp_level'] == 'qm' and i['match_number'] == res[0][0]:\n",
    "#         if i['winning_alliance'] == 'blue':\n",
    "#             print(i['alliances']['red']['team_keys'])\n",
    "#         else:\n",
    "#             print(i['alliances']['blue']['team_keys'])"
   ]
  },
  {
   "cell_type": "code",
   "execution_count": 15,
   "id": "c6193f7a",
   "metadata": {},
   "outputs": [],
   "source": [
    "# print('Losers in Highest Scored Match')\n",
    "# for i in tba.event_matches(event):\n",
    "#     if i['key'] == tba.event_insights(event)['qual']['high_score'][1]:\n",
    "#         if i['winning_alliance'] == 'blue':\n",
    "#             print(i['alliances']['red']['team_keys'])\n",
    "#         else:\n",
    "#             print(i['alliances']['blue']['team_keys'])"
   ]
  },
  {
   "cell_type": "code",
   "execution_count": 16,
   "id": "21a3bac1",
   "metadata": {},
   "outputs": [],
   "source": [
    "# print('Quals High Score')\n",
    "# tba.event_insights(event)['qual']['high_score']"
   ]
  },
  {
   "cell_type": "code",
   "execution_count": 17,
   "id": "cb4ba48c",
   "metadata": {},
   "outputs": [
    {
     "name": "stdout",
     "output_type": "stream",
     "text": [
      "Last 3 Picks\n",
      "frc8729\n",
      "frc1334\n",
      "frc2708\n"
     ]
    }
   ],
   "source": [
    "print('Last 3 Picks')\n",
    "print(tba.event_alliances(event)[0]['picks'][2])\n",
    "print(tba.event_alliances(event)[1]['picks'][2])\n",
    "print(tba.event_alliances(event)[2]['picks'][2])"
   ]
  },
  {
   "cell_type": "code",
   "execution_count": 18,
   "id": "43aacf2b",
   "metadata": {},
   "outputs": [
    {
     "name": "stdout",
     "output_type": "stream",
     "text": [
      "3rd Alliance Captain\n",
      "frc5024\n"
     ]
    }
   ],
   "source": [
    "print('3rd Alliance Captain')\n",
    "print(tba.event_alliances(event)[2]['picks'][0])"
   ]
  },
  {
   "cell_type": "code",
   "execution_count": 19,
   "id": "2cd1f1c2",
   "metadata": {},
   "outputs": [
    {
     "name": "stdout",
     "output_type": "stream",
     "text": [
      "Top 5 Left out of Elims\n",
      "[('frc8764', 16), ('frc2386', 18), ('frc5885', 19), ('frc6864', 24), ('frc6854', 26), ('frc7690', 27), ('frc5870', 28), ('frc7757', 30), ('frc5036', 31), ('frc5596', 32), ('frc6378', 33), ('frc7722', 34), ('frc9263', 35), ('frc7476', 37), ('frc6987', 39), ('frc6865', 40)]\n"
     ]
    }
   ],
   "source": [
    "dict1 = {}\n",
    "for r in tba.event_rankings(event)['rankings']:\n",
    "    team_key = r['team_key']\n",
    "    dict1[team_key] = r['rank']\n",
    "    \n",
    "dict2 = {}\n",
    "for key, value in tba.event_district_points(event)['points'].items():\n",
    "    if value['alliance_points'] == 0:\n",
    "        dict2[key] = dict1[key]\n",
    "\n",
    "print('Top 5 Left out of Elims')\n",
    "print(sorted(dict2.items(), key=lambda x:x[1]))"
   ]
  },
  {
   "cell_type": "code",
   "execution_count": 20,
   "id": "28b83afe",
   "metadata": {},
   "outputs": [
    {
     "data": {
      "text/plain": [
       "{'frc4946': 1,\n",
       " 'frc4069': 2,\n",
       " 'frc4678': 3,\n",
       " 'frc5024': 4,\n",
       " 'frc4039': 5,\n",
       " 'frc4907': 6,\n",
       " 'frc4688': 7,\n",
       " 'frc1325': 8,\n",
       " 'frc4903': 9,\n",
       " 'frc4920': 10,\n",
       " 'frc1310': 11,\n",
       " 'frc4343': 12,\n",
       " 'frc610': 13,\n",
       " 'frc2609': 14,\n",
       " 'frc865': 15,\n",
       " 'frc8764': 16,\n",
       " 'frc1114': 17,\n",
       " 'frc2386': 18,\n",
       " 'frc5885': 19,\n",
       " 'frc1334': 20,\n",
       " 'frc2013': 21,\n",
       " 'frc2706': 22,\n",
       " 'frc4917': 23,\n",
       " 'frc6864': 24,\n",
       " 'frc8729': 25,\n",
       " 'frc6854': 26,\n",
       " 'frc7690': 27,\n",
       " 'frc5870': 28,\n",
       " 'frc2708': 29,\n",
       " 'frc7757': 30,\n",
       " 'frc5036': 31,\n",
       " 'frc5596': 32,\n",
       " 'frc6378': 33,\n",
       " 'frc7722': 34,\n",
       " 'frc9263': 35,\n",
       " 'frc1285': 36,\n",
       " 'frc7476': 37,\n",
       " 'frc3739': 38,\n",
       " 'frc6987': 39,\n",
       " 'frc6865': 40}"
      ]
     },
     "execution_count": 20,
     "metadata": {},
     "output_type": "execute_result"
    }
   ],
   "source": [
    "dict1 = {}\n",
    "for r in tba.event_rankings(event)['rankings']:\n",
    "    team_key = r['team_key']\n",
    "    dict1[team_key] = r['rank']\n",
    "dict1"
   ]
  },
  {
   "cell_type": "code",
   "execution_count": 21,
   "id": "f03c5d22",
   "metadata": {},
   "outputs": [],
   "source": []
  },
  {
   "cell_type": "code",
   "execution_count": 22,
   "id": "f4574ffd",
   "metadata": {
    "scrolled": true
   },
   "outputs": [],
   "source": []
  },
  {
   "cell_type": "code",
   "execution_count": 6,
   "id": "e0f2c3bc",
   "metadata": {},
   "outputs": [
    {
     "data": {
      "text/plain": [
       "[Match({'actual_time': 1680977300, 'alliances': {'blue': {'dq_team_keys': [], 'score': 174, 'surrogate_team_keys': [], 'team_keys': ['frc1325', 'frc4903', 'frc3739']}, 'red': {'dq_team_keys': [], 'score': 179, 'surrogate_team_keys': [], 'team_keys': ['frc4946', 'frc8729', 'frc4678']}}, 'comp_level': 'f', 'event_key': '2023oncmp2', 'key': '2023oncmp2_f1m1', 'match_number': 1, 'post_result_time': 1680977479, 'predicted_time': 1680977282, 'score_breakdown': {'blue': {'activationBonusAchieved': False, 'adjustPoints': 0, 'autoBridgeState': 'Level', 'autoChargeStationPoints': 0, 'autoChargeStationRobot1': 'None', 'autoChargeStationRobot2': 'None', 'autoChargeStationRobot3': 'None', 'autoCommunity': {'B': ['None', 'None', 'None', 'None', 'None', 'None', 'None', 'None', 'None'], 'M': ['None', 'None', 'None', 'None', 'None', 'None', 'None', 'None', 'None'], 'T': ['None', 'Cube', 'None', 'None', 'Cube', 'None', 'None', 'Cube', 'Cone']}, 'autoDocked': False, 'autoGamePieceCount': 4, 'autoGamePiecePoints': 24, 'autoMobilityPoints': 9, 'autoPoints': 33, 'coopGamePieceCount': 8, 'coopertitionCriteriaMet': False, 'endGameBridgeState': 'Level', 'endGameChargeStationPoints': 30, 'endGameChargeStationRobot1': 'Docked', 'endGameChargeStationRobot2': 'Docked', 'endGameChargeStationRobot3': 'Docked', 'endGameParkPoints': 0, 'foulCount': 0, 'foulPoints': 10, 'linkPoints': 35, 'links': [{'nodes': [0, 1, 2], 'row': 'Bottom'}, {'nodes': [0, 1, 2], 'row': 'Mid'}, {'nodes': [3, 4, 5], 'row': 'Mid'}, {'nodes': [6, 7, 8], 'row': 'Mid'}, {'nodes': [0, 1, 2], 'row': 'Top'}, {'nodes': [3, 4, 5], 'row': 'Top'}, {'nodes': [6, 7, 8], 'row': 'Top'}], 'mobilityRobot1': 'Yes', 'mobilityRobot2': 'Yes', 'mobilityRobot3': 'Yes', 'rp': 0, 'sustainabilityBonusAchieved': False, 'techFoulCount': 0, 'teleopCommunity': {'B': ['Cone', 'Cube', 'Cube', 'Cube', 'Cone', 'None', 'None', 'Cube', 'Cube'], 'M': ['Cone', 'Cube', 'Cone', 'Cone', 'Cube', 'Cone', 'Cone', 'Cube', 'Cone'], 'T': ['Cone', 'Cube', 'Cone', 'Cone', 'Cube', 'Cone', 'Cone', 'Cube', 'Cone']}, 'teleopGamePieceCount': 25, 'teleopGamePiecePoints': 66, 'teleopPoints': 96, 'totalChargeStationPoints': 30, 'totalPoints': 174}, 'red': {'activationBonusAchieved': False, 'adjustPoints': 0, 'autoBridgeState': 'Level', 'autoChargeStationPoints': 12, 'autoChargeStationRobot1': 'None', 'autoChargeStationRobot2': 'Docked', 'autoChargeStationRobot3': 'None', 'autoCommunity': {'B': ['None', 'None', 'None', 'None', 'None', 'None', 'Cube', 'None', 'None'], 'M': ['None', 'None', 'None', 'None', 'Cube', 'None', 'None', 'Cube', 'None'], 'T': ['Cone', 'Cube', 'None', 'None', 'None', 'None', 'None', 'None', 'None']}, 'autoDocked': True, 'autoGamePieceCount': 5, 'autoGamePiecePoints': 23, 'autoMobilityPoints': 6, 'autoPoints': 41, 'coopGamePieceCount': 9, 'coopertitionCriteriaMet': False, 'endGameBridgeState': 'Level', 'endGameChargeStationPoints': 30, 'endGameChargeStationRobot1': 'Docked', 'endGameChargeStationRobot2': 'Docked', 'endGameChargeStationRobot3': 'Docked', 'endGameParkPoints': 0, 'foulCount': 2, 'foulPoints': 0, 'linkPoints': 40, 'links': [{'nodes': [2, 3, 4], 'row': 'Bottom'}, {'nodes': [5, 6, 7], 'row': 'Bottom'}, {'nodes': [0, 1, 2], 'row': 'Mid'}, {'nodes': [3, 4, 5], 'row': 'Mid'}, {'nodes': [6, 7, 8], 'row': 'Mid'}, {'nodes': [0, 1, 2], 'row': 'Top'}, {'nodes': [3, 4, 5], 'row': 'Top'}, {'nodes': [6, 7, 8], 'row': 'Top'}], 'mobilityRobot1': 'Yes', 'mobilityRobot2': 'No', 'mobilityRobot3': 'Yes', 'rp': 0, 'sustainabilityBonusAchieved': False, 'techFoulCount': 0, 'teleopCommunity': {'B': ['None', 'None', 'Cube', 'Cone', 'Cube', 'Cube', 'Cube', 'Cone', 'Cone'], 'M': ['Cone', 'Cube', 'Cone', 'Cone', 'Cube', 'Cone', 'Cone', 'Cube', 'Cone'], 'T': ['Cone', 'Cube', 'Cone', 'Cone', 'Cube', 'Cone', 'Cone', 'Cube', 'Cone']}, 'teleopGamePieceCount': 25, 'teleopGamePiecePoints': 68, 'teleopPoints': 98, 'totalChargeStationPoints': 42, 'totalPoints': 179}}, 'set_number': 1, 'time': 1680970980, 'videos': [{'key': '7tzZq8MzGRM', 'type': 'youtube'}, {'key': 'mi55nsgwegA', 'type': 'youtube'}], 'winning_alliance': 'red'}),\n",
       " Match({'actual_time': 1680979217, 'alliances': {'blue': {'dq_team_keys': [], 'score': 162, 'surrogate_team_keys': [], 'team_keys': ['frc1325', 'frc4903', 'frc3739']}, 'red': {'dq_team_keys': [], 'score': 174, 'surrogate_team_keys': [], 'team_keys': ['frc4946', 'frc8729', 'frc4678']}}, 'comp_level': 'f', 'event_key': '2023oncmp2', 'key': '2023oncmp2_f1m2', 'match_number': 2, 'post_result_time': 1680979389, 'predicted_time': 1680979278, 'score_breakdown': {'blue': {'activationBonusAchieved': False, 'adjustPoints': 0, 'autoBridgeState': 'Level', 'autoChargeStationPoints': 12, 'autoChargeStationRobot1': 'None', 'autoChargeStationRobot2': 'Docked', 'autoChargeStationRobot3': 'None', 'autoCommunity': {'B': ['None', 'None', 'None', 'None', 'None', 'None', 'None', 'None', 'None'], 'M': ['None', 'None', 'None', 'None', 'None', 'None', 'None', 'None', 'None'], 'T': ['None', 'Cube', 'None', 'None', 'Cube', 'None', 'None', 'Cube', 'Cone']}, 'autoDocked': True, 'autoGamePieceCount': 4, 'autoGamePiecePoints': 24, 'autoMobilityPoints': 9, 'autoPoints': 45, 'coopGamePieceCount': 8, 'coopertitionCriteriaMet': False, 'endGameBridgeState': 'Level', 'endGameChargeStationPoints': 20, 'endGameChargeStationRobot1': 'Docked', 'endGameChargeStationRobot2': 'Docked', 'endGameChargeStationRobot3': 'Park', 'endGameParkPoints': 2, 'foulCount': 0, 'foulPoints': 0, 'linkPoints': 35, 'links': [{'nodes': [2, 3, 4], 'row': 'Bottom'}, {'nodes': [0, 1, 2], 'row': 'Mid'}, {'nodes': [3, 4, 5], 'row': 'Mid'}, {'nodes': [6, 7, 8], 'row': 'Mid'}, {'nodes': [0, 1, 2], 'row': 'Top'}, {'nodes': [3, 4, 5], 'row': 'Top'}, {'nodes': [6, 7, 8], 'row': 'Top'}], 'mobilityRobot1': 'Yes', 'mobilityRobot2': 'Yes', 'mobilityRobot3': 'Yes', 'rp': 0, 'sustainabilityBonusAchieved': False, 'techFoulCount': 0, 'teleopCommunity': {'B': ['Cone', 'None', 'Cone', 'Cube', 'Cube', 'None', 'None', 'None', 'None'], 'M': ['Cone', 'Cube', 'Cone', 'Cone', 'Cube', 'Cone', 'Cone', 'Cube', 'Cone'], 'T': ['Cone', 'Cube', 'Cone', 'Cone', 'Cube', 'Cone', 'Cone', 'Cube', 'Cone']}, 'teleopGamePieceCount': 22, 'teleopGamePiecePoints': 60, 'teleopPoints': 82, 'totalChargeStationPoints': 32, 'totalPoints': 162}, 'red': {'activationBonusAchieved': False, 'adjustPoints': 0, 'autoBridgeState': 'Level', 'autoChargeStationPoints': 12, 'autoChargeStationRobot1': 'None', 'autoChargeStationRobot2': 'Docked', 'autoChargeStationRobot3': 'None', 'autoCommunity': {'B': ['Cone', 'None', 'None', 'None', 'None', 'None', 'None', 'Cube', 'None'], 'M': ['None', 'None', 'None', 'None', 'Cube', 'None', 'None', 'None', 'None'], 'T': ['None', 'Cube', 'Cone', 'None', 'None', 'None', 'None', 'Cube', 'None']}, 'autoDocked': True, 'autoGamePieceCount': 6, 'autoGamePiecePoints': 28, 'autoMobilityPoints': 9, 'autoPoints': 49, 'coopGamePieceCount': 7, 'coopertitionCriteriaMet': False, 'endGameBridgeState': 'Level', 'endGameChargeStationPoints': 30, 'endGameChargeStationRobot1': 'Docked', 'endGameChargeStationRobot2': 'Docked', 'endGameChargeStationRobot3': 'Docked', 'endGameParkPoints': 0, 'foulCount': 0, 'foulPoints': 0, 'linkPoints': 35, 'links': [{'nodes': [0, 1, 2], 'row': 'Bottom'}, {'nodes': [0, 1, 2], 'row': 'Mid'}, {'nodes': [3, 4, 5], 'row': 'Mid'}, {'nodes': [6, 7, 8], 'row': 'Mid'}, {'nodes': [0, 1, 2], 'row': 'Top'}, {'nodes': [3, 4, 5], 'row': 'Top'}, {'nodes': [6, 7, 8], 'row': 'Top'}], 'mobilityRobot1': 'Yes', 'mobilityRobot2': 'Yes', 'mobilityRobot3': 'Yes', 'rp': 0, 'sustainabilityBonusAchieved': False, 'techFoulCount': 0, 'teleopCommunity': {'B': ['Cone', 'Cube', 'Cone', 'None', 'None', 'Cube', 'None', 'Cube', 'None'], 'M': ['Cone', 'Cube', 'Cone', 'Cone', 'Cube', 'Cone', 'Cone', 'Cube', 'Cone'], 'T': ['Cone', 'Cube', 'Cone', 'Cone', 'Cube', 'Cone', 'Cone', 'Cube', 'Cone']}, 'teleopGamePieceCount': 23, 'teleopGamePiecePoints': 60, 'teleopPoints': 90, 'totalChargeStationPoints': 42, 'totalPoints': 174}}, 'set_number': 1, 'time': 1680972180, 'videos': [{'key': 'YKqpgKfKLx8', 'type': 'youtube'}, {'key': 'Z4vSkl4PDwM', 'type': 'youtube'}], 'winning_alliance': 'red'}),\n",
       " Match({'actual_time': 1680779239, 'alliances': {'blue': {'dq_team_keys': [], 'score': 132, 'surrogate_team_keys': [], 'team_keys': ['frc5024', 'frc4343', 'frc1285']}, 'red': {'dq_team_keys': [], 'score': 78, 'surrogate_team_keys': [], 'team_keys': ['frc4920', 'frc9263', 'frc6987']}}, 'comp_level': 'qm', 'event_key': '2023oncmp2', 'key': '2023oncmp2_qm1', 'match_number': 1, 'post_result_time': 1680779458, 'predicted_time': 1680793693, 'score_breakdown': {'blue': {'activationBonusAchieved': False, 'adjustPoints': 0, 'autoBridgeState': 'Level', 'autoChargeStationPoints': 0, 'autoChargeStationRobot1': 'None', 'autoChargeStationRobot2': 'None', 'autoChargeStationRobot3': 'None', 'autoCommunity': {'B': ['None', 'None', 'None', 'None', 'None', 'None', 'None', 'None', 'None'], 'M': ['None', 'None', 'None', 'None', 'None', 'None', 'None', 'Cube', 'None'], 'T': ['Cone', 'None', 'None', 'None', 'None', 'Cone', 'None', 'None', 'None']}, 'autoDocked': False, 'autoGamePieceCount': 3, 'autoGamePiecePoints': 16, 'autoMobilityPoints': 9, 'autoPoints': 25, 'coopGamePieceCount': 7, 'coopertitionCriteriaMet': True, 'endGameBridgeState': 'NotLevel', 'endGameChargeStationPoints': 12, 'endGameChargeStationRobot1': 'Docked', 'endGameChargeStationRobot2': 'None', 'endGameChargeStationRobot3': 'Docked', 'endGameParkPoints': 0, 'foulCount': 1, 'foulPoints': 5, 'linkPoints': 30, 'links': [{'nodes': [0, 1, 2], 'row': 'Bottom'}, {'nodes': [3, 4, 5], 'row': 'Mid'}, {'nodes': [6, 7, 8], 'row': 'Mid'}, {'nodes': [0, 1, 2], 'row': 'Top'}, {'nodes': [3, 4, 5], 'row': 'Top'}, {'nodes': [6, 7, 8], 'row': 'Top'}], 'mobilityRobot1': 'Yes', 'mobilityRobot2': 'Yes', 'mobilityRobot3': 'Yes', 'rp': 3, 'sustainabilityBonusAchieved': True, 'techFoulCount': 0, 'teleopCommunity': {'B': ['Cube', 'Cube', 'Cube', 'None', 'None', 'Cube', 'Cube', 'None', 'None'], 'M': ['None', 'None', 'None', 'Cone', 'Cube', 'Cone', 'Cone', 'Cube', 'Cone'], 'T': ['Cone', 'Cube', 'Cone', 'Cone', 'Cube', 'Cone', 'Cone', 'Cube', 'Cone']}, 'teleopGamePieceCount': 20, 'teleopGamePiecePoints': 60, 'teleopPoints': 72, 'totalChargeStationPoints': 12, 'totalPoints': 132}, 'red': {'activationBonusAchieved': True, 'adjustPoints': 0, 'autoBridgeState': 'NotLevel', 'autoChargeStationPoints': 0, 'autoChargeStationRobot1': 'None', 'autoChargeStationRobot2': 'None', 'autoChargeStationRobot3': 'None', 'autoCommunity': {'B': ['None', 'None', 'None', 'None', 'None', 'None', 'None', 'None', 'Cube'], 'M': ['None', 'None', 'None', 'None', 'None', 'None', 'None', 'None', 'None'], 'T': ['Cone', 'Cube', 'None', 'None', 'None', 'None', 'None', 'None', 'None']}, 'autoDocked': False, 'autoGamePieceCount': 3, 'autoGamePiecePoints': 15, 'autoMobilityPoints': 3, 'autoPoints': 18, 'coopGamePieceCount': 1, 'coopertitionCriteriaMet': False, 'endGameBridgeState': 'Level', 'endGameChargeStationPoints': 30, 'endGameChargeStationRobot1': 'Docked', 'endGameChargeStationRobot2': 'Docked', 'endGameChargeStationRobot3': 'Docked', 'endGameParkPoints': 0, 'foulCount': 1, 'foulPoints': 5, 'linkPoints': 10, 'links': [{'nodes': [6, 7, 8], 'row': 'Bottom'}, {'nodes': [0, 1, 2], 'row': 'Top'}], 'mobilityRobot1': 'Yes', 'mobilityRobot2': 'No', 'mobilityRobot3': 'No', 'rp': 1, 'sustainabilityBonusAchieved': False, 'techFoulCount': 0, 'teleopCommunity': {'B': ['Cone', 'Cone', 'None', 'None', 'Cube', 'None', 'Cube', 'Cone', 'Cube'], 'M': ['None', 'None', 'None', 'None', 'None', 'None', 'None', 'None', 'None'], 'T': ['Cone', 'Cube', 'Cone', 'None', 'None', 'None', 'None', 'None', 'None']}, 'teleopGamePieceCount': 9, 'teleopGamePiecePoints': 15, 'teleopPoints': 45, 'totalChargeStationPoints': 30, 'totalPoints': 78}}, 'set_number': 1, 'time': 1680793200, 'videos': [], 'winning_alliance': 'blue'}),\n",
       " Match({'actual_time': 1680785182, 'alliances': {'blue': {'dq_team_keys': ['frc3739'], 'score': 127, 'surrogate_team_keys': [], 'team_keys': ['frc9263', 'frc3739', 'frc4946']}, 'red': {'dq_team_keys': [], 'score': 92, 'surrogate_team_keys': [], 'team_keys': ['frc4917', 'frc6378', 'frc6865']}}, 'comp_level': 'qm', 'event_key': '2023oncmp2', 'key': '2023oncmp2_qm10', 'match_number': 10, 'post_result_time': 1680785485, 'predicted_time': 1680799878, 'score_breakdown': {'blue': {'activationBonusAchieved': True, 'adjustPoints': 0, 'autoBridgeState': 'NotLevel', 'autoChargeStationPoints': 8, 'autoChargeStationRobot1': 'None', 'autoChargeStationRobot2': 'Docked', 'autoChargeStationRobot3': 'None', 'autoCommunity': {'B': ['None', 'None', 'None', 'None', 'None', 'None', 'None', 'None', 'Cone'], 'M': ['None', 'Cube', 'None', 'None', 'Cube', 'None', 'None', 'None', 'None'], 'T': ['None', 'Cube', 'None', 'None', 'None', 'None', 'None', 'None', 'None']}, 'autoDocked': True, 'autoGamePieceCount': 4, 'autoGamePiecePoints': 17, 'autoMobilityPoints': 9, 'autoPoints': 34, 'coopGamePieceCount': 6, 'coopertitionCriteriaMet': True, 'endGameBridgeState': 'Level', 'endGameChargeStationPoints': 20, 'endGameChargeStationRobot1': 'None', 'endGameChargeStationRobot2': 'Docked', 'endGameChargeStationRobot3': 'Docked', 'endGameParkPoints': 0, 'foulCount': 1, 'foulPoints': 0, 'linkPoints': 25, 'links': [{'nodes': [0, 1, 2], 'row': 'Mid'}, {'nodes': [3, 4, 5], 'row': 'Mid'}, {'nodes': [6, 7, 8], 'row': 'Mid'}, {'nodes': [0, 1, 2], 'row': 'Top'}, {'nodes': [3, 4, 5], 'row': 'Top'}], 'mobilityRobot1': 'Yes', 'mobilityRobot2': 'Yes', 'mobilityRobot3': 'Yes', 'rp': 4, 'sustainabilityBonusAchieved': True, 'techFoulCount': 1, 'teleopCommunity': {'B': ['None', 'None', 'None', 'None', 'None', 'None', 'None', 'Cube', 'Cone'], 'M': ['Cone', 'Cube', 'Cone', 'Cone', 'Cube', 'Cone', 'Cone', 'Cube', 'Cone'], 'T': ['Cone', 'Cube', 'Cone', 'Cone', 'Cube', 'Cone', 'None', 'None', 'None']}, 'teleopGamePieceCount': 17, 'teleopGamePiecePoints': 48, 'teleopPoints': 68, 'totalChargeStationPoints': 28, 'totalPoints': 127}, 'red': {'activationBonusAchieved': False, 'adjustPoints': 0, 'autoBridgeState': 'Level', 'autoChargeStationPoints': 12, 'autoChargeStationRobot1': 'None', 'autoChargeStationRobot2': 'None', 'autoChargeStationRobot3': 'Docked', 'autoCommunity': {'B': ['None', 'None', 'None', 'None', 'Cube', 'None', 'None', 'None', 'None'], 'M': ['None', 'None', 'None', 'None', 'None', 'None', 'None', 'None', 'None'], 'T': ['Cone', 'None', 'None', 'None', 'None', 'None', 'None', 'None', 'Cone']}, 'autoDocked': True, 'autoGamePieceCount': 3, 'autoGamePiecePoints': 15, 'autoMobilityPoints': 3, 'autoPoints': 30, 'coopGamePieceCount': 3, 'coopertitionCriteriaMet': True, 'endGameBridgeState': 'Level', 'endGameChargeStationPoints': 10, 'endGameChargeStationRobot1': 'Docked', 'endGameChargeStationRobot2': 'None', 'endGameChargeStationRobot3': 'None', 'endGameParkPoints': 0, 'foulCount': 0, 'foulPoints': 17, 'linkPoints': 5, 'links': [{'nodes': [4, 5, 6], 'row': 'Top'}], 'mobilityRobot1': 'Yes', 'mobilityRobot2': 'No', 'mobilityRobot3': 'No', 'rp': 0, 'sustainabilityBonusAchieved': False, 'techFoulCount': 0, 'teleopCommunity': {'B': ['None', 'None', 'Cone', 'None', 'Cube', 'None', 'None', 'None', 'None'], 'M': ['None', 'None', 'None', 'None', 'None', 'None', 'None', 'None', 'Cone'], 'T': ['Cone', 'None', 'Cone', 'None', 'Cube', 'Cone', 'Cone', 'Cube', 'Cone']}, 'teleopGamePieceCount': 10, 'teleopGamePiecePoints': 30, 'teleopPoints': 40, 'totalChargeStationPoints': 22, 'totalPoints': 92}}, 'set_number': 1, 'time': 1680798600, 'videos': [{'key': '5WSJzPZF0d0', 'type': 'youtube'}, {'key': 'Zo4hqCJ1fhw', 'type': 'youtube'}], 'winning_alliance': 'blue'}),\n",
       " Match({'actual_time': 1680785803, 'alliances': {'blue': {'dq_team_keys': [], 'score': 138, 'surrogate_team_keys': [], 'team_keys': ['frc4903', 'frc2609', 'frc2386']}, 'red': {'dq_team_keys': [], 'score': 83, 'surrogate_team_keys': [], 'team_keys': ['frc8729', 'frc7757', 'frc1334']}}, 'comp_level': 'qm', 'event_key': '2023oncmp2', 'key': '2023oncmp2_qm11', 'match_number': 11, 'post_result_time': 1680785976, 'predicted_time': 1680800289, 'score_breakdown': {'blue': {'activationBonusAchieved': True, 'adjustPoints': 0, 'autoBridgeState': 'NotLevel', 'autoChargeStationPoints': 8, 'autoChargeStationRobot1': 'None', 'autoChargeStationRobot2': 'Docked', 'autoChargeStationRobot3': 'None', 'autoCommunity': {'B': ['None', 'None', 'None', 'None', 'None', 'None', 'None', 'None', 'None'], 'M': ['None', 'None', 'None', 'None', 'None', 'None', 'None', 'None', 'None'], 'T': ['None', 'Cube', 'None', 'Cone', 'None', 'None', 'None', 'Cube', 'None']}, 'autoDocked': True, 'autoGamePieceCount': 3, 'autoGamePiecePoints': 18, 'autoMobilityPoints': 6, 'autoPoints': 32, 'coopGamePieceCount': 6, 'coopertitionCriteriaMet': True, 'endGameBridgeState': 'Level', 'endGameChargeStationPoints': 20, 'endGameChargeStationRobot1': 'Docked', 'endGameChargeStationRobot2': 'Park', 'endGameChargeStationRobot3': 'Docked', 'endGameParkPoints': 2, 'foulCount': 1, 'foulPoints': 0, 'linkPoints': 25, 'links': [{'nodes': [0, 1, 2], 'row': 'Mid'}, {'nodes': [6, 7, 8], 'row': 'Mid'}, {'nodes': [0, 1, 2], 'row': 'Top'}, {'nodes': [3, 4, 5], 'row': 'Top'}, {'nodes': [6, 7, 8], 'row': 'Top'}], 'mobilityRobot1': 'Yes', 'mobilityRobot2': 'Yes', 'mobilityRobot3': 'No', 'rp': 4, 'sustainabilityBonusAchieved': True, 'techFoulCount': 0, 'teleopCommunity': {'B': ['Cone', 'None', 'None', 'Cone', 'Cube', 'None', 'Cube', 'None', 'None'], 'M': ['Cone', 'Cube', 'Cone', 'None', 'Cube', 'None', 'Cone', 'Cube', 'Cone'], 'T': ['Cone', 'Cube', 'Cone', 'Cone', 'Cube', 'Cone', 'Cone', 'Cube', 'Cone']}, 'teleopGamePieceCount': 20, 'teleopGamePiecePoints': 59, 'teleopPoints': 81, 'totalChargeStationPoints': 28, 'totalPoints': 138}, 'red': {'activationBonusAchieved': True, 'adjustPoints': 0, 'autoBridgeState': 'Level', 'autoChargeStationPoints': 0, 'autoChargeStationRobot1': 'None', 'autoChargeStationRobot2': 'None', 'autoChargeStationRobot3': 'None', 'autoCommunity': {'B': ['None', 'None', 'None', 'None', 'None', 'None', 'None', 'None', 'None'], 'M': ['None', 'None', 'None', 'None', 'None', 'None', 'None', 'None', 'Cone'], 'T': ['None', 'Cube', 'None', 'None', 'Cube', 'None', 'None', 'None', 'None']}, 'autoDocked': False, 'autoGamePieceCount': 3, 'autoGamePiecePoints': 16, 'autoMobilityPoints': 6, 'autoPoints': 22, 'coopGamePieceCount': 3, 'coopertitionCriteriaMet': True, 'endGameBridgeState': 'Level', 'endGameChargeStationPoints': 30, 'endGameChargeStationRobot1': 'Docked', 'endGameChargeStationRobot2': 'Docked', 'endGameChargeStationRobot3': 'Docked', 'endGameParkPoints': 0, 'foulCount': 0, 'foulPoints': 5, 'linkPoints': 5, 'links': [{'nodes': [6, 7, 8], 'row': 'Mid'}], 'mobilityRobot1': 'No', 'mobilityRobot2': 'Yes', 'mobilityRobot3': 'Yes', 'rp': 1, 'sustainabilityBonusAchieved': False, 'techFoulCount': 0, 'teleopCommunity': {'B': ['Cube', 'None', 'None', 'None', 'None', 'None', 'Cone', 'None', 'None'], 'M': ['None', 'None', 'None', 'Cone', 'Cube', 'None', 'Cone', 'Cube', 'Cone'], 'T': ['None', 'Cube', 'None', 'None', 'Cube', 'None', 'None', 'Cube', 'None']}, 'teleopGamePieceCount': 10, 'teleopGamePiecePoints': 21, 'teleopPoints': 51, 'totalChargeStationPoints': 30, 'totalPoints': 83}}, 'set_number': 1, 'time': 1680799200, 'videos': [{'key': 'Ts0xN-sapcw', 'type': 'youtube'}, {'key': 'ajFL0t1mU98', 'type': 'youtube'}], 'winning_alliance': 'blue'}),\n",
       " Match({'actual_time': 1680786347, 'alliances': {'blue': {'dq_team_keys': [], 'score': 122, 'surrogate_team_keys': [], 'team_keys': ['frc610', 'frc5885', 'frc4907']}, 'red': {'dq_team_keys': [], 'score': 141, 'surrogate_team_keys': [], 'team_keys': ['frc1285', 'frc4688', 'frc1310']}}, 'comp_level': 'qm', 'event_key': '2023oncmp2', 'key': '2023oncmp2_qm12', 'match_number': 12, 'post_result_time': 1680786540, 'predicted_time': 1680800809, 'score_breakdown': {'blue': {'activationBonusAchieved': True, 'adjustPoints': 0, 'autoBridgeState': 'Level', 'autoChargeStationPoints': 12, 'autoChargeStationRobot1': 'None', 'autoChargeStationRobot2': 'Docked', 'autoChargeStationRobot3': 'None', 'autoCommunity': {'B': ['None', 'None', 'None', 'None', 'None', 'None', 'None', 'None', 'None'], 'M': ['None', 'None', 'None', 'None', 'None', 'None', 'None', 'None', 'None'], 'T': ['None', 'None', 'None', 'None', 'Cube', 'None', 'None', 'Cube', 'Cone']}, 'autoDocked': True, 'autoGamePieceCount': 3, 'autoGamePiecePoints': 18, 'autoMobilityPoints': 6, 'autoPoints': 36, 'coopGamePieceCount': 6, 'coopertitionCriteriaMet': True, 'endGameBridgeState': 'Level', 'endGameChargeStationPoints': 20, 'endGameChargeStationRobot1': 'None', 'endGameChargeStationRobot2': 'Docked', 'endGameChargeStationRobot3': 'Docked', 'endGameParkPoints': 0, 'foulCount': 0, 'foulPoints': 5, 'linkPoints': 20, 'links': [{'nodes': [2, 3, 4], 'row': 'Bottom'}, {'nodes': [0, 1, 2], 'row': 'Top'}, {'nodes': [3, 4, 5], 'row': 'Top'}, {'nodes': [6, 7, 8], 'row': 'Top'}], 'mobilityRobot1': 'Yes', 'mobilityRobot2': 'No', 'mobilityRobot3': 'Yes', 'rp': 2, 'sustainabilityBonusAchieved': True, 'techFoulCount': 0, 'teleopCommunity': {'B': ['None', 'None', 'Cube', 'Cube', 'Cone', 'None', 'None', 'Cube', 'None'], 'M': ['None', 'None', 'None', 'None', 'Cube', 'None', 'None', 'None', 'None'], 'T': ['Cone', 'Cube', 'Cone', 'Cone', 'Cube', 'Cone', 'Cone', 'Cube', 'Cone']}, 'teleopGamePieceCount': 14, 'teleopGamePiecePoints': 41, 'teleopPoints': 61, 'totalChargeStationPoints': 32, 'totalPoints': 122}, 'red': {'activationBonusAchieved': True, 'adjustPoints': 0, 'autoBridgeState': 'Level', 'autoChargeStationPoints': 12, 'autoChargeStationRobot1': 'Docked', 'autoChargeStationRobot2': 'None', 'autoChargeStationRobot3': 'None', 'autoCommunity': {'B': ['None', 'None', 'None', 'Cube', 'None', 'None', 'None', 'None', 'None'], 'M': ['None', 'None', 'None', 'None', 'None', 'None', 'None', 'None', 'None'], 'T': ['None', 'None', 'None', 'Cone', 'None', 'None', 'None', 'Cube', 'Cone']}, 'autoDocked': True, 'autoGamePieceCount': 4, 'autoGamePiecePoints': 21, 'autoMobilityPoints': 6, 'autoPoints': 39, 'coopGamePieceCount': 5, 'coopertitionCriteriaMet': True, 'endGameBridgeState': 'Level', 'endGameChargeStationPoints': 30, 'endGameChargeStationRobot1': 'Docked', 'endGameChargeStationRobot2': 'Docked', 'endGameChargeStationRobot3': 'Docked', 'endGameParkPoints': 0, 'foulCount': 1, 'foulPoints': 0, 'linkPoints': 20, 'links': [{'nodes': [0, 1, 2], 'row': 'Bottom'}, {'nodes': [0, 1, 2], 'row': 'Top'}, {'nodes': [3, 4, 5], 'row': 'Top'}, {'nodes': [6, 7, 8], 'row': 'Top'}], 'mobilityRobot1': 'Yes', 'mobilityRobot2': 'No', 'mobilityRobot3': 'Yes', 'rp': 4, 'sustainabilityBonusAchieved': True, 'techFoulCount': 0, 'teleopCommunity': {'B': ['Cube', 'Cube', 'Cube', 'Cube', 'None', 'None', 'Cone', 'None', 'Cone'], 'M': ['Cone', 'None', 'None', 'None', 'Cube', 'None', 'None', 'Cube', 'Cone'], 'T': ['Cone', 'Cube', 'Cone', 'Cone', 'Cube', 'Cone', 'Cone', 'Cube', 'Cone']}, 'teleopGamePieceCount': 19, 'teleopGamePiecePoints': 52, 'teleopPoints': 82, 'totalChargeStationPoints': 42, 'totalPoints': 141}}, 'set_number': 1, 'time': 1680799800, 'videos': [{'key': 'IbQMA9qvZq0', 'type': 'youtube'}], 'winning_alliance': 'red'}),\n",
       " Match({'actual_time': 1680789835, 'alliances': {'blue': {'dq_team_keys': [], 'score': 125, 'surrogate_team_keys': [], 'team_keys': ['frc4678', 'frc6854', 'frc7476']}, 'red': {'dq_team_keys': [], 'score': 77, 'surrogate_team_keys': [], 'team_keys': ['frc2708', 'frc5036', 'frc7690']}}, 'comp_level': 'qm', 'event_key': '2023oncmp2', 'key': '2023oncmp2_qm13', 'match_number': 13, 'post_result_time': 1680790066, 'predicted_time': 1680804259, 'score_breakdown': {'blue': {'activationBonusAchieved': True, 'adjustPoints': 0, 'autoBridgeState': 'Level', 'autoChargeStationPoints': 12, 'autoChargeStationRobot1': 'Docked', 'autoChargeStationRobot2': 'None', 'autoChargeStationRobot3': 'None', 'autoCommunity': {'B': ['None', 'None', 'None', 'None', 'None', 'None', 'None', 'None', 'None'], 'M': ['None', 'None', 'None', 'None', 'Cube', 'None', 'None', 'Cube', 'None'], 'T': ['None', 'Cube', 'None', 'None', 'None', 'None', 'None', 'None', 'Cone']}, 'autoDocked': True, 'autoGamePieceCount': 4, 'autoGamePiecePoints': 20, 'autoMobilityPoints': 3, 'autoPoints': 35, 'coopGamePieceCount': 5, 'coopertitionCriteriaMet': True, 'endGameBridgeState': 'Level', 'endGameChargeStationPoints': 20, 'endGameChargeStationRobot1': 'Park', 'endGameChargeStationRobot2': 'Docked', 'endGameChargeStationRobot3': 'Docked', 'endGameParkPoints': 2, 'foulCount': 1, 'foulPoints': 0, 'linkPoints': 20, 'links': [{'nodes': [4, 5, 6], 'row': 'Mid'}, {'nodes': [0, 1, 2], 'row': 'Top'}, {'nodes': [3, 4, 5], 'row': 'Top'}, {'nodes': [6, 7, 8], 'row': 'Top'}], 'mobilityRobot1': 'Yes', 'mobilityRobot2': 'No', 'mobilityRobot3': 'No', 'rp': 3, 'sustainabilityBonusAchieved': False, 'techFoulCount': 0, 'teleopCommunity': {'B': ['Cube', 'None', 'Cone', 'None', 'None', 'None', 'None', 'None', 'None'], 'M': ['None', 'None', 'None', 'None', 'Cube', 'Cone', 'Cone', 'Cube', 'Cone'], 'T': ['Cone', 'Cube', 'Cone', 'Cone', 'Cube', 'Cone', 'Cone', 'Cube', 'Cone']}, 'teleopGamePieceCount': 16, 'teleopGamePiecePoints': 48, 'teleopPoints': 70, 'totalChargeStationPoints': 32, 'totalPoints': 125}, 'red': {'activationBonusAchieved': True, 'adjustPoints': 0, 'autoBridgeState': 'NotLevel', 'autoChargeStationPoints': 8, 'autoChargeStationRobot1': 'None', 'autoChargeStationRobot2': 'None', 'autoChargeStationRobot3': 'Docked', 'autoCommunity': {'B': ['None', 'None', 'None', 'None', 'None', 'None', 'None', 'None', 'Cube'], 'M': ['None', 'Cube', 'None', 'None', 'None', 'None', 'None', 'None', 'None'], 'T': ['None', 'None', 'None', 'None', 'None', 'Cone', 'None', 'None', 'None']}, 'autoDocked': True, 'autoGamePieceCount': 3, 'autoGamePiecePoints': 13, 'autoMobilityPoints': 9, 'autoPoints': 30, 'coopGamePieceCount': 2, 'coopertitionCriteriaMet': False, 'endGameBridgeState': 'Level', 'endGameChargeStationPoints': 20, 'endGameChargeStationRobot1': 'Docked', 'endGameChargeStationRobot2': 'Docked', 'endGameChargeStationRobot3': 'None', 'endGameParkPoints': 0, 'foulCount': 0, 'foulPoints': 5, 'linkPoints': 5, 'links': [{'nodes': [6, 7, 8], 'row': 'Bottom'}], 'mobilityRobot1': 'Yes', 'mobilityRobot2': 'Yes', 'mobilityRobot3': 'Yes', 'rp': 1, 'sustainabilityBonusAchieved': False, 'techFoulCount': 0, 'teleopCommunity': {'B': ['None', 'None', 'None', 'None', 'None', 'None', 'Cube', 'Cube', 'Cube'], 'M': ['None', 'Cube', 'None', 'None', 'None', 'None', 'None', 'Cube', 'None'], 'T': ['None', 'Cube', 'None', 'None', 'Cube', 'Cone', 'None', 'None', 'None']}, 'teleopGamePieceCount': 8, 'teleopGamePiecePoints': 17, 'teleopPoints': 37, 'totalChargeStationPoints': 28, 'totalPoints': 77}}, 'set_number': 1, 'time': 1680804000, 'videos': [{'key': 'e3m3vbawOxY', 'type': 'youtube'}, {'key': '6BeY1CMjlqY', 'type': 'youtube'}], 'winning_alliance': 'blue'}),\n",
       " Match({'actual_time': 1680790381, 'alliances': {'blue': {'dq_team_keys': [], 'score': 118, 'surrogate_team_keys': [], 'team_keys': ['frc2013', 'frc6378', 'frc4069']}, 'red': {'dq_team_keys': [], 'score': 102, 'surrogate_team_keys': [], 'team_keys': ['frc4039', 'frc2706', 'frc6864']}}, 'comp_level': 'qm', 'event_key': '2023oncmp2', 'key': '2023oncmp2_qm14', 'match_number': 14, 'post_result_time': 1680790570, 'predicted_time': 1680804747, 'score_breakdown': {'blue': {'activationBonusAchieved': False, 'adjustPoints': 0, 'autoBridgeState': 'Level', 'autoChargeStationPoints': 12, 'autoChargeStationRobot1': 'Docked', 'autoChargeStationRobot2': 'None', 'autoChargeStationRobot3': 'None', 'autoCommunity': {'B': ['None', 'None', 'None', 'None', 'None', 'None', 'None', 'None', 'Cone'], 'M': ['None', 'None', 'None', 'None', 'None', 'None', 'None', 'None', 'None'], 'T': ['Cone', 'Cube', 'None', 'None', 'None', 'Cone', 'None', 'None', 'None']}, 'autoDocked': True, 'autoGamePieceCount': 4, 'autoGamePiecePoints': 21, 'autoMobilityPoints': 9, 'autoPoints': 42, 'coopGamePieceCount': 4, 'coopertitionCriteriaMet': True, 'endGameBridgeState': 'NotLevel', 'endGameChargeStationPoints': 6, 'endGameChargeStationRobot1': 'Docked', 'endGameChargeStationRobot2': 'Park', 'endGameChargeStationRobot3': 'None', 'endGameParkPoints': 2, 'foulCount': 0, 'foulPoints': 0, 'linkPoints': 20, 'links': [{'nodes': [0, 1, 2], 'row': 'Mid'}, {'nodes': [0, 1, 2], 'row': 'Top'}, {'nodes': [3, 4, 5], 'row': 'Top'}, {'nodes': [6, 7, 8], 'row': 'Top'}], 'mobilityRobot1': 'Yes', 'mobilityRobot2': 'Yes', 'mobilityRobot3': 'Yes', 'rp': 3, 'sustainabilityBonusAchieved': True, 'techFoulCount': 0, 'teleopCommunity': {'B': ['None', 'None', 'None', 'None', 'None', 'None', 'None', 'None', 'Cone'], 'M': ['Cone', 'Cube', 'Cone', 'None', 'None', 'Cone', 'Cone', 'None', 'Cone'], 'T': ['Cone', 'Cube', 'Cone', 'Cone', 'Cube', 'Cone', 'Cone', 'Cube', 'Cone']}, 'teleopGamePieceCount': 16, 'teleopGamePiecePoints': 48, 'teleopPoints': 56, 'totalChargeStationPoints': 18, 'totalPoints': 118}, 'red': {'activationBonusAchieved': True, 'adjustPoints': 0, 'autoBridgeState': 'Level', 'autoChargeStationPoints': 12, 'autoChargeStationRobot1': 'Docked', 'autoChargeStationRobot2': 'None', 'autoChargeStationRobot3': 'None', 'autoCommunity': {'B': ['None', 'None', 'None', 'None', 'None', 'None', 'None', 'None', 'None'], 'M': ['None', 'None', 'None', 'None', 'None', 'None', 'None', 'None', 'None'], 'T': ['None', 'Cube', 'None', 'Cone', 'None', 'None', 'None', 'None', 'None']}, 'autoDocked': True, 'autoGamePieceCount': 2, 'autoGamePiecePoints': 12, 'autoMobilityPoints': 6, 'autoPoints': 30, 'coopGamePieceCount': 6, 'coopertitionCriteriaMet': True, 'endGameBridgeState': 'Level', 'endGameChargeStationPoints': 20, 'endGameChargeStationRobot1': 'Docked', 'endGameChargeStationRobot2': 'Docked', 'endGameChargeStationRobot3': 'Park', 'endGameParkPoints': 2, 'foulCount': 0, 'foulPoints': 0, 'linkPoints': 15, 'links': [{'nodes': [0, 1, 2], 'row': 'Mid'}, {'nodes': [3, 4, 5], 'row': 'Mid'}, {'nodes': [1, 2, 3], 'row': 'Top'}], 'mobilityRobot1': 'Yes', 'mobilityRobot2': 'Yes', 'mobilityRobot3': 'No', 'rp': 1, 'sustainabilityBonusAchieved': False, 'techFoulCount': 0, 'teleopCommunity': {'B': ['Cone', 'None', 'None', 'None', 'None', 'None', 'None', 'None', 'None'], 'M': ['Cone', 'Cube', 'Cone', 'Cone', 'Cube', 'Cone', 'None', 'None', 'None'], 'T': ['None', 'Cube', 'Cone', 'Cone', 'Cube', 'Cone', 'None', 'None', 'None']}, 'teleopGamePieceCount': 12, 'teleopGamePiecePoints': 35, 'teleopPoints': 57, 'totalChargeStationPoints': 32, 'totalPoints': 102}}, 'set_number': 1, 'time': 1680804600, 'videos': [{'key': '5txZePq8jN4', 'type': 'youtube'}, {'key': 'hkLf15d4PJU', 'type': 'youtube'}], 'winning_alliance': 'blue'}),\n",
       " Match({'actual_time': 1680791033, 'alliances': {'blue': {'dq_team_keys': [], 'score': 70, 'surrogate_team_keys': [], 'team_keys': ['frc5596', 'frc4917', 'frc2609']}, 'red': {'dq_team_keys': [], 'score': 132, 'surrogate_team_keys': [], 'team_keys': ['frc1114', 'frc4343', 'frc8764']}}, 'comp_level': 'qm', 'event_key': '2023oncmp2', 'key': '2023oncmp2_qm15', 'match_number': 15, 'post_result_time': 1680791203, 'predicted_time': 1680805395, 'score_breakdown': {'blue': {'activationBonusAchieved': True, 'adjustPoints': 0, 'autoBridgeState': 'Level', 'autoChargeStationPoints': 12, 'autoChargeStationRobot1': 'None', 'autoChargeStationRobot2': 'None', 'autoChargeStationRobot3': 'Docked', 'autoCommunity': {'B': ['None', 'None', 'None', 'None', 'None', 'None', 'None', 'None', 'Cone'], 'M': ['None', 'None', 'None', 'None', 'None', 'None', 'None', 'None', 'None'], 'T': ['None', 'None', 'None', 'Cone', 'None', 'None', 'None', 'None', 'None']}, 'autoDocked': True, 'autoGamePieceCount': 2, 'autoGamePiecePoints': 9, 'autoMobilityPoints': 6, 'autoPoints': 27, 'coopGamePieceCount': 1, 'coopertitionCriteriaMet': False, 'endGameBridgeState': 'Level', 'endGameChargeStationPoints': 20, 'endGameChargeStationRobot1': 'Docked', 'endGameChargeStationRobot2': 'Park', 'endGameChargeStationRobot3': 'Docked', 'endGameParkPoints': 2, 'foulCount': 0, 'foulPoints': 0, 'linkPoints': 5, 'links': [{'nodes': [0, 1, 2], 'row': 'Bottom'}], 'mobilityRobot1': 'No', 'mobilityRobot2': 'Yes', 'mobilityRobot3': 'Yes', 'rp': 1, 'sustainabilityBonusAchieved': False, 'techFoulCount': 0, 'teleopCommunity': {'B': ['Cone', 'Cube', 'Cube', 'None', 'None', 'None', 'None', 'None', 'Cone'], 'M': ['None', 'None', 'None', 'None', 'None', 'None', 'None', 'None', 'None'], 'T': ['None', 'None', 'None', 'Cone', 'None', 'None', 'None', 'Cube', 'Cone']}, 'teleopGamePieceCount': 7, 'teleopGamePiecePoints': 16, 'teleopPoints': 38, 'totalChargeStationPoints': 32, 'totalPoints': 70}, 'red': {'activationBonusAchieved': True, 'adjustPoints': 0, 'autoBridgeState': 'NotLevel', 'autoChargeStationPoints': 8, 'autoChargeStationRobot1': 'Docked', 'autoChargeStationRobot2': 'None', 'autoChargeStationRobot3': 'None', 'autoCommunity': {'B': ['None', 'None', 'None', 'None', 'None', 'None', 'None', 'None', 'None'], 'M': ['None', 'None', 'None', 'None', 'None', 'None', 'None', 'None', 'None'], 'T': ['None', 'None', 'None', 'None', 'Cube', 'None', 'None', 'None', 'Cone']}, 'autoDocked': True, 'autoGamePieceCount': 2, 'autoGamePiecePoints': 12, 'autoMobilityPoints': 6, 'autoPoints': 26, 'coopGamePieceCount': 5, 'coopertitionCriteriaMet': True, 'endGameBridgeState': 'Level', 'endGameChargeStationPoints': 30, 'endGameChargeStationRobot1': 'Docked', 'endGameChargeStationRobot2': 'Docked', 'endGameChargeStationRobot3': 'Docked', 'endGameParkPoints': 0, 'foulCount': 0, 'foulPoints': 0, 'linkPoints': 25, 'links': [{'nodes': [0, 1, 2], 'row': 'Bottom'}, {'nodes': [4, 5, 6], 'row': 'Bottom'}, {'nodes': [0, 1, 2], 'row': 'Top'}, {'nodes': [3, 4, 5], 'row': 'Top'}, {'nodes': [6, 7, 8], 'row': 'Top'}], 'mobilityRobot1': 'Yes', 'mobilityRobot2': 'Yes', 'mobilityRobot3': 'No', 'rp': 4, 'sustainabilityBonusAchieved': True, 'techFoulCount': 0, 'teleopCommunity': {'B': ['Cube', 'Cube', 'Cube', 'None', 'Cube', 'Cone', 'Cone', 'Cube', 'Cube'], 'M': ['None', 'None', 'None', 'None', 'None', 'None', 'None', 'None', 'None'], 'T': ['Cone', 'Cube', 'Cone', 'Cone', 'Cube', 'Cone', 'Cone', 'Cube', 'Cone']}, 'teleopGamePieceCount': 17, 'teleopGamePiecePoints': 51, 'teleopPoints': 81, 'totalChargeStationPoints': 38, 'totalPoints': 132}}, 'set_number': 1, 'time': 1680805200, 'videos': [{'key': 'g-kYPH67l1U', 'type': 'youtube'}, {'key': 'UDpM2Omj7P4', 'type': 'youtube'}], 'winning_alliance': 'red'}),\n",
       " Match({'actual_time': 1680791660, 'alliances': {'blue': {'dq_team_keys': [], 'score': 116, 'surrogate_team_keys': [], 'team_keys': ['frc7757', 'frc7722', 'frc4688']}, 'red': {'dq_team_keys': [], 'score': 108, 'surrogate_team_keys': [], 'team_keys': ['frc6865', 'frc9263', 'frc4903']}}, 'comp_level': 'qm', 'event_key': '2023oncmp2', 'key': '2023oncmp2_qm16', 'match_number': 16, 'post_result_time': 1680791886, 'predicted_time': 1680806001, 'score_breakdown': {'blue': {'activationBonusAchieved': True, 'adjustPoints': 0, 'autoBridgeState': 'Level', 'autoChargeStationPoints': 12, 'autoChargeStationRobot1': 'None', 'autoChargeStationRobot2': 'Docked', 'autoChargeStationRobot3': 'None', 'autoCommunity': {'B': ['None', 'None', 'None', 'None', 'None', 'None', 'None', 'None', 'None'], 'M': ['None', 'None', 'None', 'None', 'Cube', 'None', 'None', 'None', 'None'], 'T': ['None', 'Cube', 'None', 'None', 'None', 'None', 'None', 'None', 'Cone']}, 'autoDocked': True, 'autoGamePieceCount': 3, 'autoGamePiecePoints': 16, 'autoMobilityPoints': 3, 'autoPoints': 31, 'coopGamePieceCount': 5, 'coopertitionCriteriaMet': True, 'endGameBridgeState': 'Level', 'endGameChargeStationPoints': 20, 'endGameChargeStationRobot1': 'None', 'endGameChargeStationRobot2': 'Docked', 'endGameChargeStationRobot3': 'Docked', 'endGameParkPoints': 0, 'foulCount': 4, 'foulPoints': 15, 'linkPoints': 15, 'links': [{'nodes': [2, 3, 4], 'row': 'Bottom'}, {'nodes': [0, 1, 2], 'row': 'Top'}, {'nodes': [6, 7, 8], 'row': 'Top'}], 'mobilityRobot1': 'Yes', 'mobilityRobot2': 'No', 'mobilityRobot3': 'No', 'rp': 3, 'sustainabilityBonusAchieved': False, 'techFoulCount': 0, 'teleopCommunity': {'B': ['None', 'None', 'Cube', 'Cube', 'Cube', 'Cube', 'Cube', 'None', 'None'], 'M': ['None', 'None', 'None', 'None', 'Cube', 'None', 'None', 'None', 'None'], 'T': ['Cone', 'Cube', 'Cone', 'Cone', 'None', 'None', 'Cone', 'Cube', 'Cone']}, 'teleopGamePieceCount': 13, 'teleopGamePiecePoints': 35, 'teleopPoints': 55, 'totalChargeStationPoints': 32, 'totalPoints': 116}, 'red': {'activationBonusAchieved': False, 'adjustPoints': 0, 'autoBridgeState': 'Level', 'autoChargeStationPoints': 12, 'autoChargeStationRobot1': 'None', 'autoChargeStationRobot2': 'None', 'autoChargeStationRobot3': 'Docked', 'autoCommunity': {'B': ['Cube', 'None', 'None', 'None', 'None', 'None', 'None', 'None', 'Cone'], 'M': ['None', 'None', 'None', 'None', 'None', 'None', 'None', 'None', 'None'], 'T': ['None', 'None', 'None', 'None', 'Cube', 'None', 'None', 'None', 'None']}, 'autoDocked': True, 'autoGamePieceCount': 3, 'autoGamePiecePoints': 12, 'autoMobilityPoints': 3, 'autoPoints': 27, 'coopGamePieceCount': 3, 'coopertitionCriteriaMet': True, 'endGameBridgeState': 'NotLevel', 'endGameChargeStationPoints': 12, 'endGameChargeStationRobot1': 'Docked', 'endGameChargeStationRobot2': 'Docked', 'endGameChargeStationRobot3': 'Park', 'endGameParkPoints': 2, 'foulCount': 3, 'foulPoints': 20, 'linkPoints': 10, 'links': [{'nodes': [2, 3, 4], 'row': 'Top'}, {'nodes': [5, 6, 7], 'row': 'Top'}], 'mobilityRobot1': 'Yes', 'mobilityRobot2': 'No', 'mobilityRobot3': 'No', 'rp': 0, 'sustainabilityBonusAchieved': False, 'techFoulCount': 0, 'teleopCommunity': {'B': ['Cube', 'Cube', 'None', 'None', 'None', 'None', 'None', 'None', 'Cone'], 'M': ['None', 'None', 'None', 'None', 'None', 'None', 'None', 'None', 'None'], 'T': ['Cone', 'None', 'Cone', 'Cone', 'Cube', 'Cone', 'Cone', 'Cube', 'Cone']}, 'teleopGamePieceCount': 11, 'teleopGamePiecePoints': 37, 'teleopPoints': 51, 'totalChargeStationPoints': 24, 'totalPoints': 108}}, 'set_number': 1, 'time': 1680805800, 'videos': [{'key': '_NliSkXaMHQ', 'type': 'youtube'}, {'key': 'qC3TT_p1byw', 'type': 'youtube'}], 'winning_alliance': 'blue'}),\n",
       " Match({'actual_time': 1680792292, 'alliances': {'blue': {'dq_team_keys': [], 'score': 102, 'surrogate_team_keys': [], 'team_keys': ['frc5885', 'frc2708', 'frc6854']}, 'red': {'dq_team_keys': [], 'score': 147, 'surrogate_team_keys': [], 'team_keys': ['frc1325', 'frc1310', 'frc5870']}}, 'comp_level': 'qm', 'event_key': '2023oncmp2', 'key': '2023oncmp2_qm17', 'match_number': 17, 'post_result_time': 1680792469, 'predicted_time': 1680806679, 'score_breakdown': {'blue': {'activationBonusAchieved': True, 'adjustPoints': 0, 'autoBridgeState': 'Level', 'autoChargeStationPoints': 12, 'autoChargeStationRobot1': 'Docked', 'autoChargeStationRobot2': 'None', 'autoChargeStationRobot3': 'None', 'autoCommunity': {'B': ['None', 'None', 'None', 'None', 'Cone', 'None', 'None', 'None', 'Cone'], 'M': ['None', 'None', 'None', 'None', 'None', 'None', 'None', 'None', 'None'], 'T': ['None', 'Cube', 'None', 'None', 'None', 'None', 'None', 'None', 'None']}, 'autoDocked': True, 'autoGamePieceCount': 3, 'autoGamePiecePoints': 12, 'autoMobilityPoints': 3, 'autoPoints': 27, 'coopGamePieceCount': 4, 'coopertitionCriteriaMet': True, 'endGameBridgeState': 'Level', 'endGameChargeStationPoints': 30, 'endGameChargeStationRobot1': 'Docked', 'endGameChargeStationRobot2': 'Docked', 'endGameChargeStationRobot3': 'Docked', 'endGameParkPoints': 0, 'foulCount': 0, 'foulPoints': 15, 'linkPoints': 10, 'links': [{'nodes': [0, 1, 2], 'row': 'Bottom'}, {'nodes': [3, 4, 5], 'row': 'Bottom'}], 'mobilityRobot1': 'No', 'mobilityRobot2': 'Yes', 'mobilityRobot3': 'No', 'rp': 1, 'sustainabilityBonusAchieved': False, 'techFoulCount': 0, 'teleopCommunity': {'B': ['Cube', 'Cube', 'Cube', 'Cube', 'Cube', 'Cube', 'None', 'None', 'Cone'], 'M': ['None', 'None', 'None', 'None', 'None', 'None', 'None', 'None', 'None'], 'T': ['None', 'Cube', 'None', 'None', 'Cube', 'None', 'None', 'Cube', 'None']}, 'teleopGamePieceCount': 10, 'teleopGamePiecePoints': 20, 'teleopPoints': 50, 'totalChargeStationPoints': 42, 'totalPoints': 102}, 'red': {'activationBonusAchieved': True, 'adjustPoints': 0, 'autoBridgeState': 'Level', 'autoChargeStationPoints': 12, 'autoChargeStationRobot1': 'None', 'autoChargeStationRobot2': 'Docked', 'autoChargeStationRobot3': 'None', 'autoCommunity': {'B': ['Cone', 'None', 'None', 'None', 'None', 'None', 'None', 'None', 'None'], 'M': ['None', 'None', 'None', 'None', 'None', 'None', 'None', 'Cube', 'None'], 'T': ['Cone', 'Cube', 'None', 'Cone', 'None', 'None', 'None', 'None', 'None']}, 'autoDocked': True, 'autoGamePieceCount': 5, 'autoGamePiecePoints': 25, 'autoMobilityPoints': 6, 'autoPoints': 43, 'coopGamePieceCount': 4, 'coopertitionCriteriaMet': True, 'endGameBridgeState': 'Level', 'endGameChargeStationPoints': 20, 'endGameChargeStationRobot1': 'Park', 'endGameChargeStationRobot2': 'Docked', 'endGameChargeStationRobot3': 'Docked', 'endGameParkPoints': 2, 'foulCount': 3, 'foulPoints': 0, 'linkPoints': 30, 'links': [{'nodes': [0, 1, 2], 'row': 'Bottom'}, {'nodes': [0, 1, 2], 'row': 'Mid'}, {'nodes': [6, 7, 8], 'row': 'Mid'}, {'nodes': [0, 1, 2], 'row': 'Top'}, {'nodes': [3, 4, 5], 'row': 'Top'}, {'nodes': [6, 7, 8], 'row': 'Top'}], 'mobilityRobot1': 'Yes', 'mobilityRobot2': 'Yes', 'mobilityRobot3': 'No', 'rp': 4, 'sustainabilityBonusAchieved': True, 'techFoulCount': 0, 'teleopCommunity': {'B': ['Cone', 'Cube', 'Cube', 'None', 'None', 'None', 'None', 'None', 'None'], 'M': ['Cone', 'Cube', 'Cone', 'Cone', 'None', 'None', 'Cone', 'Cube', 'Cone'], 'T': ['Cone', 'Cube', 'Cone', 'Cone', 'Cube', 'Cone', 'Cone', 'Cube', 'Cone']}, 'teleopGamePieceCount': 19, 'teleopGamePiecePoints': 52, 'teleopPoints': 74, 'totalChargeStationPoints': 32, 'totalPoints': 147}}, 'set_number': 1, 'time': 1680806400, 'videos': [{'key': 'K5ryg7QUnWI', 'type': 'youtube'}, {'key': 'lstvUdFQhxk', 'type': 'youtube'}], 'winning_alliance': 'red'}),\n",
       " Match({'actual_time': 1680792854, 'alliances': {'blue': {'dq_team_keys': [], 'score': 135, 'surrogate_team_keys': [], 'team_keys': ['frc7690', 'frc8729', 'frc5024']}, 'red': {'dq_team_keys': [], 'score': 60, 'surrogate_team_keys': [], 'team_keys': ['frc3739', 'frc1285', 'frc5036']}}, 'comp_level': 'qm', 'event_key': '2023oncmp2', 'key': '2023oncmp2_qm18', 'match_number': 18, 'post_result_time': 1680793035, 'predicted_time': 1680807190, 'score_breakdown': {'blue': {'activationBonusAchieved': True, 'adjustPoints': 0, 'autoBridgeState': 'Level', 'autoChargeStationPoints': 12, 'autoChargeStationRobot1': 'None', 'autoChargeStationRobot2': 'None', 'autoChargeStationRobot3': 'Docked', 'autoCommunity': {'B': ['None', 'None', 'None', 'None', 'None', 'None', 'None', 'None', 'None'], 'M': ['None', 'None', 'None', 'None', 'Cube', 'None', 'None', 'None', 'None'], 'T': ['None', 'None', 'None', 'None', 'None', 'None', 'None', 'None', 'Cone']}, 'autoDocked': True, 'autoGamePieceCount': 2, 'autoGamePiecePoints': 10, 'autoMobilityPoints': 9, 'autoPoints': 31, 'coopGamePieceCount': 6, 'coopertitionCriteriaMet': True, 'endGameBridgeState': 'Level', 'endGameChargeStationPoints': 20, 'endGameChargeStationRobot1': 'Park', 'endGameChargeStationRobot2': 'Docked', 'endGameChargeStationRobot3': 'Docked', 'endGameParkPoints': 2, 'foulCount': 0, 'foulPoints': 0, 'linkPoints': 25, 'links': [{'nodes': [0, 1, 2], 'row': 'Mid'}, {'nodes': [3, 4, 5], 'row': 'Mid'}, {'nodes': [0, 1, 2], 'row': 'Top'}, {'nodes': [3, 4, 5], 'row': 'Top'}, {'nodes': [6, 7, 8], 'row': 'Top'}], 'mobilityRobot1': 'Yes', 'mobilityRobot2': 'Yes', 'mobilityRobot3': 'Yes', 'rp': 4, 'sustainabilityBonusAchieved': True, 'techFoulCount': 0, 'teleopCommunity': {'B': ['None', 'Cube', 'None', 'None', 'None', 'None', 'None', 'None', 'None'], 'M': ['Cone', 'Cube', 'Cone', 'Cone', 'Cube', 'Cone', 'None', 'None', 'None'], 'T': ['Cone', 'Cube', 'Cone', 'Cone', 'Cube', 'Cone', 'Cone', 'Cube', 'Cone']}, 'teleopGamePieceCount': 16, 'teleopGamePiecePoints': 57, 'teleopPoints': 79, 'totalChargeStationPoints': 32, 'totalPoints': 135}, 'red': {'activationBonusAchieved': False, 'adjustPoints': 0, 'autoBridgeState': 'Level', 'autoChargeStationPoints': 12, 'autoChargeStationRobot1': 'None', 'autoChargeStationRobot2': 'Docked', 'autoChargeStationRobot3': 'None', 'autoCommunity': {'B': ['None', 'None', 'Cube', 'None', 'None', 'None', 'None', 'None', 'None'], 'M': ['None', 'Cube', 'None', 'None', 'None', 'None', 'None', 'None', 'None'], 'T': ['None', 'None', 'None', 'Cone', 'None', 'None', 'None', 'None', 'None']}, 'autoDocked': True, 'autoGamePieceCount': 3, 'autoGamePiecePoints': 13, 'autoMobilityPoints': 9, 'autoPoints': 34, 'coopGamePieceCount': 3, 'coopertitionCriteriaMet': True, 'endGameBridgeState': 'NotLevel', 'endGameChargeStationPoints': 6, 'endGameChargeStationRobot1': 'Park', 'endGameChargeStationRobot2': 'None', 'endGameChargeStationRobot3': 'Docked', 'endGameParkPoints': 2, 'foulCount': 0, 'foulPoints': 0, 'linkPoints': 5, 'links': [{'nodes': [0, 1, 2], 'row': 'Bottom'}], 'mobilityRobot1': 'Yes', 'mobilityRobot2': 'Yes', 'mobilityRobot3': 'Yes', 'rp': 0, 'sustainabilityBonusAchieved': False, 'techFoulCount': 0, 'teleopCommunity': {'B': ['Cube', 'Cube', 'Cube', 'Cube', 'Cube', 'None', 'None', 'None', 'None'], 'M': ['None', 'Cube', 'None', 'None', 'None', 'None', 'None', 'None', 'None'], 'T': ['None', 'None', 'None', 'Cone', 'None', 'None', 'None', 'Cube', 'None']}, 'teleopGamePieceCount': 8, 'teleopGamePiecePoints': 13, 'teleopPoints': 21, 'totalChargeStationPoints': 18, 'totalPoints': 60}}, 'set_number': 1, 'time': 1680807000, 'videos': [{'key': 'VRQE7RxiIMg', 'type': 'youtube'}, {'key': 'phjkp_0IuoA', 'type': 'youtube'}], 'winning_alliance': 'blue'}),\n",
       " Match({'actual_time': 1680793450, 'alliances': {'blue': {'dq_team_keys': [], 'score': 146, 'surrogate_team_keys': [], 'team_keys': ['frc1334', 'frc610', 'frc4920']}, 'red': {'dq_team_keys': [], 'score': 146, 'surrogate_team_keys': [], 'team_keys': ['frc7476', 'frc4039', 'frc4069']}}, 'comp_level': 'qm', 'event_key': '2023oncmp2', 'key': '2023oncmp2_qm19', 'match_number': 19, 'post_result_time': 1680793619, 'predicted_time': 1680807798, 'score_breakdown': {'blue': {'activationBonusAchieved': True, 'adjustPoints': 0, 'autoBridgeState': 'Level', 'autoChargeStationPoints': 12, 'autoChargeStationRobot1': 'None', 'autoChargeStationRobot2': 'Docked', 'autoChargeStationRobot3': 'None', 'autoCommunity': {'B': ['None', 'None', 'None', 'None', 'None', 'None', 'None', 'None', 'None'], 'M': ['Cone', 'None', 'None', 'None', 'None', 'None', 'None', 'None', 'None'], 'T': ['None', 'None', 'None', 'None', 'Cube', 'None', 'None', 'Cube', 'Cone']}, 'autoDocked': True, 'autoGamePieceCount': 4, 'autoGamePiecePoints': 22, 'autoMobilityPoints': 9, 'autoPoints': 43, 'coopGamePieceCount': 5, 'coopertitionCriteriaMet': True, 'endGameBridgeState': 'Level', 'endGameChargeStationPoints': 30, 'endGameChargeStationRobot1': 'Docked', 'endGameChargeStationRobot2': 'Docked', 'endGameChargeStationRobot3': 'Docked', 'endGameParkPoints': 0, 'foulCount': 0, 'foulPoints': 0, 'linkPoints': 25, 'links': [{'nodes': [6, 7, 8], 'row': 'Bottom'}, {'nodes': [0, 1, 2], 'row': 'Mid'}, {'nodes': [0, 1, 2], 'row': 'Top'}, {'nodes': [3, 4, 5], 'row': 'Top'}, {'nodes': [6, 7, 8], 'row': 'Top'}], 'mobilityRobot1': 'Yes', 'mobilityRobot2': 'Yes', 'mobilityRobot3': 'Yes', 'rp': 3, 'sustainabilityBonusAchieved': True, 'techFoulCount': 0, 'teleopCommunity': {'B': ['None', 'None', 'None', 'None', 'None', 'None', 'Cube', 'Cube', 'Cube'], 'M': ['Cone', 'Cube', 'Cone', 'Cone', 'None', 'Cone', 'None', 'None', 'None'], 'T': ['Cone', 'Cube', 'Cone', 'Cone', 'Cube', 'Cone', 'Cone', 'Cube', 'Cone']}, 'teleopGamePieceCount': 17, 'teleopGamePiecePoints': 48, 'teleopPoints': 78, 'totalChargeStationPoints': 42, 'totalPoints': 146}, 'red': {'activationBonusAchieved': True, 'adjustPoints': 0, 'autoBridgeState': 'Level', 'autoChargeStationPoints': 12, 'autoChargeStationRobot1': 'None', 'autoChargeStationRobot2': 'Docked', 'autoChargeStationRobot3': 'None', 'autoCommunity': {'B': ['None', 'Cube', 'None', 'None', 'None', 'None', 'None', 'None', 'Cone'], 'M': ['None', 'None', 'None', 'None', 'None', 'None', 'None', 'None', 'None'], 'T': ['None', 'None', 'None', 'None', 'Cube', 'None', 'None', 'Cube', 'None']}, 'autoDocked': True, 'autoGamePieceCount': 4, 'autoGamePiecePoints': 18, 'autoMobilityPoints': 9, 'autoPoints': 39, 'coopGamePieceCount': 7, 'coopertitionCriteriaMet': True, 'endGameBridgeState': 'Level', 'endGameChargeStationPoints': 20, 'endGameChargeStationRobot1': 'Docked', 'endGameChargeStationRobot2': 'Park', 'endGameChargeStationRobot3': 'Docked', 'endGameParkPoints': 2, 'foulCount': 0, 'foulPoints': 0, 'linkPoints': 25, 'links': [{'nodes': [0, 1, 2], 'row': 'Mid'}, {'nodes': [3, 4, 5], 'row': 'Mid'}, {'nodes': [0, 1, 2], 'row': 'Top'}, {'nodes': [3, 4, 5], 'row': 'Top'}, {'nodes': [6, 7, 8], 'row': 'Top'}], 'mobilityRobot1': 'Yes', 'mobilityRobot2': 'Yes', 'mobilityRobot3': 'Yes', 'rp': 3, 'sustainabilityBonusAchieved': True, 'techFoulCount': 0, 'teleopCommunity': {'B': ['None', 'Cube', 'None', 'Cube', 'None', 'None', 'None', 'Cube', 'Cone'], 'M': ['Cone', 'Cube', 'Cone', 'Cone', 'Cube', 'Cone', 'None', 'Cube', 'None'], 'T': ['Cone', 'Cube', 'Cone', 'Cone', 'Cube', 'Cone', 'Cone', 'Cube', 'Cone']}, 'teleopGamePieceCount': 20, 'teleopGamePiecePoints': 60, 'teleopPoints': 82, 'totalChargeStationPoints': 32, 'totalPoints': 146}}, 'set_number': 1, 'time': 1680807600, 'videos': [{'key': 'QuhSYPpAuhA', 'type': 'youtube'}, {'key': 'L6O6bNyhWwQ', 'type': 'youtube'}], 'winning_alliance': ''}),\n",
       " Match({'actual_time': 1680779962, 'alliances': {'blue': {'dq_team_keys': [], 'score': 96, 'surrogate_team_keys': [], 'team_keys': ['frc2013', 'frc2386', 'frc6865']}, 'red': {'dq_team_keys': [], 'score': 134, 'surrogate_team_keys': [], 'team_keys': ['frc6378', 'frc5036', 'frc1325']}}, 'comp_level': 'qm', 'event_key': '2023oncmp2', 'key': '2023oncmp2_qm2', 'match_number': 2, 'post_result_time': 1680780245, 'predicted_time': 1680794341, 'score_breakdown': {'blue': {'activationBonusAchieved': True, 'adjustPoints': 0, 'autoBridgeState': 'NotLevel', 'autoChargeStationPoints': 8, 'autoChargeStationRobot1': 'Docked', 'autoChargeStationRobot2': 'None', 'autoChargeStationRobot3': 'None', 'autoCommunity': {'B': ['None', 'None', 'None', 'None', 'None', 'None', 'None', 'Cube', 'None'], 'M': ['None', 'None', 'None', 'None', 'None', 'None', 'None', 'None', 'None'], 'T': ['None', 'Cube', 'None', 'Cone', 'None', 'None', 'None', 'None', 'None']}, 'autoDocked': True, 'autoGamePieceCount': 3, 'autoGamePiecePoints': 15, 'autoMobilityPoints': 6, 'autoPoints': 29, 'coopGamePieceCount': 1, 'coopertitionCriteriaMet': False, 'endGameBridgeState': 'Level', 'endGameChargeStationPoints': 20, 'endGameChargeStationRobot1': 'Docked', 'endGameChargeStationRobot2': 'Docked', 'endGameChargeStationRobot3': 'Park', 'endGameParkPoints': 2, 'foulCount': 0, 'foulPoints': 0, 'linkPoints': 15, 'links': [{'nodes': [6, 7, 8], 'row': 'Bottom'}, {'nodes': [0, 1, 2], 'row': 'Mid'}, {'nodes': [6, 7, 8], 'row': 'Top'}], 'mobilityRobot1': 'Yes', 'mobilityRobot2': 'No', 'mobilityRobot3': 'Yes', 'rp': 1, 'sustainabilityBonusAchieved': False, 'techFoulCount': 0, 'teleopCommunity': {'B': ['None', 'None', 'Cone', 'None', 'None', 'None', 'Cube', 'Cube', 'Cube'], 'M': ['Cone', 'Cube', 'Cone', 'None', 'None', 'None', 'None', 'None', 'None'], 'T': ['None', 'Cube', 'None', 'Cone', 'None', 'None', 'Cone', 'Cube', 'Cone']}, 'teleopGamePieceCount': 12, 'teleopGamePiecePoints': 30, 'teleopPoints': 52, 'totalChargeStationPoints': 28, 'totalPoints': 96}, 'red': {'activationBonusAchieved': True, 'adjustPoints': 0, 'autoBridgeState': 'Level', 'autoChargeStationPoints': 12, 'autoChargeStationRobot1': 'Docked', 'autoChargeStationRobot2': 'None', 'autoChargeStationRobot3': 'None', 'autoCommunity': {'B': ['Cone', 'None', 'None', 'None', 'None', 'None', 'Cone', 'None', 'None'], 'M': ['None', 'None', 'None', 'None', 'None', 'None', 'None', 'None', 'None'], 'T': ['Cone', 'Cube', 'None', 'None', 'None', 'None', 'None', 'Cube', 'None']}, 'autoDocked': True, 'autoGamePieceCount': 5, 'autoGamePiecePoints': 24, 'autoMobilityPoints': 6, 'autoPoints': 42, 'coopGamePieceCount': 5, 'coopertitionCriteriaMet': True, 'endGameBridgeState': 'Level', 'endGameChargeStationPoints': 20, 'endGameChargeStationRobot1': 'Docked', 'endGameChargeStationRobot2': 'Docked', 'endGameChargeStationRobot3': 'None', 'endGameParkPoints': 0, 'foulCount': 0, 'foulPoints': 0, 'linkPoints': 25, 'links': [{'nodes': [4, 5, 6], 'row': 'Bottom'}, {'nodes': [0, 1, 2], 'row': 'Mid'}, {'nodes': [0, 1, 2], 'row': 'Top'}, {'nodes': [3, 4, 5], 'row': 'Top'}, {'nodes': [6, 7, 8], 'row': 'Top'}], 'mobilityRobot1': 'No', 'mobilityRobot2': 'Yes', 'mobilityRobot3': 'Yes', 'rp': 4, 'sustainabilityBonusAchieved': True, 'techFoulCount': 0, 'teleopCommunity': {'B': ['Cone', 'None', 'None', 'None', 'Cube', 'Cube', 'Cube', 'Cube', 'Cube'], 'M': ['Cone', 'Cube', 'Cone', 'None', 'None', 'None', 'None', 'None', 'None'], 'T': ['Cone', 'Cube', 'Cone', 'Cone', 'Cube', 'Cone', 'Cone', 'Cube', 'Cone']}, 'teleopGamePieceCount': 18, 'teleopGamePiecePoints': 47, 'teleopPoints': 67, 'totalChargeStationPoints': 32, 'totalPoints': 134}}, 'set_number': 1, 'time': 1680793800, 'videos': [{'key': 'GgHEM0jrulA', 'type': 'youtube'}, {'key': 'UTSY9j3GSsc', 'type': 'youtube'}], 'winning_alliance': 'red'}),\n",
       " Match({'actual_time': 1680794281, 'alliances': {'blue': {'dq_team_keys': [], 'score': 157, 'surrogate_team_keys': [], 'team_keys': ['frc6987', 'frc4678', 'frc4946']}, 'red': {'dq_team_keys': [], 'score': 146, 'surrogate_team_keys': [], 'team_keys': ['frc2386', 'frc865', 'frc4907']}}, 'comp_level': 'qm', 'event_key': '2023oncmp2', 'key': '2023oncmp2_qm20', 'match_number': 20, 'post_result_time': 1680794459, 'predicted_time': 1680808626, 'score_breakdown': {'blue': {'activationBonusAchieved': True, 'adjustPoints': 0, 'autoBridgeState': 'Level', 'autoChargeStationPoints': 12, 'autoChargeStationRobot1': 'None', 'autoChargeStationRobot2': 'Docked', 'autoChargeStationRobot3': 'None', 'autoCommunity': {'B': ['None', 'None', 'None', 'None', 'None', 'None', 'None', 'None', 'None'], 'M': ['None', 'Cube', 'None', 'None', 'None', 'None', 'None', 'None', 'None'], 'T': ['None', 'Cube', 'None', 'None', 'None', 'None', 'None', 'Cube', 'Cone']}, 'autoDocked': True, 'autoGamePieceCount': 4, 'autoGamePiecePoints': 22, 'autoMobilityPoints': 6, 'autoPoints': 40, 'coopGamePieceCount': 7, 'coopertitionCriteriaMet': True, 'endGameBridgeState': 'Level', 'endGameChargeStationPoints': 20, 'endGameChargeStationRobot1': 'Park', 'endGameChargeStationRobot2': 'Docked', 'endGameChargeStationRobot3': 'Docked', 'endGameParkPoints': 2, 'foulCount': 2, 'foulPoints': 5, 'linkPoints': 30, 'links': [{'nodes': [0, 1, 2], 'row': 'Mid'}, {'nodes': [3, 4, 5], 'row': 'Mid'}, {'nodes': [6, 7, 8], 'row': 'Mid'}, {'nodes': [0, 1, 2], 'row': 'Top'}, {'nodes': [3, 4, 5], 'row': 'Top'}, {'nodes': [6, 7, 8], 'row': 'Top'}], 'mobilityRobot1': 'No', 'mobilityRobot2': 'Yes', 'mobilityRobot3': 'Yes', 'rp': 4, 'sustainabilityBonusAchieved': True, 'techFoulCount': 0, 'teleopCommunity': {'B': ['None', 'None', 'Cube', 'None', 'None', 'Cube', 'Cone', 'None', 'None'], 'M': ['Cone', 'Cube', 'Cone', 'Cone', 'Cube', 'Cone', 'Cone', 'Cube', 'Cone'], 'T': ['Cone', 'Cube', 'Cone', 'Cone', 'Cube', 'Cone', 'Cone', 'Cube', 'Cone']}, 'teleopGamePieceCount': 21, 'teleopGamePiecePoints': 60, 'teleopPoints': 82, 'totalChargeStationPoints': 32, 'totalPoints': 157}, 'red': {'activationBonusAchieved': False, 'adjustPoints': 0, 'autoBridgeState': 'Level', 'autoChargeStationPoints': 12, 'autoChargeStationRobot1': 'None', 'autoChargeStationRobot2': 'Docked', 'autoChargeStationRobot3': 'None', 'autoCommunity': {'B': ['None', 'None', 'None', 'None', 'None', 'None', 'None', 'None', 'None'], 'M': ['None', 'None', 'None', 'None', 'None', 'None', 'None', 'None', 'None'], 'T': ['Cone', 'Cube', 'None', 'Cone', 'None', 'None', 'None', 'Cube', 'None']}, 'autoDocked': True, 'autoGamePieceCount': 4, 'autoGamePiecePoints': 24, 'autoMobilityPoints': 9, 'autoPoints': 45, 'coopGamePieceCount': 8, 'coopertitionCriteriaMet': True, 'endGameBridgeState': 'NotLevel', 'endGameChargeStationPoints': 12, 'endGameChargeStationRobot1': 'None', 'endGameChargeStationRobot2': 'Docked', 'endGameChargeStationRobot3': 'Docked', 'endGameParkPoints': 0, 'foulCount': 1, 'foulPoints': 10, 'linkPoints': 30, 'links': [{'nodes': [2, 3, 4], 'row': 'Bottom'}, {'nodes': [0, 1, 2], 'row': 'Mid'}, {'nodes': [3, 4, 5], 'row': 'Mid'}, {'nodes': [0, 1, 2], 'row': 'Top'}, {'nodes': [3, 4, 5], 'row': 'Top'}, {'nodes': [6, 7, 8], 'row': 'Top'}], 'mobilityRobot1': 'Yes', 'mobilityRobot2': 'Yes', 'mobilityRobot3': 'Yes', 'rp': 1, 'sustainabilityBonusAchieved': True, 'techFoulCount': 0, 'teleopCommunity': {'B': ['None', 'None', 'Cone', 'Cone', 'Cube', 'None', 'None', 'None', 'None'], 'M': ['Cone', 'Cube', 'Cone', 'Cone', 'Cube', 'Cone', 'None', 'None', 'None'], 'T': ['Cone', 'Cube', 'Cone', 'Cone', 'Cube', 'Cone', 'Cone', 'Cube', 'Cone']}, 'teleopGamePieceCount': 18, 'teleopGamePiecePoints': 49, 'teleopPoints': 61, 'totalChargeStationPoints': 24, 'totalPoints': 146}}, 'set_number': 1, 'time': 1680808200, 'videos': [{'key': 'LVg_MWAHDSE', 'type': 'youtube'}, {'key': 'jLAVT2VscG0', 'type': 'youtube'}], 'winning_alliance': 'blue'}),\n",
       " Match({'actual_time': 1680794883, 'alliances': {'blue': {'dq_team_keys': [], 'score': 75, 'surrogate_team_keys': [], 'team_keys': ['frc6864', 'frc2708', 'frc4903']}, 'red': {'dq_team_keys': [], 'score': 87, 'surrogate_team_keys': [], 'team_keys': ['frc5596', 'frc4343', 'frc5885']}}, 'comp_level': 'qm', 'event_key': '2023oncmp2', 'key': '2023oncmp2_qm21', 'match_number': 21, 'post_result_time': 1680795069, 'predicted_time': 1680809307, 'score_breakdown': {'blue': {'activationBonusAchieved': True, 'adjustPoints': 0, 'autoBridgeState': 'Level', 'autoChargeStationPoints': 12, 'autoChargeStationRobot1': 'None', 'autoChargeStationRobot2': 'None', 'autoChargeStationRobot3': 'Docked', 'autoCommunity': {'B': ['None', 'Cube', 'None', 'None', 'None', 'None', 'None', 'None', 'None'], 'M': ['None', 'None', 'None', 'None', 'None', 'None', 'None', 'None', 'None'], 'T': ['None', 'None', 'None', 'None', 'Cube', 'None', 'None', 'Cube', 'None']}, 'autoDocked': True, 'autoGamePieceCount': 3, 'autoGamePiecePoints': 15, 'autoMobilityPoints': 3, 'autoPoints': 30, 'coopGamePieceCount': 2, 'coopertitionCriteriaMet': False, 'endGameBridgeState': 'Level', 'endGameChargeStationPoints': 20, 'endGameChargeStationRobot1': 'Docked', 'endGameChargeStationRobot2': 'Docked', 'endGameChargeStationRobot3': 'None', 'endGameParkPoints': 0, 'foulCount': 0, 'foulPoints': 0, 'linkPoints': 10, 'links': [{'nodes': [0, 1, 2], 'row': 'Bottom'}, {'nodes': [6, 7, 8], 'row': 'Bottom'}], 'mobilityRobot1': 'No', 'mobilityRobot2': 'Yes', 'mobilityRobot3': 'No', 'rp': 1, 'sustainabilityBonusAchieved': False, 'techFoulCount': 0, 'teleopCommunity': {'B': ['Cube', 'Cube', 'Cube', 'Cube', 'None', 'None', 'Cube', 'Cube', 'Cube'], 'M': ['None', 'Cube', 'None', 'None', 'None', 'None', 'None', 'None', 'None'], 'T': ['None', 'None', 'None', 'None', 'Cube', 'None', 'None', 'Cube', 'None']}, 'teleopGamePieceCount': 10, 'teleopGamePiecePoints': 15, 'teleopPoints': 35, 'totalChargeStationPoints': 32, 'totalPoints': 75}, 'red': {'activationBonusAchieved': False, 'adjustPoints': 0, 'autoBridgeState': 'NotLevel', 'autoChargeStationPoints': 0, 'autoChargeStationRobot1': 'None', 'autoChargeStationRobot2': 'None', 'autoChargeStationRobot3': 'None', 'autoCommunity': {'B': ['None', 'Cube', 'None', 'None', 'None', 'None', 'None', 'None', 'None'], 'M': ['None', 'None', 'None', 'None', 'None', 'None', 'None', 'None', 'None'], 'T': ['None', 'None', 'None', 'None', 'Cube', 'None', 'None', 'None', 'Cone']}, 'autoDocked': False, 'autoGamePieceCount': 3, 'autoGamePiecePoints': 15, 'autoMobilityPoints': 6, 'autoPoints': 21, 'coopGamePieceCount': 6, 'coopertitionCriteriaMet': True, 'endGameBridgeState': 'NotLevel', 'endGameChargeStationPoints': 0, 'endGameChargeStationRobot1': 'Park', 'endGameChargeStationRobot2': 'Park', 'endGameChargeStationRobot3': 'Park', 'endGameParkPoints': 6, 'foulCount': 0, 'foulPoints': 0, 'linkPoints': 20, 'links': [{'nodes': [0, 1, 2], 'row': 'Bottom'}, {'nodes': [3, 4, 5], 'row': 'Bottom'}, {'nodes': [1, 2, 3], 'row': 'Top'}, {'nodes': [4, 5, 6], 'row': 'Top'}], 'mobilityRobot1': 'No', 'mobilityRobot2': 'Yes', 'mobilityRobot3': 'Yes', 'rp': 2, 'sustainabilityBonusAchieved': False, 'techFoulCount': 0, 'teleopCommunity': {'B': ['Cone', 'Cube', 'Cube', 'Cube', 'Cube', 'Cube', 'None', 'None', 'None'], 'M': ['None', 'None', 'None', 'None', 'None', 'None', 'None', 'None', 'None'], 'T': ['None', 'Cube', 'Cone', 'Cone', 'Cube', 'Cone', 'Cone', 'Cube', 'Cone']}, 'teleopGamePieceCount': 14, 'teleopGamePiecePoints': 40, 'teleopPoints': 46, 'totalChargeStationPoints': 0, 'totalPoints': 87}}, 'set_number': 1, 'time': 1680808800, 'videos': [{'key': 'rckDu_xxE8Q', 'type': 'youtube'}, {'key': '57gXoL8Rv4A', 'type': 'youtube'}], 'winning_alliance': 'red'}),\n",
       " Match({'actual_time': 1680795694, 'alliances': {'blue': {'dq_team_keys': [], 'score': 114, 'surrogate_team_keys': [], 'team_keys': ['frc8764', 'frc1285', 'frc8729']}, 'red': {'dq_team_keys': [], 'score': 139, 'surrogate_team_keys': [], 'team_keys': ['frc6378', 'frc5870', 'frc4688']}}, 'comp_level': 'qm', 'event_key': '2023oncmp2', 'key': '2023oncmp2_qm22', 'match_number': 22, 'post_result_time': 1680795867, 'predicted_time': 1680810135, 'score_breakdown': {'blue': {'activationBonusAchieved': True, 'adjustPoints': 0, 'autoBridgeState': 'Level', 'autoChargeStationPoints': 12, 'autoChargeStationRobot1': 'None', 'autoChargeStationRobot2': 'Docked', 'autoChargeStationRobot3': 'None', 'autoCommunity': {'B': ['None', 'None', 'None', 'None', 'None', 'None', 'None', 'None', 'None'], 'M': ['None', 'None', 'None', 'None', 'None', 'None', 'None', 'None', 'None'], 'T': ['None', 'None', 'None', 'Cone', 'None', 'None', 'None', 'Cube', 'None']}, 'autoDocked': True, 'autoGamePieceCount': 2, 'autoGamePiecePoints': 12, 'autoMobilityPoints': 9, 'autoPoints': 33, 'coopGamePieceCount': 4, 'coopertitionCriteriaMet': True, 'endGameBridgeState': 'Level', 'endGameChargeStationPoints': 30, 'endGameChargeStationRobot1': 'Docked', 'endGameChargeStationRobot2': 'Docked', 'endGameChargeStationRobot3': 'Docked', 'endGameParkPoints': 0, 'foulCount': 2, 'foulPoints': 0, 'linkPoints': 20, 'links': [{'nodes': [0, 1, 2], 'row': 'Bottom'}, {'nodes': [3, 4, 5], 'row': 'Bottom'}, {'nodes': [6, 7, 8], 'row': 'Bottom'}, {'nodes': [6, 7, 8], 'row': 'Top'}], 'mobilityRobot1': 'Yes', 'mobilityRobot2': 'Yes', 'mobilityRobot3': 'Yes', 'rp': 2, 'sustainabilityBonusAchieved': True, 'techFoulCount': 0, 'teleopCommunity': {'B': ['Cube', 'Cube', 'Cube', 'Cube', 'Cube', 'Cube', 'Cube', 'Cube', 'Cube'], 'M': ['None', 'Cube', 'None', 'None', 'None', 'None', 'None', 'None', 'None'], 'T': ['None', 'None', 'None', 'Cone', 'None', 'None', 'Cone', 'Cube', 'Cone']}, 'teleopGamePieceCount': 14, 'teleopGamePiecePoints': 31, 'teleopPoints': 61, 'totalChargeStationPoints': 42, 'totalPoints': 114}, 'red': {'activationBonusAchieved': True, 'adjustPoints': 0, 'autoBridgeState': 'Level', 'autoChargeStationPoints': 12, 'autoChargeStationRobot1': 'None', 'autoChargeStationRobot2': 'Docked', 'autoChargeStationRobot3': 'None', 'autoCommunity': {'B': ['None', 'None', 'None', 'None', 'None', 'None', 'None', 'None', 'None'], 'M': ['None', 'None', 'None', 'None', 'Cube', 'None', 'None', 'None', 'None'], 'T': ['Cone', 'None', 'None', 'None', 'None', 'None', 'None', 'Cube', 'None']}, 'autoDocked': True, 'autoGamePieceCount': 3, 'autoGamePiecePoints': 16, 'autoMobilityPoints': 6, 'autoPoints': 34, 'coopGamePieceCount': 7, 'coopertitionCriteriaMet': True, 'endGameBridgeState': 'Level', 'endGameChargeStationPoints': 30, 'endGameChargeStationRobot1': 'Docked', 'endGameChargeStationRobot2': 'Docked', 'endGameChargeStationRobot3': 'Docked', 'endGameParkPoints': 0, 'foulCount': 0, 'foulPoints': 10, 'linkPoints': 20, 'links': [{'nodes': [3, 4, 5], 'row': 'Bottom'}, {'nodes': [3, 4, 5], 'row': 'Mid'}, {'nodes': [0, 1, 2], 'row': 'Top'}, {'nodes': [5, 6, 7], 'row': 'Top'}], 'mobilityRobot1': 'Yes', 'mobilityRobot2': 'No', 'mobilityRobot3': 'Yes', 'rp': 4, 'sustainabilityBonusAchieved': True, 'techFoulCount': 0, 'teleopCommunity': {'B': ['None', 'Cube', 'None', 'Cube', 'Cube', 'Cube', 'None', 'None', 'None'], 'M': ['Cone', 'Cube', 'None', 'Cone', 'Cube', 'Cone', 'None', 'None', 'None'], 'T': ['Cone', 'Cube', 'Cone', 'None', 'None', 'Cone', 'Cone', 'Cube', 'Cone']}, 'teleopGamePieceCount': 16, 'teleopGamePiecePoints': 45, 'teleopPoints': 75, 'totalChargeStationPoints': 42, 'totalPoints': 139}}, 'set_number': 1, 'time': 1680809400, 'videos': [{'key': 'DnvE53UMKBE', 'type': 'youtube'}, {'key': 'dvK61EPzKu4', 'type': 'youtube'}], 'winning_alliance': 'red'}),\n",
       " Match({'actual_time': 1680796257, 'alliances': {'blue': {'dq_team_keys': [], 'score': 143, 'surrogate_team_keys': [], 'team_keys': ['frc1114', 'frc4039', 'frc1334']}, 'red': {'dq_team_keys': [], 'score': 90, 'surrogate_team_keys': [], 'team_keys': ['frc2706', 'frc1310', 'frc9263']}}, 'comp_level': 'qm', 'event_key': '2023oncmp2', 'key': '2023oncmp2_qm23', 'match_number': 23, 'post_result_time': 1680796445, 'predicted_time': 1680810563, 'score_breakdown': {'blue': {'activationBonusAchieved': True, 'adjustPoints': 0, 'autoBridgeState': 'Level', 'autoChargeStationPoints': 12, 'autoChargeStationRobot1': 'None', 'autoChargeStationRobot2': 'Docked', 'autoChargeStationRobot3': 'None', 'autoCommunity': {'B': ['None', 'None', 'None', 'None', 'None', 'None', 'None', 'None', 'None'], 'M': ['Cone', 'None', 'None', 'None', 'None', 'None', 'None', 'Cube', 'None'], 'T': ['None', 'None', 'None', 'Cone', 'None', 'None', 'None', 'None', 'Cone']}, 'autoDocked': True, 'autoGamePieceCount': 4, 'autoGamePiecePoints': 20, 'autoMobilityPoints': 6, 'autoPoints': 38, 'coopGamePieceCount': 9, 'coopertitionCriteriaMet': True, 'endGameBridgeState': 'Level', 'endGameChargeStationPoints': 20, 'endGameChargeStationRobot1': 'None', 'endGameChargeStationRobot2': 'Docked', 'endGameChargeStationRobot3': 'Docked', 'endGameParkPoints': 0, 'foulCount': 0, 'foulPoints': 5, 'linkPoints': 25, 'links': [{'nodes': [0, 1, 2], 'row': 'Bottom'}, {'nodes': [3, 4, 5], 'row': 'Bottom'}, {'nodes': [3, 4, 5], 'row': 'Mid'}, {'nodes': [2, 3, 4], 'row': 'Top'}, {'nodes': [5, 6, 7], 'row': 'Top'}], 'mobilityRobot1': 'Yes', 'mobilityRobot2': 'Yes', 'mobilityRobot3': 'No', 'rp': 4, 'sustainabilityBonusAchieved': True, 'techFoulCount': 0, 'teleopCommunity': {'B': ['Cube', 'Cube', 'Cube', 'Cube', 'Cube', 'Cone', 'Cube', 'Cube', 'None'], 'M': ['Cone', 'None', 'None', 'Cone', 'Cube', 'Cone', 'None', 'Cube', 'None'], 'T': ['Cone', 'None', 'Cone', 'Cone', 'Cube', 'Cone', 'Cone', 'Cube', 'Cone']}, 'teleopGamePieceCount': 21, 'teleopGamePiecePoints': 55, 'teleopPoints': 75, 'totalChargeStationPoints': 32, 'totalPoints': 143}, 'red': {'activationBonusAchieved': True, 'adjustPoints': 0, 'autoBridgeState': 'Level', 'autoChargeStationPoints': 0, 'autoChargeStationRobot1': 'None', 'autoChargeStationRobot2': 'None', 'autoChargeStationRobot3': 'None', 'autoCommunity': {'B': ['None', 'None', 'None', 'None', 'None', 'None', 'None', 'None', 'None'], 'M': ['None', 'None', 'None', 'None', 'None', 'None', 'None', 'None', 'None'], 'T': ['None', 'Cube', 'None', 'None', 'None', 'Cone', 'None', 'None', 'None']}, 'autoDocked': False, 'autoGamePieceCount': 2, 'autoGamePiecePoints': 12, 'autoMobilityPoints': 6, 'autoPoints': 18, 'coopGamePieceCount': 4, 'coopertitionCriteriaMet': True, 'endGameBridgeState': 'Level', 'endGameChargeStationPoints': 30, 'endGameChargeStationRobot1': 'Docked', 'endGameChargeStationRobot2': 'Docked', 'endGameChargeStationRobot3': 'Docked', 'endGameParkPoints': 0, 'foulCount': 1, 'foulPoints': 0, 'linkPoints': 10, 'links': [{'nodes': [3, 4, 5], 'row': 'Top'}, {'nodes': [6, 7, 8], 'row': 'Top'}], 'mobilityRobot1': 'Yes', 'mobilityRobot2': 'No', 'mobilityRobot3': 'Yes', 'rp': 1, 'sustainabilityBonusAchieved': False, 'techFoulCount': 0, 'teleopCommunity': {'B': ['None', 'None', 'Cone', 'None', 'None', 'None', 'None', 'None', 'Cone'], 'M': ['None', 'None', 'None', 'None', 'Cube', 'None', 'None', 'None', 'None'], 'T': ['None', 'Cube', 'None', 'Cone', 'Cube', 'Cone', 'Cone', 'Cube', 'Cone']}, 'teleopGamePieceCount': 10, 'teleopGamePiecePoints': 32, 'teleopPoints': 62, 'totalChargeStationPoints': 30, 'totalPoints': 90}}, 'set_number': 1, 'time': 1680810000, 'videos': [{'key': 'rzXkekiqDhw', 'type': 'youtube'}, {'key': 'GOKMGpYlKSI', 'type': 'youtube'}], 'winning_alliance': 'blue'}),\n",
       " Match({'actual_time': 1680796844, 'alliances': {'blue': {'dq_team_keys': [], 'score': 131, 'surrogate_team_keys': [], 'team_keys': ['frc7757', 'frc2386', 'frc4678']}, 'red': {'dq_team_keys': [], 'score': 88, 'surrogate_team_keys': [], 'team_keys': ['frc2013', 'frc6987', 'frc7476']}}, 'comp_level': 'qm', 'event_key': '2023oncmp2', 'key': '2023oncmp2_qm24', 'match_number': 24, 'post_result_time': 1680797020, 'predicted_time': 1680811397, 'score_breakdown': {'blue': {'activationBonusAchieved': True, 'adjustPoints': 0, 'autoBridgeState': 'Level', 'autoChargeStationPoints': 12, 'autoChargeStationRobot1': 'None', 'autoChargeStationRobot2': 'None', 'autoChargeStationRobot3': 'Docked', 'autoCommunity': {'B': ['None', 'None', 'None', 'None', 'None', 'None', 'None', 'None', 'Cone'], 'M': ['None', 'None', 'None', 'None', 'None', 'None', 'None', 'None', 'None'], 'T': ['None', 'Cube', 'None', 'None', 'Cube', 'None', 'None', 'Cube', 'None']}, 'autoDocked': True, 'autoGamePieceCount': 4, 'autoGamePiecePoints': 21, 'autoMobilityPoints': 6, 'autoPoints': 39, 'coopGamePieceCount': 4, 'coopertitionCriteriaMet': True, 'endGameBridgeState': 'Level', 'endGameChargeStationPoints': 20, 'endGameChargeStationRobot1': 'Docked', 'endGameChargeStationRobot2': 'None', 'endGameChargeStationRobot3': 'Docked', 'endGameParkPoints': 0, 'foulCount': 0, 'foulPoints': 10, 'linkPoints': 20, 'links': [{'nodes': [5, 6, 7], 'row': 'Bottom'}, {'nodes': [0, 1, 2], 'row': 'Top'}, {'nodes': [3, 4, 5], 'row': 'Top'}, {'nodes': [6, 7, 8], 'row': 'Top'}], 'mobilityRobot1': 'No', 'mobilityRobot2': 'Yes', 'mobilityRobot3': 'Yes', 'rp': 4, 'sustainabilityBonusAchieved': True, 'techFoulCount': 0, 'teleopCommunity': {'B': ['None', 'None', 'None', 'None', 'None', 'Cube', 'Cone', 'Cone', 'Cone'], 'M': ['Cone', 'None', 'Cone', 'None', 'None', 'None', 'None', 'None', 'None'], 'T': ['Cone', 'Cube', 'Cone', 'Cone', 'Cube', 'Cone', 'Cone', 'Cube', 'Cone']}, 'teleopGamePieceCount': 15, 'teleopGamePiecePoints': 42, 'teleopPoints': 62, 'totalChargeStationPoints': 32, 'totalPoints': 131}, 'red': {'activationBonusAchieved': False, 'adjustPoints': 0, 'autoBridgeState': 'Level', 'autoChargeStationPoints': 12, 'autoChargeStationRobot1': 'Docked', 'autoChargeStationRobot2': 'None', 'autoChargeStationRobot3': 'None', 'autoCommunity': {'B': ['None', 'None', 'None', 'None', 'None', 'None', 'None', 'None', 'None'], 'M': ['None', 'None', 'None', 'None', 'None', 'None', 'None', 'None', 'None'], 'T': ['None', 'None', 'None', 'Cone', 'None', 'None', 'None', 'Cube', 'None']}, 'autoDocked': True, 'autoGamePieceCount': 2, 'autoGamePiecePoints': 12, 'autoMobilityPoints': 6, 'autoPoints': 30, 'coopGamePieceCount': 4, 'coopertitionCriteriaMet': True, 'endGameBridgeState': 'Level', 'endGameChargeStationPoints': 10, 'endGameChargeStationRobot1': 'Docked', 'endGameChargeStationRobot2': 'Park', 'endGameChargeStationRobot3': 'Park', 'endGameParkPoints': 4, 'foulCount': 2, 'foulPoints': 0, 'linkPoints': 10, 'links': [{'nodes': [2, 3, 4], 'row': 'Top'}, {'nodes': [5, 6, 7], 'row': 'Top'}], 'mobilityRobot1': 'No', 'mobilityRobot2': 'Yes', 'mobilityRobot3': 'Yes', 'rp': 0, 'sustainabilityBonusAchieved': False, 'techFoulCount': 0, 'teleopCommunity': {'B': ['Cone', 'Cone', 'None', 'None', 'None', 'Cone', 'None', 'None', 'None'], 'M': ['None', 'Cube', 'None', 'None', 'None', 'None', 'None', 'None', 'None'], 'T': ['None', 'None', 'Cone', 'Cone', 'Cube', 'Cone', 'Cone', 'Cube', 'Cone']}, 'teleopGamePieceCount': 11, 'teleopGamePiecePoints': 34, 'teleopPoints': 48, 'totalChargeStationPoints': 22, 'totalPoints': 88}}, 'set_number': 1, 'time': 1680810600, 'videos': [{'key': '39rQASV-FPE', 'type': 'youtube'}, {'key': 'R_qaCrJsuR0', 'type': 'youtube'}], 'winning_alliance': 'blue'}),\n",
       " Match({'actual_time': 1680797432, 'alliances': {'blue': {'dq_team_keys': [], 'score': 114, 'surrogate_team_keys': [], 'team_keys': ['frc1325', 'frc865', 'frc6865']}, 'red': {'dq_team_keys': [], 'score': 94, 'surrogate_team_keys': [], 'team_keys': ['frc6854', 'frc610', 'frc3739']}}, 'comp_level': 'qm', 'event_key': '2023oncmp2', 'key': '2023oncmp2_qm25', 'match_number': 25, 'post_result_time': 1680797630, 'predicted_time': 1680811606, 'score_breakdown': {'blue': {'activationBonusAchieved': True, 'adjustPoints': 0, 'autoBridgeState': 'Level', 'autoChargeStationPoints': 12, 'autoChargeStationRobot1': 'None', 'autoChargeStationRobot2': 'Docked', 'autoChargeStationRobot3': 'None', 'autoCommunity': {'B': ['Cube', 'None', 'None', 'None', 'None', 'None', 'Cone', 'None', 'None'], 'M': ['None', 'None', 'None', 'None', 'None', 'None', 'None', 'None', 'None'], 'T': ['None', 'None', 'None', 'None', 'None', 'None', 'None', 'Cube', 'Cone']}, 'autoDocked': True, 'autoGamePieceCount': 4, 'autoGamePiecePoints': 18, 'autoMobilityPoints': 6, 'autoPoints': 36, 'coopGamePieceCount': 6, 'coopertitionCriteriaMet': True, 'endGameBridgeState': 'Level', 'endGameChargeStationPoints': 20, 'endGameChargeStationRobot1': 'None', 'endGameChargeStationRobot2': 'Docked', 'endGameChargeStationRobot3': 'Docked', 'endGameParkPoints': 0, 'foulCount': 2, 'foulPoints': 0, 'linkPoints': 20, 'links': [{'nodes': [3, 4, 5], 'row': 'Mid'}, {'nodes': [6, 7, 8], 'row': 'Mid'}, {'nodes': [3, 4, 5], 'row': 'Top'}, {'nodes': [6, 7, 8], 'row': 'Top'}], 'mobilityRobot1': 'Yes', 'mobilityRobot2': 'Yes', 'mobilityRobot3': 'No', 'rp': 4, 'sustainabilityBonusAchieved': True, 'techFoulCount': 0, 'teleopCommunity': {'B': ['Cube', 'None', 'None', 'None', 'None', 'None', 'Cone', 'None', 'None'], 'M': ['None', 'None', 'None', 'Cone', 'Cube', 'Cone', 'Cone', 'Cube', 'Cone'], 'T': ['None', 'None', 'None', 'Cone', 'Cube', 'Cone', 'Cone', 'Cube', 'Cone']}, 'teleopGamePieceCount': 14, 'teleopGamePiecePoints': 38, 'teleopPoints': 58, 'totalChargeStationPoints': 32, 'totalPoints': 114}, 'red': {'activationBonusAchieved': True, 'adjustPoints': 0, 'autoBridgeState': 'Level', 'autoChargeStationPoints': 0, 'autoChargeStationRobot1': 'None', 'autoChargeStationRobot2': 'None', 'autoChargeStationRobot3': 'None', 'autoCommunity': {'B': ['None', 'None', 'None', 'None', 'None', 'None', 'None', 'None', 'Cone'], 'M': ['None', 'None', 'None', 'None', 'None', 'None', 'None', 'None', 'None'], 'T': ['None', 'Cube', 'None', 'None', 'None', 'None', 'None', 'Cube', 'None']}, 'autoDocked': False, 'autoGamePieceCount': 3, 'autoGamePiecePoints': 15, 'autoMobilityPoints': 6, 'autoPoints': 21, 'coopGamePieceCount': 6, 'coopertitionCriteriaMet': True, 'endGameBridgeState': 'Level', 'endGameChargeStationPoints': 30, 'endGameChargeStationRobot1': 'Docked', 'endGameChargeStationRobot2': 'Docked', 'endGameChargeStationRobot3': 'Docked', 'endGameParkPoints': 0, 'foulCount': 0, 'foulPoints': 10, 'linkPoints': 10, 'links': [{'nodes': [3, 4, 5], 'row': 'Bottom'}, {'nodes': [3, 4, 5], 'row': 'Mid'}], 'mobilityRobot1': 'Yes', 'mobilityRobot2': 'Yes', 'mobilityRobot3': 'No', 'rp': 1, 'sustainabilityBonusAchieved': False, 'techFoulCount': 0, 'teleopCommunity': {'B': ['None', 'None', 'None', 'Cone', 'Cube', 'Cone', 'None', 'None', 'Cone'], 'M': ['None', 'None', 'None', 'Cone', 'Cube', 'Cone', 'Cone', 'None', 'None'], 'T': ['None', 'Cube', 'None', 'None', 'None', 'None', 'Cone', 'Cube', 'None']}, 'teleopGamePieceCount': 11, 'teleopGamePiecePoints': 23, 'teleopPoints': 53, 'totalChargeStationPoints': 30, 'totalPoints': 94}}, 'set_number': 1, 'time': 1680811200, 'videos': [{'key': '1U5BvBgB4Tg', 'type': 'youtube'}, {'key': 'NUv-9tzY8dA', 'type': 'youtube'}], 'winning_alliance': 'blue'}),\n",
       " Match({'actual_time': 1680798068, 'alliances': {'blue': {'dq_team_keys': [], 'score': 152, 'surrogate_team_keys': [], 'team_keys': ['frc2609', 'frc5024', 'frc4069']}, 'red': {'dq_team_keys': [], 'score': 149, 'surrogate_team_keys': [], 'team_keys': ['frc7690', 'frc4917', 'frc4946']}}, 'comp_level': 'qm', 'event_key': '2023oncmp2', 'key': '2023oncmp2_qm26', 'match_number': 26, 'post_result_time': 1680798233, 'predicted_time': 1680812454, 'score_breakdown': {'blue': {'activationBonusAchieved': True, 'adjustPoints': 0, 'autoBridgeState': 'Level', 'autoChargeStationPoints': 12, 'autoChargeStationRobot1': 'None', 'autoChargeStationRobot2': 'Docked', 'autoChargeStationRobot3': 'None', 'autoCommunity': {'B': ['None', 'Cone', 'None', 'None', 'None', 'None', 'None', 'None', 'Cone'], 'M': ['None', 'None', 'None', 'None', 'Cube', 'None', 'None', 'None', 'None'], 'T': ['None', 'Cube', 'None', 'None', 'None', 'None', 'None', 'None', 'None']}, 'autoDocked': True, 'autoGamePieceCount': 4, 'autoGamePiecePoints': 16, 'autoMobilityPoints': 9, 'autoPoints': 37, 'coopGamePieceCount': 6, 'coopertitionCriteriaMet': True, 'endGameBridgeState': 'Level', 'endGameChargeStationPoints': 30, 'endGameChargeStationRobot1': 'Docked', 'endGameChargeStationRobot2': 'Docked', 'endGameChargeStationRobot3': 'Docked', 'endGameParkPoints': 0, 'foulCount': 0, 'foulPoints': 0, 'linkPoints': 25, 'links': [{'nodes': [3, 4, 5], 'row': 'Mid'}, {'nodes': [6, 7, 8], 'row': 'Mid'}, {'nodes': [0, 1, 2], 'row': 'Top'}, {'nodes': [3, 4, 5], 'row': 'Top'}, {'nodes': [6, 7, 8], 'row': 'Top'}], 'mobilityRobot1': 'Yes', 'mobilityRobot2': 'Yes', 'mobilityRobot3': 'Yes', 'rp': 4, 'sustainabilityBonusAchieved': True, 'techFoulCount': 0, 'teleopCommunity': {'B': ['None', 'Cone', 'Cone', 'None', 'None', 'None', 'None', 'None', 'Cone'], 'M': ['Cone', 'None', 'None', 'Cone', 'Cube', 'Cone', 'Cone', 'Cube', 'Cone'], 'T': ['Cone', 'Cube', 'Cone', 'Cone', 'Cube', 'Cone', 'Cone', 'Cube', 'Cone']}, 'teleopGamePieceCount': 19, 'teleopGamePiecePoints': 60, 'teleopPoints': 90, 'totalChargeStationPoints': 42, 'totalPoints': 152}, 'red': {'activationBonusAchieved': True, 'adjustPoints': 0, 'autoBridgeState': 'Level', 'autoChargeStationPoints': 12, 'autoChargeStationRobot1': 'None', 'autoChargeStationRobot2': 'Docked', 'autoChargeStationRobot3': 'None', 'autoCommunity': {'B': ['None', 'None', 'None', 'None', 'None', 'None', 'None', 'None', 'None'], 'M': ['None', 'None', 'None', 'None', 'None', 'None', 'None', 'Cube', 'None'], 'T': ['Cone', 'None', 'None', 'Cone', 'None', 'None', 'None', 'Cube', 'None']}, 'autoDocked': True, 'autoGamePieceCount': 4, 'autoGamePiecePoints': 22, 'autoMobilityPoints': 9, 'autoPoints': 43, 'coopGamePieceCount': 6, 'coopertitionCriteriaMet': True, 'endGameBridgeState': 'Level', 'endGameChargeStationPoints': 30, 'endGameChargeStationRobot1': 'Docked', 'endGameChargeStationRobot2': 'Docked', 'endGameChargeStationRobot3': 'Docked', 'endGameParkPoints': 0, 'foulCount': 0, 'foulPoints': 0, 'linkPoints': 25, 'links': [{'nodes': [0, 1, 2], 'row': 'Mid'}, {'nodes': [3, 4, 5], 'row': 'Mid'}, {'nodes': [0, 1, 2], 'row': 'Top'}, {'nodes': [3, 4, 5], 'row': 'Top'}, {'nodes': [6, 7, 8], 'row': 'Top'}], 'mobilityRobot1': 'Yes', 'mobilityRobot2': 'Yes', 'mobilityRobot3': 'Yes', 'rp': 2, 'sustainabilityBonusAchieved': True, 'techFoulCount': 0, 'teleopCommunity': {'B': ['None', 'None', 'None', 'None', 'None', 'None', 'None', 'None', 'None'], 'M': ['Cone', 'Cube', 'Cone', 'Cone', 'Cube', 'Cone', 'None', 'Cube', 'Cone'], 'T': ['Cone', 'Cube', 'Cone', 'Cone', 'Cube', 'Cone', 'Cone', 'Cube', 'Cone']}, 'teleopGamePieceCount': 17, 'teleopGamePiecePoints': 51, 'teleopPoints': 81, 'totalChargeStationPoints': 42, 'totalPoints': 149}}, 'set_number': 1, 'time': 1680811800, 'videos': [{'key': 'eSDn1HGzvFk', 'type': 'youtube'}, {'key': 'ssMDVmOV9L0', 'type': 'youtube'}], 'winning_alliance': 'blue'}),\n",
       " Match({'actual_time': 1680798681, 'alliances': {'blue': {'dq_team_keys': [], 'score': 99, 'surrogate_team_keys': [], 'team_keys': ['frc4920', 'frc7722', 'frc4343']}, 'red': {'dq_team_keys': [], 'score': 129, 'surrogate_team_keys': [], 'team_keys': ['frc5036', 'frc4907', 'frc1310']}}, 'comp_level': 'qm', 'event_key': '2023oncmp2', 'key': '2023oncmp2_qm27', 'match_number': 27, 'post_result_time': 1680798954, 'predicted_time': 1680813117, 'score_breakdown': {'blue': {'activationBonusAchieved': True, 'adjustPoints': 0, 'autoBridgeState': 'Level', 'autoChargeStationPoints': 12, 'autoChargeStationRobot1': 'None', 'autoChargeStationRobot2': 'Docked', 'autoChargeStationRobot3': 'None', 'autoCommunity': {'B': ['None', 'None', 'None', 'None', 'None', 'None', 'None', 'None', 'None'], 'M': ['None', 'None', 'None', 'None', 'Cube', 'None', 'None', 'Cube', 'None'], 'T': ['Cone', 'None', 'None', 'None', 'None', 'None', 'None', 'None', 'Cone']}, 'autoDocked': True, 'autoGamePieceCount': 4, 'autoGamePiecePoints': 20, 'autoMobilityPoints': 9, 'autoPoints': 41, 'coopGamePieceCount': 1, 'coopertitionCriteriaMet': False, 'endGameBridgeState': 'Level', 'endGameChargeStationPoints': 20, 'endGameChargeStationRobot1': 'Park', 'endGameChargeStationRobot2': 'Docked', 'endGameChargeStationRobot3': 'Docked', 'endGameParkPoints': 2, 'foulCount': 1, 'foulPoints': 5, 'linkPoints': 10, 'links': [{'nodes': [6, 7, 8], 'row': 'Mid'}, {'nodes': [6, 7, 8], 'row': 'Top'}], 'mobilityRobot1': 'Yes', 'mobilityRobot2': 'Yes', 'mobilityRobot3': 'Yes', 'rp': 1, 'sustainabilityBonusAchieved': False, 'techFoulCount': 0, 'teleopCommunity': {'B': ['Cube', 'None', 'None', 'None', 'None', 'None', 'None', 'None', 'None'], 'M': ['None', 'Cube', 'None', 'None', 'Cube', 'None', 'Cone', 'Cube', 'Cone'], 'T': ['Cone', 'None', 'None', 'None', 'None', 'None', 'Cone', 'Cube', 'Cone']}, 'teleopGamePieceCount': 10, 'teleopGamePiecePoints': 21, 'teleopPoints': 43, 'totalChargeStationPoints': 32, 'totalPoints': 99}, 'red': {'activationBonusAchieved': True, 'adjustPoints': 0, 'autoBridgeState': 'Level', 'autoChargeStationPoints': 12, 'autoChargeStationRobot1': 'None', 'autoChargeStationRobot2': 'None', 'autoChargeStationRobot3': 'Docked', 'autoCommunity': {'B': ['None', 'None', 'None', 'None', 'None', 'None', 'None', 'None', 'None'], 'M': ['None', 'None', 'None', 'None', 'None', 'None', 'None', 'None', 'None'], 'T': ['Cone', 'Cube', 'None', 'Cone', 'None', 'None', 'None', 'Cube', 'None']}, 'autoDocked': True, 'autoGamePieceCount': 4, 'autoGamePiecePoints': 24, 'autoMobilityPoints': 9, 'autoPoints': 45, 'coopGamePieceCount': 6, 'coopertitionCriteriaMet': True, 'endGameBridgeState': 'Level', 'endGameChargeStationPoints': 20, 'endGameChargeStationRobot1': 'None', 'endGameChargeStationRobot2': 'Docked', 'endGameChargeStationRobot3': 'Docked', 'endGameParkPoints': 0, 'foulCount': 1, 'foulPoints': 5, 'linkPoints': 20, 'links': [{'nodes': [3, 4, 5], 'row': 'Mid'}, {'nodes': [0, 1, 2], 'row': 'Top'}, {'nodes': [3, 4, 5], 'row': 'Top'}, {'nodes': [6, 7, 8], 'row': 'Top'}], 'mobilityRobot1': 'Yes', 'mobilityRobot2': 'Yes', 'mobilityRobot3': 'Yes', 'rp': 3, 'sustainabilityBonusAchieved': False, 'techFoulCount': 0, 'teleopCommunity': {'B': ['Cone', 'None', 'None', 'None', 'None', 'None', 'None', 'None', 'None'], 'M': ['None', 'Cube', 'None', 'Cone', 'Cube', 'Cone', 'None', 'None', 'None'], 'T': ['Cone', 'Cube', 'Cone', 'Cone', 'Cube', 'Cone', 'Cone', 'Cube', 'Cone']}, 'teleopGamePieceCount': 14, 'teleopGamePiecePoints': 39, 'teleopPoints': 59, 'totalChargeStationPoints': 32, 'totalPoints': 129}}, 'set_number': 1, 'time': 1680812400, 'videos': [{'key': 'tabuePtZrfE', 'type': 'youtube'}, {'key': '4T5sNcYCH-I', 'type': 'youtube'}], 'winning_alliance': 'red'}),\n",
       " Match({'actual_time': 1680799323, 'alliances': {'blue': {'dq_team_keys': [], 'score': 80, 'surrogate_team_keys': [], 'team_keys': ['frc6378', 'frc1114', 'frc6864']}, 'red': {'dq_team_keys': [], 'score': 58, 'surrogate_team_keys': [], 'team_keys': ['frc6987', 'frc7757', 'frc5870']}}, 'comp_level': 'qm', 'event_key': '2023oncmp2', 'key': '2023oncmp2_qm28', 'match_number': 28, 'post_result_time': 1680799499, 'predicted_time': 1680813748, 'score_breakdown': {'blue': {'activationBonusAchieved': False, 'adjustPoints': 0, 'autoBridgeState': 'NotLevel', 'autoChargeStationPoints': 8, 'autoChargeStationRobot1': 'None', 'autoChargeStationRobot2': 'Docked', 'autoChargeStationRobot3': 'None', 'autoCommunity': {'B': ['None', 'None', 'None', 'None', 'None', 'None', 'None', 'None', 'None'], 'M': ['None', 'None', 'None', 'None', 'None', 'None', 'None', 'None', 'Cone'], 'T': ['Cone', 'None', 'None', 'None', 'None', 'None', 'None', 'None', 'None']}, 'autoDocked': True, 'autoGamePieceCount': 2, 'autoGamePiecePoints': 10, 'autoMobilityPoints': 3, 'autoPoints': 21, 'coopGamePieceCount': 5, 'coopertitionCriteriaMet': True, 'endGameBridgeState': 'NotLevel', 'endGameChargeStationPoints': 12, 'endGameChargeStationRobot1': 'None', 'endGameChargeStationRobot2': 'Docked', 'endGameChargeStationRobot3': 'Docked', 'endGameParkPoints': 0, 'foulCount': 0, 'foulPoints': 0, 'linkPoints': 15, 'links': [{'nodes': [4, 5, 6], 'row': 'Bottom'}, {'nodes': [6, 7, 8], 'row': 'Mid'}, {'nodes': [3, 4, 5], 'row': 'Top'}], 'mobilityRobot1': 'No', 'mobilityRobot2': 'Yes', 'mobilityRobot3': 'No', 'rp': 2, 'sustainabilityBonusAchieved': False, 'techFoulCount': 0, 'teleopCommunity': {'B': ['None', 'None', 'None', 'None', 'Cube', 'Cube', 'Cone', 'None', 'None'], 'M': ['None', 'None', 'None', 'None', 'None', 'None', 'Cone', 'Cube', 'Cone'], 'T': ['Cone', 'None', 'None', 'Cone', 'Cube', 'Cone', 'None', 'Cube', 'None']}, 'teleopGamePieceCount': 11, 'teleopGamePiecePoints': 32, 'teleopPoints': 44, 'totalChargeStationPoints': 20, 'totalPoints': 80}, 'red': {'activationBonusAchieved': False, 'adjustPoints': 0, 'autoBridgeState': 'Level', 'autoChargeStationPoints': 12, 'autoChargeStationRobot1': 'None', 'autoChargeStationRobot2': 'None', 'autoChargeStationRobot3': 'Docked', 'autoCommunity': {'B': ['None', 'None', 'None', 'None', 'None', 'None', 'None', 'None', 'None'], 'M': ['None', 'None', 'None', 'None', 'Cube', 'None', 'None', 'None', 'None'], 'T': ['None', 'None', 'None', 'None', 'None', 'None', 'None', 'Cube', 'None']}, 'autoDocked': True, 'autoGamePieceCount': 2, 'autoGamePiecePoints': 10, 'autoMobilityPoints': 6, 'autoPoints': 28, 'coopGamePieceCount': 1, 'coopertitionCriteriaMet': False, 'endGameBridgeState': 'NotLevel', 'endGameChargeStationPoints': 0, 'endGameChargeStationRobot1': 'Park', 'endGameChargeStationRobot2': 'None', 'endGameChargeStationRobot3': 'None', 'endGameParkPoints': 2, 'foulCount': 0, 'foulPoints': 0, 'linkPoints': 10, 'links': [{'nodes': [0, 1, 2], 'row': 'Bottom'}, {'nodes': [6, 7, 8], 'row': 'Bottom'}], 'mobilityRobot1': 'Yes', 'mobilityRobot2': 'Yes', 'mobilityRobot3': 'No', 'rp': 0, 'sustainabilityBonusAchieved': False, 'techFoulCount': 0, 'teleopCommunity': {'B': ['Cone', 'Cube', 'Cube', 'None', 'None', 'None', 'Cube', 'Cube', 'Cube'], 'M': ['None', 'Cube', 'None', 'None', 'Cube', 'None', 'None', 'Cube', 'None'], 'T': ['None', 'None', 'None', 'None', 'None', 'None', 'None', 'Cube', 'None']}, 'teleopGamePieceCount': 10, 'teleopGamePiecePoints': 18, 'teleopPoints': 20, 'totalChargeStationPoints': 12, 'totalPoints': 58}}, 'set_number': 1, 'time': 1680813000, 'videos': [{'key': '35ZUdbDwt4U', 'type': 'youtube'}, {'key': '9TBbfGtqMIg', 'type': 'youtube'}], 'winning_alliance': 'blue'}),\n",
       " Match({'actual_time': 1680800090, 'alliances': {'blue': {'dq_team_keys': [], 'score': 56, 'surrogate_team_keys': [], 'team_keys': ['frc9263', 'frc7476', 'frc865']}, 'red': {'dq_team_keys': [], 'score': 103, 'surrogate_team_keys': [], 'team_keys': ['frc8729', 'frc2013', 'frc5596']}}, 'comp_level': 'qm', 'event_key': '2023oncmp2', 'key': '2023oncmp2_qm29', 'match_number': 29, 'post_result_time': 1680800257, 'predicted_time': 1680814580, 'score_breakdown': {'blue': {'activationBonusAchieved': True, 'adjustPoints': 0, 'autoBridgeState': 'Level', 'autoChargeStationPoints': 0, 'autoChargeStationRobot1': 'None', 'autoChargeStationRobot2': 'None', 'autoChargeStationRobot3': 'None', 'autoCommunity': {'B': ['None', 'None', 'None', 'None', 'None', 'None', 'None', 'None', 'None'], 'M': ['None', 'None', 'None', 'None', 'None', 'None', 'None', 'None', 'None'], 'T': ['None', 'Cube', 'None', 'None', 'None', 'Cone', 'None', 'None', 'None']}, 'autoDocked': False, 'autoGamePieceCount': 2, 'autoGamePiecePoints': 12, 'autoMobilityPoints': 3, 'autoPoints': 15, 'coopGamePieceCount': 3, 'coopertitionCriteriaMet': True, 'endGameBridgeState': 'Level', 'endGameChargeStationPoints': 30, 'endGameChargeStationRobot1': 'Docked', 'endGameChargeStationRobot2': 'Docked', 'endGameChargeStationRobot3': 'Docked', 'endGameParkPoints': 0, 'foulCount': 0, 'foulPoints': 0, 'linkPoints': 0, 'links': [], 'mobilityRobot1': 'No', 'mobilityRobot2': 'Yes', 'mobilityRobot3': 'No', 'rp': 1, 'sustainabilityBonusAchieved': False, 'techFoulCount': 0, 'teleopCommunity': {'B': ['None', 'None', 'None', 'Cube', 'None', 'None', 'Cone', 'None', 'Cone'], 'M': ['None', 'None', 'None', 'None', 'None', 'None', 'None', 'None', 'None'], 'T': ['None', 'Cube', 'None', 'None', 'Cube', 'Cone', 'None', 'None', 'None']}, 'teleopGamePieceCount': 6, 'teleopGamePiecePoints': 11, 'teleopPoints': 41, 'totalChargeStationPoints': 30, 'totalPoints': 56}, 'red': {'activationBonusAchieved': True, 'adjustPoints': 0, 'autoBridgeState': 'Level', 'autoChargeStationPoints': 12, 'autoChargeStationRobot1': 'None', 'autoChargeStationRobot2': 'Docked', 'autoChargeStationRobot3': 'None', 'autoCommunity': {'B': ['None', 'None', 'None', 'None', 'None', 'None', 'None', 'Cube', 'None'], 'M': ['None', 'None', 'None', 'None', 'None', 'None', 'None', 'None', 'None'], 'T': ['None', 'Cube', 'None', 'Cone', 'None', 'None', 'None', 'None', 'None']}, 'autoDocked': True, 'autoGamePieceCount': 3, 'autoGamePiecePoints': 15, 'autoMobilityPoints': 9, 'autoPoints': 36, 'coopGamePieceCount': 3, 'coopertitionCriteriaMet': True, 'endGameBridgeState': 'Level', 'endGameChargeStationPoints': 20, 'endGameChargeStationRobot1': 'Docked', 'endGameChargeStationRobot2': 'Docked', 'endGameChargeStationRobot3': 'Park', 'endGameParkPoints': 2, 'foulCount': 0, 'foulPoints': 0, 'linkPoints': 10, 'links': [{'nodes': [0, 1, 2], 'row': 'Top'}, {'nodes': [3, 4, 5], 'row': 'Top'}], 'mobilityRobot1': 'Yes', 'mobilityRobot2': 'Yes', 'mobilityRobot3': 'Yes', 'rp': 3, 'sustainabilityBonusAchieved': False, 'techFoulCount': 0, 'teleopCommunity': {'B': ['None', 'None', 'None', 'None', 'None', 'None', 'None', 'Cube', 'Cube'], 'M': ['None', 'None', 'None', 'None', 'None', 'None', 'None', 'Cube', 'None'], 'T': ['Cone', 'Cube', 'Cone', 'Cone', 'Cube', 'Cone', 'Cone', 'Cube', 'None']}, 'teleopGamePieceCount': 11, 'teleopGamePiecePoints': 35, 'teleopPoints': 57, 'totalChargeStationPoints': 32, 'totalPoints': 103}}, 'set_number': 1, 'time': 1680813600, 'videos': [{'key': 'ncRsy6WiJ38', 'type': 'youtube'}, {'key': 'zy3dklhJ1PM', 'type': 'youtube'}], 'winning_alliance': 'red'}),\n",
       " Match({'actual_time': 1680780795, 'alliances': {'blue': {'dq_team_keys': [], 'score': 103, 'surrogate_team_keys': [], 'team_keys': ['frc3739', 'frc5596', 'frc8764']}, 'red': {'dq_team_keys': [], 'score': 65, 'surrogate_team_keys': [], 'team_keys': ['frc1334', 'frc5870', 'frc6864']}}, 'comp_level': 'qm', 'event_key': '2023oncmp2', 'key': '2023oncmp2_qm3', 'match_number': 3, 'post_result_time': 1680781084, 'predicted_time': 1680795240, 'score_breakdown': {'blue': {'activationBonusAchieved': True, 'adjustPoints': 0, 'autoBridgeState': 'NotLevel', 'autoChargeStationPoints': 8, 'autoChargeStationRobot1': 'Docked', 'autoChargeStationRobot2': 'None', 'autoChargeStationRobot3': 'None', 'autoCommunity': {'B': ['None', 'None', 'None', 'None', 'None', 'None', 'None', 'Cube', 'None'], 'M': ['None', 'None', 'None', 'None', 'Cube', 'None', 'None', 'None', 'None'], 'T': ['None', 'Cube', 'None', 'None', 'None', 'None', 'None', 'None', 'None']}, 'autoDocked': True, 'autoGamePieceCount': 3, 'autoGamePiecePoints': 13, 'autoMobilityPoints': 3, 'autoPoints': 24, 'coopGamePieceCount': 5, 'coopertitionCriteriaMet': True, 'endGameBridgeState': 'Level', 'endGameChargeStationPoints': 20, 'endGameChargeStationRobot1': 'Docked', 'endGameChargeStationRobot2': 'Docked', 'endGameChargeStationRobot3': 'None', 'endGameParkPoints': 0, 'foulCount': 0, 'foulPoints': 0, 'linkPoints': 20, 'links': [{'nodes': [4, 5, 6], 'row': 'Bottom'}, {'nodes': [1, 2, 3], 'row': 'Mid'}, {'nodes': [4, 5, 6], 'row': 'Mid'}, {'nodes': [0, 1, 2], 'row': 'Top'}], 'mobilityRobot1': 'Yes', 'mobilityRobot2': 'No', 'mobilityRobot3': 'No', 'rp': 3, 'sustainabilityBonusAchieved': False, 'techFoulCount': 0, 'teleopCommunity': {'B': ['None', 'None', 'None', 'None', 'Cube', 'Cone', 'Cube', 'Cube', 'Cube'], 'M': ['None', 'Cube', 'Cone', 'Cone', 'Cube', 'Cone', 'Cone', 'Cube', 'Cone'], 'T': ['Cone', 'Cube', 'Cone', 'None', 'None', 'None', 'None', 'None', 'None']}, 'teleopGamePieceCount': 16, 'teleopGamePiecePoints': 39, 'teleopPoints': 59, 'totalChargeStationPoints': 28, 'totalPoints': 103}, 'red': {'activationBonusAchieved': True, 'adjustPoints': 0, 'autoBridgeState': 'NotLevel', 'autoChargeStationPoints': 0, 'autoChargeStationRobot1': 'None', 'autoChargeStationRobot2': 'None', 'autoChargeStationRobot3': 'None', 'autoCommunity': {'B': ['None', 'None', 'None', 'None', 'Cone', 'None', 'None', 'None', 'None'], 'M': ['Cone', 'None', 'None', 'None', 'None', 'None', 'None', 'Cube', 'None'], 'T': ['None', 'None', 'None', 'None', 'None', 'None', 'None', 'None', 'None']}, 'autoDocked': False, 'autoGamePieceCount': 3, 'autoGamePiecePoints': 11, 'autoMobilityPoints': 6, 'autoPoints': 17, 'coopGamePieceCount': 2, 'coopertitionCriteriaMet': False, 'endGameBridgeState': 'Level', 'endGameChargeStationPoints': 30, 'endGameChargeStationRobot1': 'Docked', 'endGameChargeStationRobot2': 'Docked', 'endGameChargeStationRobot3': 'Docked', 'endGameParkPoints': 0, 'foulCount': 0, 'foulPoints': 0, 'linkPoints': 0, 'links': [], 'mobilityRobot1': 'Yes', 'mobilityRobot2': 'No', 'mobilityRobot3': 'Yes', 'rp': 1, 'sustainabilityBonusAchieved': False, 'techFoulCount': 0, 'teleopCommunity': {'B': ['None', 'Cube', 'None', 'None', 'Cube', 'None', 'Cone', 'None', 'None'], 'M': ['Cone', 'Cube', 'None', 'None', 'Cube', 'None', 'None', 'Cube', 'Cone'], 'T': ['None', 'Cube', 'None', 'None', 'None', 'None', 'None', 'None', 'None']}, 'teleopGamePieceCount': 9, 'teleopGamePiecePoints': 18, 'teleopPoints': 48, 'totalChargeStationPoints': 30, 'totalPoints': 65}}, 'set_number': 1, 'time': 1680794400, 'videos': [{'key': 'oLZ0s4Kv9a0', 'type': 'youtube'}, {'key': 'hF5jDWG3inU', 'type': 'youtube'}], 'winning_alliance': 'blue'}),\n",
       " Match({'actual_time': 1680800633, 'alliances': {'blue': {'dq_team_keys': [], 'score': 170, 'surrogate_team_keys': [], 'team_keys': ['frc610', 'frc4903', 'frc4069']}, 'red': {'dq_team_keys': [], 'score': 162, 'surrogate_team_keys': [], 'team_keys': ['frc4688', 'frc4678', 'frc3739']}}, 'comp_level': 'qm', 'event_key': '2023oncmp2', 'key': '2023oncmp2_qm30', 'match_number': 30, 'post_result_time': 1680800878, 'predicted_time': 1680814958, 'score_breakdown': {'blue': {'activationBonusAchieved': True, 'adjustPoints': 0, 'autoBridgeState': 'Level', 'autoChargeStationPoints': 12, 'autoChargeStationRobot1': 'Docked', 'autoChargeStationRobot2': 'None', 'autoChargeStationRobot3': 'None', 'autoCommunity': {'B': ['None', 'None', 'None', 'Cone', 'None', 'None', 'None', 'None', 'None'], 'M': ['None', 'None', 'None', 'None', 'None', 'None', 'None', 'None', 'None'], 'T': ['Cone', 'Cube', 'None', 'None', 'None', 'None', 'None', 'Cube', 'None']}, 'autoDocked': True, 'autoGamePieceCount': 4, 'autoGamePiecePoints': 21, 'autoMobilityPoints': 9, 'autoPoints': 42, 'coopGamePieceCount': 7, 'coopertitionCriteriaMet': True, 'endGameBridgeState': 'Level', 'endGameChargeStationPoints': 30, 'endGameChargeStationRobot1': 'Docked', 'endGameChargeStationRobot2': 'Docked', 'endGameChargeStationRobot3': 'Docked', 'endGameParkPoints': 0, 'foulCount': 0, 'foulPoints': 0, 'linkPoints': 35, 'links': [{'nodes': [6, 7, 8], 'row': 'Bottom'}, {'nodes': [0, 1, 2], 'row': 'Mid'}, {'nodes': [3, 4, 5], 'row': 'Mid'}, {'nodes': [6, 7, 8], 'row': 'Mid'}, {'nodes': [0, 1, 2], 'row': 'Top'}, {'nodes': [3, 4, 5], 'row': 'Top'}, {'nodes': [6, 7, 8], 'row': 'Top'}], 'mobilityRobot1': 'Yes', 'mobilityRobot2': 'Yes', 'mobilityRobot3': 'Yes', 'rp': 4, 'sustainabilityBonusAchieved': True, 'techFoulCount': 0, 'teleopCommunity': {'B': ['None', 'None', 'None', 'Cone', 'None', 'None', 'Cone', 'Cube', 'Cube'], 'M': ['Cone', 'Cube', 'Cone', 'Cone', 'Cube', 'Cone', 'Cone', 'Cube', 'Cone'], 'T': ['Cone', 'Cube', 'Cone', 'Cone', 'Cube', 'Cone', 'Cone', 'Cube', 'Cone']}, 'teleopGamePieceCount': 22, 'teleopGamePiecePoints': 63, 'teleopPoints': 93, 'totalChargeStationPoints': 42, 'totalPoints': 170}, 'red': {'activationBonusAchieved': True, 'adjustPoints': 0, 'autoBridgeState': 'NotLevel', 'autoChargeStationPoints': 8, 'autoChargeStationRobot1': 'None', 'autoChargeStationRobot2': 'None', 'autoChargeStationRobot3': 'Docked', 'autoCommunity': {'B': ['None', 'None', 'None', 'None', 'None', 'None', 'None', 'None', 'None'], 'M': ['None', 'None', 'None', 'None', 'Cube', 'None', 'None', 'None', 'None'], 'T': ['Cone', 'Cube', 'Cone', 'None', 'None', 'None', 'None', 'None', 'Cone']}, 'autoDocked': True, 'autoGamePieceCount': 5, 'autoGamePiecePoints': 28, 'autoMobilityPoints': 9, 'autoPoints': 45, 'coopGamePieceCount': 8, 'coopertitionCriteriaMet': True, 'endGameBridgeState': 'Level', 'endGameChargeStationPoints': 30, 'endGameChargeStationRobot1': 'Docked', 'endGameChargeStationRobot2': 'Docked', 'endGameChargeStationRobot3': 'Docked', 'endGameParkPoints': 0, 'foulCount': 0, 'foulPoints': 0, 'linkPoints': 30, 'links': [{'nodes': [0, 1, 2], 'row': 'Mid'}, {'nodes': [3, 4, 5], 'row': 'Mid'}, {'nodes': [6, 7, 8], 'row': 'Mid'}, {'nodes': [0, 1, 2], 'row': 'Top'}, {'nodes': [3, 4, 5], 'row': 'Top'}, {'nodes': [6, 7, 8], 'row': 'Top'}], 'mobilityRobot1': 'Yes', 'mobilityRobot2': 'Yes', 'mobilityRobot3': 'Yes', 'rp': 2, 'sustainabilityBonusAchieved': True, 'techFoulCount': 0, 'teleopCommunity': {'B': ['Cone', 'None', 'Cone', 'Cone', 'None', 'Cone', 'None', 'None', 'None'], 'M': ['Cone', 'Cube', 'Cone', 'Cone', 'Cube', 'Cone', 'Cone', 'Cube', 'Cone'], 'T': ['Cone', 'Cube', 'Cone', 'Cone', 'Cube', 'Cone', 'Cone', 'Cube', 'Cone']}, 'teleopGamePieceCount': 22, 'teleopGamePiecePoints': 57, 'teleopPoints': 87, 'totalChargeStationPoints': 38, 'totalPoints': 162}}, 'set_number': 1, 'time': 1680814200, 'videos': [{'key': 'GH475Ik-Ai4', 'type': 'youtube'}, {'key': 'Asu5sJPHsUY', 'type': 'youtube'}], 'winning_alliance': 'blue'}),\n",
       " Match({'actual_time': 1680801358, 'alliances': {'blue': {'dq_team_keys': [], 'score': 154, 'surrogate_team_keys': [], 'team_keys': ['frc4039', 'frc4920', 'frc4917']}, 'red': {'dq_team_keys': [], 'score': 130, 'surrogate_team_keys': [], 'team_keys': ['frc2706', 'frc1325', 'frc8764']}}, 'comp_level': 'qm', 'event_key': '2023oncmp2', 'key': '2023oncmp2_qm31', 'match_number': 31, 'post_result_time': 1680801525, 'predicted_time': 1680815795, 'score_breakdown': {'blue': {'activationBonusAchieved': True, 'adjustPoints': 0, 'autoBridgeState': 'Level', 'autoChargeStationPoints': 12, 'autoChargeStationRobot1': 'Docked', 'autoChargeStationRobot2': 'None', 'autoChargeStationRobot3': 'None', 'autoCommunity': {'B': ['Cone', 'None', 'None', 'None', 'None', 'None', 'None', 'None', 'None'], 'M': ['None', 'None', 'None', 'None', 'None', 'None', 'None', 'None', 'None'], 'T': ['None', 'None', 'None', 'Cone', 'None', 'None', 'None', 'Cube', 'Cone']}, 'autoDocked': True, 'autoGamePieceCount': 4, 'autoGamePiecePoints': 21, 'autoMobilityPoints': 9, 'autoPoints': 42, 'coopGamePieceCount': 6, 'coopertitionCriteriaMet': True, 'endGameBridgeState': 'Level', 'endGameChargeStationPoints': 30, 'endGameChargeStationRobot1': 'Docked', 'endGameChargeStationRobot2': 'Docked', 'endGameChargeStationRobot3': 'Docked', 'endGameParkPoints': 0, 'foulCount': 0, 'foulPoints': 0, 'linkPoints': 30, 'links': [{'nodes': [0, 1, 2], 'row': 'Bottom'}, {'nodes': [3, 4, 5], 'row': 'Mid'}, {'nodes': [6, 7, 8], 'row': 'Mid'}, {'nodes': [0, 1, 2], 'row': 'Top'}, {'nodes': [3, 4, 5], 'row': 'Top'}, {'nodes': [6, 7, 8], 'row': 'Top'}], 'mobilityRobot1': 'Yes', 'mobilityRobot2': 'Yes', 'mobilityRobot3': 'Yes', 'rp': 4, 'sustainabilityBonusAchieved': True, 'techFoulCount': 0, 'teleopCommunity': {'B': ['Cone', 'Cone', 'Cube', 'None', 'None', 'None', 'None', 'None', 'None'], 'M': ['None', 'None', 'None', 'Cone', 'Cube', 'Cone', 'Cone', 'Cube', 'Cone'], 'T': ['Cone', 'Cube', 'Cone', 'Cone', 'Cube', 'Cone', 'Cone', 'Cube', 'Cone']}, 'teleopGamePieceCount': 18, 'teleopGamePiecePoints': 52, 'teleopPoints': 82, 'totalChargeStationPoints': 42, 'totalPoints': 154}, 'red': {'activationBonusAchieved': True, 'adjustPoints': 0, 'autoBridgeState': 'NotLevel', 'autoChargeStationPoints': 8, 'autoChargeStationRobot1': 'Docked', 'autoChargeStationRobot2': 'None', 'autoChargeStationRobot3': 'None', 'autoCommunity': {'B': ['Cone', 'None', 'None', 'None', 'None', 'None', 'None', 'None', 'None'], 'M': ['None', 'None', 'None', 'None', 'None', 'None', 'None', 'None', 'None'], 'T': ['None', 'Cube', 'None', 'None', 'Cube', 'None', 'None', 'Cube', 'None']}, 'autoDocked': True, 'autoGamePieceCount': 4, 'autoGamePiecePoints': 21, 'autoMobilityPoints': 6, 'autoPoints': 35, 'coopGamePieceCount': 4, 'coopertitionCriteriaMet': True, 'endGameBridgeState': 'Level', 'endGameChargeStationPoints': 30, 'endGameChargeStationRobot1': 'Docked', 'endGameChargeStationRobot2': 'Docked', 'endGameChargeStationRobot3': 'Docked', 'endGameParkPoints': 0, 'foulCount': 0, 'foulPoints': 0, 'linkPoints': 20, 'links': [{'nodes': [0, 1, 2], 'row': 'Mid'}, {'nodes': [0, 1, 2], 'row': 'Top'}, {'nodes': [3, 4, 5], 'row': 'Top'}, {'nodes': [6, 7, 8], 'row': 'Top'}], 'mobilityRobot1': 'No', 'mobilityRobot2': 'Yes', 'mobilityRobot3': 'Yes', 'rp': 2, 'sustainabilityBonusAchieved': True, 'techFoulCount': 0, 'teleopCommunity': {'B': ['Cone', 'None', 'None', 'None', 'Cone', 'None', 'None', 'Cone', 'Cone'], 'M': ['Cone', 'Cube', 'Cone', 'None', 'None', 'None', 'None', 'None', 'None'], 'T': ['Cone', 'Cube', 'Cone', 'Cone', 'Cube', 'Cone', 'Cone', 'Cube', 'Cone']}, 'teleopGamePieceCount': 16, 'teleopGamePiecePoints': 45, 'teleopPoints': 75, 'totalChargeStationPoints': 38, 'totalPoints': 130}}, 'set_number': 1, 'time': 1680814800, 'videos': [{'key': 'oJA0r3I2_uY', 'type': 'youtube'}, {'key': 'R0rKeHnzx1Y', 'type': 'youtube'}], 'winning_alliance': 'blue'}),\n",
       " Match({'actual_time': 1680801926, 'alliances': {'blue': {'dq_team_keys': [], 'score': 66, 'surrogate_team_keys': [], 'team_keys': ['frc5036', 'frc6865', 'frc5024']}, 'red': {'dq_team_keys': [], 'score': 139, 'surrogate_team_keys': [], 'team_keys': ['frc2609', 'frc4907', 'frc1334']}}, 'comp_level': 'qm', 'event_key': '2023oncmp2', 'key': '2023oncmp2_qm32', 'match_number': 32, 'post_result_time': 1680802100, 'predicted_time': 1680816413, 'score_breakdown': {'blue': {'activationBonusAchieved': False, 'adjustPoints': 0, 'autoBridgeState': 'Level', 'autoChargeStationPoints': 12, 'autoChargeStationRobot1': 'None', 'autoChargeStationRobot2': 'None', 'autoChargeStationRobot3': 'Docked', 'autoCommunity': {'B': ['None', 'None', 'None', 'None', 'None', 'None', 'None', 'Cube', 'None'], 'M': ['None', 'Cube', 'None', 'None', 'Cube', 'None', 'None', 'None', 'None'], 'T': ['None', 'None', 'None', 'None', 'None', 'None', 'None', 'None', 'None']}, 'autoDocked': True, 'autoGamePieceCount': 3, 'autoGamePiecePoints': 11, 'autoMobilityPoints': 6, 'autoPoints': 29, 'coopGamePieceCount': 4, 'coopertitionCriteriaMet': True, 'endGameBridgeState': 'NotLevel', 'endGameChargeStationPoints': 0, 'endGameChargeStationRobot1': 'None', 'endGameChargeStationRobot2': 'None', 'endGameChargeStationRobot3': 'None', 'endGameParkPoints': 0, 'foulCount': 0, 'foulPoints': 0, 'linkPoints': 15, 'links': [{'nodes': [0, 1, 2], 'row': 'Bottom'}, {'nodes': [0, 1, 2], 'row': 'Mid'}, {'nodes': [3, 4, 5], 'row': 'Mid'}], 'mobilityRobot1': 'Yes', 'mobilityRobot2': 'No', 'mobilityRobot3': 'Yes', 'rp': 0, 'sustainabilityBonusAchieved': False, 'techFoulCount': 0, 'teleopCommunity': {'B': ['Cube', 'Cube', 'Cube', 'Cube', 'None', 'None', 'Cube', 'Cube', 'None'], 'M': ['Cone', 'Cube', 'Cone', 'Cone', 'Cube', 'Cone', 'None', 'None', 'None'], 'T': ['None', 'None', 'None', 'None', 'None', 'None', 'None', 'None', 'None']}, 'teleopGamePieceCount': 12, 'teleopGamePiecePoints': 22, 'teleopPoints': 22, 'totalChargeStationPoints': 12, 'totalPoints': 66}, 'red': {'activationBonusAchieved': True, 'adjustPoints': 0, 'autoBridgeState': 'Level', 'autoChargeStationPoints': 12, 'autoChargeStationRobot1': 'Docked', 'autoChargeStationRobot2': 'None', 'autoChargeStationRobot3': 'None', 'autoCommunity': {'B': ['None', 'None', 'None', 'None', 'None', 'None', 'None', 'None', 'None'], 'M': ['None', 'None', 'None', 'None', 'None', 'None', 'None', 'None', 'Cone'], 'T': ['Cone', 'Cube', 'None', 'None', 'None', 'Cone', 'None', 'None', 'None']}, 'autoDocked': True, 'autoGamePieceCount': 4, 'autoGamePiecePoints': 22, 'autoMobilityPoints': 9, 'autoPoints': 43, 'coopGamePieceCount': 5, 'coopertitionCriteriaMet': True, 'endGameBridgeState': 'Level', 'endGameChargeStationPoints': 20, 'endGameChargeStationRobot1': 'Park', 'endGameChargeStationRobot2': 'Docked', 'endGameChargeStationRobot3': 'Docked', 'endGameParkPoints': 2, 'foulCount': 0, 'foulPoints': 0, 'linkPoints': 25, 'links': [{'nodes': [0, 1, 2], 'row': 'Mid'}, {'nodes': [3, 4, 5], 'row': 'Mid'}, {'nodes': [6, 7, 8], 'row': 'Mid'}, {'nodes': [0, 1, 2], 'row': 'Top'}, {'nodes': [4, 5, 6], 'row': 'Top'}], 'mobilityRobot1': 'Yes', 'mobilityRobot2': 'Yes', 'mobilityRobot3': 'Yes', 'rp': 4, 'sustainabilityBonusAchieved': True, 'techFoulCount': 0, 'teleopCommunity': {'B': ['None', 'None', 'None', 'None', 'None', 'None', 'None', 'None', 'None'], 'M': ['Cone', 'Cube', 'Cone', 'Cone', 'Cube', 'Cone', 'Cone', 'Cube', 'Cone'], 'T': ['Cone', 'Cube', 'Cone', 'None', 'Cube', 'Cone', 'Cone', 'Cube', 'Cone']}, 'teleopGamePieceCount': 17, 'teleopGamePiecePoints': 49, 'teleopPoints': 71, 'totalChargeStationPoints': 32, 'totalPoints': 139}}, 'set_number': 1, 'time': 1680815400, 'videos': [{'key': '2cyK099z_p8', 'type': 'youtube'}, {'key': 'gHhmVceY6d0', 'type': 'youtube'}], 'winning_alliance': 'red'}),\n",
       " Match({'actual_time': 1680802493, 'alliances': {'blue': {'dq_team_keys': [], 'score': 105, 'surrogate_team_keys': [], 'team_keys': ['frc5885', 'frc1285', 'frc7690']}, 'red': {'dq_team_keys': [], 'score': 131, 'surrogate_team_keys': [], 'team_keys': ['frc4946', 'frc6854', 'frc7722']}}, 'comp_level': 'qm', 'event_key': '2023oncmp2', 'key': '2023oncmp2_qm33', 'match_number': 33, 'post_result_time': 1680802854, 'predicted_time': 1680816913, 'score_breakdown': {'blue': {'activationBonusAchieved': False, 'adjustPoints': 0, 'autoBridgeState': 'NotLevel', 'autoChargeStationPoints': 0, 'autoChargeStationRobot1': 'None', 'autoChargeStationRobot2': 'None', 'autoChargeStationRobot3': 'None', 'autoCommunity': {'B': ['None', 'None', 'None', 'None', 'None', 'None', 'None', 'None', 'None'], 'M': ['None', 'None', 'None', 'None', 'None', 'None', 'None', 'None', 'None'], 'T': ['Cone', 'None', 'None', 'None', 'None', 'Cone', 'None', 'Cube', 'None']}, 'autoDocked': False, 'autoGamePieceCount': 3, 'autoGamePiecePoints': 18, 'autoMobilityPoints': 9, 'autoPoints': 27, 'coopGamePieceCount': 5, 'coopertitionCriteriaMet': True, 'endGameBridgeState': 'Level', 'endGameChargeStationPoints': 20, 'endGameChargeStationRobot1': 'Docked', 'endGameChargeStationRobot2': 'Docked', 'endGameChargeStationRobot3': 'None', 'endGameParkPoints': 0, 'foulCount': 1, 'foulPoints': 15, 'linkPoints': 15, 'links': [{'nodes': [0, 1, 2], 'row': 'Bottom'}, {'nodes': [3, 4, 5], 'row': 'Bottom'}, {'nodes': [6, 7, 8], 'row': 'Bottom'}], 'mobilityRobot1': 'Yes', 'mobilityRobot2': 'Yes', 'mobilityRobot3': 'Yes', 'rp': 0, 'sustainabilityBonusAchieved': False, 'techFoulCount': 0, 'teleopCommunity': {'B': ['Cube', 'Cube', 'Cube', 'Cube', 'Cube', 'Cube', 'Cube', 'Cube', 'Cube'], 'M': ['None', 'None', 'None', 'None', 'None', 'None', 'None', 'None', 'None'], 'T': ['Cone', 'Cube', 'None', 'None', 'Cube', 'Cone', 'None', 'Cube', 'None']}, 'teleopGamePieceCount': 14, 'teleopGamePiecePoints': 28, 'teleopPoints': 48, 'totalChargeStationPoints': 20, 'totalPoints': 105}, 'red': {'activationBonusAchieved': True, 'adjustPoints': 0, 'autoBridgeState': 'Level', 'autoChargeStationPoints': 12, 'autoChargeStationRobot1': 'None', 'autoChargeStationRobot2': 'None', 'autoChargeStationRobot3': 'Docked', 'autoCommunity': {'B': ['None', 'None', 'None', 'None', 'None', 'None', 'None', 'None', 'None'], 'M': ['None', 'None', 'None', 'None', 'Cube', 'None', 'None', 'Cube', 'None'], 'T': ['None', 'Cube', 'None', 'None', 'None', 'None', 'None', 'Cube', 'None']}, 'autoDocked': True, 'autoGamePieceCount': 4, 'autoGamePiecePoints': 20, 'autoMobilityPoints': 9, 'autoPoints': 41, 'coopGamePieceCount': 6, 'coopertitionCriteriaMet': True, 'endGameBridgeState': 'Level', 'endGameChargeStationPoints': 20, 'endGameChargeStationRobot1': 'Park', 'endGameChargeStationRobot2': 'Docked', 'endGameChargeStationRobot3': 'Docked', 'endGameParkPoints': 2, 'foulCount': 3, 'foulPoints': 5, 'linkPoints': 20, 'links': [{'nodes': [3, 4, 5], 'row': 'Mid'}, {'nodes': [0, 1, 2], 'row': 'Top'}, {'nodes': [3, 4, 5], 'row': 'Top'}, {'nodes': [6, 7, 8], 'row': 'Top'}], 'mobilityRobot1': 'Yes', 'mobilityRobot2': 'Yes', 'mobilityRobot3': 'Yes', 'rp': 4, 'sustainabilityBonusAchieved': True, 'techFoulCount': 0, 'teleopCommunity': {'B': ['None', 'None', 'None', 'None', 'None', 'None', 'None', 'None', 'Cone'], 'M': ['None', 'None', 'None', 'Cone', 'Cube', 'Cone', 'None', 'Cube', 'None'], 'T': ['Cone', 'Cube', 'Cone', 'Cone', 'Cube', 'Cone', 'Cone', 'Cube', 'Cone']}, 'teleopGamePieceCount': 14, 'teleopGamePiecePoints': 43, 'teleopPoints': 65, 'totalChargeStationPoints': 32, 'totalPoints': 131}}, 'set_number': 1, 'time': 1680816000, 'videos': [{'key': 'sALfDQx0iuM', 'type': 'youtube'}, {'key': 'vQmLK-ESzNQ', 'type': 'youtube'}], 'winning_alliance': 'red'}),\n",
       " Match({'actual_time': 1680803349, 'alliances': {'blue': {'dq_team_keys': [], 'score': 92, 'surrogate_team_keys': [], 'team_keys': ['frc1310', 'frc2708', 'frc5596']}, 'red': {'dq_team_keys': [], 'score': 122, 'surrogate_team_keys': [], 'team_keys': ['frc2386', 'frc4069', 'frc8729']}}, 'comp_level': 'qm', 'event_key': '2023oncmp2', 'key': '2023oncmp2_qm34', 'match_number': 34, 'post_result_time': 1680803525, 'predicted_time': 1680817825, 'score_breakdown': {'blue': {'activationBonusAchieved': False, 'adjustPoints': 0, 'autoBridgeState': 'NotLevel', 'autoChargeStationPoints': 0, 'autoChargeStationRobot1': 'None', 'autoChargeStationRobot2': 'None', 'autoChargeStationRobot3': 'None', 'autoCommunity': {'B': ['None', 'Cube', 'None', 'None', 'None', 'None', 'None', 'None', 'None'], 'M': ['None', 'None', 'None', 'None', 'None', 'None', 'None', 'None', 'None'], 'T': ['None', 'None', 'None', 'Cone', 'None', 'None', 'None', 'None', 'Cone']}, 'autoDocked': False, 'autoGamePieceCount': 3, 'autoGamePiecePoints': 15, 'autoMobilityPoints': 6, 'autoPoints': 21, 'coopGamePieceCount': 3, 'coopertitionCriteriaMet': True, 'endGameBridgeState': 'NotLevel', 'endGameChargeStationPoints': 12, 'endGameChargeStationRobot1': 'Docked', 'endGameChargeStationRobot2': 'Docked', 'endGameChargeStationRobot3': 'None', 'endGameParkPoints': 0, 'foulCount': 1, 'foulPoints': 5, 'linkPoints': 15, 'links': [{'nodes': [0, 1, 2], 'row': 'Bottom'}, {'nodes': [1, 2, 3], 'row': 'Top'}, {'nodes': [4, 5, 6], 'row': 'Top'}], 'mobilityRobot1': 'Yes', 'mobilityRobot2': 'Yes', 'mobilityRobot3': 'No', 'rp': 0, 'sustainabilityBonusAchieved': False, 'techFoulCount': 0, 'teleopCommunity': {'B': ['Cube', 'Cube', 'Cube', 'None', 'None', 'None', 'Cube', 'None', 'None'], 'M': ['None', 'None', 'None', 'None', 'None', 'None', 'None', 'Cube', 'None'], 'T': ['None', 'Cube', 'Cone', 'Cone', 'Cube', 'Cone', 'Cone', 'Cube', 'Cone']}, 'teleopGamePieceCount': 13, 'teleopGamePiecePoints': 39, 'teleopPoints': 51, 'totalChargeStationPoints': 12, 'totalPoints': 92}, 'red': {'activationBonusAchieved': True, 'adjustPoints': 0, 'autoBridgeState': 'Level', 'autoChargeStationPoints': 0, 'autoChargeStationRobot1': 'None', 'autoChargeStationRobot2': 'None', 'autoChargeStationRobot3': 'None', 'autoCommunity': {'B': ['None', 'None', 'None', 'None', 'None', 'None', 'None', 'None', 'None'], 'M': ['None', 'None', 'None', 'None', 'Cube', 'None', 'None', 'None', 'None'], 'T': ['None', 'Cube', 'None', 'None', 'None', 'None', 'None', 'Cube', 'None']}, 'autoDocked': False, 'autoGamePieceCount': 3, 'autoGamePiecePoints': 16, 'autoMobilityPoints': 6, 'autoPoints': 22, 'coopGamePieceCount': 6, 'coopertitionCriteriaMet': True, 'endGameBridgeState': 'Level', 'endGameChargeStationPoints': 30, 'endGameChargeStationRobot1': 'Docked', 'endGameChargeStationRobot2': 'Docked', 'endGameChargeStationRobot3': 'Docked', 'endGameParkPoints': 0, 'foulCount': 1, 'foulPoints': 5, 'linkPoints': 20, 'links': [{'nodes': [3, 4, 5], 'row': 'Mid'}, {'nodes': [6, 7, 8], 'row': 'Mid'}, {'nodes': [0, 1, 2], 'row': 'Top'}, {'nodes': [3, 4, 5], 'row': 'Top'}], 'mobilityRobot1': 'Yes', 'mobilityRobot2': 'Yes', 'mobilityRobot3': 'No', 'rp': 4, 'sustainabilityBonusAchieved': True, 'techFoulCount': 0, 'teleopCommunity': {'B': ['None', 'None', 'Cone', 'None', 'None', 'None', 'None', 'None', 'None'], 'M': ['Cone', 'None', 'None', 'Cone', 'Cube', 'Cone', 'Cone', 'Cube', 'Cone'], 'T': ['Cone', 'Cube', 'Cone', 'Cone', 'Cube', 'Cone', 'None', 'Cube', 'None']}, 'teleopGamePieceCount': 15, 'teleopGamePiecePoints': 45, 'teleopPoints': 75, 'totalChargeStationPoints': 30, 'totalPoints': 122}}, 'set_number': 1, 'time': 1680816600, 'videos': [{'key': 'wskQu-yolro', 'type': 'youtube'}, {'key': '09x3aTY8tPg', 'type': 'youtube'}], 'winning_alliance': 'red'}),\n",
       " Match({'actual_time': 1680804079, 'alliances': {'blue': {'dq_team_keys': [], 'score': 124, 'surrogate_team_keys': [], 'team_keys': ['frc6864', 'frc1325', 'frc4917']}, 'red': {'dq_team_keys': [], 'score': 129, 'surrogate_team_keys': [], 'team_keys': ['frc4903', 'frc7757', 'frc865']}}, 'comp_level': 'qm', 'event_key': '2023oncmp2', 'key': '2023oncmp2_qm35', 'match_number': 35, 'post_result_time': 1680804251, 'predicted_time': 1680818484, 'score_breakdown': {'blue': {'activationBonusAchieved': True, 'adjustPoints': 0, 'autoBridgeState': 'NotLevel', 'autoChargeStationPoints': 8, 'autoChargeStationRobot1': 'None', 'autoChargeStationRobot2': 'None', 'autoChargeStationRobot3': 'Docked', 'autoCommunity': {'B': ['None', 'None', 'None', 'None', 'None', 'None', 'None', 'None', 'None'], 'M': ['Cone', 'None', 'None', 'None', 'None', 'None', 'None', 'None', 'None'], 'T': ['None', 'None', 'None', 'Cone', 'None', 'None', 'None', 'Cube', 'None']}, 'autoDocked': True, 'autoGamePieceCount': 3, 'autoGamePiecePoints': 16, 'autoMobilityPoints': 9, 'autoPoints': 33, 'coopGamePieceCount': 4, 'coopertitionCriteriaMet': True, 'endGameBridgeState': 'Level', 'endGameChargeStationPoints': 20, 'endGameChargeStationRobot1': 'Docked', 'endGameChargeStationRobot2': 'Docked', 'endGameChargeStationRobot3': 'Park', 'endGameParkPoints': 2, 'foulCount': 1, 'foulPoints': 5, 'linkPoints': 20, 'links': [{'nodes': [0, 1, 2], 'row': 'Mid'}, {'nodes': [6, 7, 8], 'row': 'Mid'}, {'nodes': [2, 3, 4], 'row': 'Top'}, {'nodes': [5, 6, 7], 'row': 'Top'}], 'mobilityRobot1': 'Yes', 'mobilityRobot2': 'Yes', 'mobilityRobot3': 'Yes', 'rp': 2, 'sustainabilityBonusAchieved': True, 'techFoulCount': 0, 'teleopCommunity': {'B': ['None', 'None', 'Cube', 'Cube', 'None', 'None', 'None', 'None', 'None'], 'M': ['Cone', 'Cube', 'Cone', 'None', 'None', 'None', 'Cone', 'Cube', 'Cone'], 'T': ['None', 'None', 'Cone', 'Cone', 'Cube', 'Cone', 'Cone', 'Cube', 'Cone']}, 'teleopGamePieceCount': 15, 'teleopGamePiecePoints': 44, 'teleopPoints': 66, 'totalChargeStationPoints': 28, 'totalPoints': 124}, 'red': {'activationBonusAchieved': True, 'adjustPoints': 0, 'autoBridgeState': 'Level', 'autoChargeStationPoints': 12, 'autoChargeStationRobot1': 'None', 'autoChargeStationRobot2': 'None', 'autoChargeStationRobot3': 'Docked', 'autoCommunity': {'B': ['None', 'None', 'None', 'None', 'None', 'None', 'None', 'None', 'None'], 'M': ['None', 'None', 'None', 'None', 'None', 'None', 'None', 'None', 'None'], 'T': ['None', 'Cube', 'None', 'Cone', 'None', 'None', 'None', 'Cube', 'None']}, 'autoDocked': True, 'autoGamePieceCount': 3, 'autoGamePiecePoints': 18, 'autoMobilityPoints': 9, 'autoPoints': 39, 'coopGamePieceCount': 4, 'coopertitionCriteriaMet': True, 'endGameBridgeState': 'Level', 'endGameChargeStationPoints': 30, 'endGameChargeStationRobot1': 'Docked', 'endGameChargeStationRobot2': 'Docked', 'endGameChargeStationRobot3': 'Docked', 'endGameParkPoints': 0, 'foulCount': 1, 'foulPoints': 5, 'linkPoints': 15, 'links': [{'nodes': [0, 1, 2], 'row': 'Top'}, {'nodes': [3, 4, 5], 'row': 'Top'}, {'nodes': [6, 7, 8], 'row': 'Top'}], 'mobilityRobot1': 'Yes', 'mobilityRobot2': 'Yes', 'mobilityRobot3': 'Yes', 'rp': 3, 'sustainabilityBonusAchieved': False, 'techFoulCount': 0, 'teleopCommunity': {'B': ['None', 'None', 'Cube', 'None', 'Cube', 'None', 'None', 'None', 'None'], 'M': ['None', 'None', 'None', 'None', 'None', 'None', 'Cone', 'None', 'Cone'], 'T': ['Cone', 'Cube', 'Cone', 'Cone', 'Cube', 'Cone', 'Cone', 'Cube', 'Cone']}, 'teleopGamePieceCount': 13, 'teleopGamePiecePoints': 40, 'teleopPoints': 70, 'totalChargeStationPoints': 42, 'totalPoints': 129}}, 'set_number': 1, 'time': 1680817200, 'videos': [{'key': 'ykLcMd-ie7c', 'type': 'youtube'}, {'key': 'A--fKqPT6Dg', 'type': 'youtube'}], 'winning_alliance': 'red'}),\n",
       " Match({'actual_time': 1680804746, 'alliances': {'blue': {'dq_team_keys': [], 'score': 127, 'surrogate_team_keys': [], 'team_keys': ['frc610', 'frc1114', 'frc5036']}, 'red': {'dq_team_keys': [], 'score': 149, 'surrogate_team_keys': [], 'team_keys': ['frc4907', 'frc5024', 'frc6378']}}, 'comp_level': 'qm', 'event_key': '2023oncmp2', 'key': '2023oncmp2_qm36', 'match_number': 36, 'post_result_time': 1680804917, 'predicted_time': 1680819199, 'score_breakdown': {'blue': {'activationBonusAchieved': True, 'adjustPoints': 0, 'autoBridgeState': 'Level', 'autoChargeStationPoints': 12, 'autoChargeStationRobot1': 'Docked', 'autoChargeStationRobot2': 'None', 'autoChargeStationRobot3': 'None', 'autoCommunity': {'B': ['None', 'None', 'None', 'None', 'None', 'None', 'None', 'None', 'None'], 'M': ['None', 'None', 'None', 'None', 'None', 'None', 'None', 'None', 'None'], 'T': ['None', 'None', 'None', 'None', 'Cube', 'None', 'None', 'None', 'Cone']}, 'autoDocked': True, 'autoGamePieceCount': 2, 'autoGamePiecePoints': 12, 'autoMobilityPoints': 9, 'autoPoints': 33, 'coopGamePieceCount': 6, 'coopertitionCriteriaMet': True, 'endGameBridgeState': 'Level', 'endGameChargeStationPoints': 20, 'endGameChargeStationRobot1': 'None', 'endGameChargeStationRobot2': 'Docked', 'endGameChargeStationRobot3': 'Docked', 'endGameParkPoints': 0, 'foulCount': 0, 'foulPoints': 0, 'linkPoints': 20, 'links': [{'nodes': [3, 4, 5], 'row': 'Bottom'}, {'nodes': [0, 1, 2], 'row': 'Top'}, {'nodes': [3, 4, 5], 'row': 'Top'}, {'nodes': [6, 7, 8], 'row': 'Top'}], 'mobilityRobot1': 'Yes', 'mobilityRobot2': 'Yes', 'mobilityRobot3': 'Yes', 'rp': 2, 'sustainabilityBonusAchieved': True, 'techFoulCount': 0, 'teleopCommunity': {'B': ['Cube', 'Cube', 'None', 'Cube', 'Cube', 'Cube', 'None', 'None', 'None'], 'M': ['None', 'Cube', 'None', 'None', 'None', 'None', 'None', 'Cube', 'Cone'], 'T': ['Cone', 'Cube', 'Cone', 'Cone', 'Cube', 'Cone', 'Cone', 'Cube', 'Cone']}, 'teleopGamePieceCount': 17, 'teleopGamePiecePoints': 54, 'teleopPoints': 74, 'totalChargeStationPoints': 32, 'totalPoints': 127}, 'red': {'activationBonusAchieved': True, 'adjustPoints': 0, 'autoBridgeState': 'Level', 'autoChargeStationPoints': 12, 'autoChargeStationRobot1': 'None', 'autoChargeStationRobot2': 'Docked', 'autoChargeStationRobot3': 'None', 'autoCommunity': {'B': ['None', 'None', 'None', 'None', 'None', 'None', 'None', 'None', 'None'], 'M': ['None', 'None', 'None', 'None', 'Cube', 'None', 'None', 'None', 'None'], 'T': ['Cone', 'Cube', 'None', 'None', 'None', 'None', 'None', 'None', 'Cone']}, 'autoDocked': True, 'autoGamePieceCount': 4, 'autoGamePiecePoints': 22, 'autoMobilityPoints': 6, 'autoPoints': 40, 'coopGamePieceCount': 7, 'coopertitionCriteriaMet': True, 'endGameBridgeState': 'Level', 'endGameChargeStationPoints': 20, 'endGameChargeStationRobot1': 'Docked', 'endGameChargeStationRobot2': 'Docked', 'endGameChargeStationRobot3': 'Park', 'endGameParkPoints': 2, 'foulCount': 0, 'foulPoints': 0, 'linkPoints': 30, 'links': [{'nodes': [2, 3, 4], 'row': 'Bottom'}, {'nodes': [0, 1, 2], 'row': 'Mid'}, {'nodes': [3, 4, 5], 'row': 'Mid'}, {'nodes': [6, 7, 8], 'row': 'Mid'}, {'nodes': [0, 1, 2], 'row': 'Top'}, {'nodes': [5, 6, 7], 'row': 'Top'}], 'mobilityRobot1': 'Yes', 'mobilityRobot2': 'No', 'mobilityRobot3': 'Yes', 'rp': 4, 'sustainabilityBonusAchieved': True, 'techFoulCount': 0, 'teleopCommunity': {'B': ['Cube', 'None', 'Cube', 'Cone', 'Cube', 'None', 'None', 'None', 'None'], 'M': ['Cone', 'Cube', 'Cone', 'Cone', 'Cube', 'Cone', 'Cone', 'Cube', 'Cone'], 'T': ['Cone', 'Cube', 'Cone', 'Cone', 'None', 'Cone', 'Cone', 'Cube', 'Cone']}, 'teleopGamePieceCount': 21, 'teleopGamePiecePoints': 57, 'teleopPoints': 79, 'totalChargeStationPoints': 32, 'totalPoints': 149}}, 'set_number': 1, 'time': 1680817800, 'videos': [{'key': 'x0BbCaHdQLI', 'type': 'youtube'}, {'key': 'roQUKmKhbQM', 'type': 'youtube'}], 'winning_alliance': 'red'}),\n",
       " Match({'actual_time': 1680805295, 'alliances': {'blue': {'dq_team_keys': [], 'score': 133, 'surrogate_team_keys': [], 'team_keys': ['frc4343', 'frc2609', 'frc7476']}, 'red': {'dq_team_keys': [], 'score': 98, 'surrogate_team_keys': [], 'team_keys': ['frc4039', 'frc6865', 'frc1285']}}, 'comp_level': 'qm', 'event_key': '2023oncmp2', 'key': '2023oncmp2_qm37', 'match_number': 37, 'post_result_time': 1680805479, 'predicted_time': 1680819583, 'score_breakdown': {'blue': {'activationBonusAchieved': True, 'adjustPoints': 0, 'autoBridgeState': 'Level', 'autoChargeStationPoints': 12, 'autoChargeStationRobot1': 'Docked', 'autoChargeStationRobot2': 'None', 'autoChargeStationRobot3': 'None', 'autoCommunity': {'B': ['None', 'None', 'None', 'None', 'None', 'None', 'None', 'None', 'None'], 'M': ['None', 'None', 'None', 'None', 'None', 'None', 'None', 'None', 'None'], 'T': ['Cone', 'None', 'None', 'None', 'None', 'Cone', 'None', 'Cube', 'None']}, 'autoDocked': True, 'autoGamePieceCount': 3, 'autoGamePiecePoints': 18, 'autoMobilityPoints': 3, 'autoPoints': 33, 'coopGamePieceCount': 3, 'coopertitionCriteriaMet': True, 'endGameBridgeState': 'Level', 'endGameChargeStationPoints': 20, 'endGameChargeStationRobot1': 'Park', 'endGameChargeStationRobot2': 'Docked', 'endGameChargeStationRobot3': 'Docked', 'endGameParkPoints': 2, 'foulCount': 0, 'foulPoints': 15, 'linkPoints': 20, 'links': [{'nodes': [6, 7, 8], 'row': 'Bottom'}, {'nodes': [0, 1, 2], 'row': 'Top'}, {'nodes': [3, 4, 5], 'row': 'Top'}, {'nodes': [6, 7, 8], 'row': 'Top'}], 'mobilityRobot1': 'No', 'mobilityRobot2': 'No', 'mobilityRobot3': 'Yes', 'rp': 4, 'sustainabilityBonusAchieved': True, 'techFoulCount': 0, 'teleopCommunity': {'B': ['Cone', 'Cube', 'None', 'None', 'None', 'None', 'Cone', 'Cone', 'Cube'], 'M': ['None', 'None', 'None', 'None', 'None', 'None', 'None', 'None', 'Cone'], 'T': ['Cone', 'Cube', 'Cone', 'Cone', 'Cube', 'Cone', 'Cone', 'Cube', 'Cone']}, 'teleopGamePieceCount': 15, 'teleopGamePiecePoints': 43, 'teleopPoints': 65, 'totalChargeStationPoints': 32, 'totalPoints': 133}, 'red': {'activationBonusAchieved': False, 'adjustPoints': 0, 'autoBridgeState': 'Level', 'autoChargeStationPoints': 12, 'autoChargeStationRobot1': 'Docked', 'autoChargeStationRobot2': 'None', 'autoChargeStationRobot3': 'None', 'autoCommunity': {'B': ['None', 'None', 'None', 'None', 'None', 'None', 'None', 'None', 'None'], 'M': ['None', 'None', 'None', 'None', 'None', 'None', 'None', 'None', 'None'], 'T': ['Cone', 'Cube', 'None', 'None', 'None', 'Cone', 'None', 'Cube', 'None']}, 'autoDocked': True, 'autoGamePieceCount': 4, 'autoGamePiecePoints': 24, 'autoMobilityPoints': 6, 'autoPoints': 42, 'coopGamePieceCount': 5, 'coopertitionCriteriaMet': True, 'endGameBridgeState': 'NotLevel', 'endGameChargeStationPoints': 6, 'endGameChargeStationRobot1': 'None', 'endGameChargeStationRobot2': 'Park', 'endGameChargeStationRobot3': 'Docked', 'endGameParkPoints': 2, 'foulCount': 3, 'foulPoints': 0, 'linkPoints': 15, 'links': [{'nodes': [0, 1, 2], 'row': 'Top'}, {'nodes': [3, 4, 5], 'row': 'Top'}, {'nodes': [6, 7, 8], 'row': 'Top'}], 'mobilityRobot1': 'Yes', 'mobilityRobot2': 'No', 'mobilityRobot3': 'Yes', 'rp': 0, 'sustainabilityBonusAchieved': False, 'techFoulCount': 0, 'teleopCommunity': {'B': ['None', 'Cube', 'None', 'Cube', 'Cube', 'None', 'Cone', 'None', 'None'], 'M': ['None', 'None', 'None', 'None', 'None', 'None', 'None', 'None', 'None'], 'T': ['Cone', 'Cube', 'Cone', 'Cone', 'Cube', 'Cone', 'Cone', 'Cube', 'Cone']}, 'teleopGamePieceCount': 13, 'teleopGamePiecePoints': 33, 'teleopPoints': 41, 'totalChargeStationPoints': 18, 'totalPoints': 98}}, 'set_number': 1, 'time': 1680818400, 'videos': [{'key': 'truBa1oKPc0', 'type': 'youtube'}, {'key': 'H48nTcKsEjM', 'type': 'youtube'}], 'winning_alliance': 'blue'}),\n",
       " Match({'actual_time': 1680805854, 'alliances': {'blue': {'dq_team_keys': [], 'score': 96, 'surrogate_team_keys': [], 'team_keys': ['frc1334', 'frc7690', 'frc6987']}, 'red': {'dq_team_keys': [], 'score': 137, 'surrogate_team_keys': [], 'team_keys': ['frc4688', 'frc5885', 'frc2013']}}, 'comp_level': 'qm', 'event_key': '2023oncmp2', 'key': '2023oncmp2_qm38', 'match_number': 38, 'post_result_time': 1680806043, 'predicted_time': 1680820182, 'score_breakdown': {'blue': {'activationBonusAchieved': True, 'adjustPoints': 0, 'autoBridgeState': 'Level', 'autoChargeStationPoints': 12, 'autoChargeStationRobot1': 'Docked', 'autoChargeStationRobot2': 'None', 'autoChargeStationRobot3': 'None', 'autoCommunity': {'B': ['None', 'None', 'None', 'None', 'None', 'None', 'None', 'None', 'None'], 'M': ['None', 'None', 'None', 'None', 'None', 'Cone', 'None', 'None', 'None'], 'T': ['None', 'None', 'None', 'None', 'None', 'None', 'None', 'None', 'Cone']}, 'autoDocked': True, 'autoGamePieceCount': 2, 'autoGamePiecePoints': 10, 'autoMobilityPoints': 6, 'autoPoints': 28, 'coopGamePieceCount': 6, 'coopertitionCriteriaMet': True, 'endGameBridgeState': 'Level', 'endGameChargeStationPoints': 20, 'endGameChargeStationRobot1': 'Docked', 'endGameChargeStationRobot2': 'Docked', 'endGameChargeStationRobot3': 'Park', 'endGameParkPoints': 2, 'foulCount': 1, 'foulPoints': 0, 'linkPoints': 10, 'links': [{'nodes': [3, 4, 5], 'row': 'Top'}, {'nodes': [6, 7, 8], 'row': 'Top'}], 'mobilityRobot1': 'No', 'mobilityRobot2': 'Yes', 'mobilityRobot3': 'Yes', 'rp': 1, 'sustainabilityBonusAchieved': False, 'techFoulCount': 0, 'teleopCommunity': {'B': ['None', 'Cone', 'Cube', 'None', 'None', 'Cube', 'Cube', 'None', 'None'], 'M': ['None', 'None', 'None', 'None', 'Cube', 'Cone', 'None', 'None', 'None'], 'T': ['None', 'None', 'None', 'Cone', 'Cube', 'Cone', 'Cone', 'Cube', 'Cone']}, 'teleopGamePieceCount': 12, 'teleopGamePiecePoints': 36, 'teleopPoints': 58, 'totalChargeStationPoints': 32, 'totalPoints': 96}, 'red': {'activationBonusAchieved': True, 'adjustPoints': 0, 'autoBridgeState': 'Level', 'autoChargeStationPoints': 12, 'autoChargeStationRobot1': 'None', 'autoChargeStationRobot2': 'None', 'autoChargeStationRobot3': 'Docked', 'autoCommunity': {'B': ['None', 'None', 'None', 'None', 'None', 'None', 'None', 'None', 'None'], 'M': ['None', 'None', 'None', 'None', 'None', 'None', 'None', 'None', 'None'], 'T': ['None', 'Cube', 'None', 'Cone', 'None', 'None', 'None', 'None', 'Cone']}, 'autoDocked': True, 'autoGamePieceCount': 3, 'autoGamePiecePoints': 18, 'autoMobilityPoints': 9, 'autoPoints': 39, 'coopGamePieceCount': 4, 'coopertitionCriteriaMet': True, 'endGameBridgeState': 'Level', 'endGameChargeStationPoints': 30, 'endGameChargeStationRobot1': 'Docked', 'endGameChargeStationRobot2': 'Docked', 'endGameChargeStationRobot3': 'Docked', 'endGameParkPoints': 0, 'foulCount': 0, 'foulPoints': 5, 'linkPoints': 15, 'links': [{'nodes': [0, 1, 2], 'row': 'Top'}, {'nodes': [3, 4, 5], 'row': 'Top'}, {'nodes': [6, 7, 8], 'row': 'Top'}], 'mobilityRobot1': 'Yes', 'mobilityRobot2': 'Yes', 'mobilityRobot3': 'Yes', 'rp': 3, 'sustainabilityBonusAchieved': False, 'techFoulCount': 0, 'teleopCommunity': {'B': ['Cube', 'Cone', 'None', 'None', 'None', 'None', 'Cone', 'None', 'None'], 'M': ['Cone', 'None', 'None', 'None', 'None', 'Cone', 'None', 'Cube', 'Cone'], 'T': ['Cone', 'Cube', 'Cone', 'Cone', 'Cube', 'Cone', 'Cone', 'Cube', 'Cone']}, 'teleopGamePieceCount': 16, 'teleopGamePiecePoints': 48, 'teleopPoints': 78, 'totalChargeStationPoints': 42, 'totalPoints': 137}}, 'set_number': 1, 'time': 1680819000, 'videos': [{'key': 'j-zXEmQbAHs', 'type': 'youtube'}, {'key': 'IqMJvNYTfC8', 'type': 'youtube'}], 'winning_alliance': 'red'}),\n",
       " Match({'actual_time': 1680860879, 'alliances': {'blue': {'dq_team_keys': [], 'score': 139, 'surrogate_team_keys': [], 'team_keys': ['frc2706', 'frc4920', 'frc3739']}, 'red': {'dq_team_keys': [], 'score': 67, 'surrogate_team_keys': [], 'team_keys': ['frc6854', 'frc9263', 'frc2386']}}, 'comp_level': 'qm', 'event_key': '2023oncmp2', 'key': '2023oncmp2_qm39', 'match_number': 39, 'post_result_time': 1680861052, 'predicted_time': 1680875325, 'score_breakdown': {'blue': {'activationBonusAchieved': False, 'adjustPoints': 0, 'autoBridgeState': 'Level', 'autoChargeStationPoints': 12, 'autoChargeStationRobot1': 'Docked', 'autoChargeStationRobot2': 'None', 'autoChargeStationRobot3': 'None', 'autoCommunity': {'B': ['None', 'None', 'None', 'None', 'None', 'None', 'None', 'None', 'None'], 'M': ['None', 'None', 'None', 'None', 'None', 'None', 'None', 'Cube', 'None'], 'T': ['Cone', 'None', 'None', 'None', 'Cube', 'None', 'None', 'None', 'None']}, 'autoDocked': True, 'autoGamePieceCount': 3, 'autoGamePiecePoints': 16, 'autoMobilityPoints': 9, 'autoPoints': 37, 'coopGamePieceCount': 7, 'coopertitionCriteriaMet': True, 'endGameBridgeState': 'NotLevel', 'endGameChargeStationPoints': 12, 'endGameChargeStationRobot1': 'Docked', 'endGameChargeStationRobot2': 'Park', 'endGameChargeStationRobot3': 'Docked', 'endGameParkPoints': 2, 'foulCount': 0, 'foulPoints': 5, 'linkPoints': 25, 'links': [{'nodes': [2, 3, 4], 'row': 'Mid'}, {'nodes': [5, 6, 7], 'row': 'Mid'}, {'nodes': [0, 1, 2], 'row': 'Top'}, {'nodes': [3, 4, 5], 'row': 'Top'}, {'nodes': [6, 7, 8], 'row': 'Top'}], 'mobilityRobot1': 'Yes', 'mobilityRobot2': 'Yes', 'mobilityRobot3': 'Yes', 'rp': 3, 'sustainabilityBonusAchieved': True, 'techFoulCount': 0, 'teleopCommunity': {'B': ['None', 'None', 'None', 'Cone', 'None', 'None', 'None', 'None', 'None'], 'M': ['Cone', 'None', 'Cone', 'Cone', 'Cube', 'Cone', 'Cone', 'Cube', 'Cone'], 'T': ['Cone', 'Cube', 'Cone', 'Cone', 'Cube', 'Cone', 'Cone', 'Cube', 'Cone']}, 'teleopGamePieceCount': 18, 'teleopGamePiecePoints': 58, 'teleopPoints': 72, 'totalChargeStationPoints': 24, 'totalPoints': 139}, 'red': {'activationBonusAchieved': True, 'adjustPoints': 0, 'autoBridgeState': 'Level', 'autoChargeStationPoints': 12, 'autoChargeStationRobot1': 'None', 'autoChargeStationRobot2': 'None', 'autoChargeStationRobot3': 'Docked', 'autoCommunity': {'B': ['None', 'None', 'None', 'None', 'None', 'None', 'None', 'None', 'Cone'], 'M': ['None', 'None', 'None', 'None', 'Cube', 'None', 'None', 'None', 'None'], 'T': ['None', 'Cube', 'None', 'None', 'None', 'None', 'None', 'None', 'None']}, 'autoDocked': True, 'autoGamePieceCount': 3, 'autoGamePiecePoints': 13, 'autoMobilityPoints': 3, 'autoPoints': 28, 'coopGamePieceCount': 4, 'coopertitionCriteriaMet': True, 'endGameBridgeState': 'Level', 'endGameChargeStationPoints': 20, 'endGameChargeStationRobot1': 'Docked', 'endGameChargeStationRobot2': 'Park', 'endGameChargeStationRobot3': 'Docked', 'endGameParkPoints': 2, 'foulCount': 1, 'foulPoints': 0, 'linkPoints': 0, 'links': [], 'mobilityRobot1': 'Yes', 'mobilityRobot2': 'No', 'mobilityRobot3': 'No', 'rp': 1, 'sustainabilityBonusAchieved': False, 'techFoulCount': 0, 'teleopCommunity': {'B': ['None', 'Cube', 'None', 'Cone', 'Cube', 'None', 'None', 'Cube', 'Cone'], 'M': ['None', 'Cube', 'None', 'None', 'Cube', 'Cone', 'None', 'Cube', 'None'], 'T': ['None', 'Cube', 'None', 'None', 'None', 'None', 'None', 'None', 'None']}, 'teleopGamePieceCount': 10, 'teleopGamePiecePoints': 17, 'teleopPoints': 39, 'totalChargeStationPoints': 32, 'totalPoints': 67}}, 'set_number': 1, 'time': 1680874200, 'videos': [{'key': 'sh4NVuZnMJ4', 'type': 'youtube'}, {'key': '801c_6s2kMU', 'type': 'youtube'}], 'winning_alliance': 'blue'}),\n",
       " Match({'actual_time': 1680781424, 'alliances': {'blue': {'dq_team_keys': [], 'score': 131, 'surrogate_team_keys': [], 'team_keys': ['frc2708', 'frc865', 'frc4039']}, 'red': {'dq_team_keys': [], 'score': 104, 'surrogate_team_keys': [], 'team_keys': ['frc1114', 'frc4907', 'frc7722']}}, 'comp_level': 'qm', 'event_key': '2023oncmp2', 'key': '2023oncmp2_qm4', 'match_number': 4, 'post_result_time': 1680781714, 'predicted_time': 1680795961, 'score_breakdown': {'blue': {'activationBonusAchieved': True, 'adjustPoints': 0, 'autoBridgeState': 'Level', 'autoChargeStationPoints': 12, 'autoChargeStationRobot1': 'None', 'autoChargeStationRobot2': 'None', 'autoChargeStationRobot3': 'Docked', 'autoCommunity': {'B': ['None', 'None', 'None', 'None', 'None', 'None', 'None', 'Cube', 'None'], 'M': ['None', 'None', 'None', 'None', 'None', 'None', 'None', 'None', 'None'], 'T': ['Cone', 'None', 'None', 'None', 'Cube', 'Cone', 'None', 'None', 'None']}, 'autoDocked': True, 'autoGamePieceCount': 4, 'autoGamePiecePoints': 21, 'autoMobilityPoints': 6, 'autoPoints': 39, 'coopGamePieceCount': 6, 'coopertitionCriteriaMet': True, 'endGameBridgeState': 'Level', 'endGameChargeStationPoints': 20, 'endGameChargeStationRobot1': 'Docked', 'endGameChargeStationRobot2': 'Docked', 'endGameChargeStationRobot3': 'Park', 'endGameParkPoints': 2, 'foulCount': 0, 'foulPoints': 0, 'linkPoints': 25, 'links': [{'nodes': [2, 3, 4], 'row': 'Bottom'}, {'nodes': [6, 7, 8], 'row': 'Bottom'}, {'nodes': [0, 1, 2], 'row': 'Top'}, {'nodes': [3, 4, 5], 'row': 'Top'}, {'nodes': [6, 7, 8], 'row': 'Top'}], 'mobilityRobot1': 'Yes', 'mobilityRobot2': 'No', 'mobilityRobot3': 'Yes', 'rp': 4, 'sustainabilityBonusAchieved': True, 'techFoulCount': 0, 'teleopCommunity': {'B': ['Cone', 'None', 'Cube', 'Cone', 'Cube', 'None', 'Cube', 'Cube', 'Cube'], 'M': ['None', 'None', 'None', 'Cone', 'None', 'None', 'None', 'None', 'None'], 'T': ['Cone', 'Cube', 'Cone', 'Cone', 'Cube', 'Cone', 'Cone', 'Cube', 'Cone']}, 'teleopGamePieceCount': 17, 'teleopGamePiecePoints': 45, 'teleopPoints': 67, 'totalChargeStationPoints': 32, 'totalPoints': 131}, 'red': {'activationBonusAchieved': True, 'adjustPoints': 0, 'autoBridgeState': 'Level', 'autoChargeStationPoints': 12, 'autoChargeStationRobot1': 'None', 'autoChargeStationRobot2': 'None', 'autoChargeStationRobot3': 'Docked', 'autoCommunity': {'B': ['None', 'Cube', 'None', 'None', 'None', 'None', 'None', 'None', 'None'], 'M': ['None', 'None', 'None', 'None', 'None', 'None', 'None', 'None', 'None'], 'T': ['Cone', 'None', 'None', 'None', 'None', 'None', 'None', 'None', 'None']}, 'autoDocked': True, 'autoGamePieceCount': 2, 'autoGamePiecePoints': 9, 'autoMobilityPoints': 9, 'autoPoints': 30, 'coopGamePieceCount': 6, 'coopertitionCriteriaMet': True, 'endGameBridgeState': 'Level', 'endGameChargeStationPoints': 20, 'endGameChargeStationRobot1': 'Park', 'endGameChargeStationRobot2': 'Docked', 'endGameChargeStationRobot3': 'Docked', 'endGameParkPoints': 2, 'foulCount': 0, 'foulPoints': 0, 'linkPoints': 15, 'links': [{'nodes': [0, 1, 2], 'row': 'Bottom'}, {'nodes': [0, 1, 2], 'row': 'Top'}, {'nodes': [3, 4, 5], 'row': 'Top'}], 'mobilityRobot1': 'Yes', 'mobilityRobot2': 'Yes', 'mobilityRobot3': 'Yes', 'rp': 1, 'sustainabilityBonusAchieved': False, 'techFoulCount': 0, 'teleopCommunity': {'B': ['Cube', 'Cube', 'Cone', 'Cone', 'None', 'None', 'None', 'None', 'None'], 'M': ['None', 'None', 'None', 'Cone', 'None', 'Cone', 'None', 'None', 'None'], 'T': ['Cone', 'Cube', 'Cone', 'Cone', 'Cube', 'Cone', 'None', 'None', 'None']}, 'teleopGamePieceCount': 12, 'teleopGamePiecePoints': 37, 'teleopPoints': 59, 'totalChargeStationPoints': 32, 'totalPoints': 104}}, 'set_number': 1, 'time': 1680795000, 'videos': [{'key': '9bgBCGRmhS0', 'type': 'youtube'}, {'key': 'mSjcOH-osG0', 'type': 'youtube'}], 'winning_alliance': 'blue'}),\n",
       " Match({'actual_time': 1680861876, 'alliances': {'blue': {'dq_team_keys': [], 'score': 114, 'surrogate_team_keys': [], 'team_keys': ['frc8764', 'frc4946', 'frc5870']}, 'red': {'dq_team_keys': [], 'score': 149, 'surrogate_team_keys': [], 'team_keys': ['frc4678', 'frc7722', 'frc2708']}}, 'comp_level': 'qm', 'event_key': '2023oncmp2', 'key': '2023oncmp2_qm40', 'match_number': 40, 'post_result_time': 1680862070, 'predicted_time': 1680876384, 'score_breakdown': {'blue': {'activationBonusAchieved': False, 'adjustPoints': 0, 'autoBridgeState': 'Level', 'autoChargeStationPoints': 12, 'autoChargeStationRobot1': 'None', 'autoChargeStationRobot2': 'None', 'autoChargeStationRobot3': 'Docked', 'autoCommunity': {'B': ['None', 'None', 'None', 'None', 'None', 'None', 'None', 'None', 'None'], 'M': ['None', 'Cube', 'None', 'None', 'Cube', 'None', 'None', 'None', 'None'], 'T': ['None', 'Cube', 'None', 'None', 'None', 'None', 'None', 'Cube', 'None']}, 'autoDocked': True, 'autoGamePieceCount': 4, 'autoGamePiecePoints': 20, 'autoMobilityPoints': 9, 'autoPoints': 41, 'coopGamePieceCount': 6, 'coopertitionCriteriaMet': True, 'endGameBridgeState': 'NotLevel', 'endGameChargeStationPoints': 6, 'endGameChargeStationRobot1': 'Park', 'endGameChargeStationRobot2': 'Docked', 'endGameChargeStationRobot3': 'Park', 'endGameParkPoints': 4, 'foulCount': 7, 'foulPoints': 0, 'linkPoints': 20, 'links': [{'nodes': [3, 4, 5], 'row': 'Mid'}, {'nodes': [0, 1, 2], 'row': 'Top'}, {'nodes': [3, 4, 5], 'row': 'Top'}, {'nodes': [6, 7, 8], 'row': 'Top'}], 'mobilityRobot1': 'Yes', 'mobilityRobot2': 'Yes', 'mobilityRobot3': 'Yes', 'rp': 1, 'sustainabilityBonusAchieved': True, 'techFoulCount': 0, 'teleopCommunity': {'B': ['Cone', 'None', 'None', 'None', 'None', 'None', 'None', 'None', 'None'], 'M': ['None', 'Cube', 'None', 'Cone', 'Cube', 'Cone', 'None', 'None', 'None'], 'T': ['Cone', 'Cube', 'Cone', 'Cone', 'Cube', 'Cone', 'Cone', 'Cube', 'Cone']}, 'teleopGamePieceCount': 14, 'teleopGamePiecePoints': 43, 'teleopPoints': 53, 'totalChargeStationPoints': 18, 'totalPoints': 114}, 'red': {'activationBonusAchieved': True, 'adjustPoints': 0, 'autoBridgeState': 'Level', 'autoChargeStationPoints': 12, 'autoChargeStationRobot1': 'None', 'autoChargeStationRobot2': 'Docked', 'autoChargeStationRobot3': 'None', 'autoCommunity': {'B': ['None', 'None', 'None', 'None', 'None', 'None', 'None', 'None', 'None'], 'M': ['None', 'Cube', 'None', 'None', 'Cube', 'None', 'None', 'None', 'None'], 'T': ['None', 'None', 'None', 'None', 'None', 'None', 'None', 'None', 'Cone']}, 'autoDocked': True, 'autoGamePieceCount': 3, 'autoGamePiecePoints': 14, 'autoMobilityPoints': 9, 'autoPoints': 35, 'coopGamePieceCount': 5, 'coopertitionCriteriaMet': True, 'endGameBridgeState': 'Level', 'endGameChargeStationPoints': 20, 'endGameChargeStationRobot1': 'Docked', 'endGameChargeStationRobot2': 'None', 'endGameChargeStationRobot3': 'Docked', 'endGameParkPoints': 0, 'foulCount': 0, 'foulPoints': 35, 'linkPoints': 15, 'links': [{'nodes': [0, 1, 2], 'row': 'Top'}, {'nodes': [3, 4, 5], 'row': 'Top'}, {'nodes': [6, 7, 8], 'row': 'Top'}], 'mobilityRobot1': 'Yes', 'mobilityRobot2': 'Yes', 'mobilityRobot3': 'Yes', 'rp': 3, 'sustainabilityBonusAchieved': False, 'techFoulCount': 0, 'teleopCommunity': {'B': ['None', 'None', 'Cube', 'None', 'Cone', 'None', 'None', 'None', 'None'], 'M': ['None', 'Cube', 'None', 'None', 'Cube', 'None', 'None', 'None', 'None'], 'T': ['Cone', 'Cube', 'Cone', 'Cone', 'Cube', 'Cone', 'Cone', 'Cube', 'Cone']}, 'teleopGamePieceCount': 13, 'teleopGamePiecePoints': 44, 'teleopPoints': 64, 'totalChargeStationPoints': 32, 'totalPoints': 149}}, 'set_number': 1, 'time': 1680874800, 'videos': [{'key': 'UgeKeDp-oPY', 'type': 'youtube'}, {'key': 'zwPhrl7IeJE', 'type': 'youtube'}], 'winning_alliance': 'red'}),\n",
       " Match({'actual_time': 1680862698, 'alliances': {'blue': {'dq_team_keys': [], 'score': 170, 'surrogate_team_keys': [], 'team_keys': ['frc1310', 'frc1114', 'frc5024']}, 'red': {'dq_team_keys': [], 'score': 140, 'surrogate_team_keys': [], 'team_keys': ['frc5596', 'frc4903', 'frc1325']}}, 'comp_level': 'qm', 'event_key': '2023oncmp2', 'key': '2023oncmp2_qm41', 'match_number': 41, 'post_result_time': 1680862878, 'predicted_time': 1680877053, 'score_breakdown': {'blue': {'activationBonusAchieved': True, 'adjustPoints': 0, 'autoBridgeState': 'Level', 'autoChargeStationPoints': 12, 'autoChargeStationRobot1': 'None', 'autoChargeStationRobot2': 'None', 'autoChargeStationRobot3': 'Docked', 'autoCommunity': {'B': ['None', 'None', 'None', 'None', 'None', 'None', 'None', 'None', 'None'], 'M': ['None', 'None', 'None', 'None', 'Cube', 'None', 'None', 'Cube', 'None'], 'T': ['Cone', 'None', 'None', 'None', 'None', 'None', 'None', 'Cube', 'Cone']}, 'autoDocked': True, 'autoGamePieceCount': 5, 'autoGamePiecePoints': 26, 'autoMobilityPoints': 9, 'autoPoints': 47, 'coopGamePieceCount': 6, 'coopertitionCriteriaMet': True, 'endGameBridgeState': 'Level', 'endGameChargeStationPoints': 20, 'endGameChargeStationRobot1': 'Docked', 'endGameChargeStationRobot2': 'Park', 'endGameChargeStationRobot3': 'Docked', 'endGameParkPoints': 2, 'foulCount': 0, 'foulPoints': 5, 'linkPoints': 35, 'links': [{'nodes': [0, 1, 2], 'row': 'Bottom'}, {'nodes': [0, 1, 2], 'row': 'Mid'}, {'nodes': [3, 4, 5], 'row': 'Mid'}, {'nodes': [6, 7, 8], 'row': 'Mid'}, {'nodes': [0, 1, 2], 'row': 'Top'}, {'nodes': [3, 4, 5], 'row': 'Top'}, {'nodes': [6, 7, 8], 'row': 'Top'}], 'mobilityRobot1': 'Yes', 'mobilityRobot2': 'Yes', 'mobilityRobot3': 'Yes', 'rp': 4, 'sustainabilityBonusAchieved': True, 'techFoulCount': 0, 'teleopCommunity': {'B': ['Cube', 'Cube', 'Cube', 'None', 'None', 'None', 'Cube', 'None', 'Cone'], 'M': ['Cone', 'Cube', 'Cone', 'Cone', 'Cube', 'Cone', 'Cone', 'Cube', 'Cone'], 'T': ['Cone', 'Cube', 'Cone', 'Cone', 'Cube', 'Cone', 'Cone', 'Cube', 'Cone']}, 'teleopGamePieceCount': 23, 'teleopGamePiecePoints': 61, 'teleopPoints': 83, 'totalChargeStationPoints': 32, 'totalPoints': 170}, 'red': {'activationBonusAchieved': True, 'adjustPoints': 0, 'autoBridgeState': 'Level', 'autoChargeStationPoints': 12, 'autoChargeStationRobot1': 'None', 'autoChargeStationRobot2': 'Docked', 'autoChargeStationRobot3': 'None', 'autoCommunity': {'B': ['None', 'None', 'None', 'Cone', 'None', 'None', 'None', 'Cube', 'None'], 'M': ['None', 'None', 'None', 'None', 'None', 'None', 'None', 'None', 'None'], 'T': ['None', 'Cube', 'None', 'None', 'Cube', 'None', 'None', 'None', 'None']}, 'autoDocked': True, 'autoGamePieceCount': 4, 'autoGamePiecePoints': 18, 'autoMobilityPoints': 6, 'autoPoints': 36, 'coopGamePieceCount': 7, 'coopertitionCriteriaMet': True, 'endGameBridgeState': 'Level', 'endGameChargeStationPoints': 20, 'endGameChargeStationRobot1': 'Docked', 'endGameChargeStationRobot2': 'None', 'endGameChargeStationRobot3': 'Docked', 'endGameParkPoints': 0, 'foulCount': 1, 'foulPoints': 0, 'linkPoints': 25, 'links': [{'nodes': [0, 1, 2], 'row': 'Mid'}, {'nodes': [3, 4, 5], 'row': 'Mid'}, {'nodes': [0, 1, 2], 'row': 'Top'}, {'nodes': [3, 4, 5], 'row': 'Top'}, {'nodes': [6, 7, 8], 'row': 'Top'}], 'mobilityRobot1': 'Yes', 'mobilityRobot2': 'No', 'mobilityRobot3': 'Yes', 'rp': 2, 'sustainabilityBonusAchieved': True, 'techFoulCount': 0, 'teleopCommunity': {'B': ['None', 'None', 'None', 'Cone', 'None', 'None', 'None', 'Cube', 'None'], 'M': ['Cone', 'Cube', 'Cone', 'Cone', 'Cube', 'Cone', 'Cone', 'None', 'Cone'], 'T': ['Cone', 'Cube', 'Cone', 'Cone', 'Cube', 'Cone', 'Cone', 'Cube', 'Cone']}, 'teleopGamePieceCount': 19, 'teleopGamePiecePoints': 59, 'teleopPoints': 79, 'totalChargeStationPoints': 32, 'totalPoints': 140}}, 'set_number': 1, 'time': 1680875400, 'videos': [{'key': 'NCvFnfhjsww', 'type': 'youtube'}, {'key': 'QMu6znDtxxM', 'type': 'youtube'}], 'winning_alliance': 'blue'}),\n",
       " Match({'actual_time': 1680863386, 'alliances': {'blue': {'dq_team_keys': [], 'score': 113, 'surrogate_team_keys': [], 'team_keys': ['frc4688', 'frc5036', 'frc7476']}, 'red': {'dq_team_keys': [], 'score': 122, 'surrogate_team_keys': [], 'team_keys': ['frc4343', 'frc2013', 'frc7757']}}, 'comp_level': 'qm', 'event_key': '2023oncmp2', 'key': '2023oncmp2_qm42', 'match_number': 42, 'post_result_time': 1680863559, 'predicted_time': 1680877779, 'score_breakdown': {'blue': {'activationBonusAchieved': True, 'adjustPoints': 0, 'autoBridgeState': 'Level', 'autoChargeStationPoints': 12, 'autoChargeStationRobot1': 'None', 'autoChargeStationRobot2': 'Docked', 'autoChargeStationRobot3': 'None', 'autoCommunity': {'B': ['None', 'None', 'None', 'None', 'None', 'None', 'None', 'None', 'None'], 'M': ['None', 'None', 'None', 'None', 'None', 'None', 'None', 'None', 'None'], 'T': ['Cone', 'None', 'None', 'None', 'Cube', 'None', 'None', 'None', 'None']}, 'autoDocked': True, 'autoGamePieceCount': 2, 'autoGamePiecePoints': 12, 'autoMobilityPoints': 3, 'autoPoints': 27, 'coopGamePieceCount': 3, 'coopertitionCriteriaMet': True, 'endGameBridgeState': 'Level', 'endGameChargeStationPoints': 30, 'endGameChargeStationRobot1': 'Docked', 'endGameChargeStationRobot2': 'Docked', 'endGameChargeStationRobot3': 'Docked', 'endGameParkPoints': 0, 'foulCount': 0, 'foulPoints': 0, 'linkPoints': 15, 'links': [{'nodes': [0, 1, 2], 'row': 'Top'}, {'nodes': [3, 4, 5], 'row': 'Top'}, {'nodes': [6, 7, 8], 'row': 'Top'}], 'mobilityRobot1': 'Yes', 'mobilityRobot2': 'No', 'mobilityRobot3': 'No', 'rp': 1, 'sustainabilityBonusAchieved': False, 'techFoulCount': 0, 'teleopCommunity': {'B': ['None', 'None', 'None', 'None', 'None', 'None', 'None', 'None', 'None'], 'M': ['None', 'None', 'None', 'None', 'None', 'None', 'None', 'Cube', 'Cone'], 'T': ['Cone', 'Cube', 'Cone', 'Cone', 'Cube', 'Cone', 'Cone', 'Cube', 'Cone']}, 'teleopGamePieceCount': 11, 'teleopGamePiecePoints': 41, 'teleopPoints': 71, 'totalChargeStationPoints': 42, 'totalPoints': 113}, 'red': {'activationBonusAchieved': True, 'adjustPoints': 0, 'autoBridgeState': 'Level', 'autoChargeStationPoints': 12, 'autoChargeStationRobot1': 'None', 'autoChargeStationRobot2': 'Docked', 'autoChargeStationRobot3': 'None', 'autoCommunity': {'B': ['None', 'None', 'None', 'None', 'None', 'None', 'None', 'None', 'None'], 'M': ['None', 'None', 'None', 'None', 'None', 'None', 'None', 'None', 'None'], 'T': ['None', 'Cube', 'None', 'Cone', 'None', 'None', 'None', 'None', 'Cone']}, 'autoDocked': True, 'autoGamePieceCount': 3, 'autoGamePiecePoints': 18, 'autoMobilityPoints': 9, 'autoPoints': 39, 'coopGamePieceCount': 5, 'coopertitionCriteriaMet': True, 'endGameBridgeState': 'Level', 'endGameChargeStationPoints': 20, 'endGameChargeStationRobot1': 'Docked', 'endGameChargeStationRobot2': 'None', 'endGameChargeStationRobot3': 'Docked', 'endGameParkPoints': 0, 'foulCount': 0, 'foulPoints': 0, 'linkPoints': 20, 'links': [{'nodes': [4, 5, 6], 'row': 'Bottom'}, {'nodes': [0, 1, 2], 'row': 'Top'}, {'nodes': [3, 4, 5], 'row': 'Top'}, {'nodes': [6, 7, 8], 'row': 'Top'}], 'mobilityRobot1': 'Yes', 'mobilityRobot2': 'Yes', 'mobilityRobot3': 'Yes', 'rp': 4, 'sustainabilityBonusAchieved': True, 'techFoulCount': 0, 'teleopCommunity': {'B': ['None', 'None', 'None', 'None', 'Cone', 'Cone', 'Cone', 'Cone', 'Cone'], 'M': ['None', 'None', 'None', 'None', 'None', 'None', 'None', 'Cube', 'None'], 'T': ['Cone', 'Cube', 'Cone', 'Cone', 'Cube', 'Cone', 'Cone', 'Cube', 'Cone']}, 'teleopGamePieceCount': 15, 'teleopGamePiecePoints': 43, 'teleopPoints': 63, 'totalChargeStationPoints': 32, 'totalPoints': 122}}, 'set_number': 1, 'time': 1680876000, 'videos': [{'key': 'mcJXVWetoSo', 'type': 'youtube'}, {'key': 'UIdFhx1Wt-A', 'type': 'youtube'}], 'winning_alliance': 'red'}),\n",
       " Match({'actual_time': 1680864238, 'alliances': {'blue': {'dq_team_keys': [], 'score': 115, 'surrogate_team_keys': [], 'team_keys': ['frc9263', 'frc7690', 'frc4907']}, 'red': {'dq_team_keys': [], 'score': 146, 'surrogate_team_keys': [], 'team_keys': ['frc6864', 'frc2386', 'frc610']}}, 'comp_level': 'qm', 'event_key': '2023oncmp2', 'key': '2023oncmp2_qm43', 'match_number': 43, 'post_result_time': 1680864408, 'predicted_time': 1680878697, 'score_breakdown': {'blue': {'activationBonusAchieved': True, 'adjustPoints': 0, 'autoBridgeState': 'NotLevel', 'autoChargeStationPoints': 0, 'autoChargeStationRobot1': 'None', 'autoChargeStationRobot2': 'None', 'autoChargeStationRobot3': 'None', 'autoCommunity': {'B': ['None', 'None', 'None', 'None', 'None', 'Cone', 'None', 'None', 'Cone'], 'M': ['None', 'None', 'None', 'None', 'None', 'None', 'None', 'None', 'None'], 'T': ['None', 'None', 'None', 'None', 'None', 'None', 'None', 'None', 'None']}, 'autoDocked': False, 'autoGamePieceCount': 2, 'autoGamePiecePoints': 6, 'autoMobilityPoints': 9, 'autoPoints': 15, 'coopGamePieceCount': 4, 'coopertitionCriteriaMet': True, 'endGameBridgeState': 'Level', 'endGameChargeStationPoints': 30, 'endGameChargeStationRobot1': 'Docked', 'endGameChargeStationRobot2': 'Docked', 'endGameChargeStationRobot3': 'Docked', 'endGameParkPoints': 0, 'foulCount': 1, 'foulPoints': 0, 'linkPoints': 15, 'links': [{'nodes': [0, 1, 2], 'row': 'Mid'}, {'nodes': [0, 1, 2], 'row': 'Top'}, {'nodes': [5, 6, 7], 'row': 'Top'}], 'mobilityRobot1': 'Yes', 'mobilityRobot2': 'Yes', 'mobilityRobot3': 'Yes', 'rp': 1, 'sustainabilityBonusAchieved': False, 'techFoulCount': 0, 'teleopCommunity': {'B': ['None', 'None', 'None', 'None', 'None', 'Cone', 'None', 'None', 'Cone'], 'M': ['Cone', 'Cube', 'Cone', 'Cone', 'None', 'None', 'Cone', 'None', 'None'], 'T': ['Cone', 'Cube', 'Cone', 'Cone', 'None', 'Cone', 'Cone', 'Cube', 'Cone']}, 'teleopGamePieceCount': 15, 'teleopGamePiecePoints': 55, 'teleopPoints': 85, 'totalChargeStationPoints': 30, 'totalPoints': 115}, 'red': {'activationBonusAchieved': True, 'adjustPoints': 0, 'autoBridgeState': 'Level', 'autoChargeStationPoints': 12, 'autoChargeStationRobot1': 'None', 'autoChargeStationRobot2': 'None', 'autoChargeStationRobot3': 'Docked', 'autoCommunity': {'B': ['None', 'None', 'None', 'None', 'None', 'None', 'None', 'None', 'None'], 'M': ['Cone', 'None', 'None', 'None', 'None', 'None', 'None', 'None', 'None'], 'T': ['None', 'None', 'None', 'None', 'None', 'Cone', 'None', 'Cube', 'None']}, 'autoDocked': True, 'autoGamePieceCount': 3, 'autoGamePiecePoints': 16, 'autoMobilityPoints': 9, 'autoPoints': 37, 'coopGamePieceCount': 6, 'coopertitionCriteriaMet': True, 'endGameBridgeState': 'Level', 'endGameChargeStationPoints': 30, 'endGameChargeStationRobot1': 'Docked', 'endGameChargeStationRobot2': 'Docked', 'endGameChargeStationRobot3': 'Docked', 'endGameParkPoints': 0, 'foulCount': 0, 'foulPoints': 5, 'linkPoints': 30, 'links': [{'nodes': [0, 1, 2], 'row': 'Bottom'}, {'nodes': [3, 4, 5], 'row': 'Bottom'}, {'nodes': [6, 7, 8], 'row': 'Bottom'}, {'nodes': [0, 1, 2], 'row': 'Mid'}, {'nodes': [3, 4, 5], 'row': 'Top'}, {'nodes': [6, 7, 8], 'row': 'Top'}], 'mobilityRobot1': 'Yes', 'mobilityRobot2': 'Yes', 'mobilityRobot3': 'Yes', 'rp': 4, 'sustainabilityBonusAchieved': True, 'techFoulCount': 0, 'teleopCommunity': {'B': ['Cone', 'Cone', 'Cone', 'Cone', 'Cube', 'Cone', 'Cube', 'Cube', 'Cube'], 'M': ['Cone', 'Cube', 'Cone', 'None', 'None', 'None', 'None', 'None', 'None'], 'T': ['None', 'None', 'None', 'Cone', 'Cube', 'Cone', 'Cone', 'Cube', 'Cone']}, 'teleopGamePieceCount': 18, 'teleopGamePiecePoints': 44, 'teleopPoints': 74, 'totalChargeStationPoints': 42, 'totalPoints': 146}}, 'set_number': 1, 'time': 1680876600, 'videos': [{'key': 'F31ZmIc4Qgk', 'type': 'youtube'}, {'key': 'NXtsuOySPWM', 'type': 'youtube'}], 'winning_alliance': 'red'}),\n",
       " Match({'actual_time': 1680864794, 'alliances': {'blue': {'dq_team_keys': [], 'score': 120, 'surrogate_team_keys': [], 'team_keys': ['frc5885', 'frc8764', 'frc4039']}, 'red': {'dq_team_keys': [], 'score': 74, 'surrogate_team_keys': [], 'team_keys': ['frc3739', 'frc8729', 'frc6865']}}, 'comp_level': 'qm', 'event_key': '2023oncmp2', 'key': '2023oncmp2_qm44', 'match_number': 44, 'post_result_time': 1680864964, 'predicted_time': 1680879302, 'score_breakdown': {'blue': {'activationBonusAchieved': True, 'adjustPoints': 0, 'autoBridgeState': 'Level', 'autoChargeStationPoints': 12, 'autoChargeStationRobot1': 'None', 'autoChargeStationRobot2': 'None', 'autoChargeStationRobot3': 'Docked', 'autoCommunity': {'B': ['None', 'None', 'None', 'None', 'None', 'None', 'None', 'None', 'None'], 'M': ['None', 'None', 'None', 'None', 'None', 'None', 'None', 'None', 'None'], 'T': ['None', 'Cube', 'None', 'None', 'None', 'Cone', 'None', 'Cube', 'None']}, 'autoDocked': True, 'autoGamePieceCount': 3, 'autoGamePiecePoints': 18, 'autoMobilityPoints': 6, 'autoPoints': 36, 'coopGamePieceCount': 7, 'coopertitionCriteriaMet': True, 'endGameBridgeState': 'Level', 'endGameChargeStationPoints': 20, 'endGameChargeStationRobot1': 'Docked', 'endGameChargeStationRobot2': 'Docked', 'endGameChargeStationRobot3': 'Park', 'endGameParkPoints': 2, 'foulCount': 0, 'foulPoints': 5, 'linkPoints': 15, 'links': [{'nodes': [0, 1, 2], 'row': 'Top'}, {'nodes': [3, 4, 5], 'row': 'Top'}, {'nodes': [6, 7, 8], 'row': 'Top'}], 'mobilityRobot1': 'No', 'mobilityRobot2': 'Yes', 'mobilityRobot3': 'Yes', 'rp': 3, 'sustainabilityBonusAchieved': False, 'techFoulCount': 0, 'teleopCommunity': {'B': ['None', 'None', 'None', 'Cone', 'None', 'Cone', 'None', 'None', 'Cube'], 'M': ['None', 'None', 'None', 'None', 'Cube', 'Cone', 'None', 'None', 'None'], 'T': ['Cone', 'Cube', 'Cone', 'Cone', 'Cube', 'Cone', 'Cone', 'Cube', 'Cone']}, 'teleopGamePieceCount': 14, 'teleopGamePiecePoints': 42, 'teleopPoints': 64, 'totalChargeStationPoints': 32, 'totalPoints': 120}, 'red': {'activationBonusAchieved': False, 'adjustPoints': 0, 'autoBridgeState': 'Level', 'autoChargeStationPoints': 12, 'autoChargeStationRobot1': 'None', 'autoChargeStationRobot2': 'Docked', 'autoChargeStationRobot3': 'None', 'autoCommunity': {'B': ['None', 'None', 'None', 'None', 'None', 'None', 'None', 'None', 'None'], 'M': ['None', 'Cube', 'None', 'None', 'Cube', 'None', 'None', 'Cube', 'None'], 'T': ['None', 'None', 'None', 'None', 'None', 'None', 'None', 'None', 'None']}, 'autoDocked': True, 'autoGamePieceCount': 3, 'autoGamePiecePoints': 12, 'autoMobilityPoints': 6, 'autoPoints': 30, 'coopGamePieceCount': 6, 'coopertitionCriteriaMet': True, 'endGameBridgeState': 'NotLevel', 'endGameChargeStationPoints': 0, 'endGameChargeStationRobot1': 'Park', 'endGameChargeStationRobot2': 'Park', 'endGameChargeStationRobot3': 'Park', 'endGameParkPoints': 6, 'foulCount': 1, 'foulPoints': 0, 'linkPoints': 15, 'links': [{'nodes': [3, 4, 5], 'row': 'Bottom'}, {'nodes': [1, 2, 3], 'row': 'Mid'}, {'nodes': [4, 5, 6], 'row': 'Mid'}], 'mobilityRobot1': 'Yes', 'mobilityRobot2': 'No', 'mobilityRobot3': 'Yes', 'rp': 0, 'sustainabilityBonusAchieved': False, 'techFoulCount': 0, 'teleopCommunity': {'B': ['None', 'None', 'None', 'Cube', 'Cone', 'Cube', 'None', 'Cube', 'None'], 'M': ['None', 'Cube', 'Cone', 'Cone', 'Cube', 'Cone', 'Cone', 'Cube', 'Cone'], 'T': ['None', 'None', 'None', 'None', 'None', 'None', 'None', 'None', 'None']}, 'teleopGamePieceCount': 12, 'teleopGamePiecePoints': 23, 'teleopPoints': 29, 'totalChargeStationPoints': 12, 'totalPoints': 74}}, 'set_number': 1, 'time': 1680877200, 'videos': [{'key': 'JNW0FqkM5U0', 'type': 'youtube'}, {'key': 'SUL13Yj4EwQ', 'type': 'youtube'}], 'winning_alliance': 'blue'}),\n",
       " Match({'actual_time': 1680865481, 'alliances': {'blue': {'dq_team_keys': [], 'score': 65, 'surrogate_team_keys': [], 'team_keys': ['frc6854', 'frc6378', 'frc1334']}, 'red': {'dq_team_keys': [], 'score': 155, 'surrogate_team_keys': [], 'team_keys': ['frc4946', 'frc4920', 'frc2708']}}, 'comp_level': 'qm', 'event_key': '2023oncmp2', 'key': '2023oncmp2_qm45', 'match_number': 45, 'post_result_time': 1680865791, 'predicted_time': 1680880148, 'score_breakdown': {'blue': {'activationBonusAchieved': False, 'adjustPoints': 0, 'autoBridgeState': 'NotLevel', 'autoChargeStationPoints': 0, 'autoChargeStationRobot1': 'None', 'autoChargeStationRobot2': 'None', 'autoChargeStationRobot3': 'None', 'autoCommunity': {'B': ['Cone', 'None', 'None', 'None', 'None', 'None', 'None', 'None', 'None'], 'M': ['None', 'None', 'None', 'Cone', 'None', 'None', 'None', 'None', 'None'], 'T': ['None', 'None', 'None', 'None', 'None', 'None', 'None', 'Cube', 'None']}, 'autoDocked': False, 'autoGamePieceCount': 3, 'autoGamePiecePoints': 13, 'autoMobilityPoints': 3, 'autoPoints': 16, 'coopGamePieceCount': 3, 'coopertitionCriteriaMet': True, 'endGameBridgeState': 'Level', 'endGameChargeStationPoints': 20, 'endGameChargeStationRobot1': 'Docked', 'endGameChargeStationRobot2': 'None', 'endGameChargeStationRobot3': 'Docked', 'endGameParkPoints': 0, 'foulCount': 0, 'foulPoints': 5, 'linkPoints': 10, 'links': [{'nodes': [0, 1, 2], 'row': 'Bottom'}, {'nodes': [4, 5, 6], 'row': 'Bottom'}], 'mobilityRobot1': 'Yes', 'mobilityRobot2': 'No', 'mobilityRobot3': 'No', 'rp': 0, 'sustainabilityBonusAchieved': False, 'techFoulCount': 0, 'teleopCommunity': {'B': ['Cone', 'Cube', 'Cube', 'None', 'Cube', 'Cube', 'Cube', 'Cube', 'Cube'], 'M': ['None', 'None', 'None', 'Cone', 'None', 'None', 'None', 'None', 'None'], 'T': ['None', 'None', 'None', 'None', 'None', 'None', 'None', 'Cube', 'None']}, 'teleopGamePieceCount': 10, 'teleopGamePiecePoints': 14, 'teleopPoints': 34, 'totalChargeStationPoints': 20, 'totalPoints': 65}, 'red': {'activationBonusAchieved': True, 'adjustPoints': 0, 'autoBridgeState': 'Level', 'autoChargeStationPoints': 12, 'autoChargeStationRobot1': 'None', 'autoChargeStationRobot2': 'Docked', 'autoChargeStationRobot3': 'None', 'autoCommunity': {'B': ['None', 'None', 'None', 'None', 'None', 'None', 'None', 'Cube', 'None'], 'M': ['None', 'None', 'None', 'None', 'None', 'None', 'None', 'None', 'None'], 'T': ['None', 'Cube', 'None', 'Cone', 'None', 'None', 'None', 'Cube', 'None']}, 'autoDocked': True, 'autoGamePieceCount': 4, 'autoGamePiecePoints': 21, 'autoMobilityPoints': 9, 'autoPoints': 42, 'coopGamePieceCount': 6, 'coopertitionCriteriaMet': True, 'endGameBridgeState': 'Level', 'endGameChargeStationPoints': 20, 'endGameChargeStationRobot1': 'Park', 'endGameChargeStationRobot2': 'Docked', 'endGameChargeStationRobot3': 'Docked', 'endGameParkPoints': 2, 'foulCount': 1, 'foulPoints': 0, 'linkPoints': 30, 'links': [{'nodes': [0, 1, 2], 'row': 'Mid'}, {'nodes': [3, 4, 5], 'row': 'Mid'}, {'nodes': [6, 7, 8], 'row': 'Mid'}, {'nodes': [0, 1, 2], 'row': 'Top'}, {'nodes': [3, 4, 5], 'row': 'Top'}, {'nodes': [6, 7, 8], 'row': 'Top'}], 'mobilityRobot1': 'Yes', 'mobilityRobot2': 'Yes', 'mobilityRobot3': 'Yes', 'rp': 4, 'sustainabilityBonusAchieved': True, 'techFoulCount': 0, 'teleopCommunity': {'B': ['Cube', 'Cube', 'None', 'None', 'None', 'None', 'None', 'Cube', 'None'], 'M': ['Cone', 'Cube', 'Cone', 'Cone', 'Cube', 'Cone', 'Cone', 'Cube', 'Cone'], 'T': ['Cone', 'Cube', 'Cone', 'Cone', 'Cube', 'Cone', 'Cone', 'Cube', 'Cone']}, 'teleopGamePieceCount': 21, 'teleopGamePiecePoints': 61, 'teleopPoints': 83, 'totalChargeStationPoints': 32, 'totalPoints': 155}}, 'set_number': 1, 'time': 1680877800, 'videos': [{'key': 'p2iXPwDrYDQ', 'type': 'youtube'}, {'key': 'vSOp6jLIPYc', 'type': 'youtube'}], 'winning_alliance': 'red'}),\n",
       " Match({'actual_time': 1680866129, 'alliances': {'blue': {'dq_team_keys': [], 'score': 114, 'surrogate_team_keys': [], 'team_keys': ['frc5870', 'frc4678', 'frc1285']}, 'red': {'dq_team_keys': [], 'score': 139, 'surrogate_team_keys': [], 'team_keys': ['frc4917', 'frc865', 'frc2706']}}, 'comp_level': 'qm', 'event_key': '2023oncmp2', 'key': '2023oncmp2_qm46', 'match_number': 46, 'post_result_time': 1680866331, 'predicted_time': 1680880598, 'score_breakdown': {'blue': {'activationBonusAchieved': False, 'adjustPoints': 0, 'autoBridgeState': 'Level', 'autoChargeStationPoints': 12, 'autoChargeStationRobot1': 'None', 'autoChargeStationRobot2': 'None', 'autoChargeStationRobot3': 'Docked', 'autoCommunity': {'B': ['None', 'None', 'None', 'None', 'None', 'None', 'None', 'None', 'None'], 'M': ['Cone', 'Cube', 'None', 'None', 'None', 'None', 'None', 'Cube', 'None'], 'T': ['Cone', 'None', 'None', 'None', 'None', 'Cone', 'None', 'None', 'None']}, 'autoDocked': True, 'autoGamePieceCount': 5, 'autoGamePiecePoints': 20, 'autoMobilityPoints': 9, 'autoPoints': 41, 'coopGamePieceCount': 5, 'coopertitionCriteriaMet': True, 'endGameBridgeState': 'NotLevel', 'endGameChargeStationPoints': 6, 'endGameChargeStationRobot1': 'None', 'endGameChargeStationRobot2': 'Docked', 'endGameChargeStationRobot3': 'Park', 'endGameParkPoints': 2, 'foulCount': 1, 'foulPoints': 5, 'linkPoints': 15, 'links': [{'nodes': [0, 1, 2], 'row': 'Top'}, {'nodes': [3, 4, 5], 'row': 'Top'}, {'nodes': [6, 7, 8], 'row': 'Top'}], 'mobilityRobot1': 'Yes', 'mobilityRobot2': 'Yes', 'mobilityRobot3': 'Yes', 'rp': 0, 'sustainabilityBonusAchieved': False, 'techFoulCount': 0, 'teleopCommunity': {'B': ['Cone', 'Cube', 'None', 'Cone', 'Cube', 'None', 'Cube', 'None', 'None'], 'M': ['None', 'Cube', 'None', 'None', 'None', 'None', 'None', 'Cube', 'None'], 'T': ['Cone', 'Cube', 'Cone', 'Cone', 'Cube', 'Cone', 'Cone', 'Cube', 'Cone']}, 'teleopGamePieceCount': 16, 'teleopGamePiecePoints': 45, 'teleopPoints': 53, 'totalChargeStationPoints': 18, 'totalPoints': 114}, 'red': {'activationBonusAchieved': True, 'adjustPoints': 0, 'autoBridgeState': 'NotLevel', 'autoChargeStationPoints': 8, 'autoChargeStationRobot1': 'None', 'autoChargeStationRobot2': 'Docked', 'autoChargeStationRobot3': 'None', 'autoCommunity': {'B': ['None', 'None', 'None', 'None', 'None', 'None', 'None', 'None', 'None'], 'M': ['None', 'None', 'None', 'None', 'None', 'None', 'None', 'None', 'None'], 'T': ['None', 'Cube', 'None', 'None', 'None', 'None', 'None', 'None', 'None']}, 'autoDocked': True, 'autoGamePieceCount': 1, 'autoGamePiecePoints': 6, 'autoMobilityPoints': 9, 'autoPoints': 23, 'coopGamePieceCount': 4, 'coopertitionCriteriaMet': True, 'endGameBridgeState': 'Level', 'endGameChargeStationPoints': 30, 'endGameChargeStationRobot1': 'Docked', 'endGameChargeStationRobot2': 'Docked', 'endGameChargeStationRobot3': 'Docked', 'endGameParkPoints': 0, 'foulCount': 1, 'foulPoints': 5, 'linkPoints': 20, 'links': [{'nodes': [0, 1, 2], 'row': 'Mid'}, {'nodes': [0, 1, 2], 'row': 'Top'}, {'nodes': [3, 4, 5], 'row': 'Top'}, {'nodes': [6, 7, 8], 'row': 'Top'}], 'mobilityRobot1': 'Yes', 'mobilityRobot2': 'Yes', 'mobilityRobot3': 'Yes', 'rp': 4, 'sustainabilityBonusAchieved': True, 'techFoulCount': 0, 'teleopCommunity': {'B': ['None', 'Cone', 'None', 'Cone', 'None', 'None', 'None', 'None', 'Cone'], 'M': ['Cone', 'Cube', 'Cone', 'None', 'None', 'None', 'Cone', 'None', 'Cone'], 'T': ['Cone', 'Cube', 'Cone', 'Cone', 'Cube', 'Cone', 'Cone', 'Cube', 'Cone']}, 'teleopGamePieceCount': 17, 'teleopGamePiecePoints': 61, 'teleopPoints': 91, 'totalChargeStationPoints': 38, 'totalPoints': 139}}, 'set_number': 1, 'time': 1680878400, 'videos': [{'key': 'rAwBMYwKh_Q', 'type': 'youtube'}, {'key': '43E7e0oNLZU', 'type': 'youtube'}], 'winning_alliance': 'red'}),\n",
       " Match({'actual_time': 1680866695, 'alliances': {'blue': {'dq_team_keys': [], 'score': 104, 'surrogate_team_keys': [], 'team_keys': ['frc5036', 'frc7722', 'frc2609']}, 'red': {'dq_team_keys': ['frc6987'], 'score': 112, 'surrogate_team_keys': [], 'team_keys': ['frc4069', 'frc1310', 'frc6987']}}, 'comp_level': 'qm', 'event_key': '2023oncmp2', 'key': '2023oncmp2_qm47', 'match_number': 47, 'post_result_time': 1680866914, 'predicted_time': 1680881147, 'score_breakdown': {'blue': {'activationBonusAchieved': True, 'adjustPoints': 0, 'autoBridgeState': 'Level', 'autoChargeStationPoints': 12, 'autoChargeStationRobot1': 'None', 'autoChargeStationRobot2': 'None', 'autoChargeStationRobot3': 'Docked', 'autoCommunity': {'B': ['None', 'None', 'None', 'None', 'None', 'None', 'None', 'None', 'None'], 'M': ['None', 'None', 'None', 'None', 'None', 'None', 'None', 'None', 'None'], 'T': ['None', 'None', 'None', 'None', 'None', 'Cone', 'None', 'Cube', 'None']}, 'autoDocked': True, 'autoGamePieceCount': 2, 'autoGamePiecePoints': 12, 'autoMobilityPoints': 9, 'autoPoints': 33, 'coopGamePieceCount': 3, 'coopertitionCriteriaMet': True, 'endGameBridgeState': 'Level', 'endGameChargeStationPoints': 20, 'endGameChargeStationRobot1': 'None', 'endGameChargeStationRobot2': 'Docked', 'endGameChargeStationRobot3': 'Docked', 'endGameParkPoints': 0, 'foulCount': 0, 'foulPoints': 17, 'linkPoints': 10, 'links': [{'nodes': [3, 4, 5], 'row': 'Top'}, {'nodes': [6, 7, 8], 'row': 'Top'}], 'mobilityRobot1': 'Yes', 'mobilityRobot2': 'Yes', 'mobilityRobot3': 'Yes', 'rp': 1, 'sustainabilityBonusAchieved': False, 'techFoulCount': 0, 'teleopCommunity': {'B': ['Cube', 'None', 'None', 'None', 'None', 'None', 'Cone', 'None', 'None'], 'M': ['None', 'None', 'None', 'None', 'None', 'None', 'None', 'None', 'None'], 'T': ['None', 'None', 'None', 'Cone', 'Cube', 'Cone', 'Cone', 'Cube', 'Cone']}, 'teleopGamePieceCount': 8, 'teleopGamePiecePoints': 24, 'teleopPoints': 44, 'totalChargeStationPoints': 32, 'totalPoints': 104}, 'red': {'activationBonusAchieved': True, 'adjustPoints': 0, 'autoBridgeState': 'Level', 'autoChargeStationPoints': 12, 'autoChargeStationRobot1': 'None', 'autoChargeStationRobot2': 'Docked', 'autoChargeStationRobot3': 'None', 'autoCommunity': {'B': ['None', 'None', 'None', 'None', 'None', 'None', 'None', 'None', 'None'], 'M': ['None', 'None', 'None', 'None', 'None', 'None', 'None', 'None', 'None'], 'T': ['None', 'None', 'None', 'Cone', 'None', 'None', 'None', 'Cube', 'None']}, 'autoDocked': True, 'autoGamePieceCount': 2, 'autoGamePiecePoints': 12, 'autoMobilityPoints': 9, 'autoPoints': 33, 'coopGamePieceCount': 5, 'coopertitionCriteriaMet': True, 'endGameBridgeState': 'Level', 'endGameChargeStationPoints': 20, 'endGameChargeStationRobot1': 'Park', 'endGameChargeStationRobot2': 'Docked', 'endGameChargeStationRobot3': 'Docked', 'endGameParkPoints': 2, 'foulCount': 1, 'foulPoints': 0, 'linkPoints': 15, 'links': [{'nodes': [0, 1, 2], 'row': 'Top'}, {'nodes': [3, 4, 5], 'row': 'Top'}, {'nodes': [6, 7, 8], 'row': 'Top'}], 'mobilityRobot1': 'Yes', 'mobilityRobot2': 'Yes', 'mobilityRobot3': 'Yes', 'rp': 3, 'sustainabilityBonusAchieved': False, 'techFoulCount': 1, 'teleopCommunity': {'B': ['None', 'None', 'None', 'None', 'Cone', 'None', 'None', 'None', 'Cone'], 'M': ['None', 'None', 'None', 'None', 'None', 'Cone', 'None', 'None', 'None'], 'T': ['Cone', 'Cube', 'Cone', 'Cone', 'Cube', 'Cone', 'Cone', 'Cube', 'Cone']}, 'teleopGamePieceCount': 12, 'teleopGamePiecePoints': 42, 'teleopPoints': 64, 'totalChargeStationPoints': 32, 'totalPoints': 112}}, 'set_number': 1, 'time': 1680879000, 'videos': [{'key': 'iVFBQHlrSMM', 'type': 'youtube'}, {'key': '_Q4RKQsWEXY', 'type': 'youtube'}], 'winning_alliance': 'red'}),\n",
       " Match({'actual_time': 1680867481, 'alliances': {'blue': {'dq_team_keys': [], 'score': 100, 'surrogate_team_keys': [], 'team_keys': ['frc8764', 'frc2013', 'frc9263']}, 'red': {'dq_team_keys': [], 'score': 151, 'surrogate_team_keys': [], 'team_keys': ['frc4903', 'frc5885', 'frc5024']}}, 'comp_level': 'qm', 'event_key': '2023oncmp2', 'key': '2023oncmp2_qm48', 'match_number': 48, 'post_result_time': 1680867647, 'predicted_time': 1680881787, 'score_breakdown': {'blue': {'activationBonusAchieved': True, 'adjustPoints': 0, 'autoBridgeState': 'Level', 'autoChargeStationPoints': 12, 'autoChargeStationRobot1': 'None', 'autoChargeStationRobot2': 'Docked', 'autoChargeStationRobot3': 'None', 'autoCommunity': {'B': ['None', 'None', 'None', 'None', 'None', 'None', 'None', 'None', 'Cone'], 'M': ['None', 'None', 'None', 'None', 'None', 'None', 'None', 'None', 'None'], 'T': ['None', 'Cube', 'None', 'Cone', 'None', 'None', 'None', 'None', 'None']}, 'autoDocked': True, 'autoGamePieceCount': 3, 'autoGamePiecePoints': 15, 'autoMobilityPoints': 6, 'autoPoints': 33, 'coopGamePieceCount': 5, 'coopertitionCriteriaMet': True, 'endGameBridgeState': 'Level', 'endGameChargeStationPoints': 20, 'endGameChargeStationRobot1': 'Docked', 'endGameChargeStationRobot2': 'Park', 'endGameChargeStationRobot3': 'Docked', 'endGameParkPoints': 2, 'foulCount': 3, 'foulPoints': 15, 'linkPoints': 10, 'links': [{'nodes': [0, 1, 2], 'row': 'Bottom'}, {'nodes': [3, 4, 5], 'row': 'Top'}], 'mobilityRobot1': 'No', 'mobilityRobot2': 'Yes', 'mobilityRobot3': 'Yes', 'rp': 1, 'sustainabilityBonusAchieved': False, 'techFoulCount': 0, 'teleopCommunity': {'B': ['Cube', 'Cone', 'Cube', 'Cube', 'Cone', 'None', 'None', 'None', 'Cone'], 'M': ['None', 'None', 'None', 'None', 'None', 'None', 'None', 'None', 'None'], 'T': ['None', 'Cube', 'None', 'Cone', 'Cube', 'Cone', 'None', 'None', 'None']}, 'teleopGamePieceCount': 10, 'teleopGamePiecePoints': 20, 'teleopPoints': 42, 'totalChargeStationPoints': 32, 'totalPoints': 100}, 'red': {'activationBonusAchieved': True, 'adjustPoints': 0, 'autoBridgeState': 'Level', 'autoChargeStationPoints': 12, 'autoChargeStationRobot1': 'None', 'autoChargeStationRobot2': 'None', 'autoChargeStationRobot3': 'Docked', 'autoCommunity': {'B': ['None', 'None', 'None', 'None', 'None', 'None', 'None', 'None', 'None'], 'M': ['None', 'None', 'None', 'None', 'Cube', 'None', 'None', 'None', 'None'], 'T': ['None', 'Cube', 'None', 'None', 'None', 'None', 'None', 'Cube', 'None']}, 'autoDocked': True, 'autoGamePieceCount': 3, 'autoGamePiecePoints': 16, 'autoMobilityPoints': 9, 'autoPoints': 37, 'coopGamePieceCount': 6, 'coopertitionCriteriaMet': True, 'endGameBridgeState': 'Level', 'endGameChargeStationPoints': 20, 'endGameChargeStationRobot1': 'Park', 'endGameChargeStationRobot2': 'Docked', 'endGameChargeStationRobot3': 'Docked', 'endGameParkPoints': 2, 'foulCount': 3, 'foulPoints': 15, 'linkPoints': 25, 'links': [{'nodes': [0, 1, 2], 'row': 'Bottom'}, {'nodes': [0, 1, 2], 'row': 'Mid'}, {'nodes': [3, 4, 5], 'row': 'Mid'}, {'nodes': [0, 1, 2], 'row': 'Top'}, {'nodes': [6, 7, 8], 'row': 'Top'}], 'mobilityRobot1': 'Yes', 'mobilityRobot2': 'Yes', 'mobilityRobot3': 'Yes', 'rp': 4, 'sustainabilityBonusAchieved': True, 'techFoulCount': 0, 'teleopCommunity': {'B': ['Cone', 'Cube', 'Cube', 'Cube', 'Cube', 'None', 'Cone', 'None', 'None'], 'M': ['Cone', 'Cube', 'Cone', 'Cone', 'Cube', 'Cone', 'None', 'None', 'None'], 'T': ['Cone', 'Cube', 'Cone', 'None', 'Cube', 'None', 'Cone', 'Cube', 'Cone']}, 'teleopGamePieceCount': 19, 'teleopGamePiecePoints': 52, 'teleopPoints': 74, 'totalChargeStationPoints': 32, 'totalPoints': 151}}, 'set_number': 1, 'time': 1680879600, 'videos': [{'key': 'ngi0kKFrmn0', 'type': 'youtube'}, {'key': 'htvNaLx7Z8s', 'type': 'youtube'}], 'winning_alliance': 'red'}),\n",
       " Match({'actual_time': 1680868048, 'alliances': {'blue': {'dq_team_keys': [], 'score': 165, 'surrogate_team_keys': [], 'team_keys': ['frc1325', 'frc4946', 'frc4688']}, 'red': {'dq_team_keys': [], 'score': 143, 'surrogate_team_keys': [], 'team_keys': ['frc4039', 'frc5596', 'frc7690']}}, 'comp_level': 'qm', 'event_key': '2023oncmp2', 'key': '2023oncmp2_qm49', 'match_number': 49, 'post_result_time': 1680868247, 'predicted_time': 1680882515, 'score_breakdown': {'blue': {'activationBonusAchieved': True, 'adjustPoints': 0, 'autoBridgeState': 'Level', 'autoChargeStationPoints': 12, 'autoChargeStationRobot1': 'None', 'autoChargeStationRobot2': 'Docked', 'autoChargeStationRobot3': 'None', 'autoCommunity': {'B': ['None', 'None', 'None', 'None', 'None', 'None', 'None', 'None', 'Cone'], 'M': ['None', 'Cube', 'None', 'None', 'None', 'None', 'None', 'None', 'None'], 'T': ['None', 'Cube', 'None', 'None', 'Cube', 'None', 'None', 'Cube', 'Cone']}, 'autoDocked': True, 'autoGamePieceCount': 6, 'autoGamePiecePoints': 31, 'autoMobilityPoints': 6, 'autoPoints': 49, 'coopGamePieceCount': 9, 'coopertitionCriteriaMet': True, 'endGameBridgeState': 'Level', 'endGameChargeStationPoints': 20, 'endGameChargeStationRobot1': 'None', 'endGameChargeStationRobot2': 'Docked', 'endGameChargeStationRobot3': 'Docked', 'endGameParkPoints': 0, 'foulCount': 1, 'foulPoints': 0, 'linkPoints': 35, 'links': [{'nodes': [2, 3, 4], 'row': 'Bottom'}, {'nodes': [0, 1, 2], 'row': 'Mid'}, {'nodes': [3, 4, 5], 'row': 'Mid'}, {'nodes': [6, 7, 8], 'row': 'Mid'}, {'nodes': [0, 1, 2], 'row': 'Top'}, {'nodes': [3, 4, 5], 'row': 'Top'}, {'nodes': [6, 7, 8], 'row': 'Top'}], 'mobilityRobot1': 'Yes', 'mobilityRobot2': 'Yes', 'mobilityRobot3': 'No', 'rp': 4, 'sustainabilityBonusAchieved': True, 'techFoulCount': 0, 'teleopCommunity': {'B': ['Cone', 'None', 'Cube', 'Cone', 'Cone', 'Cone', 'None', 'Cube', 'Cone'], 'M': ['Cone', 'Cube', 'Cone', 'Cone', 'Cube', 'Cone', 'Cone', 'Cube', 'Cone'], 'T': ['Cone', 'Cube', 'Cone', 'Cone', 'Cube', 'Cone', 'Cone', 'Cube', 'Cone']}, 'teleopGamePieceCount': 25, 'teleopGamePiecePoints': 61, 'teleopPoints': 81, 'totalChargeStationPoints': 32, 'totalPoints': 165}, 'red': {'activationBonusAchieved': True, 'adjustPoints': 0, 'autoBridgeState': 'Level', 'autoChargeStationPoints': 12, 'autoChargeStationRobot1': 'Docked', 'autoChargeStationRobot2': 'None', 'autoChargeStationRobot3': 'None', 'autoCommunity': {'B': ['None', 'None', 'None', 'None', 'None', 'None', 'None', 'Cube', 'None'], 'M': ['None', 'None', 'None', 'None', 'None', 'None', 'None', 'None', 'None'], 'T': ['Cone', 'None', 'None', 'Cone', 'None', 'None', 'None', 'None', 'None']}, 'autoDocked': True, 'autoGamePieceCount': 3, 'autoGamePiecePoints': 15, 'autoMobilityPoints': 9, 'autoPoints': 36, 'coopGamePieceCount': 4, 'coopertitionCriteriaMet': True, 'endGameBridgeState': 'Level', 'endGameChargeStationPoints': 20, 'endGameChargeStationRobot1': 'Docked', 'endGameChargeStationRobot2': 'Docked', 'endGameChargeStationRobot3': 'Park', 'endGameParkPoints': 2, 'foulCount': 0, 'foulPoints': 5, 'linkPoints': 25, 'links': [{'nodes': [6, 7, 8], 'row': 'Bottom'}, {'nodes': [0, 1, 2], 'row': 'Mid'}, {'nodes': [0, 1, 2], 'row': 'Top'}, {'nodes': [3, 4, 5], 'row': 'Top'}, {'nodes': [6, 7, 8], 'row': 'Top'}], 'mobilityRobot1': 'Yes', 'mobilityRobot2': 'Yes', 'mobilityRobot3': 'Yes', 'rp': 2, 'sustainabilityBonusAchieved': True, 'techFoulCount': 0, 'teleopCommunity': {'B': ['Cube', 'Cube', 'None', 'None', 'None', 'None', 'Cone', 'Cube', 'Cube'], 'M': ['Cone', 'Cube', 'Cone', 'None', 'Cube', 'None', 'None', 'None', 'None'], 'T': ['Cone', 'Cube', 'Cone', 'Cone', 'Cube', 'Cone', 'Cone', 'Cube', 'Cone']}, 'teleopGamePieceCount': 18, 'teleopGamePiecePoints': 55, 'teleopPoints': 77, 'totalChargeStationPoints': 32, 'totalPoints': 143}}, 'set_number': 1, 'time': 1680880200, 'videos': [{'key': 'q3q9gccrGlM', 'type': 'youtube'}, {'key': '_C73X6Dhqdo', 'type': 'youtube'}], 'winning_alliance': 'blue'}),\n",
       " Match({'actual_time': 1680782102, 'alliances': {'blue': {'dq_team_keys': [], 'score': 110, 'surrogate_team_keys': [], 'team_keys': ['frc7757', 'frc2609', 'frc6854']}, 'red': {'dq_team_keys': [], 'score': 149, 'surrogate_team_keys': [], 'team_keys': ['frc4069', 'frc5885', 'frc2706']}}, 'comp_level': 'qm', 'event_key': '2023oncmp2', 'key': '2023oncmp2_qm5', 'match_number': 5, 'post_result_time': 1680782402, 'predicted_time': 1680796621, 'score_breakdown': {'blue': {'activationBonusAchieved': True, 'adjustPoints': 0, 'autoBridgeState': 'Level', 'autoChargeStationPoints': 12, 'autoChargeStationRobot1': 'None', 'autoChargeStationRobot2': 'Docked', 'autoChargeStationRobot3': 'None', 'autoCommunity': {'B': ['None', 'None', 'None', 'None', 'None', 'None', 'None', 'None', 'None'], 'M': ['None', 'Cube', 'None', 'None', 'None', 'None', 'None', 'None', 'None'], 'T': ['None', 'None', 'None', 'None', 'None', 'Cone', 'None', 'Cube', 'None']}, 'autoDocked': True, 'autoGamePieceCount': 3, 'autoGamePiecePoints': 16, 'autoMobilityPoints': 9, 'autoPoints': 37, 'coopGamePieceCount': 3, 'coopertitionCriteriaMet': True, 'endGameBridgeState': 'Level', 'endGameChargeStationPoints': 30, 'endGameChargeStationRobot1': 'Docked', 'endGameChargeStationRobot2': 'Docked', 'endGameChargeStationRobot3': 'Docked', 'endGameParkPoints': 0, 'foulCount': 3, 'foulPoints': 10, 'linkPoints': 10, 'links': [{'nodes': [6, 7, 8], 'row': 'Bottom'}, {'nodes': [3, 4, 5], 'row': 'Top'}], 'mobilityRobot1': 'Yes', 'mobilityRobot2': 'Yes', 'mobilityRobot3': 'Yes', 'rp': 1, 'sustainabilityBonusAchieved': False, 'techFoulCount': 0, 'teleopCommunity': {'B': ['None', 'Cube', 'None', 'None', 'None', 'None', 'Cube', 'Cube', 'Cone'], 'M': ['None', 'Cube', 'None', 'None', 'None', 'None', 'None', 'None', 'None'], 'T': ['None', 'None', 'None', 'Cone', 'Cube', 'Cone', 'Cone', 'Cube', 'None']}, 'teleopGamePieceCount': 10, 'teleopGamePiecePoints': 23, 'teleopPoints': 53, 'totalChargeStationPoints': 42, 'totalPoints': 110}, 'red': {'activationBonusAchieved': True, 'adjustPoints': 0, 'autoBridgeState': 'NotLevel', 'autoChargeStationPoints': 8, 'autoChargeStationRobot1': 'None', 'autoChargeStationRobot2': 'None', 'autoChargeStationRobot3': 'Docked', 'autoCommunity': {'B': ['None', 'None', 'None', 'None', 'None', 'None', 'None', 'None', 'Cone'], 'M': ['None', 'None', 'None', 'None', 'None', 'None', 'None', 'None', 'None'], 'T': ['None', 'Cube', 'None', 'None', 'Cube', 'None', 'None', 'Cube', 'None']}, 'autoDocked': True, 'autoGamePieceCount': 4, 'autoGamePiecePoints': 21, 'autoMobilityPoints': 6, 'autoPoints': 35, 'coopGamePieceCount': 4, 'coopertitionCriteriaMet': True, 'endGameBridgeState': 'Level', 'endGameChargeStationPoints': 20, 'endGameChargeStationRobot1': 'Park', 'endGameChargeStationRobot2': 'Docked', 'endGameChargeStationRobot3': 'Docked', 'endGameParkPoints': 2, 'foulCount': 2, 'foulPoints': 15, 'linkPoints': 25, 'links': [{'nodes': [0, 1, 2], 'row': 'Mid'}, {'nodes': [6, 7, 8], 'row': 'Mid'}, {'nodes': [0, 1, 2], 'row': 'Top'}, {'nodes': [3, 4, 5], 'row': 'Top'}, {'nodes': [6, 7, 8], 'row': 'Top'}], 'mobilityRobot1': 'Yes', 'mobilityRobot2': 'Yes', 'mobilityRobot3': 'No', 'rp': 4, 'sustainabilityBonusAchieved': True, 'techFoulCount': 0, 'teleopCommunity': {'B': ['Cube', 'None', 'None', 'Cube', 'None', 'None', 'None', 'None', 'Cone'], 'M': ['Cone', 'Cube', 'Cone', 'None', 'None', 'None', 'Cone', 'Cube', 'Cone'], 'T': ['Cone', 'Cube', 'Cone', 'Cone', 'Cube', 'Cone', 'Cone', 'Cube', 'Cone']}, 'teleopGamePieceCount': 18, 'teleopGamePiecePoints': 52, 'teleopPoints': 74, 'totalChargeStationPoints': 28, 'totalPoints': 149}}, 'set_number': 1, 'time': 1680795600, 'videos': [{'key': 'z3S7dBFTfn4', 'type': 'youtube'}, {'key': 'dD556hxoBzA', 'type': 'youtube'}], 'winning_alliance': 'red'}),\n",
       " Match({'actual_time': 1680868704, 'alliances': {'blue': {'dq_team_keys': [], 'score': 145, 'surrogate_team_keys': [], 'team_keys': ['frc6854', 'frc5870', 'frc1114']}, 'red': {'dq_team_keys': [], 'score': 76, 'surrogate_team_keys': [], 'team_keys': ['frc7476', 'frc1334', 'frc2386']}}, 'comp_level': 'qm', 'event_key': '2023oncmp2', 'key': '2023oncmp2_qm50', 'match_number': 50, 'post_result_time': 1680868887, 'predicted_time': 1680883239, 'score_breakdown': {'blue': {'activationBonusAchieved': True, 'adjustPoints': 0, 'autoBridgeState': 'Level', 'autoChargeStationPoints': 12, 'autoChargeStationRobot1': 'None', 'autoChargeStationRobot2': 'Docked', 'autoChargeStationRobot3': 'None', 'autoCommunity': {'B': ['None', 'None', 'None', 'None', 'None', 'None', 'None', 'None', 'None'], 'M': ['None', 'None', 'None', 'None', 'Cube', 'None', 'None', 'Cube', 'None'], 'T': ['None', 'Cube', 'None', 'None', 'None', 'None', 'None', 'None', 'Cone']}, 'autoDocked': True, 'autoGamePieceCount': 4, 'autoGamePiecePoints': 20, 'autoMobilityPoints': 9, 'autoPoints': 41, 'coopGamePieceCount': 4, 'coopertitionCriteriaMet': True, 'endGameBridgeState': 'Level', 'endGameChargeStationPoints': 20, 'endGameChargeStationRobot1': 'Docked', 'endGameChargeStationRobot2': 'Docked', 'endGameChargeStationRobot3': 'Park', 'endGameParkPoints': 2, 'foulCount': 0, 'foulPoints': 5, 'linkPoints': 30, 'links': [{'nodes': [0, 1, 2], 'row': 'Bottom'}, {'nodes': [3, 4, 5], 'row': 'Bottom'}, {'nodes': [6, 7, 8], 'row': 'Bottom'}, {'nodes': [0, 1, 2], 'row': 'Mid'}, {'nodes': [0, 1, 2], 'row': 'Top'}, {'nodes': [6, 7, 8], 'row': 'Top'}], 'mobilityRobot1': 'Yes', 'mobilityRobot2': 'Yes', 'mobilityRobot3': 'Yes', 'rp': 4, 'sustainabilityBonusAchieved': True, 'techFoulCount': 0, 'teleopCommunity': {'B': ['Cube', 'Cube', 'Cube', 'Cube', 'Cube', 'Cube', 'Cube', 'Cube', 'Cube'], 'M': ['Cone', 'Cube', 'Cone', 'None', 'Cube', 'None', 'None', 'Cube', 'None'], 'T': ['Cone', 'Cube', 'Cone', 'None', 'None', 'None', 'Cone', 'Cube', 'Cone']}, 'teleopGamePieceCount': 20, 'teleopGamePiecePoints': 47, 'teleopPoints': 69, 'totalChargeStationPoints': 32, 'totalPoints': 145}, 'red': {'activationBonusAchieved': True, 'adjustPoints': 0, 'autoBridgeState': 'Level', 'autoChargeStationPoints': 12, 'autoChargeStationRobot1': 'None', 'autoChargeStationRobot2': 'None', 'autoChargeStationRobot3': 'Docked', 'autoCommunity': {'B': ['None', 'None', 'None', 'None', 'None', 'None', 'None', 'None', 'None'], 'M': ['None', 'None', 'None', 'None', 'Cube', 'None', 'None', 'None', 'None'], 'T': ['None', 'None', 'None', 'None', 'None', 'None', 'None', 'Cube', 'None']}, 'autoDocked': True, 'autoGamePieceCount': 2, 'autoGamePiecePoints': 10, 'autoMobilityPoints': 3, 'autoPoints': 25, 'coopGamePieceCount': 3, 'coopertitionCriteriaMet': True, 'endGameBridgeState': 'Level', 'endGameChargeStationPoints': 20, 'endGameChargeStationRobot1': 'Docked', 'endGameChargeStationRobot2': 'None', 'endGameChargeStationRobot3': 'Docked', 'endGameParkPoints': 0, 'foulCount': 1, 'foulPoints': 0, 'linkPoints': 10, 'links': [{'nodes': [0, 1, 2], 'row': 'Bottom'}, {'nodes': [3, 4, 5], 'row': 'Mid'}], 'mobilityRobot1': 'Yes', 'mobilityRobot2': 'No', 'mobilityRobot3': 'No', 'rp': 1, 'sustainabilityBonusAchieved': False, 'techFoulCount': 0, 'teleopCommunity': {'B': ['Cone', 'Cube', 'Cube', 'None', 'None', 'None', 'Cone', 'None', 'Cone'], 'M': ['None', 'None', 'None', 'Cone', 'Cube', 'Cone', 'None', 'None', 'None'], 'T': ['None', 'None', 'None', 'None', 'None', 'None', 'None', 'Cube', 'Cone']}, 'teleopGamePieceCount': 10, 'teleopGamePiecePoints': 21, 'teleopPoints': 41, 'totalChargeStationPoints': 32, 'totalPoints': 76}}, 'set_number': 1, 'time': 1680880800, 'videos': [{'key': '5QXnauSYRu4', 'type': 'youtube'}, {'key': 'SRFUQ65kJmA', 'type': 'youtube'}], 'winning_alliance': 'blue'}),\n",
       " Match({'actual_time': 1680869360, 'alliances': {'blue': {'dq_team_keys': [], 'score': 63, 'surrogate_team_keys': [], 'team_keys': ['frc4917', 'frc2708', 'frc8729']}, 'red': {'dq_team_keys': [], 'score': 106, 'surrogate_team_keys': [], 'team_keys': ['frc6865', 'frc2706', 'frc610']}}, 'comp_level': 'qm', 'event_key': '2023oncmp2', 'key': '2023oncmp2_qm51', 'match_number': 51, 'post_result_time': 1680869548, 'predicted_time': 1680883903, 'score_breakdown': {'blue': {'activationBonusAchieved': False, 'adjustPoints': 0, 'autoBridgeState': 'Level', 'autoChargeStationPoints': 12, 'autoChargeStationRobot1': 'None', 'autoChargeStationRobot2': 'None', 'autoChargeStationRobot3': 'Docked', 'autoCommunity': {'B': ['Cone', 'Cube', 'None', 'None', 'None', 'None', 'None', 'None', 'None'], 'M': ['None', 'None', 'None', 'None', 'None', 'None', 'None', 'None', 'None'], 'T': ['None', 'None', 'None', 'None', 'None', 'None', 'None', 'None', 'Cone']}, 'autoDocked': True, 'autoGamePieceCount': 3, 'autoGamePiecePoints': 12, 'autoMobilityPoints': 6, 'autoPoints': 30, 'coopGamePieceCount': 1, 'coopertitionCriteriaMet': False, 'endGameBridgeState': 'NotLevel', 'endGameChargeStationPoints': 6, 'endGameChargeStationRobot1': 'None', 'endGameChargeStationRobot2': 'Park', 'endGameChargeStationRobot3': 'Docked', 'endGameParkPoints': 2, 'foulCount': 1, 'foulPoints': 0, 'linkPoints': 5, 'links': [{'nodes': [0, 1, 2], 'row': 'Bottom'}], 'mobilityRobot1': 'Yes', 'mobilityRobot2': 'Yes', 'mobilityRobot3': 'No', 'rp': 0, 'sustainabilityBonusAchieved': False, 'techFoulCount': 0, 'teleopCommunity': {'B': ['Cone', 'Cube', 'Cube', 'None', 'None', 'None', 'Cone', 'None', 'None'], 'M': ['Cone', 'Cube', 'None', 'None', 'None', 'None', 'None', 'None', 'None'], 'T': ['None', 'None', 'None', 'None', 'Cube', 'None', 'None', 'Cube', 'Cone']}, 'teleopGamePieceCount': 9, 'teleopGamePiecePoints': 20, 'teleopPoints': 28, 'totalChargeStationPoints': 18, 'totalPoints': 63}, 'red': {'activationBonusAchieved': True, 'adjustPoints': 0, 'autoBridgeState': 'Level', 'autoChargeStationPoints': 12, 'autoChargeStationRobot1': 'None', 'autoChargeStationRobot2': 'None', 'autoChargeStationRobot3': 'Docked', 'autoCommunity': {'B': ['None', 'None', 'None', 'None', 'None', 'None', 'None', 'None', 'None'], 'M': ['None', 'None', 'None', 'None', 'None', 'None', 'None', 'None', 'None'], 'T': ['None', 'Cube', 'None', 'None', 'None', 'Cone', 'None', 'Cube', 'None']}, 'autoDocked': True, 'autoGamePieceCount': 3, 'autoGamePiecePoints': 18, 'autoMobilityPoints': 9, 'autoPoints': 39, 'coopGamePieceCount': 3, 'coopertitionCriteriaMet': True, 'endGameBridgeState': 'Level', 'endGameChargeStationPoints': 30, 'endGameChargeStationRobot1': 'Docked', 'endGameChargeStationRobot2': 'Docked', 'endGameChargeStationRobot3': 'Docked', 'endGameParkPoints': 0, 'foulCount': 0, 'foulPoints': 5, 'linkPoints': 10, 'links': [{'nodes': [0, 1, 2], 'row': 'Top'}, {'nodes': [3, 4, 5], 'row': 'Top'}], 'mobilityRobot1': 'Yes', 'mobilityRobot2': 'Yes', 'mobilityRobot3': 'Yes', 'rp': 3, 'sustainabilityBonusAchieved': False, 'techFoulCount': 0, 'teleopCommunity': {'B': ['None', 'None', 'None', 'None', 'None', 'None', 'Cube', 'None', 'None'], 'M': ['None', 'None', 'None', 'None', 'None', 'None', 'None', 'None', 'None'], 'T': ['Cone', 'Cube', 'Cone', 'Cone', 'Cube', 'Cone', 'None', 'Cube', 'None']}, 'teleopGamePieceCount': 8, 'teleopGamePiecePoints': 22, 'teleopPoints': 52, 'totalChargeStationPoints': 42, 'totalPoints': 106}}, 'set_number': 1, 'time': 1680881400, 'videos': [{'key': 'aqLUKowD5VQ', 'type': 'youtube'}, {'key': 'YkQjJx2v2Dg', 'type': 'youtube'}], 'winning_alliance': 'red'}),\n",
       " Match({'actual_time': 1680869908, 'alliances': {'blue': {'dq_team_keys': [], 'score': 105, 'surrogate_team_keys': [], 'team_keys': ['frc865', 'frc4069', 'frc7722']}, 'red': {'dq_team_keys': [], 'score': 95, 'surrogate_team_keys': [], 'team_keys': ['frc3739', 'frc4343', 'frc6378']}}, 'comp_level': 'qm', 'event_key': '2023oncmp2', 'key': '2023oncmp2_qm52', 'match_number': 52, 'post_result_time': 1680870084, 'predicted_time': 1680884350, 'score_breakdown': {'blue': {'activationBonusAchieved': True, 'adjustPoints': 0, 'autoBridgeState': 'Level', 'autoChargeStationPoints': 12, 'autoChargeStationRobot1': 'None', 'autoChargeStationRobot2': 'None', 'autoChargeStationRobot3': 'Docked', 'autoCommunity': {'B': ['None', 'None', 'None', 'None', 'None', 'None', 'None', 'None', 'None'], 'M': ['None', 'None', 'None', 'None', 'None', 'None', 'None', 'None', 'None'], 'T': ['Cone', 'Cube', 'None', 'None', 'None', 'None', 'None', 'None', 'Cone']}, 'autoDocked': True, 'autoGamePieceCount': 3, 'autoGamePiecePoints': 18, 'autoMobilityPoints': 9, 'autoPoints': 39, 'coopGamePieceCount': 5, 'coopertitionCriteriaMet': True, 'endGameBridgeState': 'Level', 'endGameChargeStationPoints': 20, 'endGameChargeStationRobot1': 'Docked', 'endGameChargeStationRobot2': 'Park', 'endGameChargeStationRobot3': 'Docked', 'endGameParkPoints': 2, 'foulCount': 1, 'foulPoints': 0, 'linkPoints': 10, 'links': [{'nodes': [0, 1, 2], 'row': 'Top'}, {'nodes': [3, 4, 5], 'row': 'Top'}], 'mobilityRobot1': 'Yes', 'mobilityRobot2': 'Yes', 'mobilityRobot3': 'Yes', 'rp': 3, 'sustainabilityBonusAchieved': False, 'techFoulCount': 0, 'teleopCommunity': {'B': ['None', 'None', 'None', 'None', 'Cube', 'None', 'None', 'Cone', 'Cone'], 'M': ['None', 'None', 'None', 'Cone', 'None', 'None', 'None', 'None', 'None'], 'T': ['Cone', 'Cube', 'Cone', 'Cone', 'Cube', 'Cone', 'Cone', 'None', 'Cone']}, 'teleopGamePieceCount': 12, 'teleopGamePiecePoints': 34, 'teleopPoints': 56, 'totalChargeStationPoints': 32, 'totalPoints': 105}, 'red': {'activationBonusAchieved': False, 'adjustPoints': 0, 'autoBridgeState': 'Level', 'autoChargeStationPoints': 12, 'autoChargeStationRobot1': 'None', 'autoChargeStationRobot2': 'Docked', 'autoChargeStationRobot3': 'None', 'autoCommunity': {'B': ['None', 'None', 'None', 'None', 'None', 'None', 'None', 'None', 'None'], 'M': ['None', 'Cube', 'None', 'None', 'None', 'None', 'None', 'None', 'None'], 'T': ['None', 'None', 'None', 'None', 'None', 'Cone', 'None', 'None', 'Cone']}, 'autoDocked': True, 'autoGamePieceCount': 3, 'autoGamePiecePoints': 16, 'autoMobilityPoints': 3, 'autoPoints': 31, 'coopGamePieceCount': 2, 'coopertitionCriteriaMet': False, 'endGameBridgeState': 'Level', 'endGameChargeStationPoints': 0, 'endGameChargeStationRobot1': 'Park', 'endGameChargeStationRobot2': 'Park', 'endGameChargeStationRobot3': 'Park', 'endGameParkPoints': 6, 'foulCount': 0, 'foulPoints': 5, 'linkPoints': 10, 'links': [{'nodes': [6, 7, 8], 'row': 'Mid'}, {'nodes': [0, 1, 2], 'row': 'Top'}], 'mobilityRobot1': 'Yes', 'mobilityRobot2': 'No', 'mobilityRobot3': 'No', 'rp': 0, 'sustainabilityBonusAchieved': False, 'techFoulCount': 0, 'teleopCommunity': {'B': ['Cone', 'None', 'None', 'None', 'None', 'None', 'Cube', 'Cone', 'None'], 'M': ['None', 'Cube', 'Cone', 'None', 'None', 'None', 'Cone', 'Cube', 'Cone'], 'T': ['Cone', 'Cube', 'Cone', 'Cone', 'None', 'Cone', 'Cone', 'None', 'Cone']}, 'teleopGamePieceCount': 15, 'teleopGamePiecePoints': 43, 'teleopPoints': 49, 'totalChargeStationPoints': 12, 'totalPoints': 95}}, 'set_number': 1, 'time': 1680882000, 'videos': [{'key': 'CLVWCXg3kbI', 'type': 'youtube'}, {'key': 'iYqSI-hCxe0', 'type': 'youtube'}], 'winning_alliance': 'blue'}),\n",
       " Match({'actual_time': 1680870688, 'alliances': {'blue': {'dq_team_keys': [], 'score': 171, 'surrogate_team_keys': [], 'team_keys': ['frc4907', 'frc4920', 'frc4678']}, 'red': {'dq_team_keys': [], 'score': 78, 'surrogate_team_keys': [], 'team_keys': ['frc1285', 'frc6864', 'frc7757']}}, 'comp_level': 'qm', 'event_key': '2023oncmp2', 'key': '2023oncmp2_qm53', 'match_number': 53, 'post_result_time': 1680870875, 'predicted_time': 1680885086, 'score_breakdown': {'blue': {'activationBonusAchieved': True, 'adjustPoints': 0, 'autoBridgeState': 'NotLevel', 'autoChargeStationPoints': 8, 'autoChargeStationRobot1': 'Docked', 'autoChargeStationRobot2': 'None', 'autoChargeStationRobot3': 'None', 'autoCommunity': {'B': ['None', 'None', 'None', 'None', 'None', 'None', 'None', 'None', 'None'], 'M': ['Cone', 'None', 'None', 'None', 'None', 'None', 'None', 'None', 'None'], 'T': ['Cone', 'Cube', 'None', 'None', 'Cube', 'None', 'None', 'Cube', 'Cone']}, 'autoDocked': True, 'autoGamePieceCount': 6, 'autoGamePiecePoints': 34, 'autoMobilityPoints': 9, 'autoPoints': 51, 'coopGamePieceCount': 7, 'coopertitionCriteriaMet': True, 'endGameBridgeState': 'Level', 'endGameChargeStationPoints': 20, 'endGameChargeStationRobot1': 'Docked', 'endGameChargeStationRobot2': 'Docked', 'endGameChargeStationRobot3': 'Park', 'endGameParkPoints': 2, 'foulCount': 0, 'foulPoints': 0, 'linkPoints': 40, 'links': [{'nodes': [0, 1, 2], 'row': 'Bottom'}, {'nodes': [6, 7, 8], 'row': 'Bottom'}, {'nodes': [0, 1, 2], 'row': 'Mid'}, {'nodes': [3, 4, 5], 'row': 'Mid'}, {'nodes': [6, 7, 8], 'row': 'Mid'}, {'nodes': [0, 1, 2], 'row': 'Top'}, {'nodes': [3, 4, 5], 'row': 'Top'}, {'nodes': [6, 7, 8], 'row': 'Top'}], 'mobilityRobot1': 'Yes', 'mobilityRobot2': 'Yes', 'mobilityRobot3': 'Yes', 'rp': 4, 'sustainabilityBonusAchieved': True, 'techFoulCount': 0, 'teleopCommunity': {'B': ['Cone', 'Cone', 'Cone', 'Cone', 'None', 'None', 'Cone', 'Cube', 'Cube'], 'M': ['Cone', 'Cube', 'Cone', 'Cone', 'Cube', 'Cone', 'Cone', 'Cube', 'Cone'], 'T': ['Cone', 'Cube', 'Cone', 'Cone', 'Cube', 'Cone', 'Cone', 'Cube', 'Cone']}, 'teleopGamePieceCount': 25, 'teleopGamePiecePoints': 58, 'teleopPoints': 80, 'totalChargeStationPoints': 28, 'totalPoints': 171}, 'red': {'activationBonusAchieved': False, 'adjustPoints': 0, 'autoBridgeState': 'Level', 'autoChargeStationPoints': 12, 'autoChargeStationRobot1': 'Docked', 'autoChargeStationRobot2': 'None', 'autoChargeStationRobot3': 'None', 'autoCommunity': {'B': ['None', 'None', 'None', 'None', 'None', 'None', 'None', 'None', 'None'], 'M': ['None', 'None', 'None', 'None', 'None', 'None', 'None', 'None', 'Cone'], 'T': ['None', 'Cube', 'None', 'None', 'None', 'Cone', 'None', 'None', 'None']}, 'autoDocked': True, 'autoGamePieceCount': 3, 'autoGamePiecePoints': 16, 'autoMobilityPoints': 6, 'autoPoints': 34, 'coopGamePieceCount': 6, 'coopertitionCriteriaMet': True, 'endGameBridgeState': 'NotLevel', 'endGameChargeStationPoints': 6, 'endGameChargeStationRobot1': 'Park', 'endGameChargeStationRobot2': 'Docked', 'endGameChargeStationRobot3': 'Park', 'endGameParkPoints': 4, 'foulCount': 0, 'foulPoints': 0, 'linkPoints': 5, 'links': [{'nodes': [3, 4, 5], 'row': 'Bottom'}], 'mobilityRobot1': 'Yes', 'mobilityRobot2': 'No', 'mobilityRobot3': 'Yes', 'rp': 0, 'sustainabilityBonusAchieved': False, 'techFoulCount': 0, 'teleopCommunity': {'B': ['Cube', 'Cube', 'None', 'Cube', 'Cube', 'Cone', 'None', 'None', 'None'], 'M': ['None', 'Cube', 'None', 'None', 'Cube', 'None', 'None', 'Cube', 'Cone'], 'T': ['None', 'Cube', 'None', 'None', 'Cube', 'Cone', 'None', 'Cube', 'None']}, 'teleopGamePieceCount': 13, 'teleopGamePiecePoints': 29, 'teleopPoints': 39, 'totalChargeStationPoints': 18, 'totalPoints': 78}}, 'set_number': 1, 'time': 1680882600, 'videos': [{'key': 'R_fZSAj6ZQI', 'type': 'youtube'}, {'key': 'iOGWe5HKIOI', 'type': 'youtube'}], 'winning_alliance': 'blue'}),\n",
       " Match({'actual_time': 1680871898, 'alliances': {'blue': {'dq_team_keys': [], 'score': 111, 'surrogate_team_keys': [], 'team_keys': ['frc6987', 'frc6854', 'frc4903']}, 'red': {'dq_team_keys': [], 'score': 132, 'surrogate_team_keys': [], 'team_keys': ['frc2609', 'frc9263', 'frc4039']}}, 'comp_level': 'qm', 'event_key': '2023oncmp2', 'key': '2023oncmp2_qm54', 'match_number': 54, 'post_result_time': 1680872065, 'predicted_time': 1680886423, 'score_breakdown': {'blue': {'activationBonusAchieved': True, 'adjustPoints': 0, 'autoBridgeState': 'Level', 'autoChargeStationPoints': 12, 'autoChargeStationRobot1': 'None', 'autoChargeStationRobot2': 'None', 'autoChargeStationRobot3': 'Docked', 'autoCommunity': {'B': ['None', 'None', 'None', 'None', 'None', 'None', 'None', 'None', 'None'], 'M': ['None', 'None', 'None', 'None', 'None', 'None', 'None', 'None', 'None'], 'T': ['None', 'Cube', 'None', 'None', 'Cube', 'None', 'None', 'None', 'None']}, 'autoDocked': True, 'autoGamePieceCount': 2, 'autoGamePiecePoints': 12, 'autoMobilityPoints': 6, 'autoPoints': 30, 'coopGamePieceCount': 5, 'coopertitionCriteriaMet': True, 'endGameBridgeState': 'Level', 'endGameChargeStationPoints': 20, 'endGameChargeStationRobot1': 'Docked', 'endGameChargeStationRobot2': 'Docked', 'endGameChargeStationRobot3': 'Park', 'endGameParkPoints': 2, 'foulCount': 0, 'foulPoints': 5, 'linkPoints': 15, 'links': [{'nodes': [4, 5, 6], 'row': 'Bottom'}, {'nodes': [0, 1, 2], 'row': 'Top'}, {'nodes': [3, 4, 5], 'row': 'Top'}], 'mobilityRobot1': 'Yes', 'mobilityRobot2': 'Yes', 'mobilityRobot3': 'No', 'rp': 1, 'sustainabilityBonusAchieved': False, 'techFoulCount': 0, 'teleopCommunity': {'B': ['Cube', 'Cube', 'None', 'None', 'Cube', 'Cone', 'Cone', 'Cone', 'Cone'], 'M': ['None', 'None', 'None', 'None', 'None', 'None', 'None', 'None', 'None'], 'T': ['Cone', 'Cube', 'Cone', 'Cone', 'Cube', 'Cone', 'None', 'Cube', 'None']}, 'teleopGamePieceCount': 14, 'teleopGamePiecePoints': 39, 'teleopPoints': 61, 'totalChargeStationPoints': 32, 'totalPoints': 111}, 'red': {'activationBonusAchieved': True, 'adjustPoints': 0, 'autoBridgeState': 'Level', 'autoChargeStationPoints': 12, 'autoChargeStationRobot1': 'Docked', 'autoChargeStationRobot2': 'None', 'autoChargeStationRobot3': 'None', 'autoCommunity': {'B': ['None', 'None', 'None', 'None', 'None', 'None', 'None', 'None', 'None'], 'M': ['None', 'None', 'None', 'None', 'None', 'None', 'None', 'None', 'None'], 'T': ['None', 'Cube', 'None', 'None', 'None', 'Cone', 'None', 'None', 'None']}, 'autoDocked': True, 'autoGamePieceCount': 2, 'autoGamePiecePoints': 12, 'autoMobilityPoints': 3, 'autoPoints': 27, 'coopGamePieceCount': 6, 'coopertitionCriteriaMet': True, 'endGameBridgeState': 'Level', 'endGameChargeStationPoints': 20, 'endGameChargeStationRobot1': 'Park', 'endGameChargeStationRobot2': 'Docked', 'endGameChargeStationRobot3': 'Docked', 'endGameParkPoints': 2, 'foulCount': 1, 'foulPoints': 0, 'linkPoints': 25, 'links': [{'nodes': [0, 1, 2], 'row': 'Mid'}, {'nodes': [3, 4, 5], 'row': 'Mid'}, {'nodes': [0, 1, 2], 'row': 'Top'}, {'nodes': [3, 4, 5], 'row': 'Top'}, {'nodes': [6, 7, 8], 'row': 'Top'}], 'mobilityRobot1': 'No', 'mobilityRobot2': 'No', 'mobilityRobot3': 'Yes', 'rp': 4, 'sustainabilityBonusAchieved': True, 'techFoulCount': 0, 'teleopCommunity': {'B': ['None', 'None', 'None', 'None', 'None', 'None', 'None', 'None', 'Cone'], 'M': ['Cone', 'Cube', 'Cone', 'Cone', 'Cube', 'Cone', 'Cone', 'None', 'None'], 'T': ['Cone', 'Cube', 'Cone', 'Cone', 'Cube', 'Cone', 'Cone', 'Cube', 'Cone']}, 'teleopGamePieceCount': 17, 'teleopGamePiecePoints': 58, 'teleopPoints': 80, 'totalChargeStationPoints': 32, 'totalPoints': 132}}, 'set_number': 1, 'time': 1680883200, 'videos': [{'key': 'GXZumq_sW5w', 'type': 'youtube'}, {'key': '_POnOdI-Gdc', 'type': 'youtube'}], 'winning_alliance': 'red'}),\n",
       " Match({'actual_time': 1680872934, 'alliances': {'blue': {'dq_team_keys': ['frc5885'], 'score': 104, 'surrogate_team_keys': [], 'team_keys': ['frc2386', 'frc1310', 'frc5885']}, 'red': {'dq_team_keys': [], 'score': 144, 'surrogate_team_keys': [], 'team_keys': ['frc5024', 'frc8764', 'frc4917']}}, 'comp_level': 'qm', 'event_key': '2023oncmp2', 'key': '2023oncmp2_qm55', 'match_number': 55, 'post_result_time': 1680873151, 'predicted_time': 1680887417, 'score_breakdown': {'blue': {'activationBonusAchieved': True, 'adjustPoints': 0, 'autoBridgeState': 'Level', 'autoChargeStationPoints': 12, 'autoChargeStationRobot1': 'None', 'autoChargeStationRobot2': 'Docked', 'autoChargeStationRobot3': 'None', 'autoCommunity': {'B': ['None', 'None', 'None', 'None', 'None', 'None', 'None', 'None', 'None'], 'M': ['None', 'None', 'None', 'None', 'None', 'None', 'None', 'None', 'None'], 'T': ['None', 'Cube', 'None', 'None', 'None', 'Cone', 'None', 'Cube', 'None']}, 'autoDocked': True, 'autoGamePieceCount': 3, 'autoGamePiecePoints': 18, 'autoMobilityPoints': 6, 'autoPoints': 36, 'coopGamePieceCount': 3, 'coopertitionCriteriaMet': True, 'endGameBridgeState': 'NotLevel', 'endGameChargeStationPoints': 18, 'endGameChargeStationRobot1': 'Docked', 'endGameChargeStationRobot2': 'Docked', 'endGameChargeStationRobot3': 'Docked', 'endGameParkPoints': 0, 'foulCount': 1, 'foulPoints': 0, 'linkPoints': 15, 'links': [{'nodes': [6, 7, 8], 'row': 'Mid'}, {'nodes': [0, 1, 2], 'row': 'Top'}, {'nodes': [3, 4, 5], 'row': 'Top'}], 'mobilityRobot1': 'Yes', 'mobilityRobot2': 'Yes', 'mobilityRobot3': 'No', 'rp': 1, 'sustainabilityBonusAchieved': False, 'techFoulCount': 1, 'teleopCommunity': {'B': ['Cube', 'Cube', 'None', 'None', 'None', 'None', 'None', 'None', 'Cone'], 'M': ['None', 'None', 'None', 'None', 'None', 'None', 'Cone', 'Cube', 'Cone'], 'T': ['Cone', 'Cube', 'Cone', 'Cone', 'Cube', 'Cone', 'None', 'Cube', 'None']}, 'teleopGamePieceCount': 13, 'teleopGamePiecePoints': 35, 'teleopPoints': 53, 'totalChargeStationPoints': 30, 'totalPoints': 104}, 'red': {'activationBonusAchieved': True, 'adjustPoints': 0, 'autoBridgeState': 'Level', 'autoChargeStationPoints': 12, 'autoChargeStationRobot1': 'Docked', 'autoChargeStationRobot2': 'None', 'autoChargeStationRobot3': 'None', 'autoCommunity': {'B': ['Cone', 'None', 'None', 'None', 'None', 'None', 'None', 'None', 'None'], 'M': ['None', 'None', 'None', 'None', 'Cube', 'None', 'None', 'Cube', 'None'], 'T': ['None', 'None', 'None', 'None', 'None', 'None', 'None', 'None', 'None']}, 'autoDocked': True, 'autoGamePieceCount': 3, 'autoGamePiecePoints': 11, 'autoMobilityPoints': 9, 'autoPoints': 32, 'coopGamePieceCount': 9, 'coopertitionCriteriaMet': True, 'endGameBridgeState': 'Level', 'endGameChargeStationPoints': 20, 'endGameChargeStationRobot1': 'Docked', 'endGameChargeStationRobot2': 'None', 'endGameChargeStationRobot3': 'Docked', 'endGameParkPoints': 0, 'foulCount': 0, 'foulPoints': 17, 'linkPoints': 25, 'links': [{'nodes': [3, 4, 5], 'row': 'Bottom'}, {'nodes': [3, 4, 5], 'row': 'Mid'}, {'nodes': [6, 7, 8], 'row': 'Mid'}, {'nodes': [0, 1, 2], 'row': 'Top'}, {'nodes': [3, 4, 5], 'row': 'Top'}], 'mobilityRobot1': 'Yes', 'mobilityRobot2': 'Yes', 'mobilityRobot3': 'Yes', 'rp': 4, 'sustainabilityBonusAchieved': True, 'techFoulCount': 0, 'teleopCommunity': {'B': ['Cone', 'None', 'None', 'Cone', 'Cube', 'Cube', 'None', 'None', 'Cube'], 'M': ['None', 'None', 'None', 'Cone', 'Cube', 'Cone', 'Cone', 'Cube', 'Cone'], 'T': ['Cone', 'Cube', 'Cone', 'Cone', 'Cube', 'Cone', 'None', 'None', 'None']}, 'teleopGamePieceCount': 17, 'teleopGamePiecePoints': 50, 'teleopPoints': 70, 'totalChargeStationPoints': 32, 'totalPoints': 144}}, 'set_number': 1, 'time': 1680883800, 'videos': [{'key': 'd_WK93lImj4', 'type': 'youtube'}, {'key': 'iCbHxclse1I', 'type': 'youtube'}], 'winning_alliance': 'red'}),\n",
       " Match({'actual_time': 1680893534, 'alliances': {'blue': {'dq_team_keys': [], 'score': 86, 'surrogate_team_keys': [], 'team_keys': ['frc5870', 'frc7690', 'frc865']}, 'red': {'dq_team_keys': [], 'score': 125, 'surrogate_team_keys': [], 'team_keys': ['frc4343', 'frc1334', 'frc5036']}}, 'comp_level': 'qm', 'event_key': '2023oncmp2', 'key': '2023oncmp2_qm56', 'match_number': 56, 'post_result_time': 1680893735, 'predicted_time': 1680890344, 'score_breakdown': {'blue': {'activationBonusAchieved': False, 'adjustPoints': 0, 'autoBridgeState': 'NotLevel', 'autoChargeStationPoints': 0, 'autoChargeStationRobot1': 'None', 'autoChargeStationRobot2': 'None', 'autoChargeStationRobot3': 'None', 'autoCommunity': {'B': ['None', 'None', 'None', 'None', 'None', 'None', 'None', 'None', 'None'], 'M': ['None', 'None', 'None', 'None', 'Cube', 'None', 'None', 'None', 'None'], 'T': ['Cone', 'None', 'None', 'None', 'None', 'None', 'None', 'None', 'Cone']}, 'autoDocked': False, 'autoGamePieceCount': 3, 'autoGamePiecePoints': 16, 'autoMobilityPoints': 9, 'autoPoints': 25, 'coopGamePieceCount': 6, 'coopertitionCriteriaMet': True, 'endGameBridgeState': 'NotLevel', 'endGameChargeStationPoints': 12, 'endGameChargeStationRobot1': 'Docked', 'endGameChargeStationRobot2': 'Docked', 'endGameChargeStationRobot3': 'Park', 'endGameParkPoints': 2, 'foulCount': 0, 'foulPoints': 0, 'linkPoints': 10, 'links': [{'nodes': [3, 4, 5], 'row': 'Bottom'}, {'nodes': [4, 5, 6], 'row': 'Top'}], 'mobilityRobot1': 'Yes', 'mobilityRobot2': 'Yes', 'mobilityRobot3': 'Yes', 'rp': 0, 'sustainabilityBonusAchieved': False, 'techFoulCount': 0, 'teleopCommunity': {'B': ['Cone', 'Cone', 'None', 'Cube', 'Cube', 'Cube', 'None', 'Cube', 'None'], 'M': ['None', 'None', 'None', 'None', 'Cube', 'None', 'None', 'None', 'None'], 'T': ['Cone', 'Cube', 'None', 'None', 'Cube', 'Cone', 'Cone', 'Cube', 'Cone']}, 'teleopGamePieceCount': 14, 'teleopGamePiecePoints': 37, 'teleopPoints': 51, 'totalChargeStationPoints': 12, 'totalPoints': 86}, 'red': {'activationBonusAchieved': True, 'adjustPoints': 0, 'autoBridgeState': 'Level', 'autoChargeStationPoints': 12, 'autoChargeStationRobot1': 'Docked', 'autoChargeStationRobot2': 'None', 'autoChargeStationRobot3': 'None', 'autoCommunity': {'B': ['None', 'None', 'None', 'None', 'None', 'None', 'None', 'None', 'None'], 'M': ['None', 'None', 'None', 'None', 'None', 'None', 'None', 'None', 'None'], 'T': ['None', 'None', 'None', 'None', 'None', 'Cone', 'None', 'Cube', 'None']}, 'autoDocked': True, 'autoGamePieceCount': 2, 'autoGamePiecePoints': 12, 'autoMobilityPoints': 6, 'autoPoints': 30, 'coopGamePieceCount': 5, 'coopertitionCriteriaMet': True, 'endGameBridgeState': 'Level', 'endGameChargeStationPoints': 30, 'endGameChargeStationRobot1': 'Docked', 'endGameChargeStationRobot2': 'Docked', 'endGameChargeStationRobot3': 'Docked', 'endGameParkPoints': 0, 'foulCount': 0, 'foulPoints': 0, 'linkPoints': 20, 'links': [{'nodes': [0, 1, 2], 'row': 'Bottom'}, {'nodes': [0, 1, 2], 'row': 'Top'}, {'nodes': [3, 4, 5], 'row': 'Top'}, {'nodes': [6, 7, 8], 'row': 'Top'}], 'mobilityRobot1': 'No', 'mobilityRobot2': 'Yes', 'mobilityRobot3': 'Yes', 'rp': 4, 'sustainabilityBonusAchieved': True, 'techFoulCount': 0, 'teleopCommunity': {'B': ['Cone', 'Cube', 'Cube', 'Cube', 'Cube', 'None', 'None', 'None', 'None'], 'M': ['None', 'None', 'None', 'None', 'None', 'None', 'None', 'None', 'None'], 'T': ['Cone', 'Cube', 'Cone', 'Cone', 'Cube', 'Cone', 'Cone', 'Cube', 'Cone']}, 'teleopGamePieceCount': 14, 'teleopGamePiecePoints': 45, 'teleopPoints': 75, 'totalChargeStationPoints': 42, 'totalPoints': 125}}, 'set_number': 1, 'time': 1680884400, 'videos': [{'key': '3uzkTaytP_k', 'type': 'youtube'}, {'key': '5jOR_WLmkCE', 'type': 'youtube'}], 'winning_alliance': 'red'}),\n",
       " Match({'actual_time': 1680876673, 'alliances': {'blue': {'dq_team_keys': [], 'score': 107, 'surrogate_team_keys': [], 'team_keys': ['frc4946', 'frc610', 'frc8729']}, 'red': {'dq_team_keys': [], 'score': 89, 'surrogate_team_keys': [], 'team_keys': ['frc4920', 'frc6378', 'frc7757']}}, 'comp_level': 'qm', 'event_key': '2023oncmp2', 'key': '2023oncmp2_qm57', 'match_number': 57, 'post_result_time': 1680876847, 'predicted_time': 1680891048, 'score_breakdown': {'blue': {'activationBonusAchieved': True, 'adjustPoints': 0, 'autoBridgeState': 'Level', 'autoChargeStationPoints': 12, 'autoChargeStationRobot1': 'None', 'autoChargeStationRobot2': 'Docked', 'autoChargeStationRobot3': 'None', 'autoCommunity': {'B': ['None', 'None', 'None', 'None', 'None', 'None', 'None', 'None', 'None'], 'M': ['None', 'Cube', 'None', 'None', 'None', 'None', 'None', 'None', 'None'], 'T': ['None', 'None', 'None', 'None', 'None', 'None', 'None', 'Cube', 'None']}, 'autoDocked': True, 'autoGamePieceCount': 2, 'autoGamePiecePoints': 10, 'autoMobilityPoints': 9, 'autoPoints': 31, 'coopGamePieceCount': 6, 'coopertitionCriteriaMet': True, 'endGameBridgeState': 'Level', 'endGameChargeStationPoints': 20, 'endGameChargeStationRobot1': 'None', 'endGameChargeStationRobot2': 'Docked', 'endGameChargeStationRobot3': 'Docked', 'endGameParkPoints': 0, 'foulCount': 0, 'foulPoints': 0, 'linkPoints': 15, 'links': [{'nodes': [4, 5, 6], 'row': 'Bottom'}, {'nodes': [3, 4, 5], 'row': 'Top'}, {'nodes': [6, 7, 8], 'row': 'Top'}], 'mobilityRobot1': 'Yes', 'mobilityRobot2': 'Yes', 'mobilityRobot3': 'Yes', 'rp': 3, 'sustainabilityBonusAchieved': False, 'techFoulCount': 0, 'teleopCommunity': {'B': ['Cube', 'None', 'None', 'None', 'Cube', 'Cone', 'Cone', 'Cube', 'None'], 'M': ['None', 'Cube', 'None', 'None', 'Cube', 'None', 'None', 'Cube', 'None'], 'T': ['None', 'None', 'None', 'Cone', 'Cube', 'Cone', 'Cone', 'Cube', 'Cone']}, 'teleopGamePieceCount': 14, 'teleopGamePiecePoints': 41, 'teleopPoints': 61, 'totalChargeStationPoints': 32, 'totalPoints': 107}, 'red': {'activationBonusAchieved': False, 'adjustPoints': 0, 'autoBridgeState': 'Level', 'autoChargeStationPoints': 0, 'autoChargeStationRobot1': 'None', 'autoChargeStationRobot2': 'None', 'autoChargeStationRobot3': 'None', 'autoCommunity': {'B': ['None', 'None', 'None', 'None', 'None', 'None', 'None', 'None', 'None'], 'M': ['None', 'None', 'None', 'None', 'None', 'None', 'None', 'None', 'None'], 'T': ['Cone', 'None', 'None', 'None', 'Cube', 'None', 'None', 'Cube', 'Cone']}, 'autoDocked': False, 'autoGamePieceCount': 4, 'autoGamePiecePoints': 24, 'autoMobilityPoints': 6, 'autoPoints': 30, 'coopGamePieceCount': 5, 'coopertitionCriteriaMet': True, 'endGameBridgeState': 'NotLevel', 'endGameChargeStationPoints': 6, 'endGameChargeStationRobot1': 'Docked', 'endGameChargeStationRobot2': 'Park', 'endGameChargeStationRobot3': 'Park', 'endGameParkPoints': 4, 'foulCount': 0, 'foulPoints': 0, 'linkPoints': 15, 'links': [{'nodes': [0, 1, 2], 'row': 'Top'}, {'nodes': [3, 4, 5], 'row': 'Top'}, {'nodes': [6, 7, 8], 'row': 'Top'}], 'mobilityRobot1': 'Yes', 'mobilityRobot2': 'Yes', 'mobilityRobot3': 'No', 'rp': 0, 'sustainabilityBonusAchieved': False, 'techFoulCount': 0, 'teleopCommunity': {'B': ['None', 'Cone', 'None', 'None', 'None', 'Cube', 'Cone', 'None', 'None'], 'M': ['None', 'None', 'None', 'None', 'Cube', 'None', 'None', 'None', 'None'], 'T': ['Cone', 'Cube', 'Cone', 'Cone', 'Cube', 'Cone', 'Cone', 'Cube', 'Cone']}, 'teleopGamePieceCount': 13, 'teleopGamePiecePoints': 34, 'teleopPoints': 44, 'totalChargeStationPoints': 6, 'totalPoints': 89}}, 'set_number': 1, 'time': 1680885000, 'videos': [{'key': 'KCh3dtlfUcQ', 'type': 'youtube'}, {'key': 'Uh9PxdN0aoI', 'type': 'youtube'}], 'winning_alliance': 'blue'}),\n",
       " Match({'actual_time': 1680877900, 'alliances': {'blue': {'dq_team_keys': [], 'score': 100, 'surrogate_team_keys': [], 'team_keys': ['frc7722', 'frc2706', 'frc2013']}, 'red': {'dq_team_keys': [], 'score': 137, 'surrogate_team_keys': [], 'team_keys': ['frc1285', 'frc4907', 'frc5596']}}, 'comp_level': 'qm', 'event_key': '2023oncmp2', 'key': '2023oncmp2_qm58', 'match_number': 58, 'post_result_time': 1680878076, 'predicted_time': 1680892244, 'score_breakdown': {'blue': {'activationBonusAchieved': False, 'adjustPoints': 0, 'autoBridgeState': 'Level', 'autoChargeStationPoints': 12, 'autoChargeStationRobot1': 'None', 'autoChargeStationRobot2': 'None', 'autoChargeStationRobot3': 'Docked', 'autoCommunity': {'B': ['Cube', 'None', 'None', 'None', 'None', 'None', 'None', 'None', 'None'], 'M': ['None', 'None', 'None', 'None', 'None', 'None', 'None', 'None', 'None'], 'T': ['None', 'None', 'None', 'None', 'None', 'None', 'None', 'Cube', 'None']}, 'autoDocked': True, 'autoGamePieceCount': 2, 'autoGamePiecePoints': 9, 'autoMobilityPoints': 9, 'autoPoints': 30, 'coopGamePieceCount': 5, 'coopertitionCriteriaMet': True, 'endGameBridgeState': 'NotLevel', 'endGameChargeStationPoints': 6, 'endGameChargeStationRobot1': 'None', 'endGameChargeStationRobot2': 'Docked', 'endGameChargeStationRobot3': 'Park', 'endGameParkPoints': 2, 'foulCount': 1, 'foulPoints': 0, 'linkPoints': 15, 'links': [{'nodes': [0, 1, 2], 'row': 'Top'}, {'nodes': [3, 4, 5], 'row': 'Top'}, {'nodes': [6, 7, 8], 'row': 'Top'}], 'mobilityRobot1': 'Yes', 'mobilityRobot2': 'Yes', 'mobilityRobot3': 'Yes', 'rp': 0, 'sustainabilityBonusAchieved': False, 'techFoulCount': 0, 'teleopCommunity': {'B': ['Cube', 'Cube', 'None', 'Cone', 'None', 'None', 'None', 'None', 'None'], 'M': ['None', 'None', 'None', 'Cone', 'None', 'None', 'None', 'None', 'None'], 'T': ['Cone', 'Cube', 'Cone', 'Cone', 'Cube', 'Cone', 'Cone', 'Cube', 'Cone']}, 'teleopGamePieceCount': 13, 'teleopGamePiecePoints': 47, 'teleopPoints': 55, 'totalChargeStationPoints': 18, 'totalPoints': 100}, 'red': {'activationBonusAchieved': True, 'adjustPoints': 0, 'autoBridgeState': 'NotLevel', 'autoChargeStationPoints': 0, 'autoChargeStationRobot1': 'None', 'autoChargeStationRobot2': 'None', 'autoChargeStationRobot3': 'None', 'autoCommunity': {'B': ['None', 'None', 'None', 'None', 'None', 'None', 'None', 'None', 'None'], 'M': ['None', 'None', 'None', 'None', 'None', 'None', 'None', 'None', 'None'], 'T': ['Cone', 'Cube', 'None', 'Cone', 'None', 'None', 'None', 'Cube', 'None']}, 'autoDocked': False, 'autoGamePieceCount': 4, 'autoGamePiecePoints': 24, 'autoMobilityPoints': 6, 'autoPoints': 30, 'coopGamePieceCount': 8, 'coopertitionCriteriaMet': True, 'endGameBridgeState': 'Level', 'endGameChargeStationPoints': 30, 'endGameChargeStationRobot1': 'Docked', 'endGameChargeStationRobot2': 'Docked', 'endGameChargeStationRobot3': 'Docked', 'endGameParkPoints': 0, 'foulCount': 0, 'foulPoints': 5, 'linkPoints': 25, 'links': [{'nodes': [0, 1, 2], 'row': 'Bottom'}, {'nodes': [3, 4, 5], 'row': 'Bottom'}, {'nodes': [0, 1, 2], 'row': 'Top'}, {'nodes': [3, 4, 5], 'row': 'Top'}, {'nodes': [6, 7, 8], 'row': 'Top'}], 'mobilityRobot1': 'Yes', 'mobilityRobot2': 'Yes', 'mobilityRobot3': 'No', 'rp': 4, 'sustainabilityBonusAchieved': True, 'techFoulCount': 0, 'teleopCommunity': {'B': ['Cube', 'Cube', 'Cone', 'Cone', 'Cube', 'Cube', 'Cone', 'Cube', 'None'], 'M': ['None', 'None', 'None', 'Cone', 'None', 'Cone', 'None', 'None', 'None'], 'T': ['Cone', 'Cube', 'Cone', 'Cone', 'Cube', 'Cone', 'Cone', 'Cube', 'Cone']}, 'teleopGamePieceCount': 19, 'teleopGamePiecePoints': 47, 'teleopPoints': 77, 'totalChargeStationPoints': 30, 'totalPoints': 137}}, 'set_number': 1, 'time': 1680885600, 'videos': [{'key': '9QpEvLvmqto', 'type': 'youtube'}, {'key': 'MRjqYjF9_sw', 'type': 'youtube'}], 'winning_alliance': 'red'}),\n",
       " Match({'actual_time': 1680878528, 'alliances': {'blue': {'dq_team_keys': [], 'score': 156, 'surrogate_team_keys': [], 'team_keys': ['frc4069', 'frc4678', 'frc6864']}, 'red': {'dq_team_keys': [], 'score': 120, 'surrogate_team_keys': [], 'team_keys': ['frc6865', 'frc7476', 'frc1114']}}, 'comp_level': 'qm', 'event_key': '2023oncmp2', 'key': '2023oncmp2_qm59', 'match_number': 59, 'post_result_time': 1680878701, 'predicted_time': 1680892937, 'score_breakdown': {'blue': {'activationBonusAchieved': True, 'adjustPoints': 0, 'autoBridgeState': 'Level', 'autoChargeStationPoints': 12, 'autoChargeStationRobot1': 'None', 'autoChargeStationRobot2': 'Docked', 'autoChargeStationRobot3': 'None', 'autoCommunity': {'B': ['None', 'None', 'None', 'None', 'None', 'None', 'None', 'None', 'None'], 'M': ['None', 'None', 'None', 'None', 'Cube', 'None', 'None', 'None', 'None'], 'T': ['Cone', 'Cube', 'None', 'None', 'None', 'None', 'None', 'Cube', 'Cone']}, 'autoDocked': True, 'autoGamePieceCount': 5, 'autoGamePiecePoints': 28, 'autoMobilityPoints': 6, 'autoPoints': 46, 'coopGamePieceCount': 7, 'coopertitionCriteriaMet': True, 'endGameBridgeState': 'Level', 'endGameChargeStationPoints': 20, 'endGameChargeStationRobot1': 'Docked', 'endGameChargeStationRobot2': 'Park', 'endGameChargeStationRobot3': 'Docked', 'endGameParkPoints': 2, 'foulCount': 2, 'foulPoints': 5, 'linkPoints': 30, 'links': [{'nodes': [0, 1, 2], 'row': 'Mid'}, {'nodes': [3, 4, 5], 'row': 'Mid'}, {'nodes': [6, 7, 8], 'row': 'Mid'}, {'nodes': [0, 1, 2], 'row': 'Top'}, {'nodes': [3, 4, 5], 'row': 'Top'}, {'nodes': [6, 7, 8], 'row': 'Top'}], 'mobilityRobot1': 'Yes', 'mobilityRobot2': 'Yes', 'mobilityRobot3': 'No', 'rp': 4, 'sustainabilityBonusAchieved': True, 'techFoulCount': 0, 'teleopCommunity': {'B': ['None', 'None', 'None', 'None', 'None', 'Cube', 'Cube', 'None', 'None'], 'M': ['Cone', 'Cube', 'Cone', 'Cone', 'Cube', 'Cone', 'Cone', 'Cube', 'Cone'], 'T': ['Cone', 'Cube', 'Cone', 'Cone', 'Cube', 'Cone', 'Cone', 'Cube', 'Cone']}, 'teleopGamePieceCount': 20, 'teleopGamePiecePoints': 53, 'teleopPoints': 75, 'totalChargeStationPoints': 32, 'totalPoints': 156}, 'red': {'activationBonusAchieved': False, 'adjustPoints': 0, 'autoBridgeState': 'Level', 'autoChargeStationPoints': 12, 'autoChargeStationRobot1': 'Docked', 'autoChargeStationRobot2': 'None', 'autoChargeStationRobot3': 'None', 'autoCommunity': {'B': ['None', 'None', 'None', 'None', 'None', 'None', 'None', 'None', 'None'], 'M': ['None', 'None', 'None', 'None', 'None', 'None', 'None', 'None', 'None'], 'T': ['Cone', 'None', 'None', 'None', 'Cube', 'None', 'None', 'Cube', 'None']}, 'autoDocked': True, 'autoGamePieceCount': 3, 'autoGamePiecePoints': 18, 'autoMobilityPoints': 6, 'autoPoints': 36, 'coopGamePieceCount': 6, 'coopertitionCriteriaMet': True, 'endGameBridgeState': 'NotLevel', 'endGameChargeStationPoints': 0, 'endGameChargeStationRobot1': 'None', 'endGameChargeStationRobot2': 'Park', 'endGameChargeStationRobot3': 'Park', 'endGameParkPoints': 4, 'foulCount': 1, 'foulPoints': 10, 'linkPoints': 20, 'links': [{'nodes': [0, 1, 2], 'row': 'Bottom'}, {'nodes': [0, 1, 2], 'row': 'Top'}, {'nodes': [3, 4, 5], 'row': 'Top'}, {'nodes': [6, 7, 8], 'row': 'Top'}], 'mobilityRobot1': 'No', 'mobilityRobot2': 'Yes', 'mobilityRobot3': 'Yes', 'rp': 1, 'sustainabilityBonusAchieved': True, 'techFoulCount': 0, 'teleopCommunity': {'B': ['Cube', 'Cube', 'Cube', 'None', 'Cube', 'Cube', 'None', 'Cube', 'Cube'], 'M': ['None', 'Cube', 'None', 'None', 'None', 'Cone', 'None', 'None', 'None'], 'T': ['Cone', 'Cube', 'Cone', 'Cone', 'Cube', 'Cone', 'Cone', 'Cube', 'Cone']}, 'teleopGamePieceCount': 18, 'teleopGamePiecePoints': 50, 'teleopPoints': 54, 'totalChargeStationPoints': 12, 'totalPoints': 120}}, 'set_number': 1, 'time': 1680886200, 'videos': [{'key': 'i93Mnah7SGk', 'type': 'youtube'}, {'key': 'nmxoXCB1zxA', 'type': 'youtube'}], 'winning_alliance': 'blue'}),\n",
       " Match({'actual_time': 1680782746, 'alliances': {'blue': {'dq_team_keys': [], 'score': 139, 'surrogate_team_keys': [], 'team_keys': ['frc610', 'frc4688', 'frc4917']}, 'red': {'dq_team_keys': [], 'score': 146, 'surrogate_team_keys': [], 'team_keys': ['frc4946', 'frc7476', 'frc4903']}}, 'comp_level': 'qm', 'event_key': '2023oncmp2', 'key': '2023oncmp2_qm6', 'match_number': 6, 'post_result_time': 1680782920, 'predicted_time': 1680797236, 'score_breakdown': {'blue': {'activationBonusAchieved': True, 'adjustPoints': 0, 'autoBridgeState': 'NotLevel', 'autoChargeStationPoints': 0, 'autoChargeStationRobot1': 'None', 'autoChargeStationRobot2': 'None', 'autoChargeStationRobot3': 'None', 'autoCommunity': {'B': ['None', 'None', 'None', 'None', 'None', 'Cone', 'None', 'None', 'None'], 'M': ['None', 'None', 'None', 'None', 'None', 'None', 'None', 'None', 'None'], 'T': ['None', 'Cube', 'None', 'None', 'None', 'None', 'None', 'None', 'Cone']}, 'autoDocked': False, 'autoGamePieceCount': 3, 'autoGamePiecePoints': 15, 'autoMobilityPoints': 6, 'autoPoints': 21, 'coopGamePieceCount': 6, 'coopertitionCriteriaMet': True, 'endGameBridgeState': 'Level', 'endGameChargeStationPoints': 30, 'endGameChargeStationRobot1': 'Docked', 'endGameChargeStationRobot2': 'Docked', 'endGameChargeStationRobot3': 'Docked', 'endGameParkPoints': 0, 'foulCount': 0, 'foulPoints': 5, 'linkPoints': 25, 'links': [{'nodes': [4, 5, 6], 'row': 'Bottom'}, {'nodes': [0, 1, 2], 'row': 'Mid'}, {'nodes': [0, 1, 2], 'row': 'Top'}, {'nodes': [3, 4, 5], 'row': 'Top'}, {'nodes': [6, 7, 8], 'row': 'Top'}], 'mobilityRobot1': 'Yes', 'mobilityRobot2': 'Yes', 'mobilityRobot3': 'No', 'rp': 2, 'sustainabilityBonusAchieved': True, 'techFoulCount': 0, 'teleopCommunity': {'B': ['None', 'None', 'None', 'None', 'Cube', 'Cone', 'Cube', 'Cube', 'Cube'], 'M': ['Cone', 'Cube', 'Cone', 'None', 'Cube', 'None', 'None', 'Cube', 'None'], 'T': ['Cone', 'Cube', 'Cone', 'Cone', 'Cube', 'Cone', 'Cone', 'Cube', 'Cone']}, 'teleopGamePieceCount': 19, 'teleopGamePiecePoints': 58, 'teleopPoints': 88, 'totalChargeStationPoints': 30, 'totalPoints': 139}, 'red': {'activationBonusAchieved': True, 'adjustPoints': 0, 'autoBridgeState': 'NotLevel', 'autoChargeStationPoints': 8, 'autoChargeStationRobot1': 'None', 'autoChargeStationRobot2': 'None', 'autoChargeStationRobot3': 'Docked', 'autoCommunity': {'B': ['None', 'None', 'None', 'None', 'None', 'None', 'None', 'None', 'None'], 'M': ['None', 'None', 'None', 'None', 'None', 'None', 'None', 'Cube', 'None'], 'T': ['None', 'Cube', 'None', 'None', 'Cube', 'None', 'None', 'Cube', 'None']}, 'autoDocked': True, 'autoGamePieceCount': 4, 'autoGamePiecePoints': 22, 'autoMobilityPoints': 9, 'autoPoints': 39, 'coopGamePieceCount': 7, 'coopertitionCriteriaMet': True, 'endGameBridgeState': 'Level', 'endGameChargeStationPoints': 30, 'endGameChargeStationRobot1': 'Docked', 'endGameChargeStationRobot2': 'Docked', 'endGameChargeStationRobot3': 'Docked', 'endGameParkPoints': 0, 'foulCount': 1, 'foulPoints': 0, 'linkPoints': 25, 'links': [{'nodes': [2, 3, 4], 'row': 'Bottom'}, {'nodes': [6, 7, 8], 'row': 'Mid'}, {'nodes': [0, 1, 2], 'row': 'Top'}, {'nodes': [3, 4, 5], 'row': 'Top'}, {'nodes': [6, 7, 8], 'row': 'Top'}], 'mobilityRobot1': 'Yes', 'mobilityRobot2': 'Yes', 'mobilityRobot3': 'Yes', 'rp': 4, 'sustainabilityBonusAchieved': True, 'techFoulCount': 0, 'teleopCommunity': {'B': ['None', 'None', 'Cube', 'Cone', 'Cone', 'None', 'Cone', 'Cube', 'None'], 'M': ['None', 'None', 'None', 'Cone', 'Cube', 'None', 'Cone', 'Cube', 'Cone'], 'T': ['Cone', 'Cube', 'Cone', 'Cone', 'Cube', 'Cone', 'Cone', 'Cube', 'Cone']}, 'teleopGamePieceCount': 19, 'teleopGamePiecePoints': 52, 'teleopPoints': 82, 'totalChargeStationPoints': 38, 'totalPoints': 146}}, 'set_number': 1, 'time': 1680796200, 'videos': [{'key': 'cFFz9h8VdYg', 'type': 'youtube'}, {'key': 'pkTUM_c9-KE', 'type': 'youtube'}], 'winning_alliance': 'red'}),\n",
       " Match({'actual_time': 1680879063, 'alliances': {'blue': {'dq_team_keys': [], 'score': 133, 'surrogate_team_keys': [], 'team_keys': ['frc2708', 'frc3739', 'frc1325']}, 'red': {'dq_team_keys': [], 'score': 100, 'surrogate_team_keys': [], 'team_keys': ['frc4688', 'frc6987', 'frc2609']}}, 'comp_level': 'qm', 'event_key': '2023oncmp2', 'key': '2023oncmp2_qm60', 'match_number': 60, 'post_result_time': 1680879249, 'predicted_time': 1680893504, 'score_breakdown': {'blue': {'activationBonusAchieved': True, 'adjustPoints': 0, 'autoBridgeState': 'NotLevel', 'autoChargeStationPoints': 8, 'autoChargeStationRobot1': 'None', 'autoChargeStationRobot2': 'Docked', 'autoChargeStationRobot3': 'None', 'autoCommunity': {'B': ['None', 'None', 'None', 'None', 'None', 'None', 'None', 'None', 'None'], 'M': ['None', 'None', 'None', 'None', 'Cube', 'None', 'None', 'None', 'None'], 'T': ['None', 'Cube', 'None', 'None', 'None', 'None', 'None', 'Cube', 'Cone']}, 'autoDocked': True, 'autoGamePieceCount': 4, 'autoGamePiecePoints': 22, 'autoMobilityPoints': 6, 'autoPoints': 36, 'coopGamePieceCount': 7, 'coopertitionCriteriaMet': True, 'endGameBridgeState': 'Level', 'endGameChargeStationPoints': 20, 'endGameChargeStationRobot1': 'None', 'endGameChargeStationRobot2': 'Docked', 'endGameChargeStationRobot3': 'Docked', 'endGameParkPoints': 0, 'foulCount': 0, 'foulPoints': 0, 'linkPoints': 25, 'links': [{'nodes': [3, 4, 5], 'row': 'Mid'}, {'nodes': [6, 7, 8], 'row': 'Mid'}, {'nodes': [0, 1, 2], 'row': 'Top'}, {'nodes': [3, 4, 5], 'row': 'Top'}, {'nodes': [6, 7, 8], 'row': 'Top'}], 'mobilityRobot1': 'Yes', 'mobilityRobot2': 'No', 'mobilityRobot3': 'Yes', 'rp': 4, 'sustainabilityBonusAchieved': True, 'techFoulCount': 0, 'teleopCommunity': {'B': ['Cone', 'None', 'None', 'None', 'None', 'Cube', 'None', 'None', 'None'], 'M': ['Cone', 'None', 'None', 'Cone', 'Cube', 'Cone', 'Cone', 'Cube', 'Cone'], 'T': ['Cone', 'Cube', 'Cone', 'Cone', 'Cube', 'Cone', 'Cone', 'Cube', 'Cone']}, 'teleopGamePieceCount': 18, 'teleopGamePiecePoints': 52, 'teleopPoints': 72, 'totalChargeStationPoints': 28, 'totalPoints': 133}, 'red': {'activationBonusAchieved': False, 'adjustPoints': 0, 'autoBridgeState': 'Level', 'autoChargeStationPoints': 0, 'autoChargeStationRobot1': 'None', 'autoChargeStationRobot2': 'None', 'autoChargeStationRobot3': 'None', 'autoCommunity': {'B': ['None', 'None', 'None', 'None', 'None', 'None', 'None', 'None', 'None'], 'M': ['None', 'None', 'None', 'None', 'None', 'None', 'None', 'None', 'None'], 'T': ['None', 'Cube', 'None', 'None', 'None', 'Cone', 'None', 'None', 'None']}, 'autoDocked': False, 'autoGamePieceCount': 2, 'autoGamePiecePoints': 12, 'autoMobilityPoints': 6, 'autoPoints': 18, 'coopGamePieceCount': 5, 'coopertitionCriteriaMet': True, 'endGameBridgeState': 'NotLevel', 'endGameChargeStationPoints': 12, 'endGameChargeStationRobot1': 'Docked', 'endGameChargeStationRobot2': 'None', 'endGameChargeStationRobot3': 'Docked', 'endGameParkPoints': 0, 'foulCount': 0, 'foulPoints': 0, 'linkPoints': 20, 'links': [{'nodes': [0, 1, 2], 'row': 'Mid'}, {'nodes': [0, 1, 2], 'row': 'Top'}, {'nodes': [3, 4, 5], 'row': 'Top'}, {'nodes': [6, 7, 8], 'row': 'Top'}], 'mobilityRobot1': 'Yes', 'mobilityRobot2': 'Yes', 'mobilityRobot3': 'No', 'rp': 1, 'sustainabilityBonusAchieved': True, 'techFoulCount': 0, 'teleopCommunity': {'B': ['None', 'None', 'None', 'None', 'None', 'None', 'None', 'None', 'None'], 'M': ['Cone', 'Cube', 'Cone', 'Cone', 'Cube', 'None', 'None', 'None', 'None'], 'T': ['Cone', 'Cube', 'Cone', 'Cone', 'Cube', 'Cone', 'Cone', 'Cube', 'Cone']}, 'teleopGamePieceCount': 14, 'teleopGamePiecePoints': 50, 'teleopPoints': 62, 'totalChargeStationPoints': 12, 'totalPoints': 100}}, 'set_number': 1, 'time': 1680890400, 'videos': [{'key': 'QwuHxh6GlQE', 'type': 'youtube'}, {'key': 'T4BSiycHCkc', 'type': 'youtube'}], 'winning_alliance': 'blue'}),\n",
       " Match({'actual_time': 1680879863, 'alliances': {'blue': {'dq_team_keys': [], 'score': 164, 'surrogate_team_keys': [], 'team_keys': ['frc1310', 'frc4946', 'frc4039']}, 'red': {'dq_team_keys': [], 'score': 108, 'surrogate_team_keys': [], 'team_keys': ['frc5024', 'frc2386', 'frc5870']}}, 'comp_level': 'qm', 'event_key': '2023oncmp2', 'key': '2023oncmp2_qm61', 'match_number': 61, 'post_result_time': 1680880032, 'predicted_time': 1680894250, 'score_breakdown': {'blue': {'activationBonusAchieved': True, 'adjustPoints': 0, 'autoBridgeState': 'Level', 'autoChargeStationPoints': 12, 'autoChargeStationRobot1': 'None', 'autoChargeStationRobot2': 'None', 'autoChargeStationRobot3': 'Docked', 'autoCommunity': {'B': ['None', 'None', 'None', 'None', 'None', 'None', 'None', 'None', 'None'], 'M': ['None', 'Cube', 'None', 'None', 'None', 'None', 'None', 'None', 'None'], 'T': ['None', 'Cube', 'None', 'None', 'Cube', 'None', 'None', 'Cube', 'Cone']}, 'autoDocked': True, 'autoGamePieceCount': 5, 'autoGamePiecePoints': 28, 'autoMobilityPoints': 9, 'autoPoints': 49, 'coopGamePieceCount': 8, 'coopertitionCriteriaMet': True, 'endGameBridgeState': 'Level', 'endGameChargeStationPoints': 20, 'endGameChargeStationRobot1': 'Docked', 'endGameChargeStationRobot2': 'None', 'endGameChargeStationRobot3': 'Docked', 'endGameParkPoints': 0, 'foulCount': 1, 'foulPoints': 10, 'linkPoints': 30, 'links': [{'nodes': [0, 1, 2], 'row': 'Mid'}, {'nodes': [3, 4, 5], 'row': 'Mid'}, {'nodes': [6, 7, 8], 'row': 'Mid'}, {'nodes': [0, 1, 2], 'row': 'Top'}, {'nodes': [3, 4, 5], 'row': 'Top'}, {'nodes': [6, 7, 8], 'row': 'Top'}], 'mobilityRobot1': 'Yes', 'mobilityRobot2': 'Yes', 'mobilityRobot3': 'Yes', 'rp': 4, 'sustainabilityBonusAchieved': True, 'techFoulCount': 0, 'teleopCommunity': {'B': ['None', 'Cube', 'None', 'Cone', 'Cube', 'None', 'None', 'None', 'None'], 'M': ['Cone', 'Cube', 'Cone', 'Cone', 'Cube', 'Cone', 'Cone', 'Cube', 'Cone'], 'T': ['Cone', 'Cube', 'Cone', 'Cone', 'Cube', 'Cone', 'Cone', 'Cube', 'Cone']}, 'teleopGamePieceCount': 21, 'teleopGamePiecePoints': 55, 'teleopPoints': 75, 'totalChargeStationPoints': 32, 'totalPoints': 164}, 'red': {'activationBonusAchieved': True, 'adjustPoints': 0, 'autoBridgeState': 'Level', 'autoChargeStationPoints': 12, 'autoChargeStationRobot1': 'Docked', 'autoChargeStationRobot2': 'None', 'autoChargeStationRobot3': 'None', 'autoCommunity': {'B': ['None', 'None', 'None', 'None', 'None', 'None', 'Cube', 'None', 'None'], 'M': ['None', 'Cube', 'None', 'None', 'Cube', 'None', 'None', 'None', 'None'], 'T': ['None', 'None', 'None', 'None', 'None', 'None', 'None', 'None', 'None']}, 'autoDocked': True, 'autoGamePieceCount': 3, 'autoGamePiecePoints': 11, 'autoMobilityPoints': 9, 'autoPoints': 32, 'coopGamePieceCount': 6, 'coopertitionCriteriaMet': True, 'endGameBridgeState': 'Level', 'endGameChargeStationPoints': 20, 'endGameChargeStationRobot1': 'Park', 'endGameChargeStationRobot2': 'Docked', 'endGameChargeStationRobot3': 'Docked', 'endGameParkPoints': 2, 'foulCount': 2, 'foulPoints': 5, 'linkPoints': 20, 'links': [{'nodes': [3, 4, 5], 'row': 'Bottom'}, {'nodes': [0, 1, 2], 'row': 'Mid'}, {'nodes': [3, 4, 5], 'row': 'Mid'}, {'nodes': [6, 7, 8], 'row': 'Mid'}], 'mobilityRobot1': 'Yes', 'mobilityRobot2': 'Yes', 'mobilityRobot3': 'Yes', 'rp': 2, 'sustainabilityBonusAchieved': True, 'techFoulCount': 0, 'teleopCommunity': {'B': ['None', 'None', 'None', 'Cube', 'Cube', 'Cone', 'Cube', 'Cube', 'None'], 'M': ['Cone', 'Cube', 'Cone', 'Cone', 'Cube', 'Cone', 'Cone', 'Cube', 'Cone'], 'T': ['None', 'None', 'None', 'None', 'None', 'None', 'None', 'None', 'None']}, 'teleopGamePieceCount': 14, 'teleopGamePiecePoints': 29, 'teleopPoints': 51, 'totalChargeStationPoints': 32, 'totalPoints': 108}}, 'set_number': 1, 'time': 1680891000, 'videos': [{'key': 'uw5t_Gj2baQ', 'type': 'youtube'}, {'key': '6UWVAkOQ9Pg', 'type': 'youtube'}], 'winning_alliance': 'blue'}),\n",
       " Match({'actual_time': 1680880413, 'alliances': {'blue': {'dq_team_keys': [], 'score': 132, 'surrogate_team_keys': [], 'team_keys': ['frc8764', 'frc7757', 'frc610']}, 'red': {'dq_team_keys': [], 'score': 89, 'surrogate_team_keys': [], 'team_keys': ['frc7722', 'frc1334', 'frc5596']}}, 'comp_level': 'qm', 'event_key': '2023oncmp2', 'key': '2023oncmp2_qm62', 'match_number': 62, 'post_result_time': 1680880593, 'predicted_time': 1680894747, 'score_breakdown': {'blue': {'activationBonusAchieved': False, 'adjustPoints': 0, 'autoBridgeState': 'Level', 'autoChargeStationPoints': 12, 'autoChargeStationRobot1': 'None', 'autoChargeStationRobot2': 'None', 'autoChargeStationRobot3': 'Docked', 'autoCommunity': {'B': ['None', 'None', 'None', 'None', 'None', 'None', 'None', 'None', 'None'], 'M': ['None', 'None', 'None', 'None', 'None', 'None', 'None', 'None', 'None'], 'T': ['None', 'Cube', 'None', 'None', 'Cube', 'None', 'None', 'Cube', 'None']}, 'autoDocked': True, 'autoGamePieceCount': 3, 'autoGamePiecePoints': 18, 'autoMobilityPoints': 9, 'autoPoints': 39, 'coopGamePieceCount': 7, 'coopertitionCriteriaMet': True, 'endGameBridgeState': 'NotLevel', 'endGameChargeStationPoints': 0, 'endGameChargeStationRobot1': 'Park', 'endGameChargeStationRobot2': 'Park', 'endGameChargeStationRobot3': 'Park', 'endGameParkPoints': 6, 'foulCount': 0, 'foulPoints': 10, 'linkPoints': 25, 'links': [{'nodes': [0, 1, 2], 'row': 'Bottom'}, {'nodes': [5, 6, 7], 'row': 'Bottom'}, {'nodes': [0, 1, 2], 'row': 'Top'}, {'nodes': [3, 4, 5], 'row': 'Top'}, {'nodes': [6, 7, 8], 'row': 'Top'}], 'mobilityRobot1': 'Yes', 'mobilityRobot2': 'Yes', 'mobilityRobot3': 'Yes', 'rp': 3, 'sustainabilityBonusAchieved': True, 'techFoulCount': 0, 'teleopCommunity': {'B': ['Cube', 'Cube', 'Cube', 'Cube', 'None', 'Cube', 'Cube', 'Cube', 'Cube'], 'M': ['None', 'None', 'None', 'Cone', 'Cube', 'None', 'None', 'None', 'None'], 'T': ['Cone', 'Cube', 'Cone', 'Cone', 'Cube', 'Cone', 'Cone', 'Cube', 'Cone']}, 'teleopGamePieceCount': 19, 'teleopGamePiecePoints': 52, 'teleopPoints': 58, 'totalChargeStationPoints': 12, 'totalPoints': 132}, 'red': {'activationBonusAchieved': True, 'adjustPoints': 0, 'autoBridgeState': 'Level', 'autoChargeStationPoints': 12, 'autoChargeStationRobot1': 'None', 'autoChargeStationRobot2': 'None', 'autoChargeStationRobot3': 'Docked', 'autoCommunity': {'B': ['None', 'None', 'None', 'None', 'None', 'None', 'None', 'None', 'Cube'], 'M': ['Cone', 'None', 'None', 'None', 'Cube', 'None', 'None', 'None', 'None'], 'T': ['None', 'None', 'None', 'None', 'None', 'None', 'None', 'None', 'None']}, 'autoDocked': True, 'autoGamePieceCount': 3, 'autoGamePiecePoints': 11, 'autoMobilityPoints': 9, 'autoPoints': 32, 'coopGamePieceCount': 5, 'coopertitionCriteriaMet': True, 'endGameBridgeState': 'Level', 'endGameChargeStationPoints': 20, 'endGameChargeStationRobot1': 'Docked', 'endGameChargeStationRobot2': 'Docked', 'endGameChargeStationRobot3': 'None', 'endGameParkPoints': 0, 'foulCount': 2, 'foulPoints': 0, 'linkPoints': 15, 'links': [{'nodes': [0, 1, 2], 'row': 'Bottom'}, {'nodes': [3, 4, 5], 'row': 'Bottom'}, {'nodes': [6, 7, 8], 'row': 'Bottom'}], 'mobilityRobot1': 'Yes', 'mobilityRobot2': 'Yes', 'mobilityRobot3': 'Yes', 'rp': 1, 'sustainabilityBonusAchieved': False, 'techFoulCount': 0, 'teleopCommunity': {'B': ['Cube', 'Cube', 'Cube', 'Cube', 'Cube', 'Cone', 'Cube', 'Cube', 'Cube'], 'M': ['Cone', 'Cube', 'None', 'None', 'Cube', 'Cone', 'None', 'None', 'None'], 'T': ['None', 'None', 'None', 'None', 'None', 'None', 'None', 'None', 'None']}, 'teleopGamePieceCount': 13, 'teleopGamePiecePoints': 22, 'teleopPoints': 42, 'totalChargeStationPoints': 32, 'totalPoints': 89}}, 'set_number': 1, 'time': 1680891600, 'videos': [{'key': 'dne3bpQ1_AQ', 'type': 'youtube'}, {'key': '4t5lcsvybzs', 'type': 'youtube'}], 'winning_alliance': 'blue'}),\n",
       " Match({'actual_time': 1680880950, 'alliances': {'blue': {'dq_team_keys': [], 'score': 122, 'surrogate_team_keys': [], 'team_keys': ['frc6378', 'frc1285', 'frc2706']}, 'red': {'dq_team_keys': [], 'score': 139, 'surrogate_team_keys': [], 'team_keys': ['frc4903', 'frc5036', 'frc4678']}}, 'comp_level': 'qm', 'event_key': '2023oncmp2', 'key': '2023oncmp2_qm63', 'match_number': 63, 'post_result_time': 1680881124, 'predicted_time': 1680895364, 'score_breakdown': {'blue': {'activationBonusAchieved': True, 'adjustPoints': 0, 'autoBridgeState': 'Level', 'autoChargeStationPoints': 12, 'autoChargeStationRobot1': 'None', 'autoChargeStationRobot2': 'Docked', 'autoChargeStationRobot3': 'None', 'autoCommunity': {'B': ['None', 'None', 'None', 'None', 'None', 'Cube', 'None', 'None', 'None'], 'M': ['None', 'None', 'None', 'None', 'None', 'None', 'None', 'None', 'None'], 'T': ['Cone', 'None', 'None', 'None', 'None', 'Cone', 'None', 'Cube', 'None']}, 'autoDocked': True, 'autoGamePieceCount': 4, 'autoGamePiecePoints': 21, 'autoMobilityPoints': 6, 'autoPoints': 39, 'coopGamePieceCount': 6, 'coopertitionCriteriaMet': True, 'endGameBridgeState': 'Level', 'endGameChargeStationPoints': 20, 'endGameChargeStationRobot1': 'Park', 'endGameChargeStationRobot2': 'Docked', 'endGameChargeStationRobot3': 'Docked', 'endGameParkPoints': 2, 'foulCount': 1, 'foulPoints': 0, 'linkPoints': 20, 'links': [{'nodes': [2, 3, 4], 'row': 'Bottom'}, {'nodes': [0, 1, 2], 'row': 'Top'}, {'nodes': [3, 4, 5], 'row': 'Top'}, {'nodes': [6, 7, 8], 'row': 'Top'}], 'mobilityRobot1': 'No', 'mobilityRobot2': 'Yes', 'mobilityRobot3': 'Yes', 'rp': 2, 'sustainabilityBonusAchieved': True, 'techFoulCount': 0, 'teleopCommunity': {'B': ['Cube', 'None', 'Cube', 'Cube', 'Cube', 'Cube', 'None', 'None', 'None'], 'M': ['None', 'None', 'None', 'None', 'None', 'None', 'Cone', 'None', 'None'], 'T': ['Cone', 'Cube', 'Cone', 'Cone', 'Cube', 'Cone', 'Cone', 'Cube', 'Cone']}, 'teleopGamePieceCount': 15, 'teleopGamePiecePoints': 41, 'teleopPoints': 63, 'totalChargeStationPoints': 32, 'totalPoints': 122}, 'red': {'activationBonusAchieved': False, 'adjustPoints': 0, 'autoBridgeState': 'Level', 'autoChargeStationPoints': 12, 'autoChargeStationRobot1': 'Docked', 'autoChargeStationRobot2': 'None', 'autoChargeStationRobot3': 'None', 'autoCommunity': {'B': ['None', 'None', 'None', 'None', 'None', 'None', 'None', 'None', 'None'], 'M': ['None', 'None', 'None', 'None', 'None', 'None', 'None', 'None', 'None'], 'T': ['Cone', 'Cube', 'Cone', 'None', 'Cube', 'None', 'None', 'Cube', 'None']}, 'autoDocked': True, 'autoGamePieceCount': 5, 'autoGamePiecePoints': 30, 'autoMobilityPoints': 9, 'autoPoints': 51, 'coopGamePieceCount': 6, 'coopertitionCriteriaMet': True, 'endGameBridgeState': 'NotLevel', 'endGameChargeStationPoints': 6, 'endGameChargeStationRobot1': 'None', 'endGameChargeStationRobot2': 'None', 'endGameChargeStationRobot3': 'Docked', 'endGameParkPoints': 0, 'foulCount': 0, 'foulPoints': 5, 'linkPoints': 30, 'links': [{'nodes': [0, 1, 2], 'row': 'Mid'}, {'nodes': [3, 4, 5], 'row': 'Mid'}, {'nodes': [6, 7, 8], 'row': 'Mid'}, {'nodes': [0, 1, 2], 'row': 'Top'}, {'nodes': [3, 4, 5], 'row': 'Top'}, {'nodes': [6, 7, 8], 'row': 'Top'}], 'mobilityRobot1': 'Yes', 'mobilityRobot2': 'Yes', 'mobilityRobot3': 'Yes', 'rp': 3, 'sustainabilityBonusAchieved': True, 'techFoulCount': 0, 'teleopCommunity': {'B': ['None', 'None', 'None', 'None', 'None', 'None', 'None', 'None', 'None'], 'M': ['Cone', 'Cube', 'Cone', 'Cone', 'Cube', 'Cone', 'Cone', 'Cube', 'Cone'], 'T': ['Cone', 'Cube', 'Cone', 'Cone', 'Cube', 'Cone', 'Cone', 'Cube', 'Cone']}, 'teleopGamePieceCount': 18, 'teleopGamePiecePoints': 47, 'teleopPoints': 53, 'totalChargeStationPoints': 18, 'totalPoints': 139}}, 'set_number': 1, 'time': 1680892200, 'videos': [{'key': 'lkLdTy8eEcg', 'type': 'youtube'}, {'key': 'DLk8bh2ApJY', 'type': 'youtube'}], 'winning_alliance': 'red'}),\n",
       " Match({'actual_time': 1680881484, 'alliances': {'blue': {'dq_team_keys': [], 'score': 126, 'surrogate_team_keys': [], 'team_keys': ['frc2013', 'frc4917', 'frc3739']}, 'red': {'dq_team_keys': [], 'score': 136, 'surrogate_team_keys': [], 'team_keys': ['frc4069', 'frc6854', 'frc7690']}}, 'comp_level': 'qm', 'event_key': '2023oncmp2', 'key': '2023oncmp2_qm64', 'match_number': 64, 'post_result_time': 1680881651, 'predicted_time': 1680895850, 'score_breakdown': {'blue': {'activationBonusAchieved': True, 'adjustPoints': 0, 'autoBridgeState': 'Level', 'autoChargeStationPoints': 12, 'autoChargeStationRobot1': 'Docked', 'autoChargeStationRobot2': 'None', 'autoChargeStationRobot3': 'None', 'autoCommunity': {'B': ['None', 'None', 'None', 'None', 'None', 'None', 'None', 'None', 'None'], 'M': ['None', 'None', 'None', 'None', 'None', 'None', 'None', 'Cube', 'None'], 'T': ['Cone', 'None', 'None', 'Cone', 'None', 'None', 'None', 'None', 'None']}, 'autoDocked': True, 'autoGamePieceCount': 3, 'autoGamePiecePoints': 16, 'autoMobilityPoints': 9, 'autoPoints': 37, 'coopGamePieceCount': 4, 'coopertitionCriteriaMet': True, 'endGameBridgeState': 'Level', 'endGameChargeStationPoints': 20, 'endGameChargeStationRobot1': 'Docked', 'endGameChargeStationRobot2': 'Docked', 'endGameChargeStationRobot3': 'None', 'endGameParkPoints': 0, 'foulCount': 0, 'foulPoints': 0, 'linkPoints': 20, 'links': [{'nodes': [6, 7, 8], 'row': 'Mid'}, {'nodes': [0, 1, 2], 'row': 'Top'}, {'nodes': [3, 4, 5], 'row': 'Top'}, {'nodes': [6, 7, 8], 'row': 'Top'}], 'mobilityRobot1': 'Yes', 'mobilityRobot2': 'Yes', 'mobilityRobot3': 'Yes', 'rp': 2, 'sustainabilityBonusAchieved': True, 'techFoulCount': 0, 'teleopCommunity': {'B': ['Cone', 'None', 'None', 'None', 'None', 'None', 'None', 'None', 'None'], 'M': ['None', 'Cube', 'None', 'None', 'Cube', 'None', 'Cone', 'Cube', 'Cone'], 'T': ['Cone', 'Cube', 'Cone', 'Cone', 'Cube', 'Cone', 'Cone', 'Cube', 'Cone']}, 'teleopGamePieceCount': 15, 'teleopGamePiecePoints': 49, 'teleopPoints': 69, 'totalChargeStationPoints': 32, 'totalPoints': 126}, 'red': {'activationBonusAchieved': True, 'adjustPoints': 0, 'autoBridgeState': 'Level', 'autoChargeStationPoints': 12, 'autoChargeStationRobot1': 'Docked', 'autoChargeStationRobot2': 'None', 'autoChargeStationRobot3': 'None', 'autoCommunity': {'B': ['None', 'None', 'None', 'None', 'None', 'None', 'None', 'None', 'None'], 'M': ['None', 'None', 'None', 'None', 'None', 'None', 'None', 'None', 'None'], 'T': ['None', 'Cube', 'None', 'None', 'Cube', 'None', 'None', 'None', 'Cone']}, 'autoDocked': True, 'autoGamePieceCount': 3, 'autoGamePiecePoints': 18, 'autoMobilityPoints': 6, 'autoPoints': 36, 'coopGamePieceCount': 6, 'coopertitionCriteriaMet': True, 'endGameBridgeState': 'Level', 'endGameChargeStationPoints': 30, 'endGameChargeStationRobot1': 'Docked', 'endGameChargeStationRobot2': 'Docked', 'endGameChargeStationRobot3': 'Docked', 'endGameParkPoints': 0, 'foulCount': 0, 'foulPoints': 0, 'linkPoints': 25, 'links': [{'nodes': [0, 1, 2], 'row': 'Bottom'}, {'nodes': [3, 4, 5], 'row': 'Bottom'}, {'nodes': [0, 1, 2], 'row': 'Top'}, {'nodes': [3, 4, 5], 'row': 'Top'}, {'nodes': [6, 7, 8], 'row': 'Top'}], 'mobilityRobot1': 'No', 'mobilityRobot2': 'Yes', 'mobilityRobot3': 'Yes', 'rp': 4, 'sustainabilityBonusAchieved': True, 'techFoulCount': 0, 'teleopCommunity': {'B': ['Cone', 'Cube', 'Cube', 'Cone', 'Cone', 'Cube', 'None', 'None', 'None'], 'M': ['Cone', 'None', 'None', 'None', 'None', 'None', 'None', 'None', 'None'], 'T': ['Cone', 'Cube', 'Cone', 'Cone', 'Cube', 'Cone', 'Cone', 'Cube', 'Cone']}, 'teleopGamePieceCount': 16, 'teleopGamePiecePoints': 45, 'teleopPoints': 75, 'totalChargeStationPoints': 42, 'totalPoints': 136}}, 'set_number': 1, 'time': 1680892800, 'videos': [{'key': 'Ktg9H7m2cSM', 'type': 'youtube'}, {'key': '9VUQTQ-zMkM', 'type': 'youtube'}], 'winning_alliance': 'red'}),\n",
       " Match({'actual_time': 1680882212, 'alliances': {'blue': {'dq_team_keys': [], 'score': 162, 'surrogate_team_keys': [], 'team_keys': ['frc4907', 'frc6987', 'frc4343']}, 'red': {'dq_team_keys': [], 'score': 115, 'surrogate_team_keys': [], 'team_keys': ['frc5885', 'frc7476', 'frc1325']}}, 'comp_level': 'qm', 'event_key': '2023oncmp2', 'key': '2023oncmp2_qm65', 'match_number': 65, 'post_result_time': 1680882388, 'predicted_time': 1680896777, 'score_breakdown': {'blue': {'activationBonusAchieved': True, 'adjustPoints': 0, 'autoBridgeState': 'Level', 'autoChargeStationPoints': 12, 'autoChargeStationRobot1': 'None', 'autoChargeStationRobot2': 'None', 'autoChargeStationRobot3': 'Docked', 'autoCommunity': {'B': ['None', 'None', 'None', 'None', 'None', 'None', 'None', 'None', 'None'], 'M': ['None', 'None', 'None', 'None', 'None', 'None', 'None', 'None', 'None'], 'T': ['None', 'None', 'None', 'None', 'None', 'Cone', 'None', 'Cube', 'Cone']}, 'autoDocked': True, 'autoGamePieceCount': 3, 'autoGamePiecePoints': 18, 'autoMobilityPoints': 6, 'autoPoints': 36, 'coopGamePieceCount': 6, 'coopertitionCriteriaMet': True, 'endGameBridgeState': 'Level', 'endGameChargeStationPoints': 20, 'endGameChargeStationRobot1': 'Park', 'endGameChargeStationRobot2': 'Docked', 'endGameChargeStationRobot3': 'Docked', 'endGameParkPoints': 2, 'foulCount': 1, 'foulPoints': 20, 'linkPoints': 30, 'links': [{'nodes': [6, 7, 8], 'row': 'Bottom'}, {'nodes': [3, 4, 5], 'row': 'Mid'}, {'nodes': [6, 7, 8], 'row': 'Mid'}, {'nodes': [0, 1, 2], 'row': 'Top'}, {'nodes': [3, 4, 5], 'row': 'Top'}, {'nodes': [6, 7, 8], 'row': 'Top'}], 'mobilityRobot1': 'Yes', 'mobilityRobot2': 'Yes', 'mobilityRobot3': 'No', 'rp': 4, 'sustainabilityBonusAchieved': True, 'techFoulCount': 0, 'teleopCommunity': {'B': ['None', 'None', 'None', 'None', 'None', 'None', 'Cone', 'Cone', 'Cone'], 'M': ['None', 'None', 'None', 'Cone', 'Cube', 'Cone', 'Cone', 'Cube', 'Cone'], 'T': ['Cone', 'Cube', 'Cone', 'Cone', 'Cube', 'Cone', 'Cone', 'Cube', 'Cone']}, 'teleopGamePieceCount': 18, 'teleopGamePiecePoints': 54, 'teleopPoints': 76, 'totalChargeStationPoints': 32, 'totalPoints': 162}, 'red': {'activationBonusAchieved': False, 'adjustPoints': 0, 'autoBridgeState': 'Level', 'autoChargeStationPoints': 0, 'autoChargeStationRobot1': 'None', 'autoChargeStationRobot2': 'None', 'autoChargeStationRobot3': 'None', 'autoCommunity': {'B': ['None', 'None', 'None', 'None', 'None', 'None', 'None', 'None', 'None'], 'M': ['None', 'None', 'None', 'None', 'None', 'None', 'None', 'None', 'None'], 'T': ['Cone', 'Cube', 'None', 'None', 'Cube', 'None', 'None', 'None', 'None']}, 'autoDocked': False, 'autoGamePieceCount': 3, 'autoGamePiecePoints': 18, 'autoMobilityPoints': 6, 'autoPoints': 24, 'coopGamePieceCount': 4, 'coopertitionCriteriaMet': True, 'endGameBridgeState': 'NotLevel', 'endGameChargeStationPoints': 18, 'endGameChargeStationRobot1': 'Docked', 'endGameChargeStationRobot2': 'Docked', 'endGameChargeStationRobot3': 'Docked', 'endGameParkPoints': 0, 'foulCount': 4, 'foulPoints': 5, 'linkPoints': 20, 'links': [{'nodes': [0, 1, 2], 'row': 'Mid'}, {'nodes': [0, 1, 2], 'row': 'Top'}, {'nodes': [3, 4, 5], 'row': 'Top'}, {'nodes': [6, 7, 8], 'row': 'Top'}], 'mobilityRobot1': 'Yes', 'mobilityRobot2': 'No', 'mobilityRobot3': 'Yes', 'rp': 1, 'sustainabilityBonusAchieved': True, 'techFoulCount': 0, 'teleopCommunity': {'B': ['None', 'None', 'None', 'Cone', 'None', 'None', 'None', 'Cube', 'Cube'], 'M': ['Cone', 'Cube', 'Cone', 'None', 'None', 'None', 'None', 'Cube', 'None'], 'T': ['Cone', 'Cube', 'Cone', 'Cone', 'Cube', 'Cone', 'Cone', 'Cube', 'Cone']}, 'teleopGamePieceCount': 16, 'teleopGamePiecePoints': 48, 'teleopPoints': 66, 'totalChargeStationPoints': 18, 'totalPoints': 115}}, 'set_number': 1, 'time': 1680893400, 'videos': [{'key': 'EwD-PoC7tpM', 'type': 'youtube'}, {'key': 'R1BVOW31mD8', 'type': 'youtube'}], 'winning_alliance': 'blue'}),\n",
       " Match({'actual_time': 1680882823, 'alliances': {'blue': {'dq_team_keys': [], 'score': 138, 'surrogate_team_keys': [], 'team_keys': ['frc8729', 'frc4688', 'frc4920']}, 'red': {'dq_team_keys': [], 'score': 137, 'surrogate_team_keys': [], 'team_keys': ['frc865', 'frc1114', 'frc2609']}}, 'comp_level': 'qm', 'event_key': '2023oncmp2', 'key': '2023oncmp2_qm66', 'match_number': 66, 'post_result_time': 1680882998, 'predicted_time': 1680897209, 'score_breakdown': {'blue': {'activationBonusAchieved': True, 'adjustPoints': 0, 'autoBridgeState': 'Level', 'autoChargeStationPoints': 12, 'autoChargeStationRobot1': 'None', 'autoChargeStationRobot2': 'None', 'autoChargeStationRobot3': 'Docked', 'autoCommunity': {'B': ['None', 'None', 'None', 'None', 'None', 'None', 'None', 'None', 'None'], 'M': ['None', 'None', 'None', 'None', 'None', 'None', 'None', 'None', 'None'], 'T': ['Cone', 'None', 'None', 'None', 'None', 'Cone', 'None', 'Cube', 'None']}, 'autoDocked': True, 'autoGamePieceCount': 3, 'autoGamePiecePoints': 18, 'autoMobilityPoints': 9, 'autoPoints': 39, 'coopGamePieceCount': 6, 'coopertitionCriteriaMet': True, 'endGameBridgeState': 'Level', 'endGameChargeStationPoints': 30, 'endGameChargeStationRobot1': 'Docked', 'endGameChargeStationRobot2': 'Docked', 'endGameChargeStationRobot3': 'Docked', 'endGameParkPoints': 0, 'foulCount': 0, 'foulPoints': 0, 'linkPoints': 20, 'links': [{'nodes': [0, 1, 2], 'row': 'Mid'}, {'nodes': [0, 1, 2], 'row': 'Top'}, {'nodes': [3, 4, 5], 'row': 'Top'}, {'nodes': [6, 7, 8], 'row': 'Top'}], 'mobilityRobot1': 'Yes', 'mobilityRobot2': 'Yes', 'mobilityRobot3': 'Yes', 'rp': 4, 'sustainabilityBonusAchieved': True, 'techFoulCount': 0, 'teleopCommunity': {'B': ['Cube', 'None', 'None', 'Cone', 'None', 'None', 'None', 'None', 'None'], 'M': ['Cone', 'Cube', 'Cone', 'None', 'Cube', 'Cone', 'None', 'None', 'None'], 'T': ['Cone', 'Cube', 'Cone', 'Cone', 'Cube', 'Cone', 'Cone', 'Cube', 'Cone']}, 'teleopGamePieceCount': 16, 'teleopGamePiecePoints': 49, 'teleopPoints': 79, 'totalChargeStationPoints': 42, 'totalPoints': 138}, 'red': {'activationBonusAchieved': True, 'adjustPoints': 0, 'autoBridgeState': 'Level', 'autoChargeStationPoints': 12, 'autoChargeStationRobot1': 'Docked', 'autoChargeStationRobot2': 'None', 'autoChargeStationRobot3': 'None', 'autoCommunity': {'B': ['None', 'None', 'None', 'None', 'None', 'None', 'None', 'None', 'Cone'], 'M': ['None', 'None', 'None', 'None', 'None', 'None', 'None', 'None', 'None'], 'T': ['Cone', 'Cube', 'None', 'None', 'None', 'Cone', 'None', 'None', 'None']}, 'autoDocked': True, 'autoGamePieceCount': 4, 'autoGamePiecePoints': 21, 'autoMobilityPoints': 9, 'autoPoints': 42, 'coopGamePieceCount': 4, 'coopertitionCriteriaMet': True, 'endGameBridgeState': 'Level', 'endGameChargeStationPoints': 30, 'endGameChargeStationRobot1': 'Docked', 'endGameChargeStationRobot2': 'Docked', 'endGameChargeStationRobot3': 'Docked', 'endGameParkPoints': 0, 'foulCount': 0, 'foulPoints': 0, 'linkPoints': 20, 'links': [{'nodes': [0, 1, 2], 'row': 'Mid'}, {'nodes': [0, 1, 2], 'row': 'Top'}, {'nodes': [3, 4, 5], 'row': 'Top'}, {'nodes': [6, 7, 8], 'row': 'Top'}], 'mobilityRobot1': 'Yes', 'mobilityRobot2': 'Yes', 'mobilityRobot3': 'Yes', 'rp': 2, 'sustainabilityBonusAchieved': True, 'techFoulCount': 0, 'teleopCommunity': {'B': ['Cone', 'None', 'None', 'None', 'None', 'Cube', 'None', 'Cube', 'Cone'], 'M': ['Cone', 'Cube', 'Cone', 'None', 'None', 'None', 'None', 'None', 'None'], 'T': ['Cone', 'Cube', 'Cone', 'Cone', 'Cube', 'Cone', 'Cone', 'Cube', 'Cone']}, 'teleopGamePieceCount': 16, 'teleopGamePiecePoints': 45, 'teleopPoints': 75, 'totalChargeStationPoints': 42, 'totalPoints': 137}}, 'set_number': 1, 'time': 1680894000, 'videos': [{'key': '6CqDsTaufoY', 'type': 'youtube'}, {'key': 'NFPAx0o9IFM', 'type': 'youtube'}], 'winning_alliance': 'blue'}),\n",
       " Match({'actual_time': 1680883510, 'alliances': {'blue': {'dq_team_keys': [], 'score': 90, 'surrogate_team_keys': [], 'team_keys': ['frc2708', 'frc5024', 'frc9263']}, 'red': {'dq_team_keys': [], 'score': 130, 'surrogate_team_keys': [], 'team_keys': ['frc6864', 'frc6865', 'frc4946']}}, 'comp_level': 'qm', 'event_key': '2023oncmp2', 'key': '2023oncmp2_qm67', 'match_number': 67, 'post_result_time': 1680883676, 'predicted_time': 1680897916, 'score_breakdown': {'blue': {'activationBonusAchieved': True, 'adjustPoints': 0, 'autoBridgeState': 'Level', 'autoChargeStationPoints': 0, 'autoChargeStationRobot1': 'None', 'autoChargeStationRobot2': 'None', 'autoChargeStationRobot3': 'None', 'autoCommunity': {'B': ['Cone', 'None', 'None', 'None', 'None', 'None', 'None', 'None', 'None'], 'M': ['None', 'None', 'None', 'None', 'Cube', 'None', 'None', 'Cube', 'None'], 'T': ['None', 'None', 'None', 'None', 'None', 'None', 'None', 'None', 'None']}, 'autoDocked': False, 'autoGamePieceCount': 3, 'autoGamePiecePoints': 11, 'autoMobilityPoints': 3, 'autoPoints': 14, 'coopGamePieceCount': 3, 'coopertitionCriteriaMet': True, 'endGameBridgeState': 'Level', 'endGameChargeStationPoints': 30, 'endGameChargeStationRobot1': 'Docked', 'endGameChargeStationRobot2': 'Docked', 'endGameChargeStationRobot3': 'Docked', 'endGameParkPoints': 0, 'foulCount': 0, 'foulPoints': 10, 'linkPoints': 15, 'links': [{'nodes': [6, 7, 8], 'row': 'Bottom'}, {'nodes': [3, 4, 5], 'row': 'Mid'}, {'nodes': [6, 7, 8], 'row': 'Mid'}], 'mobilityRobot1': 'Yes', 'mobilityRobot2': 'No', 'mobilityRobot3': 'No', 'rp': 1, 'sustainabilityBonusAchieved': False, 'techFoulCount': 0, 'teleopCommunity': {'B': ['Cone', 'None', 'None', 'None', 'None', 'None', 'Cube', 'Cube', 'Cube'], 'M': ['None', 'Cube', 'None', 'Cone', 'Cube', 'Cone', 'Cone', 'Cube', 'Cone'], 'T': ['None', 'None', 'None', 'None', 'None', 'None', 'None', 'None', 'None']}, 'teleopGamePieceCount': 11, 'teleopGamePiecePoints': 21, 'teleopPoints': 51, 'totalChargeStationPoints': 30, 'totalPoints': 90}, 'red': {'activationBonusAchieved': True, 'adjustPoints': 0, 'autoBridgeState': 'Level', 'autoChargeStationPoints': 12, 'autoChargeStationRobot1': 'None', 'autoChargeStationRobot2': 'Docked', 'autoChargeStationRobot3': 'None', 'autoCommunity': {'B': ['None', 'None', 'None', 'None', 'None', 'None', 'None', 'None', 'None'], 'M': ['None', 'None', 'None', 'None', 'None', 'None', 'None', 'None', 'None'], 'T': ['None', 'Cube', 'None', 'None', 'Cube', 'None', 'None', 'Cube', 'None']}, 'autoDocked': True, 'autoGamePieceCount': 3, 'autoGamePiecePoints': 18, 'autoMobilityPoints': 3, 'autoPoints': 33, 'coopGamePieceCount': 5, 'coopertitionCriteriaMet': True, 'endGameBridgeState': 'Level', 'endGameChargeStationPoints': 30, 'endGameChargeStationRobot1': 'Docked', 'endGameChargeStationRobot2': 'Docked', 'endGameChargeStationRobot3': 'Docked', 'endGameParkPoints': 0, 'foulCount': 2, 'foulPoints': 0, 'linkPoints': 20, 'links': [{'nodes': [4, 5, 6], 'row': 'Bottom'}, {'nodes': [0, 1, 2], 'row': 'Top'}, {'nodes': [3, 4, 5], 'row': 'Top'}, {'nodes': [6, 7, 8], 'row': 'Top'}], 'mobilityRobot1': 'No', 'mobilityRobot2': 'No', 'mobilityRobot3': 'Yes', 'rp': 4, 'sustainabilityBonusAchieved': True, 'techFoulCount': 0, 'teleopCommunity': {'B': ['Cube', 'Cube', 'None', 'None', 'Cube', 'Cube', 'Cube', 'Cube', 'Cube'], 'M': ['Cone', 'None', 'None', 'None', 'None', 'None', 'None', 'None', 'None'], 'T': ['Cone', 'Cube', 'Cone', 'Cone', 'Cube', 'Cone', 'Cone', 'Cube', 'Cone']}, 'teleopGamePieceCount': 17, 'teleopGamePiecePoints': 47, 'teleopPoints': 77, 'totalChargeStationPoints': 42, 'totalPoints': 130}}, 'set_number': 1, 'time': 1680894600, 'videos': [{'key': 'HQZUApK3nrQ', 'type': 'youtube'}, {'key': 'T7V_2d8vS8c', 'type': 'youtube'}], 'winning_alliance': 'red'}),\n",
       " Match({'actual_time': 1680884215, 'alliances': {'blue': {'dq_team_keys': [], 'score': 90, 'surrogate_team_keys': [], 'team_keys': ['frc5036', 'frc5596', 'frc2386']}, 'red': {'dq_team_keys': [], 'score': 178, 'surrogate_team_keys': [], 'team_keys': ['frc4678', 'frc4039', 'frc610']}}, 'comp_level': 'qm', 'event_key': '2023oncmp2', 'key': '2023oncmp2_qm68', 'match_number': 68, 'post_result_time': 1680884385, 'predicted_time': 1680898577, 'score_breakdown': {'blue': {'activationBonusAchieved': True, 'adjustPoints': 0, 'autoBridgeState': 'Level', 'autoChargeStationPoints': 12, 'autoChargeStationRobot1': 'None', 'autoChargeStationRobot2': 'Docked', 'autoChargeStationRobot3': 'None', 'autoCommunity': {'B': ['None', 'None', 'None', 'None', 'None', 'None', 'None', 'Cube', 'None'], 'M': ['None', 'Cube', 'None', 'None', 'None', 'None', 'None', 'None', 'None'], 'T': ['None', 'None', 'None', 'None', 'Cube', 'None', 'None', 'None', 'None']}, 'autoDocked': True, 'autoGamePieceCount': 3, 'autoGamePiecePoints': 13, 'autoMobilityPoints': 9, 'autoPoints': 34, 'coopGamePieceCount': 4, 'coopertitionCriteriaMet': True, 'endGameBridgeState': 'Level', 'endGameChargeStationPoints': 20, 'endGameChargeStationRobot1': 'Park', 'endGameChargeStationRobot2': 'Docked', 'endGameChargeStationRobot3': 'Docked', 'endGameParkPoints': 2, 'foulCount': 1, 'foulPoints': 5, 'linkPoints': 10, 'links': [{'nodes': [5, 6, 7], 'row': 'Bottom'}, {'nodes': [0, 1, 2], 'row': 'Mid'}], 'mobilityRobot1': 'Yes', 'mobilityRobot2': 'Yes', 'mobilityRobot3': 'Yes', 'rp': 1, 'sustainabilityBonusAchieved': False, 'techFoulCount': 0, 'teleopCommunity': {'B': ['None', 'Cube', 'None', 'Cone', 'None', 'Cube', 'Cube', 'Cube', 'Cone'], 'M': ['Cone', 'Cube', 'Cone', 'None', 'Cube', 'None', 'None', 'None', 'None'], 'T': ['None', 'None', 'None', 'None', 'Cube', 'None', 'None', 'None', 'None']}, 'teleopGamePieceCount': 11, 'teleopGamePiecePoints': 19, 'teleopPoints': 41, 'totalChargeStationPoints': 32, 'totalPoints': 90}, 'red': {'activationBonusAchieved': True, 'adjustPoints': 0, 'autoBridgeState': 'Level', 'autoChargeStationPoints': 12, 'autoChargeStationRobot1': 'None', 'autoChargeStationRobot2': 'Docked', 'autoChargeStationRobot3': 'None', 'autoCommunity': {'B': ['None', 'None', 'None', 'None', 'None', 'None', 'None', 'None', 'Cone'], 'M': ['None', 'None', 'None', 'None', 'None', 'None', 'None', 'None', 'None'], 'T': ['None', 'Cube', 'None', 'None', 'Cube', 'None', 'None', 'Cube', 'None']}, 'autoDocked': True, 'autoGamePieceCount': 4, 'autoGamePiecePoints': 21, 'autoMobilityPoints': 9, 'autoPoints': 42, 'coopGamePieceCount': 9, 'coopertitionCriteriaMet': True, 'endGameBridgeState': 'Level', 'endGameChargeStationPoints': 20, 'endGameChargeStationRobot1': 'Park', 'endGameChargeStationRobot2': 'Docked', 'endGameChargeStationRobot3': 'Docked', 'endGameParkPoints': 2, 'foulCount': 1, 'foulPoints': 5, 'linkPoints': 40, 'links': [{'nodes': [2, 3, 4], 'row': 'Bottom'}, {'nodes': [5, 6, 7], 'row': 'Bottom'}, {'nodes': [0, 1, 2], 'row': 'Mid'}, {'nodes': [3, 4, 5], 'row': 'Mid'}, {'nodes': [6, 7, 8], 'row': 'Mid'}, {'nodes': [0, 1, 2], 'row': 'Top'}, {'nodes': [3, 4, 5], 'row': 'Top'}, {'nodes': [6, 7, 8], 'row': 'Top'}], 'mobilityRobot1': 'Yes', 'mobilityRobot2': 'Yes', 'mobilityRobot3': 'Yes', 'rp': 4, 'sustainabilityBonusAchieved': True, 'techFoulCount': 0, 'teleopCommunity': {'B': ['None', 'None', 'Cube', 'Cone', 'Cube', 'Cone', 'Cube', 'Cone', 'Cone'], 'M': ['Cone', 'Cube', 'Cone', 'Cone', 'Cube', 'Cone', 'Cone', 'Cube', 'Cone'], 'T': ['Cone', 'Cube', 'Cone', 'Cone', 'Cube', 'Cone', 'Cone', 'Cube', 'Cone']}, 'teleopGamePieceCount': 25, 'teleopGamePiecePoints': 69, 'teleopPoints': 91, 'totalChargeStationPoints': 32, 'totalPoints': 178}}, 'set_number': 1, 'time': 1680895200, 'videos': [{'key': 'Z63fFHuX7is', 'type': 'youtube'}, {'key': 'jwhrr3rnKkc', 'type': 'youtube'}], 'winning_alliance': 'red'}),\n",
       " Match({'actual_time': 1680884847, 'alliances': {'blue': {'dq_team_keys': [], 'score': 88, 'surrogate_team_keys': [], 'team_keys': ['frc7722', 'frc6987', 'frc6378']}, 'red': {'dq_team_keys': [], 'score': 117, 'surrogate_team_keys': [], 'team_keys': ['frc1334', 'frc4917', 'frc5885']}}, 'comp_level': 'qm', 'event_key': '2023oncmp2', 'key': '2023oncmp2_qm69', 'match_number': 69, 'post_result_time': 1680885015, 'predicted_time': 1680899239, 'score_breakdown': {'blue': {'activationBonusAchieved': True, 'adjustPoints': 0, 'autoBridgeState': 'Level', 'autoChargeStationPoints': 12, 'autoChargeStationRobot1': 'Docked', 'autoChargeStationRobot2': 'None', 'autoChargeStationRobot3': 'None', 'autoCommunity': {'B': ['None', 'None', 'None', 'None', 'None', 'None', 'None', 'None', 'None'], 'M': ['None', 'None', 'None', 'None', 'Cube', 'None', 'None', 'None', 'None'], 'T': ['Cone', 'None', 'None', 'None', 'None', 'None', 'None', 'None', 'None']}, 'autoDocked': True, 'autoGamePieceCount': 2, 'autoGamePiecePoints': 10, 'autoMobilityPoints': 9, 'autoPoints': 31, 'coopGamePieceCount': 2, 'coopertitionCriteriaMet': False, 'endGameBridgeState': 'Level', 'endGameChargeStationPoints': 20, 'endGameChargeStationRobot1': 'Docked', 'endGameChargeStationRobot2': 'Docked', 'endGameChargeStationRobot3': 'Park', 'endGameParkPoints': 2, 'foulCount': 2, 'foulPoints': 5, 'linkPoints': 10, 'links': [{'nodes': [6, 7, 8], 'row': 'Bottom'}, {'nodes': [0, 1, 2], 'row': 'Top'}], 'mobilityRobot1': 'Yes', 'mobilityRobot2': 'Yes', 'mobilityRobot3': 'Yes', 'rp': 1, 'sustainabilityBonusAchieved': False, 'techFoulCount': 0, 'teleopCommunity': {'B': ['None', 'None', 'Cube', 'None', 'Cube', 'None', 'Cone', 'Cone', 'Cone'], 'M': ['None', 'None', 'None', 'None', 'Cube', 'None', 'None', 'None', 'None'], 'T': ['Cone', 'Cube', 'Cone', 'None', 'None', 'None', 'None', 'None', 'None']}, 'teleopGamePieceCount': 9, 'teleopGamePiecePoints': 20, 'teleopPoints': 42, 'totalChargeStationPoints': 32, 'totalPoints': 88}, 'red': {'activationBonusAchieved': True, 'adjustPoints': 0, 'autoBridgeState': 'Level', 'autoChargeStationPoints': 12, 'autoChargeStationRobot1': 'Docked', 'autoChargeStationRobot2': 'None', 'autoChargeStationRobot3': 'None', 'autoCommunity': {'B': ['None', 'None', 'None', 'None', 'None', 'None', 'None', 'None', 'None'], 'M': ['None', 'None', 'None', 'Cone', 'None', 'None', 'None', 'None', 'None'], 'T': ['None', 'Cube', 'None', 'None', 'None', 'None', 'None', 'None', 'Cone']}, 'autoDocked': True, 'autoGamePieceCount': 3, 'autoGamePiecePoints': 16, 'autoMobilityPoints': 6, 'autoPoints': 34, 'coopGamePieceCount': 7, 'coopertitionCriteriaMet': True, 'endGameBridgeState': 'Level', 'endGameChargeStationPoints': 20, 'endGameChargeStationRobot1': 'Park', 'endGameChargeStationRobot2': 'Docked', 'endGameChargeStationRobot3': 'Docked', 'endGameParkPoints': 2, 'foulCount': 1, 'foulPoints': 10, 'linkPoints': 15, 'links': [{'nodes': [1, 2, 3], 'row': 'Bottom'}, {'nodes': [3, 4, 5], 'row': 'Mid'}, {'nodes': [0, 1, 2], 'row': 'Top'}], 'mobilityRobot1': 'No', 'mobilityRobot2': 'Yes', 'mobilityRobot3': 'Yes', 'rp': 3, 'sustainabilityBonusAchieved': False, 'techFoulCount': 0, 'teleopCommunity': {'B': ['None', 'Cube', 'Cube', 'Cube', 'Cube', 'Cube', 'None', 'None', 'None'], 'M': ['None', 'None', 'None', 'Cone', 'Cube', 'Cone', 'None', 'None', 'None'], 'T': ['Cone', 'Cube', 'Cone', 'None', 'Cube', 'None', 'Cone', 'None', 'Cone']}, 'teleopGamePieceCount': 14, 'teleopGamePiecePoints': 36, 'teleopPoints': 58, 'totalChargeStationPoints': 32, 'totalPoints': 117}}, 'set_number': 1, 'time': 1680895800, 'videos': [{'key': 'RcxG0uXqJhg', 'type': 'youtube'}, {'key': 'OUvjtkqQu8M', 'type': 'youtube'}], 'winning_alliance': 'red'}),\n",
       " Match({'actual_time': 1680783429, 'alliances': {'blue': {'dq_team_keys': [], 'score': 141, 'surrogate_team_keys': [], 'team_keys': ['frc1310', 'frc8729', 'frc4343']}, 'red': {'dq_team_keys': [], 'score': 143, 'surrogate_team_keys': [], 'team_keys': ['frc4678', 'frc7690', 'frc2013']}}, 'comp_level': 'qm', 'event_key': '2023oncmp2', 'key': '2023oncmp2_qm7', 'match_number': 7, 'post_result_time': 1680783730, 'predicted_time': 1680798078, 'score_breakdown': {'blue': {'activationBonusAchieved': True, 'adjustPoints': 0, 'autoBridgeState': 'Level', 'autoChargeStationPoints': 12, 'autoChargeStationRobot1': 'None', 'autoChargeStationRobot2': 'Docked', 'autoChargeStationRobot3': 'None', 'autoCommunity': {'B': ['None', 'None', 'None', 'None', 'None', 'None', 'None', 'None', 'None'], 'M': ['None', 'None', 'None', 'None', 'Cube', 'None', 'None', 'None', 'None'], 'T': ['Cone', 'None', 'None', 'None', 'None', 'None', 'None', 'Cube', 'Cone']}, 'autoDocked': True, 'autoGamePieceCount': 4, 'autoGamePiecePoints': 22, 'autoMobilityPoints': 6, 'autoPoints': 40, 'coopGamePieceCount': 4, 'coopertitionCriteriaMet': True, 'endGameBridgeState': 'Level', 'endGameChargeStationPoints': 30, 'endGameChargeStationRobot1': 'Docked', 'endGameChargeStationRobot2': 'Docked', 'endGameChargeStationRobot3': 'Docked', 'endGameParkPoints': 0, 'foulCount': 1, 'foulPoints': 5, 'linkPoints': 20, 'links': [{'nodes': [0, 1, 2], 'row': 'Mid'}, {'nodes': [0, 1, 2], 'row': 'Top'}, {'nodes': [3, 4, 5], 'row': 'Top'}, {'nodes': [6, 7, 8], 'row': 'Top'}], 'mobilityRobot1': 'Yes', 'mobilityRobot2': 'No', 'mobilityRobot3': 'Yes', 'rp': 2, 'sustainabilityBonusAchieved': True, 'techFoulCount': 0, 'teleopCommunity': {'B': ['Cube', 'None', 'None', 'None', 'None', 'None', 'None', 'None', 'Cube'], 'M': ['Cone', 'Cube', 'Cone', 'None', 'Cube', 'None', 'None', 'Cube', 'None'], 'T': ['Cone', 'Cube', 'Cone', 'Cone', 'Cube', 'Cone', 'Cone', 'Cube', 'Cone']}, 'teleopGamePieceCount': 16, 'teleopGamePiecePoints': 46, 'teleopPoints': 76, 'totalChargeStationPoints': 42, 'totalPoints': 141}, 'red': {'activationBonusAchieved': True, 'adjustPoints': 0, 'autoBridgeState': 'Level', 'autoChargeStationPoints': 12, 'autoChargeStationRobot1': 'None', 'autoChargeStationRobot2': 'None', 'autoChargeStationRobot3': 'Docked', 'autoCommunity': {'B': ['None', 'None', 'None', 'None', 'None', 'None', 'None', 'None', 'None'], 'M': ['None', 'None', 'None', 'None', 'None', 'None', 'None', 'None', 'None'], 'T': ['Cone', 'Cube', 'Cone', 'Cone', 'None', 'None', 'None', 'None', 'Cone']}, 'autoDocked': True, 'autoGamePieceCount': 5, 'autoGamePiecePoints': 30, 'autoMobilityPoints': 6, 'autoPoints': 48, 'coopGamePieceCount': 3, 'coopertitionCriteriaMet': True, 'endGameBridgeState': 'Level', 'endGameChargeStationPoints': 20, 'endGameChargeStationRobot1': 'Park', 'endGameChargeStationRobot2': 'Docked', 'endGameChargeStationRobot3': 'Docked', 'endGameParkPoints': 2, 'foulCount': 1, 'foulPoints': 5, 'linkPoints': 25, 'links': [{'nodes': [6, 7, 8], 'row': 'Bottom'}, {'nodes': [6, 7, 8], 'row': 'Mid'}, {'nodes': [0, 1, 2], 'row': 'Top'}, {'nodes': [3, 4, 5], 'row': 'Top'}, {'nodes': [6, 7, 8], 'row': 'Top'}], 'mobilityRobot1': 'Yes', 'mobilityRobot2': 'Yes', 'mobilityRobot3': 'No', 'rp': 4, 'sustainabilityBonusAchieved': True, 'techFoulCount': 0, 'teleopCommunity': {'B': ['None', 'None', 'Cone', 'None', 'None', 'None', 'Cube', 'Cone', 'Cone'], 'M': ['Cone', 'Cube', 'None', 'None', 'None', 'None', 'Cone', 'Cube', 'Cone'], 'T': ['Cone', 'Cube', 'Cone', 'Cone', 'Cube', 'Cone', 'Cone', 'Cube', 'Cone']}, 'teleopGamePieceCount': 18, 'teleopGamePiecePoints': 43, 'teleopPoints': 65, 'totalChargeStationPoints': 32, 'totalPoints': 143}}, 'set_number': 1, 'time': 1680796800, 'videos': [{'key': 'Lo9wrXIH0S4', 'type': 'youtube'}, {'key': 'eFTti4z5V48', 'type': 'youtube'}], 'winning_alliance': 'red'}),\n",
       " Match({'actual_time': 1680885372, 'alliances': {'blue': {'dq_team_keys': [], 'score': 171, 'surrogate_team_keys': [], 'team_keys': ['frc4907', 'frc4903', 'frc2013']}, 'red': {'dq_team_keys': [], 'score': 132, 'surrogate_team_keys': [], 'team_keys': ['frc5870', 'frc2609', 'frc4920']}}, 'comp_level': 'qm', 'event_key': '2023oncmp2', 'key': '2023oncmp2_qm70', 'match_number': 70, 'post_result_time': 1680885858, 'predicted_time': 1680899878, 'score_breakdown': {'blue': {'activationBonusAchieved': True, 'adjustPoints': 0, 'autoBridgeState': 'Level', 'autoChargeStationPoints': 12, 'autoChargeStationRobot1': 'None', 'autoChargeStationRobot2': 'Docked', 'autoChargeStationRobot3': 'None', 'autoCommunity': {'B': ['None', 'None', 'None', 'None', 'None', 'None', 'None', 'None', 'None'], 'M': ['None', 'None', 'None', 'None', 'None', 'None', 'None', 'None', 'None'], 'T': ['Cone', 'None', 'None', 'None', 'Cube', 'None', 'None', 'Cube', 'Cone']}, 'autoDocked': True, 'autoGamePieceCount': 4, 'autoGamePiecePoints': 24, 'autoMobilityPoints': 9, 'autoPoints': 45, 'coopGamePieceCount': 6, 'coopertitionCriteriaMet': True, 'endGameBridgeState': 'Level', 'endGameChargeStationPoints': 20, 'endGameChargeStationRobot1': 'Park', 'endGameChargeStationRobot2': 'Docked', 'endGameChargeStationRobot3': 'Docked', 'endGameParkPoints': 2, 'foulCount': 1, 'foulPoints': 0, 'linkPoints': 40, 'links': [{'nodes': [0, 1, 2], 'row': 'Bottom'}, {'nodes': [6, 7, 8], 'row': 'Bottom'}, {'nodes': [0, 1, 2], 'row': 'Mid'}, {'nodes': [3, 4, 5], 'row': 'Mid'}, {'nodes': [6, 7, 8], 'row': 'Mid'}, {'nodes': [0, 1, 2], 'row': 'Top'}, {'nodes': [3, 4, 5], 'row': 'Top'}, {'nodes': [6, 7, 8], 'row': 'Top'}], 'mobilityRobot1': 'Yes', 'mobilityRobot2': 'Yes', 'mobilityRobot3': 'Yes', 'rp': 4, 'sustainabilityBonusAchieved': True, 'techFoulCount': 0, 'teleopCommunity': {'B': ['Cube', 'Cone', 'Cone', 'None', 'None', 'None', 'Cone', 'Cone', 'Cone'], 'M': ['Cone', 'Cube', 'Cone', 'Cone', 'Cube', 'Cone', 'Cone', 'Cube', 'Cone'], 'T': ['Cone', 'Cube', 'Cone', 'Cone', 'Cube', 'Cone', 'Cone', 'Cube', 'Cone']}, 'teleopGamePieceCount': 24, 'teleopGamePiecePoints': 64, 'teleopPoints': 86, 'totalChargeStationPoints': 32, 'totalPoints': 171}, 'red': {'activationBonusAchieved': True, 'adjustPoints': 0, 'autoBridgeState': 'Level', 'autoChargeStationPoints': 0, 'autoChargeStationRobot1': 'None', 'autoChargeStationRobot2': 'None', 'autoChargeStationRobot3': 'None', 'autoCommunity': {'B': ['None', 'None', 'None', 'None', 'None', 'None', 'None', 'None', 'None'], 'M': ['None', 'None', 'None', 'None', 'Cube', 'None', 'None', 'None', 'None'], 'T': ['Cone', 'Cube', 'None', 'None', 'None', 'None', 'None', 'None', 'Cone']}, 'autoDocked': False, 'autoGamePieceCount': 4, 'autoGamePiecePoints': 22, 'autoMobilityPoints': 6, 'autoPoints': 28, 'coopGamePieceCount': 7, 'coopertitionCriteriaMet': True, 'endGameBridgeState': 'Level', 'endGameChargeStationPoints': 30, 'endGameChargeStationRobot1': 'Docked', 'endGameChargeStationRobot2': 'Docked', 'endGameChargeStationRobot3': 'Docked', 'endGameParkPoints': 0, 'foulCount': 0, 'foulPoints': 5, 'linkPoints': 25, 'links': [{'nodes': [0, 1, 2], 'row': 'Bottom'}, {'nodes': [3, 4, 5], 'row': 'Mid'}, {'nodes': [0, 1, 2], 'row': 'Top'}, {'nodes': [3, 4, 5], 'row': 'Top'}, {'nodes': [6, 7, 8], 'row': 'Top'}], 'mobilityRobot1': 'No', 'mobilityRobot2': 'Yes', 'mobilityRobot3': 'Yes', 'rp': 2, 'sustainabilityBonusAchieved': True, 'techFoulCount': 0, 'teleopCommunity': {'B': ['Cube', 'Cube', 'Cube', 'Cone', 'None', 'None', 'None', 'None', 'None'], 'M': ['None', 'None', 'None', 'Cone', 'Cube', 'Cone', 'None', 'None', 'None'], 'T': ['Cone', 'Cube', 'Cone', 'Cone', 'Cube', 'Cone', 'Cone', 'Cube', 'Cone']}, 'teleopGamePieceCount': 16, 'teleopGamePiecePoints': 44, 'teleopPoints': 74, 'totalChargeStationPoints': 30, 'totalPoints': 132}}, 'set_number': 1, 'time': 1680896400, 'videos': [{'key': 'a2kNVeqAfxQ', 'type': 'youtube'}, {'key': '9UqrR9YZQYE', 'type': 'youtube'}], 'winning_alliance': 'blue'}),\n",
       " Match({'actual_time': 1680886135, 'alliances': {'blue': {'dq_team_keys': [], 'score': 151, 'surrogate_team_keys': [], 'team_keys': ['frc9263', 'frc1325', 'frc1285']}, 'red': {'dq_team_keys': [], 'score': 149, 'surrogate_team_keys': [], 'team_keys': ['frc1114', 'frc4069', 'frc2708']}}, 'comp_level': 'qm', 'event_key': '2023oncmp2', 'key': '2023oncmp2_qm71', 'match_number': 71, 'post_result_time': 1680886306, 'predicted_time': 1680900526, 'score_breakdown': {'blue': {'activationBonusAchieved': True, 'adjustPoints': 0, 'autoBridgeState': 'Level', 'autoChargeStationPoints': 12, 'autoChargeStationRobot1': 'None', 'autoChargeStationRobot2': 'None', 'autoChargeStationRobot3': 'Docked', 'autoCommunity': {'B': ['Cone', 'None', 'None', 'None', 'None', 'None', 'None', 'None', 'None'], 'M': ['None', 'None', 'None', 'None', 'None', 'None', 'None', 'None', 'None'], 'T': ['None', 'None', 'None', 'Cone', 'None', 'None', 'None', 'Cube', 'Cone']}, 'autoDocked': True, 'autoGamePieceCount': 4, 'autoGamePiecePoints': 21, 'autoMobilityPoints': 9, 'autoPoints': 42, 'coopGamePieceCount': 5, 'coopertitionCriteriaMet': True, 'endGameBridgeState': 'Level', 'endGameChargeStationPoints': 30, 'endGameChargeStationRobot1': 'Docked', 'endGameChargeStationRobot2': 'Docked', 'endGameChargeStationRobot3': 'Docked', 'endGameParkPoints': 0, 'foulCount': 2, 'foulPoints': 5, 'linkPoints': 25, 'links': [{'nodes': [0, 1, 2], 'row': 'Bottom'}, {'nodes': [6, 7, 8], 'row': 'Mid'}, {'nodes': [0, 1, 2], 'row': 'Top'}, {'nodes': [3, 4, 5], 'row': 'Top'}, {'nodes': [6, 7, 8], 'row': 'Top'}], 'mobilityRobot1': 'Yes', 'mobilityRobot2': 'Yes', 'mobilityRobot3': 'Yes', 'rp': 4, 'sustainabilityBonusAchieved': True, 'techFoulCount': 0, 'teleopCommunity': {'B': ['Cone', 'Cube', 'Cube', 'Cube', 'Cube', 'None', 'Cube', 'None', 'None'], 'M': ['None', 'None', 'None', 'None', 'None', 'None', 'Cone', 'Cube', 'Cone'], 'T': ['Cone', 'Cube', 'Cone', 'Cone', 'Cube', 'Cone', 'Cone', 'Cube', 'Cone']}, 'teleopGamePieceCount': 18, 'teleopGamePiecePoints': 49, 'teleopPoints': 79, 'totalChargeStationPoints': 42, 'totalPoints': 151}, 'red': {'activationBonusAchieved': True, 'adjustPoints': 0, 'autoBridgeState': 'Level', 'autoChargeStationPoints': 12, 'autoChargeStationRobot1': 'None', 'autoChargeStationRobot2': 'Docked', 'autoChargeStationRobot3': 'None', 'autoCommunity': {'B': ['None', 'None', 'None', 'None', 'None', 'None', 'None', 'None', 'Cube'], 'M': ['None', 'Cube', 'None', 'None', 'None', 'None', 'None', 'None', 'None'], 'T': ['Cone', 'None', 'None', 'None', 'Cube', 'None', 'None', 'Cube', 'None']}, 'autoDocked': True, 'autoGamePieceCount': 5, 'autoGamePiecePoints': 25, 'autoMobilityPoints': 6, 'autoPoints': 43, 'coopGamePieceCount': 6, 'coopertitionCriteriaMet': True, 'endGameBridgeState': 'Level', 'endGameChargeStationPoints': 20, 'endGameChargeStationRobot1': 'Docked', 'endGameChargeStationRobot2': 'Docked', 'endGameChargeStationRobot3': 'None', 'endGameParkPoints': 0, 'foulCount': 1, 'foulPoints': 10, 'linkPoints': 25, 'links': [{'nodes': [6, 7, 8], 'row': 'Bottom'}, {'nodes': [6, 7, 8], 'row': 'Mid'}, {'nodes': [0, 1, 2], 'row': 'Top'}, {'nodes': [3, 4, 5], 'row': 'Top'}, {'nodes': [6, 7, 8], 'row': 'Top'}], 'mobilityRobot1': 'Yes', 'mobilityRobot2': 'No', 'mobilityRobot3': 'Yes', 'rp': 2, 'sustainabilityBonusAchieved': True, 'techFoulCount': 0, 'teleopCommunity': {'B': ['None', 'None', 'None', 'None', 'Cube', 'None', 'Cube', 'Cube', 'Cube'], 'M': ['None', 'Cube', 'None', 'Cone', 'Cube', 'None', 'Cone', 'Cube', 'Cone'], 'T': ['Cone', 'Cube', 'Cone', 'Cone', 'Cube', 'Cone', 'Cone', 'Cube', 'Cone']}, 'teleopGamePieceCount': 19, 'teleopGamePiecePoints': 51, 'teleopPoints': 71, 'totalChargeStationPoints': 32, 'totalPoints': 149}}, 'set_number': 1, 'time': 1680897000, 'videos': [{'key': 'YE5wEnUU2sM', 'type': 'youtube'}, {'key': '66FMvAFErWI', 'type': 'youtube'}], 'winning_alliance': 'blue'}),\n",
       " Match({'actual_time': 1680887187, 'alliances': {'blue': {'dq_team_keys': [], 'score': 137, 'surrogate_team_keys': [], 'team_keys': ['frc4343', 'frc6864', 'frc4688']}, 'red': {'dq_team_keys': [], 'score': 104, 'surrogate_team_keys': [], 'team_keys': ['frc8729', 'frc2706', 'frc6854']}}, 'comp_level': 'qm', 'event_key': '2023oncmp2', 'key': '2023oncmp2_qm72', 'match_number': 72, 'post_result_time': 1680887353, 'predicted_time': 1680901669, 'score_breakdown': {'blue': {'activationBonusAchieved': True, 'adjustPoints': 0, 'autoBridgeState': 'Level', 'autoChargeStationPoints': 12, 'autoChargeStationRobot1': 'Docked', 'autoChargeStationRobot2': 'None', 'autoChargeStationRobot3': 'None', 'autoCommunity': {'B': ['None', 'None', 'None', 'None', 'None', 'None', 'None', 'None', 'None'], 'M': ['None', 'None', 'None', 'None', 'None', 'None', 'None', 'None', 'None'], 'T': ['Cone', 'None', 'None', 'None', 'None', 'Cone', 'None', 'Cube', 'None']}, 'autoDocked': True, 'autoGamePieceCount': 3, 'autoGamePiecePoints': 18, 'autoMobilityPoints': 6, 'autoPoints': 36, 'coopGamePieceCount': 6, 'coopertitionCriteriaMet': True, 'endGameBridgeState': 'Level', 'endGameChargeStationPoints': 20, 'endGameChargeStationRobot1': 'Docked', 'endGameChargeStationRobot2': 'Docked', 'endGameChargeStationRobot3': 'None', 'endGameParkPoints': 0, 'foulCount': 0, 'foulPoints': 0, 'linkPoints': 30, 'links': [{'nodes': [3, 4, 5], 'row': 'Bottom'}, {'nodes': [6, 7, 8], 'row': 'Bottom'}, {'nodes': [0, 1, 2], 'row': 'Mid'}, {'nodes': [0, 1, 2], 'row': 'Top'}, {'nodes': [3, 4, 5], 'row': 'Top'}, {'nodes': [6, 7, 8], 'row': 'Top'}], 'mobilityRobot1': 'No', 'mobilityRobot2': 'Yes', 'mobilityRobot3': 'Yes', 'rp': 4, 'sustainabilityBonusAchieved': True, 'techFoulCount': 0, 'teleopCommunity': {'B': ['None', 'None', 'None', 'Cone', 'Cube', 'Cone', 'Cube', 'Cube', 'Cube'], 'M': ['Cone', 'Cube', 'Cone', 'None', 'None', 'None', 'None', 'None', 'None'], 'T': ['Cone', 'Cube', 'Cone', 'Cone', 'Cube', 'Cone', 'Cone', 'Cube', 'Cone']}, 'teleopGamePieceCount': 18, 'teleopGamePiecePoints': 51, 'teleopPoints': 71, 'totalChargeStationPoints': 32, 'totalPoints': 137}, 'red': {'activationBonusAchieved': True, 'adjustPoints': 0, 'autoBridgeState': 'Level', 'autoChargeStationPoints': 12, 'autoChargeStationRobot1': 'Docked', 'autoChargeStationRobot2': 'None', 'autoChargeStationRobot3': 'None', 'autoCommunity': {'B': ['None', 'None', 'None', 'None', 'None', 'None', 'None', 'None', 'None'], 'M': ['None', 'None', 'None', 'None', 'Cube', 'None', 'None', 'None', 'None'], 'T': ['None', 'Cube', 'None', 'None', 'None', 'None', 'None', 'Cube', 'None']}, 'autoDocked': True, 'autoGamePieceCount': 3, 'autoGamePiecePoints': 16, 'autoMobilityPoints': 6, 'autoPoints': 34, 'coopGamePieceCount': 4, 'coopertitionCriteriaMet': True, 'endGameBridgeState': 'Level', 'endGameChargeStationPoints': 20, 'endGameChargeStationRobot1': 'Docked', 'endGameChargeStationRobot2': 'Docked', 'endGameChargeStationRobot3': 'None', 'endGameParkPoints': 0, 'foulCount': 0, 'foulPoints': 0, 'linkPoints': 10, 'links': [{'nodes': [0, 1, 2], 'row': 'Top'}, {'nodes': [3, 4, 5], 'row': 'Top'}], 'mobilityRobot1': 'No', 'mobilityRobot2': 'Yes', 'mobilityRobot3': 'Yes', 'rp': 1, 'sustainabilityBonusAchieved': False, 'techFoulCount': 0, 'teleopCommunity': {'B': ['Cone', 'None', 'None', 'None', 'None', 'None', 'None', 'Cube', 'None'], 'M': ['None', 'Cube', 'None', 'None', 'Cube', 'None', 'None', 'Cube', 'None'], 'T': ['Cone', 'Cube', 'Cone', 'Cone', 'Cube', 'Cone', 'Cone', 'Cube', 'None']}, 'teleopGamePieceCount': 13, 'teleopGamePiecePoints': 40, 'teleopPoints': 60, 'totalChargeStationPoints': 32, 'totalPoints': 104}}, 'set_number': 1, 'time': 1680897600, 'videos': [{'key': '86lPDjeULdY', 'type': 'youtube'}, {'key': 'YuRueCN4Wy8', 'type': 'youtube'}], 'winning_alliance': 'blue'}),\n",
       " Match({'actual_time': 1680887729, 'alliances': {'blue': {'dq_team_keys': [], 'score': 80, 'surrogate_team_keys': [], 'team_keys': ['frc7476', 'frc3739', 'frc7757']}, 'red': {'dq_team_keys': [], 'score': 153, 'surrogate_team_keys': [], 'team_keys': ['frc865', 'frc8764', 'frc1310']}}, 'comp_level': 'qm', 'event_key': '2023oncmp2', 'key': '2023oncmp2_qm73', 'match_number': 73, 'post_result_time': 1680887904, 'predicted_time': 1680902179, 'score_breakdown': {'blue': {'activationBonusAchieved': False, 'adjustPoints': 0, 'autoBridgeState': 'Level', 'autoChargeStationPoints': 0, 'autoChargeStationRobot1': 'None', 'autoChargeStationRobot2': 'None', 'autoChargeStationRobot3': 'None', 'autoCommunity': {'B': ['None', 'None', 'None', 'None', 'None', 'None', 'None', 'None', 'None'], 'M': ['None', 'None', 'None', 'None', 'None', 'None', 'None', 'Cube', 'None'], 'T': ['None', 'Cube', 'None', 'None', 'Cube', 'None', 'None', 'None', 'None']}, 'autoDocked': False, 'autoGamePieceCount': 3, 'autoGamePiecePoints': 16, 'autoMobilityPoints': 9, 'autoPoints': 25, 'coopGamePieceCount': 6, 'coopertitionCriteriaMet': True, 'endGameBridgeState': 'NotLevel', 'endGameChargeStationPoints': 6, 'endGameChargeStationRobot1': 'Park', 'endGameChargeStationRobot2': 'Docked', 'endGameChargeStationRobot3': 'Park', 'endGameParkPoints': 4, 'foulCount': 1, 'foulPoints': 0, 'linkPoints': 15, 'links': [{'nodes': [0, 1, 2], 'row': 'Bottom'}, {'nodes': [3, 4, 5], 'row': 'Mid'}, {'nodes': [6, 7, 8], 'row': 'Mid'}], 'mobilityRobot1': 'Yes', 'mobilityRobot2': 'Yes', 'mobilityRobot3': 'Yes', 'rp': 0, 'sustainabilityBonusAchieved': False, 'techFoulCount': 0, 'teleopCommunity': {'B': ['Cube', 'Cube', 'Cube', 'Cube', 'None', 'Cone', 'Cube', 'None', 'None'], 'M': ['None', 'Cube', 'None', 'Cone', 'Cube', 'Cone', 'Cone', 'Cube', 'Cone'], 'T': ['None', 'Cube', 'None', 'None', 'Cube', 'None', 'None', 'None', 'None']}, 'teleopGamePieceCount': 15, 'teleopGamePiecePoints': 30, 'teleopPoints': 40, 'totalChargeStationPoints': 6, 'totalPoints': 80}, 'red': {'activationBonusAchieved': True, 'adjustPoints': 0, 'autoBridgeState': 'Level', 'autoChargeStationPoints': 12, 'autoChargeStationRobot1': 'Docked', 'autoChargeStationRobot2': 'None', 'autoChargeStationRobot3': 'None', 'autoCommunity': {'B': ['Cube', 'None', 'None', 'None', 'None', 'None', 'None', 'None', 'None'], 'M': ['None', 'None', 'None', 'None', 'None', 'None', 'None', 'None', 'None'], 'T': ['Cone', 'None', 'None', 'None', 'None', 'Cone', 'None', 'Cube', 'None']}, 'autoDocked': True, 'autoGamePieceCount': 4, 'autoGamePiecePoints': 21, 'autoMobilityPoints': 9, 'autoPoints': 42, 'coopGamePieceCount': 6, 'coopertitionCriteriaMet': True, 'endGameBridgeState': 'Level', 'endGameChargeStationPoints': 30, 'endGameChargeStationRobot1': 'Docked', 'endGameChargeStationRobot2': 'Docked', 'endGameChargeStationRobot3': 'Docked', 'endGameParkPoints': 0, 'foulCount': 0, 'foulPoints': 5, 'linkPoints': 30, 'links': [{'nodes': [0, 1, 2], 'row': 'Bottom'}, {'nodes': [3, 4, 5], 'row': 'Bottom'}, {'nodes': [6, 7, 8], 'row': 'Bottom'}, {'nodes': [0, 1, 2], 'row': 'Top'}, {'nodes': [3, 4, 5], 'row': 'Top'}, {'nodes': [6, 7, 8], 'row': 'Top'}], 'mobilityRobot1': 'Yes', 'mobilityRobot2': 'Yes', 'mobilityRobot3': 'Yes', 'rp': 4, 'sustainabilityBonusAchieved': True, 'techFoulCount': 0, 'teleopCommunity': {'B': ['Cube', 'Cube', 'Cone', 'Cone', 'Cube', 'Cone', 'Cube', 'Cone', 'Cube'], 'M': ['None', 'None', 'None', 'None', 'None', 'None', 'None', 'None', 'None'], 'T': ['Cone', 'Cube', 'Cone', 'Cone', 'Cube', 'Cone', 'Cone', 'Cube', 'Cone']}, 'teleopGamePieceCount': 18, 'teleopGamePiecePoints': 46, 'teleopPoints': 76, 'totalChargeStationPoints': 42, 'totalPoints': 153}}, 'set_number': 1, 'time': 1680898200, 'videos': [{'key': 'E1FabPN5q8M', 'type': 'youtube'}, {'key': 'b-b3vtG_NK0', 'type': 'youtube'}], 'winning_alliance': 'red'}),\n",
       " Match({'actual_time': 1680888339, 'alliances': {'blue': {'dq_team_keys': [], 'score': 90, 'surrogate_team_keys': [], 'team_keys': ['frc6865', 'frc5596', 'frc6987']}, 'red': {'dq_team_keys': [], 'score': 156, 'surrogate_team_keys': [], 'team_keys': ['frc7690', 'frc4903', 'frc4920']}}, 'comp_level': 'qm', 'event_key': '2023oncmp2', 'key': '2023oncmp2_qm74', 'match_number': 74, 'post_result_time': 1680888502, 'predicted_time': 1680902800, 'score_breakdown': {'blue': {'activationBonusAchieved': True, 'adjustPoints': 0, 'autoBridgeState': 'Level', 'autoChargeStationPoints': 12, 'autoChargeStationRobot1': 'None', 'autoChargeStationRobot2': 'Docked', 'autoChargeStationRobot3': 'None', 'autoCommunity': {'B': ['None', 'None', 'None', 'None', 'None', 'None', 'None', 'Cube', 'None'], 'M': ['None', 'None', 'None', 'None', 'None', 'None', 'None', 'None', 'None'], 'T': ['None', 'None', 'None', 'None', 'Cube', 'None', 'None', 'None', 'None']}, 'autoDocked': True, 'autoGamePieceCount': 2, 'autoGamePiecePoints': 9, 'autoMobilityPoints': 9, 'autoPoints': 30, 'coopGamePieceCount': 6, 'coopertitionCriteriaMet': True, 'endGameBridgeState': 'Level', 'endGameChargeStationPoints': 20, 'endGameChargeStationRobot1': 'Docked', 'endGameChargeStationRobot2': 'Park', 'endGameChargeStationRobot3': 'Docked', 'endGameParkPoints': 2, 'foulCount': 1, 'foulPoints': 0, 'linkPoints': 15, 'links': [{'nodes': [0, 1, 2], 'row': 'Bottom'}, {'nodes': [5, 6, 7], 'row': 'Bottom'}, {'nodes': [3, 4, 5], 'row': 'Mid'}], 'mobilityRobot1': 'Yes', 'mobilityRobot2': 'Yes', 'mobilityRobot3': 'Yes', 'rp': 1, 'sustainabilityBonusAchieved': False, 'techFoulCount': 0, 'teleopCommunity': {'B': ['Cone', 'Cone', 'Cone', 'Cone', 'None', 'Cube', 'Cube', 'Cube', 'Cube'], 'M': ['None', 'None', 'None', 'Cone', 'Cube', 'Cone', 'None', 'None', 'None'], 'T': ['None', 'None', 'None', 'None', 'Cube', 'None', 'None', 'None', 'None']}, 'teleopGamePieceCount': 12, 'teleopGamePiecePoints': 23, 'teleopPoints': 45, 'totalChargeStationPoints': 32, 'totalPoints': 90}, 'red': {'activationBonusAchieved': True, 'adjustPoints': 0, 'autoBridgeState': 'Level', 'autoChargeStationPoints': 12, 'autoChargeStationRobot1': 'None', 'autoChargeStationRobot2': 'Docked', 'autoChargeStationRobot3': 'None', 'autoCommunity': {'B': ['None', 'None', 'None', 'None', 'None', 'None', 'None', 'None', 'None'], 'M': ['None', 'None', 'None', 'None', 'None', 'None', 'None', 'None', 'None'], 'T': ['Cone', 'Cube', 'None', 'None', 'Cube', 'None', 'None', 'None', 'Cone']}, 'autoDocked': True, 'autoGamePieceCount': 4, 'autoGamePiecePoints': 24, 'autoMobilityPoints': 9, 'autoPoints': 45, 'coopGamePieceCount': 7, 'coopertitionCriteriaMet': True, 'endGameBridgeState': 'Level', 'endGameChargeStationPoints': 20, 'endGameChargeStationRobot1': 'Docked', 'endGameChargeStationRobot2': 'Docked', 'endGameChargeStationRobot3': 'Park', 'endGameParkPoints': 2, 'foulCount': 0, 'foulPoints': 5, 'linkPoints': 30, 'links': [{'nodes': [0, 1, 2], 'row': 'Mid'}, {'nodes': [3, 4, 5], 'row': 'Mid'}, {'nodes': [6, 7, 8], 'row': 'Mid'}, {'nodes': [0, 1, 2], 'row': 'Top'}, {'nodes': [3, 4, 5], 'row': 'Top'}, {'nodes': [6, 7, 8], 'row': 'Top'}], 'mobilityRobot1': 'Yes', 'mobilityRobot2': 'Yes', 'mobilityRobot3': 'Yes', 'rp': 4, 'sustainabilityBonusAchieved': True, 'techFoulCount': 0, 'teleopCommunity': {'B': ['None', 'None', 'None', 'Cone', 'None', 'None', 'None', 'None', 'None'], 'M': ['Cone', 'Cube', 'Cone', 'Cone', 'Cube', 'Cone', 'Cone', 'Cube', 'Cone'], 'T': ['Cone', 'Cube', 'Cone', 'Cone', 'Cube', 'Cone', 'Cone', 'Cube', 'Cone']}, 'teleopGamePieceCount': 19, 'teleopGamePiecePoints': 54, 'teleopPoints': 76, 'totalChargeStationPoints': 32, 'totalPoints': 156}}, 'set_number': 1, 'time': 1680898800, 'videos': [{'key': 'MFkaqiaWQuo', 'type': 'youtube'}, {'key': 'WTY5-wVmrck', 'type': 'youtube'}], 'winning_alliance': 'red'}),\n",
       " Match({'actual_time': 1680888922, 'alliances': {'blue': {'dq_team_keys': [], 'score': 150, 'surrogate_team_keys': [], 'team_keys': ['frc5870', 'frc4039', 'frc4907']}, 'red': {'dq_team_keys': [], 'score': 134, 'surrogate_team_keys': [], 'team_keys': ['frc4917', 'frc4069', 'frc9263']}}, 'comp_level': 'qm', 'event_key': '2023oncmp2', 'key': '2023oncmp2_qm75', 'match_number': 75, 'post_result_time': 1680889092, 'predicted_time': 1680903440, 'score_breakdown': {'blue': {'activationBonusAchieved': True, 'adjustPoints': 0, 'autoBridgeState': 'Level', 'autoChargeStationPoints': 12, 'autoChargeStationRobot1': 'None', 'autoChargeStationRobot2': 'Docked', 'autoChargeStationRobot3': 'None', 'autoCommunity': {'B': ['None', 'None', 'None', 'None', 'None', 'None', 'None', 'None', 'None'], 'M': ['None', 'Cube', 'None', 'None', 'None', 'None', 'None', 'None', 'None'], 'T': ['None', 'None', 'None', 'None', 'Cube', 'None', 'None', 'Cube', 'Cone']}, 'autoDocked': True, 'autoGamePieceCount': 4, 'autoGamePiecePoints': 22, 'autoMobilityPoints': 6, 'autoPoints': 40, 'coopGamePieceCount': 8, 'coopertitionCriteriaMet': True, 'endGameBridgeState': 'Level', 'endGameChargeStationPoints': 20, 'endGameChargeStationRobot1': 'Docked', 'endGameChargeStationRobot2': 'Docked', 'endGameChargeStationRobot3': 'Park', 'endGameParkPoints': 2, 'foulCount': 2, 'foulPoints': 0, 'linkPoints': 30, 'links': [{'nodes': [0, 1, 2], 'row': 'Mid'}, {'nodes': [3, 4, 5], 'row': 'Mid'}, {'nodes': [6, 7, 8], 'row': 'Mid'}, {'nodes': [0, 1, 2], 'row': 'Top'}, {'nodes': [3, 4, 5], 'row': 'Top'}, {'nodes': [6, 7, 8], 'row': 'Top'}], 'mobilityRobot1': 'No', 'mobilityRobot2': 'Yes', 'mobilityRobot3': 'Yes', 'rp': 4, 'sustainabilityBonusAchieved': True, 'techFoulCount': 0, 'teleopCommunity': {'B': ['None', 'None', 'None', 'Cone', 'Cone', 'None', 'None', 'None', 'None'], 'M': ['Cone', 'Cube', 'Cone', 'Cone', 'Cube', 'Cone', 'Cone', 'Cube', 'Cone'], 'T': ['Cone', 'Cube', 'Cone', 'Cone', 'Cube', 'Cone', 'Cone', 'Cube', 'Cone']}, 'teleopGamePieceCount': 20, 'teleopGamePiecePoints': 58, 'teleopPoints': 80, 'totalChargeStationPoints': 32, 'totalPoints': 150}, 'red': {'activationBonusAchieved': True, 'adjustPoints': 0, 'autoBridgeState': 'Level', 'autoChargeStationPoints': 12, 'autoChargeStationRobot1': 'None', 'autoChargeStationRobot2': 'Docked', 'autoChargeStationRobot3': 'None', 'autoCommunity': {'B': ['None', 'None', 'None', 'None', 'None', 'None', 'None', 'None', 'Cone'], 'M': ['None', 'None', 'None', 'None', 'None', 'None', 'None', 'None', 'None'], 'T': ['Cone', 'None', 'None', 'None', 'Cube', 'None', 'None', 'None', 'None']}, 'autoDocked': True, 'autoGamePieceCount': 3, 'autoGamePiecePoints': 15, 'autoMobilityPoints': 3, 'autoPoints': 30, 'coopGamePieceCount': 6, 'coopertitionCriteriaMet': True, 'endGameBridgeState': 'Level', 'endGameChargeStationPoints': 20, 'endGameChargeStationRobot1': 'Docked', 'endGameChargeStationRobot2': 'Park', 'endGameChargeStationRobot3': 'Docked', 'endGameParkPoints': 2, 'foulCount': 0, 'foulPoints': 10, 'linkPoints': 20, 'links': [{'nodes': [3, 4, 5], 'row': 'Mid'}, {'nodes': [0, 1, 2], 'row': 'Top'}, {'nodes': [3, 4, 5], 'row': 'Top'}, {'nodes': [6, 7, 8], 'row': 'Top'}], 'mobilityRobot1': 'Yes', 'mobilityRobot2': 'No', 'mobilityRobot3': 'No', 'rp': 2, 'sustainabilityBonusAchieved': True, 'techFoulCount': 0, 'teleopCommunity': {'B': ['None', 'None', 'None', 'None', 'None', 'None', 'None', 'Cone', 'Cone'], 'M': ['None', 'None', 'None', 'Cone', 'Cube', 'Cone', 'None', 'Cube', 'Cone'], 'T': ['Cone', 'Cube', 'Cone', 'Cone', 'Cube', 'Cone', 'Cone', 'Cube', 'Cone']}, 'teleopGamePieceCount': 16, 'teleopGamePiecePoints': 52, 'teleopPoints': 74, 'totalChargeStationPoints': 32, 'totalPoints': 134}}, 'set_number': 1, 'time': 1680899400, 'videos': [{'key': 'xx28oENQpsE', 'type': 'youtube'}, {'key': 'eBg_wJizMRY', 'type': 'youtube'}], 'winning_alliance': 'blue'}),\n",
       " Match({'actual_time': 1680889525, 'alliances': {'blue': {'dq_team_keys': [], 'score': 143, 'surrogate_team_keys': [], 'team_keys': ['frc2706', 'frc1334', 'frc4678']}, 'red': {'dq_team_keys': [], 'score': 120, 'surrogate_team_keys': [], 'team_keys': ['frc1325', 'frc8729', 'frc7722']}}, 'comp_level': 'qm', 'event_key': '2023oncmp2', 'key': '2023oncmp2_qm76', 'match_number': 76, 'post_result_time': 1680889691, 'predicted_time': 1680903880, 'score_breakdown': {'blue': {'activationBonusAchieved': True, 'adjustPoints': 0, 'autoBridgeState': 'Level', 'autoChargeStationPoints': 12, 'autoChargeStationRobot1': 'None', 'autoChargeStationRobot2': 'Docked', 'autoChargeStationRobot3': 'None', 'autoCommunity': {'B': ['None', 'None', 'None', 'None', 'None', 'None', 'None', 'None', 'None'], 'M': ['Cone', 'None', 'None', 'None', 'None', 'Cone', 'None', 'None', 'None'], 'T': ['Cone', 'Cube', 'None', 'None', 'None', 'None', 'None', 'Cube', 'None']}, 'autoDocked': True, 'autoGamePieceCount': 5, 'autoGamePiecePoints': 26, 'autoMobilityPoints': 6, 'autoPoints': 44, 'coopGamePieceCount': 7, 'coopertitionCriteriaMet': True, 'endGameBridgeState': 'Level', 'endGameChargeStationPoints': 20, 'endGameChargeStationRobot1': 'Docked', 'endGameChargeStationRobot2': 'Docked', 'endGameChargeStationRobot3': 'Park', 'endGameParkPoints': 2, 'foulCount': 3, 'foulPoints': 0, 'linkPoints': 25, 'links': [{'nodes': [0, 1, 2], 'row': 'Mid'}, {'nodes': [3, 4, 5], 'row': 'Mid'}, {'nodes': [0, 1, 2], 'row': 'Top'}, {'nodes': [3, 4, 5], 'row': 'Top'}, {'nodes': [6, 7, 8], 'row': 'Top'}], 'mobilityRobot1': 'Yes', 'mobilityRobot2': 'No', 'mobilityRobot3': 'Yes', 'rp': 4, 'sustainabilityBonusAchieved': True, 'techFoulCount': 0, 'teleopCommunity': {'B': ['None', 'None', 'Cone', 'None', 'Cube', 'None', 'None', 'None', 'None'], 'M': ['Cone', 'Cube', 'Cone', 'Cone', 'Cube', 'Cone', 'None', 'Cube', 'Cone'], 'T': ['Cone', 'Cube', 'Cone', 'Cone', 'Cube', 'Cone', 'Cone', 'Cube', 'Cone']}, 'teleopGamePieceCount': 19, 'teleopGamePiecePoints': 52, 'teleopPoints': 74, 'totalChargeStationPoints': 32, 'totalPoints': 143}, 'red': {'activationBonusAchieved': True, 'adjustPoints': 0, 'autoBridgeState': 'Level', 'autoChargeStationPoints': 12, 'autoChargeStationRobot1': 'None', 'autoChargeStationRobot2': 'None', 'autoChargeStationRobot3': 'Docked', 'autoCommunity': {'B': ['None', 'None', 'None', 'None', 'None', 'None', 'None', 'None', 'None'], 'M': ['None', 'None', 'None', 'None', 'Cube', 'None', 'None', 'None', 'None'], 'T': ['Cone', 'Cube', 'None', 'None', 'None', 'None', 'None', 'Cube', 'None']}, 'autoDocked': True, 'autoGamePieceCount': 4, 'autoGamePiecePoints': 22, 'autoMobilityPoints': 9, 'autoPoints': 43, 'coopGamePieceCount': 3, 'coopertitionCriteriaMet': True, 'endGameBridgeState': 'Level', 'endGameChargeStationPoints': 30, 'endGameChargeStationRobot1': 'Docked', 'endGameChargeStationRobot2': 'Docked', 'endGameChargeStationRobot3': 'Docked', 'endGameParkPoints': 0, 'foulCount': 0, 'foulPoints': 15, 'linkPoints': 5, 'links': [{'nodes': [6, 7, 8], 'row': 'Top'}], 'mobilityRobot1': 'Yes', 'mobilityRobot2': 'Yes', 'mobilityRobot3': 'Yes', 'rp': 1, 'sustainabilityBonusAchieved': False, 'techFoulCount': 0, 'teleopCommunity': {'B': ['Cube', 'Cube', 'None', 'None', 'None', 'Cone', 'None', 'None', 'None'], 'M': ['None', 'Cube', 'None', 'None', 'Cube', 'None', 'None', 'Cube', 'None'], 'T': ['Cone', 'Cube', 'None', 'None', 'Cube', 'None', 'Cone', 'Cube', 'Cone']}, 'teleopGamePieceCount': 12, 'teleopGamePiecePoints': 27, 'teleopPoints': 57, 'totalChargeStationPoints': 42, 'totalPoints': 120}}, 'set_number': 1, 'time': 1680900000, 'videos': [{'key': 'ImZycKdexNQ', 'type': 'youtube'}, {'key': 'AoNl-QzyMX4', 'type': 'youtube'}], 'winning_alliance': 'blue'}),\n",
       " Match({'actual_time': 1680890058, 'alliances': {'blue': {'dq_team_keys': [], 'score': 129, 'surrogate_team_keys': [], 'team_keys': ['frc865', 'frc6864', 'frc5036']}, 'red': {'dq_team_keys': [], 'score': 161, 'surrogate_team_keys': [], 'team_keys': ['frc2609', 'frc4946', 'frc5885']}}, 'comp_level': 'qm', 'event_key': '2023oncmp2', 'key': '2023oncmp2_qm77', 'match_number': 77, 'post_result_time': 1680890225, 'predicted_time': 1680904456, 'score_breakdown': {'blue': {'activationBonusAchieved': True, 'adjustPoints': 0, 'autoBridgeState': 'Level', 'autoChargeStationPoints': 12, 'autoChargeStationRobot1': 'Docked', 'autoChargeStationRobot2': 'None', 'autoChargeStationRobot3': 'None', 'autoCommunity': {'B': ['None', 'None', 'None', 'None', 'None', 'None', 'None', 'None', 'None'], 'M': ['None', 'None', 'None', 'None', 'None', 'None', 'None', 'None', 'None'], 'T': ['None', 'Cube', 'None', 'Cone', 'None', 'None', 'None', 'Cube', 'None']}, 'autoDocked': True, 'autoGamePieceCount': 3, 'autoGamePiecePoints': 18, 'autoMobilityPoints': 9, 'autoPoints': 39, 'coopGamePieceCount': 5, 'coopertitionCriteriaMet': True, 'endGameBridgeState': 'Level', 'endGameChargeStationPoints': 30, 'endGameChargeStationRobot1': 'Docked', 'endGameChargeStationRobot2': 'Docked', 'endGameChargeStationRobot3': 'Docked', 'endGameParkPoints': 0, 'foulCount': 2, 'foulPoints': 10, 'linkPoints': 15, 'links': [{'nodes': [4, 5, 6], 'row': 'Bottom'}, {'nodes': [0, 1, 2], 'row': 'Top'}, {'nodes': [3, 4, 5], 'row': 'Top'}], 'mobilityRobot1': 'Yes', 'mobilityRobot2': 'Yes', 'mobilityRobot3': 'Yes', 'rp': 1, 'sustainabilityBonusAchieved': False, 'techFoulCount': 0, 'teleopCommunity': {'B': ['Cube', 'None', 'Cube', 'None', 'Cube', 'Cube', 'Cube', 'None', 'None'], 'M': ['None', 'None', 'None', 'None', 'None', 'None', 'None', 'None', 'None'], 'T': ['Cone', 'Cube', 'Cone', 'Cone', 'Cube', 'Cone', 'Cone', 'Cube', 'None']}, 'teleopGamePieceCount': 13, 'teleopGamePiecePoints': 35, 'teleopPoints': 65, 'totalChargeStationPoints': 42, 'totalPoints': 129}, 'red': {'activationBonusAchieved': True, 'adjustPoints': 0, 'autoBridgeState': 'Level', 'autoChargeStationPoints': 12, 'autoChargeStationRobot1': 'Docked', 'autoChargeStationRobot2': 'None', 'autoChargeStationRobot3': 'None', 'autoCommunity': {'B': ['None', 'None', 'None', 'None', 'None', 'None', 'None', 'None', 'None'], 'M': ['None', 'None', 'None', 'None', 'None', 'None', 'None', 'Cube', 'None'], 'T': ['None', 'Cube', 'None', 'Cone', 'None', 'None', 'None', 'Cube', 'None']}, 'autoDocked': True, 'autoGamePieceCount': 4, 'autoGamePiecePoints': 22, 'autoMobilityPoints': 9, 'autoPoints': 43, 'coopGamePieceCount': 5, 'coopertitionCriteriaMet': True, 'endGameBridgeState': 'Level', 'endGameChargeStationPoints': 20, 'endGameChargeStationRobot1': 'Docked', 'endGameChargeStationRobot2': 'Park', 'endGameChargeStationRobot3': 'Docked', 'endGameParkPoints': 2, 'foulCount': 2, 'foulPoints': 10, 'linkPoints': 30, 'links': [{'nodes': [0, 1, 2], 'row': 'Bottom'}, {'nodes': [0, 1, 2], 'row': 'Mid'}, {'nodes': [5, 6, 7], 'row': 'Mid'}, {'nodes': [0, 1, 2], 'row': 'Top'}, {'nodes': [3, 4, 5], 'row': 'Top'}, {'nodes': [6, 7, 8], 'row': 'Top'}], 'mobilityRobot1': 'Yes', 'mobilityRobot2': 'Yes', 'mobilityRobot3': 'Yes', 'rp': 4, 'sustainabilityBonusAchieved': True, 'techFoulCount': 0, 'teleopCommunity': {'B': ['Cube', 'Cube', 'Cube', 'None', 'Cube', 'None', 'None', 'None', 'None'], 'M': ['Cone', 'Cube', 'Cone', 'None', 'None', 'Cone', 'Cone', 'Cube', 'Cone'], 'T': ['Cone', 'Cube', 'Cone', 'Cone', 'Cube', 'Cone', 'Cone', 'Cube', 'Cone']}, 'teleopGamePieceCount': 20, 'teleopGamePiecePoints': 56, 'teleopPoints': 78, 'totalChargeStationPoints': 32, 'totalPoints': 161}}, 'set_number': 1, 'time': 1680900600, 'videos': [{'key': '-3APxzFr-Xw', 'type': 'youtube'}, {'key': 'WddRu2hbfws', 'type': 'youtube'}], 'winning_alliance': 'red'}),\n",
       " Match({'actual_time': 1680890593, 'alliances': {'blue': {'dq_team_keys': [], 'score': 86, 'surrogate_team_keys': [], 'team_keys': ['frc7476', 'frc8764', 'frc6378']}, 'red': {'dq_team_keys': [], 'score': 136, 'surrogate_team_keys': [], 'team_keys': ['frc5024', 'frc4688', 'frc6854']}}, 'comp_level': 'qm', 'event_key': '2023oncmp2', 'key': '2023oncmp2_qm78', 'match_number': 78, 'post_result_time': 1680890763, 'predicted_time': 1680904977, 'score_breakdown': {'blue': {'activationBonusAchieved': True, 'adjustPoints': 0, 'autoBridgeState': 'Level', 'autoChargeStationPoints': 12, 'autoChargeStationRobot1': 'None', 'autoChargeStationRobot2': 'None', 'autoChargeStationRobot3': 'Docked', 'autoCommunity': {'B': ['None', 'None', 'None', 'None', 'None', 'None', 'None', 'None', 'None'], 'M': ['None', 'None', 'None', 'None', 'None', 'None', 'None', 'None', 'None'], 'T': ['None', 'Cube', 'None', 'Cone', 'None', 'None', 'None', 'Cube', 'None']}, 'autoDocked': True, 'autoGamePieceCount': 3, 'autoGamePiecePoints': 18, 'autoMobilityPoints': 3, 'autoPoints': 33, 'coopGamePieceCount': 3, 'coopertitionCriteriaMet': True, 'endGameBridgeState': 'Level', 'endGameChargeStationPoints': 20, 'endGameChargeStationRobot1': 'Park', 'endGameChargeStationRobot2': 'Docked', 'endGameChargeStationRobot3': 'Docked', 'endGameParkPoints': 2, 'foulCount': 2, 'foulPoints': 0, 'linkPoints': 10, 'links': [{'nodes': [5, 6, 7], 'row': 'Bottom'}, {'nodes': [6, 7, 8], 'row': 'Top'}], 'mobilityRobot1': 'Yes', 'mobilityRobot2': 'No', 'mobilityRobot3': 'No', 'rp': 1, 'sustainabilityBonusAchieved': False, 'techFoulCount': 0, 'teleopCommunity': {'B': ['None', 'None', 'None', 'None', 'None', 'Cube', 'Cube', 'Cube', 'None'], 'M': ['None', 'None', 'None', 'None', 'None', 'None', 'None', 'None', 'None'], 'T': ['None', 'Cube', 'None', 'Cone', 'Cube', 'None', 'Cone', 'Cube', 'Cone']}, 'teleopGamePieceCount': 9, 'teleopGamePiecePoints': 21, 'teleopPoints': 43, 'totalChargeStationPoints': 32, 'totalPoints': 86}, 'red': {'activationBonusAchieved': True, 'adjustPoints': 0, 'autoBridgeState': 'Level', 'autoChargeStationPoints': 12, 'autoChargeStationRobot1': 'Docked', 'autoChargeStationRobot2': 'None', 'autoChargeStationRobot3': 'None', 'autoCommunity': {'B': ['None', 'None', 'None', 'None', 'None', 'None', 'None', 'None', 'None'], 'M': ['None', 'None', 'None', 'None', 'Cube', 'None', 'None', 'Cube', 'None'], 'T': ['None', 'Cube', 'None', 'None', 'None', 'None', 'None', 'None', 'None']}, 'autoDocked': True, 'autoGamePieceCount': 3, 'autoGamePiecePoints': 14, 'autoMobilityPoints': 9, 'autoPoints': 35, 'coopGamePieceCount': 7, 'coopertitionCriteriaMet': True, 'endGameBridgeState': 'Level', 'endGameChargeStationPoints': 20, 'endGameChargeStationRobot1': 'Docked', 'endGameChargeStationRobot2': 'None', 'endGameChargeStationRobot3': 'Docked', 'endGameParkPoints': 0, 'foulCount': 0, 'foulPoints': 10, 'linkPoints': 20, 'links': [{'nodes': [3, 4, 5], 'row': 'Mid'}, {'nodes': [6, 7, 8], 'row': 'Mid'}, {'nodes': [0, 1, 2], 'row': 'Top'}, {'nodes': [3, 4, 5], 'row': 'Top'}], 'mobilityRobot1': 'Yes', 'mobilityRobot2': 'Yes', 'mobilityRobot3': 'Yes', 'rp': 4, 'sustainabilityBonusAchieved': True, 'techFoulCount': 0, 'teleopCommunity': {'B': ['None', 'Cube', 'None', 'None', 'Cube', 'None', 'None', 'None', 'None'], 'M': ['None', 'None', 'None', 'Cone', 'Cube', 'Cone', 'Cone', 'Cube', 'Cone'], 'T': ['Cone', 'Cube', 'Cone', 'Cone', 'Cube', 'Cone', 'Cone', 'Cube', 'None']}, 'teleopGamePieceCount': 16, 'teleopGamePiecePoints': 51, 'teleopPoints': 71, 'totalChargeStationPoints': 32, 'totalPoints': 136}}, 'set_number': 1, 'time': 1680901200, 'videos': [{'key': '_KcvP2-Q4Kw', 'type': 'youtube'}, {'key': 'VdHUu9MQ6a8', 'type': 'youtube'}], 'winning_alliance': 'red'}),\n",
       " Match({'actual_time': 1680891199, 'alliances': {'blue': {'dq_team_keys': [], 'score': 117, 'surrogate_team_keys': [], 'team_keys': ['frc7757', 'frc6865', 'frc1310']}, 'red': {'dq_team_keys': [], 'score': 111, 'surrogate_team_keys': [], 'team_keys': ['frc1285', 'frc2013', 'frc2708']}}, 'comp_level': 'qm', 'event_key': '2023oncmp2', 'key': '2023oncmp2_qm79', 'match_number': 79, 'post_result_time': 1680891375, 'predicted_time': 1680905644, 'score_breakdown': {'blue': {'activationBonusAchieved': True, 'adjustPoints': 0, 'autoBridgeState': 'Level', 'autoChargeStationPoints': 12, 'autoChargeStationRobot1': 'None', 'autoChargeStationRobot2': 'Docked', 'autoChargeStationRobot3': 'None', 'autoCommunity': {'B': ['None', 'None', 'None', 'None', 'None', 'None', 'None', 'None', 'None'], 'M': ['None', 'None', 'None', 'None', 'None', 'None', 'None', 'None', 'None'], 'T': ['None', 'Cube', 'None', 'None', 'Cube', 'None', 'None', 'Cube', 'Cone']}, 'autoDocked': True, 'autoGamePieceCount': 4, 'autoGamePiecePoints': 24, 'autoMobilityPoints': 6, 'autoPoints': 42, 'coopGamePieceCount': 4, 'coopertitionCriteriaMet': True, 'endGameBridgeState': 'Level', 'endGameChargeStationPoints': 30, 'endGameChargeStationRobot1': 'Docked', 'endGameChargeStationRobot2': 'Docked', 'endGameChargeStationRobot3': 'Docked', 'endGameParkPoints': 0, 'foulCount': 0, 'foulPoints': 0, 'linkPoints': 15, 'links': [{'nodes': [0, 1, 2], 'row': 'Bottom'}, {'nodes': [3, 4, 5], 'row': 'Top'}, {'nodes': [6, 7, 8], 'row': 'Top'}], 'mobilityRobot1': 'Yes', 'mobilityRobot2': 'No', 'mobilityRobot3': 'Yes', 'rp': 3, 'sustainabilityBonusAchieved': False, 'techFoulCount': 0, 'teleopCommunity': {'B': ['Cube', 'Cube', 'Cube', 'Cone', 'None', 'None', 'Cube', 'None', 'Cube'], 'M': ['None', 'None', 'None', 'None', 'None', 'None', 'None', 'Cube', 'None'], 'T': ['None', 'Cube', 'None', 'Cone', 'Cube', 'Cone', 'Cone', 'Cube', 'Cone']}, 'teleopGamePieceCount': 14, 'teleopGamePiecePoints': 30, 'teleopPoints': 60, 'totalChargeStationPoints': 42, 'totalPoints': 117}, 'red': {'activationBonusAchieved': False, 'adjustPoints': 0, 'autoBridgeState': 'Level', 'autoChargeStationPoints': 0, 'autoChargeStationRobot1': 'None', 'autoChargeStationRobot2': 'None', 'autoChargeStationRobot3': 'None', 'autoCommunity': {'B': ['None', 'Cube', 'None', 'None', 'None', 'None', 'None', 'None', 'None'], 'M': ['None', 'None', 'None', 'None', 'None', 'None', 'None', 'None', 'None'], 'T': ['None', 'Cube', 'None', 'None', 'None', 'None', 'None', 'None', 'Cone']}, 'autoDocked': False, 'autoGamePieceCount': 3, 'autoGamePiecePoints': 15, 'autoMobilityPoints': 3, 'autoPoints': 18, 'coopGamePieceCount': 7, 'coopertitionCriteriaMet': True, 'endGameBridgeState': 'NotLevel', 'endGameChargeStationPoints': 18, 'endGameChargeStationRobot1': 'Docked', 'endGameChargeStationRobot2': 'Docked', 'endGameChargeStationRobot3': 'Docked', 'endGameParkPoints': 0, 'foulCount': 0, 'foulPoints': 0, 'linkPoints': 25, 'links': [{'nodes': [0, 1, 2], 'row': 'Bottom'}, {'nodes': [3, 4, 5], 'row': 'Bottom'}, {'nodes': [6, 7, 8], 'row': 'Bottom'}, {'nodes': [3, 4, 5], 'row': 'Top'}, {'nodes': [6, 7, 8], 'row': 'Top'}], 'mobilityRobot1': 'No', 'mobilityRobot2': 'No', 'mobilityRobot3': 'Yes', 'rp': 1, 'sustainabilityBonusAchieved': True, 'techFoulCount': 0, 'teleopCommunity': {'B': ['Cone', 'Cube', 'Cube', 'Cube', 'Cube', 'Cube', 'Cone', 'Cube', 'Cube'], 'M': ['None', 'Cube', 'None', 'None', 'Cube', 'None', 'None', 'Cube', 'None'], 'T': ['None', 'Cube', 'None', 'Cone', 'Cube', 'Cone', 'Cone', 'Cube', 'Cone']}, 'teleopGamePieceCount': 19, 'teleopGamePiecePoints': 50, 'teleopPoints': 68, 'totalChargeStationPoints': 18, 'totalPoints': 111}}, 'set_number': 1, 'time': 1680901800, 'videos': [{'key': 'AICJigUxsM0', 'type': 'youtube'}, {'key': 'C4k9nsuN7fs', 'type': 'youtube'}], 'winning_alliance': 'blue'}),\n",
       " Match({'actual_time': 1680784059, 'alliances': {'blue': {'dq_team_keys': [], 'score': 112, 'surrogate_team_keys': [], 'team_keys': ['frc4920', 'frc1325', 'frc1114']}, 'red': {'dq_team_keys': [], 'score': 102, 'surrogate_team_keys': [], 'team_keys': ['frc7722', 'frc6864', 'frc8764']}}, 'comp_level': 'qm', 'event_key': '2023oncmp2', 'key': '2023oncmp2_qm8', 'match_number': 8, 'post_result_time': 1680784229, 'predicted_time': 1680798362, 'score_breakdown': {'blue': {'activationBonusAchieved': False, 'adjustPoints': 0, 'autoBridgeState': 'NotLevel', 'autoChargeStationPoints': 0, 'autoChargeStationRobot1': 'None', 'autoChargeStationRobot2': 'None', 'autoChargeStationRobot3': 'None', 'autoCommunity': {'B': ['None', 'None', 'None', 'None', 'None', 'None', 'None', 'None', 'None'], 'M': ['None', 'None', 'None', 'None', 'None', 'None', 'None', 'None', 'None'], 'T': ['None', 'Cube', 'None', 'None', 'None', 'Cone', 'None', 'None', 'Cone']}, 'autoDocked': False, 'autoGamePieceCount': 3, 'autoGamePiecePoints': 18, 'autoMobilityPoints': 9, 'autoPoints': 27, 'coopGamePieceCount': 6, 'coopertitionCriteriaMet': True, 'endGameBridgeState': 'Level', 'endGameChargeStationPoints': 20, 'endGameChargeStationRobot1': 'Docked', 'endGameChargeStationRobot2': 'Docked', 'endGameChargeStationRobot3': 'None', 'endGameParkPoints': 0, 'foulCount': 0, 'foulPoints': 0, 'linkPoints': 20, 'links': [{'nodes': [2, 3, 4], 'row': 'Mid'}, {'nodes': [0, 1, 2], 'row': 'Top'}, {'nodes': [3, 4, 5], 'row': 'Top'}, {'nodes': [6, 7, 8], 'row': 'Top'}], 'mobilityRobot1': 'Yes', 'mobilityRobot2': 'Yes', 'mobilityRobot3': 'Yes', 'rp': 3, 'sustainabilityBonusAchieved': True, 'techFoulCount': 0, 'teleopCommunity': {'B': ['None', 'None', 'None', 'None', 'None', 'None', 'None', 'None', 'None'], 'M': ['None', 'None', 'Cone', 'Cone', 'Cube', 'Cone', 'None', 'None', 'Cone'], 'T': ['Cone', 'Cube', 'Cone', 'Cone', 'Cube', 'Cone', 'Cone', 'Cube', 'Cone']}, 'teleopGamePieceCount': 14, 'teleopGamePiecePoints': 45, 'teleopPoints': 65, 'totalChargeStationPoints': 20, 'totalPoints': 112}, 'red': {'activationBonusAchieved': True, 'adjustPoints': 0, 'autoBridgeState': 'Level', 'autoChargeStationPoints': 12, 'autoChargeStationRobot1': 'Docked', 'autoChargeStationRobot2': 'None', 'autoChargeStationRobot3': 'None', 'autoCommunity': {'B': ['None', 'None', 'None', 'None', 'Cube', 'None', 'None', 'Cube', 'None'], 'M': ['None', 'None', 'None', 'None', 'None', 'None', 'None', 'None', 'None'], 'T': ['None', 'Cube', 'None', 'None', 'None', 'None', 'None', 'None', 'None']}, 'autoDocked': True, 'autoGamePieceCount': 3, 'autoGamePiecePoints': 12, 'autoMobilityPoints': 9, 'autoPoints': 33, 'coopGamePieceCount': 3, 'coopertitionCriteriaMet': True, 'endGameBridgeState': 'Level', 'endGameChargeStationPoints': 20, 'endGameChargeStationRobot1': 'Docked', 'endGameChargeStationRobot2': 'Docked', 'endGameChargeStationRobot3': 'Park', 'endGameParkPoints': 2, 'foulCount': 0, 'foulPoints': 0, 'linkPoints': 20, 'links': [{'nodes': [0, 1, 2], 'row': 'Bottom'}, {'nodes': [3, 4, 5], 'row': 'Bottom'}, {'nodes': [6, 7, 8], 'row': 'Bottom'}, {'nodes': [0, 1, 2], 'row': 'Top'}], 'mobilityRobot1': 'Yes', 'mobilityRobot2': 'Yes', 'mobilityRobot3': 'Yes', 'rp': 2, 'sustainabilityBonusAchieved': True, 'techFoulCount': 0, 'teleopCommunity': {'B': ['Cube', 'Cube', 'Cube', 'Cube', 'Cube', 'Cube', 'Cube', 'Cube', 'Cube'], 'M': ['None', 'Cube', 'None', 'None', 'None', 'None', 'None', 'None', 'None'], 'T': ['Cone', 'Cube', 'Cone', 'None', 'None', 'None', 'None', 'None', 'None']}, 'teleopGamePieceCount': 13, 'teleopGamePiecePoints': 27, 'teleopPoints': 49, 'totalChargeStationPoints': 32, 'totalPoints': 102}}, 'set_number': 1, 'time': 1680797400, 'videos': [{'key': 'YhPNQx1pqgw', 'type': 'youtube'}, {'key': 'ANpSKAOZQno', 'type': 'youtube'}], 'winning_alliance': 'blue'}),\n",
       " Match({'actual_time': 1680891972, 'alliances': {'blue': {'dq_team_keys': ['frc1114'], 'score': 128, 'surrogate_team_keys': [], 'team_keys': ['frc2386', 'frc3739', 'frc1114']}, 'red': {'dq_team_keys': [], 'score': 97, 'surrogate_team_keys': [], 'team_keys': ['frc7690', 'frc610', 'frc4343']}}, 'comp_level': 'qm', 'event_key': '2023oncmp2', 'key': '2023oncmp2_qm80', 'match_number': 80, 'post_result_time': 1680892196, 'predicted_time': 1680906410, 'score_breakdown': {'blue': {'activationBonusAchieved': True, 'adjustPoints': 0, 'autoBridgeState': 'Level', 'autoChargeStationPoints': 12, 'autoChargeStationRobot1': 'Docked', 'autoChargeStationRobot2': 'None', 'autoChargeStationRobot3': 'None', 'autoCommunity': {'B': ['None', 'None', 'None', 'None', 'None', 'None', 'None', 'None', 'None'], 'M': ['None', 'Cube', 'None', 'None', 'None', 'None', 'None', 'None', 'None'], 'T': ['None', 'None', 'None', 'None', 'Cube', 'None', 'None', 'None', 'Cone']}, 'autoDocked': True, 'autoGamePieceCount': 3, 'autoGamePiecePoints': 16, 'autoMobilityPoints': 6, 'autoPoints': 34, 'coopGamePieceCount': 2, 'coopertitionCriteriaMet': False, 'endGameBridgeState': 'Level', 'endGameChargeStationPoints': 20, 'endGameChargeStationRobot1': 'Docked', 'endGameChargeStationRobot2': 'Docked', 'endGameChargeStationRobot3': 'None', 'endGameParkPoints': 0, 'foulCount': 1, 'foulPoints': 5, 'linkPoints': 20, 'links': [{'nodes': [0, 1, 2], 'row': 'Mid'}, {'nodes': [6, 7, 8], 'row': 'Mid'}, {'nodes': [0, 1, 2], 'row': 'Top'}, {'nodes': [6, 7, 8], 'row': 'Top'}], 'mobilityRobot1': 'No', 'mobilityRobot2': 'Yes', 'mobilityRobot3': 'Yes', 'rp': 3, 'sustainabilityBonusAchieved': False, 'techFoulCount': 1, 'teleopCommunity': {'B': ['Cone', 'Cone', 'None', 'None', 'None', 'None', 'None', 'Cube', 'None'], 'M': ['Cone', 'Cube', 'Cone', 'None', 'Cube', 'None', 'Cone', 'Cube', 'Cone'], 'T': ['Cone', 'Cube', 'Cone', 'None', 'Cube', 'None', 'Cone', 'Cube', 'Cone']}, 'teleopGamePieceCount': 17, 'teleopGamePiecePoints': 49, 'teleopPoints': 69, 'totalChargeStationPoints': 32, 'totalPoints': 128}, 'red': {'activationBonusAchieved': True, 'adjustPoints': 0, 'autoBridgeState': 'Level', 'autoChargeStationPoints': 12, 'autoChargeStationRobot1': 'None', 'autoChargeStationRobot2': 'Docked', 'autoChargeStationRobot3': 'None', 'autoCommunity': {'B': ['None', 'None', 'None', 'None', 'None', 'None', 'None', 'None', 'None'], 'M': ['None', 'None', 'None', 'None', 'None', 'None', 'None', 'None', 'None'], 'T': ['Cone', 'None', 'None', 'None', 'Cube', 'None', 'None', 'None', 'Cone']}, 'autoDocked': True, 'autoGamePieceCount': 3, 'autoGamePiecePoints': 18, 'autoMobilityPoints': 9, 'autoPoints': 39, 'coopGamePieceCount': 4, 'coopertitionCriteriaMet': True, 'endGameBridgeState': 'Level', 'endGameChargeStationPoints': 20, 'endGameChargeStationRobot1': 'None', 'endGameChargeStationRobot2': 'Docked', 'endGameChargeStationRobot3': 'Docked', 'endGameParkPoints': 0, 'foulCount': 1, 'foulPoints': 17, 'linkPoints': 0, 'links': [], 'mobilityRobot1': 'Yes', 'mobilityRobot2': 'Yes', 'mobilityRobot3': 'Yes', 'rp': 1, 'sustainabilityBonusAchieved': False, 'techFoulCount': 0, 'teleopCommunity': {'B': ['None', 'Cube', 'None', 'Cone', 'None', 'Cube', 'None', 'None', 'None'], 'M': ['None', 'None', 'None', 'None', 'None', 'None', 'None', 'None', 'None'], 'T': ['Cone', 'Cube', 'None', 'None', 'Cube', 'Cone', 'None', 'Cube', 'Cone']}, 'teleopGamePieceCount': 9, 'teleopGamePiecePoints': 21, 'teleopPoints': 41, 'totalChargeStationPoints': 32, 'totalPoints': 97}}, 'set_number': 1, 'time': 1680902400, 'videos': [{'key': 'cM8AnP8-U7w', 'type': 'youtube'}, {'key': '5dPJJAIj4gE', 'type': 'youtube'}], 'winning_alliance': 'blue'}),\n",
       " Match({'actual_time': 1680784612, 'alliances': {'blue': {'dq_team_keys': [], 'score': 97, 'surrogate_team_keys': [], 'team_keys': ['frc5596', 'frc5870', 'frc2706']}, 'red': {'dq_team_keys': [], 'score': 115, 'surrogate_team_keys': [], 'team_keys': ['frc6987', 'frc5024', 'frc865']}}, 'comp_level': 'qm', 'event_key': '2023oncmp2', 'key': '2023oncmp2_qm9', 'match_number': 9, 'post_result_time': 1680784785, 'predicted_time': 1680799081, 'score_breakdown': {'blue': {'activationBonusAchieved': True, 'adjustPoints': 0, 'autoBridgeState': 'NotLevel', 'autoChargeStationPoints': 8, 'autoChargeStationRobot1': 'None', 'autoChargeStationRobot2': 'Docked', 'autoChargeStationRobot3': 'None', 'autoCommunity': {'B': ['None', 'None', 'None', 'None', 'None', 'None', 'None', 'None', 'None'], 'M': ['None', 'None', 'None', 'None', 'Cube', 'None', 'None', 'None', 'None'], 'T': ['None', 'None', 'None', 'None', 'None', 'None', 'None', 'Cube', 'None']}, 'autoDocked': True, 'autoGamePieceCount': 2, 'autoGamePiecePoints': 10, 'autoMobilityPoints': 3, 'autoPoints': 21, 'coopGamePieceCount': 3, 'coopertitionCriteriaMet': True, 'endGameBridgeState': 'Level', 'endGameChargeStationPoints': 30, 'endGameChargeStationRobot1': 'Docked', 'endGameChargeStationRobot2': 'Docked', 'endGameChargeStationRobot3': 'Docked', 'endGameParkPoints': 0, 'foulCount': 3, 'foulPoints': 5, 'linkPoints': 15, 'links': [{'nodes': [0, 1, 2], 'row': 'Bottom'}, {'nodes': [3, 4, 5], 'row': 'Mid'}, {'nodes': [6, 7, 8], 'row': 'Top'}], 'mobilityRobot1': 'No', 'mobilityRobot2': 'No', 'mobilityRobot3': 'Yes', 'rp': 1, 'sustainabilityBonusAchieved': False, 'techFoulCount': 0, 'teleopCommunity': {'B': ['Cube', 'Cube', 'Cube', 'None', 'None', 'None', 'Cube', 'None', 'Cone'], 'M': ['None', 'None', 'None', 'Cone', 'Cube', 'Cone', 'None', 'None', 'None'], 'T': ['None', 'None', 'None', 'None', 'None', 'None', 'Cone', 'Cube', 'Cone']}, 'teleopGamePieceCount': 11, 'teleopGamePiecePoints': 26, 'teleopPoints': 56, 'totalChargeStationPoints': 38, 'totalPoints': 97}, 'red': {'activationBonusAchieved': True, 'adjustPoints': 0, 'autoBridgeState': 'Level', 'autoChargeStationPoints': 12, 'autoChargeStationRobot1': 'None', 'autoChargeStationRobot2': 'Docked', 'autoChargeStationRobot3': 'None', 'autoCommunity': {'B': ['None', 'None', 'None', 'None', 'None', 'None', 'None', 'None', 'None'], 'M': ['None', 'None', 'None', 'None', 'Cube', 'None', 'None', 'None', 'None'], 'T': ['Cone', 'None', 'None', 'None', 'None', 'None', 'None', 'None', 'None']}, 'autoDocked': True, 'autoGamePieceCount': 2, 'autoGamePiecePoints': 10, 'autoMobilityPoints': 6, 'autoPoints': 28, 'coopGamePieceCount': 3, 'coopertitionCriteriaMet': True, 'endGameBridgeState': 'Level', 'endGameChargeStationPoints': 20, 'endGameChargeStationRobot1': 'None', 'endGameChargeStationRobot2': 'Docked', 'endGameChargeStationRobot3': 'Docked', 'endGameParkPoints': 0, 'foulCount': 1, 'foulPoints': 15, 'linkPoints': 20, 'links': [{'nodes': [0, 1, 2], 'row': 'Bottom'}, {'nodes': [6, 7, 8], 'row': 'Bottom'}, {'nodes': [3, 4, 5], 'row': 'Mid'}, {'nodes': [6, 7, 8], 'row': 'Mid'}], 'mobilityRobot1': 'Yes', 'mobilityRobot2': 'Yes', 'mobilityRobot3': 'No', 'rp': 4, 'sustainabilityBonusAchieved': True, 'techFoulCount': 0, 'teleopCommunity': {'B': ['Cone', 'Cube', 'Cone', 'None', 'None', 'None', 'Cone', 'Cone', 'Cone'], 'M': ['None', 'None', 'None', 'Cone', 'Cube', 'Cone', 'Cone', 'Cube', 'Cone'], 'T': ['Cone', 'Cube', 'None', 'None', 'None', 'None', 'None', 'None', 'None']}, 'teleopGamePieceCount': 14, 'teleopGamePiecePoints': 32, 'teleopPoints': 52, 'totalChargeStationPoints': 32, 'totalPoints': 115}}, 'set_number': 1, 'time': 1680798000, 'videos': [{'key': 'hi7ccsHqFBE', 'type': 'youtube'}, {'key': 'fh9VX7Hfh2w', 'type': 'youtube'}], 'winning_alliance': 'red'}),\n",
       " Match({'actual_time': 1680969940, 'alliances': {'blue': {'dq_team_keys': [], 'score': 151, 'surrogate_team_keys': [], 'team_keys': ['frc4688', 'frc4920', 'frc865']}, 'red': {'dq_team_keys': [], 'score': 163, 'surrogate_team_keys': [], 'team_keys': ['frc3739', 'frc4903', 'frc1325']}}, 'comp_level': 'sf', 'event_key': '2023oncmp2', 'key': '2023oncmp2_sf10m1', 'match_number': 1, 'post_result_time': 1680970105, 'predicted_time': 1680969960, 'score_breakdown': {'blue': {'activationBonusAchieved': False, 'adjustPoints': 0, 'autoBridgeState': 'Level', 'autoChargeStationPoints': 12, 'autoChargeStationRobot1': 'None', 'autoChargeStationRobot2': 'Docked', 'autoChargeStationRobot3': 'None', 'autoCommunity': {'B': ['None', 'None', 'None', 'None', 'None', 'None', 'None', 'None', 'None'], 'M': ['None', 'None', 'None', 'None', 'None', 'None', 'None', 'None', 'None'], 'T': ['Cone', 'None', 'None', 'Cone', 'None', 'None', 'None', 'Cube', 'None']}, 'autoDocked': True, 'autoGamePieceCount': 3, 'autoGamePiecePoints': 18, 'autoMobilityPoints': 9, 'autoPoints': 39, 'coopGamePieceCount': 6, 'coopertitionCriteriaMet': False, 'endGameBridgeState': 'Level', 'endGameChargeStationPoints': 30, 'endGameChargeStationRobot1': 'Docked', 'endGameChargeStationRobot2': 'Docked', 'endGameChargeStationRobot3': 'Docked', 'endGameParkPoints': 0, 'foulCount': 0, 'foulPoints': 5, 'linkPoints': 20, 'links': [{'nodes': [0, 1, 2], 'row': 'Mid'}, {'nodes': [0, 1, 2], 'row': 'Top'}, {'nodes': [3, 4, 5], 'row': 'Top'}, {'nodes': [6, 7, 8], 'row': 'Top'}], 'mobilityRobot1': 'Yes', 'mobilityRobot2': 'Yes', 'mobilityRobot3': 'Yes', 'rp': 0, 'sustainabilityBonusAchieved': False, 'techFoulCount': 0, 'teleopCommunity': {'B': ['Cube', 'None', 'None', 'Cube', 'None', 'None', 'Cone', 'None', 'None'], 'M': ['Cone', 'Cube', 'Cone', 'Cone', 'Cube', 'None', 'Cone', 'Cube', 'None'], 'T': ['Cone', 'Cube', 'Cone', 'Cone', 'Cube', 'Cone', 'Cone', 'Cube', 'Cone']}, 'teleopGamePieceCount': 19, 'teleopGamePiecePoints': 57, 'teleopPoints': 87, 'totalChargeStationPoints': 42, 'totalPoints': 151}, 'red': {'activationBonusAchieved': False, 'adjustPoints': 0, 'autoBridgeState': 'Level', 'autoChargeStationPoints': 12, 'autoChargeStationRobot1': 'None', 'autoChargeStationRobot2': 'Docked', 'autoChargeStationRobot3': 'None', 'autoCommunity': {'B': ['None', 'None', 'None', 'None', 'None', 'None', 'None', 'None', 'None'], 'M': ['None', 'None', 'None', 'None', 'None', 'None', 'None', 'None', 'None'], 'T': ['Cone', 'Cube', 'None', 'None', 'Cube', 'None', 'None', 'Cube', 'None']}, 'autoDocked': True, 'autoGamePieceCount': 4, 'autoGamePiecePoints': 24, 'autoMobilityPoints': 9, 'autoPoints': 45, 'coopGamePieceCount': 6, 'coopertitionCriteriaMet': False, 'endGameBridgeState': 'Level', 'endGameChargeStationPoints': 30, 'endGameChargeStationRobot1': 'Docked', 'endGameChargeStationRobot2': 'Docked', 'endGameChargeStationRobot3': 'Docked', 'endGameParkPoints': 0, 'foulCount': 1, 'foulPoints': 0, 'linkPoints': 30, 'links': [{'nodes': [0, 1, 2], 'row': 'Mid'}, {'nodes': [3, 4, 5], 'row': 'Mid'}, {'nodes': [6, 7, 8], 'row': 'Mid'}, {'nodes': [0, 1, 2], 'row': 'Top'}, {'nodes': [3, 4, 5], 'row': 'Top'}, {'nodes': [6, 7, 8], 'row': 'Top'}], 'mobilityRobot1': 'Yes', 'mobilityRobot2': 'Yes', 'mobilityRobot3': 'Yes', 'rp': 0, 'sustainabilityBonusAchieved': False, 'techFoulCount': 0, 'teleopCommunity': {'B': ['None', 'Cube', 'Cone', 'None', 'None', 'None', 'None', 'None', 'Cube'], 'M': ['Cone', 'Cube', 'Cone', 'Cone', 'Cube', 'Cone', 'Cone', 'Cube', 'Cone'], 'T': ['Cone', 'Cube', 'Cone', 'Cone', 'Cube', 'Cone', 'Cone', 'Cube', 'Cone']}, 'teleopGamePieceCount': 21, 'teleopGamePiecePoints': 58, 'teleopPoints': 88, 'totalChargeStationPoints': 42, 'totalPoints': 163}}, 'set_number': 10, 'time': 1680967320, 'videos': [{'key': 'g3kbHA_iGws', 'type': 'youtube'}, {'key': 'a6qOznioW4A', 'type': 'youtube'}], 'winning_alliance': 'red'}),\n",
       " Match({'actual_time': 1680971379, 'alliances': {'blue': {'dq_team_keys': [], 'score': 162, 'surrogate_team_keys': [], 'team_keys': ['frc1334', 'frc4907', 'frc4069']}, 'red': {'dq_team_keys': [], 'score': 173, 'surrogate_team_keys': [], 'team_keys': ['frc4946', 'frc8729', 'frc4678']}}, 'comp_level': 'sf', 'event_key': '2023oncmp2', 'key': '2023oncmp2_sf11m1', 'match_number': 1, 'post_result_time': 1680971629, 'predicted_time': 1680971522, 'score_breakdown': {'blue': {'activationBonusAchieved': False, 'adjustPoints': 0, 'autoBridgeState': 'Level', 'autoChargeStationPoints': 12, 'autoChargeStationRobot1': 'Docked', 'autoChargeStationRobot2': 'None', 'autoChargeStationRobot3': 'None', 'autoCommunity': {'B': ['None', 'None', 'None', 'None', 'None', 'None', 'None', 'None', 'None'], 'M': ['None', 'None', 'None', 'None', 'None', 'Cone', 'None', 'None', 'None'], 'T': ['Cone', 'Cube', 'None', 'None', 'None', 'None', 'None', 'Cube', 'Cone']}, 'autoDocked': True, 'autoGamePieceCount': 5, 'autoGamePiecePoints': 28, 'autoMobilityPoints': 9, 'autoPoints': 49, 'coopGamePieceCount': 6, 'coopertitionCriteriaMet': False, 'endGameBridgeState': 'Level', 'endGameChargeStationPoints': 30, 'endGameChargeStationRobot1': 'Docked', 'endGameChargeStationRobot2': 'Docked', 'endGameChargeStationRobot3': 'Docked', 'endGameParkPoints': 0, 'foulCount': 1, 'foulPoints': 0, 'linkPoints': 30, 'links': [{'nodes': [0, 1, 2], 'row': 'Mid'}, {'nodes': [3, 4, 5], 'row': 'Mid'}, {'nodes': [6, 7, 8], 'row': 'Mid'}, {'nodes': [0, 1, 2], 'row': 'Top'}, {'nodes': [3, 4, 5], 'row': 'Top'}, {'nodes': [6, 7, 8], 'row': 'Top'}], 'mobilityRobot1': 'Yes', 'mobilityRobot2': 'Yes', 'mobilityRobot3': 'Yes', 'rp': 0, 'sustainabilityBonusAchieved': False, 'techFoulCount': 0, 'teleopCommunity': {'B': ['None', 'None', 'None', 'None', 'None', 'None', 'Cube', 'Cube', 'None'], 'M': ['Cone', 'Cube', 'Cone', 'Cone', 'Cube', 'Cone', 'Cone', 'Cube', 'Cone'], 'T': ['Cone', 'Cube', 'Cone', 'Cone', 'Cube', 'Cone', 'Cone', 'Cube', 'Cone']}, 'teleopGamePieceCount': 20, 'teleopGamePiecePoints': 53, 'teleopPoints': 83, 'totalChargeStationPoints': 42, 'totalPoints': 162}, 'red': {'activationBonusAchieved': False, 'adjustPoints': 0, 'autoBridgeState': 'Level', 'autoChargeStationPoints': 12, 'autoChargeStationRobot1': 'None', 'autoChargeStationRobot2': 'Docked', 'autoChargeStationRobot3': 'None', 'autoCommunity': {'B': ['None', 'None', 'None', 'None', 'None', 'None', 'None', 'None', 'None'], 'M': ['None', 'None', 'None', 'None', 'Cube', 'None', 'None', 'Cube', 'None'], 'T': ['Cone', 'Cube', 'None', 'None', 'None', 'None', 'None', 'Cube', 'None']}, 'autoDocked': True, 'autoGamePieceCount': 5, 'autoGamePiecePoints': 26, 'autoMobilityPoints': 6, 'autoPoints': 44, 'coopGamePieceCount': 7, 'coopertitionCriteriaMet': False, 'endGameBridgeState': 'Level', 'endGameChargeStationPoints': 30, 'endGameChargeStationRobot1': 'Docked', 'endGameChargeStationRobot2': 'Docked', 'endGameChargeStationRobot3': 'Docked', 'endGameParkPoints': 0, 'foulCount': 0, 'foulPoints': 5, 'linkPoints': 35, 'links': [{'nodes': [0, 1, 2], 'row': 'Bottom'}, {'nodes': [0, 1, 2], 'row': 'Mid'}, {'nodes': [3, 4, 5], 'row': 'Mid'}, {'nodes': [6, 7, 8], 'row': 'Mid'}, {'nodes': [0, 1, 2], 'row': 'Top'}, {'nodes': [3, 4, 5], 'row': 'Top'}, {'nodes': [6, 7, 8], 'row': 'Top'}], 'mobilityRobot1': 'Yes', 'mobilityRobot2': 'No', 'mobilityRobot3': 'Yes', 'rp': 0, 'sustainabilityBonusAchieved': False, 'techFoulCount': 0, 'teleopCommunity': {'B': ['Cube', 'Cube', 'Cone', 'None', 'Cone', 'None', 'None', 'None', 'None'], 'M': ['Cone', 'Cube', 'Cone', 'Cone', 'Cube', 'Cone', 'Cone', 'Cube', 'Cone'], 'T': ['Cone', 'Cube', 'Cone', 'Cone', 'Cube', 'Cone', 'Cone', 'Cube', 'Cone']}, 'teleopGamePieceCount': 22, 'teleopGamePiecePoints': 59, 'teleopPoints': 89, 'totalChargeStationPoints': 42, 'totalPoints': 173}}, 'set_number': 11, 'time': 1680968100, 'videos': [{'key': '4Sqror96dl8', 'type': 'youtube'}, {'key': 'vz_ENJTO9KI', 'type': 'youtube'}], 'winning_alliance': 'red'}),\n",
       " Match({'actual_time': 1680972086, 'alliances': {'blue': {'dq_team_keys': [], 'score': 162, 'surrogate_team_keys': [], 'team_keys': ['frc4039', 'frc2609', 'frc4917']}, 'red': {'dq_team_keys': [], 'score': 188, 'surrogate_team_keys': [], 'team_keys': ['frc3739', 'frc4903', 'frc1325']}}, 'comp_level': 'sf', 'event_key': '2023oncmp2', 'key': '2023oncmp2_sf12m1', 'match_number': 1, 'post_result_time': 1680972273, 'predicted_time': 1680972182, 'score_breakdown': {'blue': {'activationBonusAchieved': False, 'adjustPoints': 0, 'autoBridgeState': 'Level', 'autoChargeStationPoints': 12, 'autoChargeStationRobot1': 'None', 'autoChargeStationRobot2': 'Docked', 'autoChargeStationRobot3': 'None', 'autoCommunity': {'B': ['None', 'None', 'None', 'None', 'None', 'None', 'None', 'None', 'None'], 'M': ['None', 'None', 'None', 'None', 'None', 'None', 'None', 'None', 'None'], 'T': ['Cone', 'None', 'None', 'Cone', 'None', 'None', 'None', 'Cube', 'None']}, 'autoDocked': True, 'autoGamePieceCount': 3, 'autoGamePiecePoints': 18, 'autoMobilityPoints': 9, 'autoPoints': 39, 'coopGamePieceCount': 9, 'coopertitionCriteriaMet': False, 'endGameBridgeState': 'NotLevel', 'endGameChargeStationPoints': 12, 'endGameChargeStationRobot1': 'Park', 'endGameChargeStationRobot2': 'Docked', 'endGameChargeStationRobot3': 'Docked', 'endGameParkPoints': 2, 'foulCount': 1, 'foulPoints': 0, 'linkPoints': 40, 'links': [{'nodes': [3, 4, 5], 'row': 'Bottom'}, {'nodes': [6, 7, 8], 'row': 'Bottom'}, {'nodes': [0, 1, 2], 'row': 'Mid'}, {'nodes': [3, 4, 5], 'row': 'Mid'}, {'nodes': [6, 7, 8], 'row': 'Mid'}, {'nodes': [0, 1, 2], 'row': 'Top'}, {'nodes': [3, 4, 5], 'row': 'Top'}, {'nodes': [6, 7, 8], 'row': 'Top'}], 'mobilityRobot1': 'Yes', 'mobilityRobot2': 'Yes', 'mobilityRobot3': 'Yes', 'rp': 0, 'sustainabilityBonusAchieved': False, 'techFoulCount': 0, 'teleopCommunity': {'B': ['None', 'None', 'None', 'Cube', 'Cone', 'Cube', 'Cube', 'Cone', 'Cone'], 'M': ['Cone', 'Cube', 'Cone', 'Cone', 'Cube', 'Cone', 'Cone', 'Cube', 'Cone'], 'T': ['Cone', 'Cube', 'Cone', 'Cone', 'Cube', 'Cone', 'Cone', 'Cube', 'Cone']}, 'teleopGamePieceCount': 24, 'teleopGamePiecePoints': 69, 'teleopPoints': 83, 'totalChargeStationPoints': 24, 'totalPoints': 162}, 'red': {'activationBonusAchieved': False, 'adjustPoints': 0, 'autoBridgeState': 'Level', 'autoChargeStationPoints': 12, 'autoChargeStationRobot1': 'None', 'autoChargeStationRobot2': 'Docked', 'autoChargeStationRobot3': 'None', 'autoCommunity': {'B': ['None', 'None', 'None', 'None', 'None', 'None', 'None', 'None', 'None'], 'M': ['None', 'None', 'None', 'None', 'None', 'None', 'None', 'None', 'None'], 'T': ['Cone', 'Cube', 'None', 'None', 'Cube', 'None', 'None', 'Cube', 'None']}, 'autoDocked': True, 'autoGamePieceCount': 4, 'autoGamePiecePoints': 24, 'autoMobilityPoints': 9, 'autoPoints': 45, 'coopGamePieceCount': 8, 'coopertitionCriteriaMet': False, 'endGameBridgeState': 'Level', 'endGameChargeStationPoints': 30, 'endGameChargeStationRobot1': 'Docked', 'endGameChargeStationRobot2': 'Docked', 'endGameChargeStationRobot3': 'Docked', 'endGameParkPoints': 0, 'foulCount': 0, 'foulPoints': 5, 'linkPoints': 40, 'links': [{'nodes': [0, 1, 2], 'row': 'Bottom'}, {'nodes': [4, 5, 6], 'row': 'Bottom'}, {'nodes': [0, 1, 2], 'row': 'Mid'}, {'nodes': [3, 4, 5], 'row': 'Mid'}, {'nodes': [6, 7, 8], 'row': 'Mid'}, {'nodes': [0, 1, 2], 'row': 'Top'}, {'nodes': [3, 4, 5], 'row': 'Top'}, {'nodes': [6, 7, 8], 'row': 'Top'}], 'mobilityRobot1': 'Yes', 'mobilityRobot2': 'Yes', 'mobilityRobot3': 'Yes', 'rp': 0, 'sustainabilityBonusAchieved': False, 'techFoulCount': 0, 'teleopCommunity': {'B': ['Cone', 'Cube', 'Cone', 'None', 'Cube', 'Cube', 'Cone', 'Cube', 'Cone'], 'M': ['Cone', 'Cube', 'Cone', 'Cone', 'Cube', 'Cone', 'Cone', 'Cube', 'Cone'], 'T': ['Cone', 'Cube', 'Cone', 'Cone', 'Cube', 'Cone', 'Cone', 'Cube', 'Cone']}, 'teleopGamePieceCount': 26, 'teleopGamePiecePoints': 68, 'teleopPoints': 98, 'totalChargeStationPoints': 42, 'totalPoints': 188}}, 'set_number': 12, 'time': 1680968580, 'videos': [{'key': '2NjYIj2gTWg', 'type': 'youtube'}, {'key': 'Wk8qqRj90fE', 'type': 'youtube'}], 'winning_alliance': 'red'}),\n",
       " Match({'actual_time': 1680975133, 'alliances': {'blue': {'dq_team_keys': [], 'score': 180, 'surrogate_team_keys': [], 'team_keys': ['frc1325', 'frc4903', 'frc3739']}, 'red': {'dq_team_keys': [], 'score': 109, 'surrogate_team_keys': [], 'team_keys': ['frc4069', 'frc4907', 'frc1334']}}, 'comp_level': 'sf', 'event_key': '2023oncmp2', 'key': '2023oncmp2_sf13m1', 'match_number': 1, 'post_result_time': 1680975307, 'predicted_time': 1680975004, 'score_breakdown': {'blue': {'activationBonusAchieved': False, 'adjustPoints': 0, 'autoBridgeState': 'Level', 'autoChargeStationPoints': 12, 'autoChargeStationRobot1': 'None', 'autoChargeStationRobot2': 'Docked', 'autoChargeStationRobot3': 'None', 'autoCommunity': {'B': ['None', 'None', 'None', 'None', 'None', 'None', 'None', 'None', 'None'], 'M': ['None', 'None', 'None', 'None', 'None', 'None', 'None', 'None', 'None'], 'T': ['None', 'Cube', 'None', 'None', 'Cube', 'None', 'None', 'Cube', 'Cone']}, 'autoDocked': True, 'autoGamePieceCount': 4, 'autoGamePiecePoints': 24, 'autoMobilityPoints': 9, 'autoPoints': 45, 'coopGamePieceCount': 7, 'coopertitionCriteriaMet': False, 'endGameBridgeState': 'Level', 'endGameChargeStationPoints': 30, 'endGameChargeStationRobot1': 'Docked', 'endGameChargeStationRobot2': 'Docked', 'endGameChargeStationRobot3': 'Docked', 'endGameParkPoints': 0, 'foulCount': 1, 'foulPoints': 5, 'linkPoints': 35, 'links': [{'nodes': [0, 1, 2], 'row': 'Bottom'}, {'nodes': [6, 7, 8], 'row': 'Bottom'}, {'nodes': [0, 1, 2], 'row': 'Mid'}, {'nodes': [4, 5, 6], 'row': 'Mid'}, {'nodes': [0, 1, 2], 'row': 'Top'}, {'nodes': [3, 4, 5], 'row': 'Top'}, {'nodes': [6, 7, 8], 'row': 'Top'}], 'mobilityRobot1': 'Yes', 'mobilityRobot2': 'Yes', 'mobilityRobot3': 'Yes', 'rp': 0, 'sustainabilityBonusAchieved': False, 'techFoulCount': 0, 'teleopCommunity': {'B': ['Cone', 'Cube', 'Cone', 'Cube', 'Cube', 'None', 'Cube', 'Cone', 'Cone'], 'M': ['Cone', 'Cube', 'Cone', 'None', 'Cube', 'Cone', 'Cone', 'Cube', 'Cone'], 'T': ['Cone', 'Cube', 'Cone', 'Cone', 'Cube', 'Cone', 'Cone', 'Cube', 'Cone']}, 'teleopGamePieceCount': 25, 'teleopGamePiecePoints': 65, 'teleopPoints': 95, 'totalChargeStationPoints': 42, 'totalPoints': 180}, 'red': {'activationBonusAchieved': False, 'adjustPoints': 0, 'autoBridgeState': 'Level', 'autoChargeStationPoints': 12, 'autoChargeStationRobot1': 'None', 'autoChargeStationRobot2': 'None', 'autoChargeStationRobot3': 'Docked', 'autoCommunity': {'B': ['None', 'None', 'None', 'None', 'None', 'Cone', 'None', 'None', 'Cone'], 'M': ['None', 'None', 'None', 'None', 'None', 'None', 'None', 'None', 'None'], 'T': ['Cone', 'None', 'None', 'None', 'None', 'None', 'None', 'Cube', 'None']}, 'autoDocked': True, 'autoGamePieceCount': 4, 'autoGamePiecePoints': 18, 'autoMobilityPoints': 9, 'autoPoints': 39, 'coopGamePieceCount': 4, 'coopertitionCriteriaMet': False, 'endGameBridgeState': 'NotLevel', 'endGameChargeStationPoints': 12, 'endGameChargeStationRobot1': 'Docked', 'endGameChargeStationRobot2': 'Docked', 'endGameChargeStationRobot3': 'Park', 'endGameParkPoints': 2, 'foulCount': 1, 'foulPoints': 5, 'linkPoints': 15, 'links': [{'nodes': [3, 4, 5], 'row': 'Bottom'}, {'nodes': [6, 7, 8], 'row': 'Bottom'}, {'nodes': [6, 7, 8], 'row': 'Top'}], 'mobilityRobot1': 'Yes', 'mobilityRobot2': 'Yes', 'mobilityRobot3': 'Yes', 'rp': 0, 'sustainabilityBonusAchieved': False, 'techFoulCount': 0, 'teleopCommunity': {'B': ['None', 'Cone', 'None', 'Cone', 'Cone', 'Cone', 'Cone', 'Cone', 'Cone'], 'M': ['Cone', 'None', 'None', 'None', 'None', 'None', 'None', 'Cube', 'None'], 'T': ['Cone', 'Cube', 'None', 'Cone', 'None', 'None', 'Cone', 'Cube', 'Cone']}, 'teleopGamePieceCount': 15, 'teleopGamePiecePoints': 36, 'teleopPoints': 50, 'totalChargeStationPoints': 24, 'totalPoints': 109}}, 'set_number': 13, 'time': 1680969780, 'videos': [{'key': 'V5wse2ms3TU', 'type': 'youtube'}, {'key': '3aK4BCpF348', 'type': 'youtube'}], 'winning_alliance': 'blue'}),\n",
       " Match({'actual_time': 1680963248, 'alliances': {'blue': {'dq_team_keys': [], 'score': 113, 'surrogate_team_keys': [], 'team_keys': ['frc2706', 'frc2013', 'frc4343']}, 'red': {'dq_team_keys': [], 'score': 176, 'surrogate_team_keys': [], 'team_keys': ['frc4946', 'frc8729', 'frc4678']}}, 'comp_level': 'sf', 'event_key': '2023oncmp2', 'key': '2023oncmp2_sf1m1', 'match_number': 1, 'post_result_time': 1680963422, 'predicted_time': 1680963302, 'score_breakdown': {'blue': {'activationBonusAchieved': False, 'adjustPoints': 0, 'autoBridgeState': 'Level', 'autoChargeStationPoints': 12, 'autoChargeStationRobot1': 'None', 'autoChargeStationRobot2': 'Docked', 'autoChargeStationRobot3': 'None', 'autoCommunity': {'B': ['None', 'None', 'None', 'None', 'None', 'None', 'None', 'None', 'None'], 'M': ['None', 'None', 'None', 'None', 'None', 'None', 'None', 'None', 'None'], 'T': ['Cone', 'None', 'None', 'None', 'None', 'None', 'None', 'Cube', 'None']}, 'autoDocked': True, 'autoGamePieceCount': 2, 'autoGamePiecePoints': 12, 'autoMobilityPoints': 9, 'autoPoints': 33, 'coopGamePieceCount': 6, 'coopertitionCriteriaMet': False, 'endGameBridgeState': 'NotLevel', 'endGameChargeStationPoints': 0, 'endGameChargeStationRobot1': 'Park', 'endGameChargeStationRobot2': 'Park', 'endGameChargeStationRobot3': 'Park', 'endGameParkPoints': 6, 'foulCount': 2, 'foulPoints': 5, 'linkPoints': 15, 'links': [{'nodes': [0, 1, 2], 'row': 'Top'}, {'nodes': [3, 4, 5], 'row': 'Top'}, {'nodes': [6, 7, 8], 'row': 'Top'}], 'mobilityRobot1': 'Yes', 'mobilityRobot2': 'Yes', 'mobilityRobot3': 'Yes', 'rp': 0, 'sustainabilityBonusAchieved': False, 'techFoulCount': 0, 'teleopCommunity': {'B': ['Cone', 'None', 'None', 'Cone', 'None', 'None', 'None', 'None', 'None'], 'M': ['Cone', 'None', 'None', 'Cone', 'Cube', 'None', 'None', 'Cube', 'Cone'], 'T': ['Cone', 'Cube', 'Cone', 'Cone', 'Cube', 'Cone', 'Cone', 'Cube', 'Cone']}, 'teleopGamePieceCount': 16, 'teleopGamePiecePoints': 54, 'teleopPoints': 60, 'totalChargeStationPoints': 12, 'totalPoints': 113}, 'red': {'activationBonusAchieved': False, 'adjustPoints': 0, 'autoBridgeState': 'NotLevel', 'autoChargeStationPoints': 0, 'autoChargeStationRobot1': 'None', 'autoChargeStationRobot2': 'None', 'autoChargeStationRobot3': 'None', 'autoCommunity': {'B': ['None', 'None', 'None', 'None', 'None', 'None', 'None', 'None', 'None'], 'M': ['None', 'None', 'None', 'None', 'Cube', 'None', 'None', 'Cube', 'None'], 'T': ['Cone', 'Cube', 'Cone', 'None', 'None', 'None', 'None', 'Cube', 'None']}, 'autoDocked': False, 'autoGamePieceCount': 6, 'autoGamePiecePoints': 32, 'autoMobilityPoints': 6, 'autoPoints': 38, 'coopGamePieceCount': 9, 'coopertitionCriteriaMet': False, 'endGameBridgeState': 'Level', 'endGameChargeStationPoints': 30, 'endGameChargeStationRobot1': 'Docked', 'endGameChargeStationRobot2': 'Docked', 'endGameChargeStationRobot3': 'Docked', 'endGameParkPoints': 0, 'foulCount': 1, 'foulPoints': 10, 'linkPoints': 40, 'links': [{'nodes': [0, 1, 2], 'row': 'Bottom'}, {'nodes': [3, 4, 5], 'row': 'Bottom'}, {'nodes': [0, 1, 2], 'row': 'Mid'}, {'nodes': [3, 4, 5], 'row': 'Mid'}, {'nodes': [6, 7, 8], 'row': 'Mid'}, {'nodes': [0, 1, 2], 'row': 'Top'}, {'nodes': [3, 4, 5], 'row': 'Top'}, {'nodes': [6, 7, 8], 'row': 'Top'}], 'mobilityRobot1': 'Yes', 'mobilityRobot2': 'No', 'mobilityRobot3': 'Yes', 'rp': 0, 'sustainabilityBonusAchieved': False, 'techFoulCount': 0, 'teleopCommunity': {'B': ['Cone', 'Cube', 'Cube', 'Cone', 'Cone', 'Cube', 'None', 'None', 'None'], 'M': ['Cone', 'Cube', 'Cone', 'Cone', 'Cube', 'Cone', 'Cone', 'Cube', 'Cone'], 'T': ['Cone', 'Cube', 'Cone', 'Cone', 'Cube', 'Cone', 'Cone', 'Cube', 'Cone']}, 'teleopGamePieceCount': 24, 'teleopGamePiecePoints': 58, 'teleopPoints': 88, 'totalChargeStationPoints': 30, 'totalPoints': 176}}, 'set_number': 1, 'time': 1680962400, 'videos': [{'key': 'fq3ihH6w8k0', 'type': 'youtube'}, {'key': 'HPukVHTmeJ0', 'type': 'youtube'}], 'winning_alliance': 'red'}),\n",
       " Match({'actual_time': 1680963973, 'alliances': {'blue': {'dq_team_keys': [], 'score': 126, 'surrogate_team_keys': [], 'team_keys': ['frc4688', 'frc4920', 'frc865']}, 'red': {'dq_team_keys': [], 'score': 132, 'surrogate_team_keys': [], 'team_keys': ['frc2609', 'frc4917', 'frc4039']}}, 'comp_level': 'sf', 'event_key': '2023oncmp2', 'key': '2023oncmp2_sf2m1', 'match_number': 1, 'post_result_time': 1680964174, 'predicted_time': 1680963961, 'score_breakdown': {'blue': {'activationBonusAchieved': False, 'adjustPoints': 0, 'autoBridgeState': 'NotLevel', 'autoChargeStationPoints': 0, 'autoChargeStationRobot1': 'None', 'autoChargeStationRobot2': 'None', 'autoChargeStationRobot3': 'None', 'autoCommunity': {'B': ['None', 'None', 'None', 'None', 'None', 'None', 'None', 'None', 'None'], 'M': ['None', 'None', 'None', 'None', 'None', 'None', 'None', 'None', 'None'], 'T': ['None', 'None', 'None', 'None', 'None', 'Cone', 'None', 'Cube', 'Cone']}, 'autoDocked': False, 'autoGamePieceCount': 3, 'autoGamePiecePoints': 18, 'autoMobilityPoints': 6, 'autoPoints': 24, 'coopGamePieceCount': 6, 'coopertitionCriteriaMet': False, 'endGameBridgeState': 'NotLevel', 'endGameChargeStationPoints': 0, 'endGameChargeStationRobot1': 'Park', 'endGameChargeStationRobot2': 'Park', 'endGameChargeStationRobot3': 'Park', 'endGameParkPoints': 6, 'foulCount': 2, 'foulPoints': 15, 'linkPoints': 25, 'links': [{'nodes': [0, 1, 2], 'row': 'Mid'}, {'nodes': [3, 4, 5], 'row': 'Mid'}, {'nodes': [0, 1, 2], 'row': 'Top'}, {'nodes': [3, 4, 5], 'row': 'Top'}, {'nodes': [6, 7, 8], 'row': 'Top'}], 'mobilityRobot1': 'No', 'mobilityRobot2': 'Yes', 'mobilityRobot3': 'Yes', 'rp': 0, 'sustainabilityBonusAchieved': False, 'techFoulCount': 0, 'teleopCommunity': {'B': ['None', 'None', 'None', 'None', 'None', 'None', 'Cube', 'None', 'None'], 'M': ['Cone', 'Cube', 'Cone', 'Cone', 'Cube', 'Cone', 'None', 'Cube', 'Cone'], 'T': ['Cone', 'Cube', 'Cone', 'Cone', 'Cube', 'Cone', 'Cone', 'Cube', 'Cone']}, 'teleopGamePieceCount': 18, 'teleopGamePiecePoints': 56, 'teleopPoints': 62, 'totalChargeStationPoints': 0, 'totalPoints': 126}, 'red': {'activationBonusAchieved': False, 'adjustPoints': 0, 'autoBridgeState': 'Level', 'autoChargeStationPoints': 12, 'autoChargeStationRobot1': 'Docked', 'autoChargeStationRobot2': 'None', 'autoChargeStationRobot3': 'None', 'autoCommunity': {'B': ['None', 'None', 'None', 'None', 'None', 'None', 'None', 'None', 'None'], 'M': ['None', 'None', 'None', 'None', 'None', 'None', 'None', 'None', 'None'], 'T': ['None', 'Cube', 'None', 'None', 'None', 'Cone', 'None', 'None', 'Cone']}, 'autoDocked': True, 'autoGamePieceCount': 3, 'autoGamePiecePoints': 18, 'autoMobilityPoints': 9, 'autoPoints': 39, 'coopGamePieceCount': 8, 'coopertitionCriteriaMet': False, 'endGameBridgeState': 'Level', 'endGameChargeStationPoints': 20, 'endGameChargeStationRobot1': 'Docked', 'endGameChargeStationRobot2': 'Docked', 'endGameChargeStationRobot3': 'None', 'endGameParkPoints': 0, 'foulCount': 3, 'foulPoints': 10, 'linkPoints': 20, 'links': [{'nodes': [3, 4, 5], 'row': 'Mid'}, {'nodes': [0, 1, 2], 'row': 'Top'}, {'nodes': [3, 4, 5], 'row': 'Top'}, {'nodes': [6, 7, 8], 'row': 'Top'}], 'mobilityRobot1': 'Yes', 'mobilityRobot2': 'Yes', 'mobilityRobot3': 'Yes', 'rp': 0, 'sustainabilityBonusAchieved': False, 'techFoulCount': 0, 'teleopCommunity': {'B': ['None', 'None', 'None', 'Cone', 'None', 'Cone', 'None', 'None', 'None'], 'M': ['None', 'None', 'None', 'Cone', 'Cube', 'Cone', 'None', 'None', 'None'], 'T': ['Cone', 'Cube', 'Cone', 'Cone', 'Cube', 'Cone', 'Cone', 'Cube', 'Cone']}, 'teleopGamePieceCount': 14, 'teleopGamePiecePoints': 43, 'teleopPoints': 63, 'totalChargeStationPoints': 32, 'totalPoints': 132}}, 'set_number': 2, 'time': 1680962880, 'videos': [{'key': '33D63LoNNwU', 'type': 'youtube'}, {'key': '-KV-awVkwGo', 'type': 'youtube'}], 'winning_alliance': 'red'}),\n",
       " Match({'actual_time': 1680964729, 'alliances': {'blue': {'dq_team_keys': [], 'score': 110, 'surrogate_team_keys': [], 'team_keys': ['frc1310', 'frc610', 'frc1285']}, 'red': {'dq_team_keys': [], 'score': 153, 'surrogate_team_keys': [], 'team_keys': ['frc4069', 'frc4907', 'frc1334']}}, 'comp_level': 'sf', 'event_key': '2023oncmp2', 'key': '2023oncmp2_sf3m1', 'match_number': 1, 'post_result_time': 1680964896, 'predicted_time': 1680964686, 'score_breakdown': {'blue': {'activationBonusAchieved': False, 'adjustPoints': 0, 'autoBridgeState': 'Level', 'autoChargeStationPoints': 12, 'autoChargeStationRobot1': 'None', 'autoChargeStationRobot2': 'None', 'autoChargeStationRobot3': 'Docked', 'autoCommunity': {'B': ['None', 'None', 'None', 'None', 'None', 'Cone', 'None', 'None', 'None'], 'M': ['None', 'None', 'None', 'None', 'None', 'None', 'None', 'None', 'None'], 'T': ['None', 'Cube', 'None', 'None', 'None', 'None', 'None', 'None', 'None']}, 'autoDocked': True, 'autoGamePieceCount': 2, 'autoGamePiecePoints': 9, 'autoMobilityPoints': 6, 'autoPoints': 27, 'coopGamePieceCount': 5, 'coopertitionCriteriaMet': False, 'endGameBridgeState': 'Level', 'endGameChargeStationPoints': 20, 'endGameChargeStationRobot1': 'Docked', 'endGameChargeStationRobot2': 'Docked', 'endGameChargeStationRobot3': 'None', 'endGameParkPoints': 0, 'foulCount': 1, 'foulPoints': 0, 'linkPoints': 15, 'links': [{'nodes': [0, 1, 2], 'row': 'Top'}, {'nodes': [3, 4, 5], 'row': 'Top'}, {'nodes': [6, 7, 8], 'row': 'Top'}], 'mobilityRobot1': 'No', 'mobilityRobot2': 'Yes', 'mobilityRobot3': 'Yes', 'rp': 0, 'sustainabilityBonusAchieved': False, 'techFoulCount': 0, 'teleopCommunity': {'B': ['None', 'None', 'Cone', 'None', 'None', 'Cone', 'None', 'None', 'None'], 'M': ['Cone', 'None', 'None', 'Cone', 'None', 'None', 'None', 'None', 'None'], 'T': ['Cone', 'Cube', 'Cone', 'Cone', 'Cube', 'Cone', 'Cone', 'Cube', 'Cone']}, 'teleopGamePieceCount': 13, 'teleopGamePiecePoints': 48, 'teleopPoints': 68, 'totalChargeStationPoints': 32, 'totalPoints': 110}, 'red': {'activationBonusAchieved': False, 'adjustPoints': 0, 'autoBridgeState': 'Level', 'autoChargeStationPoints': 12, 'autoChargeStationRobot1': 'None', 'autoChargeStationRobot2': 'None', 'autoChargeStationRobot3': 'Docked', 'autoCommunity': {'B': ['None', 'None', 'None', 'None', 'None', 'Cone', 'None', 'None', 'None'], 'M': ['None', 'None', 'None', 'None', 'None', 'None', 'None', 'None', 'None'], 'T': ['Cone', 'Cube', 'None', 'None', 'None', 'None', 'None', 'Cube', 'None']}, 'autoDocked': True, 'autoGamePieceCount': 4, 'autoGamePiecePoints': 21, 'autoMobilityPoints': 6, 'autoPoints': 39, 'coopGamePieceCount': 5, 'coopertitionCriteriaMet': False, 'endGameBridgeState': 'Level', 'endGameChargeStationPoints': 30, 'endGameChargeStationRobot1': 'Docked', 'endGameChargeStationRobot2': 'Docked', 'endGameChargeStationRobot3': 'Docked', 'endGameParkPoints': 0, 'foulCount': 0, 'foulPoints': 5, 'linkPoints': 25, 'links': [{'nodes': [0, 1, 2], 'row': 'Mid'}, {'nodes': [6, 7, 8], 'row': 'Mid'}, {'nodes': [0, 1, 2], 'row': 'Top'}, {'nodes': [3, 4, 5], 'row': 'Top'}, {'nodes': [6, 7, 8], 'row': 'Top'}], 'mobilityRobot1': 'Yes', 'mobilityRobot2': 'Yes', 'mobilityRobot3': 'No', 'rp': 0, 'sustainabilityBonusAchieved': False, 'techFoulCount': 0, 'teleopCommunity': {'B': ['None', 'None', 'None', 'None', 'Cone', 'Cone', 'None', 'Cone', 'Cone'], 'M': ['Cone', 'Cube', 'Cone', 'None', 'None', 'None', 'Cone', 'Cube', 'Cone'], 'T': ['Cone', 'Cube', 'Cone', 'Cone', 'Cube', 'Cone', 'Cone', 'Cube', 'Cone']}, 'teleopGamePieceCount': 19, 'teleopGamePiecePoints': 54, 'teleopPoints': 84, 'totalChargeStationPoints': 42, 'totalPoints': 153}}, 'set_number': 3, 'time': 1680963360, 'videos': [{'key': 'wC7gyeDBgYo', 'type': 'youtube'}, {'key': '_3ioaQKKGks', 'type': 'youtube'}], 'winning_alliance': 'red'}),\n",
       " Match({'actual_time': 1680965769, 'alliances': {'blue': {'dq_team_keys': [], 'score': 153, 'surrogate_team_keys': [], 'team_keys': ['frc1325', 'frc4903', 'frc3739']}, 'red': {'dq_team_keys': [], 'score': 134, 'surrogate_team_keys': [], 'team_keys': ['frc5024', 'frc1114', 'frc2708']}}, 'comp_level': 'sf', 'event_key': '2023oncmp2', 'key': '2023oncmp2_sf4m1', 'match_number': 1, 'post_result_time': 1680965945, 'predicted_time': 1680965763, 'score_breakdown': {'blue': {'activationBonusAchieved': False, 'adjustPoints': 0, 'autoBridgeState': 'Level', 'autoChargeStationPoints': 12, 'autoChargeStationRobot1': 'None', 'autoChargeStationRobot2': 'Docked', 'autoChargeStationRobot3': 'None', 'autoCommunity': {'B': ['None', 'None', 'None', 'None', 'None', 'None', 'None', 'Cube', 'Cone'], 'M': ['None', 'None', 'None', 'None', 'None', 'None', 'None', 'None', 'None'], 'T': ['None', 'Cube', 'None', 'None', 'Cube', 'None', 'None', 'None', 'None']}, 'autoDocked': True, 'autoGamePieceCount': 4, 'autoGamePiecePoints': 15, 'autoMobilityPoints': 9, 'autoPoints': 36, 'coopGamePieceCount': 6, 'coopertitionCriteriaMet': False, 'endGameBridgeState': 'Level', 'endGameChargeStationPoints': 20, 'endGameChargeStationRobot1': 'Docked', 'endGameChargeStationRobot2': 'None', 'endGameChargeStationRobot3': 'Docked', 'endGameParkPoints': 0, 'foulCount': 0, 'foulPoints': 0, 'linkPoints': 30, 'links': [{'nodes': [0, 1, 2], 'row': 'Bottom'}, {'nodes': [0, 1, 2], 'row': 'Mid'}, {'nodes': [6, 7, 8], 'row': 'Mid'}, {'nodes': [0, 1, 2], 'row': 'Top'}, {'nodes': [3, 4, 5], 'row': 'Top'}, {'nodes': [6, 7, 8], 'row': 'Top'}], 'mobilityRobot1': 'Yes', 'mobilityRobot2': 'Yes', 'mobilityRobot3': 'Yes', 'rp': 0, 'sustainabilityBonusAchieved': False, 'techFoulCount': 0, 'teleopCommunity': {'B': ['Cone', 'Cube', 'Cone', 'None', 'None', 'Cone', 'None', 'None', 'Cone'], 'M': ['Cone', 'Cube', 'Cone', 'Cone', 'Cube', 'None', 'Cone', 'Cube', 'Cone'], 'T': ['Cone', 'Cube', 'Cone', 'Cone', 'Cube', 'Cone', 'Cone', 'Cube', 'Cone']}, 'teleopGamePieceCount': 22, 'teleopGamePiecePoints': 67, 'teleopPoints': 87, 'totalChargeStationPoints': 32, 'totalPoints': 153}, 'red': {'activationBonusAchieved': False, 'adjustPoints': 0, 'autoBridgeState': 'Level', 'autoChargeStationPoints': 12, 'autoChargeStationRobot1': 'Docked', 'autoChargeStationRobot2': 'None', 'autoChargeStationRobot3': 'None', 'autoCommunity': {'B': ['None', 'None', 'None', 'None', 'None', 'None', 'None', 'None', 'None'], 'M': ['None', 'Cube', 'None', 'None', 'Cube', 'None', 'None', 'Cube', 'None'], 'T': ['Cone', 'None', 'None', 'None', 'None', 'None', 'None', 'None', 'None']}, 'autoDocked': True, 'autoGamePieceCount': 4, 'autoGamePiecePoints': 18, 'autoMobilityPoints': 9, 'autoPoints': 39, 'coopGamePieceCount': 6, 'coopertitionCriteriaMet': False, 'endGameBridgeState': 'Level', 'endGameChargeStationPoints': 30, 'endGameChargeStationRobot1': 'Docked', 'endGameChargeStationRobot2': 'Docked', 'endGameChargeStationRobot3': 'Docked', 'endGameParkPoints': 0, 'foulCount': 0, 'foulPoints': 0, 'linkPoints': 15, 'links': [{'nodes': [4, 5, 6], 'row': 'Mid'}, {'nodes': [0, 1, 2], 'row': 'Top'}, {'nodes': [3, 4, 5], 'row': 'Top'}], 'mobilityRobot1': 'Yes', 'mobilityRobot2': 'Yes', 'mobilityRobot3': 'Yes', 'rp': 0, 'sustainabilityBonusAchieved': False, 'techFoulCount': 0, 'teleopCommunity': {'B': ['None', 'None', 'Cube', 'Cube', 'None', 'None', 'None', 'Cube', 'None'], 'M': ['None', 'Cube', 'None', 'None', 'Cube', 'Cone', 'Cone', 'Cube', 'Cone'], 'T': ['Cone', 'Cube', 'Cone', 'Cone', 'Cube', 'Cone', 'Cone', 'None', 'Cone']}, 'teleopGamePieceCount': 17, 'teleopGamePiecePoints': 50, 'teleopPoints': 80, 'totalChargeStationPoints': 42, 'totalPoints': 134}}, 'set_number': 4, 'time': 1680963840, 'videos': [{'key': '7AXmMDUIf-o', 'type': 'youtube'}, {'key': '90ieqwvyHIg', 'type': 'youtube'}], 'winning_alliance': 'blue'}),\n",
       " Match({'actual_time': 1680966348, 'alliances': {'blue': {'dq_team_keys': [], 'score': 149, 'surrogate_team_keys': [], 'team_keys': ['frc4688', 'frc4920', 'frc865']}, 'red': {'dq_team_keys': [], 'score': 131, 'surrogate_team_keys': [], 'team_keys': ['frc4343', 'frc2013', 'frc2706']}}, 'comp_level': 'sf', 'event_key': '2023oncmp2', 'key': '2023oncmp2_sf5m1', 'match_number': 1, 'post_result_time': 1680966521, 'predicted_time': 1680966484, 'score_breakdown': {'blue': {'activationBonusAchieved': False, 'adjustPoints': 0, 'autoBridgeState': 'NotLevel', 'autoChargeStationPoints': 8, 'autoChargeStationRobot1': 'None', 'autoChargeStationRobot2': 'None', 'autoChargeStationRobot3': 'Docked', 'autoCommunity': {'B': ['None', 'None', 'None', 'None', 'None', 'None', 'None', 'None', 'None'], 'M': ['None', 'None', 'None', 'None', 'None', 'None', 'None', 'None', 'None'], 'T': ['None', 'Cube', 'None', 'None', 'None', 'Cone', 'None', 'Cube', 'Cone']}, 'autoDocked': True, 'autoGamePieceCount': 4, 'autoGamePiecePoints': 24, 'autoMobilityPoints': 9, 'autoPoints': 41, 'coopGamePieceCount': 5, 'coopertitionCriteriaMet': False, 'endGameBridgeState': 'Level', 'endGameChargeStationPoints': 30, 'endGameChargeStationRobot1': 'Docked', 'endGameChargeStationRobot2': 'Docked', 'endGameChargeStationRobot3': 'Docked', 'endGameParkPoints': 0, 'foulCount': 2, 'foulPoints': 0, 'linkPoints': 25, 'links': [{'nodes': [0, 1, 2], 'row': 'Mid'}, {'nodes': [4, 5, 6], 'row': 'Mid'}, {'nodes': [0, 1, 2], 'row': 'Top'}, {'nodes': [3, 4, 5], 'row': 'Top'}, {'nodes': [6, 7, 8], 'row': 'Top'}], 'mobilityRobot1': 'Yes', 'mobilityRobot2': 'Yes', 'mobilityRobot3': 'Yes', 'rp': 0, 'sustainabilityBonusAchieved': False, 'techFoulCount': 0, 'teleopCommunity': {'B': ['None', 'Cone', 'None', 'None', 'None', 'None', 'None', 'Cube', 'None'], 'M': ['Cone', 'Cube', 'Cone', 'None', 'Cube', 'Cone', 'Cone', 'Cube', 'Cone'], 'T': ['Cone', 'Cube', 'Cone', 'Cone', 'Cube', 'Cone', 'Cone', 'Cube', 'Cone']}, 'teleopGamePieceCount': 19, 'teleopGamePiecePoints': 53, 'teleopPoints': 83, 'totalChargeStationPoints': 38, 'totalPoints': 149}, 'red': {'activationBonusAchieved': False, 'adjustPoints': 0, 'autoBridgeState': 'Level', 'autoChargeStationPoints': 12, 'autoChargeStationRobot1': 'None', 'autoChargeStationRobot2': 'Docked', 'autoChargeStationRobot3': 'None', 'autoCommunity': {'B': ['None', 'None', 'None', 'None', 'None', 'None', 'None', 'None', 'None'], 'M': ['None', 'None', 'None', 'None', 'None', 'None', 'None', 'None', 'None'], 'T': ['None', 'Cube', 'None', 'Cone', 'None', 'None', 'None', 'None', 'Cone']}, 'autoDocked': True, 'autoGamePieceCount': 3, 'autoGamePiecePoints': 18, 'autoMobilityPoints': 9, 'autoPoints': 39, 'coopGamePieceCount': 4, 'coopertitionCriteriaMet': False, 'endGameBridgeState': 'NotLevel', 'endGameChargeStationPoints': 18, 'endGameChargeStationRobot1': 'Docked', 'endGameChargeStationRobot2': 'Docked', 'endGameChargeStationRobot3': 'Docked', 'endGameParkPoints': 0, 'foulCount': 0, 'foulPoints': 10, 'linkPoints': 15, 'links': [{'nodes': [0, 1, 2], 'row': 'Mid'}, {'nodes': [0, 1, 2], 'row': 'Top'}, {'nodes': [5, 6, 7], 'row': 'Top'}], 'mobilityRobot1': 'Yes', 'mobilityRobot2': 'Yes', 'mobilityRobot3': 'Yes', 'rp': 0, 'sustainabilityBonusAchieved': False, 'techFoulCount': 0, 'teleopCommunity': {'B': ['None', 'None', 'Cone', 'None', 'None', 'None', 'Cone', 'None', 'Cone'], 'M': ['Cone', 'Cube', 'Cone', 'Cone', 'None', 'Cone', 'Cone', 'None', 'None'], 'T': ['Cone', 'Cube', 'Cone', 'Cone', 'None', 'Cone', 'Cone', 'Cube', 'Cone']}, 'teleopGamePieceCount': 17, 'teleopGamePiecePoints': 49, 'teleopPoints': 67, 'totalChargeStationPoints': 30, 'totalPoints': 131}}, 'set_number': 5, 'time': 1680964620, 'videos': [{'key': 'prBRzi9CDsI', 'type': 'youtube'}, {'key': 'qpAeSmU1a34', 'type': 'youtube'}], 'winning_alliance': 'blue'}),\n",
       " Match({'actual_time': 1680967126, 'alliances': {'blue': {'dq_team_keys': [], 'score': 160, 'surrogate_team_keys': [], 'team_keys': ['frc2708', 'frc1114', 'frc5024']}, 'red': {'dq_team_keys': [], 'score': 139, 'surrogate_team_keys': [], 'team_keys': ['frc1285', 'frc610', 'frc1310']}}, 'comp_level': 'sf', 'event_key': '2023oncmp2', 'key': '2023oncmp2_sf6m1', 'match_number': 1, 'post_result_time': 1680967298, 'predicted_time': 1680967203, 'score_breakdown': {'blue': {'activationBonusAchieved': False, 'adjustPoints': 0, 'autoBridgeState': 'Level', 'autoChargeStationPoints': 12, 'autoChargeStationRobot1': 'None', 'autoChargeStationRobot2': 'None', 'autoChargeStationRobot3': 'Docked', 'autoCommunity': {'B': ['Cube', 'Cube', 'None', 'None', 'None', 'None', 'None', 'None', 'None'], 'M': ['None', 'None', 'None', 'None', 'Cube', 'None', 'None', 'Cube', 'None'], 'T': ['None', 'None', 'None', 'None', 'None', 'None', 'None', 'None', 'Cone']}, 'autoDocked': True, 'autoGamePieceCount': 5, 'autoGamePiecePoints': 20, 'autoMobilityPoints': 9, 'autoPoints': 41, 'coopGamePieceCount': 7, 'coopertitionCriteriaMet': False, 'endGameBridgeState': 'Level', 'endGameChargeStationPoints': 30, 'endGameChargeStationRobot1': 'Docked', 'endGameChargeStationRobot2': 'Docked', 'endGameChargeStationRobot3': 'Docked', 'endGameParkPoints': 0, 'foulCount': 0, 'foulPoints': 10, 'linkPoints': 25, 'links': [{'nodes': [0, 1, 2], 'row': 'Bottom'}, {'nodes': [0, 1, 2], 'row': 'Mid'}, {'nodes': [3, 4, 5], 'row': 'Mid'}, {'nodes': [2, 3, 4], 'row': 'Top'}, {'nodes': [5, 6, 7], 'row': 'Top'}], 'mobilityRobot1': 'Yes', 'mobilityRobot2': 'Yes', 'mobilityRobot3': 'Yes', 'rp': 0, 'sustainabilityBonusAchieved': False, 'techFoulCount': 0, 'teleopCommunity': {'B': ['Cube', 'Cube', 'Cube', 'Cube', 'None', 'None', 'None', 'None', 'None'], 'M': ['Cone', 'Cube', 'Cone', 'Cone', 'Cube', 'Cone', 'None', 'Cube', 'None'], 'T': ['Cone', 'None', 'Cone', 'Cone', 'Cube', 'Cone', 'Cone', 'Cube', 'Cone']}, 'teleopGamePieceCount': 19, 'teleopGamePiecePoints': 54, 'teleopPoints': 84, 'totalChargeStationPoints': 42, 'totalPoints': 160}, 'red': {'activationBonusAchieved': False, 'adjustPoints': 0, 'autoBridgeState': 'Level', 'autoChargeStationPoints': 12, 'autoChargeStationRobot1': 'Docked', 'autoChargeStationRobot2': 'None', 'autoChargeStationRobot3': 'None', 'autoCommunity': {'B': ['Cube', 'None', 'None', 'Cube', 'None', 'None', 'None', 'None', 'None'], 'M': ['None', 'None', 'None', 'None', 'None', 'None', 'None', 'None', 'None'], 'T': ['Cone', 'None', 'None', 'Cone', 'None', 'None', 'None', 'Cube', 'None']}, 'autoDocked': True, 'autoGamePieceCount': 5, 'autoGamePiecePoints': 24, 'autoMobilityPoints': 9, 'autoPoints': 45, 'coopGamePieceCount': 7, 'coopertitionCriteriaMet': False, 'endGameBridgeState': 'Level', 'endGameChargeStationPoints': 30, 'endGameChargeStationRobot1': 'Docked', 'endGameChargeStationRobot2': 'Docked', 'endGameChargeStationRobot3': 'Docked', 'endGameParkPoints': 0, 'foulCount': 2, 'foulPoints': 0, 'linkPoints': 20, 'links': [{'nodes': [3, 4, 5], 'row': 'Bottom'}, {'nodes': [0, 1, 2], 'row': 'Top'}, {'nodes': [3, 4, 5], 'row': 'Top'}, {'nodes': [6, 7, 8], 'row': 'Top'}], 'mobilityRobot1': 'Yes', 'mobilityRobot2': 'Yes', 'mobilityRobot3': 'Yes', 'rp': 0, 'sustainabilityBonusAchieved': False, 'techFoulCount': 0, 'teleopCommunity': {'B': ['Cube', 'None', 'None', 'Cube', 'Cube', 'Cube', 'Cube', 'Cube', 'None'], 'M': ['Cone', 'None', 'None', 'None', 'Cube', 'None', 'None', 'None', 'None'], 'T': ['Cone', 'Cube', 'Cone', 'Cone', 'Cube', 'Cone', 'Cone', 'Cube', 'Cone']}, 'teleopGamePieceCount': 17, 'teleopGamePiecePoints': 44, 'teleopPoints': 74, 'totalChargeStationPoints': 42, 'totalPoints': 139}}, 'set_number': 6, 'time': 1680965100, 'videos': [{'key': 'q5-pMWssku8', 'type': 'youtube'}, {'key': 'pFXMRFGeiao', 'type': 'youtube'}], 'winning_alliance': 'blue'}),\n",
       " Match({'actual_time': 1680967720, 'alliances': {'blue': {'dq_team_keys': [], 'score': 162, 'surrogate_team_keys': [], 'team_keys': ['frc4039', 'frc2609', 'frc4917']}, 'red': {'dq_team_keys': [], 'score': 176, 'surrogate_team_keys': [], 'team_keys': ['frc4946', 'frc8729', 'frc4678']}}, 'comp_level': 'sf', 'event_key': '2023oncmp2', 'key': '2023oncmp2_sf7m1', 'match_number': 1, 'post_result_time': 1680967890, 'predicted_time': 1680967866, 'score_breakdown': {'blue': {'activationBonusAchieved': False, 'adjustPoints': 0, 'autoBridgeState': 'Level', 'autoChargeStationPoints': 12, 'autoChargeStationRobot1': 'None', 'autoChargeStationRobot2': 'Docked', 'autoChargeStationRobot3': 'None', 'autoCommunity': {'B': ['None', 'None', 'None', 'None', 'None', 'None', 'None', 'None', 'None'], 'M': ['None', 'None', 'None', 'None', 'None', 'None', 'None', 'None', 'None'], 'T': ['Cone', 'None', 'None', 'Cone', 'None', 'None', 'None', 'Cube', 'None']}, 'autoDocked': True, 'autoGamePieceCount': 3, 'autoGamePiecePoints': 18, 'autoMobilityPoints': 9, 'autoPoints': 39, 'coopGamePieceCount': 7, 'coopertitionCriteriaMet': False, 'endGameBridgeState': 'Level', 'endGameChargeStationPoints': 30, 'endGameChargeStationRobot1': 'Docked', 'endGameChargeStationRobot2': 'Docked', 'endGameChargeStationRobot3': 'Docked', 'endGameParkPoints': 0, 'foulCount': 1, 'foulPoints': 0, 'linkPoints': 30, 'links': [{'nodes': [0, 1, 2], 'row': 'Mid'}, {'nodes': [3, 4, 5], 'row': 'Mid'}, {'nodes': [6, 7, 8], 'row': 'Mid'}, {'nodes': [0, 1, 2], 'row': 'Top'}, {'nodes': [3, 4, 5], 'row': 'Top'}, {'nodes': [6, 7, 8], 'row': 'Top'}], 'mobilityRobot1': 'Yes', 'mobilityRobot2': 'Yes', 'mobilityRobot3': 'Yes', 'rp': 0, 'sustainabilityBonusAchieved': False, 'techFoulCount': 0, 'teleopCommunity': {'B': ['None', 'Cube', 'Cone', 'None', 'Cube', 'None', 'None', 'None', 'None'], 'M': ['Cone', 'Cube', 'Cone', 'Cone', 'Cube', 'Cone', 'Cone', 'Cube', 'Cone'], 'T': ['Cone', 'Cube', 'Cone', 'Cone', 'Cube', 'Cone', 'Cone', 'Cube', 'Cone']}, 'teleopGamePieceCount': 21, 'teleopGamePiecePoints': 63, 'teleopPoints': 93, 'totalChargeStationPoints': 42, 'totalPoints': 162}, 'red': {'activationBonusAchieved': False, 'adjustPoints': 0, 'autoBridgeState': 'Level', 'autoChargeStationPoints': 12, 'autoChargeStationRobot1': 'None', 'autoChargeStationRobot2': 'Docked', 'autoChargeStationRobot3': 'None', 'autoCommunity': {'B': ['None', 'None', 'None', 'None', 'None', 'None', 'None', 'None', 'Cube'], 'M': ['None', 'None', 'None', 'None', 'Cube', 'None', 'None', 'None', 'None'], 'T': ['None', 'Cube', 'None', 'None', 'None', 'None', 'None', 'Cube', 'None']}, 'autoDocked': True, 'autoGamePieceCount': 4, 'autoGamePiecePoints': 19, 'autoMobilityPoints': 6, 'autoPoints': 37, 'coopGamePieceCount': 8, 'coopertitionCriteriaMet': False, 'endGameBridgeState': 'Level', 'endGameChargeStationPoints': 30, 'endGameChargeStationRobot1': 'Docked', 'endGameChargeStationRobot2': 'Docked', 'endGameChargeStationRobot3': 'Docked', 'endGameParkPoints': 0, 'foulCount': 0, 'foulPoints': 5, 'linkPoints': 35, 'links': [{'nodes': [6, 7, 8], 'row': 'Bottom'}, {'nodes': [0, 1, 2], 'row': 'Mid'}, {'nodes': [3, 4, 5], 'row': 'Mid'}, {'nodes': [6, 7, 8], 'row': 'Mid'}, {'nodes': [0, 1, 2], 'row': 'Top'}, {'nodes': [3, 4, 5], 'row': 'Top'}, {'nodes': [6, 7, 8], 'row': 'Top'}], 'mobilityRobot1': 'Yes', 'mobilityRobot2': 'No', 'mobilityRobot3': 'Yes', 'rp': 0, 'sustainabilityBonusAchieved': False, 'techFoulCount': 0, 'teleopCommunity': {'B': ['None', 'Cube', 'None', 'Cone', 'Cube', 'None', 'Cube', 'Cube', 'Cube'], 'M': ['Cone', 'Cube', 'Cone', 'Cone', 'Cube', 'Cone', 'Cone', 'Cube', 'Cone'], 'T': ['Cone', 'Cube', 'Cone', 'Cone', 'Cube', 'Cone', 'Cone', 'Cube', 'Cone']}, 'teleopGamePieceCount': 24, 'teleopGamePiecePoints': 69, 'teleopPoints': 99, 'totalChargeStationPoints': 42, 'totalPoints': 176}}, 'set_number': 7, 'time': 1680965580, 'videos': [{'key': 'Ki3w0pHvWjs', 'type': 'youtube'}, {'key': 'Uk0egCeoiqA', 'type': 'youtube'}], 'winning_alliance': 'red'}),\n",
       " Match({'actual_time': 1680968328, 'alliances': {'blue': {'dq_team_keys': [], 'score': 163, 'surrogate_team_keys': [], 'team_keys': ['frc1325', 'frc4903', 'frc3739']}, 'red': {'dq_team_keys': [], 'score': 168, 'surrogate_team_keys': [], 'team_keys': ['frc4069', 'frc4907', 'frc1334']}}, 'comp_level': 'sf', 'event_key': '2023oncmp2', 'key': '2023oncmp2_sf8m1', 'match_number': 1, 'post_result_time': 1680968494, 'predicted_time': 1680968307, 'score_breakdown': {'blue': {'activationBonusAchieved': False, 'adjustPoints': 0, 'autoBridgeState': 'Level', 'autoChargeStationPoints': 12, 'autoChargeStationRobot1': 'None', 'autoChargeStationRobot2': 'Docked', 'autoChargeStationRobot3': 'None', 'autoCommunity': {'B': ['None', 'None', 'None', 'None', 'None', 'None', 'None', 'None', 'None'], 'M': ['None', 'None', 'None', 'None', 'None', 'None', 'None', 'None', 'None'], 'T': ['None', 'Cube', 'None', 'None', 'Cube', 'None', 'None', 'Cube', 'Cone']}, 'autoDocked': True, 'autoGamePieceCount': 4, 'autoGamePiecePoints': 24, 'autoMobilityPoints': 9, 'autoPoints': 45, 'coopGamePieceCount': 6, 'coopertitionCriteriaMet': False, 'endGameBridgeState': 'Level', 'endGameChargeStationPoints': 30, 'endGameChargeStationRobot1': 'Docked', 'endGameChargeStationRobot2': 'Docked', 'endGameChargeStationRobot3': 'Docked', 'endGameParkPoints': 0, 'foulCount': 0, 'foulPoints': 0, 'linkPoints': 30, 'links': [{'nodes': [0, 1, 2], 'row': 'Mid'}, {'nodes': [3, 4, 5], 'row': 'Mid'}, {'nodes': [6, 7, 8], 'row': 'Mid'}, {'nodes': [0, 1, 2], 'row': 'Top'}, {'nodes': [3, 4, 5], 'row': 'Top'}, {'nodes': [6, 7, 8], 'row': 'Top'}], 'mobilityRobot1': 'Yes', 'mobilityRobot2': 'Yes', 'mobilityRobot3': 'Yes', 'rp': 0, 'sustainabilityBonusAchieved': False, 'techFoulCount': 0, 'teleopCommunity': {'B': ['Cone', 'Cube', 'None', 'None', 'None', 'None', 'None', 'None', 'Cube'], 'M': ['Cone', 'Cube', 'Cone', 'Cone', 'Cube', 'Cone', 'Cone', 'Cube', 'Cone'], 'T': ['Cone', 'Cube', 'Cone', 'Cone', 'Cube', 'Cone', 'Cone', 'Cube', 'Cone']}, 'teleopGamePieceCount': 21, 'teleopGamePiecePoints': 58, 'teleopPoints': 88, 'totalChargeStationPoints': 42, 'totalPoints': 163}, 'red': {'activationBonusAchieved': False, 'adjustPoints': 0, 'autoBridgeState': 'Level', 'autoChargeStationPoints': 12, 'autoChargeStationRobot1': 'None', 'autoChargeStationRobot2': 'None', 'autoChargeStationRobot3': 'Docked', 'autoCommunity': {'B': ['None', 'None', 'None', 'None', 'None', 'None', 'None', 'None', 'None'], 'M': ['None', 'None', 'None', 'None', 'None', 'Cone', 'None', 'None', 'None'], 'T': ['Cone', 'Cube', 'None', 'None', 'None', 'None', 'None', 'Cube', 'Cone']}, 'autoDocked': True, 'autoGamePieceCount': 5, 'autoGamePiecePoints': 28, 'autoMobilityPoints': 6, 'autoPoints': 46, 'coopGamePieceCount': 9, 'coopertitionCriteriaMet': False, 'endGameBridgeState': 'Level', 'endGameChargeStationPoints': 30, 'endGameChargeStationRobot1': 'Docked', 'endGameChargeStationRobot2': 'Docked', 'endGameChargeStationRobot3': 'Docked', 'endGameParkPoints': 0, 'foulCount': 0, 'foulPoints': 0, 'linkPoints': 35, 'links': [{'nodes': [2, 3, 4], 'row': 'Bottom'}, {'nodes': [0, 1, 2], 'row': 'Mid'}, {'nodes': [3, 4, 5], 'row': 'Mid'}, {'nodes': [6, 7, 8], 'row': 'Mid'}, {'nodes': [0, 1, 2], 'row': 'Top'}, {'nodes': [3, 4, 5], 'row': 'Top'}, {'nodes': [6, 7, 8], 'row': 'Top'}], 'mobilityRobot1': 'Yes', 'mobilityRobot2': 'Yes', 'mobilityRobot3': 'No', 'rp': 0, 'sustainabilityBonusAchieved': False, 'techFoulCount': 0, 'teleopCommunity': {'B': ['None', 'None', 'Cone', 'Cone', 'Cone', 'Cone', 'None', 'None', 'None'], 'M': ['Cone', 'Cube', 'Cone', 'Cone', 'Cube', 'Cone', 'Cone', 'Cube', 'Cone'], 'T': ['Cone', 'Cube', 'Cone', 'Cone', 'Cube', 'Cone', 'Cone', 'Cube', 'Cone']}, 'teleopGamePieceCount': 22, 'teleopGamePiecePoints': 57, 'teleopPoints': 87, 'totalChargeStationPoints': 42, 'totalPoints': 168}}, 'set_number': 8, 'time': 1680966060, 'videos': [{'key': 'i4_4jetqvRk', 'type': 'youtube'}, {'key': 'DBUWeIhiSV8', 'type': 'youtube'}], 'winning_alliance': 'red'}),\n",
       " Match({'actual_time': 1680969101, 'alliances': {'blue': {'dq_team_keys': [], 'score': 155, 'surrogate_team_keys': [], 'team_keys': ['frc2708', 'frc1114', 'frc5024']}, 'red': {'dq_team_keys': [], 'score': 166, 'surrogate_team_keys': [], 'team_keys': ['frc4917', 'frc2609', 'frc4039']}}, 'comp_level': 'sf', 'event_key': '2023oncmp2', 'key': '2023oncmp2_sf9m1', 'match_number': 1, 'post_result_time': 1680969323, 'predicted_time': 1680969124, 'score_breakdown': {'blue': {'activationBonusAchieved': False, 'adjustPoints': 0, 'autoBridgeState': 'Level', 'autoChargeStationPoints': 12, 'autoChargeStationRobot1': 'None', 'autoChargeStationRobot2': 'None', 'autoChargeStationRobot3': 'Docked', 'autoCommunity': {'B': ['None', 'None', 'None', 'None', 'None', 'None', 'Cube', 'None', 'None'], 'M': ['None', 'None', 'None', 'None', 'Cube', 'None', 'None', 'Cube', 'None'], 'T': ['None', 'None', 'None', 'None', 'None', 'None', 'None', 'None', 'Cone']}, 'autoDocked': True, 'autoGamePieceCount': 4, 'autoGamePiecePoints': 17, 'autoMobilityPoints': 9, 'autoPoints': 38, 'coopGamePieceCount': 8, 'coopertitionCriteriaMet': False, 'endGameBridgeState': 'Level', 'endGameChargeStationPoints': 10, 'endGameChargeStationRobot1': 'None', 'endGameChargeStationRobot2': 'Park', 'endGameChargeStationRobot3': 'Docked', 'endGameParkPoints': 2, 'foulCount': 0, 'foulPoints': 5, 'linkPoints': 35, 'links': [{'nodes': [2, 3, 4], 'row': 'Bottom'}, {'nodes': [6, 7, 8], 'row': 'Bottom'}, {'nodes': [0, 1, 2], 'row': 'Mid'}, {'nodes': [3, 4, 5], 'row': 'Mid'}, {'nodes': [0, 1, 2], 'row': 'Top'}, {'nodes': [3, 4, 5], 'row': 'Top'}, {'nodes': [6, 7, 8], 'row': 'Top'}], 'mobilityRobot1': 'Yes', 'mobilityRobot2': 'Yes', 'mobilityRobot3': 'Yes', 'rp': 0, 'sustainabilityBonusAchieved': False, 'techFoulCount': 0, 'teleopCommunity': {'B': ['None', 'None', 'Cube', 'Cube', 'Cube', 'None', 'Cube', 'Cone', 'Cube'], 'M': ['Cone', 'Cube', 'Cone', 'Cone', 'Cube', 'Cone', 'None', 'Cube', 'None'], 'T': ['Cone', 'Cube', 'Cone', 'Cone', 'Cube', 'Cone', 'Cone', 'Cube', 'Cone']}, 'teleopGamePieceCount': 22, 'teleopGamePiecePoints': 65, 'teleopPoints': 77, 'totalChargeStationPoints': 22, 'totalPoints': 155}, 'red': {'activationBonusAchieved': False, 'adjustPoints': 0, 'autoBridgeState': 'Level', 'autoChargeStationPoints': 12, 'autoChargeStationRobot1': 'None', 'autoChargeStationRobot2': 'Docked', 'autoChargeStationRobot3': 'None', 'autoCommunity': {'B': ['None', 'None', 'None', 'None', 'None', 'None', 'None', 'None', 'None'], 'M': ['None', 'None', 'None', 'None', 'None', 'None', 'None', 'None', 'None'], 'T': ['None', 'Cube', 'None', 'None', 'None', 'Cone', 'None', 'None', 'Cone']}, 'autoDocked': True, 'autoGamePieceCount': 3, 'autoGamePiecePoints': 18, 'autoMobilityPoints': 6, 'autoPoints': 36, 'coopGamePieceCount': 7, 'coopertitionCriteriaMet': False, 'endGameBridgeState': 'Level', 'endGameChargeStationPoints': 30, 'endGameChargeStationRobot1': 'Docked', 'endGameChargeStationRobot2': 'Docked', 'endGameChargeStationRobot3': 'Docked', 'endGameParkPoints': 0, 'foulCount': 1, 'foulPoints': 0, 'linkPoints': 35, 'links': [{'nodes': [0, 1, 2], 'row': 'Bottom'}, {'nodes': [0, 1, 2], 'row': 'Mid'}, {'nodes': [3, 4, 5], 'row': 'Mid'}, {'nodes': [6, 7, 8], 'row': 'Mid'}, {'nodes': [0, 1, 2], 'row': 'Top'}, {'nodes': [3, 4, 5], 'row': 'Top'}, {'nodes': [6, 7, 8], 'row': 'Top'}], 'mobilityRobot1': 'No', 'mobilityRobot2': 'Yes', 'mobilityRobot3': 'Yes', 'rp': 0, 'sustainabilityBonusAchieved': False, 'techFoulCount': 0, 'teleopCommunity': {'B': ['Cone', 'Cone', 'Cone', 'Cube', 'None', 'None', 'None', 'None', 'None'], 'M': ['Cone', 'Cube', 'Cone', 'Cone', 'Cube', 'Cone', 'Cone', 'Cube', 'Cone'], 'T': ['Cone', 'Cube', 'Cone', 'Cone', 'Cube', 'Cone', 'Cone', 'Cube', 'Cone']}, 'teleopGamePieceCount': 22, 'teleopGamePiecePoints': 65, 'teleopPoints': 95, 'totalChargeStationPoints': 42, 'totalPoints': 166}}, 'set_number': 9, 'time': 1680966840, 'videos': [{'key': 'ZNx0h-JNPZs', 'type': 'youtube'}, {'key': '7CC7zrhdsDM', 'type': 'youtube'}], 'winning_alliance': 'red'})]"
      ]
     },
     "execution_count": 6,
     "metadata": {},
     "output_type": "execute_result"
    }
   ],
   "source": [
    "tba.event_matches(event)"
   ]
  },
  {
   "cell_type": "code",
   "execution_count": 13,
   "id": "0bdcc554",
   "metadata": {},
   "outputs": [
    {
     "name": "stdout",
     "output_type": "stream",
     "text": [
      "Top 3 Tech Teams\n"
     ]
    },
    {
     "data": {
      "text/plain": [
       "{'frc3739': 2,\n",
       " 'frc2386': 2,\n",
       " 'frc1310': 2,\n",
       " 'frc9263': 1,\n",
       " 'frc6987': 1,\n",
       " 'frc4946': 1,\n",
       " 'frc5885': 1,\n",
       " 'frc4069': 1,\n",
       " 'frc1114': 1,\n",
       " 'frc5024': 0,\n",
       " 'frc4343': 0,\n",
       " 'frc1285': 0,\n",
       " 'frc4920': 0,\n",
       " 'frc4917': 0,\n",
       " 'frc6378': 0,\n",
       " 'frc6865': 0,\n",
       " 'frc4903': 0,\n",
       " 'frc2609': 0,\n",
       " 'frc8729': 0,\n",
       " 'frc7757': 0,\n",
       " 'frc1334': 0,\n",
       " 'frc610': 0,\n",
       " 'frc4907': 0,\n",
       " 'frc4688': 0,\n",
       " 'frc4678': 0,\n",
       " 'frc6854': 0,\n",
       " 'frc7476': 0,\n",
       " 'frc2708': 0,\n",
       " 'frc5036': 0,\n",
       " 'frc7690': 0,\n",
       " 'frc2013': 0,\n",
       " 'frc4039': 0,\n",
       " 'frc2706': 0,\n",
       " 'frc6864': 0,\n",
       " 'frc5596': 0,\n",
       " 'frc8764': 0,\n",
       " 'frc7722': 0,\n",
       " 'frc1325': 0,\n",
       " 'frc5870': 0,\n",
       " 'frc865': 0}"
      ]
     },
     "execution_count": 13,
     "metadata": {},
     "output_type": "execute_result"
    }
   ],
   "source": [
    "list1 = []\n",
    "for i in tba.event_matches('2023oncmp2'):\n",
    "    if i['comp_level'] == 'qm':\n",
    "        teamb1 = i['alliances']['blue']['team_keys'][0]\n",
    "        teamb2 = i['alliances']['blue']['team_keys'][1]\n",
    "        teamb3 = i['alliances']['blue']['team_keys'][2]\n",
    "        teamr1 = i['alliances']['red']['team_keys'][0]\n",
    "        teamr2 = i['alliances']['red']['team_keys'][1]\n",
    "        teamr3 = i['alliances']['red']['team_keys'][2]\n",
    "        \n",
    "        foulb1 = i['score_breakdown']['blue']['techFoulCount']\n",
    "        foulb2 = i['score_breakdown']['blue']['techFoulCount']\n",
    "        foulb3 = i['score_breakdown']['blue']['techFoulCount']\n",
    "        foulr1 = i['score_breakdown']['red']['techFoulCount']\n",
    "        foulr2 = i['score_breakdown']['red']['techFoulCount']\n",
    "        foulr3 = i['score_breakdown']['red']['techFoulCount']\n",
    "        \n",
    "        dict1 = { teamb1:foulb1\n",
    "                , teamb2:foulb2\n",
    "                , teamb3:foulb3\n",
    "                , teamr1:foulr1\n",
    "                , teamr2:foulr2\n",
    "                , teamr3:foulr3}\n",
    "        list1.append(dict1)\n",
    "counter = collections.Counter()\n",
    "for d in list1:\n",
    "    counter.update(d)\n",
    "\n",
    "res = dict(sorted(counter.items(), key=lambda item: item[1], reverse=True))\n",
    "\n",
    "print('Tech Teams')\n",
    "res"
   ]
  },
  {
   "cell_type": "code",
   "execution_count": 15,
   "id": "db835bb0",
   "metadata": {},
   "outputs": [
    {
     "name": "stdout",
     "output_type": "stream",
     "text": [
      "Top 3 Tech Teams\n"
     ]
    },
    {
     "data": {
      "text/plain": [
       "{'frc772': 3,\n",
       " 'frc1305': 3,\n",
       " 'frc7136': 2,\n",
       " 'frc1241': 2,\n",
       " 'frc2702': 2,\n",
       " 'frc7558': 1,\n",
       " 'frc2056': 1,\n",
       " 'frc2200': 1,\n",
       " 'frc7022': 1,\n",
       " 'frc5406': 1,\n",
       " 'frc2634': 1,\n",
       " 'frc4476': 1,\n",
       " 'frc8089': 1,\n",
       " 'frc7480': 1,\n",
       " 'frc6978': 1,\n",
       " 'frc781': 1,\n",
       " 'frc5719': 1,\n",
       " 'frc9062': 1,\n",
       " 'frc8081': 1,\n",
       " 'frc4152': 1,\n",
       " 'frc4976': 0,\n",
       " 'frc7712': 0,\n",
       " 'frc5834': 0,\n",
       " 'frc9098': 0,\n",
       " 'frc6140': 0,\n",
       " 'frc4992': 0,\n",
       " 'frc5409': 0,\n",
       " 'frc5031': 0,\n",
       " 'frc771': 0,\n",
       " 'frc1360': 0,\n",
       " 'frc4308': 0,\n",
       " 'frc4951': 0,\n",
       " 'frc3161': 0,\n",
       " 'frc7659': 0,\n",
       " 'frc8884': 0,\n",
       " 'frc2852': 0,\n",
       " 'frc5032': 0,\n",
       " 'frc8349': 0,\n",
       " 'frc3683': 0,\n",
       " 'frc1374': 0}"
      ]
     },
     "execution_count": 15,
     "metadata": {},
     "output_type": "execute_result"
    }
   ],
   "source": [
    "list1 = []\n",
    "for i in tba.event_matches('2023oncmp1'):\n",
    "    if i['comp_level'] == 'qm':\n",
    "        teamb1 = i['alliances']['blue']['team_keys'][0]\n",
    "        teamb2 = i['alliances']['blue']['team_keys'][1]\n",
    "        teamb3 = i['alliances']['blue']['team_keys'][2]\n",
    "        teamr1 = i['alliances']['red']['team_keys'][0]\n",
    "        teamr2 = i['alliances']['red']['team_keys'][1]\n",
    "        teamr3 = i['alliances']['red']['team_keys'][2]\n",
    "        \n",
    "        foulb1 = i['score_breakdown']['blue']['techFoulCount']\n",
    "        foulb2 = i['score_breakdown']['blue']['techFoulCount']\n",
    "        foulb3 = i['score_breakdown']['blue']['techFoulCount']\n",
    "        foulr1 = i['score_breakdown']['red']['techFoulCount']\n",
    "        foulr2 = i['score_breakdown']['red']['techFoulCount']\n",
    "        foulr3 = i['score_breakdown']['red']['techFoulCount']\n",
    "        \n",
    "        dict1 = { teamb1:foulb1\n",
    "                , teamb2:foulb2\n",
    "                , teamb3:foulb3\n",
    "                , teamr1:foulr1\n",
    "                , teamr2:foulr2\n",
    "                , teamr3:foulr3}\n",
    "        list1.append(dict1)\n",
    "counter = collections.Counter()\n",
    "for d in list1:\n",
    "    counter.update(d)\n",
    "\n",
    "res = dict(sorted(counter.items(), key=lambda item: item[1], reverse=True))\n",
    "\n",
    "print('Tech Teams')\n",
    "res"
   ]
  },
  {
   "cell_type": "code",
   "execution_count": 26,
   "id": "1d05505b",
   "metadata": {},
   "outputs": [
    {
     "name": "stdout",
     "output_type": "stream",
     "text": [
      "27 160\n"
     ]
    }
   ],
   "source": [
    "total_count = 0\n",
    "full_bot = 0\n",
    "for i in tba.event_matches('2023oncmp2'):\n",
    "    if i['comp_level'] == 'qm':\n",
    "        total_count += 1\n",
    "        if (i['score_breakdown']['blue']['teleopCommunity']['B'].count('None') == 0) or (i['score_breakdown']['red']['teleopCommunity']['B'].count('None') == 0):\n",
    "            full_bot += 1\n",
    "for i in tba.event_matches('2023oncmp1'):\n",
    "    if i['comp_level'] == 'qm':\n",
    "        total_count += 1\n",
    "        if (i['score_breakdown']['blue']['teleopCommunity']['B'].count('None') == 0) or (i['score_breakdown']['red']['teleopCommunity']['B'].count('None') == 0):\n",
    "            full_bot += 1            \n",
    "            \n",
    "            \n",
    "            \n",
    "            \n",
    "            \n",
    "print(full_bot, total_count)\n",
    "\n"
   ]
  },
  {
   "cell_type": "code",
   "execution_count": 14,
   "id": "3faca65f",
   "metadata": {},
   "outputs": [
    {
     "data": {
      "text/plain": [
       "{'frc1114': 'L2N2Z7',\n",
       " 'frc1285': 'L5V1N6',\n",
       " 'frc1310': 'M6S4A3',\n",
       " 'frc1325': 'L5R3N9',\n",
       " 'frc1334': 'L6J3L6',\n",
       " 'frc2013': 'L0M1S0',\n",
       " 'frc2386': 'L7S1K4',\n",
       " 'frc2609': 'N1H5H7',\n",
       " 'frc2706': 'K0A1L0',\n",
       " 'frc2708': 'K7L3S7',\n",
       " 'frc3739': 'N6H1V4',\n",
       " 'frc4039': 'L8S2G7',\n",
       " 'frc4069': 'P3E2P8',\n",
       " 'frc4343': 'L4G1J5',\n",
       " 'frc4678': 'N0B1M0',\n",
       " 'frc4688': 'N0R1A0',\n",
       " 'frc4903': 'N9E1J2',\n",
       " 'frc4907': 'N5R3C2',\n",
       " 'frc4917': 'N3B1K2',\n",
       " 'frc4920': 'N0R1A0',\n",
       " 'frc4946': 'L7E3V8',\n",
       " 'frc5024': 'N6B1W5',\n",
       " 'frc5036': 'M1E1P5',\n",
       " 'frc5596': 'M1V3S8',\n",
       " 'frc5870': 'N6G2C3',\n",
       " 'frc5885': 'N9A6Z6',\n",
       " 'frc610': 'M2L1A2',\n",
       " 'frc6378': 'L5M7E6',\n",
       " 'frc6854': 'N5X1L8',\n",
       " 'frc6864': 'P1P1X7',\n",
       " 'frc6865': 'P0P1G0',\n",
       " 'frc6987': 'K0M1N0',\n",
       " 'frc7476': 'K2K2B6',\n",
       " 'frc7690': 'L4C3S3',\n",
       " 'frc7722': 'N2N3B9',\n",
       " 'frc7757': 'N4K1X2',\n",
       " 'frc865': 'M6P3E3',\n",
       " 'frc8729': 'K2W0C9',\n",
       " 'frc8764': 'L3T4N4',\n",
       " 'frc9263': 'L7T1E5',\n",
       " 'frc1241': 'L5V1N6',\n",
       " 'frc1305': 'P1B8K5',\n",
       " 'frc1360': 'L6J3H1',\n",
       " 'frc1374': 'L6J3L6',\n",
       " 'frc2056': 'L8E4M5',\n",
       " 'frc2200': 'L7P3N9',\n",
       " 'frc2634': 'M6L1M8',\n",
       " 'frc2702': 'N2H1H6',\n",
       " 'frc2852': 'L2T2M9',\n",
       " 'frc3161': 'L6H5Z8',\n",
       " 'frc3683': 'N2L3X5',\n",
       " 'frc4152': 'P1H2A2',\n",
       " 'frc4308': 'L5C1Y5',\n",
       " 'frc4476': 'K7L4V4',\n",
       " 'frc4951': 'L7B1K5',\n",
       " 'frc4976': 'L7G3Z5',\n",
       " 'frc4992': 'L9T7V8',\n",
       " 'frc5031': 'M3K1W3',\n",
       " 'frc5032': 'L5N3B2',\n",
       " 'frc5406': 'L0R1P0',\n",
       " 'frc5409': 'L6M4W2',\n",
       " 'frc5719': 'M1P2S7',\n",
       " 'frc5834': 'M4M2A1',\n",
       " 'frc6140': 'M1B3G5',\n",
       " 'frc6978': 'L2S1P4',\n",
       " 'frc7022': 'N1R5W1',\n",
       " 'frc7136': 'M9W2T4',\n",
       " 'frc7480': 'K7L2Z5',\n",
       " 'frc7558': 'M3B3H9',\n",
       " 'frc7659': 'L5H2K8',\n",
       " 'frc771': 'L6J2L1',\n",
       " 'frc7712': 'M1L0H2',\n",
       " 'frc772': 'N9J2T5',\n",
       " 'frc781': 'N2Z2B9',\n",
       " 'frc8081': 'N8H3V8',\n",
       " 'frc8089': 'N2G3C8',\n",
       " 'frc8349': 'L3Y1R9',\n",
       " 'frc8884': 'M4P2L5',\n",
       " 'frc9062': 'L8S4P3',\n",
       " 'frc9098': 'L6M1S2'}"
      ]
     },
     "execution_count": 14,
     "metadata": {},
     "output_type": "execute_result"
    }
   ],
   "source": [
    "dict3 = {}\n",
    "for i in tba.event_teams('2023oncmp2'):\n",
    "    team_key = i['key']\n",
    "    if i['postal_code'] is not None:\n",
    "        dict3[team_key] = i['postal_code'].upper().replace(\" \", \"\")\n",
    "    else:\n",
    "        dict3[team_key] = i['postal_code']\n",
    "for i in tba.event_teams('2023oncmp1'):\n",
    "    team_key = i['key']\n",
    "    if i['postal_code'] is not None:\n",
    "        dict3[team_key] = i['postal_code'].upper().replace(\" \", \"\")\n",
    "    else:\n",
    "        dict3[team_key] = i['postal_code']\n",
    "\n",
    "dict3['frc8884'] = 'M4P2L5'\n",
    "dict3['frc9062'] = 'L8S4P3'\n",
    "dict3['frc9098'] = 'L6M1S2'\n",
    "\n",
    "dict3['frc8729'] = 'K2W0C9'\n",
    "dict3['frc8764'] = 'L3T4N4'\n",
    "dict3['frc9263'] = 'L7T1E5'\n",
    "        \n",
    "dict3"
   ]
  },
  {
   "cell_type": "code",
   "execution_count": 15,
   "id": "131819b3",
   "metadata": {},
   "outputs": [
    {
     "data": {
      "text/plain": [
       "{'frc1114': 'St. Catharines',\n",
       " 'frc1285': 'Mississauga Centre',\n",
       " 'frc1310': 'Parkdale—High Park',\n",
       " 'frc1325': 'Mississauga—Malton',\n",
       " 'frc1334': 'Oakville',\n",
       " 'frc2013': 'Simcoe—Grey',\n",
       " 'frc2386': 'Burlington',\n",
       " 'frc2609': 'Guelph',\n",
       " 'frc2706': 'Kanata—Carleton',\n",
       " 'frc2708': 'Kingston and the Islands',\n",
       " 'frc3739': 'London West',\n",
       " 'frc4039': 'Hamilton West—Ancaster—Dundas',\n",
       " 'frc4069': 'Sudbury',\n",
       " 'frc4343': 'Newmarket—Aurora',\n",
       " 'frc4678': 'Kitchener—Conestoga',\n",
       " 'frc4688': 'Essex',\n",
       " 'frc4903': 'Windsor West',\n",
       " 'frc4907': 'Elgin—Middlesex—London',\n",
       " 'frc4917': 'Kitchener—Conestoga',\n",
       " 'frc4920': 'Essex',\n",
       " 'frc4946': 'Dufferin—Caledon',\n",
       " 'frc5024': 'London North Centre',\n",
       " 'frc5036': 'Scarborough—Guildwood',\n",
       " 'frc5596': 'Scarborough—Agincourt',\n",
       " 'frc5870': 'London West',\n",
       " 'frc5885': 'Essex',\n",
       " 'frc610': 'Don Valley West',\n",
       " 'frc6378': 'Mississauga—Erin Mills',\n",
       " 'frc6854': 'London North Centre',\n",
       " 'frc6864': 'Parry Sound—Muskoka',\n",
       " 'frc6865': 'Algoma—Manitoulin—Kapuskasing',\n",
       " 'frc6987': 'Haliburton—Kawartha Lakes—Brock',\n",
       " 'frc7476': 'Kanata—Carleton',\n",
       " 'frc7690': 'Richmond Hill',\n",
       " 'frc7722': 'Kitchener—Conestoga',\n",
       " 'frc7757': 'Bruce—Grey—Owen Sound',\n",
       " 'frc865': 'Parkdale—High Park',\n",
       " 'frc8729': 'Kanata—Carleton',\n",
       " 'frc8764': 'Thornhill',\n",
       " 'frc9263': 'Burlington',\n",
       " 'frc1241': 'Mississauga Centre',\n",
       " 'frc1305': 'Nipissing—Timiskaming',\n",
       " 'frc1360': 'Oakville',\n",
       " 'frc1374': 'Oakville',\n",
       " 'frc2056': 'Hamilton East—Stoney Creek',\n",
       " 'frc2200': 'Burlington',\n",
       " 'frc2634': 'York South—Weston',\n",
       " 'frc2702': 'Kitchener Centre',\n",
       " 'frc2852': 'St. Catharines',\n",
       " 'frc3161': 'Oakville North—Burlington',\n",
       " 'frc3683': 'Kitchener—Conestoga',\n",
       " 'frc4152': 'Parry Sound—Muskoka',\n",
       " 'frc4308': 'Mississauga Centre',\n",
       " 'frc4476': 'Lanark—Frontenac—Kingston',\n",
       " 'frc4951': 'King—Vaughan',\n",
       " 'frc4976': 'Wellington—Halton Hills',\n",
       " 'frc4992': 'Milton',\n",
       " 'frc5031': 'York Centre',\n",
       " 'frc5032': 'Mississauga—Streetsville',\n",
       " 'frc5406': 'Flamborough—Glanbrook',\n",
       " 'frc5409': 'Oakville North—Burlington',\n",
       " 'frc5719': 'Scarborough Centre',\n",
       " 'frc5834': 'Toronto—Danforth',\n",
       " 'frc6140': 'Scarborough—Rouge Park',\n",
       " 'frc6978': 'Niagara Centre',\n",
       " 'frc7022': 'Cambridge',\n",
       " 'frc7136': 'Etobicoke North',\n",
       " 'frc7480': 'Kingston and the Islands',\n",
       " 'frc7558': 'Don Valley East',\n",
       " 'frc7659': 'Mississauga—Lakeshore',\n",
       " 'frc771': 'Oakville',\n",
       " 'frc7712': 'Scarborough Southwest',\n",
       " 'frc772': 'Essex',\n",
       " 'frc781': 'Huron—Bruce',\n",
       " 'frc8081': 'Chatham-Kent—Leamington',\n",
       " 'frc8089': 'Kitchener Centre',\n",
       " 'frc8349': 'Newmarket—Aurora',\n",
       " 'frc8884': 'Don Valley West',\n",
       " 'frc9062': 'Hamilton Centre',\n",
       " 'frc9098': 'Oakville'}"
      ]
     },
     "execution_count": 15,
     "metadata": {},
     "output_type": "execute_result"
    }
   ],
   "source": [
    "dict4 = {}\n",
    "for key, value in dict3.items():\n",
    "    team_key = key\n",
    "    if value is not None:\n",
    "        time.sleep(random.randint(3, 37)/13)\n",
    "        with urllib.request.urlopen('http://represent.opennorth.ca/postcodes/' + value) as url:\n",
    "            data = json.load(url)\n",
    "        ind = 0\n",
    "        right = 0\n",
    "        while right == 0:\n",
    "            if data['boundaries_centroid'][ind]['url'][:40] == '/boundaries/federal-electoral-districts/':\n",
    "                right = 1\n",
    "            else:\n",
    "                ind += 1\n",
    "        dict4[team_key] = data['boundaries_centroid'][ind]['name']       \n",
    "dict4"
   ]
  },
  {
   "cell_type": "code",
   "execution_count": 21,
   "id": "19d5c844",
   "metadata": {},
   "outputs": [
    {
     "name": "stdout",
     "output_type": "stream",
     "text": [
      "frc4476\n",
      "frc3683\n",
      "frc1360\n",
      "frc2056\n",
      "frc2200\n",
      "frc4992\n",
      "frc4976\n",
      "frc5406\n",
      "frc8884\n",
      "frc7558\n",
      "frc1241\n",
      "frc5719\n",
      "frc6978\n",
      "frc5409\n",
      "frc1305\n",
      "frc781\n",
      "frc7480\n",
      "frc4152\n",
      "frc9098\n",
      "frc3161\n",
      "frc2702\n",
      "frc7712\n",
      "frc2634\n",
      "frc8081\n"
     ]
    }
   ],
   "source": [
    "for i in tba.event_alliances('2023oncmp1'):\n",
    "    for j in i['picks']:\n",
    "        print(j)"
   ]
  },
  {
   "cell_type": "code",
   "execution_count": 15,
   "id": "ea61f541",
   "metadata": {},
   "outputs": [
    {
     "data": {
      "application/vnd.plotly.v1+json": {
       "config": {
        "plotlyServerURL": "https://plot.ly"
       },
       "data": [
        {
         "marker": {
          "size": 20
         },
         "mode": "markers",
         "showlegend": false,
         "type": "scatter",
         "x": [
          83.7,
          42,
          57.5,
          37.28,
          61.2,
          69.69,
          59.7,
          24.66,
          44.5,
          20,
          42.69,
          63.2,
          45.2,
          60
         ],
         "y": [
          0,
          0,
          0,
          0,
          0,
          0,
          0,
          0,
          0,
          0,
          0,
          0,
          0,
          0
         ]
        },
        {
         "marker": {
          "size": 20
         },
         "mode": "markers",
         "showlegend": false,
         "type": "scatter",
         "x": [
          55.3
         ],
         "y": [
          0
         ]
        }
       ],
       "layout": {
        "height": 200,
        "paper_bgcolor": "rgba(0,0,0,0)",
        "plot_bgcolor": "rgba(0,0,0,0)",
        "template": {
         "data": {
          "bar": [
           {
            "error_x": {
             "color": "#2a3f5f"
            },
            "error_y": {
             "color": "#2a3f5f"
            },
            "marker": {
             "line": {
              "color": "#E5ECF6",
              "width": 0.5
             },
             "pattern": {
              "fillmode": "overlay",
              "size": 10,
              "solidity": 0.2
             }
            },
            "type": "bar"
           }
          ],
          "barpolar": [
           {
            "marker": {
             "line": {
              "color": "#E5ECF6",
              "width": 0.5
             },
             "pattern": {
              "fillmode": "overlay",
              "size": 10,
              "solidity": 0.2
             }
            },
            "type": "barpolar"
           }
          ],
          "carpet": [
           {
            "aaxis": {
             "endlinecolor": "#2a3f5f",
             "gridcolor": "white",
             "linecolor": "white",
             "minorgridcolor": "white",
             "startlinecolor": "#2a3f5f"
            },
            "baxis": {
             "endlinecolor": "#2a3f5f",
             "gridcolor": "white",
             "linecolor": "white",
             "minorgridcolor": "white",
             "startlinecolor": "#2a3f5f"
            },
            "type": "carpet"
           }
          ],
          "choropleth": [
           {
            "colorbar": {
             "outlinewidth": 0,
             "ticks": ""
            },
            "type": "choropleth"
           }
          ],
          "contour": [
           {
            "colorbar": {
             "outlinewidth": 0,
             "ticks": ""
            },
            "colorscale": [
             [
              0,
              "#0d0887"
             ],
             [
              0.1111111111111111,
              "#46039f"
             ],
             [
              0.2222222222222222,
              "#7201a8"
             ],
             [
              0.3333333333333333,
              "#9c179e"
             ],
             [
              0.4444444444444444,
              "#bd3786"
             ],
             [
              0.5555555555555556,
              "#d8576b"
             ],
             [
              0.6666666666666666,
              "#ed7953"
             ],
             [
              0.7777777777777778,
              "#fb9f3a"
             ],
             [
              0.8888888888888888,
              "#fdca26"
             ],
             [
              1,
              "#f0f921"
             ]
            ],
            "type": "contour"
           }
          ],
          "contourcarpet": [
           {
            "colorbar": {
             "outlinewidth": 0,
             "ticks": ""
            },
            "type": "contourcarpet"
           }
          ],
          "heatmap": [
           {
            "colorbar": {
             "outlinewidth": 0,
             "ticks": ""
            },
            "colorscale": [
             [
              0,
              "#0d0887"
             ],
             [
              0.1111111111111111,
              "#46039f"
             ],
             [
              0.2222222222222222,
              "#7201a8"
             ],
             [
              0.3333333333333333,
              "#9c179e"
             ],
             [
              0.4444444444444444,
              "#bd3786"
             ],
             [
              0.5555555555555556,
              "#d8576b"
             ],
             [
              0.6666666666666666,
              "#ed7953"
             ],
             [
              0.7777777777777778,
              "#fb9f3a"
             ],
             [
              0.8888888888888888,
              "#fdca26"
             ],
             [
              1,
              "#f0f921"
             ]
            ],
            "type": "heatmap"
           }
          ],
          "heatmapgl": [
           {
            "colorbar": {
             "outlinewidth": 0,
             "ticks": ""
            },
            "colorscale": [
             [
              0,
              "#0d0887"
             ],
             [
              0.1111111111111111,
              "#46039f"
             ],
             [
              0.2222222222222222,
              "#7201a8"
             ],
             [
              0.3333333333333333,
              "#9c179e"
             ],
             [
              0.4444444444444444,
              "#bd3786"
             ],
             [
              0.5555555555555556,
              "#d8576b"
             ],
             [
              0.6666666666666666,
              "#ed7953"
             ],
             [
              0.7777777777777778,
              "#fb9f3a"
             ],
             [
              0.8888888888888888,
              "#fdca26"
             ],
             [
              1,
              "#f0f921"
             ]
            ],
            "type": "heatmapgl"
           }
          ],
          "histogram": [
           {
            "marker": {
             "pattern": {
              "fillmode": "overlay",
              "size": 10,
              "solidity": 0.2
             }
            },
            "type": "histogram"
           }
          ],
          "histogram2d": [
           {
            "colorbar": {
             "outlinewidth": 0,
             "ticks": ""
            },
            "colorscale": [
             [
              0,
              "#0d0887"
             ],
             [
              0.1111111111111111,
              "#46039f"
             ],
             [
              0.2222222222222222,
              "#7201a8"
             ],
             [
              0.3333333333333333,
              "#9c179e"
             ],
             [
              0.4444444444444444,
              "#bd3786"
             ],
             [
              0.5555555555555556,
              "#d8576b"
             ],
             [
              0.6666666666666666,
              "#ed7953"
             ],
             [
              0.7777777777777778,
              "#fb9f3a"
             ],
             [
              0.8888888888888888,
              "#fdca26"
             ],
             [
              1,
              "#f0f921"
             ]
            ],
            "type": "histogram2d"
           }
          ],
          "histogram2dcontour": [
           {
            "colorbar": {
             "outlinewidth": 0,
             "ticks": ""
            },
            "colorscale": [
             [
              0,
              "#0d0887"
             ],
             [
              0.1111111111111111,
              "#46039f"
             ],
             [
              0.2222222222222222,
              "#7201a8"
             ],
             [
              0.3333333333333333,
              "#9c179e"
             ],
             [
              0.4444444444444444,
              "#bd3786"
             ],
             [
              0.5555555555555556,
              "#d8576b"
             ],
             [
              0.6666666666666666,
              "#ed7953"
             ],
             [
              0.7777777777777778,
              "#fb9f3a"
             ],
             [
              0.8888888888888888,
              "#fdca26"
             ],
             [
              1,
              "#f0f921"
             ]
            ],
            "type": "histogram2dcontour"
           }
          ],
          "mesh3d": [
           {
            "colorbar": {
             "outlinewidth": 0,
             "ticks": ""
            },
            "type": "mesh3d"
           }
          ],
          "parcoords": [
           {
            "line": {
             "colorbar": {
              "outlinewidth": 0,
              "ticks": ""
             }
            },
            "type": "parcoords"
           }
          ],
          "pie": [
           {
            "automargin": true,
            "type": "pie"
           }
          ],
          "scatter": [
           {
            "fillpattern": {
             "fillmode": "overlay",
             "size": 10,
             "solidity": 0.2
            },
            "type": "scatter"
           }
          ],
          "scatter3d": [
           {
            "line": {
             "colorbar": {
              "outlinewidth": 0,
              "ticks": ""
             }
            },
            "marker": {
             "colorbar": {
              "outlinewidth": 0,
              "ticks": ""
             }
            },
            "type": "scatter3d"
           }
          ],
          "scattercarpet": [
           {
            "marker": {
             "colorbar": {
              "outlinewidth": 0,
              "ticks": ""
             }
            },
            "type": "scattercarpet"
           }
          ],
          "scattergeo": [
           {
            "marker": {
             "colorbar": {
              "outlinewidth": 0,
              "ticks": ""
             }
            },
            "type": "scattergeo"
           }
          ],
          "scattergl": [
           {
            "marker": {
             "colorbar": {
              "outlinewidth": 0,
              "ticks": ""
             }
            },
            "type": "scattergl"
           }
          ],
          "scattermapbox": [
           {
            "marker": {
             "colorbar": {
              "outlinewidth": 0,
              "ticks": ""
             }
            },
            "type": "scattermapbox"
           }
          ],
          "scatterpolar": [
           {
            "marker": {
             "colorbar": {
              "outlinewidth": 0,
              "ticks": ""
             }
            },
            "type": "scatterpolar"
           }
          ],
          "scatterpolargl": [
           {
            "marker": {
             "colorbar": {
              "outlinewidth": 0,
              "ticks": ""
             }
            },
            "type": "scatterpolargl"
           }
          ],
          "scatterternary": [
           {
            "marker": {
             "colorbar": {
              "outlinewidth": 0,
              "ticks": ""
             }
            },
            "type": "scatterternary"
           }
          ],
          "surface": [
           {
            "colorbar": {
             "outlinewidth": 0,
             "ticks": ""
            },
            "colorscale": [
             [
              0,
              "#0d0887"
             ],
             [
              0.1111111111111111,
              "#46039f"
             ],
             [
              0.2222222222222222,
              "#7201a8"
             ],
             [
              0.3333333333333333,
              "#9c179e"
             ],
             [
              0.4444444444444444,
              "#bd3786"
             ],
             [
              0.5555555555555556,
              "#d8576b"
             ],
             [
              0.6666666666666666,
              "#ed7953"
             ],
             [
              0.7777777777777778,
              "#fb9f3a"
             ],
             [
              0.8888888888888888,
              "#fdca26"
             ],
             [
              1,
              "#f0f921"
             ]
            ],
            "type": "surface"
           }
          ],
          "table": [
           {
            "cells": {
             "fill": {
              "color": "#EBF0F8"
             },
             "line": {
              "color": "white"
             }
            },
            "header": {
             "fill": {
              "color": "#C8D4E3"
             },
             "line": {
              "color": "white"
             }
            },
            "type": "table"
           }
          ]
         },
         "layout": {
          "annotationdefaults": {
           "arrowcolor": "#2a3f5f",
           "arrowhead": 0,
           "arrowwidth": 1
          },
          "autotypenumbers": "strict",
          "coloraxis": {
           "colorbar": {
            "outlinewidth": 0,
            "ticks": ""
           }
          },
          "colorscale": {
           "diverging": [
            [
             0,
             "#8e0152"
            ],
            [
             0.1,
             "#c51b7d"
            ],
            [
             0.2,
             "#de77ae"
            ],
            [
             0.3,
             "#f1b6da"
            ],
            [
             0.4,
             "#fde0ef"
            ],
            [
             0.5,
             "#f7f7f7"
            ],
            [
             0.6,
             "#e6f5d0"
            ],
            [
             0.7,
             "#b8e186"
            ],
            [
             0.8,
             "#7fbc41"
            ],
            [
             0.9,
             "#4d9221"
            ],
            [
             1,
             "#276419"
            ]
           ],
           "sequential": [
            [
             0,
             "#0d0887"
            ],
            [
             0.1111111111111111,
             "#46039f"
            ],
            [
             0.2222222222222222,
             "#7201a8"
            ],
            [
             0.3333333333333333,
             "#9c179e"
            ],
            [
             0.4444444444444444,
             "#bd3786"
            ],
            [
             0.5555555555555556,
             "#d8576b"
            ],
            [
             0.6666666666666666,
             "#ed7953"
            ],
            [
             0.7777777777777778,
             "#fb9f3a"
            ],
            [
             0.8888888888888888,
             "#fdca26"
            ],
            [
             1,
             "#f0f921"
            ]
           ],
           "sequentialminus": [
            [
             0,
             "#0d0887"
            ],
            [
             0.1111111111111111,
             "#46039f"
            ],
            [
             0.2222222222222222,
             "#7201a8"
            ],
            [
             0.3333333333333333,
             "#9c179e"
            ],
            [
             0.4444444444444444,
             "#bd3786"
            ],
            [
             0.5555555555555556,
             "#d8576b"
            ],
            [
             0.6666666666666666,
             "#ed7953"
            ],
            [
             0.7777777777777778,
             "#fb9f3a"
            ],
            [
             0.8888888888888888,
             "#fdca26"
            ],
            [
             1,
             "#f0f921"
            ]
           ]
          },
          "colorway": [
           "#636efa",
           "#EF553B",
           "#00cc96",
           "#ab63fa",
           "#FFA15A",
           "#19d3f3",
           "#FF6692",
           "#B6E880",
           "#FF97FF",
           "#FECB52"
          ],
          "font": {
           "color": "#2a3f5f"
          },
          "geo": {
           "bgcolor": "white",
           "lakecolor": "white",
           "landcolor": "#E5ECF6",
           "showlakes": true,
           "showland": true,
           "subunitcolor": "white"
          },
          "hoverlabel": {
           "align": "left"
          },
          "hovermode": "closest",
          "mapbox": {
           "style": "light"
          },
          "paper_bgcolor": "white",
          "plot_bgcolor": "#E5ECF6",
          "polar": {
           "angularaxis": {
            "gridcolor": "white",
            "linecolor": "white",
            "ticks": ""
           },
           "bgcolor": "#E5ECF6",
           "radialaxis": {
            "gridcolor": "white",
            "linecolor": "white",
            "ticks": ""
           }
          },
          "scene": {
           "xaxis": {
            "backgroundcolor": "#E5ECF6",
            "gridcolor": "white",
            "gridwidth": 2,
            "linecolor": "white",
            "showbackground": true,
            "ticks": "",
            "zerolinecolor": "white"
           },
           "yaxis": {
            "backgroundcolor": "#E5ECF6",
            "gridcolor": "white",
            "gridwidth": 2,
            "linecolor": "white",
            "showbackground": true,
            "ticks": "",
            "zerolinecolor": "white"
           },
           "zaxis": {
            "backgroundcolor": "#E5ECF6",
            "gridcolor": "white",
            "gridwidth": 2,
            "linecolor": "white",
            "showbackground": true,
            "ticks": "",
            "zerolinecolor": "white"
           }
          },
          "shapedefaults": {
           "line": {
            "color": "#2a3f5f"
           }
          },
          "ternary": {
           "aaxis": {
            "gridcolor": "white",
            "linecolor": "white",
            "ticks": ""
           },
           "baxis": {
            "gridcolor": "white",
            "linecolor": "white",
            "ticks": ""
           },
           "bgcolor": "#E5ECF6",
           "caxis": {
            "gridcolor": "white",
            "linecolor": "white",
            "ticks": ""
           }
          },
          "title": {
           "x": 0.05
          },
          "xaxis": {
           "automargin": true,
           "gridcolor": "white",
           "linecolor": "white",
           "ticks": "",
           "title": {
            "standoff": 15
           },
           "zerolinecolor": "white",
           "zerolinewidth": 2
          },
          "yaxis": {
           "automargin": true,
           "gridcolor": "white",
           "linecolor": "white",
           "ticks": "",
           "title": {
            "standoff": 15
           },
           "zerolinecolor": "white",
           "zerolinewidth": 2
          }
         }
        },
        "xaxis": {
         "color": "white",
         "showgrid": false
        },
        "yaxis": {
         "color": "white",
         "showgrid": false,
         "showticklabels": false,
         "zeroline": true,
         "zerolinecolor": "white",
         "zerolinewidth": 3
        }
       }
      },
      "text/html": [
       "<div>                            <div id=\"f8abde14-c36b-4c6a-9b18-bbd5d2766b7d\" class=\"plotly-graph-div\" style=\"height:200px; width:100%;\"></div>            <script type=\"text/javascript\">                require([\"plotly\"], function(Plotly) {                    window.PLOTLYENV=window.PLOTLYENV || {};                                    if (document.getElementById(\"f8abde14-c36b-4c6a-9b18-bbd5d2766b7d\")) {                    Plotly.newPlot(                        \"f8abde14-c36b-4c6a-9b18-bbd5d2766b7d\",                        [{\"marker\":{\"size\":20},\"mode\":\"markers\",\"showlegend\":false,\"x\":[83.7,42,57.5,37.28,61.2,69.69,59.7,24.66,44.5,20,42.69,63.2,45.2,60],\"y\":[0,0,0,0,0,0,0,0,0,0,0,0,0,0],\"type\":\"scatter\"},{\"marker\":{\"size\":20},\"mode\":\"markers\",\"showlegend\":false,\"x\":[55.3],\"y\":[0],\"type\":\"scatter\"}],                        {\"template\":{\"data\":{\"histogram2dcontour\":[{\"type\":\"histogram2dcontour\",\"colorbar\":{\"outlinewidth\":0,\"ticks\":\"\"},\"colorscale\":[[0.0,\"#0d0887\"],[0.1111111111111111,\"#46039f\"],[0.2222222222222222,\"#7201a8\"],[0.3333333333333333,\"#9c179e\"],[0.4444444444444444,\"#bd3786\"],[0.5555555555555556,\"#d8576b\"],[0.6666666666666666,\"#ed7953\"],[0.7777777777777778,\"#fb9f3a\"],[0.8888888888888888,\"#fdca26\"],[1.0,\"#f0f921\"]]}],\"choropleth\":[{\"type\":\"choropleth\",\"colorbar\":{\"outlinewidth\":0,\"ticks\":\"\"}}],\"histogram2d\":[{\"type\":\"histogram2d\",\"colorbar\":{\"outlinewidth\":0,\"ticks\":\"\"},\"colorscale\":[[0.0,\"#0d0887\"],[0.1111111111111111,\"#46039f\"],[0.2222222222222222,\"#7201a8\"],[0.3333333333333333,\"#9c179e\"],[0.4444444444444444,\"#bd3786\"],[0.5555555555555556,\"#d8576b\"],[0.6666666666666666,\"#ed7953\"],[0.7777777777777778,\"#fb9f3a\"],[0.8888888888888888,\"#fdca26\"],[1.0,\"#f0f921\"]]}],\"heatmap\":[{\"type\":\"heatmap\",\"colorbar\":{\"outlinewidth\":0,\"ticks\":\"\"},\"colorscale\":[[0.0,\"#0d0887\"],[0.1111111111111111,\"#46039f\"],[0.2222222222222222,\"#7201a8\"],[0.3333333333333333,\"#9c179e\"],[0.4444444444444444,\"#bd3786\"],[0.5555555555555556,\"#d8576b\"],[0.6666666666666666,\"#ed7953\"],[0.7777777777777778,\"#fb9f3a\"],[0.8888888888888888,\"#fdca26\"],[1.0,\"#f0f921\"]]}],\"heatmapgl\":[{\"type\":\"heatmapgl\",\"colorbar\":{\"outlinewidth\":0,\"ticks\":\"\"},\"colorscale\":[[0.0,\"#0d0887\"],[0.1111111111111111,\"#46039f\"],[0.2222222222222222,\"#7201a8\"],[0.3333333333333333,\"#9c179e\"],[0.4444444444444444,\"#bd3786\"],[0.5555555555555556,\"#d8576b\"],[0.6666666666666666,\"#ed7953\"],[0.7777777777777778,\"#fb9f3a\"],[0.8888888888888888,\"#fdca26\"],[1.0,\"#f0f921\"]]}],\"contourcarpet\":[{\"type\":\"contourcarpet\",\"colorbar\":{\"outlinewidth\":0,\"ticks\":\"\"}}],\"contour\":[{\"type\":\"contour\",\"colorbar\":{\"outlinewidth\":0,\"ticks\":\"\"},\"colorscale\":[[0.0,\"#0d0887\"],[0.1111111111111111,\"#46039f\"],[0.2222222222222222,\"#7201a8\"],[0.3333333333333333,\"#9c179e\"],[0.4444444444444444,\"#bd3786\"],[0.5555555555555556,\"#d8576b\"],[0.6666666666666666,\"#ed7953\"],[0.7777777777777778,\"#fb9f3a\"],[0.8888888888888888,\"#fdca26\"],[1.0,\"#f0f921\"]]}],\"surface\":[{\"type\":\"surface\",\"colorbar\":{\"outlinewidth\":0,\"ticks\":\"\"},\"colorscale\":[[0.0,\"#0d0887\"],[0.1111111111111111,\"#46039f\"],[0.2222222222222222,\"#7201a8\"],[0.3333333333333333,\"#9c179e\"],[0.4444444444444444,\"#bd3786\"],[0.5555555555555556,\"#d8576b\"],[0.6666666666666666,\"#ed7953\"],[0.7777777777777778,\"#fb9f3a\"],[0.8888888888888888,\"#fdca26\"],[1.0,\"#f0f921\"]]}],\"mesh3d\":[{\"type\":\"mesh3d\",\"colorbar\":{\"outlinewidth\":0,\"ticks\":\"\"}}],\"scatter\":[{\"fillpattern\":{\"fillmode\":\"overlay\",\"size\":10,\"solidity\":0.2},\"type\":\"scatter\"}],\"parcoords\":[{\"type\":\"parcoords\",\"line\":{\"colorbar\":{\"outlinewidth\":0,\"ticks\":\"\"}}}],\"scatterpolargl\":[{\"type\":\"scatterpolargl\",\"marker\":{\"colorbar\":{\"outlinewidth\":0,\"ticks\":\"\"}}}],\"bar\":[{\"error_x\":{\"color\":\"#2a3f5f\"},\"error_y\":{\"color\":\"#2a3f5f\"},\"marker\":{\"line\":{\"color\":\"#E5ECF6\",\"width\":0.5},\"pattern\":{\"fillmode\":\"overlay\",\"size\":10,\"solidity\":0.2}},\"type\":\"bar\"}],\"scattergeo\":[{\"type\":\"scattergeo\",\"marker\":{\"colorbar\":{\"outlinewidth\":0,\"ticks\":\"\"}}}],\"scatterpolar\":[{\"type\":\"scatterpolar\",\"marker\":{\"colorbar\":{\"outlinewidth\":0,\"ticks\":\"\"}}}],\"histogram\":[{\"marker\":{\"pattern\":{\"fillmode\":\"overlay\",\"size\":10,\"solidity\":0.2}},\"type\":\"histogram\"}],\"scattergl\":[{\"type\":\"scattergl\",\"marker\":{\"colorbar\":{\"outlinewidth\":0,\"ticks\":\"\"}}}],\"scatter3d\":[{\"type\":\"scatter3d\",\"line\":{\"colorbar\":{\"outlinewidth\":0,\"ticks\":\"\"}},\"marker\":{\"colorbar\":{\"outlinewidth\":0,\"ticks\":\"\"}}}],\"scattermapbox\":[{\"type\":\"scattermapbox\",\"marker\":{\"colorbar\":{\"outlinewidth\":0,\"ticks\":\"\"}}}],\"scatterternary\":[{\"type\":\"scatterternary\",\"marker\":{\"colorbar\":{\"outlinewidth\":0,\"ticks\":\"\"}}}],\"scattercarpet\":[{\"type\":\"scattercarpet\",\"marker\":{\"colorbar\":{\"outlinewidth\":0,\"ticks\":\"\"}}}],\"carpet\":[{\"aaxis\":{\"endlinecolor\":\"#2a3f5f\",\"gridcolor\":\"white\",\"linecolor\":\"white\",\"minorgridcolor\":\"white\",\"startlinecolor\":\"#2a3f5f\"},\"baxis\":{\"endlinecolor\":\"#2a3f5f\",\"gridcolor\":\"white\",\"linecolor\":\"white\",\"minorgridcolor\":\"white\",\"startlinecolor\":\"#2a3f5f\"},\"type\":\"carpet\"}],\"table\":[{\"cells\":{\"fill\":{\"color\":\"#EBF0F8\"},\"line\":{\"color\":\"white\"}},\"header\":{\"fill\":{\"color\":\"#C8D4E3\"},\"line\":{\"color\":\"white\"}},\"type\":\"table\"}],\"barpolar\":[{\"marker\":{\"line\":{\"color\":\"#E5ECF6\",\"width\":0.5},\"pattern\":{\"fillmode\":\"overlay\",\"size\":10,\"solidity\":0.2}},\"type\":\"barpolar\"}],\"pie\":[{\"automargin\":true,\"type\":\"pie\"}]},\"layout\":{\"autotypenumbers\":\"strict\",\"colorway\":[\"#636efa\",\"#EF553B\",\"#00cc96\",\"#ab63fa\",\"#FFA15A\",\"#19d3f3\",\"#FF6692\",\"#B6E880\",\"#FF97FF\",\"#FECB52\"],\"font\":{\"color\":\"#2a3f5f\"},\"hovermode\":\"closest\",\"hoverlabel\":{\"align\":\"left\"},\"paper_bgcolor\":\"white\",\"plot_bgcolor\":\"#E5ECF6\",\"polar\":{\"bgcolor\":\"#E5ECF6\",\"angularaxis\":{\"gridcolor\":\"white\",\"linecolor\":\"white\",\"ticks\":\"\"},\"radialaxis\":{\"gridcolor\":\"white\",\"linecolor\":\"white\",\"ticks\":\"\"}},\"ternary\":{\"bgcolor\":\"#E5ECF6\",\"aaxis\":{\"gridcolor\":\"white\",\"linecolor\":\"white\",\"ticks\":\"\"},\"baxis\":{\"gridcolor\":\"white\",\"linecolor\":\"white\",\"ticks\":\"\"},\"caxis\":{\"gridcolor\":\"white\",\"linecolor\":\"white\",\"ticks\":\"\"}},\"coloraxis\":{\"colorbar\":{\"outlinewidth\":0,\"ticks\":\"\"}},\"colorscale\":{\"sequential\":[[0.0,\"#0d0887\"],[0.1111111111111111,\"#46039f\"],[0.2222222222222222,\"#7201a8\"],[0.3333333333333333,\"#9c179e\"],[0.4444444444444444,\"#bd3786\"],[0.5555555555555556,\"#d8576b\"],[0.6666666666666666,\"#ed7953\"],[0.7777777777777778,\"#fb9f3a\"],[0.8888888888888888,\"#fdca26\"],[1.0,\"#f0f921\"]],\"sequentialminus\":[[0.0,\"#0d0887\"],[0.1111111111111111,\"#46039f\"],[0.2222222222222222,\"#7201a8\"],[0.3333333333333333,\"#9c179e\"],[0.4444444444444444,\"#bd3786\"],[0.5555555555555556,\"#d8576b\"],[0.6666666666666666,\"#ed7953\"],[0.7777777777777778,\"#fb9f3a\"],[0.8888888888888888,\"#fdca26\"],[1.0,\"#f0f921\"]],\"diverging\":[[0,\"#8e0152\"],[0.1,\"#c51b7d\"],[0.2,\"#de77ae\"],[0.3,\"#f1b6da\"],[0.4,\"#fde0ef\"],[0.5,\"#f7f7f7\"],[0.6,\"#e6f5d0\"],[0.7,\"#b8e186\"],[0.8,\"#7fbc41\"],[0.9,\"#4d9221\"],[1,\"#276419\"]]},\"xaxis\":{\"gridcolor\":\"white\",\"linecolor\":\"white\",\"ticks\":\"\",\"title\":{\"standoff\":15},\"zerolinecolor\":\"white\",\"automargin\":true,\"zerolinewidth\":2},\"yaxis\":{\"gridcolor\":\"white\",\"linecolor\":\"white\",\"ticks\":\"\",\"title\":{\"standoff\":15},\"zerolinecolor\":\"white\",\"automargin\":true,\"zerolinewidth\":2},\"scene\":{\"xaxis\":{\"backgroundcolor\":\"#E5ECF6\",\"gridcolor\":\"white\",\"linecolor\":\"white\",\"showbackground\":true,\"ticks\":\"\",\"zerolinecolor\":\"white\",\"gridwidth\":2},\"yaxis\":{\"backgroundcolor\":\"#E5ECF6\",\"gridcolor\":\"white\",\"linecolor\":\"white\",\"showbackground\":true,\"ticks\":\"\",\"zerolinecolor\":\"white\",\"gridwidth\":2},\"zaxis\":{\"backgroundcolor\":\"#E5ECF6\",\"gridcolor\":\"white\",\"linecolor\":\"white\",\"showbackground\":true,\"ticks\":\"\",\"zerolinecolor\":\"white\",\"gridwidth\":2}},\"shapedefaults\":{\"line\":{\"color\":\"#2a3f5f\"}},\"annotationdefaults\":{\"arrowcolor\":\"#2a3f5f\",\"arrowhead\":0,\"arrowwidth\":1},\"geo\":{\"bgcolor\":\"white\",\"landcolor\":\"#E5ECF6\",\"subunitcolor\":\"white\",\"showland\":true,\"showlakes\":true,\"lakecolor\":\"white\"},\"title\":{\"x\":0.05},\"mapbox\":{\"style\":\"light\"}}},\"xaxis\":{\"showgrid\":false,\"color\":\"white\"},\"yaxis\":{\"showgrid\":false,\"zeroline\":true,\"zerolinecolor\":\"white\",\"zerolinewidth\":3,\"showticklabels\":false,\"color\":\"white\"},\"height\":200,\"paper_bgcolor\":\"rgba(0,0,0,0)\",\"plot_bgcolor\":\"rgba(0,0,0,0)\"},                        {\"responsive\": true}                    ).then(function(){\n",
       "                            \n",
       "var gd = document.getElementById('f8abde14-c36b-4c6a-9b18-bbd5d2766b7d');\n",
       "var x = new MutationObserver(function (mutations, observer) {{\n",
       "        var display = window.getComputedStyle(gd).display;\n",
       "        if (!display || display === 'none') {{\n",
       "            console.log([gd, 'removed!']);\n",
       "            Plotly.purge(gd);\n",
       "            observer.disconnect();\n",
       "        }}\n",
       "}});\n",
       "\n",
       "// Listen for the removal of the full notebook cells\n",
       "var notebookContainer = gd.closest('#notebook-container');\n",
       "if (notebookContainer) {{\n",
       "    x.observe(notebookContainer, {childList: true});\n",
       "}}\n",
       "\n",
       "// Listen for the clearing of the current output cell\n",
       "var outputEl = gd.closest('.output');\n",
       "if (outputEl) {{\n",
       "    x.observe(outputEl, {childList: true});\n",
       "}}\n",
       "\n",
       "                        })                };                });            </script>        </div>"
      ]
     },
     "metadata": {},
     "output_type": "display_data"
    }
   ],
   "source": [
    "import plotly.graph_objects as go\n",
    "fig = go.Figure()\n",
    "fig.add_trace(go.Scatter(\n",
    "    x=[83.7, 42, 57.5, 37.28, 61.2, 69.69, 59.7, 24.66, 44.5, 20, 42.69, 63.2, 45.2, 60], y=[0,0,0,0,0,0,0,0,0,0,0,0,0,0], mode='markers', marker_size=20,\n",
    " showlegend=False))\n",
    "fig.add_trace(go.Scatter(\n",
    "    x=[55.3], y=[0], mode='markers', marker_size=20,\n",
    " showlegend=False))\n",
    "fig.update_xaxes(showgrid=False)\n",
    "fig.update_yaxes(showgrid=False, \n",
    "                 zeroline=True, zerolinecolor='white', zerolinewidth=3,\n",
    "                 showticklabels=False, color='white')\n",
    "fig.update_layout(height=200,paper_bgcolor='rgba(0,0,0,0)',\n",
    "    plot_bgcolor='rgba(0,0,0,0)')\n",
    "fig.layout.xaxis.color = 'white'\n",
    "fig.show()"
   ]
  },
  {
   "cell_type": "code",
   "execution_count": null,
   "id": "b7f0861c",
   "metadata": {},
   "outputs": [],
   "source": []
  }
 ],
 "metadata": {
  "kernelspec": {
   "display_name": "vlr",
   "language": "python",
   "name": "vlr"
  },
  "language_info": {
   "codemirror_mode": {
    "name": "ipython",
    "version": 3
   },
   "file_extension": ".py",
   "mimetype": "text/x-python",
   "name": "python",
   "nbconvert_exporter": "python",
   "pygments_lexer": "ipython3",
   "version": "3.8.5"
  }
 },
 "nbformat": 4,
 "nbformat_minor": 5
}
