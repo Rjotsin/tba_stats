{
 "cells": [
  {
   "cell_type": "code",
   "execution_count": 2,
   "id": "964c378a",
   "metadata": {},
   "outputs": [],
   "source": [
    "import tbapy\n",
    "import pandas as pd\n",
    "from itertools import permutations, combinations\n",
    "import os \n",
    "import collections"
   ]
  },
  {
   "cell_type": "code",
   "execution_count": 3,
   "id": "da49c937",
   "metadata": {},
   "outputs": [],
   "source": [
    "tbakey = os.environ.get('tbakey')\n",
    "tba = tbapy.TBA(tbakey)"
   ]
  },
  {
   "cell_type": "code",
   "execution_count": 4,
   "id": "58eef07d",
   "metadata": {},
   "outputs": [],
   "source": [
    "event = '2023onnew'"
   ]
  },
  {
   "cell_type": "code",
   "execution_count": 12,
   "id": "ab7732f4",
   "metadata": {},
   "outputs": [
    {
     "data": {
      "text/plain": [
       "{'blue': {'activationBonusAchieved': False,\n",
       "  'adjustPoints': 0,\n",
       "  'autoBridgeState': 'Level',\n",
       "  'autoChargeStationPoints': 12,\n",
       "  'autoChargeStationRobot1': 'Docked',\n",
       "  'autoChargeStationRobot2': 'None',\n",
       "  'autoChargeStationRobot3': 'None',\n",
       "  'autoCommunity': {'B': ['None',\n",
       "    'None',\n",
       "    'None',\n",
       "    'None',\n",
       "    'Cube',\n",
       "    'None',\n",
       "    'None',\n",
       "    'None',\n",
       "    'None'],\n",
       "   'M': ['Cone',\n",
       "    'Cube',\n",
       "    'None',\n",
       "    'None',\n",
       "    'None',\n",
       "    'None',\n",
       "    'None',\n",
       "    'None',\n",
       "    'Cone'],\n",
       "   'T': ['None',\n",
       "    'None',\n",
       "    'None',\n",
       "    'None',\n",
       "    'None',\n",
       "    'None',\n",
       "    'None',\n",
       "    'None',\n",
       "    'Cone']},\n",
       "  'autoDocked': True,\n",
       "  'autoGamePieceCount': 5,\n",
       "  'autoGamePiecePoints': 21,\n",
       "  'autoMobilityPoints': 6,\n",
       "  'autoPoints': 39,\n",
       "  'coopGamePieceCount': 6,\n",
       "  'coopertitionCriteriaMet': False,\n",
       "  'endGameBridgeState': 'Level',\n",
       "  'endGameChargeStationPoints': 20,\n",
       "  'endGameChargeStationRobot1': 'Docked',\n",
       "  'endGameChargeStationRobot2': 'Docked',\n",
       "  'endGameChargeStationRobot3': 'Park',\n",
       "  'endGameParkPoints': 2,\n",
       "  'foulCount': 1,\n",
       "  'foulPoints': 0,\n",
       "  'linkPoints': 25,\n",
       "  'links': [{'nodes': [0, 1, 2], 'row': 'Mid'},\n",
       "   {'nodes': [5, 6, 7], 'row': 'Mid'},\n",
       "   {'nodes': [0, 1, 2], 'row': 'Top'},\n",
       "   {'nodes': [3, 4, 5], 'row': 'Top'},\n",
       "   {'nodes': [6, 7, 8], 'row': 'Top'}],\n",
       "  'mobilityRobot1': 'Yes',\n",
       "  'mobilityRobot2': 'Yes',\n",
       "  'mobilityRobot3': 'No',\n",
       "  'rp': 0,\n",
       "  'sustainabilityBonusAchieved': False,\n",
       "  'techFoulCount': 0,\n",
       "  'teleopCommunity': {'B': ['None',\n",
       "    'None',\n",
       "    'None',\n",
       "    'Cone',\n",
       "    'Cube',\n",
       "    'None',\n",
       "    'None',\n",
       "    'None',\n",
       "    'None'],\n",
       "   'M': ['Cone',\n",
       "    'Cube',\n",
       "    'Cone',\n",
       "    'None',\n",
       "    'None',\n",
       "    'Cone',\n",
       "    'Cone',\n",
       "    'Cube',\n",
       "    'Cone'],\n",
       "   'T': ['Cone',\n",
       "    'Cube',\n",
       "    'Cone',\n",
       "    'Cone',\n",
       "    'Cube',\n",
       "    'Cone',\n",
       "    'Cone',\n",
       "    'Cube',\n",
       "    'Cone']},\n",
       "  'teleopGamePieceCount': 18,\n",
       "  'teleopGamePiecePoints': 54,\n",
       "  'teleopPoints': 76,\n",
       "  'totalChargeStationPoints': 32,\n",
       "  'totalPoints': 140},\n",
       " 'red': {'activationBonusAchieved': False,\n",
       "  'adjustPoints': 0,\n",
       "  'autoBridgeState': 'Level',\n",
       "  'autoChargeStationPoints': 12,\n",
       "  'autoChargeStationRobot1': 'None',\n",
       "  'autoChargeStationRobot2': 'Docked',\n",
       "  'autoChargeStationRobot3': 'None',\n",
       "  'autoCommunity': {'B': ['None',\n",
       "    'None',\n",
       "    'None',\n",
       "    'None',\n",
       "    'None',\n",
       "    'None',\n",
       "    'None',\n",
       "    'None',\n",
       "    'None'],\n",
       "   'M': ['None',\n",
       "    'None',\n",
       "    'None',\n",
       "    'None',\n",
       "    'None',\n",
       "    'None',\n",
       "    'None',\n",
       "    'None',\n",
       "    'None'],\n",
       "   'T': ['Cone',\n",
       "    'None',\n",
       "    'None',\n",
       "    'None',\n",
       "    'Cube',\n",
       "    'None',\n",
       "    'None',\n",
       "    'None',\n",
       "    'None']},\n",
       "  'autoDocked': True,\n",
       "  'autoGamePieceCount': 2,\n",
       "  'autoGamePiecePoints': 12,\n",
       "  'autoMobilityPoints': 9,\n",
       "  'autoPoints': 33,\n",
       "  'coopGamePieceCount': 2,\n",
       "  'coopertitionCriteriaMet': False,\n",
       "  'endGameBridgeState': 'Level',\n",
       "  'endGameChargeStationPoints': 30,\n",
       "  'endGameChargeStationRobot1': 'Docked',\n",
       "  'endGameChargeStationRobot2': 'Docked',\n",
       "  'endGameChargeStationRobot3': 'Docked',\n",
       "  'endGameParkPoints': 0,\n",
       "  'foulCount': 0,\n",
       "  'foulPoints': 5,\n",
       "  'linkPoints': 10,\n",
       "  'links': [{'nodes': [0, 1, 2], 'row': 'Bottom'},\n",
       "   {'nodes': [0, 1, 2], 'row': 'Top'}],\n",
       "  'mobilityRobot1': 'Yes',\n",
       "  'mobilityRobot2': 'Yes',\n",
       "  'mobilityRobot3': 'Yes',\n",
       "  'rp': 0,\n",
       "  'sustainabilityBonusAchieved': False,\n",
       "  'techFoulCount': 0,\n",
       "  'teleopCommunity': {'B': ['Cube',\n",
       "    'Cube',\n",
       "    'Cube',\n",
       "    'Cone',\n",
       "    'None',\n",
       "    'None',\n",
       "    'None',\n",
       "    'None',\n",
       "    'None'],\n",
       "   'M': ['None',\n",
       "    'None',\n",
       "    'None',\n",
       "    'None',\n",
       "    'None',\n",
       "    'None',\n",
       "    'None',\n",
       "    'Cube',\n",
       "    'None'],\n",
       "   'T': ['Cone',\n",
       "    'Cube',\n",
       "    'Cone',\n",
       "    'None',\n",
       "    'Cube',\n",
       "    'None',\n",
       "    'None',\n",
       "    'None',\n",
       "    'None']},\n",
       "  'teleopGamePieceCount': 9,\n",
       "  'teleopGamePiecePoints': 21,\n",
       "  'teleopPoints': 51,\n",
       "  'totalChargeStationPoints': 42,\n",
       "  'totalPoints': 99}}"
      ]
     },
     "execution_count": 12,
     "metadata": {},
     "output_type": "execute_result"
    }
   ],
   "source": [
    "tba.event_matches(event)[0]['score_breakdown']"
   ]
  },
  {
   "cell_type": "code",
   "execution_count": 4,
   "id": "7228fbf9",
   "metadata": {},
   "outputs": [
    {
     "name": "stdout",
     "output_type": "stream",
     "text": [
      "Least Taxi Points\n"
     ]
    },
    {
     "data": {
      "text/plain": [
       "{'frc3161': 4,\n",
       " 'frc3543': 6,\n",
       " 'frc8789': 8,\n",
       " 'frc7902': 8,\n",
       " 'frc4976': 9,\n",
       " 'frc8731': 10,\n",
       " 'frc6865': 10,\n",
       " 'frc6864': 10,\n",
       " 'frc5032': 10,\n",
       " 'frc6135': 10,\n",
       " 'frc6875': 10,\n",
       " 'frc2609': 10,\n",
       " 'frc5036': 10,\n",
       " 'frc1334': 10,\n",
       " 'frc2200': 10,\n",
       " 'frc1374': 10,\n",
       " 'frc8735': 10,\n",
       " 'frc2013': 10,\n",
       " 'frc5406': 11,\n",
       " 'frc8765': 11,\n",
       " 'frc3560': 11,\n",
       " 'frc6397': 11,\n",
       " 'frc2706': 11,\n",
       " 'frc4903': 11,\n",
       " 'frc1241': 11,\n",
       " 'frc781': 11,\n",
       " 'frc4343': 11,\n",
       " 'frc1305': 11,\n",
       " 'frc8574': 11,\n",
       " 'frc7659': 11,\n",
       " 'frc865': 11,\n",
       " 'frc4152': 11,\n",
       " 'frc5024': 11,\n",
       " 'frc8764': 11,\n",
       " 'frc2198': 12,\n",
       " 'frc1114': 12,\n",
       " 'frc4069': 12,\n",
       " 'frc4946': 12,\n",
       " 'frc3739': 12,\n",
       " 'frc8729': 12,\n",
       " 'frc1325': 12,\n",
       " 'frc1360': 12,\n",
       " 'frc4917': 12,\n",
       " 'frc610': 12,\n",
       " 'frc772': 12,\n",
       " 'frc8850': 12,\n",
       " 'frc7520': 12,\n",
       " 'frc7480': 12,\n",
       " 'frc5672': 12,\n",
       " 'frc914': 12,\n",
       " 'frc8089': 12,\n",
       " 'frc4907': 12,\n",
       " 'frc4617': 12,\n",
       " 'frc2386': 12,\n",
       " 'frc4951': 12,\n",
       " 'frc4678': 12,\n",
       " 'frc7757': 12,\n",
       " 'frc5409': 12,\n",
       " 'frc771': 12,\n",
       " 'frc5031': 12,\n",
       " 'frc2056': 12,\n",
       " 'frc4015': 12,\n",
       " 'frc4476': 12,\n",
       " 'frc8884': 12,\n",
       " 'frc3683': 12,\n",
       " 'frc4039': 12,\n",
       " 'frc6978': 12}"
      ]
     },
     "execution_count": 4,
     "metadata": {},
     "output_type": "execute_result"
    }
   ],
   "source": [
    "list1 = []\n",
    "for i in tba.event_matches(event):\n",
    "    if i['comp_level'] == 'qm':\n",
    "        teamb1 = i['alliances']['blue']['team_keys'][0]\n",
    "        teamb2 = i['alliances']['blue']['team_keys'][1]\n",
    "        teamb3 = i['alliances']['blue']['team_keys'][2]\n",
    "        teamr1 = i['alliances']['red']['team_keys'][0]\n",
    "        teamr2 = i['alliances']['red']['team_keys'][1]\n",
    "        teamr3 = i['alliances']['red']['team_keys'][2]\n",
    "        \n",
    "        taxib1 = 1 if i['score_breakdown']['blue']['taxiRobot1'] == 'Yes' else 0\n",
    "        taxib2 = 1 if i['score_breakdown']['blue']['taxiRobot2'] == 'Yes' else 0\n",
    "        taxib3 = 1 if i['score_breakdown']['blue']['taxiRobot3'] == 'Yes' else 0\n",
    "        taxir1 = 1 if i['score_breakdown']['red']['taxiRobot1'] == 'Yes' else 0\n",
    "        taxir2 = 1 if i['score_breakdown']['red']['taxiRobot2'] == 'Yes' else 0\n",
    "        taxir3 = 1 if i['score_breakdown']['red']['taxiRobot3'] == 'Yes' else 0\n",
    "        \n",
    "        dict1 = { teamb1:taxib1\n",
    "            , teamb2:taxib2\n",
    "            , teamb3:taxib3\n",
    "            , teamr1:taxir1\n",
    "            , teamr2:taxir2\n",
    "            , teamr3:taxir3}\n",
    "        list1.append(dict1)\n",
    "counter = collections.Counter()\n",
    "for d in list1:\n",
    "    counter.update(d)\n",
    "\n",
    "res = dict(sorted(counter.items(), key=lambda item: item[1]))\n",
    "\n",
    "print('Least Taxi Points')\n",
    "res"
   ]
  },
  {
   "cell_type": "code",
   "execution_count": 5,
   "id": "fe5c858f",
   "metadata": {
    "scrolled": true
   },
   "outputs": [
    {
     "name": "stdout",
     "output_type": "stream",
     "text": [
      "Most Cargo Scored\n"
     ]
    },
    {
     "data": {
      "text/plain": [
       "{'frc2056': 369,\n",
       " 'frc1241': 365,\n",
       " 'frc4039': 324,\n",
       " 'frc5406': 318,\n",
       " 'frc7480': 318,\n",
       " 'frc4907': 313,\n",
       " 'frc4476': 313,\n",
       " 'frc1114': 309,\n",
       " 'frc4678': 306,\n",
       " 'frc3683': 299,\n",
       " 'frc5409': 296,\n",
       " 'frc5032': 293,\n",
       " 'frc2200': 293,\n",
       " 'frc8764': 278,\n",
       " 'frc4946': 269,\n",
       " 'frc1360': 268,\n",
       " 'frc6135': 268,\n",
       " 'frc4917': 268,\n",
       " 'frc1325': 265,\n",
       " 'frc781': 264,\n",
       " 'frc4343': 262,\n",
       " 'frc4976': 258,\n",
       " 'frc2706': 257,\n",
       " 'frc610': 254,\n",
       " 'frc8884': 245,\n",
       " 'frc2198': 238,\n",
       " 'frc8089': 237,\n",
       " 'frc8574': 234,\n",
       " 'frc2609': 233,\n",
       " 'frc3560': 232,\n",
       " 'frc4152': 232,\n",
       " 'frc2013': 232,\n",
       " 'frc8789': 231,\n",
       " 'frc8729': 230,\n",
       " 'frc7520': 230,\n",
       " 'frc4015': 230,\n",
       " 'frc7902': 229,\n",
       " 'frc7659': 227,\n",
       " 'frc4069': 224,\n",
       " 'frc772': 223,\n",
       " 'frc865': 222,\n",
       " 'frc6865': 221,\n",
       " 'frc6864': 221,\n",
       " 'frc6875': 221,\n",
       " 'frc5036': 217,\n",
       " 'frc4903': 217,\n",
       " 'frc4951': 215,\n",
       " 'frc914': 204,\n",
       " 'frc5024': 201,\n",
       " 'frc5031': 197,\n",
       " 'frc8735': 196,\n",
       " 'frc1305': 195,\n",
       " 'frc8850': 193,\n",
       " 'frc3543': 190,\n",
       " 'frc6978': 190,\n",
       " 'frc4617': 187,\n",
       " 'frc2386': 187,\n",
       " 'frc8731': 186,\n",
       " 'frc8765': 181,\n",
       " 'frc6397': 181,\n",
       " 'frc5672': 177,\n",
       " 'frc3739': 172,\n",
       " 'frc771': 172,\n",
       " 'frc7757': 167,\n",
       " 'frc1334': 163,\n",
       " 'frc1374': 136,\n",
       " 'frc3161': 136}"
      ]
     },
     "execution_count": 5,
     "metadata": {},
     "output_type": "execute_result"
    }
   ],
   "source": [
    "list1 = []\n",
    "for i in tba.event_matches(event):\n",
    "    if i['comp_level'] == 'qm':\n",
    "        teamb1 = i['alliances']['blue']['team_keys'][0]\n",
    "        teamb2 = i['alliances']['blue']['team_keys'][1]\n",
    "        teamb3 = i['alliances']['blue']['team_keys'][2]\n",
    "        teamr1 = i['alliances']['red']['team_keys'][0]\n",
    "        teamr2 = i['alliances']['red']['team_keys'][1]\n",
    "        teamr3 = i['alliances']['red']['team_keys'][2]\n",
    "        \n",
    "        cargob1 = i['score_breakdown']['blue']['matchCargoTotal']\n",
    "        cargob2 = i['score_breakdown']['blue']['matchCargoTotal']\n",
    "        cargob3 = i['score_breakdown']['blue']['matchCargoTotal']\n",
    "        cargor1 = i['score_breakdown']['red']['matchCargoTotal']\n",
    "        cargor2 = i['score_breakdown']['red']['matchCargoTotal']\n",
    "        cargor3 = i['score_breakdown']['red']['matchCargoTotal']\n",
    "        \n",
    "        dict1 = { teamb1:cargob1\n",
    "                , teamb2:cargob2\n",
    "                , teamb3:cargob3\n",
    "                , teamr1:cargor1\n",
    "                , teamr2:cargor2\n",
    "                , teamr3:cargor3}\n",
    "        list1.append(dict1)\n",
    "counter = collections.Counter()\n",
    "for d in list1:\n",
    "    counter.update(d)\n",
    "\n",
    "res = dict(sorted(counter.items(), key=lambda item: item[1], reverse=True))\n",
    "\n",
    "print('Most Cargo Scored')\n",
    "res"
   ]
  },
  {
   "cell_type": "code",
   "execution_count": 23,
   "id": "dd033990",
   "metadata": {},
   "outputs": [
    {
     "name": "stdout",
     "output_type": "stream",
     "text": [
      "Most Foul Points Given\n"
     ]
    },
    {
     "data": {
      "text/plain": [
       "{'frc4951': 129,\n",
       " 'frc5036': 100,\n",
       " 'frc6378': 96,\n",
       " 'frc1246': 93,\n",
       " 'frc2386': 91,\n",
       " 'frc5719': 90,\n",
       " 'frc8850': 88,\n",
       " 'frc610': 75,\n",
       " 'frc188': 65,\n",
       " 'frc9113': 65,\n",
       " 'frc771': 65,\n",
       " 'frc7480': 62,\n",
       " 'frc6141': 62,\n",
       " 'frc6397': 60,\n",
       " 'frc4476': 60,\n",
       " 'frc6987': 59,\n",
       " 'frc7603': 57,\n",
       " 'frc5409': 57,\n",
       " 'frc6514': 50,\n",
       " 'frc2200': 50,\n",
       " 'frc4946': 45,\n",
       " 'frc6140': 45,\n",
       " 'frc7476': 45,\n",
       " 'frc6975': 44,\n",
       " 'frc8349': 35,\n",
       " 'frc7902': 35,\n",
       " 'frc7558': 35,\n",
       " 'frc2702': 35,\n",
       " 'frc5834': 35,\n",
       " 'frc1305': 30,\n",
       " 'frc6866': 25,\n",
       " 'frc7712': 20,\n",
       " 'frc9127': 10,\n",
       " 'frc2056': 10}"
      ]
     },
     "execution_count": 23,
     "metadata": {},
     "output_type": "execute_result"
    }
   ],
   "source": [
    "list1 = []\n",
    "for i in tba.event_matches(event):\n",
    "    if i['comp_level'] == 'qm':\n",
    "        teamb1 = i['alliances']['blue']['team_keys'][0]\n",
    "        teamb2 = i['alliances']['blue']['team_keys'][1]\n",
    "        teamb3 = i['alliances']['blue']['team_keys'][2]\n",
    "        teamr1 = i['alliances']['red']['team_keys'][0]\n",
    "        teamr2 = i['alliances']['red']['team_keys'][1]\n",
    "        teamr3 = i['alliances']['red']['team_keys'][2]\n",
    "        \n",
    "        foulb1 = i['score_breakdown']['red']['foulPoints']\n",
    "        foulb2 = i['score_breakdown']['red']['foulPoints']\n",
    "        foulb3 = i['score_breakdown']['red']['foulPoints']\n",
    "        foulr1 = i['score_breakdown']['blue']['foulPoints']\n",
    "        foulr2 = i['score_breakdown']['blue']['foulPoints']\n",
    "        foulr3 = i['score_breakdown']['blue']['foulPoints']\n",
    "        \n",
    "        dict1 = { teamb1:foulb1\n",
    "                , teamb2:foulb2\n",
    "                , teamb3:foulb3\n",
    "                , teamr1:foulr1\n",
    "                , teamr2:foulr2\n",
    "                , teamr3:foulr3}\n",
    "        list1.append(dict1)\n",
    "counter = collections.Counter()\n",
    "for d in list1:\n",
    "    counter.update(d)\n",
    "\n",
    "res = dict(sorted(counter.items(), key=lambda item: item[1], reverse=True))\n",
    "\n",
    "print('Most Foul Points Given')\n",
    "res"
   ]
  },
  {
   "cell_type": "code",
   "execution_count": 7,
   "id": "2d98bfca",
   "metadata": {},
   "outputs": [],
   "source": [
    "# list1 = []\n",
    "# for i in tba.event_matches(event):\n",
    "#     if i['comp_level'] == 'qm':\n",
    "#         teamb1 = i['alliances']['blue']['team_keys'][0]\n",
    "#         teamb2 = i['alliances']['blue']['team_keys'][1]\n",
    "#         teamb3 = i['alliances']['blue']['team_keys'][2]\n",
    "#         teamr1 = i['alliances']['red']['team_keys'][0]\n",
    "#         teamr2 = i['alliances']['red']['team_keys'][1]\n",
    "#         teamr3 = i['alliances']['red']['team_keys'][2]\n",
    "        \n",
    "#         endb1 = i['score_breakdown']['blue']['endgamePoints']\n",
    "#         endb2 = i['score_breakdown']['blue']['endgamePoints']\n",
    "#         endb3 = i['score_breakdown']['blue']['endgamePoints']\n",
    "#         endr1 = i['score_breakdown']['red']['endgamePoints']\n",
    "#         endr2 = i['score_breakdown']['red']['endgamePoints']\n",
    "#         endr3 = i['score_breakdown']['red']['endgamePoints']\n",
    "        \n",
    "#         dict1 = { teamb1:endb1\n",
    "#                 , teamb2:endb2\n",
    "#                 , teamb3:endb3\n",
    "#                 , teamr1:endr1\n",
    "#                 , teamr2:endr2\n",
    "#                 , teamr3:endr3}\n",
    "#         list1.append(dict1)\n",
    "# counter = collections.Counter()\n",
    "# for d in list1:\n",
    "#     counter.update(d)\n",
    "\n",
    "# res = dict(sorted(counter.items(), key=lambda item: item[1], reverse=True))\n",
    "\n",
    "# print('Climb Points (Alliance)')\n",
    "# res"
   ]
  },
  {
   "cell_type": "code",
   "execution_count": 8,
   "id": "411c4d20",
   "metadata": {},
   "outputs": [
    {
     "name": "stdout",
     "output_type": "stream",
     "text": [
      "6th Climb Points (Team)\n"
     ]
    },
    {
     "data": {
      "text/plain": [
       "{'frc1325': 165,\n",
       " 'frc2609': 156,\n",
       " 'frc4903': 155,\n",
       " 'frc4069': 151,\n",
       " 'frc4946': 150,\n",
       " 'frc4917': 145,\n",
       " 'frc865': 141,\n",
       " 'frc2013': 141,\n",
       " 'frc2200': 136,\n",
       " 'frc2386': 132,\n",
       " 'frc4678': 131,\n",
       " 'frc2056': 131,\n",
       " 'frc5406': 130,\n",
       " 'frc1114': 130,\n",
       " 'frc4907': 111,\n",
       " 'frc4152': 102,\n",
       " 'frc4976': 100,\n",
       " 'frc3161': 100,\n",
       " 'frc4039': 92,\n",
       " 'frc3683': 80,\n",
       " 'frc4476': 74,\n",
       " 'frc4015': 70,\n",
       " 'frc3739': 62,\n",
       " 'frc7902': 60,\n",
       " 'frc5409': 59,\n",
       " 'frc781': 57,\n",
       " 'frc8089': 56,\n",
       " 'frc5036': 54,\n",
       " 'frc1305': 53,\n",
       " 'frc7480': 52,\n",
       " 'frc5032': 51,\n",
       " 'frc4951': 48,\n",
       " 'frc8729': 47,\n",
       " 'frc3560': 45,\n",
       " 'frc5031': 43,\n",
       " 'frc6875': 42,\n",
       " 'frc914': 42,\n",
       " 'frc7757': 42,\n",
       " 'frc3543': 42,\n",
       " 'frc8884': 42,\n",
       " 'frc6978': 42,\n",
       " 'frc610': 40,\n",
       " 'frc6865': 39,\n",
       " 'frc5024': 38,\n",
       " 'frc2198': 36,\n",
       " 'frc8789': 36,\n",
       " 'frc6864': 36,\n",
       " 'frc8765': 36,\n",
       " 'frc1241': 36,\n",
       " 'frc4343': 36,\n",
       " 'frc8764': 36,\n",
       " 'frc1360': 30,\n",
       " 'frc2706': 30,\n",
       " 'frc1334': 27,\n",
       " 'frc6397': 24,\n",
       " 'frc1374': 22,\n",
       " 'frc7659': 14,\n",
       " 'frc8850': 6,\n",
       " 'frc5672': 4,\n",
       " 'frc8731': 0,\n",
       " 'frc6135': 0,\n",
       " 'frc772': 0,\n",
       " 'frc7520': 0,\n",
       " 'frc4617': 0,\n",
       " 'frc771': 0,\n",
       " 'frc8574': 0,\n",
       " 'frc8735': 0}"
      ]
     },
     "execution_count": 8,
     "metadata": {},
     "output_type": "execute_result"
    }
   ],
   "source": [
    "def endgame_pts(value):\n",
    "    if value == 'Low': return 4\n",
    "    elif value == 'Mid': return 6\n",
    "    elif value == 'High': return 10\n",
    "    elif value == 'Traversal': return 15\n",
    "    else: return 0\n",
    "\n",
    "list1 = []\n",
    "for i in tba.event_matches(event):\n",
    "    if i['comp_level'] == 'qm':\n",
    "        teamb1 = i['alliances']['blue']['team_keys'][0]\n",
    "        teamb2 = i['alliances']['blue']['team_keys'][1]\n",
    "        teamb3 = i['alliances']['blue']['team_keys'][2]\n",
    "        teamr1 = i['alliances']['red']['team_keys'][0]\n",
    "        teamr2 = i['alliances']['red']['team_keys'][1]\n",
    "        teamr3 = i['alliances']['red']['team_keys'][2]\n",
    "        \n",
    "        endb1 = endgame_pts(i['score_breakdown']['blue']['endGameChargeStationRobot1'])\n",
    "        endb2 = endgame_pts(i['score_breakdown']['blue']['endGameChargeStationRobot2'])\n",
    "        endb3 = endgame_pts(i['score_breakdown']['blue']['endGameChargeStationRobot3'])\n",
    "        endr1 = endgame_pts(i['score_breakdown']['red']['endGameChargeStationRobot1'])\n",
    "        endr2 = endgame_pts(i['score_breakdown']['red']['endGameChargeStationRobot2'])\n",
    "        endr3 = endgame_pts(i['score_breakdown']['red']['endGameChargeStationRobot3'])\n",
    "        \n",
    "        dict1 = { teamb1:endb1\n",
    "                , teamb2:endb2\n",
    "                , teamb3:endb3\n",
    "                , teamr1:endr1\n",
    "                , teamr2:endr2\n",
    "                , teamr3:endr3}\n",
    "        list1.append(dict1)\n",
    "\n",
    "counter = collections.Counter()\n",
    "for d in list1:\n",
    "    counter.update(d)\n",
    "    \n",
    "res = dict(sorted(counter.items(), key=lambda item: item[1], reverse=True))\n",
    "\n",
    "print('6th Climb Points (Team)')\n",
    "res"
   ]
  },
  {
   "cell_type": "code",
   "execution_count": 9,
   "id": "8e59f178",
   "metadata": {},
   "outputs": [
    {
     "name": "stdout",
     "output_type": "stream",
     "text": [
      "Match Points / RP\n"
     ]
    },
    {
     "data": {
      "text/plain": [
       "{'frc772': 59.72727272727273,\n",
       " 'frc3543': 58.5,\n",
       " 'frc1334': 56.5,\n",
       " 'frc5672': 52.166666666666664,\n",
       " 'frc6978': 51.38461538461539,\n",
       " 'frc8884': 49.4,\n",
       " 'frc6875': 49.38461538461539,\n",
       " 'frc6397': 47.69230769230769,\n",
       " 'frc3739': 46.69230769230769,\n",
       " 'frc8731': 45.916666666666664,\n",
       " 'frc8735': 45.785714285714285,\n",
       " 'frc1374': 45.666666666666664,\n",
       " 'frc4015': 45.1764705882353,\n",
       " 'frc8850': 44.3125,\n",
       " 'frc8765': 42.5,\n",
       " 'frc7659': 42.23529411764706,\n",
       " 'frc5024': 40.23529411764706,\n",
       " 'frc6865': 39.588235294117645,\n",
       " 'frc1305': 39.388888888888886,\n",
       " 'frc3560': 38.85,\n",
       " 'frc865': 37.4,\n",
       " 'frc2609': 36.44,\n",
       " 'frc1360': 36.391304347826086,\n",
       " 'frc610': 36.375,\n",
       " 'frc1241': 35.84848484848485,\n",
       " 'frc4976': 34.666666666666664,\n",
       " 'frc4152': 34.6,\n",
       " 'frc6135': 34.36,\n",
       " 'frc7757': 34.21052631578947,\n",
       " 'frc914': 34.09090909090909,\n",
       " 'frc3161': 33.72222222222222,\n",
       " 'frc4069': 33.6,\n",
       " 'frc5031': 33.43478260869565,\n",
       " 'frc4917': 33.41379310344828,\n",
       " 'frc4617': 32.78260869565217,\n",
       " 'frc4476': 32.03125,\n",
       " 'frc8089': 31.73076923076923,\n",
       " 'frc8789': 31.6,\n",
       " 'frc8574': 31.53846153846154,\n",
       " 'frc2200': 31.454545454545453,\n",
       " 'frc2013': 31.22222222222222,\n",
       " 'frc5036': 31.2,\n",
       " 'frc3683': 30.870967741935484,\n",
       " 'frc7902': 30.846153846153847,\n",
       " 'frc5406': 30.75,\n",
       " 'frc1325': 30.46875,\n",
       " 'frc5032': 30.366666666666667,\n",
       " 'frc2198': 30.357142857142858,\n",
       " 'frc4951': 30.074074074074073,\n",
       " 'frc8729': 30.03846153846154,\n",
       " 'frc4678': 29.97222222222222,\n",
       " 'frc7520': 29.46153846153846,\n",
       " 'frc4946': 29.294117647058822,\n",
       " 'frc4907': 29.257142857142856,\n",
       " 'frc2706': 29.178571428571427,\n",
       " 'frc4903': 29.0,\n",
       " 'frc6864': 28.14814814814815,\n",
       " 'frc4343': 28.133333333333333,\n",
       " 'frc2386': 28.071428571428573,\n",
       " 'frc7480': 27.657894736842106,\n",
       " 'frc771': 27.59090909090909,\n",
       " 'frc2056': 27.58695652173913,\n",
       " 'frc4039': 27.473684210526315,\n",
       " 'frc8764': 27.035714285714285,\n",
       " 'frc1114': 25.878048780487806,\n",
       " 'frc781': 25.026315789473685,\n",
       " 'frc5409': 24.325}"
      ]
     },
     "execution_count": 9,
     "metadata": {},
     "output_type": "execute_result"
    }
   ],
   "source": [
    "list1 = []\n",
    "list2 = []\n",
    "for i in tba.event_matches(event):\n",
    "    if i['comp_level'] == 'qm':\n",
    "        teamb1 = i['alliances']['blue']['team_keys'][0]\n",
    "        teamb2 = i['alliances']['blue']['team_keys'][1]\n",
    "        teamb3 = i['alliances']['blue']['team_keys'][2]\n",
    "        teamr1 = i['alliances']['red']['team_keys'][0]\n",
    "        teamr2 = i['alliances']['red']['team_keys'][1]\n",
    "        teamr3 = i['alliances']['red']['team_keys'][2]\n",
    "        \n",
    "        ptb1 = i['score_breakdown']['blue']['totalPoints']\n",
    "        ptb2 = i['score_breakdown']['blue']['totalPoints']\n",
    "        ptb3 = i['score_breakdown']['blue']['totalPoints']\n",
    "        ptr1 = i['score_breakdown']['red']['totalPoints']\n",
    "        ptr2 = i['score_breakdown']['red']['totalPoints']\n",
    "        ptr3 = i['score_breakdown']['red']['totalPoints']\n",
    "        \n",
    "        rpb1 = i['score_breakdown']['blue']['rp']\n",
    "        rpb2 = i['score_breakdown']['blue']['rp']\n",
    "        rpb3 = i['score_breakdown']['blue']['rp']\n",
    "        rpr1 = i['score_breakdown']['red']['rp']\n",
    "        rpr2 = i['score_breakdown']['red']['rp']\n",
    "        rpr3 = i['score_breakdown']['red']['rp']\n",
    "        \n",
    "        dict1 = { teamb1:ptb1\n",
    "                , teamb2:ptb2\n",
    "                , teamb3:ptb3\n",
    "                , teamr1:ptr1\n",
    "                , teamr2:ptr2\n",
    "                , teamr3:ptr3}\n",
    "        \n",
    "        dict2 = { teamb1:rpb1\n",
    "                , teamb2:rpb2\n",
    "                , teamb3:rpb3\n",
    "                , teamr1:rpr1\n",
    "                , teamr2:rpr2\n",
    "                , teamr3:rpr3}\n",
    "        \n",
    "        list1.append(dict1)\n",
    "        list2.append(dict2)\n",
    "        \n",
    "counter1 = collections.Counter()\n",
    "for d in list1:\n",
    "    counter1.update(d)\n",
    "    \n",
    "counter2 = collections.Counter()\n",
    "for d in list2:\n",
    "    counter2.update(d)\n",
    "\n",
    "res1 = dict(sorted(counter1.items(), key=lambda item: item[1], reverse=True))\n",
    "res2 = dict(sorted(counter2.items(), key=lambda item: item[1], reverse=True))\n",
    "\n",
    "div = {k: float(res1[k])/float(res2[k]) for k in res1.keys() & res2}\n",
    "    \n",
    "res = dict(sorted(div.items(), key=lambda item: item[1], reverse=True))    \n",
    "\n",
    "print('Match Points / RP') #based on the amount of votes, you pick the ranking\n",
    "res"
   ]
  },
  {
   "cell_type": "code",
   "execution_count": 13,
   "id": "d0f4afee",
   "metadata": {},
   "outputs": [
    {
     "name": "stdout",
     "output_type": "stream",
     "text": [
      "Most Mid Team\n"
     ]
    },
    {
     "data": {
      "text/plain": [
       "{'frc5409': 59,\n",
       " 'frc2200': 58,\n",
       " 'frc2056': 55,\n",
       " 'frc2702': 34,\n",
       " 'frc7558': 31,\n",
       " 'frc4476': 24,\n",
       " 'frc4946': 23,\n",
       " 'frc7603': 23,\n",
       " 'frc7476': 23,\n",
       " 'frc1305': 20,\n",
       " 'frc5834': 19,\n",
       " 'frc610': 19,\n",
       " 'frc8850': 18,\n",
       " 'frc7902': 18,\n",
       " 'frc8349': 17,\n",
       " 'frc6378': 17,\n",
       " 'frc6514': 16,\n",
       " 'frc771': 16,\n",
       " 'frc6975': 16,\n",
       " 'frc2386': 16,\n",
       " 'frc1246': 15,\n",
       " 'frc6397': 15,\n",
       " 'frc188': 15,\n",
       " 'frc5036': 14,\n",
       " 'frc5719': 13,\n",
       " 'frc7480': 13,\n",
       " 'frc4951': 13,\n",
       " 'frc6987': 12,\n",
       " 'frc7712': 12,\n",
       " 'frc6140': 11,\n",
       " 'frc6866': 7,\n",
       " 'frc9113': 7,\n",
       " 'frc9127': 6,\n",
       " 'frc6141': 6}"
      ]
     },
     "execution_count": 13,
     "metadata": {},
     "output_type": "execute_result"
    }
   ],
   "source": [
    "list1 = []\n",
    "for i in tba.event_matches(event):\n",
    "    if i['comp_level'] == 'qm':\n",
    "        teamb1 = i['alliances']['blue']['team_keys'][0]\n",
    "        teamb2 = i['alliances']['blue']['team_keys'][1]\n",
    "        teamb3 = i['alliances']['blue']['team_keys'][2]\n",
    "        teamr1 = i['alliances']['red']['team_keys'][0]\n",
    "        teamr2 = i['alliances']['red']['team_keys'][1]\n",
    "        teamr3 = i['alliances']['red']['team_keys'][2]\n",
    "        \n",
    "        autoblueVal = i['score_breakdown']['blue']['teleopCommunity']['M']\n",
    "        autoblueCount = len(autoblueVal) - autoblueVal.count('None')\n",
    "\n",
    "        autoredVal = i['score_breakdown']['red']['teleopCommunity']['M']\n",
    "        autoredCount = len(autoredVal) - autoredVal.count('None')\n",
    "        \n",
    "        dict1 = { teamb1:autoblueCount\n",
    "                , teamb2:autoblueCount\n",
    "                , teamb3:autoblueCount\n",
    "                , teamr1:autoredCount\n",
    "                , teamr2:autoredCount\n",
    "                , teamr3:autoredCount}\n",
    "        list1.append(dict1)\n",
    "counter = collections.Counter()\n",
    "for d in list1:\n",
    "    counter.update(d)\n",
    "\n",
    "res = dict(sorted(counter.items(), key=lambda item: item[1], reverse=True))\n",
    "\n",
    "print('Most Mid Team')\n",
    "res"
   ]
  },
  {
   "cell_type": "code",
   "execution_count": 14,
   "id": "6b65c667",
   "metadata": {
    "scrolled": true
   },
   "outputs": [
    {
     "name": "stdout",
     "output_type": "stream",
     "text": [
      "Biggest difference between Cones vs Cubes\n"
     ]
    },
    {
     "data": {
      "text/plain": [
       "{'frc4946': 53,\n",
       " 'frc2056': 50,\n",
       " 'frc610': 42,\n",
       " 'frc7558': 41,\n",
       " 'frc2702': 39,\n",
       " 'frc2200': 35,\n",
       " 'frc5834': 35,\n",
       " 'frc1305': -34,\n",
       " 'frc7603': -26,\n",
       " 'frc5409': 25,\n",
       " 'frc6987': 25,\n",
       " 'frc6975': 21,\n",
       " 'frc7476': 21,\n",
       " 'frc7480': 20,\n",
       " 'frc6378': 18,\n",
       " 'frc4476': 16,\n",
       " 'frc8349': -14,\n",
       " 'frc5036': -14,\n",
       " 'frc1246': 12,\n",
       " 'frc9113': -11,\n",
       " 'frc188': 10,\n",
       " 'frc6140': 10,\n",
       " 'frc5719': -10,\n",
       " 'frc8850': 9,\n",
       " 'frc6141': -9,\n",
       " 'frc6514': 8,\n",
       " 'frc4951': 7,\n",
       " 'frc2386': 6,\n",
       " 'frc6397': 3,\n",
       " 'frc7902': -3,\n",
       " 'frc9127': -2,\n",
       " 'frc771': 2,\n",
       " 'frc6866': 1,\n",
       " 'frc7712': 1}"
      ]
     },
     "execution_count": 14,
     "metadata": {},
     "output_type": "execute_result"
    }
   ],
   "source": [
    "list1 = []\n",
    "for i in tba.event_matches(event):\n",
    "    if i['comp_level'] == 'qm':\n",
    "        teamb1 = i['alliances']['blue']['team_keys'][0]\n",
    "        teamb2 = i['alliances']['blue']['team_keys'][1]\n",
    "        teamb3 = i['alliances']['blue']['team_keys'][2]\n",
    "        teamr1 = i['alliances']['red']['team_keys'][0]\n",
    "        teamr2 = i['alliances']['red']['team_keys'][1]\n",
    "        teamr3 = i['alliances']['red']['team_keys'][2]\n",
    "        \n",
    "        autoblueVal = 0\n",
    "        autoredVal = 0\n",
    "        \n",
    "        for j in i['score_breakdown']['blue']['teleopCommunity'].values():\n",
    "            autoblueVal += j.count('Cone')\n",
    "            autoblueVal -= j.count('Cube')\n",
    "\n",
    "        for j in i['score_breakdown']['red']['teleopCommunity'].values():\n",
    "            autoredVal += j.count('Cone')\n",
    "            autoredVal -= j.count('Cube')\n",
    "        \n",
    "        dict1 = { teamb1:autoblueVal\n",
    "                , teamb2:autoblueVal\n",
    "                , teamb3:autoblueVal\n",
    "                , teamr1:autoredVal\n",
    "                , teamr2:autoredVal\n",
    "                , teamr3:autoredVal}\n",
    "        list1.append(dict1)\n",
    "counter = collections.Counter()\n",
    "for d in list1:\n",
    "    counter.update(d)\n",
    "\n",
    "res = dict(sorted(counter.items(), key=lambda item: abs(item[1]), reverse=True))\n",
    "\n",
    "print('Biggest difference between Cones vs Cubes')\n",
    "res"
   ]
  },
  {
   "cell_type": "code",
   "execution_count": 36,
   "id": "d0fb1dd6",
   "metadata": {},
   "outputs": [
    {
     "name": "stdout",
     "output_type": "stream",
     "text": [
      "Top 3 teams in auto game pieces scored\n"
     ]
    },
    {
     "data": {
      "text/plain": [
       "{'frc2056': 46,\n",
       " 'frc2200': 31,\n",
       " 'frc2386': 29,\n",
       " 'frc4946': 28,\n",
       " 'frc7558': 25,\n",
       " 'frc1305': 25,\n",
       " 'frc188': 23,\n",
       " 'frc610': 23,\n",
       " 'frc7603': 22,\n",
       " 'frc4476': 22,\n",
       " 'frc5409': 22,\n",
       " 'frc6141': 22,\n",
       " 'frc6987': 22,\n",
       " 'frc6514': 21,\n",
       " 'frc2702': 21,\n",
       " 'frc7480': 21,\n",
       " 'frc5834': 20,\n",
       " 'frc4951': 18,\n",
       " 'frc6975': 18,\n",
       " 'frc7712': 18,\n",
       " 'frc7902': 17,\n",
       " 'frc5036': 16,\n",
       " 'frc1246': 15,\n",
       " 'frc6866': 15,\n",
       " 'frc8850': 15,\n",
       " 'frc9127': 14,\n",
       " 'frc6378': 14,\n",
       " 'frc8349': 13,\n",
       " 'frc6140': 13,\n",
       " 'frc7476': 13,\n",
       " 'frc6397': 12,\n",
       " 'frc771': 12,\n",
       " 'frc5719': 10,\n",
       " 'frc9113': 7}"
      ]
     },
     "execution_count": 36,
     "metadata": {},
     "output_type": "execute_result"
    }
   ],
   "source": [
    "list1 = []\n",
    "for i in tba.event_matches(event):\n",
    "    if i['comp_level'] == 'qm':\n",
    "        teamb1 = i['alliances']['blue']['team_keys'][0]\n",
    "        teamb2 = i['alliances']['blue']['team_keys'][1]\n",
    "        teamb3 = i['alliances']['blue']['team_keys'][2]\n",
    "        teamr1 = i['alliances']['red']['team_keys'][0]\n",
    "        teamr2 = i['alliances']['red']['team_keys'][1]\n",
    "        teamr3 = i['alliances']['red']['team_keys'][2]\n",
    "        \n",
    "        autoblueVal = 0\n",
    "        autoredVal = 0\n",
    "        \n",
    "        for j in i['score_breakdown']['blue']['autoCommunity'].values():\n",
    "            autoblueVal += len(j)\n",
    "            autoblueVal -= j.count('None')\n",
    "            \n",
    "        for j in i['score_breakdown']['red']['autoCommunity'].values():\n",
    "            autoredVal += len(j)\n",
    "            autoredVal -= j.count('None')\n",
    "        \n",
    "        dict1 = { teamb1:autoblueVal\n",
    "                , teamb2:autoblueVal\n",
    "                , teamb3:autoblueVal\n",
    "                , teamr1:autoredVal\n",
    "                , teamr2:autoredVal\n",
    "                , teamr3:autoredVal}\n",
    "        list1.append(dict1)\n",
    "counter = collections.Counter()\n",
    "for d in list1:\n",
    "    counter.update(d)\n",
    "\n",
    "res = dict(sorted(counter.items(), key=lambda item: item[1], reverse=True))\n",
    "\n",
    "print('Top 3 teams in auto game pieces scored')\n",
    "res"
   ]
  },
  {
   "cell_type": "code",
   "execution_count": 40,
   "id": "c6193f7a",
   "metadata": {},
   "outputs": [
    {
     "name": "stdout",
     "output_type": "stream",
     "text": [
      "Losers in Highest Scored Match\n",
      "['frc2386', 'frc7902', 'frc4946']\n"
     ]
    }
   ],
   "source": [
    "print('Losers in Highest Scored Match')\n",
    "for i in tba.event_matches(event):\n",
    "    if i['key'] == tba.event_insights(event)['qual']['high_score'][1]:\n",
    "        if i['winning_alliance'] == 'blue':\n",
    "            print(i['alliances']['red']['team_keys'])\n",
    "        else:\n",
    "            print(i['alliances']['blue']['team_keys'])"
   ]
  },
  {
   "cell_type": "code",
   "execution_count": 13,
   "id": "21a3bac1",
   "metadata": {},
   "outputs": [
    {
     "name": "stdout",
     "output_type": "stream",
     "text": [
      "First Pick\n",
      "frc1114\n"
     ]
    }
   ],
   "source": [
    "print('First Pick')\n",
    "print(tba.event_alliances(event)[0]['picks'][1])"
   ]
  },
  {
   "cell_type": "code",
   "execution_count": null,
   "id": "7f6ffb3c",
   "metadata": {},
   "outputs": [],
   "source": []
  },
  {
   "cell_type": "code",
   "execution_count": 14,
   "id": "9477cf18",
   "metadata": {},
   "outputs": [
    {
     "name": "stdout",
     "output_type": "stream",
     "text": [
      "Quals Cargo RP %\n"
     ]
    },
    {
     "data": {
      "text/plain": [
       "[135, 268, 50.37313432835821]"
      ]
     },
     "execution_count": 14,
     "metadata": {},
     "output_type": "execute_result"
    }
   ],
   "source": [
    "print('Quals Cargo RP %')\n",
    "tba.event_insights(event)['qual']['cargo_bonus_rp']"
   ]
  },
  {
   "cell_type": "code",
   "execution_count": 15,
   "id": "cb4ba48c",
   "metadata": {},
   "outputs": [
    {
     "name": "stdout",
     "output_type": "stream",
     "text": [
      "Quals High Score\n"
     ]
    },
    {
     "data": {
      "text/plain": [
       "[149, '2022oncmp_qm67', 'Q67']"
      ]
     },
     "execution_count": 15,
     "metadata": {},
     "output_type": "execute_result"
    }
   ],
   "source": [
    "print('Quals High Score')\n",
    "tba.event_insights(event)['qual']['high_score']"
   ]
  },
  {
   "cell_type": "code",
   "execution_count": 16,
   "id": "305c8c40",
   "metadata": {},
   "outputs": [
    {
     "name": "stdout",
     "output_type": "stream",
     "text": [
      "15th OPR\n"
     ]
    },
    {
     "data": {
      "text/plain": [
       "('frc4976', 34.810562606535086)"
      ]
     },
     "execution_count": 16,
     "metadata": {},
     "output_type": "execute_result"
    }
   ],
   "source": [
    "dict1 = tba.event_oprs(event)['oprs']\n",
    "\n",
    "counter = collections.Counter()\n",
    "\n",
    "counter.update(dict1)\n",
    "\n",
    "res = sorted(counter.items(), key=lambda item: item[1], reverse=True)[14]\n",
    "print('15th OPR')\n",
    "res"
   ]
  },
  {
   "cell_type": "code",
   "execution_count": 17,
   "id": "db835bb0",
   "metadata": {},
   "outputs": [
    {
     "data": {
      "text/plain": [
       "[('frc2056', 63.925927805018354),\n",
       " ('frc1241', 51.940516586954),\n",
       " ('frc5406', 49.295762069402095),\n",
       " ('frc4476', 45.76198553793551),\n",
       " ('frc1114', 45.56960080148587),\n",
       " ('frc5409', 43.08921510907879),\n",
       " ('frc4907', 42.739298481226555),\n",
       " ('frc4039', 42.27699097796614),\n",
       " ('frc1325', 41.30522471098138),\n",
       " ('frc2200', 39.5710485072983),\n",
       " ('frc4678', 39.06587006182618),\n",
       " ('frc7480', 37.90192045233151),\n",
       " ('frc4946', 36.92306416504107),\n",
       " ('frc4917', 36.66825056441181),\n",
       " ('frc4976', 34.810562606535086),\n",
       " ('frc5032', 34.391932441976934),\n",
       " ('frc865', 34.2534926152817),\n",
       " ('frc2609', 33.577060763085754),\n",
       " ('frc3683', 32.85647911626998),\n",
       " ('frc4343', 27.689735911577372),\n",
       " ('frc781', 27.113993786891328),\n",
       " ('frc4152', 26.931868782261652),\n",
       " ('frc3560', 26.930985555119257),\n",
       " ('frc4069', 26.304296191324436),\n",
       " ('frc4903', 24.35210795563141),\n",
       " ('frc7902', 22.360641203350717),\n",
       " ('frc610', 22.071919691806883),\n",
       " ('frc4951', 21.753693788061064),\n",
       " ('frc2706', 21.734642742467713),\n",
       " ('frc772', 21.358702982378063),\n",
       " ('frc2013', 20.54337383420686),\n",
       " ('frc8789', 20.274869708129714),\n",
       " ('frc8089', 19.924764377388826),\n",
       " ('frc4015', 19.365708144409357),\n",
       " ('frc1360', 19.13361397610428),\n",
       " ('frc1305', 18.813818986204303),\n",
       " ('frc6135', 18.414543429854483),\n",
       " ('frc2386', 18.114382252258252),\n",
       " ('frc914', 16.739778688458674),\n",
       " ('frc8729', 16.71847396093709),\n",
       " ('frc5031', 16.12849954735187),\n",
       " ('frc2198', 15.539445840226488),\n",
       " ('frc5024', 15.451277896017142),\n",
       " ('frc3161', 14.776820529657044),\n",
       " ('frc8884', 14.555316659959287),\n",
       " ('frc8735', 14.251257282473832),\n",
       " ('frc5036', 14.070912333517423),\n",
       " ('frc4617', 13.947032608606307),\n",
       " ('frc8764', 12.729115023062636),\n",
       " ('frc6875', 12.115823277761345),\n",
       " ('frc8850', 11.908863480104053),\n",
       " ('frc7659', 11.420031772761359),\n",
       " ('frc5672', 11.348159418622867),\n",
       " ('frc6865', 11.342933371742632),\n",
       " ('frc8574', 10.389263483601603),\n",
       " ('frc6864', 10.223101964876495),\n",
       " ('frc6978', 9.92213281265562),\n",
       " ('frc1374', 9.901325536046915),\n",
       " ('frc1334', 8.310414896501536),\n",
       " ('frc3739', 7.695208044612392),\n",
       " ('frc3543', 7.303254527175374),\n",
       " ('frc7520', 6.854256601272956),\n",
       " ('frc6397', 6.480706637835395),\n",
       " ('frc8731', 3.441852925508809),\n",
       " ('frc771', 1.015549512899494),\n",
       " ('frc7757', 0.06278619469632218),\n",
       " ('frc8765', -0.0887948358068229)]"
      ]
     },
     "execution_count": 17,
     "metadata": {},
     "output_type": "execute_result"
    }
   ],
   "source": [
    "sorted(counter.items(), key=lambda item: item[1], reverse=True)"
   ]
  },
  {
   "cell_type": "code",
   "execution_count": 22,
   "id": "e145af00",
   "metadata": {},
   "outputs": [
    {
     "name": "stdout",
     "output_type": "stream",
     "text": [
      "Avg Taxi Points\n"
     ]
    },
    {
     "data": {
      "text/plain": [
       "5.5"
      ]
     },
     "execution_count": 22,
     "metadata": {},
     "output_type": "execute_result"
    }
   ],
   "source": [
    "print('Avg Taxi Points')\n",
    "tba.event_insights(event)['qual']['average_taxi_points']"
   ]
  },
  {
   "cell_type": "code",
   "execution_count": null,
   "id": "ba5c072e",
   "metadata": {},
   "outputs": [],
   "source": []
  },
  {
   "cell_type": "code",
   "execution_count": 34,
   "id": "d2654b51",
   "metadata": {},
   "outputs": [
    {
     "data": {
      "application/vnd.plotly.v1+json": {
       "config": {
        "plotlyServerURL": "https://plot.ly"
       },
       "data": [
        {
         "marker": {
          "size": 20
         },
         "mode": "markers",
         "showlegend": false,
         "type": "scatter",
         "x": [
          168,
          165,
          136,
          156,
          151,
          140,
          165,
          141,
          160,
          172,
          155,
          146,
          156
         ],
         "y": [
          0,
          0,
          0,
          0,
          0,
          0,
          0,
          0,
          0,
          0,
          0,
          0,
          0
         ]
        },
        {
         "marker": {
          "size": 20
         },
         "mode": "markers",
         "showlegend": false,
         "type": "scatter",
         "x": [
          149
         ],
         "y": [
          0
         ]
        }
       ],
       "layout": {
        "height": 200,
        "paper_bgcolor": "rgba(0,0,0,0)",
        "plot_bgcolor": "rgba(0,0,0,0)",
        "template": {
         "data": {
          "bar": [
           {
            "error_x": {
             "color": "#2a3f5f"
            },
            "error_y": {
             "color": "#2a3f5f"
            },
            "marker": {
             "line": {
              "color": "#E5ECF6",
              "width": 0.5
             },
             "pattern": {
              "fillmode": "overlay",
              "size": 10,
              "solidity": 0.2
             }
            },
            "type": "bar"
           }
          ],
          "barpolar": [
           {
            "marker": {
             "line": {
              "color": "#E5ECF6",
              "width": 0.5
             },
             "pattern": {
              "fillmode": "overlay",
              "size": 10,
              "solidity": 0.2
             }
            },
            "type": "barpolar"
           }
          ],
          "carpet": [
           {
            "aaxis": {
             "endlinecolor": "#2a3f5f",
             "gridcolor": "white",
             "linecolor": "white",
             "minorgridcolor": "white",
             "startlinecolor": "#2a3f5f"
            },
            "baxis": {
             "endlinecolor": "#2a3f5f",
             "gridcolor": "white",
             "linecolor": "white",
             "minorgridcolor": "white",
             "startlinecolor": "#2a3f5f"
            },
            "type": "carpet"
           }
          ],
          "choropleth": [
           {
            "colorbar": {
             "outlinewidth": 0,
             "ticks": ""
            },
            "type": "choropleth"
           }
          ],
          "contour": [
           {
            "colorbar": {
             "outlinewidth": 0,
             "ticks": ""
            },
            "colorscale": [
             [
              0,
              "#0d0887"
             ],
             [
              0.1111111111111111,
              "#46039f"
             ],
             [
              0.2222222222222222,
              "#7201a8"
             ],
             [
              0.3333333333333333,
              "#9c179e"
             ],
             [
              0.4444444444444444,
              "#bd3786"
             ],
             [
              0.5555555555555556,
              "#d8576b"
             ],
             [
              0.6666666666666666,
              "#ed7953"
             ],
             [
              0.7777777777777778,
              "#fb9f3a"
             ],
             [
              0.8888888888888888,
              "#fdca26"
             ],
             [
              1,
              "#f0f921"
             ]
            ],
            "type": "contour"
           }
          ],
          "contourcarpet": [
           {
            "colorbar": {
             "outlinewidth": 0,
             "ticks": ""
            },
            "type": "contourcarpet"
           }
          ],
          "heatmap": [
           {
            "colorbar": {
             "outlinewidth": 0,
             "ticks": ""
            },
            "colorscale": [
             [
              0,
              "#0d0887"
             ],
             [
              0.1111111111111111,
              "#46039f"
             ],
             [
              0.2222222222222222,
              "#7201a8"
             ],
             [
              0.3333333333333333,
              "#9c179e"
             ],
             [
              0.4444444444444444,
              "#bd3786"
             ],
             [
              0.5555555555555556,
              "#d8576b"
             ],
             [
              0.6666666666666666,
              "#ed7953"
             ],
             [
              0.7777777777777778,
              "#fb9f3a"
             ],
             [
              0.8888888888888888,
              "#fdca26"
             ],
             [
              1,
              "#f0f921"
             ]
            ],
            "type": "heatmap"
           }
          ],
          "heatmapgl": [
           {
            "colorbar": {
             "outlinewidth": 0,
             "ticks": ""
            },
            "colorscale": [
             [
              0,
              "#0d0887"
             ],
             [
              0.1111111111111111,
              "#46039f"
             ],
             [
              0.2222222222222222,
              "#7201a8"
             ],
             [
              0.3333333333333333,
              "#9c179e"
             ],
             [
              0.4444444444444444,
              "#bd3786"
             ],
             [
              0.5555555555555556,
              "#d8576b"
             ],
             [
              0.6666666666666666,
              "#ed7953"
             ],
             [
              0.7777777777777778,
              "#fb9f3a"
             ],
             [
              0.8888888888888888,
              "#fdca26"
             ],
             [
              1,
              "#f0f921"
             ]
            ],
            "type": "heatmapgl"
           }
          ],
          "histogram": [
           {
            "marker": {
             "pattern": {
              "fillmode": "overlay",
              "size": 10,
              "solidity": 0.2
             }
            },
            "type": "histogram"
           }
          ],
          "histogram2d": [
           {
            "colorbar": {
             "outlinewidth": 0,
             "ticks": ""
            },
            "colorscale": [
             [
              0,
              "#0d0887"
             ],
             [
              0.1111111111111111,
              "#46039f"
             ],
             [
              0.2222222222222222,
              "#7201a8"
             ],
             [
              0.3333333333333333,
              "#9c179e"
             ],
             [
              0.4444444444444444,
              "#bd3786"
             ],
             [
              0.5555555555555556,
              "#d8576b"
             ],
             [
              0.6666666666666666,
              "#ed7953"
             ],
             [
              0.7777777777777778,
              "#fb9f3a"
             ],
             [
              0.8888888888888888,
              "#fdca26"
             ],
             [
              1,
              "#f0f921"
             ]
            ],
            "type": "histogram2d"
           }
          ],
          "histogram2dcontour": [
           {
            "colorbar": {
             "outlinewidth": 0,
             "ticks": ""
            },
            "colorscale": [
             [
              0,
              "#0d0887"
             ],
             [
              0.1111111111111111,
              "#46039f"
             ],
             [
              0.2222222222222222,
              "#7201a8"
             ],
             [
              0.3333333333333333,
              "#9c179e"
             ],
             [
              0.4444444444444444,
              "#bd3786"
             ],
             [
              0.5555555555555556,
              "#d8576b"
             ],
             [
              0.6666666666666666,
              "#ed7953"
             ],
             [
              0.7777777777777778,
              "#fb9f3a"
             ],
             [
              0.8888888888888888,
              "#fdca26"
             ],
             [
              1,
              "#f0f921"
             ]
            ],
            "type": "histogram2dcontour"
           }
          ],
          "mesh3d": [
           {
            "colorbar": {
             "outlinewidth": 0,
             "ticks": ""
            },
            "type": "mesh3d"
           }
          ],
          "parcoords": [
           {
            "line": {
             "colorbar": {
              "outlinewidth": 0,
              "ticks": ""
             }
            },
            "type": "parcoords"
           }
          ],
          "pie": [
           {
            "automargin": true,
            "type": "pie"
           }
          ],
          "scatter": [
           {
            "fillpattern": {
             "fillmode": "overlay",
             "size": 10,
             "solidity": 0.2
            },
            "type": "scatter"
           }
          ],
          "scatter3d": [
           {
            "line": {
             "colorbar": {
              "outlinewidth": 0,
              "ticks": ""
             }
            },
            "marker": {
             "colorbar": {
              "outlinewidth": 0,
              "ticks": ""
             }
            },
            "type": "scatter3d"
           }
          ],
          "scattercarpet": [
           {
            "marker": {
             "colorbar": {
              "outlinewidth": 0,
              "ticks": ""
             }
            },
            "type": "scattercarpet"
           }
          ],
          "scattergeo": [
           {
            "marker": {
             "colorbar": {
              "outlinewidth": 0,
              "ticks": ""
             }
            },
            "type": "scattergeo"
           }
          ],
          "scattergl": [
           {
            "marker": {
             "colorbar": {
              "outlinewidth": 0,
              "ticks": ""
             }
            },
            "type": "scattergl"
           }
          ],
          "scattermapbox": [
           {
            "marker": {
             "colorbar": {
              "outlinewidth": 0,
              "ticks": ""
             }
            },
            "type": "scattermapbox"
           }
          ],
          "scatterpolar": [
           {
            "marker": {
             "colorbar": {
              "outlinewidth": 0,
              "ticks": ""
             }
            },
            "type": "scatterpolar"
           }
          ],
          "scatterpolargl": [
           {
            "marker": {
             "colorbar": {
              "outlinewidth": 0,
              "ticks": ""
             }
            },
            "type": "scatterpolargl"
           }
          ],
          "scatterternary": [
           {
            "marker": {
             "colorbar": {
              "outlinewidth": 0,
              "ticks": ""
             }
            },
            "type": "scatterternary"
           }
          ],
          "surface": [
           {
            "colorbar": {
             "outlinewidth": 0,
             "ticks": ""
            },
            "colorscale": [
             [
              0,
              "#0d0887"
             ],
             [
              0.1111111111111111,
              "#46039f"
             ],
             [
              0.2222222222222222,
              "#7201a8"
             ],
             [
              0.3333333333333333,
              "#9c179e"
             ],
             [
              0.4444444444444444,
              "#bd3786"
             ],
             [
              0.5555555555555556,
              "#d8576b"
             ],
             [
              0.6666666666666666,
              "#ed7953"
             ],
             [
              0.7777777777777778,
              "#fb9f3a"
             ],
             [
              0.8888888888888888,
              "#fdca26"
             ],
             [
              1,
              "#f0f921"
             ]
            ],
            "type": "surface"
           }
          ],
          "table": [
           {
            "cells": {
             "fill": {
              "color": "#EBF0F8"
             },
             "line": {
              "color": "white"
             }
            },
            "header": {
             "fill": {
              "color": "#C8D4E3"
             },
             "line": {
              "color": "white"
             }
            },
            "type": "table"
           }
          ]
         },
         "layout": {
          "annotationdefaults": {
           "arrowcolor": "#2a3f5f",
           "arrowhead": 0,
           "arrowwidth": 1
          },
          "autotypenumbers": "strict",
          "coloraxis": {
           "colorbar": {
            "outlinewidth": 0,
            "ticks": ""
           }
          },
          "colorscale": {
           "diverging": [
            [
             0,
             "#8e0152"
            ],
            [
             0.1,
             "#c51b7d"
            ],
            [
             0.2,
             "#de77ae"
            ],
            [
             0.3,
             "#f1b6da"
            ],
            [
             0.4,
             "#fde0ef"
            ],
            [
             0.5,
             "#f7f7f7"
            ],
            [
             0.6,
             "#e6f5d0"
            ],
            [
             0.7,
             "#b8e186"
            ],
            [
             0.8,
             "#7fbc41"
            ],
            [
             0.9,
             "#4d9221"
            ],
            [
             1,
             "#276419"
            ]
           ],
           "sequential": [
            [
             0,
             "#0d0887"
            ],
            [
             0.1111111111111111,
             "#46039f"
            ],
            [
             0.2222222222222222,
             "#7201a8"
            ],
            [
             0.3333333333333333,
             "#9c179e"
            ],
            [
             0.4444444444444444,
             "#bd3786"
            ],
            [
             0.5555555555555556,
             "#d8576b"
            ],
            [
             0.6666666666666666,
             "#ed7953"
            ],
            [
             0.7777777777777778,
             "#fb9f3a"
            ],
            [
             0.8888888888888888,
             "#fdca26"
            ],
            [
             1,
             "#f0f921"
            ]
           ],
           "sequentialminus": [
            [
             0,
             "#0d0887"
            ],
            [
             0.1111111111111111,
             "#46039f"
            ],
            [
             0.2222222222222222,
             "#7201a8"
            ],
            [
             0.3333333333333333,
             "#9c179e"
            ],
            [
             0.4444444444444444,
             "#bd3786"
            ],
            [
             0.5555555555555556,
             "#d8576b"
            ],
            [
             0.6666666666666666,
             "#ed7953"
            ],
            [
             0.7777777777777778,
             "#fb9f3a"
            ],
            [
             0.8888888888888888,
             "#fdca26"
            ],
            [
             1,
             "#f0f921"
            ]
           ]
          },
          "colorway": [
           "#636efa",
           "#EF553B",
           "#00cc96",
           "#ab63fa",
           "#FFA15A",
           "#19d3f3",
           "#FF6692",
           "#B6E880",
           "#FF97FF",
           "#FECB52"
          ],
          "font": {
           "color": "#2a3f5f"
          },
          "geo": {
           "bgcolor": "white",
           "lakecolor": "white",
           "landcolor": "#E5ECF6",
           "showlakes": true,
           "showland": true,
           "subunitcolor": "white"
          },
          "hoverlabel": {
           "align": "left"
          },
          "hovermode": "closest",
          "mapbox": {
           "style": "light"
          },
          "paper_bgcolor": "white",
          "plot_bgcolor": "#E5ECF6",
          "polar": {
           "angularaxis": {
            "gridcolor": "white",
            "linecolor": "white",
            "ticks": ""
           },
           "bgcolor": "#E5ECF6",
           "radialaxis": {
            "gridcolor": "white",
            "linecolor": "white",
            "ticks": ""
           }
          },
          "scene": {
           "xaxis": {
            "backgroundcolor": "#E5ECF6",
            "gridcolor": "white",
            "gridwidth": 2,
            "linecolor": "white",
            "showbackground": true,
            "ticks": "",
            "zerolinecolor": "white"
           },
           "yaxis": {
            "backgroundcolor": "#E5ECF6",
            "gridcolor": "white",
            "gridwidth": 2,
            "linecolor": "white",
            "showbackground": true,
            "ticks": "",
            "zerolinecolor": "white"
           },
           "zaxis": {
            "backgroundcolor": "#E5ECF6",
            "gridcolor": "white",
            "gridwidth": 2,
            "linecolor": "white",
            "showbackground": true,
            "ticks": "",
            "zerolinecolor": "white"
           }
          },
          "shapedefaults": {
           "line": {
            "color": "#2a3f5f"
           }
          },
          "ternary": {
           "aaxis": {
            "gridcolor": "white",
            "linecolor": "white",
            "ticks": ""
           },
           "baxis": {
            "gridcolor": "white",
            "linecolor": "white",
            "ticks": ""
           },
           "bgcolor": "#E5ECF6",
           "caxis": {
            "gridcolor": "white",
            "linecolor": "white",
            "ticks": ""
           }
          },
          "title": {
           "x": 0.05
          },
          "xaxis": {
           "automargin": true,
           "gridcolor": "white",
           "linecolor": "white",
           "ticks": "",
           "title": {
            "standoff": 15
           },
           "zerolinecolor": "white",
           "zerolinewidth": 2
          },
          "yaxis": {
           "automargin": true,
           "gridcolor": "white",
           "linecolor": "white",
           "ticks": "",
           "title": {
            "standoff": 15
           },
           "zerolinecolor": "white",
           "zerolinewidth": 2
          }
         }
        },
        "xaxis": {
         "color": "white",
         "showgrid": false
        },
        "yaxis": {
         "color": "white",
         "showgrid": false,
         "showticklabels": false,
         "zeroline": true,
         "zerolinecolor": "white",
         "zerolinewidth": 3
        }
       }
      },
      "text/html": [
       "<div>                            <div id=\"29ad6e64-2b22-4717-b280-feddd4e7188a\" class=\"plotly-graph-div\" style=\"height:200px; width:100%;\"></div>            <script type=\"text/javascript\">                require([\"plotly\"], function(Plotly) {                    window.PLOTLYENV=window.PLOTLYENV || {};                                    if (document.getElementById(\"29ad6e64-2b22-4717-b280-feddd4e7188a\")) {                    Plotly.newPlot(                        \"29ad6e64-2b22-4717-b280-feddd4e7188a\",                        [{\"marker\":{\"size\":20},\"mode\":\"markers\",\"showlegend\":false,\"x\":[168,165,136,156,151,140,165,141,160,172,155,146,156],\"y\":[0,0,0,0,0,0,0,0,0,0,0,0,0],\"type\":\"scatter\"},{\"marker\":{\"size\":20},\"mode\":\"markers\",\"showlegend\":false,\"x\":[149],\"y\":[0],\"type\":\"scatter\"}],                        {\"template\":{\"data\":{\"histogram2dcontour\":[{\"type\":\"histogram2dcontour\",\"colorbar\":{\"outlinewidth\":0,\"ticks\":\"\"},\"colorscale\":[[0.0,\"#0d0887\"],[0.1111111111111111,\"#46039f\"],[0.2222222222222222,\"#7201a8\"],[0.3333333333333333,\"#9c179e\"],[0.4444444444444444,\"#bd3786\"],[0.5555555555555556,\"#d8576b\"],[0.6666666666666666,\"#ed7953\"],[0.7777777777777778,\"#fb9f3a\"],[0.8888888888888888,\"#fdca26\"],[1.0,\"#f0f921\"]]}],\"choropleth\":[{\"type\":\"choropleth\",\"colorbar\":{\"outlinewidth\":0,\"ticks\":\"\"}}],\"histogram2d\":[{\"type\":\"histogram2d\",\"colorbar\":{\"outlinewidth\":0,\"ticks\":\"\"},\"colorscale\":[[0.0,\"#0d0887\"],[0.1111111111111111,\"#46039f\"],[0.2222222222222222,\"#7201a8\"],[0.3333333333333333,\"#9c179e\"],[0.4444444444444444,\"#bd3786\"],[0.5555555555555556,\"#d8576b\"],[0.6666666666666666,\"#ed7953\"],[0.7777777777777778,\"#fb9f3a\"],[0.8888888888888888,\"#fdca26\"],[1.0,\"#f0f921\"]]}],\"heatmap\":[{\"type\":\"heatmap\",\"colorbar\":{\"outlinewidth\":0,\"ticks\":\"\"},\"colorscale\":[[0.0,\"#0d0887\"],[0.1111111111111111,\"#46039f\"],[0.2222222222222222,\"#7201a8\"],[0.3333333333333333,\"#9c179e\"],[0.4444444444444444,\"#bd3786\"],[0.5555555555555556,\"#d8576b\"],[0.6666666666666666,\"#ed7953\"],[0.7777777777777778,\"#fb9f3a\"],[0.8888888888888888,\"#fdca26\"],[1.0,\"#f0f921\"]]}],\"heatmapgl\":[{\"type\":\"heatmapgl\",\"colorbar\":{\"outlinewidth\":0,\"ticks\":\"\"},\"colorscale\":[[0.0,\"#0d0887\"],[0.1111111111111111,\"#46039f\"],[0.2222222222222222,\"#7201a8\"],[0.3333333333333333,\"#9c179e\"],[0.4444444444444444,\"#bd3786\"],[0.5555555555555556,\"#d8576b\"],[0.6666666666666666,\"#ed7953\"],[0.7777777777777778,\"#fb9f3a\"],[0.8888888888888888,\"#fdca26\"],[1.0,\"#f0f921\"]]}],\"contourcarpet\":[{\"type\":\"contourcarpet\",\"colorbar\":{\"outlinewidth\":0,\"ticks\":\"\"}}],\"contour\":[{\"type\":\"contour\",\"colorbar\":{\"outlinewidth\":0,\"ticks\":\"\"},\"colorscale\":[[0.0,\"#0d0887\"],[0.1111111111111111,\"#46039f\"],[0.2222222222222222,\"#7201a8\"],[0.3333333333333333,\"#9c179e\"],[0.4444444444444444,\"#bd3786\"],[0.5555555555555556,\"#d8576b\"],[0.6666666666666666,\"#ed7953\"],[0.7777777777777778,\"#fb9f3a\"],[0.8888888888888888,\"#fdca26\"],[1.0,\"#f0f921\"]]}],\"surface\":[{\"type\":\"surface\",\"colorbar\":{\"outlinewidth\":0,\"ticks\":\"\"},\"colorscale\":[[0.0,\"#0d0887\"],[0.1111111111111111,\"#46039f\"],[0.2222222222222222,\"#7201a8\"],[0.3333333333333333,\"#9c179e\"],[0.4444444444444444,\"#bd3786\"],[0.5555555555555556,\"#d8576b\"],[0.6666666666666666,\"#ed7953\"],[0.7777777777777778,\"#fb9f3a\"],[0.8888888888888888,\"#fdca26\"],[1.0,\"#f0f921\"]]}],\"mesh3d\":[{\"type\":\"mesh3d\",\"colorbar\":{\"outlinewidth\":0,\"ticks\":\"\"}}],\"scatter\":[{\"fillpattern\":{\"fillmode\":\"overlay\",\"size\":10,\"solidity\":0.2},\"type\":\"scatter\"}],\"parcoords\":[{\"type\":\"parcoords\",\"line\":{\"colorbar\":{\"outlinewidth\":0,\"ticks\":\"\"}}}],\"scatterpolargl\":[{\"type\":\"scatterpolargl\",\"marker\":{\"colorbar\":{\"outlinewidth\":0,\"ticks\":\"\"}}}],\"bar\":[{\"error_x\":{\"color\":\"#2a3f5f\"},\"error_y\":{\"color\":\"#2a3f5f\"},\"marker\":{\"line\":{\"color\":\"#E5ECF6\",\"width\":0.5},\"pattern\":{\"fillmode\":\"overlay\",\"size\":10,\"solidity\":0.2}},\"type\":\"bar\"}],\"scattergeo\":[{\"type\":\"scattergeo\",\"marker\":{\"colorbar\":{\"outlinewidth\":0,\"ticks\":\"\"}}}],\"scatterpolar\":[{\"type\":\"scatterpolar\",\"marker\":{\"colorbar\":{\"outlinewidth\":0,\"ticks\":\"\"}}}],\"histogram\":[{\"marker\":{\"pattern\":{\"fillmode\":\"overlay\",\"size\":10,\"solidity\":0.2}},\"type\":\"histogram\"}],\"scattergl\":[{\"type\":\"scattergl\",\"marker\":{\"colorbar\":{\"outlinewidth\":0,\"ticks\":\"\"}}}],\"scatter3d\":[{\"type\":\"scatter3d\",\"line\":{\"colorbar\":{\"outlinewidth\":0,\"ticks\":\"\"}},\"marker\":{\"colorbar\":{\"outlinewidth\":0,\"ticks\":\"\"}}}],\"scattermapbox\":[{\"type\":\"scattermapbox\",\"marker\":{\"colorbar\":{\"outlinewidth\":0,\"ticks\":\"\"}}}],\"scatterternary\":[{\"type\":\"scatterternary\",\"marker\":{\"colorbar\":{\"outlinewidth\":0,\"ticks\":\"\"}}}],\"scattercarpet\":[{\"type\":\"scattercarpet\",\"marker\":{\"colorbar\":{\"outlinewidth\":0,\"ticks\":\"\"}}}],\"carpet\":[{\"aaxis\":{\"endlinecolor\":\"#2a3f5f\",\"gridcolor\":\"white\",\"linecolor\":\"white\",\"minorgridcolor\":\"white\",\"startlinecolor\":\"#2a3f5f\"},\"baxis\":{\"endlinecolor\":\"#2a3f5f\",\"gridcolor\":\"white\",\"linecolor\":\"white\",\"minorgridcolor\":\"white\",\"startlinecolor\":\"#2a3f5f\"},\"type\":\"carpet\"}],\"table\":[{\"cells\":{\"fill\":{\"color\":\"#EBF0F8\"},\"line\":{\"color\":\"white\"}},\"header\":{\"fill\":{\"color\":\"#C8D4E3\"},\"line\":{\"color\":\"white\"}},\"type\":\"table\"}],\"barpolar\":[{\"marker\":{\"line\":{\"color\":\"#E5ECF6\",\"width\":0.5},\"pattern\":{\"fillmode\":\"overlay\",\"size\":10,\"solidity\":0.2}},\"type\":\"barpolar\"}],\"pie\":[{\"automargin\":true,\"type\":\"pie\"}]},\"layout\":{\"autotypenumbers\":\"strict\",\"colorway\":[\"#636efa\",\"#EF553B\",\"#00cc96\",\"#ab63fa\",\"#FFA15A\",\"#19d3f3\",\"#FF6692\",\"#B6E880\",\"#FF97FF\",\"#FECB52\"],\"font\":{\"color\":\"#2a3f5f\"},\"hovermode\":\"closest\",\"hoverlabel\":{\"align\":\"left\"},\"paper_bgcolor\":\"white\",\"plot_bgcolor\":\"#E5ECF6\",\"polar\":{\"bgcolor\":\"#E5ECF6\",\"angularaxis\":{\"gridcolor\":\"white\",\"linecolor\":\"white\",\"ticks\":\"\"},\"radialaxis\":{\"gridcolor\":\"white\",\"linecolor\":\"white\",\"ticks\":\"\"}},\"ternary\":{\"bgcolor\":\"#E5ECF6\",\"aaxis\":{\"gridcolor\":\"white\",\"linecolor\":\"white\",\"ticks\":\"\"},\"baxis\":{\"gridcolor\":\"white\",\"linecolor\":\"white\",\"ticks\":\"\"},\"caxis\":{\"gridcolor\":\"white\",\"linecolor\":\"white\",\"ticks\":\"\"}},\"coloraxis\":{\"colorbar\":{\"outlinewidth\":0,\"ticks\":\"\"}},\"colorscale\":{\"sequential\":[[0.0,\"#0d0887\"],[0.1111111111111111,\"#46039f\"],[0.2222222222222222,\"#7201a8\"],[0.3333333333333333,\"#9c179e\"],[0.4444444444444444,\"#bd3786\"],[0.5555555555555556,\"#d8576b\"],[0.6666666666666666,\"#ed7953\"],[0.7777777777777778,\"#fb9f3a\"],[0.8888888888888888,\"#fdca26\"],[1.0,\"#f0f921\"]],\"sequentialminus\":[[0.0,\"#0d0887\"],[0.1111111111111111,\"#46039f\"],[0.2222222222222222,\"#7201a8\"],[0.3333333333333333,\"#9c179e\"],[0.4444444444444444,\"#bd3786\"],[0.5555555555555556,\"#d8576b\"],[0.6666666666666666,\"#ed7953\"],[0.7777777777777778,\"#fb9f3a\"],[0.8888888888888888,\"#fdca26\"],[1.0,\"#f0f921\"]],\"diverging\":[[0,\"#8e0152\"],[0.1,\"#c51b7d\"],[0.2,\"#de77ae\"],[0.3,\"#f1b6da\"],[0.4,\"#fde0ef\"],[0.5,\"#f7f7f7\"],[0.6,\"#e6f5d0\"],[0.7,\"#b8e186\"],[0.8,\"#7fbc41\"],[0.9,\"#4d9221\"],[1,\"#276419\"]]},\"xaxis\":{\"gridcolor\":\"white\",\"linecolor\":\"white\",\"ticks\":\"\",\"title\":{\"standoff\":15},\"zerolinecolor\":\"white\",\"automargin\":true,\"zerolinewidth\":2},\"yaxis\":{\"gridcolor\":\"white\",\"linecolor\":\"white\",\"ticks\":\"\",\"title\":{\"standoff\":15},\"zerolinecolor\":\"white\",\"automargin\":true,\"zerolinewidth\":2},\"scene\":{\"xaxis\":{\"backgroundcolor\":\"#E5ECF6\",\"gridcolor\":\"white\",\"linecolor\":\"white\",\"showbackground\":true,\"ticks\":\"\",\"zerolinecolor\":\"white\",\"gridwidth\":2},\"yaxis\":{\"backgroundcolor\":\"#E5ECF6\",\"gridcolor\":\"white\",\"linecolor\":\"white\",\"showbackground\":true,\"ticks\":\"\",\"zerolinecolor\":\"white\",\"gridwidth\":2},\"zaxis\":{\"backgroundcolor\":\"#E5ECF6\",\"gridcolor\":\"white\",\"linecolor\":\"white\",\"showbackground\":true,\"ticks\":\"\",\"zerolinecolor\":\"white\",\"gridwidth\":2}},\"shapedefaults\":{\"line\":{\"color\":\"#2a3f5f\"}},\"annotationdefaults\":{\"arrowcolor\":\"#2a3f5f\",\"arrowhead\":0,\"arrowwidth\":1},\"geo\":{\"bgcolor\":\"white\",\"landcolor\":\"#E5ECF6\",\"subunitcolor\":\"white\",\"showland\":true,\"showlakes\":true,\"lakecolor\":\"white\"},\"title\":{\"x\":0.05},\"mapbox\":{\"style\":\"light\"}}},\"xaxis\":{\"showgrid\":false,\"color\":\"white\"},\"yaxis\":{\"showgrid\":false,\"zeroline\":true,\"zerolinecolor\":\"white\",\"zerolinewidth\":3,\"showticklabels\":false,\"color\":\"white\"},\"height\":200,\"paper_bgcolor\":\"rgba(0,0,0,0)\",\"plot_bgcolor\":\"rgba(0,0,0,0)\"},                        {\"responsive\": true}                    ).then(function(){\n",
       "                            \n",
       "var gd = document.getElementById('29ad6e64-2b22-4717-b280-feddd4e7188a');\n",
       "var x = new MutationObserver(function (mutations, observer) {{\n",
       "        var display = window.getComputedStyle(gd).display;\n",
       "        if (!display || display === 'none') {{\n",
       "            console.log([gd, 'removed!']);\n",
       "            Plotly.purge(gd);\n",
       "            observer.disconnect();\n",
       "        }}\n",
       "}});\n",
       "\n",
       "// Listen for the removal of the full notebook cells\n",
       "var notebookContainer = gd.closest('#notebook-container');\n",
       "if (notebookContainer) {{\n",
       "    x.observe(notebookContainer, {childList: true});\n",
       "}}\n",
       "\n",
       "// Listen for the clearing of the current output cell\n",
       "var outputEl = gd.closest('.output');\n",
       "if (outputEl) {{\n",
       "    x.observe(outputEl, {childList: true});\n",
       "}}\n",
       "\n",
       "                        })                };                });            </script>        </div>"
      ]
     },
     "metadata": {},
     "output_type": "display_data"
    }
   ],
   "source": [
    "import plotly.graph_objects as go\n",
    "fig = go.Figure()\n",
    "fig.add_trace(go.Scatter(\n",
    "    x=[168, 165, 136, 156, 151, 140, 165, 141, 160, 172, 155, 146, 156], y=[0,0,0,0,0,0,0,0,0,0,0,0,0], mode='markers', marker_size=20,\n",
    " showlegend=False))\n",
    "fig.add_trace(go.Scatter(\n",
    "    x=[149], y=[0], mode='markers', marker_size=20,\n",
    " showlegend=False))\n",
    "fig.update_xaxes(showgrid=False)\n",
    "fig.update_yaxes(showgrid=False, \n",
    "                 zeroline=True, zerolinecolor='white', zerolinewidth=3,\n",
    "                 showticklabels=False, color='white')\n",
    "fig.update_layout(height=200,paper_bgcolor='rgba(0,0,0,0)',\n",
    "    plot_bgcolor='rgba(0,0,0,0)')\n",
    "fig.layout.xaxis.color = 'white'\n",
    "fig.show()"
   ]
  },
  {
   "cell_type": "code",
   "execution_count": 35,
   "id": "88a20974",
   "metadata": {},
   "outputs": [
    {
     "data": {
      "application/vnd.plotly.v1+json": {
       "config": {
        "plotlyServerURL": "https://plot.ly"
       },
       "data": [
        {
         "marker": {
          "size": 20
         },
         "mode": "markers",
         "showlegend": false,
         "type": "scatter",
         "x": [
          58.77,
          33.33,
          44.72,
          43.45,
          59.69,
          55.21,
          64.75,
          42.69,
          69.69,
          69.42,
          22.35,
          38.62,
          37.48
         ],
         "y": [
          0,
          0,
          0,
          0,
          0,
          0,
          0,
          0,
          0,
          0,
          0,
          0,
          0
         ]
        },
        {
         "marker": {
          "size": 20
         },
         "mode": "markers",
         "showlegend": false,
         "type": "scatter",
         "x": [
          50.3731343283582
         ],
         "y": [
          0
         ]
        }
       ],
       "layout": {
        "height": 200,
        "paper_bgcolor": "rgba(0,0,0,0)",
        "plot_bgcolor": "rgba(0,0,0,0)",
        "template": {
         "data": {
          "bar": [
           {
            "error_x": {
             "color": "#2a3f5f"
            },
            "error_y": {
             "color": "#2a3f5f"
            },
            "marker": {
             "line": {
              "color": "#E5ECF6",
              "width": 0.5
             },
             "pattern": {
              "fillmode": "overlay",
              "size": 10,
              "solidity": 0.2
             }
            },
            "type": "bar"
           }
          ],
          "barpolar": [
           {
            "marker": {
             "line": {
              "color": "#E5ECF6",
              "width": 0.5
             },
             "pattern": {
              "fillmode": "overlay",
              "size": 10,
              "solidity": 0.2
             }
            },
            "type": "barpolar"
           }
          ],
          "carpet": [
           {
            "aaxis": {
             "endlinecolor": "#2a3f5f",
             "gridcolor": "white",
             "linecolor": "white",
             "minorgridcolor": "white",
             "startlinecolor": "#2a3f5f"
            },
            "baxis": {
             "endlinecolor": "#2a3f5f",
             "gridcolor": "white",
             "linecolor": "white",
             "minorgridcolor": "white",
             "startlinecolor": "#2a3f5f"
            },
            "type": "carpet"
           }
          ],
          "choropleth": [
           {
            "colorbar": {
             "outlinewidth": 0,
             "ticks": ""
            },
            "type": "choropleth"
           }
          ],
          "contour": [
           {
            "colorbar": {
             "outlinewidth": 0,
             "ticks": ""
            },
            "colorscale": [
             [
              0,
              "#0d0887"
             ],
             [
              0.1111111111111111,
              "#46039f"
             ],
             [
              0.2222222222222222,
              "#7201a8"
             ],
             [
              0.3333333333333333,
              "#9c179e"
             ],
             [
              0.4444444444444444,
              "#bd3786"
             ],
             [
              0.5555555555555556,
              "#d8576b"
             ],
             [
              0.6666666666666666,
              "#ed7953"
             ],
             [
              0.7777777777777778,
              "#fb9f3a"
             ],
             [
              0.8888888888888888,
              "#fdca26"
             ],
             [
              1,
              "#f0f921"
             ]
            ],
            "type": "contour"
           }
          ],
          "contourcarpet": [
           {
            "colorbar": {
             "outlinewidth": 0,
             "ticks": ""
            },
            "type": "contourcarpet"
           }
          ],
          "heatmap": [
           {
            "colorbar": {
             "outlinewidth": 0,
             "ticks": ""
            },
            "colorscale": [
             [
              0,
              "#0d0887"
             ],
             [
              0.1111111111111111,
              "#46039f"
             ],
             [
              0.2222222222222222,
              "#7201a8"
             ],
             [
              0.3333333333333333,
              "#9c179e"
             ],
             [
              0.4444444444444444,
              "#bd3786"
             ],
             [
              0.5555555555555556,
              "#d8576b"
             ],
             [
              0.6666666666666666,
              "#ed7953"
             ],
             [
              0.7777777777777778,
              "#fb9f3a"
             ],
             [
              0.8888888888888888,
              "#fdca26"
             ],
             [
              1,
              "#f0f921"
             ]
            ],
            "type": "heatmap"
           }
          ],
          "heatmapgl": [
           {
            "colorbar": {
             "outlinewidth": 0,
             "ticks": ""
            },
            "colorscale": [
             [
              0,
              "#0d0887"
             ],
             [
              0.1111111111111111,
              "#46039f"
             ],
             [
              0.2222222222222222,
              "#7201a8"
             ],
             [
              0.3333333333333333,
              "#9c179e"
             ],
             [
              0.4444444444444444,
              "#bd3786"
             ],
             [
              0.5555555555555556,
              "#d8576b"
             ],
             [
              0.6666666666666666,
              "#ed7953"
             ],
             [
              0.7777777777777778,
              "#fb9f3a"
             ],
             [
              0.8888888888888888,
              "#fdca26"
             ],
             [
              1,
              "#f0f921"
             ]
            ],
            "type": "heatmapgl"
           }
          ],
          "histogram": [
           {
            "marker": {
             "pattern": {
              "fillmode": "overlay",
              "size": 10,
              "solidity": 0.2
             }
            },
            "type": "histogram"
           }
          ],
          "histogram2d": [
           {
            "colorbar": {
             "outlinewidth": 0,
             "ticks": ""
            },
            "colorscale": [
             [
              0,
              "#0d0887"
             ],
             [
              0.1111111111111111,
              "#46039f"
             ],
             [
              0.2222222222222222,
              "#7201a8"
             ],
             [
              0.3333333333333333,
              "#9c179e"
             ],
             [
              0.4444444444444444,
              "#bd3786"
             ],
             [
              0.5555555555555556,
              "#d8576b"
             ],
             [
              0.6666666666666666,
              "#ed7953"
             ],
             [
              0.7777777777777778,
              "#fb9f3a"
             ],
             [
              0.8888888888888888,
              "#fdca26"
             ],
             [
              1,
              "#f0f921"
             ]
            ],
            "type": "histogram2d"
           }
          ],
          "histogram2dcontour": [
           {
            "colorbar": {
             "outlinewidth": 0,
             "ticks": ""
            },
            "colorscale": [
             [
              0,
              "#0d0887"
             ],
             [
              0.1111111111111111,
              "#46039f"
             ],
             [
              0.2222222222222222,
              "#7201a8"
             ],
             [
              0.3333333333333333,
              "#9c179e"
             ],
             [
              0.4444444444444444,
              "#bd3786"
             ],
             [
              0.5555555555555556,
              "#d8576b"
             ],
             [
              0.6666666666666666,
              "#ed7953"
             ],
             [
              0.7777777777777778,
              "#fb9f3a"
             ],
             [
              0.8888888888888888,
              "#fdca26"
             ],
             [
              1,
              "#f0f921"
             ]
            ],
            "type": "histogram2dcontour"
           }
          ],
          "mesh3d": [
           {
            "colorbar": {
             "outlinewidth": 0,
             "ticks": ""
            },
            "type": "mesh3d"
           }
          ],
          "parcoords": [
           {
            "line": {
             "colorbar": {
              "outlinewidth": 0,
              "ticks": ""
             }
            },
            "type": "parcoords"
           }
          ],
          "pie": [
           {
            "automargin": true,
            "type": "pie"
           }
          ],
          "scatter": [
           {
            "fillpattern": {
             "fillmode": "overlay",
             "size": 10,
             "solidity": 0.2
            },
            "type": "scatter"
           }
          ],
          "scatter3d": [
           {
            "line": {
             "colorbar": {
              "outlinewidth": 0,
              "ticks": ""
             }
            },
            "marker": {
             "colorbar": {
              "outlinewidth": 0,
              "ticks": ""
             }
            },
            "type": "scatter3d"
           }
          ],
          "scattercarpet": [
           {
            "marker": {
             "colorbar": {
              "outlinewidth": 0,
              "ticks": ""
             }
            },
            "type": "scattercarpet"
           }
          ],
          "scattergeo": [
           {
            "marker": {
             "colorbar": {
              "outlinewidth": 0,
              "ticks": ""
             }
            },
            "type": "scattergeo"
           }
          ],
          "scattergl": [
           {
            "marker": {
             "colorbar": {
              "outlinewidth": 0,
              "ticks": ""
             }
            },
            "type": "scattergl"
           }
          ],
          "scattermapbox": [
           {
            "marker": {
             "colorbar": {
              "outlinewidth": 0,
              "ticks": ""
             }
            },
            "type": "scattermapbox"
           }
          ],
          "scatterpolar": [
           {
            "marker": {
             "colorbar": {
              "outlinewidth": 0,
              "ticks": ""
             }
            },
            "type": "scatterpolar"
           }
          ],
          "scatterpolargl": [
           {
            "marker": {
             "colorbar": {
              "outlinewidth": 0,
              "ticks": ""
             }
            },
            "type": "scatterpolargl"
           }
          ],
          "scatterternary": [
           {
            "marker": {
             "colorbar": {
              "outlinewidth": 0,
              "ticks": ""
             }
            },
            "type": "scatterternary"
           }
          ],
          "surface": [
           {
            "colorbar": {
             "outlinewidth": 0,
             "ticks": ""
            },
            "colorscale": [
             [
              0,
              "#0d0887"
             ],
             [
              0.1111111111111111,
              "#46039f"
             ],
             [
              0.2222222222222222,
              "#7201a8"
             ],
             [
              0.3333333333333333,
              "#9c179e"
             ],
             [
              0.4444444444444444,
              "#bd3786"
             ],
             [
              0.5555555555555556,
              "#d8576b"
             ],
             [
              0.6666666666666666,
              "#ed7953"
             ],
             [
              0.7777777777777778,
              "#fb9f3a"
             ],
             [
              0.8888888888888888,
              "#fdca26"
             ],
             [
              1,
              "#f0f921"
             ]
            ],
            "type": "surface"
           }
          ],
          "table": [
           {
            "cells": {
             "fill": {
              "color": "#EBF0F8"
             },
             "line": {
              "color": "white"
             }
            },
            "header": {
             "fill": {
              "color": "#C8D4E3"
             },
             "line": {
              "color": "white"
             }
            },
            "type": "table"
           }
          ]
         },
         "layout": {
          "annotationdefaults": {
           "arrowcolor": "#2a3f5f",
           "arrowhead": 0,
           "arrowwidth": 1
          },
          "autotypenumbers": "strict",
          "coloraxis": {
           "colorbar": {
            "outlinewidth": 0,
            "ticks": ""
           }
          },
          "colorscale": {
           "diverging": [
            [
             0,
             "#8e0152"
            ],
            [
             0.1,
             "#c51b7d"
            ],
            [
             0.2,
             "#de77ae"
            ],
            [
             0.3,
             "#f1b6da"
            ],
            [
             0.4,
             "#fde0ef"
            ],
            [
             0.5,
             "#f7f7f7"
            ],
            [
             0.6,
             "#e6f5d0"
            ],
            [
             0.7,
             "#b8e186"
            ],
            [
             0.8,
             "#7fbc41"
            ],
            [
             0.9,
             "#4d9221"
            ],
            [
             1,
             "#276419"
            ]
           ],
           "sequential": [
            [
             0,
             "#0d0887"
            ],
            [
             0.1111111111111111,
             "#46039f"
            ],
            [
             0.2222222222222222,
             "#7201a8"
            ],
            [
             0.3333333333333333,
             "#9c179e"
            ],
            [
             0.4444444444444444,
             "#bd3786"
            ],
            [
             0.5555555555555556,
             "#d8576b"
            ],
            [
             0.6666666666666666,
             "#ed7953"
            ],
            [
             0.7777777777777778,
             "#fb9f3a"
            ],
            [
             0.8888888888888888,
             "#fdca26"
            ],
            [
             1,
             "#f0f921"
            ]
           ],
           "sequentialminus": [
            [
             0,
             "#0d0887"
            ],
            [
             0.1111111111111111,
             "#46039f"
            ],
            [
             0.2222222222222222,
             "#7201a8"
            ],
            [
             0.3333333333333333,
             "#9c179e"
            ],
            [
             0.4444444444444444,
             "#bd3786"
            ],
            [
             0.5555555555555556,
             "#d8576b"
            ],
            [
             0.6666666666666666,
             "#ed7953"
            ],
            [
             0.7777777777777778,
             "#fb9f3a"
            ],
            [
             0.8888888888888888,
             "#fdca26"
            ],
            [
             1,
             "#f0f921"
            ]
           ]
          },
          "colorway": [
           "#636efa",
           "#EF553B",
           "#00cc96",
           "#ab63fa",
           "#FFA15A",
           "#19d3f3",
           "#FF6692",
           "#B6E880",
           "#FF97FF",
           "#FECB52"
          ],
          "font": {
           "color": "#2a3f5f"
          },
          "geo": {
           "bgcolor": "white",
           "lakecolor": "white",
           "landcolor": "#E5ECF6",
           "showlakes": true,
           "showland": true,
           "subunitcolor": "white"
          },
          "hoverlabel": {
           "align": "left"
          },
          "hovermode": "closest",
          "mapbox": {
           "style": "light"
          },
          "paper_bgcolor": "white",
          "plot_bgcolor": "#E5ECF6",
          "polar": {
           "angularaxis": {
            "gridcolor": "white",
            "linecolor": "white",
            "ticks": ""
           },
           "bgcolor": "#E5ECF6",
           "radialaxis": {
            "gridcolor": "white",
            "linecolor": "white",
            "ticks": ""
           }
          },
          "scene": {
           "xaxis": {
            "backgroundcolor": "#E5ECF6",
            "gridcolor": "white",
            "gridwidth": 2,
            "linecolor": "white",
            "showbackground": true,
            "ticks": "",
            "zerolinecolor": "white"
           },
           "yaxis": {
            "backgroundcolor": "#E5ECF6",
            "gridcolor": "white",
            "gridwidth": 2,
            "linecolor": "white",
            "showbackground": true,
            "ticks": "",
            "zerolinecolor": "white"
           },
           "zaxis": {
            "backgroundcolor": "#E5ECF6",
            "gridcolor": "white",
            "gridwidth": 2,
            "linecolor": "white",
            "showbackground": true,
            "ticks": "",
            "zerolinecolor": "white"
           }
          },
          "shapedefaults": {
           "line": {
            "color": "#2a3f5f"
           }
          },
          "ternary": {
           "aaxis": {
            "gridcolor": "white",
            "linecolor": "white",
            "ticks": ""
           },
           "baxis": {
            "gridcolor": "white",
            "linecolor": "white",
            "ticks": ""
           },
           "bgcolor": "#E5ECF6",
           "caxis": {
            "gridcolor": "white",
            "linecolor": "white",
            "ticks": ""
           }
          },
          "title": {
           "x": 0.05
          },
          "xaxis": {
           "automargin": true,
           "gridcolor": "white",
           "linecolor": "white",
           "ticks": "",
           "title": {
            "standoff": 15
           },
           "zerolinecolor": "white",
           "zerolinewidth": 2
          },
          "yaxis": {
           "automargin": true,
           "gridcolor": "white",
           "linecolor": "white",
           "ticks": "",
           "title": {
            "standoff": 15
           },
           "zerolinecolor": "white",
           "zerolinewidth": 2
          }
         }
        },
        "xaxis": {
         "color": "white",
         "showgrid": false
        },
        "yaxis": {
         "color": "white",
         "showgrid": false,
         "showticklabels": false,
         "zeroline": true,
         "zerolinecolor": "white",
         "zerolinewidth": 3
        }
       }
      },
      "text/html": [
       "<div>                            <div id=\"a8111003-6708-42d1-b8f5-5bf428419f55\" class=\"plotly-graph-div\" style=\"height:200px; width:100%;\"></div>            <script type=\"text/javascript\">                require([\"plotly\"], function(Plotly) {                    window.PLOTLYENV=window.PLOTLYENV || {};                                    if (document.getElementById(\"a8111003-6708-42d1-b8f5-5bf428419f55\")) {                    Plotly.newPlot(                        \"a8111003-6708-42d1-b8f5-5bf428419f55\",                        [{\"marker\":{\"size\":20},\"mode\":\"markers\",\"showlegend\":false,\"x\":[58.77,33.33,44.72,43.45,59.69,55.21,64.75,42.69,69.69,69.42,22.35,38.62,37.48],\"y\":[0,0,0,0,0,0,0,0,0,0,0,0,0],\"type\":\"scatter\"},{\"marker\":{\"size\":20},\"mode\":\"markers\",\"showlegend\":false,\"x\":[50.3731343283582],\"y\":[0],\"type\":\"scatter\"}],                        {\"template\":{\"data\":{\"histogram2dcontour\":[{\"type\":\"histogram2dcontour\",\"colorbar\":{\"outlinewidth\":0,\"ticks\":\"\"},\"colorscale\":[[0.0,\"#0d0887\"],[0.1111111111111111,\"#46039f\"],[0.2222222222222222,\"#7201a8\"],[0.3333333333333333,\"#9c179e\"],[0.4444444444444444,\"#bd3786\"],[0.5555555555555556,\"#d8576b\"],[0.6666666666666666,\"#ed7953\"],[0.7777777777777778,\"#fb9f3a\"],[0.8888888888888888,\"#fdca26\"],[1.0,\"#f0f921\"]]}],\"choropleth\":[{\"type\":\"choropleth\",\"colorbar\":{\"outlinewidth\":0,\"ticks\":\"\"}}],\"histogram2d\":[{\"type\":\"histogram2d\",\"colorbar\":{\"outlinewidth\":0,\"ticks\":\"\"},\"colorscale\":[[0.0,\"#0d0887\"],[0.1111111111111111,\"#46039f\"],[0.2222222222222222,\"#7201a8\"],[0.3333333333333333,\"#9c179e\"],[0.4444444444444444,\"#bd3786\"],[0.5555555555555556,\"#d8576b\"],[0.6666666666666666,\"#ed7953\"],[0.7777777777777778,\"#fb9f3a\"],[0.8888888888888888,\"#fdca26\"],[1.0,\"#f0f921\"]]}],\"heatmap\":[{\"type\":\"heatmap\",\"colorbar\":{\"outlinewidth\":0,\"ticks\":\"\"},\"colorscale\":[[0.0,\"#0d0887\"],[0.1111111111111111,\"#46039f\"],[0.2222222222222222,\"#7201a8\"],[0.3333333333333333,\"#9c179e\"],[0.4444444444444444,\"#bd3786\"],[0.5555555555555556,\"#d8576b\"],[0.6666666666666666,\"#ed7953\"],[0.7777777777777778,\"#fb9f3a\"],[0.8888888888888888,\"#fdca26\"],[1.0,\"#f0f921\"]]}],\"heatmapgl\":[{\"type\":\"heatmapgl\",\"colorbar\":{\"outlinewidth\":0,\"ticks\":\"\"},\"colorscale\":[[0.0,\"#0d0887\"],[0.1111111111111111,\"#46039f\"],[0.2222222222222222,\"#7201a8\"],[0.3333333333333333,\"#9c179e\"],[0.4444444444444444,\"#bd3786\"],[0.5555555555555556,\"#d8576b\"],[0.6666666666666666,\"#ed7953\"],[0.7777777777777778,\"#fb9f3a\"],[0.8888888888888888,\"#fdca26\"],[1.0,\"#f0f921\"]]}],\"contourcarpet\":[{\"type\":\"contourcarpet\",\"colorbar\":{\"outlinewidth\":0,\"ticks\":\"\"}}],\"contour\":[{\"type\":\"contour\",\"colorbar\":{\"outlinewidth\":0,\"ticks\":\"\"},\"colorscale\":[[0.0,\"#0d0887\"],[0.1111111111111111,\"#46039f\"],[0.2222222222222222,\"#7201a8\"],[0.3333333333333333,\"#9c179e\"],[0.4444444444444444,\"#bd3786\"],[0.5555555555555556,\"#d8576b\"],[0.6666666666666666,\"#ed7953\"],[0.7777777777777778,\"#fb9f3a\"],[0.8888888888888888,\"#fdca26\"],[1.0,\"#f0f921\"]]}],\"surface\":[{\"type\":\"surface\",\"colorbar\":{\"outlinewidth\":0,\"ticks\":\"\"},\"colorscale\":[[0.0,\"#0d0887\"],[0.1111111111111111,\"#46039f\"],[0.2222222222222222,\"#7201a8\"],[0.3333333333333333,\"#9c179e\"],[0.4444444444444444,\"#bd3786\"],[0.5555555555555556,\"#d8576b\"],[0.6666666666666666,\"#ed7953\"],[0.7777777777777778,\"#fb9f3a\"],[0.8888888888888888,\"#fdca26\"],[1.0,\"#f0f921\"]]}],\"mesh3d\":[{\"type\":\"mesh3d\",\"colorbar\":{\"outlinewidth\":0,\"ticks\":\"\"}}],\"scatter\":[{\"fillpattern\":{\"fillmode\":\"overlay\",\"size\":10,\"solidity\":0.2},\"type\":\"scatter\"}],\"parcoords\":[{\"type\":\"parcoords\",\"line\":{\"colorbar\":{\"outlinewidth\":0,\"ticks\":\"\"}}}],\"scatterpolargl\":[{\"type\":\"scatterpolargl\",\"marker\":{\"colorbar\":{\"outlinewidth\":0,\"ticks\":\"\"}}}],\"bar\":[{\"error_x\":{\"color\":\"#2a3f5f\"},\"error_y\":{\"color\":\"#2a3f5f\"},\"marker\":{\"line\":{\"color\":\"#E5ECF6\",\"width\":0.5},\"pattern\":{\"fillmode\":\"overlay\",\"size\":10,\"solidity\":0.2}},\"type\":\"bar\"}],\"scattergeo\":[{\"type\":\"scattergeo\",\"marker\":{\"colorbar\":{\"outlinewidth\":0,\"ticks\":\"\"}}}],\"scatterpolar\":[{\"type\":\"scatterpolar\",\"marker\":{\"colorbar\":{\"outlinewidth\":0,\"ticks\":\"\"}}}],\"histogram\":[{\"marker\":{\"pattern\":{\"fillmode\":\"overlay\",\"size\":10,\"solidity\":0.2}},\"type\":\"histogram\"}],\"scattergl\":[{\"type\":\"scattergl\",\"marker\":{\"colorbar\":{\"outlinewidth\":0,\"ticks\":\"\"}}}],\"scatter3d\":[{\"type\":\"scatter3d\",\"line\":{\"colorbar\":{\"outlinewidth\":0,\"ticks\":\"\"}},\"marker\":{\"colorbar\":{\"outlinewidth\":0,\"ticks\":\"\"}}}],\"scattermapbox\":[{\"type\":\"scattermapbox\",\"marker\":{\"colorbar\":{\"outlinewidth\":0,\"ticks\":\"\"}}}],\"scatterternary\":[{\"type\":\"scatterternary\",\"marker\":{\"colorbar\":{\"outlinewidth\":0,\"ticks\":\"\"}}}],\"scattercarpet\":[{\"type\":\"scattercarpet\",\"marker\":{\"colorbar\":{\"outlinewidth\":0,\"ticks\":\"\"}}}],\"carpet\":[{\"aaxis\":{\"endlinecolor\":\"#2a3f5f\",\"gridcolor\":\"white\",\"linecolor\":\"white\",\"minorgridcolor\":\"white\",\"startlinecolor\":\"#2a3f5f\"},\"baxis\":{\"endlinecolor\":\"#2a3f5f\",\"gridcolor\":\"white\",\"linecolor\":\"white\",\"minorgridcolor\":\"white\",\"startlinecolor\":\"#2a3f5f\"},\"type\":\"carpet\"}],\"table\":[{\"cells\":{\"fill\":{\"color\":\"#EBF0F8\"},\"line\":{\"color\":\"white\"}},\"header\":{\"fill\":{\"color\":\"#C8D4E3\"},\"line\":{\"color\":\"white\"}},\"type\":\"table\"}],\"barpolar\":[{\"marker\":{\"line\":{\"color\":\"#E5ECF6\",\"width\":0.5},\"pattern\":{\"fillmode\":\"overlay\",\"size\":10,\"solidity\":0.2}},\"type\":\"barpolar\"}],\"pie\":[{\"automargin\":true,\"type\":\"pie\"}]},\"layout\":{\"autotypenumbers\":\"strict\",\"colorway\":[\"#636efa\",\"#EF553B\",\"#00cc96\",\"#ab63fa\",\"#FFA15A\",\"#19d3f3\",\"#FF6692\",\"#B6E880\",\"#FF97FF\",\"#FECB52\"],\"font\":{\"color\":\"#2a3f5f\"},\"hovermode\":\"closest\",\"hoverlabel\":{\"align\":\"left\"},\"paper_bgcolor\":\"white\",\"plot_bgcolor\":\"#E5ECF6\",\"polar\":{\"bgcolor\":\"#E5ECF6\",\"angularaxis\":{\"gridcolor\":\"white\",\"linecolor\":\"white\",\"ticks\":\"\"},\"radialaxis\":{\"gridcolor\":\"white\",\"linecolor\":\"white\",\"ticks\":\"\"}},\"ternary\":{\"bgcolor\":\"#E5ECF6\",\"aaxis\":{\"gridcolor\":\"white\",\"linecolor\":\"white\",\"ticks\":\"\"},\"baxis\":{\"gridcolor\":\"white\",\"linecolor\":\"white\",\"ticks\":\"\"},\"caxis\":{\"gridcolor\":\"white\",\"linecolor\":\"white\",\"ticks\":\"\"}},\"coloraxis\":{\"colorbar\":{\"outlinewidth\":0,\"ticks\":\"\"}},\"colorscale\":{\"sequential\":[[0.0,\"#0d0887\"],[0.1111111111111111,\"#46039f\"],[0.2222222222222222,\"#7201a8\"],[0.3333333333333333,\"#9c179e\"],[0.4444444444444444,\"#bd3786\"],[0.5555555555555556,\"#d8576b\"],[0.6666666666666666,\"#ed7953\"],[0.7777777777777778,\"#fb9f3a\"],[0.8888888888888888,\"#fdca26\"],[1.0,\"#f0f921\"]],\"sequentialminus\":[[0.0,\"#0d0887\"],[0.1111111111111111,\"#46039f\"],[0.2222222222222222,\"#7201a8\"],[0.3333333333333333,\"#9c179e\"],[0.4444444444444444,\"#bd3786\"],[0.5555555555555556,\"#d8576b\"],[0.6666666666666666,\"#ed7953\"],[0.7777777777777778,\"#fb9f3a\"],[0.8888888888888888,\"#fdca26\"],[1.0,\"#f0f921\"]],\"diverging\":[[0,\"#8e0152\"],[0.1,\"#c51b7d\"],[0.2,\"#de77ae\"],[0.3,\"#f1b6da\"],[0.4,\"#fde0ef\"],[0.5,\"#f7f7f7\"],[0.6,\"#e6f5d0\"],[0.7,\"#b8e186\"],[0.8,\"#7fbc41\"],[0.9,\"#4d9221\"],[1,\"#276419\"]]},\"xaxis\":{\"gridcolor\":\"white\",\"linecolor\":\"white\",\"ticks\":\"\",\"title\":{\"standoff\":15},\"zerolinecolor\":\"white\",\"automargin\":true,\"zerolinewidth\":2},\"yaxis\":{\"gridcolor\":\"white\",\"linecolor\":\"white\",\"ticks\":\"\",\"title\":{\"standoff\":15},\"zerolinecolor\":\"white\",\"automargin\":true,\"zerolinewidth\":2},\"scene\":{\"xaxis\":{\"backgroundcolor\":\"#E5ECF6\",\"gridcolor\":\"white\",\"linecolor\":\"white\",\"showbackground\":true,\"ticks\":\"\",\"zerolinecolor\":\"white\",\"gridwidth\":2},\"yaxis\":{\"backgroundcolor\":\"#E5ECF6\",\"gridcolor\":\"white\",\"linecolor\":\"white\",\"showbackground\":true,\"ticks\":\"\",\"zerolinecolor\":\"white\",\"gridwidth\":2},\"zaxis\":{\"backgroundcolor\":\"#E5ECF6\",\"gridcolor\":\"white\",\"linecolor\":\"white\",\"showbackground\":true,\"ticks\":\"\",\"zerolinecolor\":\"white\",\"gridwidth\":2}},\"shapedefaults\":{\"line\":{\"color\":\"#2a3f5f\"}},\"annotationdefaults\":{\"arrowcolor\":\"#2a3f5f\",\"arrowhead\":0,\"arrowwidth\":1},\"geo\":{\"bgcolor\":\"white\",\"landcolor\":\"#E5ECF6\",\"subunitcolor\":\"white\",\"showland\":true,\"showlakes\":true,\"lakecolor\":\"white\"},\"title\":{\"x\":0.05},\"mapbox\":{\"style\":\"light\"}}},\"xaxis\":{\"showgrid\":false,\"color\":\"white\"},\"yaxis\":{\"showgrid\":false,\"zeroline\":true,\"zerolinecolor\":\"white\",\"zerolinewidth\":3,\"showticklabels\":false,\"color\":\"white\"},\"height\":200,\"paper_bgcolor\":\"rgba(0,0,0,0)\",\"plot_bgcolor\":\"rgba(0,0,0,0)\"},                        {\"responsive\": true}                    ).then(function(){\n",
       "                            \n",
       "var gd = document.getElementById('a8111003-6708-42d1-b8f5-5bf428419f55');\n",
       "var x = new MutationObserver(function (mutations, observer) {{\n",
       "        var display = window.getComputedStyle(gd).display;\n",
       "        if (!display || display === 'none') {{\n",
       "            console.log([gd, 'removed!']);\n",
       "            Plotly.purge(gd);\n",
       "            observer.disconnect();\n",
       "        }}\n",
       "}});\n",
       "\n",
       "// Listen for the removal of the full notebook cells\n",
       "var notebookContainer = gd.closest('#notebook-container');\n",
       "if (notebookContainer) {{\n",
       "    x.observe(notebookContainer, {childList: true});\n",
       "}}\n",
       "\n",
       "// Listen for the clearing of the current output cell\n",
       "var outputEl = gd.closest('.output');\n",
       "if (outputEl) {{\n",
       "    x.observe(outputEl, {childList: true});\n",
       "}}\n",
       "\n",
       "                        })                };                });            </script>        </div>"
      ]
     },
     "metadata": {},
     "output_type": "display_data"
    }
   ],
   "source": [
    "import plotly.graph_objects as go\n",
    "fig = go.Figure()\n",
    "fig.add_trace(go.Scatter(\n",
    "    x=[58.77, 33.33, 44.72, 43.45, 59.69, 55.21, 64.75, 42.69, 69.69, 69.42, 22.35, 38.62, 37.48], y=[0,0,0,0,0,0,0,0,0,0,0,0,0], mode='markers', marker_size=20,\n",
    " showlegend=False))\n",
    "fig.add_trace(go.Scatter(\n",
    "    x=[50.3731343283582], y=[0], mode='markers', marker_size=20,\n",
    " showlegend=False))\n",
    "fig.update_xaxes(showgrid=False)\n",
    "fig.update_yaxes(showgrid=False, \n",
    "                 zeroline=True, zerolinecolor='white', zerolinewidth=3,\n",
    "                 showticklabels=False, color='white')\n",
    "fig.update_layout(height=200,paper_bgcolor='rgba(0,0,0,0)',\n",
    "    plot_bgcolor='rgba(0,0,0,0)')\n",
    "fig.layout.xaxis.color = 'white'\n",
    "fig.show()"
   ]
  },
  {
   "cell_type": "code",
   "execution_count": 36,
   "id": "9a9412b0",
   "metadata": {},
   "outputs": [
    {
     "data": {
      "application/vnd.plotly.v1+json": {
       "config": {
        "plotlyServerURL": "https://plot.ly"
       },
       "data": [
        {
         "marker": {
          "size": 20
         },
         "mode": "markers",
         "showlegend": false,
         "type": "scatter",
         "x": [
          29.11,
          22.11,
          21.65,
          24.28,
          25.69,
          22.22,
          28.54,
          20.31,
          23.23,
          28.61,
          26.66,
          34.62,
          38.49
         ],
         "y": [
          0,
          0,
          0,
          0,
          0,
          0,
          0,
          0,
          0,
          0,
          0,
          0,
          0
         ]
        },
        {
         "marker": {
          "size": 20
         },
         "mode": "markers",
         "showlegend": false,
         "type": "scatter",
         "x": [
          34.81
         ],
         "y": [
          0
         ]
        }
       ],
       "layout": {
        "height": 200,
        "paper_bgcolor": "rgba(0,0,0,0)",
        "plot_bgcolor": "rgba(0,0,0,0)",
        "template": {
         "data": {
          "bar": [
           {
            "error_x": {
             "color": "#2a3f5f"
            },
            "error_y": {
             "color": "#2a3f5f"
            },
            "marker": {
             "line": {
              "color": "#E5ECF6",
              "width": 0.5
             },
             "pattern": {
              "fillmode": "overlay",
              "size": 10,
              "solidity": 0.2
             }
            },
            "type": "bar"
           }
          ],
          "barpolar": [
           {
            "marker": {
             "line": {
              "color": "#E5ECF6",
              "width": 0.5
             },
             "pattern": {
              "fillmode": "overlay",
              "size": 10,
              "solidity": 0.2
             }
            },
            "type": "barpolar"
           }
          ],
          "carpet": [
           {
            "aaxis": {
             "endlinecolor": "#2a3f5f",
             "gridcolor": "white",
             "linecolor": "white",
             "minorgridcolor": "white",
             "startlinecolor": "#2a3f5f"
            },
            "baxis": {
             "endlinecolor": "#2a3f5f",
             "gridcolor": "white",
             "linecolor": "white",
             "minorgridcolor": "white",
             "startlinecolor": "#2a3f5f"
            },
            "type": "carpet"
           }
          ],
          "choropleth": [
           {
            "colorbar": {
             "outlinewidth": 0,
             "ticks": ""
            },
            "type": "choropleth"
           }
          ],
          "contour": [
           {
            "colorbar": {
             "outlinewidth": 0,
             "ticks": ""
            },
            "colorscale": [
             [
              0,
              "#0d0887"
             ],
             [
              0.1111111111111111,
              "#46039f"
             ],
             [
              0.2222222222222222,
              "#7201a8"
             ],
             [
              0.3333333333333333,
              "#9c179e"
             ],
             [
              0.4444444444444444,
              "#bd3786"
             ],
             [
              0.5555555555555556,
              "#d8576b"
             ],
             [
              0.6666666666666666,
              "#ed7953"
             ],
             [
              0.7777777777777778,
              "#fb9f3a"
             ],
             [
              0.8888888888888888,
              "#fdca26"
             ],
             [
              1,
              "#f0f921"
             ]
            ],
            "type": "contour"
           }
          ],
          "contourcarpet": [
           {
            "colorbar": {
             "outlinewidth": 0,
             "ticks": ""
            },
            "type": "contourcarpet"
           }
          ],
          "heatmap": [
           {
            "colorbar": {
             "outlinewidth": 0,
             "ticks": ""
            },
            "colorscale": [
             [
              0,
              "#0d0887"
             ],
             [
              0.1111111111111111,
              "#46039f"
             ],
             [
              0.2222222222222222,
              "#7201a8"
             ],
             [
              0.3333333333333333,
              "#9c179e"
             ],
             [
              0.4444444444444444,
              "#bd3786"
             ],
             [
              0.5555555555555556,
              "#d8576b"
             ],
             [
              0.6666666666666666,
              "#ed7953"
             ],
             [
              0.7777777777777778,
              "#fb9f3a"
             ],
             [
              0.8888888888888888,
              "#fdca26"
             ],
             [
              1,
              "#f0f921"
             ]
            ],
            "type": "heatmap"
           }
          ],
          "heatmapgl": [
           {
            "colorbar": {
             "outlinewidth": 0,
             "ticks": ""
            },
            "colorscale": [
             [
              0,
              "#0d0887"
             ],
             [
              0.1111111111111111,
              "#46039f"
             ],
             [
              0.2222222222222222,
              "#7201a8"
             ],
             [
              0.3333333333333333,
              "#9c179e"
             ],
             [
              0.4444444444444444,
              "#bd3786"
             ],
             [
              0.5555555555555556,
              "#d8576b"
             ],
             [
              0.6666666666666666,
              "#ed7953"
             ],
             [
              0.7777777777777778,
              "#fb9f3a"
             ],
             [
              0.8888888888888888,
              "#fdca26"
             ],
             [
              1,
              "#f0f921"
             ]
            ],
            "type": "heatmapgl"
           }
          ],
          "histogram": [
           {
            "marker": {
             "pattern": {
              "fillmode": "overlay",
              "size": 10,
              "solidity": 0.2
             }
            },
            "type": "histogram"
           }
          ],
          "histogram2d": [
           {
            "colorbar": {
             "outlinewidth": 0,
             "ticks": ""
            },
            "colorscale": [
             [
              0,
              "#0d0887"
             ],
             [
              0.1111111111111111,
              "#46039f"
             ],
             [
              0.2222222222222222,
              "#7201a8"
             ],
             [
              0.3333333333333333,
              "#9c179e"
             ],
             [
              0.4444444444444444,
              "#bd3786"
             ],
             [
              0.5555555555555556,
              "#d8576b"
             ],
             [
              0.6666666666666666,
              "#ed7953"
             ],
             [
              0.7777777777777778,
              "#fb9f3a"
             ],
             [
              0.8888888888888888,
              "#fdca26"
             ],
             [
              1,
              "#f0f921"
             ]
            ],
            "type": "histogram2d"
           }
          ],
          "histogram2dcontour": [
           {
            "colorbar": {
             "outlinewidth": 0,
             "ticks": ""
            },
            "colorscale": [
             [
              0,
              "#0d0887"
             ],
             [
              0.1111111111111111,
              "#46039f"
             ],
             [
              0.2222222222222222,
              "#7201a8"
             ],
             [
              0.3333333333333333,
              "#9c179e"
             ],
             [
              0.4444444444444444,
              "#bd3786"
             ],
             [
              0.5555555555555556,
              "#d8576b"
             ],
             [
              0.6666666666666666,
              "#ed7953"
             ],
             [
              0.7777777777777778,
              "#fb9f3a"
             ],
             [
              0.8888888888888888,
              "#fdca26"
             ],
             [
              1,
              "#f0f921"
             ]
            ],
            "type": "histogram2dcontour"
           }
          ],
          "mesh3d": [
           {
            "colorbar": {
             "outlinewidth": 0,
             "ticks": ""
            },
            "type": "mesh3d"
           }
          ],
          "parcoords": [
           {
            "line": {
             "colorbar": {
              "outlinewidth": 0,
              "ticks": ""
             }
            },
            "type": "parcoords"
           }
          ],
          "pie": [
           {
            "automargin": true,
            "type": "pie"
           }
          ],
          "scatter": [
           {
            "fillpattern": {
             "fillmode": "overlay",
             "size": 10,
             "solidity": 0.2
            },
            "type": "scatter"
           }
          ],
          "scatter3d": [
           {
            "line": {
             "colorbar": {
              "outlinewidth": 0,
              "ticks": ""
             }
            },
            "marker": {
             "colorbar": {
              "outlinewidth": 0,
              "ticks": ""
             }
            },
            "type": "scatter3d"
           }
          ],
          "scattercarpet": [
           {
            "marker": {
             "colorbar": {
              "outlinewidth": 0,
              "ticks": ""
             }
            },
            "type": "scattercarpet"
           }
          ],
          "scattergeo": [
           {
            "marker": {
             "colorbar": {
              "outlinewidth": 0,
              "ticks": ""
             }
            },
            "type": "scattergeo"
           }
          ],
          "scattergl": [
           {
            "marker": {
             "colorbar": {
              "outlinewidth": 0,
              "ticks": ""
             }
            },
            "type": "scattergl"
           }
          ],
          "scattermapbox": [
           {
            "marker": {
             "colorbar": {
              "outlinewidth": 0,
              "ticks": ""
             }
            },
            "type": "scattermapbox"
           }
          ],
          "scatterpolar": [
           {
            "marker": {
             "colorbar": {
              "outlinewidth": 0,
              "ticks": ""
             }
            },
            "type": "scatterpolar"
           }
          ],
          "scatterpolargl": [
           {
            "marker": {
             "colorbar": {
              "outlinewidth": 0,
              "ticks": ""
             }
            },
            "type": "scatterpolargl"
           }
          ],
          "scatterternary": [
           {
            "marker": {
             "colorbar": {
              "outlinewidth": 0,
              "ticks": ""
             }
            },
            "type": "scatterternary"
           }
          ],
          "surface": [
           {
            "colorbar": {
             "outlinewidth": 0,
             "ticks": ""
            },
            "colorscale": [
             [
              0,
              "#0d0887"
             ],
             [
              0.1111111111111111,
              "#46039f"
             ],
             [
              0.2222222222222222,
              "#7201a8"
             ],
             [
              0.3333333333333333,
              "#9c179e"
             ],
             [
              0.4444444444444444,
              "#bd3786"
             ],
             [
              0.5555555555555556,
              "#d8576b"
             ],
             [
              0.6666666666666666,
              "#ed7953"
             ],
             [
              0.7777777777777778,
              "#fb9f3a"
             ],
             [
              0.8888888888888888,
              "#fdca26"
             ],
             [
              1,
              "#f0f921"
             ]
            ],
            "type": "surface"
           }
          ],
          "table": [
           {
            "cells": {
             "fill": {
              "color": "#EBF0F8"
             },
             "line": {
              "color": "white"
             }
            },
            "header": {
             "fill": {
              "color": "#C8D4E3"
             },
             "line": {
              "color": "white"
             }
            },
            "type": "table"
           }
          ]
         },
         "layout": {
          "annotationdefaults": {
           "arrowcolor": "#2a3f5f",
           "arrowhead": 0,
           "arrowwidth": 1
          },
          "autotypenumbers": "strict",
          "coloraxis": {
           "colorbar": {
            "outlinewidth": 0,
            "ticks": ""
           }
          },
          "colorscale": {
           "diverging": [
            [
             0,
             "#8e0152"
            ],
            [
             0.1,
             "#c51b7d"
            ],
            [
             0.2,
             "#de77ae"
            ],
            [
             0.3,
             "#f1b6da"
            ],
            [
             0.4,
             "#fde0ef"
            ],
            [
             0.5,
             "#f7f7f7"
            ],
            [
             0.6,
             "#e6f5d0"
            ],
            [
             0.7,
             "#b8e186"
            ],
            [
             0.8,
             "#7fbc41"
            ],
            [
             0.9,
             "#4d9221"
            ],
            [
             1,
             "#276419"
            ]
           ],
           "sequential": [
            [
             0,
             "#0d0887"
            ],
            [
             0.1111111111111111,
             "#46039f"
            ],
            [
             0.2222222222222222,
             "#7201a8"
            ],
            [
             0.3333333333333333,
             "#9c179e"
            ],
            [
             0.4444444444444444,
             "#bd3786"
            ],
            [
             0.5555555555555556,
             "#d8576b"
            ],
            [
             0.6666666666666666,
             "#ed7953"
            ],
            [
             0.7777777777777778,
             "#fb9f3a"
            ],
            [
             0.8888888888888888,
             "#fdca26"
            ],
            [
             1,
             "#f0f921"
            ]
           ],
           "sequentialminus": [
            [
             0,
             "#0d0887"
            ],
            [
             0.1111111111111111,
             "#46039f"
            ],
            [
             0.2222222222222222,
             "#7201a8"
            ],
            [
             0.3333333333333333,
             "#9c179e"
            ],
            [
             0.4444444444444444,
             "#bd3786"
            ],
            [
             0.5555555555555556,
             "#d8576b"
            ],
            [
             0.6666666666666666,
             "#ed7953"
            ],
            [
             0.7777777777777778,
             "#fb9f3a"
            ],
            [
             0.8888888888888888,
             "#fdca26"
            ],
            [
             1,
             "#f0f921"
            ]
           ]
          },
          "colorway": [
           "#636efa",
           "#EF553B",
           "#00cc96",
           "#ab63fa",
           "#FFA15A",
           "#19d3f3",
           "#FF6692",
           "#B6E880",
           "#FF97FF",
           "#FECB52"
          ],
          "font": {
           "color": "#2a3f5f"
          },
          "geo": {
           "bgcolor": "white",
           "lakecolor": "white",
           "landcolor": "#E5ECF6",
           "showlakes": true,
           "showland": true,
           "subunitcolor": "white"
          },
          "hoverlabel": {
           "align": "left"
          },
          "hovermode": "closest",
          "mapbox": {
           "style": "light"
          },
          "paper_bgcolor": "white",
          "plot_bgcolor": "#E5ECF6",
          "polar": {
           "angularaxis": {
            "gridcolor": "white",
            "linecolor": "white",
            "ticks": ""
           },
           "bgcolor": "#E5ECF6",
           "radialaxis": {
            "gridcolor": "white",
            "linecolor": "white",
            "ticks": ""
           }
          },
          "scene": {
           "xaxis": {
            "backgroundcolor": "#E5ECF6",
            "gridcolor": "white",
            "gridwidth": 2,
            "linecolor": "white",
            "showbackground": true,
            "ticks": "",
            "zerolinecolor": "white"
           },
           "yaxis": {
            "backgroundcolor": "#E5ECF6",
            "gridcolor": "white",
            "gridwidth": 2,
            "linecolor": "white",
            "showbackground": true,
            "ticks": "",
            "zerolinecolor": "white"
           },
           "zaxis": {
            "backgroundcolor": "#E5ECF6",
            "gridcolor": "white",
            "gridwidth": 2,
            "linecolor": "white",
            "showbackground": true,
            "ticks": "",
            "zerolinecolor": "white"
           }
          },
          "shapedefaults": {
           "line": {
            "color": "#2a3f5f"
           }
          },
          "ternary": {
           "aaxis": {
            "gridcolor": "white",
            "linecolor": "white",
            "ticks": ""
           },
           "baxis": {
            "gridcolor": "white",
            "linecolor": "white",
            "ticks": ""
           },
           "bgcolor": "#E5ECF6",
           "caxis": {
            "gridcolor": "white",
            "linecolor": "white",
            "ticks": ""
           }
          },
          "title": {
           "x": 0.05
          },
          "xaxis": {
           "automargin": true,
           "gridcolor": "white",
           "linecolor": "white",
           "ticks": "",
           "title": {
            "standoff": 15
           },
           "zerolinecolor": "white",
           "zerolinewidth": 2
          },
          "yaxis": {
           "automargin": true,
           "gridcolor": "white",
           "linecolor": "white",
           "ticks": "",
           "title": {
            "standoff": 15
           },
           "zerolinecolor": "white",
           "zerolinewidth": 2
          }
         }
        },
        "xaxis": {
         "color": "white",
         "showgrid": false
        },
        "yaxis": {
         "color": "white",
         "showgrid": false,
         "showticklabels": false,
         "zeroline": true,
         "zerolinecolor": "white",
         "zerolinewidth": 3
        }
       }
      },
      "text/html": [
       "<div>                            <div id=\"49230c86-fc4d-4ac8-9eac-af3c4c59c4fc\" class=\"plotly-graph-div\" style=\"height:200px; width:100%;\"></div>            <script type=\"text/javascript\">                require([\"plotly\"], function(Plotly) {                    window.PLOTLYENV=window.PLOTLYENV || {};                                    if (document.getElementById(\"49230c86-fc4d-4ac8-9eac-af3c4c59c4fc\")) {                    Plotly.newPlot(                        \"49230c86-fc4d-4ac8-9eac-af3c4c59c4fc\",                        [{\"marker\":{\"size\":20},\"mode\":\"markers\",\"showlegend\":false,\"x\":[29.11,22.11,21.65,24.28,25.69,22.22,28.54,20.31,23.23,28.61,26.66,34.62,38.49],\"y\":[0,0,0,0,0,0,0,0,0,0,0,0,0],\"type\":\"scatter\"},{\"marker\":{\"size\":20},\"mode\":\"markers\",\"showlegend\":false,\"x\":[34.81],\"y\":[0],\"type\":\"scatter\"}],                        {\"template\":{\"data\":{\"histogram2dcontour\":[{\"type\":\"histogram2dcontour\",\"colorbar\":{\"outlinewidth\":0,\"ticks\":\"\"},\"colorscale\":[[0.0,\"#0d0887\"],[0.1111111111111111,\"#46039f\"],[0.2222222222222222,\"#7201a8\"],[0.3333333333333333,\"#9c179e\"],[0.4444444444444444,\"#bd3786\"],[0.5555555555555556,\"#d8576b\"],[0.6666666666666666,\"#ed7953\"],[0.7777777777777778,\"#fb9f3a\"],[0.8888888888888888,\"#fdca26\"],[1.0,\"#f0f921\"]]}],\"choropleth\":[{\"type\":\"choropleth\",\"colorbar\":{\"outlinewidth\":0,\"ticks\":\"\"}}],\"histogram2d\":[{\"type\":\"histogram2d\",\"colorbar\":{\"outlinewidth\":0,\"ticks\":\"\"},\"colorscale\":[[0.0,\"#0d0887\"],[0.1111111111111111,\"#46039f\"],[0.2222222222222222,\"#7201a8\"],[0.3333333333333333,\"#9c179e\"],[0.4444444444444444,\"#bd3786\"],[0.5555555555555556,\"#d8576b\"],[0.6666666666666666,\"#ed7953\"],[0.7777777777777778,\"#fb9f3a\"],[0.8888888888888888,\"#fdca26\"],[1.0,\"#f0f921\"]]}],\"heatmap\":[{\"type\":\"heatmap\",\"colorbar\":{\"outlinewidth\":0,\"ticks\":\"\"},\"colorscale\":[[0.0,\"#0d0887\"],[0.1111111111111111,\"#46039f\"],[0.2222222222222222,\"#7201a8\"],[0.3333333333333333,\"#9c179e\"],[0.4444444444444444,\"#bd3786\"],[0.5555555555555556,\"#d8576b\"],[0.6666666666666666,\"#ed7953\"],[0.7777777777777778,\"#fb9f3a\"],[0.8888888888888888,\"#fdca26\"],[1.0,\"#f0f921\"]]}],\"heatmapgl\":[{\"type\":\"heatmapgl\",\"colorbar\":{\"outlinewidth\":0,\"ticks\":\"\"},\"colorscale\":[[0.0,\"#0d0887\"],[0.1111111111111111,\"#46039f\"],[0.2222222222222222,\"#7201a8\"],[0.3333333333333333,\"#9c179e\"],[0.4444444444444444,\"#bd3786\"],[0.5555555555555556,\"#d8576b\"],[0.6666666666666666,\"#ed7953\"],[0.7777777777777778,\"#fb9f3a\"],[0.8888888888888888,\"#fdca26\"],[1.0,\"#f0f921\"]]}],\"contourcarpet\":[{\"type\":\"contourcarpet\",\"colorbar\":{\"outlinewidth\":0,\"ticks\":\"\"}}],\"contour\":[{\"type\":\"contour\",\"colorbar\":{\"outlinewidth\":0,\"ticks\":\"\"},\"colorscale\":[[0.0,\"#0d0887\"],[0.1111111111111111,\"#46039f\"],[0.2222222222222222,\"#7201a8\"],[0.3333333333333333,\"#9c179e\"],[0.4444444444444444,\"#bd3786\"],[0.5555555555555556,\"#d8576b\"],[0.6666666666666666,\"#ed7953\"],[0.7777777777777778,\"#fb9f3a\"],[0.8888888888888888,\"#fdca26\"],[1.0,\"#f0f921\"]]}],\"surface\":[{\"type\":\"surface\",\"colorbar\":{\"outlinewidth\":0,\"ticks\":\"\"},\"colorscale\":[[0.0,\"#0d0887\"],[0.1111111111111111,\"#46039f\"],[0.2222222222222222,\"#7201a8\"],[0.3333333333333333,\"#9c179e\"],[0.4444444444444444,\"#bd3786\"],[0.5555555555555556,\"#d8576b\"],[0.6666666666666666,\"#ed7953\"],[0.7777777777777778,\"#fb9f3a\"],[0.8888888888888888,\"#fdca26\"],[1.0,\"#f0f921\"]]}],\"mesh3d\":[{\"type\":\"mesh3d\",\"colorbar\":{\"outlinewidth\":0,\"ticks\":\"\"}}],\"scatter\":[{\"fillpattern\":{\"fillmode\":\"overlay\",\"size\":10,\"solidity\":0.2},\"type\":\"scatter\"}],\"parcoords\":[{\"type\":\"parcoords\",\"line\":{\"colorbar\":{\"outlinewidth\":0,\"ticks\":\"\"}}}],\"scatterpolargl\":[{\"type\":\"scatterpolargl\",\"marker\":{\"colorbar\":{\"outlinewidth\":0,\"ticks\":\"\"}}}],\"bar\":[{\"error_x\":{\"color\":\"#2a3f5f\"},\"error_y\":{\"color\":\"#2a3f5f\"},\"marker\":{\"line\":{\"color\":\"#E5ECF6\",\"width\":0.5},\"pattern\":{\"fillmode\":\"overlay\",\"size\":10,\"solidity\":0.2}},\"type\":\"bar\"}],\"scattergeo\":[{\"type\":\"scattergeo\",\"marker\":{\"colorbar\":{\"outlinewidth\":0,\"ticks\":\"\"}}}],\"scatterpolar\":[{\"type\":\"scatterpolar\",\"marker\":{\"colorbar\":{\"outlinewidth\":0,\"ticks\":\"\"}}}],\"histogram\":[{\"marker\":{\"pattern\":{\"fillmode\":\"overlay\",\"size\":10,\"solidity\":0.2}},\"type\":\"histogram\"}],\"scattergl\":[{\"type\":\"scattergl\",\"marker\":{\"colorbar\":{\"outlinewidth\":0,\"ticks\":\"\"}}}],\"scatter3d\":[{\"type\":\"scatter3d\",\"line\":{\"colorbar\":{\"outlinewidth\":0,\"ticks\":\"\"}},\"marker\":{\"colorbar\":{\"outlinewidth\":0,\"ticks\":\"\"}}}],\"scattermapbox\":[{\"type\":\"scattermapbox\",\"marker\":{\"colorbar\":{\"outlinewidth\":0,\"ticks\":\"\"}}}],\"scatterternary\":[{\"type\":\"scatterternary\",\"marker\":{\"colorbar\":{\"outlinewidth\":0,\"ticks\":\"\"}}}],\"scattercarpet\":[{\"type\":\"scattercarpet\",\"marker\":{\"colorbar\":{\"outlinewidth\":0,\"ticks\":\"\"}}}],\"carpet\":[{\"aaxis\":{\"endlinecolor\":\"#2a3f5f\",\"gridcolor\":\"white\",\"linecolor\":\"white\",\"minorgridcolor\":\"white\",\"startlinecolor\":\"#2a3f5f\"},\"baxis\":{\"endlinecolor\":\"#2a3f5f\",\"gridcolor\":\"white\",\"linecolor\":\"white\",\"minorgridcolor\":\"white\",\"startlinecolor\":\"#2a3f5f\"},\"type\":\"carpet\"}],\"table\":[{\"cells\":{\"fill\":{\"color\":\"#EBF0F8\"},\"line\":{\"color\":\"white\"}},\"header\":{\"fill\":{\"color\":\"#C8D4E3\"},\"line\":{\"color\":\"white\"}},\"type\":\"table\"}],\"barpolar\":[{\"marker\":{\"line\":{\"color\":\"#E5ECF6\",\"width\":0.5},\"pattern\":{\"fillmode\":\"overlay\",\"size\":10,\"solidity\":0.2}},\"type\":\"barpolar\"}],\"pie\":[{\"automargin\":true,\"type\":\"pie\"}]},\"layout\":{\"autotypenumbers\":\"strict\",\"colorway\":[\"#636efa\",\"#EF553B\",\"#00cc96\",\"#ab63fa\",\"#FFA15A\",\"#19d3f3\",\"#FF6692\",\"#B6E880\",\"#FF97FF\",\"#FECB52\"],\"font\":{\"color\":\"#2a3f5f\"},\"hovermode\":\"closest\",\"hoverlabel\":{\"align\":\"left\"},\"paper_bgcolor\":\"white\",\"plot_bgcolor\":\"#E5ECF6\",\"polar\":{\"bgcolor\":\"#E5ECF6\",\"angularaxis\":{\"gridcolor\":\"white\",\"linecolor\":\"white\",\"ticks\":\"\"},\"radialaxis\":{\"gridcolor\":\"white\",\"linecolor\":\"white\",\"ticks\":\"\"}},\"ternary\":{\"bgcolor\":\"#E5ECF6\",\"aaxis\":{\"gridcolor\":\"white\",\"linecolor\":\"white\",\"ticks\":\"\"},\"baxis\":{\"gridcolor\":\"white\",\"linecolor\":\"white\",\"ticks\":\"\"},\"caxis\":{\"gridcolor\":\"white\",\"linecolor\":\"white\",\"ticks\":\"\"}},\"coloraxis\":{\"colorbar\":{\"outlinewidth\":0,\"ticks\":\"\"}},\"colorscale\":{\"sequential\":[[0.0,\"#0d0887\"],[0.1111111111111111,\"#46039f\"],[0.2222222222222222,\"#7201a8\"],[0.3333333333333333,\"#9c179e\"],[0.4444444444444444,\"#bd3786\"],[0.5555555555555556,\"#d8576b\"],[0.6666666666666666,\"#ed7953\"],[0.7777777777777778,\"#fb9f3a\"],[0.8888888888888888,\"#fdca26\"],[1.0,\"#f0f921\"]],\"sequentialminus\":[[0.0,\"#0d0887\"],[0.1111111111111111,\"#46039f\"],[0.2222222222222222,\"#7201a8\"],[0.3333333333333333,\"#9c179e\"],[0.4444444444444444,\"#bd3786\"],[0.5555555555555556,\"#d8576b\"],[0.6666666666666666,\"#ed7953\"],[0.7777777777777778,\"#fb9f3a\"],[0.8888888888888888,\"#fdca26\"],[1.0,\"#f0f921\"]],\"diverging\":[[0,\"#8e0152\"],[0.1,\"#c51b7d\"],[0.2,\"#de77ae\"],[0.3,\"#f1b6da\"],[0.4,\"#fde0ef\"],[0.5,\"#f7f7f7\"],[0.6,\"#e6f5d0\"],[0.7,\"#b8e186\"],[0.8,\"#7fbc41\"],[0.9,\"#4d9221\"],[1,\"#276419\"]]},\"xaxis\":{\"gridcolor\":\"white\",\"linecolor\":\"white\",\"ticks\":\"\",\"title\":{\"standoff\":15},\"zerolinecolor\":\"white\",\"automargin\":true,\"zerolinewidth\":2},\"yaxis\":{\"gridcolor\":\"white\",\"linecolor\":\"white\",\"ticks\":\"\",\"title\":{\"standoff\":15},\"zerolinecolor\":\"white\",\"automargin\":true,\"zerolinewidth\":2},\"scene\":{\"xaxis\":{\"backgroundcolor\":\"#E5ECF6\",\"gridcolor\":\"white\",\"linecolor\":\"white\",\"showbackground\":true,\"ticks\":\"\",\"zerolinecolor\":\"white\",\"gridwidth\":2},\"yaxis\":{\"backgroundcolor\":\"#E5ECF6\",\"gridcolor\":\"white\",\"linecolor\":\"white\",\"showbackground\":true,\"ticks\":\"\",\"zerolinecolor\":\"white\",\"gridwidth\":2},\"zaxis\":{\"backgroundcolor\":\"#E5ECF6\",\"gridcolor\":\"white\",\"linecolor\":\"white\",\"showbackground\":true,\"ticks\":\"\",\"zerolinecolor\":\"white\",\"gridwidth\":2}},\"shapedefaults\":{\"line\":{\"color\":\"#2a3f5f\"}},\"annotationdefaults\":{\"arrowcolor\":\"#2a3f5f\",\"arrowhead\":0,\"arrowwidth\":1},\"geo\":{\"bgcolor\":\"white\",\"landcolor\":\"#E5ECF6\",\"subunitcolor\":\"white\",\"showland\":true,\"showlakes\":true,\"lakecolor\":\"white\"},\"title\":{\"x\":0.05},\"mapbox\":{\"style\":\"light\"}}},\"xaxis\":{\"showgrid\":false,\"color\":\"white\"},\"yaxis\":{\"showgrid\":false,\"zeroline\":true,\"zerolinecolor\":\"white\",\"zerolinewidth\":3,\"showticklabels\":false,\"color\":\"white\"},\"height\":200,\"paper_bgcolor\":\"rgba(0,0,0,0)\",\"plot_bgcolor\":\"rgba(0,0,0,0)\"},                        {\"responsive\": true}                    ).then(function(){\n",
       "                            \n",
       "var gd = document.getElementById('49230c86-fc4d-4ac8-9eac-af3c4c59c4fc');\n",
       "var x = new MutationObserver(function (mutations, observer) {{\n",
       "        var display = window.getComputedStyle(gd).display;\n",
       "        if (!display || display === 'none') {{\n",
       "            console.log([gd, 'removed!']);\n",
       "            Plotly.purge(gd);\n",
       "            observer.disconnect();\n",
       "        }}\n",
       "}});\n",
       "\n",
       "// Listen for the removal of the full notebook cells\n",
       "var notebookContainer = gd.closest('#notebook-container');\n",
       "if (notebookContainer) {{\n",
       "    x.observe(notebookContainer, {childList: true});\n",
       "}}\n",
       "\n",
       "// Listen for the clearing of the current output cell\n",
       "var outputEl = gd.closest('.output');\n",
       "if (outputEl) {{\n",
       "    x.observe(outputEl, {childList: true});\n",
       "}}\n",
       "\n",
       "                        })                };                });            </script>        </div>"
      ]
     },
     "metadata": {},
     "output_type": "display_data"
    }
   ],
   "source": [
    "import plotly.graph_objects as go\n",
    "fig = go.Figure()\n",
    "fig.add_trace(go.Scatter(\n",
    "    x=[29.11, 22.11, 21.65, 24.28, 25.69, 22.22, 28.54, 20.31, 23.23, 28.61, 26.66, 34.62, 38.49], y=[0,0,0,0,0,0,0,0,0,0,0,0,0], mode='markers', marker_size=20,\n",
    " showlegend=False))\n",
    "fig.add_trace(go.Scatter(\n",
    "    x=[34.81], y=[0], mode='markers', marker_size=20,\n",
    " showlegend=False))\n",
    "fig.update_xaxes(showgrid=False)\n",
    "fig.update_yaxes(showgrid=False, \n",
    "                 zeroline=True, zerolinecolor='white', zerolinewidth=3,\n",
    "                 showticklabels=False, color='white')\n",
    "fig.update_layout(height=200,paper_bgcolor='rgba(0,0,0,0)',\n",
    "    plot_bgcolor='rgba(0,0,0,0)')\n",
    "fig.layout.xaxis.color = 'white'\n",
    "fig.show()"
   ]
  },
  {
   "cell_type": "code",
   "execution_count": 38,
   "id": "5fbc6fe0",
   "metadata": {},
   "outputs": [
    {
     "data": {
      "application/vnd.plotly.v1+json": {
       "config": {
        "plotlyServerURL": "https://plot.ly"
       },
       "data": [
        {
         "marker": {
          "size": 20
         },
         "mode": "markers",
         "showlegend": false,
         "type": "scatter",
         "x": [
          5.61,
          5.43,
          5.36,
          5.52,
          5.69,
          5.23,
          5.71,
          5.69,
          4.27,
          5.86,
          3.02,
          5.62,
          4.21
         ],
         "y": [
          0,
          0,
          0,
          0,
          0,
          0,
          0,
          0,
          0,
          0,
          0,
          0,
          0
         ]
        },
        {
         "marker": {
          "size": 20
         },
         "mode": "markers",
         "showlegend": false,
         "type": "scatter",
         "x": [
          5.5
         ],
         "y": [
          0
         ]
        }
       ],
       "layout": {
        "height": 200,
        "paper_bgcolor": "rgba(0,0,0,0)",
        "plot_bgcolor": "rgba(0,0,0,0)",
        "template": {
         "data": {
          "bar": [
           {
            "error_x": {
             "color": "#2a3f5f"
            },
            "error_y": {
             "color": "#2a3f5f"
            },
            "marker": {
             "line": {
              "color": "#E5ECF6",
              "width": 0.5
             },
             "pattern": {
              "fillmode": "overlay",
              "size": 10,
              "solidity": 0.2
             }
            },
            "type": "bar"
           }
          ],
          "barpolar": [
           {
            "marker": {
             "line": {
              "color": "#E5ECF6",
              "width": 0.5
             },
             "pattern": {
              "fillmode": "overlay",
              "size": 10,
              "solidity": 0.2
             }
            },
            "type": "barpolar"
           }
          ],
          "carpet": [
           {
            "aaxis": {
             "endlinecolor": "#2a3f5f",
             "gridcolor": "white",
             "linecolor": "white",
             "minorgridcolor": "white",
             "startlinecolor": "#2a3f5f"
            },
            "baxis": {
             "endlinecolor": "#2a3f5f",
             "gridcolor": "white",
             "linecolor": "white",
             "minorgridcolor": "white",
             "startlinecolor": "#2a3f5f"
            },
            "type": "carpet"
           }
          ],
          "choropleth": [
           {
            "colorbar": {
             "outlinewidth": 0,
             "ticks": ""
            },
            "type": "choropleth"
           }
          ],
          "contour": [
           {
            "colorbar": {
             "outlinewidth": 0,
             "ticks": ""
            },
            "colorscale": [
             [
              0,
              "#0d0887"
             ],
             [
              0.1111111111111111,
              "#46039f"
             ],
             [
              0.2222222222222222,
              "#7201a8"
             ],
             [
              0.3333333333333333,
              "#9c179e"
             ],
             [
              0.4444444444444444,
              "#bd3786"
             ],
             [
              0.5555555555555556,
              "#d8576b"
             ],
             [
              0.6666666666666666,
              "#ed7953"
             ],
             [
              0.7777777777777778,
              "#fb9f3a"
             ],
             [
              0.8888888888888888,
              "#fdca26"
             ],
             [
              1,
              "#f0f921"
             ]
            ],
            "type": "contour"
           }
          ],
          "contourcarpet": [
           {
            "colorbar": {
             "outlinewidth": 0,
             "ticks": ""
            },
            "type": "contourcarpet"
           }
          ],
          "heatmap": [
           {
            "colorbar": {
             "outlinewidth": 0,
             "ticks": ""
            },
            "colorscale": [
             [
              0,
              "#0d0887"
             ],
             [
              0.1111111111111111,
              "#46039f"
             ],
             [
              0.2222222222222222,
              "#7201a8"
             ],
             [
              0.3333333333333333,
              "#9c179e"
             ],
             [
              0.4444444444444444,
              "#bd3786"
             ],
             [
              0.5555555555555556,
              "#d8576b"
             ],
             [
              0.6666666666666666,
              "#ed7953"
             ],
             [
              0.7777777777777778,
              "#fb9f3a"
             ],
             [
              0.8888888888888888,
              "#fdca26"
             ],
             [
              1,
              "#f0f921"
             ]
            ],
            "type": "heatmap"
           }
          ],
          "heatmapgl": [
           {
            "colorbar": {
             "outlinewidth": 0,
             "ticks": ""
            },
            "colorscale": [
             [
              0,
              "#0d0887"
             ],
             [
              0.1111111111111111,
              "#46039f"
             ],
             [
              0.2222222222222222,
              "#7201a8"
             ],
             [
              0.3333333333333333,
              "#9c179e"
             ],
             [
              0.4444444444444444,
              "#bd3786"
             ],
             [
              0.5555555555555556,
              "#d8576b"
             ],
             [
              0.6666666666666666,
              "#ed7953"
             ],
             [
              0.7777777777777778,
              "#fb9f3a"
             ],
             [
              0.8888888888888888,
              "#fdca26"
             ],
             [
              1,
              "#f0f921"
             ]
            ],
            "type": "heatmapgl"
           }
          ],
          "histogram": [
           {
            "marker": {
             "pattern": {
              "fillmode": "overlay",
              "size": 10,
              "solidity": 0.2
             }
            },
            "type": "histogram"
           }
          ],
          "histogram2d": [
           {
            "colorbar": {
             "outlinewidth": 0,
             "ticks": ""
            },
            "colorscale": [
             [
              0,
              "#0d0887"
             ],
             [
              0.1111111111111111,
              "#46039f"
             ],
             [
              0.2222222222222222,
              "#7201a8"
             ],
             [
              0.3333333333333333,
              "#9c179e"
             ],
             [
              0.4444444444444444,
              "#bd3786"
             ],
             [
              0.5555555555555556,
              "#d8576b"
             ],
             [
              0.6666666666666666,
              "#ed7953"
             ],
             [
              0.7777777777777778,
              "#fb9f3a"
             ],
             [
              0.8888888888888888,
              "#fdca26"
             ],
             [
              1,
              "#f0f921"
             ]
            ],
            "type": "histogram2d"
           }
          ],
          "histogram2dcontour": [
           {
            "colorbar": {
             "outlinewidth": 0,
             "ticks": ""
            },
            "colorscale": [
             [
              0,
              "#0d0887"
             ],
             [
              0.1111111111111111,
              "#46039f"
             ],
             [
              0.2222222222222222,
              "#7201a8"
             ],
             [
              0.3333333333333333,
              "#9c179e"
             ],
             [
              0.4444444444444444,
              "#bd3786"
             ],
             [
              0.5555555555555556,
              "#d8576b"
             ],
             [
              0.6666666666666666,
              "#ed7953"
             ],
             [
              0.7777777777777778,
              "#fb9f3a"
             ],
             [
              0.8888888888888888,
              "#fdca26"
             ],
             [
              1,
              "#f0f921"
             ]
            ],
            "type": "histogram2dcontour"
           }
          ],
          "mesh3d": [
           {
            "colorbar": {
             "outlinewidth": 0,
             "ticks": ""
            },
            "type": "mesh3d"
           }
          ],
          "parcoords": [
           {
            "line": {
             "colorbar": {
              "outlinewidth": 0,
              "ticks": ""
             }
            },
            "type": "parcoords"
           }
          ],
          "pie": [
           {
            "automargin": true,
            "type": "pie"
           }
          ],
          "scatter": [
           {
            "fillpattern": {
             "fillmode": "overlay",
             "size": 10,
             "solidity": 0.2
            },
            "type": "scatter"
           }
          ],
          "scatter3d": [
           {
            "line": {
             "colorbar": {
              "outlinewidth": 0,
              "ticks": ""
             }
            },
            "marker": {
             "colorbar": {
              "outlinewidth": 0,
              "ticks": ""
             }
            },
            "type": "scatter3d"
           }
          ],
          "scattercarpet": [
           {
            "marker": {
             "colorbar": {
              "outlinewidth": 0,
              "ticks": ""
             }
            },
            "type": "scattercarpet"
           }
          ],
          "scattergeo": [
           {
            "marker": {
             "colorbar": {
              "outlinewidth": 0,
              "ticks": ""
             }
            },
            "type": "scattergeo"
           }
          ],
          "scattergl": [
           {
            "marker": {
             "colorbar": {
              "outlinewidth": 0,
              "ticks": ""
             }
            },
            "type": "scattergl"
           }
          ],
          "scattermapbox": [
           {
            "marker": {
             "colorbar": {
              "outlinewidth": 0,
              "ticks": ""
             }
            },
            "type": "scattermapbox"
           }
          ],
          "scatterpolar": [
           {
            "marker": {
             "colorbar": {
              "outlinewidth": 0,
              "ticks": ""
             }
            },
            "type": "scatterpolar"
           }
          ],
          "scatterpolargl": [
           {
            "marker": {
             "colorbar": {
              "outlinewidth": 0,
              "ticks": ""
             }
            },
            "type": "scatterpolargl"
           }
          ],
          "scatterternary": [
           {
            "marker": {
             "colorbar": {
              "outlinewidth": 0,
              "ticks": ""
             }
            },
            "type": "scatterternary"
           }
          ],
          "surface": [
           {
            "colorbar": {
             "outlinewidth": 0,
             "ticks": ""
            },
            "colorscale": [
             [
              0,
              "#0d0887"
             ],
             [
              0.1111111111111111,
              "#46039f"
             ],
             [
              0.2222222222222222,
              "#7201a8"
             ],
             [
              0.3333333333333333,
              "#9c179e"
             ],
             [
              0.4444444444444444,
              "#bd3786"
             ],
             [
              0.5555555555555556,
              "#d8576b"
             ],
             [
              0.6666666666666666,
              "#ed7953"
             ],
             [
              0.7777777777777778,
              "#fb9f3a"
             ],
             [
              0.8888888888888888,
              "#fdca26"
             ],
             [
              1,
              "#f0f921"
             ]
            ],
            "type": "surface"
           }
          ],
          "table": [
           {
            "cells": {
             "fill": {
              "color": "#EBF0F8"
             },
             "line": {
              "color": "white"
             }
            },
            "header": {
             "fill": {
              "color": "#C8D4E3"
             },
             "line": {
              "color": "white"
             }
            },
            "type": "table"
           }
          ]
         },
         "layout": {
          "annotationdefaults": {
           "arrowcolor": "#2a3f5f",
           "arrowhead": 0,
           "arrowwidth": 1
          },
          "autotypenumbers": "strict",
          "coloraxis": {
           "colorbar": {
            "outlinewidth": 0,
            "ticks": ""
           }
          },
          "colorscale": {
           "diverging": [
            [
             0,
             "#8e0152"
            ],
            [
             0.1,
             "#c51b7d"
            ],
            [
             0.2,
             "#de77ae"
            ],
            [
             0.3,
             "#f1b6da"
            ],
            [
             0.4,
             "#fde0ef"
            ],
            [
             0.5,
             "#f7f7f7"
            ],
            [
             0.6,
             "#e6f5d0"
            ],
            [
             0.7,
             "#b8e186"
            ],
            [
             0.8,
             "#7fbc41"
            ],
            [
             0.9,
             "#4d9221"
            ],
            [
             1,
             "#276419"
            ]
           ],
           "sequential": [
            [
             0,
             "#0d0887"
            ],
            [
             0.1111111111111111,
             "#46039f"
            ],
            [
             0.2222222222222222,
             "#7201a8"
            ],
            [
             0.3333333333333333,
             "#9c179e"
            ],
            [
             0.4444444444444444,
             "#bd3786"
            ],
            [
             0.5555555555555556,
             "#d8576b"
            ],
            [
             0.6666666666666666,
             "#ed7953"
            ],
            [
             0.7777777777777778,
             "#fb9f3a"
            ],
            [
             0.8888888888888888,
             "#fdca26"
            ],
            [
             1,
             "#f0f921"
            ]
           ],
           "sequentialminus": [
            [
             0,
             "#0d0887"
            ],
            [
             0.1111111111111111,
             "#46039f"
            ],
            [
             0.2222222222222222,
             "#7201a8"
            ],
            [
             0.3333333333333333,
             "#9c179e"
            ],
            [
             0.4444444444444444,
             "#bd3786"
            ],
            [
             0.5555555555555556,
             "#d8576b"
            ],
            [
             0.6666666666666666,
             "#ed7953"
            ],
            [
             0.7777777777777778,
             "#fb9f3a"
            ],
            [
             0.8888888888888888,
             "#fdca26"
            ],
            [
             1,
             "#f0f921"
            ]
           ]
          },
          "colorway": [
           "#636efa",
           "#EF553B",
           "#00cc96",
           "#ab63fa",
           "#FFA15A",
           "#19d3f3",
           "#FF6692",
           "#B6E880",
           "#FF97FF",
           "#FECB52"
          ],
          "font": {
           "color": "#2a3f5f"
          },
          "geo": {
           "bgcolor": "white",
           "lakecolor": "white",
           "landcolor": "#E5ECF6",
           "showlakes": true,
           "showland": true,
           "subunitcolor": "white"
          },
          "hoverlabel": {
           "align": "left"
          },
          "hovermode": "closest",
          "mapbox": {
           "style": "light"
          },
          "paper_bgcolor": "white",
          "plot_bgcolor": "#E5ECF6",
          "polar": {
           "angularaxis": {
            "gridcolor": "white",
            "linecolor": "white",
            "ticks": ""
           },
           "bgcolor": "#E5ECF6",
           "radialaxis": {
            "gridcolor": "white",
            "linecolor": "white",
            "ticks": ""
           }
          },
          "scene": {
           "xaxis": {
            "backgroundcolor": "#E5ECF6",
            "gridcolor": "white",
            "gridwidth": 2,
            "linecolor": "white",
            "showbackground": true,
            "ticks": "",
            "zerolinecolor": "white"
           },
           "yaxis": {
            "backgroundcolor": "#E5ECF6",
            "gridcolor": "white",
            "gridwidth": 2,
            "linecolor": "white",
            "showbackground": true,
            "ticks": "",
            "zerolinecolor": "white"
           },
           "zaxis": {
            "backgroundcolor": "#E5ECF6",
            "gridcolor": "white",
            "gridwidth": 2,
            "linecolor": "white",
            "showbackground": true,
            "ticks": "",
            "zerolinecolor": "white"
           }
          },
          "shapedefaults": {
           "line": {
            "color": "#2a3f5f"
           }
          },
          "ternary": {
           "aaxis": {
            "gridcolor": "white",
            "linecolor": "white",
            "ticks": ""
           },
           "baxis": {
            "gridcolor": "white",
            "linecolor": "white",
            "ticks": ""
           },
           "bgcolor": "#E5ECF6",
           "caxis": {
            "gridcolor": "white",
            "linecolor": "white",
            "ticks": ""
           }
          },
          "title": {
           "x": 0.05
          },
          "xaxis": {
           "automargin": true,
           "gridcolor": "white",
           "linecolor": "white",
           "ticks": "",
           "title": {
            "standoff": 15
           },
           "zerolinecolor": "white",
           "zerolinewidth": 2
          },
          "yaxis": {
           "automargin": true,
           "gridcolor": "white",
           "linecolor": "white",
           "ticks": "",
           "title": {
            "standoff": 15
           },
           "zerolinecolor": "white",
           "zerolinewidth": 2
          }
         }
        },
        "xaxis": {
         "color": "white",
         "showgrid": false
        },
        "yaxis": {
         "color": "white",
         "showgrid": false,
         "showticklabels": false,
         "zeroline": true,
         "zerolinecolor": "white",
         "zerolinewidth": 3
        }
       }
      },
      "text/html": [
       "<div>                            <div id=\"e66b928b-63ae-43db-917a-1eea6f3ca58c\" class=\"plotly-graph-div\" style=\"height:200px; width:100%;\"></div>            <script type=\"text/javascript\">                require([\"plotly\"], function(Plotly) {                    window.PLOTLYENV=window.PLOTLYENV || {};                                    if (document.getElementById(\"e66b928b-63ae-43db-917a-1eea6f3ca58c\")) {                    Plotly.newPlot(                        \"e66b928b-63ae-43db-917a-1eea6f3ca58c\",                        [{\"marker\":{\"size\":20},\"mode\":\"markers\",\"showlegend\":false,\"x\":[5.61,5.43,5.36,5.52,5.69,5.23,5.71,5.69,4.27,5.86,3.02,5.62,4.21],\"y\":[0,0,0,0,0,0,0,0,0,0,0,0,0],\"type\":\"scatter\"},{\"marker\":{\"size\":20},\"mode\":\"markers\",\"showlegend\":false,\"x\":[5.5],\"y\":[0],\"type\":\"scatter\"}],                        {\"template\":{\"data\":{\"histogram2dcontour\":[{\"type\":\"histogram2dcontour\",\"colorbar\":{\"outlinewidth\":0,\"ticks\":\"\"},\"colorscale\":[[0.0,\"#0d0887\"],[0.1111111111111111,\"#46039f\"],[0.2222222222222222,\"#7201a8\"],[0.3333333333333333,\"#9c179e\"],[0.4444444444444444,\"#bd3786\"],[0.5555555555555556,\"#d8576b\"],[0.6666666666666666,\"#ed7953\"],[0.7777777777777778,\"#fb9f3a\"],[0.8888888888888888,\"#fdca26\"],[1.0,\"#f0f921\"]]}],\"choropleth\":[{\"type\":\"choropleth\",\"colorbar\":{\"outlinewidth\":0,\"ticks\":\"\"}}],\"histogram2d\":[{\"type\":\"histogram2d\",\"colorbar\":{\"outlinewidth\":0,\"ticks\":\"\"},\"colorscale\":[[0.0,\"#0d0887\"],[0.1111111111111111,\"#46039f\"],[0.2222222222222222,\"#7201a8\"],[0.3333333333333333,\"#9c179e\"],[0.4444444444444444,\"#bd3786\"],[0.5555555555555556,\"#d8576b\"],[0.6666666666666666,\"#ed7953\"],[0.7777777777777778,\"#fb9f3a\"],[0.8888888888888888,\"#fdca26\"],[1.0,\"#f0f921\"]]}],\"heatmap\":[{\"type\":\"heatmap\",\"colorbar\":{\"outlinewidth\":0,\"ticks\":\"\"},\"colorscale\":[[0.0,\"#0d0887\"],[0.1111111111111111,\"#46039f\"],[0.2222222222222222,\"#7201a8\"],[0.3333333333333333,\"#9c179e\"],[0.4444444444444444,\"#bd3786\"],[0.5555555555555556,\"#d8576b\"],[0.6666666666666666,\"#ed7953\"],[0.7777777777777778,\"#fb9f3a\"],[0.8888888888888888,\"#fdca26\"],[1.0,\"#f0f921\"]]}],\"heatmapgl\":[{\"type\":\"heatmapgl\",\"colorbar\":{\"outlinewidth\":0,\"ticks\":\"\"},\"colorscale\":[[0.0,\"#0d0887\"],[0.1111111111111111,\"#46039f\"],[0.2222222222222222,\"#7201a8\"],[0.3333333333333333,\"#9c179e\"],[0.4444444444444444,\"#bd3786\"],[0.5555555555555556,\"#d8576b\"],[0.6666666666666666,\"#ed7953\"],[0.7777777777777778,\"#fb9f3a\"],[0.8888888888888888,\"#fdca26\"],[1.0,\"#f0f921\"]]}],\"contourcarpet\":[{\"type\":\"contourcarpet\",\"colorbar\":{\"outlinewidth\":0,\"ticks\":\"\"}}],\"contour\":[{\"type\":\"contour\",\"colorbar\":{\"outlinewidth\":0,\"ticks\":\"\"},\"colorscale\":[[0.0,\"#0d0887\"],[0.1111111111111111,\"#46039f\"],[0.2222222222222222,\"#7201a8\"],[0.3333333333333333,\"#9c179e\"],[0.4444444444444444,\"#bd3786\"],[0.5555555555555556,\"#d8576b\"],[0.6666666666666666,\"#ed7953\"],[0.7777777777777778,\"#fb9f3a\"],[0.8888888888888888,\"#fdca26\"],[1.0,\"#f0f921\"]]}],\"surface\":[{\"type\":\"surface\",\"colorbar\":{\"outlinewidth\":0,\"ticks\":\"\"},\"colorscale\":[[0.0,\"#0d0887\"],[0.1111111111111111,\"#46039f\"],[0.2222222222222222,\"#7201a8\"],[0.3333333333333333,\"#9c179e\"],[0.4444444444444444,\"#bd3786\"],[0.5555555555555556,\"#d8576b\"],[0.6666666666666666,\"#ed7953\"],[0.7777777777777778,\"#fb9f3a\"],[0.8888888888888888,\"#fdca26\"],[1.0,\"#f0f921\"]]}],\"mesh3d\":[{\"type\":\"mesh3d\",\"colorbar\":{\"outlinewidth\":0,\"ticks\":\"\"}}],\"scatter\":[{\"fillpattern\":{\"fillmode\":\"overlay\",\"size\":10,\"solidity\":0.2},\"type\":\"scatter\"}],\"parcoords\":[{\"type\":\"parcoords\",\"line\":{\"colorbar\":{\"outlinewidth\":0,\"ticks\":\"\"}}}],\"scatterpolargl\":[{\"type\":\"scatterpolargl\",\"marker\":{\"colorbar\":{\"outlinewidth\":0,\"ticks\":\"\"}}}],\"bar\":[{\"error_x\":{\"color\":\"#2a3f5f\"},\"error_y\":{\"color\":\"#2a3f5f\"},\"marker\":{\"line\":{\"color\":\"#E5ECF6\",\"width\":0.5},\"pattern\":{\"fillmode\":\"overlay\",\"size\":10,\"solidity\":0.2}},\"type\":\"bar\"}],\"scattergeo\":[{\"type\":\"scattergeo\",\"marker\":{\"colorbar\":{\"outlinewidth\":0,\"ticks\":\"\"}}}],\"scatterpolar\":[{\"type\":\"scatterpolar\",\"marker\":{\"colorbar\":{\"outlinewidth\":0,\"ticks\":\"\"}}}],\"histogram\":[{\"marker\":{\"pattern\":{\"fillmode\":\"overlay\",\"size\":10,\"solidity\":0.2}},\"type\":\"histogram\"}],\"scattergl\":[{\"type\":\"scattergl\",\"marker\":{\"colorbar\":{\"outlinewidth\":0,\"ticks\":\"\"}}}],\"scatter3d\":[{\"type\":\"scatter3d\",\"line\":{\"colorbar\":{\"outlinewidth\":0,\"ticks\":\"\"}},\"marker\":{\"colorbar\":{\"outlinewidth\":0,\"ticks\":\"\"}}}],\"scattermapbox\":[{\"type\":\"scattermapbox\",\"marker\":{\"colorbar\":{\"outlinewidth\":0,\"ticks\":\"\"}}}],\"scatterternary\":[{\"type\":\"scatterternary\",\"marker\":{\"colorbar\":{\"outlinewidth\":0,\"ticks\":\"\"}}}],\"scattercarpet\":[{\"type\":\"scattercarpet\",\"marker\":{\"colorbar\":{\"outlinewidth\":0,\"ticks\":\"\"}}}],\"carpet\":[{\"aaxis\":{\"endlinecolor\":\"#2a3f5f\",\"gridcolor\":\"white\",\"linecolor\":\"white\",\"minorgridcolor\":\"white\",\"startlinecolor\":\"#2a3f5f\"},\"baxis\":{\"endlinecolor\":\"#2a3f5f\",\"gridcolor\":\"white\",\"linecolor\":\"white\",\"minorgridcolor\":\"white\",\"startlinecolor\":\"#2a3f5f\"},\"type\":\"carpet\"}],\"table\":[{\"cells\":{\"fill\":{\"color\":\"#EBF0F8\"},\"line\":{\"color\":\"white\"}},\"header\":{\"fill\":{\"color\":\"#C8D4E3\"},\"line\":{\"color\":\"white\"}},\"type\":\"table\"}],\"barpolar\":[{\"marker\":{\"line\":{\"color\":\"#E5ECF6\",\"width\":0.5},\"pattern\":{\"fillmode\":\"overlay\",\"size\":10,\"solidity\":0.2}},\"type\":\"barpolar\"}],\"pie\":[{\"automargin\":true,\"type\":\"pie\"}]},\"layout\":{\"autotypenumbers\":\"strict\",\"colorway\":[\"#636efa\",\"#EF553B\",\"#00cc96\",\"#ab63fa\",\"#FFA15A\",\"#19d3f3\",\"#FF6692\",\"#B6E880\",\"#FF97FF\",\"#FECB52\"],\"font\":{\"color\":\"#2a3f5f\"},\"hovermode\":\"closest\",\"hoverlabel\":{\"align\":\"left\"},\"paper_bgcolor\":\"white\",\"plot_bgcolor\":\"#E5ECF6\",\"polar\":{\"bgcolor\":\"#E5ECF6\",\"angularaxis\":{\"gridcolor\":\"white\",\"linecolor\":\"white\",\"ticks\":\"\"},\"radialaxis\":{\"gridcolor\":\"white\",\"linecolor\":\"white\",\"ticks\":\"\"}},\"ternary\":{\"bgcolor\":\"#E5ECF6\",\"aaxis\":{\"gridcolor\":\"white\",\"linecolor\":\"white\",\"ticks\":\"\"},\"baxis\":{\"gridcolor\":\"white\",\"linecolor\":\"white\",\"ticks\":\"\"},\"caxis\":{\"gridcolor\":\"white\",\"linecolor\":\"white\",\"ticks\":\"\"}},\"coloraxis\":{\"colorbar\":{\"outlinewidth\":0,\"ticks\":\"\"}},\"colorscale\":{\"sequential\":[[0.0,\"#0d0887\"],[0.1111111111111111,\"#46039f\"],[0.2222222222222222,\"#7201a8\"],[0.3333333333333333,\"#9c179e\"],[0.4444444444444444,\"#bd3786\"],[0.5555555555555556,\"#d8576b\"],[0.6666666666666666,\"#ed7953\"],[0.7777777777777778,\"#fb9f3a\"],[0.8888888888888888,\"#fdca26\"],[1.0,\"#f0f921\"]],\"sequentialminus\":[[0.0,\"#0d0887\"],[0.1111111111111111,\"#46039f\"],[0.2222222222222222,\"#7201a8\"],[0.3333333333333333,\"#9c179e\"],[0.4444444444444444,\"#bd3786\"],[0.5555555555555556,\"#d8576b\"],[0.6666666666666666,\"#ed7953\"],[0.7777777777777778,\"#fb9f3a\"],[0.8888888888888888,\"#fdca26\"],[1.0,\"#f0f921\"]],\"diverging\":[[0,\"#8e0152\"],[0.1,\"#c51b7d\"],[0.2,\"#de77ae\"],[0.3,\"#f1b6da\"],[0.4,\"#fde0ef\"],[0.5,\"#f7f7f7\"],[0.6,\"#e6f5d0\"],[0.7,\"#b8e186\"],[0.8,\"#7fbc41\"],[0.9,\"#4d9221\"],[1,\"#276419\"]]},\"xaxis\":{\"gridcolor\":\"white\",\"linecolor\":\"white\",\"ticks\":\"\",\"title\":{\"standoff\":15},\"zerolinecolor\":\"white\",\"automargin\":true,\"zerolinewidth\":2},\"yaxis\":{\"gridcolor\":\"white\",\"linecolor\":\"white\",\"ticks\":\"\",\"title\":{\"standoff\":15},\"zerolinecolor\":\"white\",\"automargin\":true,\"zerolinewidth\":2},\"scene\":{\"xaxis\":{\"backgroundcolor\":\"#E5ECF6\",\"gridcolor\":\"white\",\"linecolor\":\"white\",\"showbackground\":true,\"ticks\":\"\",\"zerolinecolor\":\"white\",\"gridwidth\":2},\"yaxis\":{\"backgroundcolor\":\"#E5ECF6\",\"gridcolor\":\"white\",\"linecolor\":\"white\",\"showbackground\":true,\"ticks\":\"\",\"zerolinecolor\":\"white\",\"gridwidth\":2},\"zaxis\":{\"backgroundcolor\":\"#E5ECF6\",\"gridcolor\":\"white\",\"linecolor\":\"white\",\"showbackground\":true,\"ticks\":\"\",\"zerolinecolor\":\"white\",\"gridwidth\":2}},\"shapedefaults\":{\"line\":{\"color\":\"#2a3f5f\"}},\"annotationdefaults\":{\"arrowcolor\":\"#2a3f5f\",\"arrowhead\":0,\"arrowwidth\":1},\"geo\":{\"bgcolor\":\"white\",\"landcolor\":\"#E5ECF6\",\"subunitcolor\":\"white\",\"showland\":true,\"showlakes\":true,\"lakecolor\":\"white\"},\"title\":{\"x\":0.05},\"mapbox\":{\"style\":\"light\"}}},\"xaxis\":{\"showgrid\":false,\"color\":\"white\"},\"yaxis\":{\"showgrid\":false,\"zeroline\":true,\"zerolinecolor\":\"white\",\"zerolinewidth\":3,\"showticklabels\":false,\"color\":\"white\"},\"height\":200,\"paper_bgcolor\":\"rgba(0,0,0,0)\",\"plot_bgcolor\":\"rgba(0,0,0,0)\"},                        {\"responsive\": true}                    ).then(function(){\n",
       "                            \n",
       "var gd = document.getElementById('e66b928b-63ae-43db-917a-1eea6f3ca58c');\n",
       "var x = new MutationObserver(function (mutations, observer) {{\n",
       "        var display = window.getComputedStyle(gd).display;\n",
       "        if (!display || display === 'none') {{\n",
       "            console.log([gd, 'removed!']);\n",
       "            Plotly.purge(gd);\n",
       "            observer.disconnect();\n",
       "        }}\n",
       "}});\n",
       "\n",
       "// Listen for the removal of the full notebook cells\n",
       "var notebookContainer = gd.closest('#notebook-container');\n",
       "if (notebookContainer) {{\n",
       "    x.observe(notebookContainer, {childList: true});\n",
       "}}\n",
       "\n",
       "// Listen for the clearing of the current output cell\n",
       "var outputEl = gd.closest('.output');\n",
       "if (outputEl) {{\n",
       "    x.observe(outputEl, {childList: true});\n",
       "}}\n",
       "\n",
       "                        })                };                });            </script>        </div>"
      ]
     },
     "metadata": {},
     "output_type": "display_data"
    }
   ],
   "source": [
    "import plotly.graph_objects as go\n",
    "fig = go.Figure()\n",
    "fig.add_trace(go.Scatter(\n",
    "    x=[5.61, 5.43, 5.36, 5.52, 5.69, 5.23, 5.71, 5.69, 4.27, 5.86, 3.02, 5.62, 4.21], y=[0,0,0,0,0,0,0,0,0,0,0,0,0], mode='markers', marker_size=20,\n",
    " showlegend=False))\n",
    "fig.add_trace(go.Scatter(\n",
    "    x=[5.5], y=[0], mode='markers', marker_size=20,\n",
    " showlegend=False))\n",
    "fig.update_xaxes(showgrid=False)\n",
    "fig.update_yaxes(showgrid=False, \n",
    "                 zeroline=True, zerolinecolor='white', zerolinewidth=3,\n",
    "                 showticklabels=False, color='white')\n",
    "fig.update_layout(height=200,paper_bgcolor='rgba(0,0,0,0)',\n",
    "    plot_bgcolor='rgba(0,0,0,0)')\n",
    "fig.layout.xaxis.color = 'white'\n",
    "fig.show()"
   ]
  },
  {
   "cell_type": "code",
   "execution_count": null,
   "id": "279bacd5",
   "metadata": {},
   "outputs": [],
   "source": []
  }
 ],
 "metadata": {
  "kernelspec": {
   "display_name": "Python 3 (ipykernel)",
   "language": "python",
   "name": "python3"
  },
  "language_info": {
   "codemirror_mode": {
    "name": "ipython",
    "version": 3
   },
   "file_extension": ".py",
   "mimetype": "text/x-python",
   "name": "python",
   "nbconvert_exporter": "python",
   "pygments_lexer": "ipython3",
   "version": "3.8.5"
  }
 },
 "nbformat": 4,
 "nbformat_minor": 5
}
