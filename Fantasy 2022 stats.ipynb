{
 "cells": [
  {
   "cell_type": "code",
   "execution_count": 1,
   "id": "964c378a",
   "metadata": {},
   "outputs": [],
   "source": [
    "import tbapy\n",
    "import pandas as pd\n",
    "from itertools import permutations, combinations\n",
    "import os \n",
    "import collections"
   ]
  },
  {
   "cell_type": "code",
   "execution_count": 2,
   "id": "da49c937",
   "metadata": {},
   "outputs": [],
   "source": [
    "tbakey = os.environ.get('tbakey')\n",
    "tba = tbapy.TBA(tbakey)"
   ]
  },
  {
   "cell_type": "code",
   "execution_count": 3,
   "id": "58eef07d",
   "metadata": {},
   "outputs": [],
   "source": [
    "event = '2022on325'"
   ]
  },
  {
   "cell_type": "code",
   "execution_count": 4,
   "id": "535965cd",
   "metadata": {},
   "outputs": [
    {
     "data": {
      "text/plain": [
       "{'frc7520': -1.2391056965890037,\n",
       " 'frc6323': 3.587031889418249,\n",
       " 'frc8789': 4.412088376754513,\n",
       " 'frc6162': 4.99976762036397,\n",
       " 'frc771': 5.929060222078391,\n",
       " 'frc6331': 7.052527508972611,\n",
       " 'frc8089': 8.861063612486657,\n",
       " 'frc2386': 9.515822152690475,\n",
       " 'frc8729': 11.951528371767608,\n",
       " 'frc5024': 13.35335772183028,\n",
       " 'frc4069': 14.852188897580344,\n",
       " 'frc1325': 20.506471558691594,\n",
       " 'frc4903': 21.964699126952254,\n",
       " 'frc610': 26.446554878740407,\n",
       " 'frc3683': 28.980600316627296,\n",
       " 'frc2609': 29.900851556706044,\n",
       " 'frc4476': 38.57851550331976,\n",
       " 'frc4678': 45.01364304827564}"
      ]
     },
     "execution_count": 4,
     "metadata": {},
     "output_type": "execute_result"
    }
   ],
   "source": [
    "dict1 = tba.event_oprs(event)['oprs']\n",
    "\n",
    "counter = collections.Counter()\n",
    "\n",
    "counter.update(dict1)\n",
    "\n",
    "res = dict(sorted(counter.items(), key=lambda item: item[1]))\n",
    "res"
   ]
  },
  {
   "cell_type": "code",
   "execution_count": 4,
   "id": "7228fbf9",
   "metadata": {},
   "outputs": [
    {
     "name": "stdout",
     "output_type": "stream",
     "text": [
      "Least Taxi Points\n"
     ]
    },
    {
     "data": {
      "text/plain": [
       "{'frc4152': 2,\n",
       " 'frc6864': 4,\n",
       " 'frc2706': 6,\n",
       " 'frc2013': 6,\n",
       " 'frc3543': 8,\n",
       " 'frc6865': 8,\n",
       " 'frc8729': 9,\n",
       " 'frc6859': 9,\n",
       " 'frc4069': 9,\n",
       " 'frc2609': 9,\n",
       " 'frc5672': 9,\n",
       " 'frc1305': 9,\n",
       " 'frc2994': 9,\n",
       " 'frc7757': 9}"
      ]
     },
     "execution_count": 4,
     "metadata": {},
     "output_type": "execute_result"
    }
   ],
   "source": [
    "list1 = []\n",
    "for i in tba.event_matches(event):\n",
    "    if i['comp_level'] == 'qm':\n",
    "        teamb1 = i['alliances']['blue']['team_keys'][0]\n",
    "        teamb2 = i['alliances']['blue']['team_keys'][1]\n",
    "        teamb3 = i['alliances']['blue']['team_keys'][2]\n",
    "        teamr1 = i['alliances']['red']['team_keys'][0]\n",
    "        teamr2 = i['alliances']['red']['team_keys'][1]\n",
    "        teamr3 = i['alliances']['red']['team_keys'][2]\n",
    "        \n",
    "        taxib1 = 1 if i['score_breakdown']['blue']['taxiRobot1'] == 'Yes' else 0\n",
    "        taxib2 = 1 if i['score_breakdown']['blue']['taxiRobot2'] == 'Yes' else 0\n",
    "        taxib3 = 1 if i['score_breakdown']['blue']['taxiRobot3'] == 'Yes' else 0\n",
    "        taxir1 = 1 if i['score_breakdown']['red']['taxiRobot1'] == 'Yes' else 0\n",
    "        taxir2 = 1 if i['score_breakdown']['red']['taxiRobot2'] == 'Yes' else 0\n",
    "        taxir3 = 1 if i['score_breakdown']['red']['taxiRobot3'] == 'Yes' else 0\n",
    "        \n",
    "        dict1 = { teamb1:taxib1\n",
    "            , teamb2:taxib2\n",
    "            , teamb3:taxib3\n",
    "            , teamr1:taxir1\n",
    "            , teamr2:taxir2\n",
    "            , teamr3:taxir3}\n",
    "        list1.append(dict1)\n",
    "counter = collections.Counter()\n",
    "for d in list1:\n",
    "    counter.update(d)\n",
    "\n",
    "res = dict(sorted(counter.items(), key=lambda item: item[1]))\n",
    "\n",
    "print('Least Taxi Points')\n",
    "res"
   ]
  },
  {
   "cell_type": "code",
   "execution_count": 5,
   "id": "fe5c858f",
   "metadata": {
    "scrolled": true
   },
   "outputs": [
    {
     "name": "stdout",
     "output_type": "stream",
     "text": [
      "Most Cargo Scored\n"
     ]
    },
    {
     "data": {
      "text/plain": [
       "{'frc2609': 128,\n",
       " 'frc2013': 128,\n",
       " 'frc3543': 125,\n",
       " 'frc2706': 118,\n",
       " 'frc4152': 117,\n",
       " 'frc1305': 112,\n",
       " 'frc4069': 102,\n",
       " 'frc7757': 98,\n",
       " 'frc8729': 87,\n",
       " 'frc6859': 83,\n",
       " 'frc6865': 83,\n",
       " 'frc5672': 78,\n",
       " 'frc6864': 77,\n",
       " 'frc2994': 74}"
      ]
     },
     "execution_count": 5,
     "metadata": {},
     "output_type": "execute_result"
    }
   ],
   "source": [
    "list1 = []\n",
    "for i in tba.event_matches(event):\n",
    "    if i['comp_level'] == 'qm':\n",
    "        teamb1 = i['alliances']['blue']['team_keys'][0]\n",
    "        teamb2 = i['alliances']['blue']['team_keys'][1]\n",
    "        teamb3 = i['alliances']['blue']['team_keys'][2]\n",
    "        teamr1 = i['alliances']['red']['team_keys'][0]\n",
    "        teamr2 = i['alliances']['red']['team_keys'][1]\n",
    "        teamr3 = i['alliances']['red']['team_keys'][2]\n",
    "        \n",
    "        cargob1 = i['score_breakdown']['blue']['matchCargoTotal']\n",
    "        cargob2 = i['score_breakdown']['blue']['matchCargoTotal']\n",
    "        cargob3 = i['score_breakdown']['blue']['matchCargoTotal']\n",
    "        cargor1 = i['score_breakdown']['red']['matchCargoTotal']\n",
    "        cargor2 = i['score_breakdown']['red']['matchCargoTotal']\n",
    "        cargor3 = i['score_breakdown']['red']['matchCargoTotal']\n",
    "        \n",
    "        dict1 = { teamb1:cargob1\n",
    "                , teamb2:cargob2\n",
    "                , teamb3:cargob3\n",
    "                , teamr1:cargor1\n",
    "                , teamr2:cargor2\n",
    "                , teamr3:cargor3}\n",
    "        list1.append(dict1)\n",
    "counter = collections.Counter()\n",
    "for d in list1:\n",
    "    counter.update(d)\n",
    "\n",
    "res = dict(sorted(counter.items(), key=lambda item: item[1], reverse=True))\n",
    "\n",
    "print('Most Cargo Scored')\n",
    "res"
   ]
  },
  {
   "cell_type": "code",
   "execution_count": 6,
   "id": "dd033990",
   "metadata": {},
   "outputs": [
    {
     "name": "stdout",
     "output_type": "stream",
     "text": [
      "Most Foul Points\n"
     ]
    },
    {
     "data": {
      "text/plain": [
       "{'frc4069': 44,\n",
       " 'frc1305': 44,\n",
       " 'frc2013': 36,\n",
       " 'frc7757': 28,\n",
       " 'frc6864': 20,\n",
       " 'frc2609': 20,\n",
       " 'frc3543': 16,\n",
       " 'frc2706': 16,\n",
       " 'frc6865': 16,\n",
       " 'frc8729': 12,\n",
       " 'frc6859': 12,\n",
       " 'frc5672': 12,\n",
       " 'frc2994': 12,\n",
       " 'frc4152': 0}"
      ]
     },
     "execution_count": 6,
     "metadata": {},
     "output_type": "execute_result"
    }
   ],
   "source": [
    "list1 = []\n",
    "for i in tba.event_matches(event):\n",
    "    if i['comp_level'] == 'qm':\n",
    "        teamb1 = i['alliances']['blue']['team_keys'][0]\n",
    "        teamb2 = i['alliances']['blue']['team_keys'][1]\n",
    "        teamb3 = i['alliances']['blue']['team_keys'][2]\n",
    "        teamr1 = i['alliances']['red']['team_keys'][0]\n",
    "        teamr2 = i['alliances']['red']['team_keys'][1]\n",
    "        teamr3 = i['alliances']['red']['team_keys'][2]\n",
    "        \n",
    "        foulb1 = i['score_breakdown']['blue']['foulPoints']\n",
    "        foulb2 = i['score_breakdown']['blue']['foulPoints']\n",
    "        foulb3 = i['score_breakdown']['blue']['foulPoints']\n",
    "        foulr1 = i['score_breakdown']['red']['foulPoints']\n",
    "        foulr2 = i['score_breakdown']['red']['foulPoints']\n",
    "        foulr3 = i['score_breakdown']['red']['foulPoints']\n",
    "        \n",
    "        dict1 = { teamb1:foulb1\n",
    "                , teamb2:foulb2\n",
    "                , teamb3:foulb3\n",
    "                , teamr1:foulr1\n",
    "                , teamr2:foulr2\n",
    "                , teamr3:foulr3}\n",
    "        list1.append(dict1)\n",
    "counter = collections.Counter()\n",
    "for d in list1:\n",
    "    counter.update(d)\n",
    "\n",
    "res = dict(sorted(counter.items(), key=lambda item: item[1], reverse=True))\n",
    "\n",
    "print('Most Foul Points')\n",
    "res"
   ]
  },
  {
   "cell_type": "code",
   "execution_count": 7,
   "id": "2d98bfca",
   "metadata": {},
   "outputs": [],
   "source": [
    "# list1 = []\n",
    "# for i in tba.event_matches(event):\n",
    "#     if i['comp_level'] == 'qm':\n",
    "#         teamb1 = i['alliances']['blue']['team_keys'][0]\n",
    "#         teamb2 = i['alliances']['blue']['team_keys'][1]\n",
    "#         teamb3 = i['alliances']['blue']['team_keys'][2]\n",
    "#         teamr1 = i['alliances']['red']['team_keys'][0]\n",
    "#         teamr2 = i['alliances']['red']['team_keys'][1]\n",
    "#         teamr3 = i['alliances']['red']['team_keys'][2]\n",
    "        \n",
    "#         endb1 = i['score_breakdown']['blue']['endgamePoints']\n",
    "#         endb2 = i['score_breakdown']['blue']['endgamePoints']\n",
    "#         endb3 = i['score_breakdown']['blue']['endgamePoints']\n",
    "#         endr1 = i['score_breakdown']['red']['endgamePoints']\n",
    "#         endr2 = i['score_breakdown']['red']['endgamePoints']\n",
    "#         endr3 = i['score_breakdown']['red']['endgamePoints']\n",
    "        \n",
    "#         dict1 = { teamb1:endb1\n",
    "#                 , teamb2:endb2\n",
    "#                 , teamb3:endb3\n",
    "#                 , teamr1:endr1\n",
    "#                 , teamr2:endr2\n",
    "#                 , teamr3:endr3}\n",
    "#         list1.append(dict1)\n",
    "# counter = collections.Counter()\n",
    "# for d in list1:\n",
    "#     counter.update(d)\n",
    "\n",
    "# res = dict(sorted(counter.items(), key=lambda item: item[1], reverse=True))\n",
    "\n",
    "# print('Climb Points (Alliance)')\n",
    "# res"
   ]
  },
  {
   "cell_type": "code",
   "execution_count": 8,
   "id": "411c4d20",
   "metadata": {},
   "outputs": [
    {
     "name": "stdout",
     "output_type": "stream",
     "text": [
      "6th Climb Points (Team)\n"
     ]
    },
    {
     "data": {
      "text/plain": [
       "{'frc4069': 105,\n",
       " 'frc2609': 105,\n",
       " 'frc4152': 92,\n",
       " 'frc1305': 67,\n",
       " 'frc2013': 40,\n",
       " 'frc6865': 36,\n",
       " 'frc2706': 34,\n",
       " 'frc7757': 34,\n",
       " 'frc8729': 28,\n",
       " 'frc6859': 26,\n",
       " 'frc6864': 21,\n",
       " 'frc2994': 18,\n",
       " 'frc5672': 14,\n",
       " 'frc3543': 10}"
      ]
     },
     "execution_count": 8,
     "metadata": {},
     "output_type": "execute_result"
    }
   ],
   "source": [
    "def endgame_pts(value):\n",
    "    if value == 'Low': return 4\n",
    "    elif value == 'Mid': return 6\n",
    "    elif value == 'High': return 10\n",
    "    elif value == 'Traversal': return 15\n",
    "    else: return 0\n",
    "\n",
    "list1 = []\n",
    "for i in tba.event_matches(event):\n",
    "    if i['comp_level'] == 'qm':\n",
    "        teamb1 = i['alliances']['blue']['team_keys'][0]\n",
    "        teamb2 = i['alliances']['blue']['team_keys'][1]\n",
    "        teamb3 = i['alliances']['blue']['team_keys'][2]\n",
    "        teamr1 = i['alliances']['red']['team_keys'][0]\n",
    "        teamr2 = i['alliances']['red']['team_keys'][1]\n",
    "        teamr3 = i['alliances']['red']['team_keys'][2]\n",
    "        \n",
    "        endb1 = endgame_pts(i['score_breakdown']['blue']['endgameRobot1'])\n",
    "        endb2 = endgame_pts(i['score_breakdown']['blue']['endgameRobot2'])\n",
    "        endb3 = endgame_pts(i['score_breakdown']['blue']['endgameRobot3'])\n",
    "        endr1 = endgame_pts(i['score_breakdown']['red']['endgameRobot1'])\n",
    "        endr2 = endgame_pts(i['score_breakdown']['red']['endgameRobot2'])\n",
    "        endr3 = endgame_pts(i['score_breakdown']['red']['endgameRobot3'])\n",
    "        \n",
    "        dict1 = { teamb1:endb1\n",
    "                , teamb2:endb2\n",
    "                , teamb3:endb3\n",
    "                , teamr1:endr1\n",
    "                , teamr2:endr2\n",
    "                , teamr3:endr3}\n",
    "        list1.append(dict1)\n",
    "\n",
    "counter = collections.Counter()\n",
    "for d in list1:\n",
    "    counter.update(d)\n",
    "    \n",
    "res = dict(sorted(counter.items(), key=lambda item: item[1], reverse=True))\n",
    "\n",
    "print('6th Climb Points (Team)')\n",
    "res"
   ]
  },
  {
   "cell_type": "code",
   "execution_count": 9,
   "id": "8e59f178",
   "metadata": {},
   "outputs": [
    {
     "name": "stdout",
     "output_type": "stream",
     "text": [
      "Match Points / RP\n"
     ]
    },
    {
     "data": {
      "text/plain": [
       "{'frc8729': 80.5,\n",
       " 'frc6865': 62.0,\n",
       " 'frc2994': 35.0,\n",
       " 'frc5672': 30.818181818181817,\n",
       " 'frc2706': 29.642857142857142,\n",
       " 'frc3543': 29.076923076923077,\n",
       " 'frc7757': 28.857142857142858,\n",
       " 'frc6864': 28.818181818181817,\n",
       " 'frc6859': 28.666666666666668,\n",
       " 'frc2013': 25.294117647058822,\n",
       " 'frc1305': 25.210526315789473,\n",
       " 'frc4069': 24.63157894736842,\n",
       " 'frc2609': 23.47826086956522,\n",
       " 'frc4152': 21.227272727272727}"
      ]
     },
     "execution_count": 9,
     "metadata": {},
     "output_type": "execute_result"
    }
   ],
   "source": [
    "list1 = []\n",
    "list2 = []\n",
    "for i in tba.event_matches(event):\n",
    "    if i['comp_level'] == 'qm':\n",
    "        teamb1 = i['alliances']['blue']['team_keys'][0]\n",
    "        teamb2 = i['alliances']['blue']['team_keys'][1]\n",
    "        teamb3 = i['alliances']['blue']['team_keys'][2]\n",
    "        teamr1 = i['alliances']['red']['team_keys'][0]\n",
    "        teamr2 = i['alliances']['red']['team_keys'][1]\n",
    "        teamr3 = i['alliances']['red']['team_keys'][2]\n",
    "        \n",
    "        ptb1 = i['score_breakdown']['blue']['totalPoints']\n",
    "        ptb2 = i['score_breakdown']['blue']['totalPoints']\n",
    "        ptb3 = i['score_breakdown']['blue']['totalPoints']\n",
    "        ptr1 = i['score_breakdown']['red']['totalPoints']\n",
    "        ptr2 = i['score_breakdown']['red']['totalPoints']\n",
    "        ptr3 = i['score_breakdown']['red']['totalPoints']\n",
    "        \n",
    "        rpb1 = i['score_breakdown']['blue']['rp']\n",
    "        rpb2 = i['score_breakdown']['blue']['rp']\n",
    "        rpb3 = i['score_breakdown']['blue']['rp']\n",
    "        rpr1 = i['score_breakdown']['red']['rp']\n",
    "        rpr2 = i['score_breakdown']['red']['rp']\n",
    "        rpr3 = i['score_breakdown']['red']['rp']\n",
    "        \n",
    "        dict1 = { teamb1:ptb1\n",
    "                , teamb2:ptb2\n",
    "                , teamb3:ptb3\n",
    "                , teamr1:ptr1\n",
    "                , teamr2:ptr2\n",
    "                , teamr3:ptr3}\n",
    "        \n",
    "        dict2 = { teamb1:rpb1\n",
    "                , teamb2:rpb2\n",
    "                , teamb3:rpb3\n",
    "                , teamr1:rpr1\n",
    "                , teamr2:rpr2\n",
    "                , teamr3:rpr3}\n",
    "        \n",
    "        list1.append(dict1)\n",
    "        list2.append(dict2)\n",
    "        \n",
    "counter1 = collections.Counter()\n",
    "for d in list1:\n",
    "    counter1.update(d)\n",
    "    \n",
    "counter2 = collections.Counter()\n",
    "for d in list2:\n",
    "    counter2.update(d)\n",
    "\n",
    "res1 = dict(sorted(counter1.items(), key=lambda item: item[1], reverse=True))\n",
    "res2 = dict(sorted(counter2.items(), key=lambda item: item[1], reverse=True))\n",
    "\n",
    "div = {k: float(res1[k])/float(res2[k]) for k in res1.keys() & res2}\n",
    "    \n",
    "res = dict(sorted(div.items(), key=lambda item: item[1], reverse=True))    \n",
    "\n",
    "print('Match Points / RP') #based on the amount of votes, you pick the ranking\n",
    "res"
   ]
  },
  {
   "cell_type": "code",
   "execution_count": 10,
   "id": "d0f4afee",
   "metadata": {},
   "outputs": [
    {
     "name": "stdout",
     "output_type": "stream",
     "text": [
      "Total Points (closest to avg)\n",
      "43.595238095238095\n"
     ]
    },
    {
     "data": {
      "text/plain": [
       "{'frc2609': 60.0,\n",
       " 'frc1305': 53.22222222222222,\n",
       " 'frc4069': 52.0,\n",
       " 'frc4152': 51.888888888888886,\n",
       " 'frc2013': 47.77777777777778,\n",
       " 'frc2706': 46.111111111111114,\n",
       " 'frc7757': 44.888888888888886,\n",
       " 'frc3543': 42.0,\n",
       " 'frc6859': 38.22222222222222,\n",
       " 'frc5672': 37.666666666666664,\n",
       " 'frc8729': 35.77777777777778,\n",
       " 'frc6864': 35.22222222222222,\n",
       " 'frc6865': 34.44444444444444,\n",
       " 'frc2994': 31.11111111111111}"
      ]
     },
     "execution_count": 10,
     "metadata": {},
     "output_type": "execute_result"
    }
   ],
   "source": [
    "list1 = []\n",
    "list2 = []\n",
    "for i in tba.event_matches(event):\n",
    "    if i['comp_level'] == 'qm':\n",
    "        teamb1 = i['alliances']['blue']['team_keys'][0]\n",
    "        teamb2 = i['alliances']['blue']['team_keys'][1]\n",
    "        teamb3 = i['alliances']['blue']['team_keys'][2]\n",
    "        teamr1 = i['alliances']['red']['team_keys'][0]\n",
    "        teamr2 = i['alliances']['red']['team_keys'][1]\n",
    "        teamr3 = i['alliances']['red']['team_keys'][2]\n",
    "        \n",
    "        ptb1 = i['score_breakdown']['blue']['totalPoints']\n",
    "        ptb2 = i['score_breakdown']['blue']['totalPoints']\n",
    "        ptb3 = i['score_breakdown']['blue']['totalPoints']\n",
    "        ptr1 = i['score_breakdown']['red']['totalPoints']\n",
    "        ptr2 = i['score_breakdown']['red']['totalPoints']\n",
    "        ptr3 = i['score_breakdown']['red']['totalPoints']\n",
    "        \n",
    "        dict1 = { teamb1:ptb1\n",
    "                , teamb2:ptb2\n",
    "                , teamb3:ptb3\n",
    "                , teamr1:ptr1\n",
    "                , teamr2:ptr2\n",
    "                , teamr3:ptr3}\n",
    "        \n",
    "        dict2 = { teamb1:1\n",
    "                , teamb2:1\n",
    "                , teamb3:1\n",
    "                , teamr1:1\n",
    "                , teamr2:1\n",
    "                , teamr3:1}\n",
    "            \n",
    "        list1.append(dict1)\n",
    "        list2.append(dict2)\n",
    "        \n",
    "counter1 = collections.Counter()\n",
    "for d in list1:\n",
    "    counter1.update(d)\n",
    "    \n",
    "counter2 = collections.Counter()\n",
    "for d in list2:\n",
    "    counter2.update(d)\n",
    "        \n",
    "res1 = dict(sorted(counter1.items(), key=lambda item: item[1], reverse=True))\n",
    "res2 = dict(sorted(counter2.items(), key=lambda item: item[1], reverse=True))\n",
    "\n",
    "div = {k: float(res1[k])/float(res2[k]) for k in res1.keys() & res2}\n",
    "    \n",
    "res = dict(sorted(div.items(), key=lambda item: item[1], reverse=True))    \n",
    "\n",
    "print('Total Points (closest to avg)')\n",
    "print(sum(res.values())/len(res.keys()))\n",
    "res\n",
    "\n"
   ]
  },
  {
   "cell_type": "code",
   "execution_count": 11,
   "id": "6b65c667",
   "metadata": {
    "scrolled": true
   },
   "outputs": [
    {
     "name": "stdout",
     "output_type": "stream",
     "text": [
      "Total Low Points\n"
     ]
    },
    {
     "data": {
      "text/plain": [
       "{'frc2013': 94,\n",
       " 'frc3543': 86,\n",
       " 'frc4152': 63,\n",
       " 'frc6864': 52,\n",
       " 'frc6865': 51,\n",
       " 'frc2706': 47,\n",
       " 'frc4069': 46,\n",
       " 'frc1305': 44,\n",
       " 'frc2994': 42,\n",
       " 'frc8729': 39,\n",
       " 'frc7757': 39,\n",
       " 'frc5672': 37,\n",
       " 'frc2609': 36,\n",
       " 'frc6859': 35}"
      ]
     },
     "execution_count": 11,
     "metadata": {},
     "output_type": "execute_result"
    }
   ],
   "source": [
    "def lowcargo_pts(a):\n",
    "    return 2*(a['autoCargoLowerBlue'] + a['autoCargoLowerFar'] \\\n",
    "              + a['autoCargoLowerNear'] + a['autoCargoLowerRed']\\\n",
    "             ) \\\n",
    "            + a['teleopCargoLowerBlue'] + a['teleopCargoLowerFar'] \\\n",
    "            + a['teleopCargoLowerNear'] + a['teleopCargoLowerRed']\n",
    "\n",
    "list1 = []\n",
    "for i in tba.event_matches(event):\n",
    "    if i['comp_level'] == 'qm':\n",
    "        teamb1 = i['alliances']['blue']['team_keys'][0]\n",
    "        teamb2 = i['alliances']['blue']['team_keys'][1]\n",
    "        teamb3 = i['alliances']['blue']['team_keys'][2]\n",
    "        teamr1 = i['alliances']['red']['team_keys'][0]\n",
    "        teamr2 = i['alliances']['red']['team_keys'][1]\n",
    "        teamr3 = i['alliances']['red']['team_keys'][2]\n",
    "        \n",
    "        lowb1 = lowcargo_pts(i['score_breakdown']['blue'])\n",
    "        lowb2 = lowcargo_pts(i['score_breakdown']['blue'])\n",
    "        lowb3 = lowcargo_pts(i['score_breakdown']['blue'])\n",
    "        lowr1 = lowcargo_pts(i['score_breakdown']['red'])\n",
    "        lowr2 = lowcargo_pts(i['score_breakdown']['red'])\n",
    "        lowr3 = lowcargo_pts(i['score_breakdown']['red'])\n",
    "        \n",
    "        dict1 = { teamb1:lowb1\n",
    "                , teamb2:lowb2\n",
    "                , teamb3:lowb3\n",
    "                , teamr1:lowr1\n",
    "                , teamr2:lowr2\n",
    "                , teamr3:lowr3}\n",
    "        list1.append(dict1)\n",
    "counter = collections.Counter()\n",
    "for d in list1:\n",
    "    counter.update(d)\n",
    "\n",
    "res = dict(sorted(counter.items(), key=lambda item: item[1], reverse=True))\n",
    "\n",
    "print('Total Low Points')\n",
    "res"
   ]
  },
  {
   "cell_type": "code",
   "execution_count": null,
   "id": "305c8c40",
   "metadata": {},
   "outputs": [],
   "source": []
  }
 ],
 "metadata": {
  "kernelspec": {
   "display_name": "Python 3 (ipykernel)",
   "language": "python",
   "name": "python3"
  },
  "language_info": {
   "codemirror_mode": {
    "name": "ipython",
    "version": 3
   },
   "file_extension": ".py",
   "mimetype": "text/x-python",
   "name": "python",
   "nbconvert_exporter": "python",
   "pygments_lexer": "ipython3",
   "version": "3.8.5"
  }
 },
 "nbformat": 4,
 "nbformat_minor": 5
}
