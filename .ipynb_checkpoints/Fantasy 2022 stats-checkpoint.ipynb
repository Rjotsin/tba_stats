{
 "cells": [
  {
   "cell_type": "code",
   "execution_count": 1,
   "id": "964c378a",
   "metadata": {},
   "outputs": [],
   "source": [
    "import tbapy\n",
    "import pandas as pd\n",
    "from itertools import permutations, combinations\n",
    "import os \n",
    "import collections"
   ]
  },
  {
   "cell_type": "code",
   "execution_count": 2,
   "id": "da49c937",
   "metadata": {},
   "outputs": [],
   "source": [
    "tbakey = os.environ.get('tbakey')\n",
    "tba = tbapy.TBA(tbakey)"
   ]
  },
  {
   "cell_type": "code",
   "execution_count": 4,
   "id": "58eef07d",
   "metadata": {},
   "outputs": [],
   "source": [
    "event = '2022on325'"
   ]
  },
  {
   "cell_type": "code",
   "execution_count": 4,
   "id": "7228fbf9",
   "metadata": {},
   "outputs": [
    {
     "name": "stdout",
     "output_type": "stream",
     "text": [
      "Least Taxi Points\n"
     ]
    },
    {
     "data": {
      "text/plain": [
       "{'frc4152': 2,\n",
       " 'frc6864': 4,\n",
       " 'frc2706': 6,\n",
       " 'frc2013': 6,\n",
       " 'frc3543': 8,\n",
       " 'frc6865': 8,\n",
       " 'frc8729': 9,\n",
       " 'frc6859': 9,\n",
       " 'frc4069': 9,\n",
       " 'frc2609': 9,\n",
       " 'frc5672': 9,\n",
       " 'frc1305': 9,\n",
       " 'frc2994': 9,\n",
       " 'frc7757': 9}"
      ]
     },
     "execution_count": 4,
     "metadata": {},
     "output_type": "execute_result"
    }
   ],
   "source": [
    "list1 = []\n",
    "for i in tba.event_matches(event):\n",
    "    if i['comp_level'] == 'qm':\n",
    "        teamb1 = i['alliances']['blue']['team_keys'][0]\n",
    "        teamb2 = i['alliances']['blue']['team_keys'][1]\n",
    "        teamb3 = i['alliances']['blue']['team_keys'][2]\n",
    "        teamr1 = i['alliances']['red']['team_keys'][0]\n",
    "        teamr2 = i['alliances']['red']['team_keys'][1]\n",
    "        teamr3 = i['alliances']['red']['team_keys'][2]\n",
    "        \n",
    "        taxib1 = 1 if i['score_breakdown']['blue']['taxiRobot1'] == 'Yes' else 0\n",
    "        taxib2 = 1 if i['score_breakdown']['blue']['taxiRobot2'] == 'Yes' else 0\n",
    "        taxib3 = 1 if i['score_breakdown']['blue']['taxiRobot3'] == 'Yes' else 0\n",
    "        taxir1 = 1 if i['score_breakdown']['red']['taxiRobot1'] == 'Yes' else 0\n",
    "        taxir2 = 1 if i['score_breakdown']['red']['taxiRobot2'] == 'Yes' else 0\n",
    "        taxir3 = 1 if i['score_breakdown']['red']['taxiRobot3'] == 'Yes' else 0\n",
    "        \n",
    "        dict1 = { teamb1:taxib1\n",
    "            , teamb2:taxib2\n",
    "            , teamb3:taxib3\n",
    "            , teamr1:taxir1\n",
    "            , teamr2:taxir2\n",
    "            , teamr3:taxir3}\n",
    "        list1.append(dict1)\n",
    "counter = collections.Counter()\n",
    "for d in list1:\n",
    "    counter.update(d)\n",
    "\n",
    "res = dict(sorted(counter.items(), key=lambda item: item[1]))\n",
    "\n",
    "print('Least Taxi Points')\n",
    "res"
   ]
  },
  {
   "cell_type": "code",
   "execution_count": 5,
   "id": "fe5c858f",
   "metadata": {
    "scrolled": true
   },
   "outputs": [
    {
     "name": "stdout",
     "output_type": "stream",
     "text": [
      "Most Cargo Scored\n"
     ]
    },
    {
     "data": {
      "text/plain": [
       "{'frc2609': 128,\n",
       " 'frc2013': 128,\n",
       " 'frc3543': 125,\n",
       " 'frc2706': 118,\n",
       " 'frc4152': 117,\n",
       " 'frc1305': 112,\n",
       " 'frc4069': 102,\n",
       " 'frc7757': 98,\n",
       " 'frc8729': 87,\n",
       " 'frc6859': 83,\n",
       " 'frc6865': 83,\n",
       " 'frc5672': 78,\n",
       " 'frc6864': 77,\n",
       " 'frc2994': 74}"
      ]
     },
     "execution_count": 5,
     "metadata": {},
     "output_type": "execute_result"
    }
   ],
   "source": [
    "list1 = []\n",
    "for i in tba.event_matches(event):\n",
    "    if i['comp_level'] == 'qm':\n",
    "        teamb1 = i['alliances']['blue']['team_keys'][0]\n",
    "        teamb2 = i['alliances']['blue']['team_keys'][1]\n",
    "        teamb3 = i['alliances']['blue']['team_keys'][2]\n",
    "        teamr1 = i['alliances']['red']['team_keys'][0]\n",
    "        teamr2 = i['alliances']['red']['team_keys'][1]\n",
    "        teamr3 = i['alliances']['red']['team_keys'][2]\n",
    "        \n",
    "        cargob1 = i['score_breakdown']['blue']['matchCargoTotal']\n",
    "        cargob2 = i['score_breakdown']['blue']['matchCargoTotal']\n",
    "        cargob3 = i['score_breakdown']['blue']['matchCargoTotal']\n",
    "        cargor1 = i['score_breakdown']['red']['matchCargoTotal']\n",
    "        cargor2 = i['score_breakdown']['red']['matchCargoTotal']\n",
    "        cargor3 = i['score_breakdown']['red']['matchCargoTotal']\n",
    "        \n",
    "        dict1 = { teamb1:cargob1\n",
    "                , teamb2:cargob2\n",
    "                , teamb3:cargob3\n",
    "                , teamr1:cargor1\n",
    "                , teamr2:cargor2\n",
    "                , teamr3:cargor3}\n",
    "        list1.append(dict1)\n",
    "counter = collections.Counter()\n",
    "for d in list1:\n",
    "    counter.update(d)\n",
    "\n",
    "res = dict(sorted(counter.items(), key=lambda item: item[1], reverse=True))\n",
    "\n",
    "print('Most Cargo Scored')\n",
    "res"
   ]
  },
  {
   "cell_type": "code",
   "execution_count": 6,
   "id": "dd033990",
   "metadata": {},
   "outputs": [
    {
     "name": "stdout",
     "output_type": "stream",
     "text": [
      "Most Foul Points\n"
     ]
    },
    {
     "data": {
      "text/plain": [
       "{'frc4069': 44,\n",
       " 'frc1305': 44,\n",
       " 'frc2013': 36,\n",
       " 'frc7757': 28,\n",
       " 'frc6864': 20,\n",
       " 'frc2609': 20,\n",
       " 'frc3543': 16,\n",
       " 'frc2706': 16,\n",
       " 'frc6865': 16,\n",
       " 'frc8729': 12,\n",
       " 'frc6859': 12,\n",
       " 'frc5672': 12,\n",
       " 'frc2994': 12,\n",
       " 'frc4152': 0}"
      ]
     },
     "execution_count": 6,
     "metadata": {},
     "output_type": "execute_result"
    }
   ],
   "source": [
    "list1 = []\n",
    "for i in tba.event_matches(event):\n",
    "    if i['comp_level'] == 'qm':\n",
    "        teamb1 = i['alliances']['blue']['team_keys'][0]\n",
    "        teamb2 = i['alliances']['blue']['team_keys'][1]\n",
    "        teamb3 = i['alliances']['blue']['team_keys'][2]\n",
    "        teamr1 = i['alliances']['red']['team_keys'][0]\n",
    "        teamr2 = i['alliances']['red']['team_keys'][1]\n",
    "        teamr3 = i['alliances']['red']['team_keys'][2]\n",
    "        \n",
    "        foulb1 = i['score_breakdown']['blue']['foulPoints']\n",
    "        foulb2 = i['score_breakdown']['blue']['foulPoints']\n",
    "        foulb3 = i['score_breakdown']['blue']['foulPoints']\n",
    "        foulr1 = i['score_breakdown']['red']['foulPoints']\n",
    "        foulr2 = i['score_breakdown']['red']['foulPoints']\n",
    "        foulr3 = i['score_breakdown']['red']['foulPoints']\n",
    "        \n",
    "        dict1 = { teamb1:foulb1\n",
    "                , teamb2:foulb2\n",
    "                , teamb3:foulb3\n",
    "                , teamr1:foulr1\n",
    "                , teamr2:foulr2\n",
    "                , teamr3:foulr3}\n",
    "        list1.append(dict1)\n",
    "counter = collections.Counter()\n",
    "for d in list1:\n",
    "    counter.update(d)\n",
    "\n",
    "res = dict(sorted(counter.items(), key=lambda item: item[1], reverse=True))\n",
    "\n",
    "print('Most Foul Points')\n",
    "res"
   ]
  },
  {
   "cell_type": "code",
   "execution_count": 7,
   "id": "2d98bfca",
   "metadata": {},
   "outputs": [],
   "source": [
    "# list1 = []\n",
    "# for i in tba.event_matches(event):\n",
    "#     if i['comp_level'] == 'qm':\n",
    "#         teamb1 = i['alliances']['blue']['team_keys'][0]\n",
    "#         teamb2 = i['alliances']['blue']['team_keys'][1]\n",
    "#         teamb3 = i['alliances']['blue']['team_keys'][2]\n",
    "#         teamr1 = i['alliances']['red']['team_keys'][0]\n",
    "#         teamr2 = i['alliances']['red']['team_keys'][1]\n",
    "#         teamr3 = i['alliances']['red']['team_keys'][2]\n",
    "        \n",
    "#         endb1 = i['score_breakdown']['blue']['endgamePoints']\n",
    "#         endb2 = i['score_breakdown']['blue']['endgamePoints']\n",
    "#         endb3 = i['score_breakdown']['blue']['endgamePoints']\n",
    "#         endr1 = i['score_breakdown']['red']['endgamePoints']\n",
    "#         endr2 = i['score_breakdown']['red']['endgamePoints']\n",
    "#         endr3 = i['score_breakdown']['red']['endgamePoints']\n",
    "        \n",
    "#         dict1 = { teamb1:endb1\n",
    "#                 , teamb2:endb2\n",
    "#                 , teamb3:endb3\n",
    "#                 , teamr1:endr1\n",
    "#                 , teamr2:endr2\n",
    "#                 , teamr3:endr3}\n",
    "#         list1.append(dict1)\n",
    "# counter = collections.Counter()\n",
    "# for d in list1:\n",
    "#     counter.update(d)\n",
    "\n",
    "# res = dict(sorted(counter.items(), key=lambda item: item[1], reverse=True))\n",
    "\n",
    "# print('Climb Points (Alliance)')\n",
    "# res"
   ]
  },
  {
   "cell_type": "code",
   "execution_count": 8,
   "id": "411c4d20",
   "metadata": {},
   "outputs": [
    {
     "name": "stdout",
     "output_type": "stream",
     "text": [
      "6th Climb Points (Team)\n"
     ]
    },
    {
     "data": {
      "text/plain": [
       "{'frc4069': 105,\n",
       " 'frc2609': 105,\n",
       " 'frc4152': 92,\n",
       " 'frc1305': 67,\n",
       " 'frc2013': 40,\n",
       " 'frc6865': 36,\n",
       " 'frc2706': 34,\n",
       " 'frc7757': 34,\n",
       " 'frc8729': 28,\n",
       " 'frc6859': 26,\n",
       " 'frc6864': 21,\n",
       " 'frc2994': 18,\n",
       " 'frc5672': 14,\n",
       " 'frc3543': 10}"
      ]
     },
     "execution_count": 8,
     "metadata": {},
     "output_type": "execute_result"
    }
   ],
   "source": [
    "def endgame_pts(value):\n",
    "    if value == 'Low': return 4\n",
    "    elif value == 'Mid': return 6\n",
    "    elif value == 'High': return 10\n",
    "    elif value == 'Traversal': return 15\n",
    "    else: return 0\n",
    "\n",
    "list1 = []\n",
    "for i in tba.event_matches(event):\n",
    "    if i['comp_level'] == 'qm':\n",
    "        teamb1 = i['alliances']['blue']['team_keys'][0]\n",
    "        teamb2 = i['alliances']['blue']['team_keys'][1]\n",
    "        teamb3 = i['alliances']['blue']['team_keys'][2]\n",
    "        teamr1 = i['alliances']['red']['team_keys'][0]\n",
    "        teamr2 = i['alliances']['red']['team_keys'][1]\n",
    "        teamr3 = i['alliances']['red']['team_keys'][2]\n",
    "        \n",
    "        endb1 = endgame_pts(i['score_breakdown']['blue']['endgameRobot1'])\n",
    "        endb2 = endgame_pts(i['score_breakdown']['blue']['endgameRobot2'])\n",
    "        endb3 = endgame_pts(i['score_breakdown']['blue']['endgameRobot3'])\n",
    "        endr1 = endgame_pts(i['score_breakdown']['red']['endgameRobot1'])\n",
    "        endr2 = endgame_pts(i['score_breakdown']['red']['endgameRobot2'])\n",
    "        endr3 = endgame_pts(i['score_breakdown']['red']['endgameRobot3'])\n",
    "        \n",
    "        dict1 = { teamb1:endb1\n",
    "                , teamb2:endb2\n",
    "                , teamb3:endb3\n",
    "                , teamr1:endr1\n",
    "                , teamr2:endr2\n",
    "                , teamr3:endr3}\n",
    "        list1.append(dict1)\n",
    "\n",
    "counter = collections.Counter()\n",
    "for d in list1:\n",
    "    counter.update(d)\n",
    "    \n",
    "res = dict(sorted(counter.items(), key=lambda item: item[1], reverse=True))\n",
    "\n",
    "print('6th Climb Points (Team)')\n",
    "res"
   ]
  },
  {
   "cell_type": "code",
   "execution_count": 55,
   "id": "8e59f178",
   "metadata": {},
   "outputs": [
    {
     "name": "stdout",
     "output_type": "stream",
     "text": [
      "Match Points / RP\n"
     ]
    },
    {
     "data": {
      "text/plain": [
       "{'frc7520': 108.66666666666667,\n",
       " 'frc8089': 60.333333333333336,\n",
       " 'frc6331': 44.625,\n",
       " 'frc771': 33.81818181818182,\n",
       " 'frc610': 33.666666666666664,\n",
       " 'frc8729': 33.45454545454545,\n",
       " 'frc6323': 32.166666666666664,\n",
       " 'frc3683': 27.85,\n",
       " 'frc8789': 27.5,\n",
       " 'frc4903': 27.105263157894736,\n",
       " 'frc4069': 26.4375,\n",
       " 'frc5024': 26.375,\n",
       " 'frc2609': 26.25,\n",
       " 'frc1325': 26.176470588235293,\n",
       " 'frc2386': 25.5625,\n",
       " 'frc6162': 25.142857142857142,\n",
       " 'frc4476': 24.846153846153847,\n",
       " 'frc4678': 23.428571428571427}"
      ]
     },
     "execution_count": 55,
     "metadata": {},
     "output_type": "execute_result"
    }
   ],
   "source": [
    "list1 = []\n",
    "list2 = []\n",
    "for i in tba.event_matches(event):\n",
    "    if i['comp_level'] == 'qm':\n",
    "        teamb1 = i['alliances']['blue']['team_keys'][0]\n",
    "        teamb2 = i['alliances']['blue']['team_keys'][1]\n",
    "        teamb3 = i['alliances']['blue']['team_keys'][2]\n",
    "        teamr1 = i['alliances']['red']['team_keys'][0]\n",
    "        teamr2 = i['alliances']['red']['team_keys'][1]\n",
    "        teamr3 = i['alliances']['red']['team_keys'][2]\n",
    "        \n",
    "        ptb1 = i['score_breakdown']['blue']['totalPoints']\n",
    "        ptb2 = i['score_breakdown']['blue']['totalPoints']\n",
    "        ptb3 = i['score_breakdown']['blue']['totalPoints']\n",
    "        ptr1 = i['score_breakdown']['red']['totalPoints']\n",
    "        ptr2 = i['score_breakdown']['red']['totalPoints']\n",
    "        ptr3 = i['score_breakdown']['red']['totalPoints']\n",
    "        \n",
    "        rpb1 = i['score_breakdown']['blue']['rp']\n",
    "        rpb2 = i['score_breakdown']['blue']['rp']\n",
    "        rpb3 = i['score_breakdown']['blue']['rp']\n",
    "        rpr1 = i['score_breakdown']['red']['rp']\n",
    "        rpr2 = i['score_breakdown']['red']['rp']\n",
    "        rpr3 = i['score_breakdown']['red']['rp']\n",
    "        \n",
    "        dict1 = { teamb1:ptb1\n",
    "                , teamb2:ptb2\n",
    "                , teamb3:ptb3\n",
    "                , teamr1:ptr1\n",
    "                , teamr2:ptr2\n",
    "                , teamr3:ptr3}\n",
    "        \n",
    "        dict2 = { teamb1:rpb1\n",
    "                , teamb2:rpb2\n",
    "                , teamb3:rpb3\n",
    "                , teamr1:rpr1\n",
    "                , teamr2:rpr2\n",
    "                , teamr3:rpr3}\n",
    "        \n",
    "        list1.append(dict1)\n",
    "        list2.append(dict2)\n",
    "        \n",
    "counter1 = collections.Counter()\n",
    "for d in list1:\n",
    "    counter1.update(d)\n",
    "    \n",
    "counter2 = collections.Counter()\n",
    "for d in list2:\n",
    "    counter2.update(d)\n",
    "\n",
    "res1 = dict(sorted(counter1.items(), key=lambda item: item[1], reverse=True))\n",
    "res2 = dict(sorted(counter2.items(), key=lambda item: item[1], reverse=True))\n",
    "\n",
    "div = {k: float(res1[k])/float(res2[k]) for k in res1.keys() & res2}\n",
    "    \n",
    "res = dict(sorted(div.items(), key=lambda item: item[1], reverse=True))    \n",
    "\n",
    "print('Match Points / RP') #based on the amount of votes, you pick the ranking\n",
    "res"
   ]
  },
  {
   "cell_type": "code",
   "execution_count": 54,
   "id": "d0f4afee",
   "metadata": {},
   "outputs": [
    {
     "name": "stdout",
     "output_type": "stream",
     "text": [
      "Total Points (closest to avg)\n",
      "49.11111111111112\n"
     ]
    },
    {
     "data": {
      "text/plain": [
       "{'frc1325': 0.3333333333333215,\n",
       " 'frc4069': 2.1111111111111214,\n",
       " 'frc5024': 2.2222222222222356,\n",
       " 'frc2386': 3.6666666666666785,\n",
       " 'frc6323': 6.222222222222236,\n",
       " 'frc610': 6.999999999999993,\n",
       " 'frc771': 7.777777777777786,\n",
       " 'frc4903': 8.1111111111111,\n",
       " 'frc8729': 8.222222222222236,\n",
       " 'frc8089': 8.8888888888889,\n",
       " 'frc2609': 9.222222222222214,\n",
       " 'frc6331': 9.444444444444457,\n",
       " 'frc6162': 10.000000000000007,\n",
       " 'frc8789': 12.444444444444457,\n",
       " 'frc3683': 12.777777777777764,\n",
       " 'frc7520': 12.8888888888889,\n",
       " 'frc4476': 22.66666666666665,\n",
       " 'frc4678': 23.777777777777764}"
      ]
     },
     "execution_count": 54,
     "metadata": {},
     "output_type": "execute_result"
    }
   ],
   "source": [
    "list1 = []\n",
    "list2 = []\n",
    "for i in tba.event_matches(event):\n",
    "    if i['comp_level'] == 'qm':\n",
    "        teamb1 = i['alliances']['blue']['team_keys'][0]\n",
    "        teamb2 = i['alliances']['blue']['team_keys'][1]\n",
    "        teamb3 = i['alliances']['blue']['team_keys'][2]\n",
    "        teamr1 = i['alliances']['red']['team_keys'][0]\n",
    "        teamr2 = i['alliances']['red']['team_keys'][1]\n",
    "        teamr3 = i['alliances']['red']['team_keys'][2]\n",
    "        \n",
    "        ptb1 = i['score_breakdown']['blue']['totalPoints']\n",
    "        ptb2 = i['score_breakdown']['blue']['totalPoints']\n",
    "        ptb3 = i['score_breakdown']['blue']['totalPoints']\n",
    "        ptr1 = i['score_breakdown']['red']['totalPoints']\n",
    "        ptr2 = i['score_breakdown']['red']['totalPoints']\n",
    "        ptr3 = i['score_breakdown']['red']['totalPoints']\n",
    "        \n",
    "        dict1 = { teamb1:ptb1\n",
    "                , teamb2:ptb2\n",
    "                , teamb3:ptb3\n",
    "                , teamr1:ptr1\n",
    "                , teamr2:ptr2\n",
    "                , teamr3:ptr3}\n",
    "        \n",
    "        dict2 = { teamb1:1\n",
    "                , teamb2:1\n",
    "                , teamb3:1\n",
    "                , teamr1:1\n",
    "                , teamr2:1\n",
    "                , teamr3:1}\n",
    "            \n",
    "        list1.append(dict1)\n",
    "        list2.append(dict2)\n",
    "        \n",
    "counter1 = collections.Counter()\n",
    "for d in list1:\n",
    "    counter1.update(d)\n",
    "    \n",
    "counter2 = collections.Counter()\n",
    "for d in list2:\n",
    "    counter2.update(d)\n",
    "        \n",
    "res1 = dict(sorted(counter1.items(), key=lambda item: item[1], reverse=True))\n",
    "res2 = dict(sorted(counter2.items(), key=lambda item: item[1], reverse=True))\n",
    "\n",
    "div = {k: float(res1[k])/float(res2[k]) for k in res1.keys() & res2}      \n",
    "avg = sum(div.values())/len(div.keys())\n",
    "sub = {k: abs(v - avg) for k, v in div.items()}\n",
    "\n",
    "\n",
    "print('Total Points (closest to avg)')\n",
    "print(avg)\n",
    "\n",
    "res = dict(sorted(sub.items(), key=lambda item: item[1]))\n",
    "res\n",
    "\n"
   ]
  },
  {
   "cell_type": "code",
   "execution_count": 11,
   "id": "6b65c667",
   "metadata": {
    "scrolled": true
   },
   "outputs": [
    {
     "name": "stdout",
     "output_type": "stream",
     "text": [
      "Total Low Points\n"
     ]
    },
    {
     "data": {
      "text/plain": [
       "{'frc2013': 94,\n",
       " 'frc3543': 86,\n",
       " 'frc4152': 63,\n",
       " 'frc6864': 52,\n",
       " 'frc6865': 51,\n",
       " 'frc2706': 47,\n",
       " 'frc4069': 46,\n",
       " 'frc1305': 44,\n",
       " 'frc2994': 42,\n",
       " 'frc8729': 39,\n",
       " 'frc7757': 39,\n",
       " 'frc5672': 37,\n",
       " 'frc2609': 36,\n",
       " 'frc6859': 35}"
      ]
     },
     "execution_count": 11,
     "metadata": {},
     "output_type": "execute_result"
    }
   ],
   "source": [
    "def lowcargo_pts(a):\n",
    "    return 2*(a['autoCargoLowerBlue'] + a['autoCargoLowerFar'] \\\n",
    "              + a['autoCargoLowerNear'] + a['autoCargoLowerRed']\\\n",
    "             ) \\\n",
    "            + a['teleopCargoLowerBlue'] + a['teleopCargoLowerFar'] \\\n",
    "            + a['teleopCargoLowerNear'] + a['teleopCargoLowerRed']\n",
    "\n",
    "list1 = []\n",
    "for i in tba.event_matches(event):\n",
    "    if i['comp_level'] == 'qm':\n",
    "        teamb1 = i['alliances']['blue']['team_keys'][0]\n",
    "        teamb2 = i['alliances']['blue']['team_keys'][1]\n",
    "        teamb3 = i['alliances']['blue']['team_keys'][2]\n",
    "        teamr1 = i['alliances']['red']['team_keys'][0]\n",
    "        teamr2 = i['alliances']['red']['team_keys'][1]\n",
    "        teamr3 = i['alliances']['red']['team_keys'][2]\n",
    "        \n",
    "        lowb1 = lowcargo_pts(i['score_breakdown']['blue'])\n",
    "        lowb2 = lowcargo_pts(i['score_breakdown']['blue'])\n",
    "        lowb3 = lowcargo_pts(i['score_breakdown']['blue'])\n",
    "        lowr1 = lowcargo_pts(i['score_breakdown']['red'])\n",
    "        lowr2 = lowcargo_pts(i['score_breakdown']['red'])\n",
    "        lowr3 = lowcargo_pts(i['score_breakdown']['red'])\n",
    "        \n",
    "        dict1 = { teamb1:lowb1\n",
    "                , teamb2:lowb2\n",
    "                , teamb3:lowb3\n",
    "                , teamr1:lowr1\n",
    "                , teamr2:lowr2\n",
    "                , teamr3:lowr3}\n",
    "        list1.append(dict1)\n",
    "counter = collections.Counter()\n",
    "for d in list1:\n",
    "    counter.update(d)\n",
    "\n",
    "res = dict(sorted(counter.items(), key=lambda item: item[1], reverse=True))\n",
    "\n",
    "print('Total Low Points')\n",
    "res"
   ]
  },
  {
   "cell_type": "code",
   "execution_count": 35,
   "id": "c6193f7a",
   "metadata": {},
   "outputs": [
    {
     "name": "stdout",
     "output_type": "stream",
     "text": [
      "Losers in Highest Scored Match\n",
      "['frc8729', 'frc7520', 'frc1325']\n"
     ]
    }
   ],
   "source": [
    "print('Losers in Highest Scored Match')\n",
    "for i in tba.event_matches(event):\n",
    "    if i['key'] == tba.event_insights(event)['qual']['high_score'][1]:\n",
    "        if i['winning_alliance'] == 'blue':\n",
    "            print(i['alliances']['red']['team_keys'])\n",
    "        else:\n",
    "            print(i['alliances']['blue']['team_keys'])"
   ]
  },
  {
   "cell_type": "code",
   "execution_count": 60,
   "id": "21a3bac1",
   "metadata": {},
   "outputs": [
    {
     "name": "stdout",
     "output_type": "stream",
     "text": [
      "First Pick\n",
      "frc4476\n"
     ]
    }
   ],
   "source": [
    "print('First Pick')\n",
    "print(tba.event_alliances(event)[0]['picks'][1])"
   ]
  },
  {
   "cell_type": "code",
   "execution_count": null,
   "id": "7f6ffb3c",
   "metadata": {},
   "outputs": [],
   "source": []
  },
  {
   "cell_type": "code",
   "execution_count": 21,
   "id": "9477cf18",
   "metadata": {},
   "outputs": [
    {
     "name": "stdout",
     "output_type": "stream",
     "text": [
      "Quals Cargo RP %\n"
     ]
    },
    {
     "data": {
      "text/plain": [
       "[14, 54, 25.925925925925927]"
      ]
     },
     "execution_count": 21,
     "metadata": {},
     "output_type": "execute_result"
    }
   ],
   "source": [
    "print('Quals Cargo RP %')\n",
    "tba.event_insights(event)['qual']['cargo_bonus_rp']"
   ]
  },
  {
   "cell_type": "code",
   "execution_count": 26,
   "id": "cb4ba48c",
   "metadata": {},
   "outputs": [
    {
     "name": "stdout",
     "output_type": "stream",
     "text": [
      "Quals High Score\n"
     ]
    },
    {
     "data": {
      "text/plain": [
       "'2022on325_qm6'"
      ]
     },
     "execution_count": 26,
     "metadata": {},
     "output_type": "execute_result"
    }
   ],
   "source": [
    "print('Quals High Score')\n",
    "tba.event_insights(event)['qual']['high_score']"
   ]
  },
  {
   "cell_type": "code",
   "execution_count": 15,
   "id": "305c8c40",
   "metadata": {},
   "outputs": [
    {
     "name": "stdout",
     "output_type": "stream",
     "text": [
      "15th OPR\n"
     ]
    },
    {
     "data": {
      "text/plain": [
       "('frc6162', 4.99976762036397)"
      ]
     },
     "execution_count": 15,
     "metadata": {},
     "output_type": "execute_result"
    }
   ],
   "source": [
    "dict1 = tba.event_oprs(event)['oprs']\n",
    "\n",
    "counter = collections.Counter()\n",
    "\n",
    "counter.update(dict1)\n",
    "\n",
    "res = sorted(counter.items(), key=lambda item: item[1], reverse=True)[14]\n",
    "print('15th OPR')\n",
    "res"
   ]
  }
 ],
 "metadata": {
  "kernelspec": {
   "display_name": "Python 3 (ipykernel)",
   "language": "python",
   "name": "python3"
  },
  "language_info": {
   "codemirror_mode": {
    "name": "ipython",
    "version": 3
   },
   "file_extension": ".py",
   "mimetype": "text/x-python",
   "name": "python",
   "nbconvert_exporter": "python",
   "pygments_lexer": "ipython3",
   "version": "3.8.5"
  }
 },
 "nbformat": 4,
 "nbformat_minor": 5
}
